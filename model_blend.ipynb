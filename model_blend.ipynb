{
 "cells": [
  {
   "cell_type": "markdown",
   "metadata": {},
   "source": [
    "https://www.kaggle.com/paulorzp/gmean-of-light-gbm-models-lb-0-95x"
   ]
  },
  {
   "cell_type": "code",
   "execution_count": 1,
   "metadata": {},
   "outputs": [],
   "source": [
    "# import packages\n",
    "import numpy as np\n",
    "import pandas as pd\n",
    "import matplotlib.pyplot as plt\n",
    "import featuretools as ft\n",
    "import lightgbm as lgb\n",
    "import seaborn as sns\n",
    "from sklearn.model_selection import GridSearchCV\n",
    "from sklearn.model_selection import KFold\n",
    "from sklearn.metrics import roc_auc_score\n",
    "\n",
    "%matplotlib inline\n",
    "RSEED = 50"
   ]
  },
  {
   "cell_type": "code",
   "execution_count": 4,
   "metadata": {},
   "outputs": [],
   "source": [
    "all_files = ['./data/sub_feat457_modelselect.csv',\n",
    "             './data/sub_feat454_rmcardid_modelselect.csv',\n",
    "            './data/sub_feat448_modelselect.csv',\n",
    "            './data/sub_feat469_rm1_modelselect.csv',\n",
    "            './data/sub_feat476_modelselect.csv']"
   ]
  },
  {
   "cell_type": "code",
   "execution_count": 5,
   "metadata": {},
   "outputs": [],
   "source": [
    "outs = [pd.read_csv(all_files[f], index_col=0) for f in range(0,len(all_files))]\n",
    "all_sub = pd.concat(outs, axis=1)\n",
    "cols = list(map(lambda x: \"sub\" + str(x), range(len(all_sub.columns))))\n",
    "all_sub.columns = cols\n",
    "all_sub.reset_index(inplace=True)"
   ]
  },
  {
   "cell_type": "code",
   "execution_count": 6,
   "metadata": {},
   "outputs": [
    {
     "data": {
      "text/html": [
       "<div>\n",
       "<style scoped>\n",
       "    .dataframe tbody tr th:only-of-type {\n",
       "        vertical-align: middle;\n",
       "    }\n",
       "\n",
       "    .dataframe tbody tr th {\n",
       "        vertical-align: top;\n",
       "    }\n",
       "\n",
       "    .dataframe thead th {\n",
       "        text-align: right;\n",
       "    }\n",
       "</style>\n",
       "<table border=\"1\" class=\"dataframe\">\n",
       "  <thead>\n",
       "    <tr style=\"text-align: right;\">\n",
       "      <th></th>\n",
       "      <th>TransactionID</th>\n",
       "      <th>sub0</th>\n",
       "      <th>sub1</th>\n",
       "      <th>sub2</th>\n",
       "      <th>sub3</th>\n",
       "      <th>sub4</th>\n",
       "    </tr>\n",
       "  </thead>\n",
       "  <tbody>\n",
       "    <tr>\n",
       "      <th>0</th>\n",
       "      <td>3663549</td>\n",
       "      <td>0.001578</td>\n",
       "      <td>0.000918</td>\n",
       "      <td>0.000366</td>\n",
       "      <td>0.001202</td>\n",
       "      <td>0.002719</td>\n",
       "    </tr>\n",
       "    <tr>\n",
       "      <th>1</th>\n",
       "      <td>3663550</td>\n",
       "      <td>0.000631</td>\n",
       "      <td>0.001581</td>\n",
       "      <td>0.001019</td>\n",
       "      <td>0.000588</td>\n",
       "      <td>0.001117</td>\n",
       "    </tr>\n",
       "    <tr>\n",
       "      <th>2</th>\n",
       "      <td>3663551</td>\n",
       "      <td>0.001217</td>\n",
       "      <td>0.001058</td>\n",
       "      <td>0.000492</td>\n",
       "      <td>0.000967</td>\n",
       "      <td>0.002041</td>\n",
       "    </tr>\n",
       "    <tr>\n",
       "      <th>3</th>\n",
       "      <td>3663552</td>\n",
       "      <td>0.001046</td>\n",
       "      <td>0.000984</td>\n",
       "      <td>0.000427</td>\n",
       "      <td>0.001072</td>\n",
       "      <td>0.002194</td>\n",
       "    </tr>\n",
       "    <tr>\n",
       "      <th>4</th>\n",
       "      <td>3663553</td>\n",
       "      <td>0.000626</td>\n",
       "      <td>0.001002</td>\n",
       "      <td>0.000398</td>\n",
       "      <td>0.000376</td>\n",
       "      <td>0.000856</td>\n",
       "    </tr>\n",
       "  </tbody>\n",
       "</table>\n",
       "</div>"
      ],
      "text/plain": [
       "   TransactionID      sub0      sub1      sub2      sub3      sub4\n",
       "0        3663549  0.001578  0.000918  0.000366  0.001202  0.002719\n",
       "1        3663550  0.000631  0.001581  0.001019  0.000588  0.001117\n",
       "2        3663551  0.001217  0.001058  0.000492  0.000967  0.002041\n",
       "3        3663552  0.001046  0.000984  0.000427  0.001072  0.002194\n",
       "4        3663553  0.000626  0.001002  0.000398  0.000376  0.000856"
      ]
     },
     "execution_count": 6,
     "metadata": {},
     "output_type": "execute_result"
    }
   ],
   "source": [
    "all_sub.head()"
   ]
  },
  {
   "cell_type": "code",
   "execution_count": 7,
   "metadata": {},
   "outputs": [],
   "source": [
    "# calculate correlation of submissions\n",
    "corr = all_sub.iloc[:,1:].corr()"
   ]
  },
  {
   "cell_type": "code",
   "execution_count": 8,
   "metadata": {},
   "outputs": [
    {
     "data": {
      "text/plain": [
       "<matplotlib.axes._subplots.AxesSubplot at 0x7f6f450a6a20>"
      ]
     },
     "execution_count": 8,
     "metadata": {},
     "output_type": "execute_result"
    },
    {
     "data": {
      "image/png": "[encoded data removed]",
      "text/plain": [
       "<Figure size 432x288 with 2 Axes>"
      ]
     },
     "metadata": {},
     "output_type": "display_data"
    }
   ],
   "source": [
    "sns.heatmap(corr,cmap='prism',center=0, linewidths=1,\n",
    "            annot=True,fmt='.4f', cbar_kws={\"shrink\":.5})"
   ]
  },
  {
   "cell_type": "markdown",
   "metadata": {},
   "source": [
    "# Weighted GMEAN by inverse correlation"
   ]
  },
  {
   "cell_type": "code",
   "execution_count": 9,
   "metadata": {},
   "outputs": [
    {
     "data": {
      "text/plain": [
       "array([[1.        , 1.        , 1.        , 1.        , 1.        ],\n",
       "       [0.98879574, 1.        , 1.        , 1.        , 1.        ],\n",
       "       [0.98506865, 0.99680381, 1.        , 1.        , 1.        ],\n",
       "       [0.9990538 , 0.98828896, 0.9841923 , 1.        , 1.        ],\n",
       "       [0.99901533, 0.98850658, 0.98423407, 0.99933737, 1.        ]])"
      ]
     },
     "execution_count": 9,
     "metadata": {},
     "output_type": "execute_result"
    }
   ],
   "source": [
    "corr_rank = np.tril(all_sub.iloc[:,1:].corr().values,0)+np.triu(np.ones(corr.shape),1)\n",
    "corr_rank"
   ]
  },
  {
   "cell_type": "code",
   "execution_count": 10,
   "metadata": {},
   "outputs": [
    {
     "data": {
      "text/plain": [
       "6"
      ]
     },
     "execution_count": 10,
     "metadata": {},
     "output_type": "execute_result"
    }
   ],
   "source": [
    "# calculate how many times of blend is needed\n",
    "blend_times = (corr_rank>0).sum() - (corr_rank>0.99).sum()\n",
    "blend_times"
   ]
  },
  {
   "cell_type": "code",
   "execution_count": 11,
   "metadata": {},
   "outputs": [],
   "source": [
    "m_gmean, weight_sum = 0, 0"
   ]
  },
  {
   "cell_type": "code",
   "execution_count": 12,
   "metadata": {},
   "outputs": [
    {
     "name": "stdout",
     "output_type": "stream",
     "text": [
      "0 round with current minimual index(3, 2)\n",
      "0   -7.318984\n",
      "1   -7.164062\n",
      "2   -7.278531\n",
      "3   -7.298228\n",
      "4   -7.857806\n",
      "dtype: float64\n",
      "current weight:1.0, total weight:1.0\n",
      "[[1.         1.         1.         1.         1.        ]\n",
      " [0.98879574 1.         1.         1.         1.        ]\n",
      " [0.98506865 0.99680381 1.         1.         1.        ]\n",
      " [0.9990538  0.98828896 1.         1.         1.        ]\n",
      " [0.99901533 0.98850658 0.98423407 0.99933737 1.        ]]\n",
      "1 round with current minimual index(4, 2)\n",
      "0   -13.077957\n",
      "1   -12.866738\n",
      "2   -13.032938\n",
      "3   -13.081793\n",
      "4   -14.063293\n",
      "dtype: float64\n",
      "current weight:0.8333333333333334, total weight:1.8333333333333335\n",
      "[[1.         1.         1.         1.         1.        ]\n",
      " [0.98879574 1.         1.         1.         1.        ]\n",
      " [0.98506865 0.99680381 1.         1.         1.        ]\n",
      " [0.9990538  0.98828896 1.         1.         1.        ]\n",
      " [0.99901533 0.98850658 1.         0.99933737 1.        ]]\n",
      "2 round with current minimual index(2, 0)\n",
      "0   -17.866410\n",
      "1   -17.619023\n",
      "2   -17.808786\n",
      "3   -17.955363\n",
      "4   -19.132125\n",
      "dtype: float64\n",
      "current weight:0.6666666666666666, total weight:2.5\n",
      "[[1.         1.         1.         1.         1.        ]\n",
      " [0.98879574 1.         1.         1.         1.        ]\n",
      " [1.         0.99680381 1.         1.         1.        ]\n",
      " [0.9990538  0.98828896 1.         1.         1.        ]\n",
      " [0.99901533 0.98850658 1.         0.99933737 1.        ]]\n",
      "3 round with current minimual index(3, 1)\n",
      "0   -21.295693\n",
      "1   -21.091078\n",
      "2   -21.256787\n",
      "3   -21.395857\n",
      "4   -22.830087\n",
      "dtype: float64\n",
      "current weight:0.5, total weight:3.0\n",
      "[[1.         1.         1.         1.         1.        ]\n",
      " [0.98879574 1.         1.         1.         1.        ]\n",
      " [1.         0.99680381 1.         1.         1.        ]\n",
      " [0.9990538  1.         1.         1.         1.        ]\n",
      " [0.99901533 0.98850658 1.         0.99933737 1.        ]]\n",
      "4 round with current minimual index(4, 1)\n",
      "0   -23.445809\n",
      "1   -23.298831\n",
      "2   -23.431041\n",
      "3   -23.570204\n",
      "4   -25.158321\n",
      "dtype: float64\n",
      "current weight:0.3333333333333333, total weight:3.3333333333333335\n",
      "[[1.         1.         1.         1.         1.        ]\n",
      " [0.98879574 1.         1.         1.         1.        ]\n",
      " [1.         0.99680381 1.         1.         1.        ]\n",
      " [0.9990538  1.         1.         1.         1.        ]\n",
      " [0.99901533 1.         1.         0.99933737 1.        ]]\n",
      "5 round with current minimual index(1, 0)\n",
      "0   -24.566186\n",
      "1   -24.450244\n",
      "2   -24.561248\n",
      "3   -24.719057\n",
      "4   -26.348549\n",
      "dtype: float64\n",
      "current weight:0.16666666666666666, total weight:3.5\n",
      "[[1.         1.         1.         1.         1.        ]\n",
      " [1.         1.         1.         1.         1.        ]\n",
      " [1.         0.99680381 1.         1.         1.        ]\n",
      " [0.9990538  1.         1.         1.         1.        ]\n",
      " [0.99901533 1.         1.         0.99933737 1.        ]]\n"
     ]
    }
   ],
   "source": [
    "# https://en.wikipedia.org/wiki/Weighted_geometric_mean\n",
    "for i in range(blend_times):\n",
    "    min_corr_indexs = np.unravel_index(corr_rank.argmin(), corr_rank.shape)\n",
    "    print('%s round with current minimual index%s'%(i,min_corr_indexs))\n",
    "    # weight decay with higher correlations\n",
    "    weight = (blend_times-i)/blend_times\n",
    "    m_gmean += weight*(np.log(all_sub.iloc[:,min_corr_indexs[0]+1])+np.log(all_sub.iloc[:,min_corr_indexs[1]+1]))/2\n",
    "    print(m_gmean.head())\n",
    "    weight_sum += weight\n",
    "    print('current weight:%s, total weight:%s'%(weight,weight_sum))\n",
    "    corr_rank[min_corr_indexs] = 1\n",
    "    print(corr_rank)"
   ]
  },
  {
   "cell_type": "code",
   "execution_count": 13,
   "metadata": {},
   "outputs": [
    {
     "data": {
      "text/plain": [
       "0    0.000895\n",
       "1    0.000925\n",
       "2    0.000896\n",
       "3    0.000857\n",
       "4    0.000538\n",
       "dtype: float64"
      ]
     },
     "execution_count": 13,
     "metadata": {},
     "output_type": "execute_result"
    }
   ],
   "source": [
    "m_gmean = np.exp(m_gmean/weight_sum)\n",
    "m_gmean.head()"
   ]
  },
  {
   "cell_type": "code",
   "execution_count": 14,
   "metadata": {},
   "outputs": [
    {
     "data": {
      "text/plain": [
       "0    0.000689\n",
       "1    0.000716\n",
       "2    0.000691\n",
       "3    0.000655\n",
       "4    0.000371\n",
       "dtype: float64"
      ]
     },
     "execution_count": 14,
     "metadata": {},
     "output_type": "execute_result"
    }
   ],
   "source": [
    "m_gmean = (m_gmean-m_gmean.min())/(m_gmean.max()-m_gmean.min())\n",
    "m_gmean.head()"
   ]
  },
  {
   "cell_type": "code",
   "execution_count": 15,
   "metadata": {},
   "outputs": [
    {
     "data": {
      "text/html": [
       "<div>\n",
       "<style scoped>\n",
       "    .dataframe tbody tr th:only-of-type {\n",
       "        vertical-align: middle;\n",
       "    }\n",
       "\n",
       "    .dataframe tbody tr th {\n",
       "        vertical-align: top;\n",
       "    }\n",
       "\n",
       "    .dataframe thead th {\n",
       "        text-align: right;\n",
       "    }\n",
       "</style>\n",
       "<table border=\"1\" class=\"dataframe\">\n",
       "  <thead>\n",
       "    <tr style=\"text-align: right;\">\n",
       "      <th></th>\n",
       "      <th>TransactionID</th>\n",
       "      <th>sub0</th>\n",
       "      <th>sub1</th>\n",
       "      <th>sub2</th>\n",
       "      <th>sub3</th>\n",
       "      <th>sub4</th>\n",
       "      <th>isFraud</th>\n",
       "    </tr>\n",
       "  </thead>\n",
       "  <tbody>\n",
       "    <tr>\n",
       "      <th>506686</th>\n",
       "      <td>4170235</td>\n",
       "      <td>0.005848</td>\n",
       "      <td>0.007015</td>\n",
       "      <td>0.002817</td>\n",
       "      <td>0.005570</td>\n",
       "      <td>0.010515</td>\n",
       "      <td>0.004395</td>\n",
       "    </tr>\n",
       "    <tr>\n",
       "      <th>506687</th>\n",
       "      <td>4170236</td>\n",
       "      <td>0.002687</td>\n",
       "      <td>0.004152</td>\n",
       "      <td>0.002658</td>\n",
       "      <td>0.002492</td>\n",
       "      <td>0.005402</td>\n",
       "      <td>0.002701</td>\n",
       "    </tr>\n",
       "    <tr>\n",
       "      <th>506688</th>\n",
       "      <td>4170237</td>\n",
       "      <td>0.002786</td>\n",
       "      <td>0.005243</td>\n",
       "      <td>0.003182</td>\n",
       "      <td>0.002671</td>\n",
       "      <td>0.006003</td>\n",
       "      <td>0.003106</td>\n",
       "    </tr>\n",
       "    <tr>\n",
       "      <th>506689</th>\n",
       "      <td>4170238</td>\n",
       "      <td>0.002308</td>\n",
       "      <td>0.002355</td>\n",
       "      <td>0.001059</td>\n",
       "      <td>0.002249</td>\n",
       "      <td>0.004420</td>\n",
       "      <td>0.001624</td>\n",
       "    </tr>\n",
       "    <tr>\n",
       "      <th>506690</th>\n",
       "      <td>4170239</td>\n",
       "      <td>0.003451</td>\n",
       "      <td>0.003530</td>\n",
       "      <td>0.002144</td>\n",
       "      <td>0.004425</td>\n",
       "      <td>0.008817</td>\n",
       "      <td>0.003106</td>\n",
       "    </tr>\n",
       "  </tbody>\n",
       "</table>\n",
       "</div>"
      ],
      "text/plain": [
       "        TransactionID      sub0      sub1      sub2      sub3      sub4  \\\n",
       "506686        4170235  0.005848  0.007015  0.002817  0.005570  0.010515   \n",
       "506687        4170236  0.002687  0.004152  0.002658  0.002492  0.005402   \n",
       "506688        4170237  0.002786  0.005243  0.003182  0.002671  0.006003   \n",
       "506689        4170238  0.002308  0.002355  0.001059  0.002249  0.004420   \n",
       "506690        4170239  0.003451  0.003530  0.002144  0.004425  0.008817   \n",
       "\n",
       "         isFraud  \n",
       "506686  0.004395  \n",
       "506687  0.002701  \n",
       "506688  0.003106  \n",
       "506689  0.001624  \n",
       "506690  0.003106  "
      ]
     },
     "execution_count": 15,
     "metadata": {},
     "output_type": "execute_result"
    }
   ],
   "source": [
    "all_sub['isFraud'] = m_gmean\n",
    "all_sub.tail()"
   ]
  },
  {
   "cell_type": "code",
   "execution_count": 16,
   "metadata": {},
   "outputs": [],
   "source": [
    "all_sub[['TransactionID','isFraud']].to_csv('./data/sub_5stack_gmean.csv',index=False)"
   ]
  }
 ],
 "metadata": {
  "kernelspec": {
   "display_name": "Python 3",
   "language": "python",
   "name": "python3"
  },
  "language_info": {
   "codemirror_mode": {
    "name": "ipython",
    "version": 3
   },
   "file_extension": ".py",
   "mimetype": "text/x-python",
   "name": "python",
   "nbconvert_exporter": "python",
   "pygments_lexer": "ipython3",
   "version": "3.6.5"
  }
 },
 "nbformat": 4,
 "nbformat_minor": 2
}
