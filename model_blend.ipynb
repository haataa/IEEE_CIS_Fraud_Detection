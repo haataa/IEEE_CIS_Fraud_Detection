{
 "cells": [
  {
   "cell_type": "code",
   "execution_count": 2,
   "metadata": {},
   "outputs": [],
   "source": [
    "# import packages\n",
    "import numpy as np\n",
    "import pandas as pd\n",
    "import matplotlib.pyplot as plt\n",
    "import featuretools as ft\n",
    "import lightgbm as lgb\n",
    "import seaborn as sns\n",
    "from sklearn.model_selection import GridSearchCV\n",
    "from sklearn.model_selection import KFold\n",
    "from sklearn.metrics import roc_auc_score\n",
    "\n",
    "%matplotlib inline\n",
    "RSEED = 50"
   ]
  },
  {
   "cell_type": "code",
   "execution_count": 69,
   "metadata": {},
   "outputs": [],
   "source": [
    "all_files = ['./data/sub_feat457_modelselect.csv',\n",
    "             './data/sub_feat454_rmcardid_modelselect.csv',\n",
    "            './data/sub_feat448_modelselect.csv']"
   ]
  },
  {
   "cell_type": "code",
   "execution_count": 113,
   "metadata": {},
   "outputs": [],
   "source": [
    "outs = [pd.read_csv(all_files[f], index_col=0) for f in range(0,len(all_files))]\n",
    "all_sub = pd.concat(outs, axis=1)\n",
    "cols = list(map(lambda x: \"sub\" + str(x), range(len(all_sub.columns))))\n",
    "all_sub.columns = cols\n",
    "all_sub.reset_index(inplace=True)"
   ]
  },
  {
   "cell_type": "code",
   "execution_count": 114,
   "metadata": {},
   "outputs": [
    {
     "data": {
      "text/html": [
       "<div>\n",
       "<style scoped>\n",
       "    .dataframe tbody tr th:only-of-type {\n",
       "        vertical-align: middle;\n",
       "    }\n",
       "\n",
       "    .dataframe tbody tr th {\n",
       "        vertical-align: top;\n",
       "    }\n",
       "\n",
       "    .dataframe thead th {\n",
       "        text-align: right;\n",
       "    }\n",
       "</style>\n",
       "<table border=\"1\" class=\"dataframe\">\n",
       "  <thead>\n",
       "    <tr style=\"text-align: right;\">\n",
       "      <th></th>\n",
       "      <th>TransactionID</th>\n",
       "      <th>sub0</th>\n",
       "      <th>sub1</th>\n",
       "      <th>sub2</th>\n",
       "    </tr>\n",
       "  </thead>\n",
       "  <tbody>\n",
       "    <tr>\n",
       "      <th>0</th>\n",
       "      <td>3663549</td>\n",
       "      <td>0.001578</td>\n",
       "      <td>0.000918</td>\n",
       "      <td>0.000366</td>\n",
       "    </tr>\n",
       "    <tr>\n",
       "      <th>1</th>\n",
       "      <td>3663550</td>\n",
       "      <td>0.000631</td>\n",
       "      <td>0.001581</td>\n",
       "      <td>0.001019</td>\n",
       "    </tr>\n",
       "    <tr>\n",
       "      <th>2</th>\n",
       "      <td>3663551</td>\n",
       "      <td>0.001217</td>\n",
       "      <td>0.001058</td>\n",
       "      <td>0.000492</td>\n",
       "    </tr>\n",
       "    <tr>\n",
       "      <th>3</th>\n",
       "      <td>3663552</td>\n",
       "      <td>0.001046</td>\n",
       "      <td>0.000984</td>\n",
       "      <td>0.000427</td>\n",
       "    </tr>\n",
       "    <tr>\n",
       "      <th>4</th>\n",
       "      <td>3663553</td>\n",
       "      <td>0.000626</td>\n",
       "      <td>0.001002</td>\n",
       "      <td>0.000398</td>\n",
       "    </tr>\n",
       "  </tbody>\n",
       "</table>\n",
       "</div>"
      ],
      "text/plain": [
       "   TransactionID      sub0      sub1      sub2\n",
       "0        3663549  0.001578  0.000918  0.000366\n",
       "1        3663550  0.000631  0.001581  0.001019\n",
       "2        3663551  0.001217  0.001058  0.000492\n",
       "3        3663552  0.001046  0.000984  0.000427\n",
       "4        3663553  0.000626  0.001002  0.000398"
      ]
     },
     "execution_count": 114,
     "metadata": {},
     "output_type": "execute_result"
    }
   ],
   "source": [
    "all_sub.head()"
   ]
  },
  {
   "cell_type": "code",
   "execution_count": 115,
   "metadata": {},
   "outputs": [],
   "source": [
    "# calculate correlation of submissions\n",
    "corr = all_sub.iloc[:,1:].corr()"
   ]
  },
  {
   "cell_type": "code",
   "execution_count": 116,
   "metadata": {},
   "outputs": [
    {
     "data": {
      "text/plain": [
       "<matplotlib.axes._subplots.AxesSubplot at 0x7feff5740908>"
      ]
     },
     "execution_count": 116,
     "metadata": {},
     "output_type": "execute_result"
    },
    {
     "data": {
      "image/png": "[encoded data removed]",
      "text/plain": [
       "<Figure size 432x288 with 2 Axes>"
      ]
     },
     "metadata": {},
     "output_type": "display_data"
    }
   ],
   "source": [
    "sns.heatmap(corr,cmap='prism',center=0, linewidths=1,\n",
    "            annot=True,fmt='.4f', cbar_kws={\"shrink\":.5})"
   ]
  },
  {
   "cell_type": "markdown",
   "metadata": {},
   "source": [
    "# Weighted GMEAN by inverse correlation"
   ]
  },
  {
   "cell_type": "code",
   "execution_count": 117,
   "metadata": {},
   "outputs": [
    {
     "data": {
      "text/plain": [
       "array([[1.        , 1.        , 1.        ],\n",
       "       [0.98879574, 1.        , 1.        ],\n",
       "       [0.98506865, 0.99680381, 1.        ]])"
      ]
     },
     "execution_count": 117,
     "metadata": {},
     "output_type": "execute_result"
    }
   ],
   "source": [
    "corr_rank = np.tril(all_sub.iloc[:,1:].corr().values,0)+np.triu(np.ones(corr.shape),1)\n",
    "corr_rank"
   ]
  },
  {
   "cell_type": "code",
   "execution_count": 118,
   "metadata": {},
   "outputs": [
    {
     "data": {
      "text/plain": [
       "2"
      ]
     },
     "execution_count": 118,
     "metadata": {},
     "output_type": "execute_result"
    }
   ],
   "source": [
    "# calculate how many times of blend is needed\n",
    "blend_times = (corr_rank>0).sum() - (corr_rank>0.99).sum()\n",
    "blend_times"
   ]
  },
  {
   "cell_type": "code",
   "execution_count": 119,
   "metadata": {},
   "outputs": [],
   "source": [
    "m_gmean, weight_sum = 0, 0"
   ]
  },
  {
   "cell_type": "code",
   "execution_count": 120,
   "metadata": {},
   "outputs": [
    {
     "name": "stdout",
     "output_type": "stream",
     "text": [
      "0 round with current minimual index(2, 0)\n",
      "0   -7.182680\n",
      "1   -7.128428\n",
      "2   -7.163772\n",
      "3   -7.310355\n",
      "4   -7.603249\n",
      "dtype: float64\n",
      "current weight:1.0, total weight:1.0\n",
      "[[1.         1.         1.        ]\n",
      " [0.98879574 1.         1.        ]\n",
      " [1.         0.99680381 1.        ]]\n",
      "1 round with current minimual index(1, 0)\n",
      "0   -10.543811\n",
      "1   -10.582666\n",
      "2   -10.554394\n",
      "3   -10.756913\n",
      "4   -11.173933\n",
      "dtype: float64\n",
      "current weight:0.5, total weight:1.5\n",
      "[[1.         1.         1.        ]\n",
      " [1.         1.         1.        ]\n",
      " [1.         0.99680381 1.        ]]\n"
     ]
    }
   ],
   "source": [
    "# https://en.wikipedia.org/wiki/Weighted_geometric_mean\n",
    "for i in range(blend_times):\n",
    "    min_corr_indexs = np.unravel_index(corr_rank.argmin(), corr_rank.shape)\n",
    "    print('%s round with current minimual index%s'%(i,min_corr_indexs))\n",
    "    # weight decay with higher correlations\n",
    "    weight = (blend_times-i)/blend_times\n",
    "    m_gmean += weight*(np.log(all_sub.iloc[:,min_corr_indexs[0]+1])+np.log(all_sub.iloc[:,min_corr_indexs[1]+1]))/2\n",
    "    print(m_gmean.head())\n",
    "    weight_sum += weight\n",
    "    print('current weight:%s, total weight:%s'%(weight,weight_sum))\n",
    "    corr_rank[min_corr_indexs] = 1\n",
    "    print(corr_rank)"
   ]
  },
  {
   "cell_type": "code",
   "execution_count": 121,
   "metadata": {},
   "outputs": [
    {
     "data": {
      "text/plain": [
       "0    0.000886\n",
       "1    0.000863\n",
       "2    0.000879\n",
       "3    0.000768\n",
       "4    0.000582\n",
       "dtype: float64"
      ]
     },
     "execution_count": 121,
     "metadata": {},
     "output_type": "execute_result"
    }
   ],
   "source": [
    "m_gmean = np.exp(m_gmean/weight_sum)\n",
    "m_gmean.head()"
   ]
  },
  {
   "cell_type": "code",
   "execution_count": 122,
   "metadata": {},
   "outputs": [
    {
     "data": {
      "text/plain": [
       "0    0.000780\n",
       "1    0.000758\n",
       "2    0.000774\n",
       "3    0.000663\n",
       "4    0.000476\n",
       "dtype: float64"
      ]
     },
     "execution_count": 122,
     "metadata": {},
     "output_type": "execute_result"
    }
   ],
   "source": [
    "m_gmean = (m_gmean-m_gmean.min())/(m_gmean.max()-m_gmean.min())\n",
    "m_gmean.head()"
   ]
  },
  {
   "cell_type": "code",
   "execution_count": 123,
   "metadata": {},
   "outputs": [],
   "source": [
    "all_sub['isFraud'] = m_gmean\n",
    "#concat_sub[['TransactionID','isFraud']].to_csv('./data/sub_stack_gmean.csv',index=False)"
   ]
  },
  {
   "cell_type": "code",
   "execution_count": 124,
   "metadata": {},
   "outputs": [
    {
     "data": {
      "text/html": [
       "<div>\n",
       "<style scoped>\n",
       "    .dataframe tbody tr th:only-of-type {\n",
       "        vertical-align: middle;\n",
       "    }\n",
       "\n",
       "    .dataframe tbody tr th {\n",
       "        vertical-align: top;\n",
       "    }\n",
       "\n",
       "    .dataframe thead th {\n",
       "        text-align: right;\n",
       "    }\n",
       "</style>\n",
       "<table border=\"1\" class=\"dataframe\">\n",
       "  <thead>\n",
       "    <tr style=\"text-align: right;\">\n",
       "      <th></th>\n",
       "      <th>TransactionID</th>\n",
       "      <th>sub0</th>\n",
       "      <th>sub1</th>\n",
       "      <th>sub2</th>\n",
       "      <th>isFraud</th>\n",
       "    </tr>\n",
       "  </thead>\n",
       "  <tbody>\n",
       "    <tr>\n",
       "      <th>506686</th>\n",
       "      <td>4170235</td>\n",
       "      <td>0.005848</td>\n",
       "      <td>0.007015</td>\n",
       "      <td>0.002817</td>\n",
       "      <td>0.004628</td>\n",
       "    </tr>\n",
       "    <tr>\n",
       "      <th>506687</th>\n",
       "      <td>4170236</td>\n",
       "      <td>0.002687</td>\n",
       "      <td>0.004152</td>\n",
       "      <td>0.002658</td>\n",
       "      <td>0.002777</td>\n",
       "    </tr>\n",
       "    <tr>\n",
       "      <th>506688</th>\n",
       "      <td>4170237</td>\n",
       "      <td>0.002786</td>\n",
       "      <td>0.005243</td>\n",
       "      <td>0.003182</td>\n",
       "      <td>0.003135</td>\n",
       "    </tr>\n",
       "    <tr>\n",
       "      <th>506689</th>\n",
       "      <td>4170238</td>\n",
       "      <td>0.002308</td>\n",
       "      <td>0.002355</td>\n",
       "      <td>0.001059</td>\n",
       "      <td>0.001682</td>\n",
       "    </tr>\n",
       "    <tr>\n",
       "      <th>506690</th>\n",
       "      <td>4170239</td>\n",
       "      <td>0.003451</td>\n",
       "      <td>0.003530</td>\n",
       "      <td>0.002144</td>\n",
       "      <td>0.002855</td>\n",
       "    </tr>\n",
       "  </tbody>\n",
       "</table>\n",
       "</div>"
      ],
      "text/plain": [
       "        TransactionID      sub0      sub1      sub2   isFraud\n",
       "506686        4170235  0.005848  0.007015  0.002817  0.004628\n",
       "506687        4170236  0.002687  0.004152  0.002658  0.002777\n",
       "506688        4170237  0.002786  0.005243  0.003182  0.003135\n",
       "506689        4170238  0.002308  0.002355  0.001059  0.001682\n",
       "506690        4170239  0.003451  0.003530  0.002144  0.002855"
      ]
     },
     "execution_count": 124,
     "metadata": {},
     "output_type": "execute_result"
    }
   ],
   "source": [
    "all_sub.tail()"
   ]
  }
 ],
 "metadata": {
  "kernelspec": {
   "display_name": "Python 3",
   "language": "python",
   "name": "python3"
  },
  "language_info": {
   "codemirror_mode": {
    "name": "ipython",
    "version": 3
   },
   "file_extension": ".py",
   "mimetype": "text/x-python",
   "name": "python",
   "nbconvert_exporter": "python",
   "pygments_lexer": "ipython3",
   "version": "3.6.5"
  }
 },
 "nbformat": 4,
 "nbformat_minor": 2
}
