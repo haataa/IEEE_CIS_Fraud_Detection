{
 "cells": [
  {
   "cell_type": "markdown",
   "metadata": {},
   "source": [
    "https://www.kaggle.com/paulorzp/gmean-of-light-gbm-models-lb-0-95x"
   ]
  },
  {
   "cell_type": "code",
   "execution_count": 1,
   "metadata": {},
   "outputs": [],
   "source": [
    "# import packages\n",
    "import numpy as np\n",
    "import pandas as pd\n",
    "import matplotlib.pyplot as plt\n",
    "import featuretools as ft\n",
    "import lightgbm as lgb\n",
    "import seaborn as sns\n",
    "from sklearn.model_selection import GridSearchCV\n",
    "from sklearn.model_selection import KFold\n",
    "from sklearn.metrics import roc_auc_score\n",
    "\n",
    "%matplotlib inline\n",
    "RSEED = 50"
   ]
  },
  {
   "cell_type": "code",
   "execution_count": 22,
   "metadata": {},
   "outputs": [],
   "source": [
    "all_files = ['./data/sub_feat457_modelselect.csv',\n",
    "             './data/sub_feat476_rm_pm0.csv',\n",
    "            './data/sub_feat476_rmv91.csv',\n",
    "            './data/sub_xgb_feat457_lr01.csv']"
   ]
  },
  {
   "cell_type": "code",
   "execution_count": 23,
   "metadata": {},
   "outputs": [],
   "source": [
    "outs = [pd.read_csv(all_files[f], index_col=0) for f in range(0,len(all_files))]\n",
    "all_sub = pd.concat(outs, axis=1)\n",
    "cols = list(map(lambda x: \"sub\" + str(x), range(len(all_sub.columns))))\n",
    "all_sub.columns = cols\n",
    "all_sub.reset_index(inplace=True)"
   ]
  },
  {
   "cell_type": "code",
   "execution_count": 24,
   "metadata": {},
   "outputs": [
    {
     "data": {
      "text/html": [
       "<div>\n",
       "<style scoped>\n",
       "    .dataframe tbody tr th:only-of-type {\n",
       "        vertical-align: middle;\n",
       "    }\n",
       "\n",
       "    .dataframe tbody tr th {\n",
       "        vertical-align: top;\n",
       "    }\n",
       "\n",
       "    .dataframe thead th {\n",
       "        text-align: right;\n",
       "    }\n",
       "</style>\n",
       "<table border=\"1\" class=\"dataframe\">\n",
       "  <thead>\n",
       "    <tr style=\"text-align: right;\">\n",
       "      <th></th>\n",
       "      <th>TransactionID</th>\n",
       "      <th>sub0</th>\n",
       "      <th>sub1</th>\n",
       "      <th>sub2</th>\n",
       "      <th>sub3</th>\n",
       "    </tr>\n",
       "  </thead>\n",
       "  <tbody>\n",
       "    <tr>\n",
       "      <th>0</th>\n",
       "      <td>3663549</td>\n",
       "      <td>0.001578</td>\n",
       "      <td>0.001301</td>\n",
       "      <td>0.001143</td>\n",
       "      <td>0.001358</td>\n",
       "    </tr>\n",
       "    <tr>\n",
       "      <th>1</th>\n",
       "      <td>3663550</td>\n",
       "      <td>0.000631</td>\n",
       "      <td>0.000615</td>\n",
       "      <td>0.000615</td>\n",
       "      <td>0.000611</td>\n",
       "    </tr>\n",
       "    <tr>\n",
       "      <th>2</th>\n",
       "      <td>3663551</td>\n",
       "      <td>0.001217</td>\n",
       "      <td>0.000861</td>\n",
       "      <td>0.000959</td>\n",
       "      <td>0.001757</td>\n",
       "    </tr>\n",
       "    <tr>\n",
       "      <th>3</th>\n",
       "      <td>3663552</td>\n",
       "      <td>0.001046</td>\n",
       "      <td>0.001046</td>\n",
       "      <td>0.001142</td>\n",
       "      <td>0.001037</td>\n",
       "    </tr>\n",
       "    <tr>\n",
       "      <th>4</th>\n",
       "      <td>3663553</td>\n",
       "      <td>0.000626</td>\n",
       "      <td>0.000428</td>\n",
       "      <td>0.000441</td>\n",
       "      <td>0.000224</td>\n",
       "    </tr>\n",
       "  </tbody>\n",
       "</table>\n",
       "</div>"
      ],
      "text/plain": [
       "   TransactionID      sub0      sub1      sub2      sub3\n",
       "0        3663549  0.001578  0.001301  0.001143  0.001358\n",
       "1        3663550  0.000631  0.000615  0.000615  0.000611\n",
       "2        3663551  0.001217  0.000861  0.000959  0.001757\n",
       "3        3663552  0.001046  0.001046  0.001142  0.001037\n",
       "4        3663553  0.000626  0.000428  0.000441  0.000224"
      ]
     },
     "execution_count": 24,
     "metadata": {},
     "output_type": "execute_result"
    }
   ],
   "source": [
    "all_sub.head()"
   ]
  },
  {
   "cell_type": "code",
   "execution_count": 25,
   "metadata": {},
   "outputs": [],
   "source": [
    "# calculate correlation of submissions\n",
    "corr = all_sub.iloc[:,1:].corr()"
   ]
  },
  {
   "cell_type": "code",
   "execution_count": 26,
   "metadata": {},
   "outputs": [
    {
     "data": {
      "text/plain": [
       "<matplotlib.axes._subplots.AxesSubplot at 0x7f0861df2860>"
      ]
     },
     "execution_count": 26,
     "metadata": {},
     "output_type": "execute_result"
    },
    {
     "data": {
      "image/png": "[encoded data removed]",
      "text/plain": [
       "<Figure size 432x288 with 2 Axes>"
      ]
     },
     "metadata": {},
     "output_type": "display_data"
    }
   ],
   "source": [
    "sns.heatmap(corr,cmap='prism',center=0, linewidths=1,\n",
    "            annot=True,fmt='.4f', cbar_kws={\"shrink\":.5})"
   ]
  },
  {
   "cell_type": "markdown",
   "metadata": {},
   "source": [
    "# Weighted GMEAN by inverse correlation"
   ]
  },
  {
   "cell_type": "code",
   "execution_count": 27,
   "metadata": {},
   "outputs": [
    {
     "data": {
      "text/plain": [
       "array([[1.        , 1.        , 1.        , 1.        ],\n",
       "       [0.99651101, 1.        , 1.        , 1.        ],\n",
       "       [0.99902149, 0.99709148, 1.        , 1.        ],\n",
       "       [0.9728779 , 0.96866412, 0.97270256, 1.        ]])"
      ]
     },
     "execution_count": 27,
     "metadata": {},
     "output_type": "execute_result"
    }
   ],
   "source": [
    "corr_rank = np.tril(all_sub.iloc[:,1:].corr().values,0)+np.triu(np.ones(corr.shape),1)\n",
    "corr_rank"
   ]
  },
  {
   "cell_type": "code",
   "execution_count": 28,
   "metadata": {},
   "outputs": [
    {
     "data": {
      "text/plain": [
       "3"
      ]
     },
     "execution_count": 28,
     "metadata": {},
     "output_type": "execute_result"
    }
   ],
   "source": [
    "# calculate how many times of blend is needed\n",
    "blend_times = (corr_rank>0).sum() - (corr_rank>0.99).sum()\n",
    "blend_times"
   ]
  },
  {
   "cell_type": "code",
   "execution_count": 29,
   "metadata": {},
   "outputs": [],
   "source": [
    "m_gmean, weight_sum = 0, 0"
   ]
  },
  {
   "cell_type": "code",
   "execution_count": 30,
   "metadata": {},
   "outputs": [
    {
     "name": "stdout",
     "output_type": "stream",
     "text": [
      "0 round with current minimual index(3, 1)\n",
      "0   -6.623176\n",
      "1   -7.396805\n",
      "2   -6.700450\n",
      "3   -6.866717\n",
      "4   -8.080707\n",
      "dtype: float64\n",
      "current weight:1.0, total weight:1.0\n",
      "[[1.         1.         1.         1.        ]\n",
      " [0.99651101 1.         1.         1.        ]\n",
      " [0.99902149 0.99709148 1.         1.        ]\n",
      " [0.9728779  1.         0.97270256 1.        ]]\n",
      "1 round with current minimual index(3, 2)\n",
      "0   -11.081779\n",
      "1   -12.327739\n",
      "2   -11.131806\n",
      "3   -11.415351\n",
      "4   -13.457789\n",
      "dtype: float64\n",
      "current weight:0.6666666666666666, total weight:1.6666666666666665\n",
      "[[1.         1.         1.         1.        ]\n",
      " [0.99651101 1.         1.         1.        ]\n",
      " [0.99902149 0.99709148 1.         1.        ]\n",
      " [0.9728779  1.         1.         1.        ]]\n",
      "2 round with current minimual index(3, 0)\n",
      "0   -13.257310\n",
      "1   -14.788929\n",
      "2   -13.307702\n",
      "3   -13.704267\n",
      "4   -16.087930\n",
      "dtype: float64\n",
      "current weight:0.3333333333333333, total weight:1.9999999999999998\n",
      "[[1.         1.         1.         1.        ]\n",
      " [0.99651101 1.         1.         1.        ]\n",
      " [0.99902149 0.99709148 1.         1.        ]\n",
      " [1.         1.         1.         1.        ]]\n"
     ]
    }
   ],
   "source": [
    "# https://en.wikipedia.org/wiki/Weighted_geometric_mean\n",
    "for i in range(blend_times):\n",
    "    min_corr_indexs = np.unravel_index(corr_rank.argmin(), corr_rank.shape)\n",
    "    print('%s round with current minimual index%s'%(i,min_corr_indexs))\n",
    "    # weight decay with higher correlations\n",
    "    weight = (blend_times-i)/blend_times\n",
    "    m_gmean += weight*(np.log(all_sub.iloc[:,min_corr_indexs[0]+1])+np.log(all_sub.iloc[:,min_corr_indexs[1]+1]))/2\n",
    "    print(m_gmean.head())\n",
    "    weight_sum += weight\n",
    "    print('current weight:%s, total weight:%s'%(weight,weight_sum))\n",
    "    corr_rank[min_corr_indexs] = 1\n",
    "    print(corr_rank)"
   ]
  },
  {
   "cell_type": "code",
   "execution_count": 31,
   "metadata": {},
   "outputs": [
    {
     "data": {
      "text/plain": [
       "0    0.001322\n",
       "1    0.000615\n",
       "2    0.001289\n",
       "3    0.001057\n",
       "4    0.000321\n",
       "dtype: float64"
      ]
     },
     "execution_count": 31,
     "metadata": {},
     "output_type": "execute_result"
    }
   ],
   "source": [
    "m_gmean = np.exp(m_gmean/weight_sum)\n",
    "m_gmean.head()"
   ]
  },
  {
   "cell_type": "code",
   "execution_count": 32,
   "metadata": {},
   "outputs": [
    {
     "data": {
      "text/plain": [
       "0    0.001297\n",
       "1    0.000589\n",
       "2    0.001264\n",
       "3    0.001032\n",
       "4    0.000295\n",
       "dtype: float64"
      ]
     },
     "execution_count": 32,
     "metadata": {},
     "output_type": "execute_result"
    }
   ],
   "source": [
    "m_gmean = (m_gmean-m_gmean.min())/(m_gmean.max()-m_gmean.min())\n",
    "m_gmean.head()"
   ]
  },
  {
   "cell_type": "code",
   "execution_count": 33,
   "metadata": {},
   "outputs": [
    {
     "data": {
      "text/html": [
       "<div>\n",
       "<style scoped>\n",
       "    .dataframe tbody tr th:only-of-type {\n",
       "        vertical-align: middle;\n",
       "    }\n",
       "\n",
       "    .dataframe tbody tr th {\n",
       "        vertical-align: top;\n",
       "    }\n",
       "\n",
       "    .dataframe thead th {\n",
       "        text-align: right;\n",
       "    }\n",
       "</style>\n",
       "<table border=\"1\" class=\"dataframe\">\n",
       "  <thead>\n",
       "    <tr style=\"text-align: right;\">\n",
       "      <th></th>\n",
       "      <th>TransactionID</th>\n",
       "      <th>sub0</th>\n",
       "      <th>sub1</th>\n",
       "      <th>sub2</th>\n",
       "      <th>sub3</th>\n",
       "      <th>isFraud</th>\n",
       "    </tr>\n",
       "  </thead>\n",
       "  <tbody>\n",
       "    <tr>\n",
       "      <th>506686</th>\n",
       "      <td>4170235</td>\n",
       "      <td>0.005848</td>\n",
       "      <td>0.004531</td>\n",
       "      <td>0.004480</td>\n",
       "      <td>0.001157</td>\n",
       "      <td>0.002311</td>\n",
       "    </tr>\n",
       "    <tr>\n",
       "      <th>506687</th>\n",
       "      <td>4170236</td>\n",
       "      <td>0.002687</td>\n",
       "      <td>0.003591</td>\n",
       "      <td>0.002441</td>\n",
       "      <td>0.000242</td>\n",
       "      <td>0.000828</td>\n",
       "    </tr>\n",
       "    <tr>\n",
       "      <th>506688</th>\n",
       "      <td>4170237</td>\n",
       "      <td>0.002786</td>\n",
       "      <td>0.002540</td>\n",
       "      <td>0.002777</td>\n",
       "      <td>0.000236</td>\n",
       "      <td>0.000766</td>\n",
       "    </tr>\n",
       "    <tr>\n",
       "      <th>506689</th>\n",
       "      <td>4170238</td>\n",
       "      <td>0.002308</td>\n",
       "      <td>0.001858</td>\n",
       "      <td>0.002219</td>\n",
       "      <td>0.000576</td>\n",
       "      <td>0.001059</td>\n",
       "    </tr>\n",
       "    <tr>\n",
       "      <th>506690</th>\n",
       "      <td>4170239</td>\n",
       "      <td>0.003451</td>\n",
       "      <td>0.003617</td>\n",
       "      <td>0.004219</td>\n",
       "      <td>0.000766</td>\n",
       "      <td>0.001676</td>\n",
       "    </tr>\n",
       "  </tbody>\n",
       "</table>\n",
       "</div>"
      ],
      "text/plain": [
       "        TransactionID      sub0      sub1      sub2      sub3   isFraud\n",
       "506686        4170235  0.005848  0.004531  0.004480  0.001157  0.002311\n",
       "506687        4170236  0.002687  0.003591  0.002441  0.000242  0.000828\n",
       "506688        4170237  0.002786  0.002540  0.002777  0.000236  0.000766\n",
       "506689        4170238  0.002308  0.001858  0.002219  0.000576  0.001059\n",
       "506690        4170239  0.003451  0.003617  0.004219  0.000766  0.001676"
      ]
     },
     "execution_count": 33,
     "metadata": {},
     "output_type": "execute_result"
    }
   ],
   "source": [
    "all_sub['isFraud'] = m_gmean\n",
    "all_sub.tail()"
   ]
  },
  {
   "cell_type": "code",
   "execution_count": 34,
   "metadata": {},
   "outputs": [],
   "source": [
    "all_sub[['TransactionID','isFraud']].to_csv('./data/sub_4stack_gmean.csv',index=False)"
   ]
  }
 ],
 "metadata": {
  "kernelspec": {
   "display_name": "Python 3",
   "language": "python",
   "name": "python3"
  },
  "language_info": {
   "codemirror_mode": {
    "name": "ipython",
    "version": 3
   },
   "file_extension": ".py",
   "mimetype": "text/x-python",
   "name": "python",
   "nbconvert_exporter": "python",
   "pygments_lexer": "ipython3",
   "version": "3.6.5"
  }
 },
 "nbformat": 4,
 "nbformat_minor": 2
}
