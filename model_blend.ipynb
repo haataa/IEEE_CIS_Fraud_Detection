{
 "cells": [
  {
   "cell_type": "markdown",
   "metadata": {},
   "source": [
    "https://www.kaggle.com/paulorzp/gmean-of-light-gbm-models-lb-0-95x"
   ]
  },
  {
   "cell_type": "code",
   "execution_count": 35,
   "metadata": {},
   "outputs": [],
   "source": [
    "# import packages\n",
    "import numpy as np\n",
    "import pandas as pd\n",
    "import matplotlib.pyplot as plt\n",
    "import featuretools as ft\n",
    "import lightgbm as lgb\n",
    "import seaborn as sns\n",
    "from sklearn.model_selection import GridSearchCV\n",
    "from sklearn.model_selection import KFold\n",
    "from sklearn.metrics import roc_auc_score\n",
    "\n",
    "%matplotlib inline\n",
    "RSEED = 50"
   ]
  },
  {
   "cell_type": "code",
   "execution_count": 36,
   "metadata": {},
   "outputs": [],
   "source": [
    "all_files = ['./data/sub_feat457_modelselect.csv',\n",
    "            './data/sub_feat476_rmv91.csv',\n",
    "            './data/sub_xgb_feat457_lr001.csv']"
   ]
  },
  {
   "cell_type": "code",
   "execution_count": 37,
   "metadata": {},
   "outputs": [],
   "source": [
    "outs = [pd.read_csv(all_files[f], index_col=0) for f in range(0,len(all_files))]\n",
    "all_sub = pd.concat(outs, axis=1)\n",
    "cols = list(map(lambda x: \"sub\" + str(x), range(len(all_sub.columns))))\n",
    "all_sub.columns = cols\n",
    "all_sub.reset_index(inplace=True)"
   ]
  },
  {
   "cell_type": "code",
   "execution_count": 38,
   "metadata": {},
   "outputs": [
    {
     "data": {
      "text/html": [
       "<div>\n",
       "<style scoped>\n",
       "    .dataframe tbody tr th:only-of-type {\n",
       "        vertical-align: middle;\n",
       "    }\n",
       "\n",
       "    .dataframe tbody tr th {\n",
       "        vertical-align: top;\n",
       "    }\n",
       "\n",
       "    .dataframe thead th {\n",
       "        text-align: right;\n",
       "    }\n",
       "</style>\n",
       "<table border=\"1\" class=\"dataframe\">\n",
       "  <thead>\n",
       "    <tr style=\"text-align: right;\">\n",
       "      <th></th>\n",
       "      <th>TransactionID</th>\n",
       "      <th>sub0</th>\n",
       "      <th>sub1</th>\n",
       "      <th>sub2</th>\n",
       "    </tr>\n",
       "  </thead>\n",
       "  <tbody>\n",
       "    <tr>\n",
       "      <th>0</th>\n",
       "      <td>3663549</td>\n",
       "      <td>0.001578</td>\n",
       "      <td>0.001143</td>\n",
       "      <td>0.002200</td>\n",
       "    </tr>\n",
       "    <tr>\n",
       "      <th>1</th>\n",
       "      <td>3663550</td>\n",
       "      <td>0.000631</td>\n",
       "      <td>0.000615</td>\n",
       "      <td>0.001713</td>\n",
       "    </tr>\n",
       "    <tr>\n",
       "      <th>2</th>\n",
       "      <td>3663551</td>\n",
       "      <td>0.001217</td>\n",
       "      <td>0.000959</td>\n",
       "      <td>0.003700</td>\n",
       "    </tr>\n",
       "    <tr>\n",
       "      <th>3</th>\n",
       "      <td>3663552</td>\n",
       "      <td>0.001046</td>\n",
       "      <td>0.001142</td>\n",
       "      <td>0.002324</td>\n",
       "    </tr>\n",
       "    <tr>\n",
       "      <th>4</th>\n",
       "      <td>3663553</td>\n",
       "      <td>0.000626</td>\n",
       "      <td>0.000441</td>\n",
       "      <td>0.001152</td>\n",
       "    </tr>\n",
       "  </tbody>\n",
       "</table>\n",
       "</div>"
      ],
      "text/plain": [
       "   TransactionID      sub0      sub1      sub2\n",
       "0        3663549  0.001578  0.001143  0.002200\n",
       "1        3663550  0.000631  0.000615  0.001713\n",
       "2        3663551  0.001217  0.000959  0.003700\n",
       "3        3663552  0.001046  0.001142  0.002324\n",
       "4        3663553  0.000626  0.000441  0.001152"
      ]
     },
     "execution_count": 38,
     "metadata": {},
     "output_type": "execute_result"
    }
   ],
   "source": [
    "all_sub.head()"
   ]
  },
  {
   "cell_type": "code",
   "execution_count": 39,
   "metadata": {},
   "outputs": [],
   "source": [
    "# calculate correlation of submissions\n",
    "corr = all_sub.iloc[:,1:].corr()"
   ]
  },
  {
   "cell_type": "code",
   "execution_count": 40,
   "metadata": {},
   "outputs": [
    {
     "data": {
      "text/plain": [
       "<matplotlib.axes._subplots.AxesSubplot at 0x7f0861d95b38>"
      ]
     },
     "execution_count": 40,
     "metadata": {},
     "output_type": "execute_result"
    },
    {
     "data": {
      "image/png": "[encoded data removed]",
      "text/plain": [
       "<Figure size 432x288 with 2 Axes>"
      ]
     },
     "metadata": {},
     "output_type": "display_data"
    }
   ],
   "source": [
    "sns.heatmap(corr,cmap='prism',center=0, linewidths=1,\n",
    "            annot=True,fmt='.4f', cbar_kws={\"shrink\":.5})"
   ]
  },
  {
   "cell_type": "markdown",
   "metadata": {},
   "source": [
    "# Weighted GMEAN by inverse correlation"
   ]
  },
  {
   "cell_type": "code",
   "execution_count": 41,
   "metadata": {},
   "outputs": [
    {
     "data": {
      "text/plain": [
       "array([[1.        , 1.        , 1.        ],\n",
       "       [0.99902149, 1.        , 1.        ],\n",
       "       [0.96379093, 0.96374118, 1.        ]])"
      ]
     },
     "execution_count": 41,
     "metadata": {},
     "output_type": "execute_result"
    }
   ],
   "source": [
    "corr_rank = np.tril(all_sub.iloc[:,1:].corr().values,0)+np.triu(np.ones(corr.shape),1)\n",
    "corr_rank"
   ]
  },
  {
   "cell_type": "code",
   "execution_count": 42,
   "metadata": {},
   "outputs": [
    {
     "data": {
      "text/plain": [
       "2"
      ]
     },
     "execution_count": 42,
     "metadata": {},
     "output_type": "execute_result"
    }
   ],
   "source": [
    "# calculate how many times of blend is needed\n",
    "blend_times = (corr_rank>0).sum() - (corr_rank>0.99).sum()\n",
    "blend_times"
   ]
  },
  {
   "cell_type": "code",
   "execution_count": 43,
   "metadata": {},
   "outputs": [],
   "source": [
    "m_gmean, weight_sum = 0, 0"
   ]
  },
  {
   "cell_type": "code",
   "execution_count": 44,
   "metadata": {},
   "outputs": [
    {
     "name": "stdout",
     "output_type": "stream",
     "text": [
      "0 round with current minimual index(2, 1)\n",
      "0   -6.446795\n",
      "1   -6.881301\n",
      "2   -6.274738\n",
      "3   -6.419609\n",
      "4   -7.246587\n",
      "dtype: float64\n",
      "current weight:1.0, total weight:1.0\n",
      "[[1.         1.         1.        ]\n",
      " [0.99902149 1.         1.        ]\n",
      " [0.96379093 1.         1.        ]]\n",
      "1 round with current minimual index(2, 0)\n",
      "0    -9.589538\n",
      "1   -10.315535\n",
      "2    -9.352433\n",
      "3    -9.651312\n",
      "4   -10.782282\n",
      "dtype: float64\n",
      "current weight:0.5, total weight:1.5\n",
      "[[1.         1.         1.        ]\n",
      " [0.99902149 1.         1.        ]\n",
      " [1.         1.         1.        ]]\n"
     ]
    }
   ],
   "source": [
    "# https://en.wikipedia.org/wiki/Weighted_geometric_mean\n",
    "for i in range(blend_times):\n",
    "    min_corr_indexs = np.unravel_index(corr_rank.argmin(), corr_rank.shape)\n",
    "    print('%s round with current minimual index%s'%(i,min_corr_indexs))\n",
    "    # weight decay with higher correlations\n",
    "    weight = (blend_times-i)/blend_times\n",
    "    m_gmean += weight*(np.log(all_sub.iloc[:,min_corr_indexs[0]+1])+np.log(all_sub.iloc[:,min_corr_indexs[1]+1]))/2\n",
    "    print(m_gmean.head())\n",
    "    weight_sum += weight\n",
    "    print('current weight:%s, total weight:%s'%(weight,weight_sum))\n",
    "    corr_rank[min_corr_indexs] = 1\n",
    "    print(corr_rank)"
   ]
  },
  {
   "cell_type": "code",
   "execution_count": 45,
   "metadata": {},
   "outputs": [
    {
     "data": {
      "text/plain": [
       "0    0.001673\n",
       "1    0.001031\n",
       "2    0.001960\n",
       "3    0.001606\n",
       "4    0.000755\n",
       "dtype: float64"
      ]
     },
     "execution_count": 45,
     "metadata": {},
     "output_type": "execute_result"
    }
   ],
   "source": [
    "m_gmean = np.exp(m_gmean/weight_sum)\n",
    "m_gmean.head()"
   ]
  },
  {
   "cell_type": "code",
   "execution_count": 46,
   "metadata": {},
   "outputs": [
    {
     "data": {
      "text/plain": [
       "0    0.001574\n",
       "1    0.000931\n",
       "2    0.001861\n",
       "3    0.001507\n",
       "4    0.000655\n",
       "dtype: float64"
      ]
     },
     "execution_count": 46,
     "metadata": {},
     "output_type": "execute_result"
    }
   ],
   "source": [
    "m_gmean = (m_gmean-m_gmean.min())/(m_gmean.max()-m_gmean.min())\n",
    "m_gmean.head()"
   ]
  },
  {
   "cell_type": "code",
   "execution_count": 47,
   "metadata": {},
   "outputs": [
    {
     "data": {
      "text/html": [
       "<div>\n",
       "<style scoped>\n",
       "    .dataframe tbody tr th:only-of-type {\n",
       "        vertical-align: middle;\n",
       "    }\n",
       "\n",
       "    .dataframe tbody tr th {\n",
       "        vertical-align: top;\n",
       "    }\n",
       "\n",
       "    .dataframe thead th {\n",
       "        text-align: right;\n",
       "    }\n",
       "</style>\n",
       "<table border=\"1\" class=\"dataframe\">\n",
       "  <thead>\n",
       "    <tr style=\"text-align: right;\">\n",
       "      <th></th>\n",
       "      <th>TransactionID</th>\n",
       "      <th>sub0</th>\n",
       "      <th>sub1</th>\n",
       "      <th>sub2</th>\n",
       "      <th>isFraud</th>\n",
       "    </tr>\n",
       "  </thead>\n",
       "  <tbody>\n",
       "    <tr>\n",
       "      <th>506686</th>\n",
       "      <td>4170235</td>\n",
       "      <td>0.005848</td>\n",
       "      <td>0.004480</td>\n",
       "      <td>0.007397</td>\n",
       "      <td>0.005924</td>\n",
       "    </tr>\n",
       "    <tr>\n",
       "      <th>506687</th>\n",
       "      <td>4170236</td>\n",
       "      <td>0.002687</td>\n",
       "      <td>0.002441</td>\n",
       "      <td>0.002580</td>\n",
       "      <td>0.002452</td>\n",
       "    </tr>\n",
       "    <tr>\n",
       "      <th>506688</th>\n",
       "      <td>4170237</td>\n",
       "      <td>0.002786</td>\n",
       "      <td>0.002777</td>\n",
       "      <td>0.001923</td>\n",
       "      <td>0.002214</td>\n",
       "    </tr>\n",
       "    <tr>\n",
       "      <th>506689</th>\n",
       "      <td>4170238</td>\n",
       "      <td>0.002308</td>\n",
       "      <td>0.002219</td>\n",
       "      <td>0.003580</td>\n",
       "      <td>0.002739</td>\n",
       "    </tr>\n",
       "    <tr>\n",
       "      <th>506690</th>\n",
       "      <td>4170239</td>\n",
       "      <td>0.003451</td>\n",
       "      <td>0.004219</td>\n",
       "      <td>0.003075</td>\n",
       "      <td>0.003387</td>\n",
       "    </tr>\n",
       "  </tbody>\n",
       "</table>\n",
       "</div>"
      ],
      "text/plain": [
       "        TransactionID      sub0      sub1      sub2   isFraud\n",
       "506686        4170235  0.005848  0.004480  0.007397  0.005924\n",
       "506687        4170236  0.002687  0.002441  0.002580  0.002452\n",
       "506688        4170237  0.002786  0.002777  0.001923  0.002214\n",
       "506689        4170238  0.002308  0.002219  0.003580  0.002739\n",
       "506690        4170239  0.003451  0.004219  0.003075  0.003387"
      ]
     },
     "execution_count": 47,
     "metadata": {},
     "output_type": "execute_result"
    }
   ],
   "source": [
    "all_sub['isFraud'] = m_gmean\n",
    "all_sub.tail()"
   ]
  },
  {
   "cell_type": "code",
   "execution_count": 48,
   "metadata": {},
   "outputs": [],
   "source": [
    "all_sub[['TransactionID','isFraud']].to_csv('./data/sub_3stack_gmean.csv',index=False)"
   ]
  }
 ],
 "metadata": {
  "kernelspec": {
   "display_name": "Python 3",
   "language": "python",
   "name": "python3"
  },
  "language_info": {
   "codemirror_mode": {
    "name": "ipython",
    "version": 3
   },
   "file_extension": ".py",
   "mimetype": "text/x-python",
   "name": "python",
   "nbconvert_exporter": "python",
   "pygments_lexer": "ipython3",
   "version": "3.6.5"
  }
 },
 "nbformat": 4,
 "nbformat_minor": 2
}
