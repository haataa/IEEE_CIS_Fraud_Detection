{
 "cells": [
  {
   "cell_type": "code",
   "execution_count": 1,
   "metadata": {},
   "outputs": [],
   "source": [
    "# import packages\n",
    "import numpy as np\n",
    "import pandas as pd\n",
    "import matplotlib.pyplot as plt\n",
    "import featuretools as ft\n",
    "import lightgbm as lgb\n",
    "import seaborn as sns\n",
    "from sklearn.model_selection import GridSearchCV\n",
    "from sklearn.model_selection import KFold\n",
    "from sklearn.metrics import roc_auc_score\n",
    "from random import sample \n",
    "import pickle\n",
    "import eli5\n",
    "from eli5.sklearn import PermutationImportance\n",
    "from lightgbm import LGBMClassifier\n",
    "from sklearn.preprocessing import Imputer\n",
    "from sklearn.preprocessing import StandardScaler\n",
    "from sklearn.decomposition import PCA\n",
    "\n",
    "%matplotlib inline\n",
    "RSEED = 50"
   ]
  },
  {
   "cell_type": "markdown",
   "metadata": {},
   "source": [
    "# Load Original Features"
   ]
  },
  {
   "cell_type": "code",
   "execution_count": 2,
   "metadata": {},
   "outputs": [],
   "source": [
    "feat_num = 469\n",
    "#df_total = pd.read_csv('./data/features%s.csv'%(feat_num))\n",
    "with open('./data/features%s.pickle'%(feat_num), 'rb') as handle:\n",
    "    df_total = pickle.load(handle)"
   ]
  },
  {
   "cell_type": "code",
   "execution_count": 3,
   "metadata": {},
   "outputs": [
    {
     "data": {
      "text/plain": [
       "(590540, 469)"
      ]
     },
     "execution_count": 3,
     "metadata": {},
     "output_type": "execute_result"
    }
   ],
   "source": [
    "df_train = df_total[df_total['isFraud'].notnull()]\n",
    "df_train.shape"
   ]
  },
  {
   "cell_type": "markdown",
   "metadata": {},
   "source": [
    "# Sample Train Data"
   ]
  },
  {
   "cell_type": "code",
   "execution_count": 242,
   "metadata": {},
   "outputs": [
    {
     "data": {
      "text/plain": [
       "(200000, 457)"
      ]
     },
     "execution_count": 242,
     "metadata": {},
     "output_type": "execute_result"
    }
   ],
   "source": [
    "#df_train_sample=df_train.sample(n=200000,random_state=RSEED)\n",
    "#df_train_sample.shape"
   ]
  },
  {
   "cell_type": "markdown",
   "metadata": {},
   "source": [
    "# Negative Downsampling"
   ]
  },
  {
   "cell_type": "code",
   "execution_count": 27,
   "metadata": {},
   "outputs": [],
   "source": [
    "train_pos = df_train[df_train['isFraud']==1]\n",
    "train_neg = df_train[df_train['isFraud']==0]\n",
    "\n",
    "train_neg = train_neg.sample(int(df_train.shape[0] * 0.2), random_state=42)\n",
    "df_train_sample = pd.concat([train_pos,train_neg]).sort_index()"
   ]
  },
  {
   "cell_type": "markdown",
   "metadata": {},
   "source": [
    "# Prepare Data"
   ]
  },
  {
   "cell_type": "code",
   "execution_count": 28,
   "metadata": {},
   "outputs": [
    {
     "data": {
      "text/plain": [
       "(138771, 467)"
      ]
     },
     "execution_count": 28,
     "metadata": {},
     "output_type": "execute_result"
    }
   ],
   "source": [
    "labels_train = df_train_sample['isFraud']\n",
    "features_train = df_train_sample.drop(columns = ['isFraud', 'TransactionID'])\n",
    "features_train.shape"
   ]
  },
  {
   "cell_type": "code",
   "execution_count": 29,
   "metadata": {},
   "outputs": [
    {
     "data": {
      "text/plain": [
       "(138771, 456)"
      ]
     },
     "execution_count": 29,
     "metadata": {},
     "output_type": "execute_result"
    }
   ],
   "source": [
    "to_drop = ['card_D1_std','card_D3_std','is_card_freq_addr1','card_D1_mean','pdc_D3_std_ratio',\n",
    " 'card_D2_std','is_card_freq_Device','card_D2_mean','card_D3_mean','pdc_D3_ratio','card_id_02_mean'\n",
    " ]#'is_card_freq_pdc'\n",
    "features_train = features_train.drop(to_drop,axis=1)\n",
    "features_train.shape"
   ]
  },
  {
   "cell_type": "code",
   "execution_count": 30,
   "metadata": {},
   "outputs": [],
   "source": [
    "categorical_raw = ['ProductCD', 'card2', 'card3', 'card4', 'card5','card6',\n",
    "              'addr1','addr2','P_email','R_email','M1','M2','M3',\n",
    "              'M4','M5','M6','M7','M8','M9','DeviceType','DeviceInfo','dow','hour',\n",
    "              'Device_name','Device_version','screen_width','screen_height',\n",
    "               'P_email_suffix','R_email_suffix','id_30_OS','id_30_version',\n",
    "               'is_card_freq_Device','is_wide','is_long','is_zero','is_win8_vista',\n",
    "               'is_windows_otheros','is_card_freq_pdc','is_card_freq_addr1'] \n",
    "\n",
    "ids = [ 'id_%s'%(i) for i in range(12,39)]\n",
    "categorical_raw = categorical_raw + ids"
   ]
  },
  {
   "cell_type": "markdown",
   "metadata": {},
   "source": [
    "# Select Features"
   ]
  },
  {
   "cell_type": "code",
   "execution_count": 31,
   "metadata": {},
   "outputs": [],
   "source": [
    "params = {'num_leaves': 491,\n",
    "          'min_child_weight': 0.03454472573214212,\n",
    "          'feature_fraction': 0.3797454081646243,\n",
    "          'bagging_fraction': 0.4181193142567742,\n",
    "          'min_data_in_leaf': 106,\n",
    "          'objective': 'binary',\n",
    "          'max_depth': -1,\n",
    "          'learning_rate': 0.006883242363721497,\n",
    "          \"boosting_type\": \"gbdt\",\n",
    "          \"bagging_seed\": 11,\n",
    "          \"metric\": 'auc',\n",
    "          \"verbosity\": -1,\n",
    "          'reg_alpha': 0.3899927210061127,\n",
    "          'reg_lambda': 0.6485237330340494,\n",
    "          'random_state': 47,\n",
    "          #'num_threads':10\n",
    "          #'is_unbalance':True\n",
    "          #'scale_pos_weight':9\n",
    "         }"
   ]
  },
  {
   "cell_type": "code",
   "execution_count": 9,
   "metadata": {},
   "outputs": [],
   "source": [
    "def train_selector(params,train_num,features_train,labels_train,categorical,verbose_eval=500):\n",
    "    train_set = lgb.Dataset(features_train.iloc[0:train_num,:], label=labels_train.values[0:train_num],\n",
    "                       categorical_feature=categorical)\n",
    "    valid_set = lgb.Dataset(features_train.iloc[train_num:,:], label=labels_train.values[train_num:],\n",
    "                       categorical_feature=categorical)\n",
    "    valid_results = {}\n",
    "    model = lgb.train(params,train_set,num_boost_round = 10000, \n",
    "                   valid_sets = [train_set, valid_set],\n",
    "                    verbose_eval= verbose_eval,\n",
    "                    early_stopping_rounds = 500,\n",
    "                    evals_result=valid_results)\n",
    "    return model,valid_results"
   ]
  },
  {
   "cell_type": "code",
   "execution_count": 10,
   "metadata": {},
   "outputs": [],
   "source": [
    "def select_by_importance(model,features_train,importance=0,num_keep=None):\n",
    "    fi = pd.DataFrame({'feature': features_train.columns, \n",
    "                   'importance':model.feature_importance()})\n",
    "    fi = fi.sort_values('importance', ascending = False)\n",
    "    if num_keep != None:\n",
    "        to_drop = fi.iloc[num_keep:,:].feature\n",
    "    else:\n",
    "        to_drop = fi[fi.importance <= importance].feature\n",
    "    return to_drop\n",
    "    "
   ]
  },
  {
   "cell_type": "code",
   "execution_count": 11,
   "metadata": {},
   "outputs": [],
   "source": [
    "def fold_train_selector(Nfold,features_train,labels_train,categorical):\n",
    "    splits = Nfold\n",
    "    ave_auc = 0\n",
    "    valid_results = {}\n",
    "    \n",
    "    folds = KFold(n_splits = splits,random_state=RSEED)\n",
    "    \n",
    "    for fold_num, (trn_idx, val_idx) in enumerate(folds.split(features_train.values, \n",
    "                                                          labels_train.values)):\n",
    "        print(\"Fold {}\".format(fold_num))\n",
    "        train_df, y_train_df = features_train.iloc[trn_idx], labels_train.iloc[trn_idx]\n",
    "        valid_df, y_valid_df = features_train.iloc[val_idx], labels_train.iloc[val_idx]\n",
    "    \n",
    "        trn_data = lgb.Dataset(train_df, label=y_train_df,categorical_feature=categorical)\n",
    "        val_data = lgb.Dataset(valid_df, label=y_valid_df,categorical_feature=categorical)\n",
    "    \n",
    "        \n",
    "        clf = lgb.train(params,\n",
    "                        trn_data,\n",
    "                        10000,\n",
    "                        valid_sets = [trn_data, val_data],\n",
    "                        verbose_eval=500,\n",
    "                        early_stopping_rounds=500,\n",
    "                       evals_result=valid_results)\n",
    "        \n",
    "\n",
    "        pred = clf.predict(valid_df)\n",
    "        auc_score = roc_auc_score(y_valid_df, pred)\n",
    "        ave_auc += auc_score / splits\n",
    "        print( \"  auc = \", auc_score )\n",
    "    return ave_auc"
   ]
  },
  {
   "cell_type": "code",
   "execution_count": 12,
   "metadata": {},
   "outputs": [],
   "source": [
    "def permutation_importance(model,features_valid,labels_valid):\n",
    "    \"\"\"calculate permutation importance of features\n",
    "    Args:\n",
    "        model: the trained model.\n",
    "        features_valid: dataframe. The validation set of features.\n",
    "        labels_valid: labels of validation set.\n",
    "    Returns:\n",
    "        df_fimportance: dataframe. The importances of features.\n",
    "    \"\"\"\n",
    "    base_score = roc_auc_score(labels_valid, model.predict(features_valid))\n",
    "    list_fimportance = []\n",
    "    for col in features_valid.columns:\n",
    "        print(col)\n",
    "        save = features_valid[col].copy()\n",
    "        features_valid[col] = np.random.permutation(features_valid[col])\n",
    "        col_score = roc_auc_score(labels_valid, model.predict(features_valid))\n",
    "        features_valid[col] = save\n",
    "        list_fimportance.append([col,base_score - col_score])\n",
    "    return pd.DataFrame(list_fimportance,columns = ['feature','importance']) \n",
    "    "
   ]
  },
  {
   "cell_type": "markdown",
   "metadata": {},
   "source": [
    "## PCA V Features"
   ]
  },
  {
   "cell_type": "code",
   "execution_count": 15,
   "metadata": {},
   "outputs": [],
   "source": [
    "def check_missing(df,cols=None,axis=0):\n",
    "    \"\"\"check data frame column missing situation\n",
    "    Args\n",
    "    df: data frame.\n",
    "    cols: list. List of column names\n",
    "    axis: int. 0 means column and 1 means row\n",
    "    \n",
    "    Returns\n",
    "    missing_info: data frame. \n",
    "    \"\"\"\n",
    "    if cols != None:\n",
    "        df = df[cols]\n",
    "    missing_num = df.isnull().sum(axis).to_frame().rename(columns={0:'missing_num'})\n",
    "    missing_num['missing_percent'] = df.isnull().mean(axis)*100\n",
    "    return missing_num.sort_values(by='missing_percent',ascending = False) "
   ]
  },
  {
   "cell_type": "code",
   "execution_count": 246,
   "metadata": {},
   "outputs": [],
   "source": [
    "vfeatures = ['V'+str(i) for i in range(1,340)]"
   ]
  },
  {
   "cell_type": "code",
   "execution_count": 228,
   "metadata": {},
   "outputs": [
    {
     "name": "stderr",
     "output_type": "stream",
     "text": [
      "/home/jinpwa/anaconda3/lib/python3.6/site-packages/sklearn/utils/deprecation.py:66: DeprecationWarning: Class Imputer is deprecated; Imputer was deprecated in version 0.20 and will be removed in 0.22. Import impute.SimpleImputer from sklearn instead.\n",
      "  warnings.warn(msg, category=DeprecationWarning)\n"
     ]
    }
   ],
   "source": [
    "scaler = StandardScaler()\n",
    "scaler.fit(features_train[vfeatures])\n",
    "imp = Imputer(missing_values=np.nan , strategy='mean', axis=0)\n",
    "vfeature_impute = imp.fit_transform(features_train[vfeatures])"
   ]
  },
  {
   "cell_type": "code",
   "execution_count": 229,
   "metadata": {},
   "outputs": [],
   "source": [
    "vfeature_impute_scale = scaler.transform(vfeature_impute)\n",
    "vfeature_impute_scale = pd.DataFrame(vfeature_impute_scale, columns=vfeatures)"
   ]
  },
  {
   "cell_type": "code",
   "execution_count": 230,
   "metadata": {},
   "outputs": [],
   "source": [
    "pca = PCA()\n",
    "vfeature_pca = pca.fit_transform(vfeature_impute_scale)"
   ]
  },
  {
   "cell_type": "code",
   "execution_count": 231,
   "metadata": {},
   "outputs": [],
   "source": [
    "# check components number should be the same as total features\n",
    "components_total = len(pca.explained_variance_ratio_)\n",
    "# generate sequence for plotting\n",
    "components = np.arange(components_total)"
   ]
  },
  {
   "cell_type": "code",
   "execution_count": 232,
   "metadata": {},
   "outputs": [
    {
     "data": {
      "text/plain": [
       "Text(0.5,1,'Cumulative Explained Variance vs No. of Principal Components')"
      ]
     },
     "execution_count": 232,
     "metadata": {},
     "output_type": "execute_result"
    },
    {
     "data": {
      "image/png": "[encoded data removed]",
      "text/plain": [
       "<Figure size 1080x360 with 2 Axes>"
      ]
     },
     "metadata": {},
     "output_type": "display_data"
    }
   ],
   "source": [
    "fig, ax1 = plt.subplots(figsize=(15,5))\n",
    "\n",
    "ax1.bar(components[0:100],pca.explained_variance_ratio_[0:100])\n",
    "ax1.set_ylabel('Explained Variance', color=\"blue\")\n",
    "ax1.set_xlabel('Number of Components')\n",
    "\n",
    "ax2 = ax1.twinx() \n",
    "ax2.plot(np.cumsum(pca.explained_variance_ratio_[0:100]), color=\"red\",marker='o')\n",
    "ax2.set_ylabel('Cumulative Explained Variance', color=\"red\")\n",
    "plt.title(\"Cumulative Explained Variance vs No. of Principal Components\")"
   ]
  },
  {
   "cell_type": "code",
   "execution_count": 233,
   "metadata": {},
   "outputs": [
    {
     "data": {
      "text/plain": [
       "0.7982661563977428"
      ]
     },
     "execution_count": 233,
     "metadata": {},
     "output_type": "execute_result"
    }
   ],
   "source": [
    "np.cumsum(pca.explained_variance_ratio_[:30])[-1]"
   ]
  },
  {
   "cell_type": "code",
   "execution_count": 234,
   "metadata": {},
   "outputs": [],
   "source": [
    "# Re-apply PCA to the data while selecting for number of components to retain.\n",
    "pca_50 = PCA(n_components=30)\n",
    "vfeature_pca_50 = pca_50.fit_transform(vfeature_impute_scale)\n",
    "vfeature_pca_50_df = pd.DataFrame(vfeature_pca_50,columns= ['PCA'+str(i) for i in range(1,31)])"
   ]
  },
  {
   "cell_type": "code",
   "execution_count": 235,
   "metadata": {},
   "outputs": [
    {
     "data": {
      "text/html": [
       "<div>\n",
       "<style scoped>\n",
       "    .dataframe tbody tr th:only-of-type {\n",
       "        vertical-align: middle;\n",
       "    }\n",
       "\n",
       "    .dataframe tbody tr th {\n",
       "        vertical-align: top;\n",
       "    }\n",
       "\n",
       "    .dataframe thead th {\n",
       "        text-align: right;\n",
       "    }\n",
       "</style>\n",
       "<table border=\"1\" class=\"dataframe\">\n",
       "  <thead>\n",
       "    <tr style=\"text-align: right;\">\n",
       "      <th></th>\n",
       "      <th>PCA1</th>\n",
       "      <th>PCA2</th>\n",
       "      <th>PCA3</th>\n",
       "      <th>PCA4</th>\n",
       "      <th>PCA5</th>\n",
       "      <th>PCA6</th>\n",
       "      <th>PCA7</th>\n",
       "      <th>PCA8</th>\n",
       "      <th>PCA9</th>\n",
       "      <th>PCA10</th>\n",
       "      <th>...</th>\n",
       "      <th>PCA21</th>\n",
       "      <th>PCA22</th>\n",
       "      <th>PCA23</th>\n",
       "      <th>PCA24</th>\n",
       "      <th>PCA25</th>\n",
       "      <th>PCA26</th>\n",
       "      <th>PCA27</th>\n",
       "      <th>PCA28</th>\n",
       "      <th>PCA29</th>\n",
       "      <th>PCA30</th>\n",
       "    </tr>\n",
       "  </thead>\n",
       "  <tbody>\n",
       "    <tr>\n",
       "      <td>0</td>\n",
       "      <td>-0.989156</td>\n",
       "      <td>-2.226801</td>\n",
       "      <td>-0.018494</td>\n",
       "      <td>0.525163</td>\n",
       "      <td>-2.934965</td>\n",
       "      <td>-0.202244</td>\n",
       "      <td>0.926352</td>\n",
       "      <td>0.015712</td>\n",
       "      <td>1.389269</td>\n",
       "      <td>0.546977</td>\n",
       "      <td>...</td>\n",
       "      <td>-0.042120</td>\n",
       "      <td>-0.151957</td>\n",
       "      <td>0.200363</td>\n",
       "      <td>0.184439</td>\n",
       "      <td>0.054509</td>\n",
       "      <td>-0.057608</td>\n",
       "      <td>0.059484</td>\n",
       "      <td>0.103499</td>\n",
       "      <td>-0.206658</td>\n",
       "      <td>-0.022843</td>\n",
       "    </tr>\n",
       "    <tr>\n",
       "      <td>1</td>\n",
       "      <td>-0.857013</td>\n",
       "      <td>-2.256714</td>\n",
       "      <td>-0.702596</td>\n",
       "      <td>-0.285532</td>\n",
       "      <td>-2.148714</td>\n",
       "      <td>1.467798</td>\n",
       "      <td>2.097787</td>\n",
       "      <td>-1.888470</td>\n",
       "      <td>-0.189261</td>\n",
       "      <td>1.214213</td>\n",
       "      <td>...</td>\n",
       "      <td>-0.666675</td>\n",
       "      <td>-1.936465</td>\n",
       "      <td>0.818595</td>\n",
       "      <td>-0.102821</td>\n",
       "      <td>0.158807</td>\n",
       "      <td>-1.061569</td>\n",
       "      <td>0.615490</td>\n",
       "      <td>-0.198206</td>\n",
       "      <td>-0.079369</td>\n",
       "      <td>-0.812186</td>\n",
       "    </tr>\n",
       "    <tr>\n",
       "      <td>2</td>\n",
       "      <td>-0.792732</td>\n",
       "      <td>0.664346</td>\n",
       "      <td>-0.960204</td>\n",
       "      <td>-0.625495</td>\n",
       "      <td>-0.265246</td>\n",
       "      <td>0.253286</td>\n",
       "      <td>-0.057416</td>\n",
       "      <td>0.275557</td>\n",
       "      <td>0.272953</td>\n",
       "      <td>0.687701</td>\n",
       "      <td>...</td>\n",
       "      <td>-0.149644</td>\n",
       "      <td>0.064513</td>\n",
       "      <td>0.045087</td>\n",
       "      <td>-0.109818</td>\n",
       "      <td>0.353689</td>\n",
       "      <td>1.237981</td>\n",
       "      <td>-1.423908</td>\n",
       "      <td>0.557502</td>\n",
       "      <td>0.187581</td>\n",
       "      <td>-0.060044</td>\n",
       "    </tr>\n",
       "    <tr>\n",
       "      <td>3</td>\n",
       "      <td>-0.989156</td>\n",
       "      <td>-2.226801</td>\n",
       "      <td>-0.018494</td>\n",
       "      <td>0.525163</td>\n",
       "      <td>-2.934965</td>\n",
       "      <td>-0.202244</td>\n",
       "      <td>0.926352</td>\n",
       "      <td>0.015712</td>\n",
       "      <td>1.389269</td>\n",
       "      <td>0.546977</td>\n",
       "      <td>...</td>\n",
       "      <td>-0.042120</td>\n",
       "      <td>-0.151957</td>\n",
       "      <td>0.200363</td>\n",
       "      <td>0.184439</td>\n",
       "      <td>0.054509</td>\n",
       "      <td>-0.057608</td>\n",
       "      <td>0.059484</td>\n",
       "      <td>0.103499</td>\n",
       "      <td>-0.206658</td>\n",
       "      <td>-0.022843</td>\n",
       "    </tr>\n",
       "    <tr>\n",
       "      <td>4</td>\n",
       "      <td>1.479385</td>\n",
       "      <td>14.576917</td>\n",
       "      <td>-2.105395</td>\n",
       "      <td>-0.175172</td>\n",
       "      <td>0.202283</td>\n",
       "      <td>1.768197</td>\n",
       "      <td>-0.209557</td>\n",
       "      <td>0.754963</td>\n",
       "      <td>0.309553</td>\n",
       "      <td>-0.382630</td>\n",
       "      <td>...</td>\n",
       "      <td>0.318539</td>\n",
       "      <td>-0.196589</td>\n",
       "      <td>-0.153820</td>\n",
       "      <td>0.914797</td>\n",
       "      <td>-0.733626</td>\n",
       "      <td>0.134800</td>\n",
       "      <td>-0.174371</td>\n",
       "      <td>-0.233579</td>\n",
       "      <td>-0.016705</td>\n",
       "      <td>0.302301</td>\n",
       "    </tr>\n",
       "  </tbody>\n",
       "</table>\n",
       "<p>5 rows × 30 columns</p>\n",
       "</div>"
      ],
      "text/plain": [
       "       PCA1       PCA2      PCA3      PCA4      PCA5      PCA6      PCA7  \\\n",
       "0 -0.989156  -2.226801 -0.018494  0.525163 -2.934965 -0.202244  0.926352   \n",
       "1 -0.857013  -2.256714 -0.702596 -0.285532 -2.148714  1.467798  2.097787   \n",
       "2 -0.792732   0.664346 -0.960204 -0.625495 -0.265246  0.253286 -0.057416   \n",
       "3 -0.989156  -2.226801 -0.018494  0.525163 -2.934965 -0.202244  0.926352   \n",
       "4  1.479385  14.576917 -2.105395 -0.175172  0.202283  1.768197 -0.209557   \n",
       "\n",
       "       PCA8      PCA9     PCA10  ...     PCA21     PCA22     PCA23     PCA24  \\\n",
       "0  0.015712  1.389269  0.546977  ... -0.042120 -0.151957  0.200363  0.184439   \n",
       "1 -1.888470 -0.189261  1.214213  ... -0.666675 -1.936465  0.818595 -0.102821   \n",
       "2  0.275557  0.272953  0.687701  ... -0.149644  0.064513  0.045087 -0.109818   \n",
       "3  0.015712  1.389269  0.546977  ... -0.042120 -0.151957  0.200363  0.184439   \n",
       "4  0.754963  0.309553 -0.382630  ...  0.318539 -0.196589 -0.153820  0.914797   \n",
       "\n",
       "      PCA25     PCA26     PCA27     PCA28     PCA29     PCA30  \n",
       "0  0.054509 -0.057608  0.059484  0.103499 -0.206658 -0.022843  \n",
       "1  0.158807 -1.061569  0.615490 -0.198206 -0.079369 -0.812186  \n",
       "2  0.353689  1.237981 -1.423908  0.557502  0.187581 -0.060044  \n",
       "3  0.054509 -0.057608  0.059484  0.103499 -0.206658 -0.022843  \n",
       "4 -0.733626  0.134800 -0.174371 -0.233579 -0.016705  0.302301  \n",
       "\n",
       "[5 rows x 30 columns]"
      ]
     },
     "execution_count": 235,
     "metadata": {},
     "output_type": "execute_result"
    }
   ],
   "source": [
    "vfeature_pca_50_df.head()"
   ]
  },
  {
   "cell_type": "code",
   "execution_count": 236,
   "metadata": {},
   "outputs": [],
   "source": [
    "vfeature_pca_50_df.reset_index(drop=True,inplace=True)\n",
    "features_train.reset_index(drop=True,inplace=True)"
   ]
  },
  {
   "cell_type": "code",
   "execution_count": 247,
   "metadata": {},
   "outputs": [],
   "source": [
    "features_train.drop(vfeatures,axis=1,inplace=True)"
   ]
  },
  {
   "cell_type": "code",
   "execution_count": 238,
   "metadata": {},
   "outputs": [],
   "source": [
    "features_train = features_train.join(vfeature_pca_50_df)"
   ]
  },
  {
   "cell_type": "code",
   "execution_count": 239,
   "metadata": {},
   "outputs": [
    {
     "data": {
      "text/html": [
       "<div>\n",
       "<style scoped>\n",
       "    .dataframe tbody tr th:only-of-type {\n",
       "        vertical-align: middle;\n",
       "    }\n",
       "\n",
       "    .dataframe tbody tr th {\n",
       "        vertical-align: top;\n",
       "    }\n",
       "\n",
       "    .dataframe thead th {\n",
       "        text-align: right;\n",
       "    }\n",
       "</style>\n",
       "<table border=\"1\" class=\"dataframe\">\n",
       "  <thead>\n",
       "    <tr style=\"text-align: right;\">\n",
       "      <th></th>\n",
       "      <th>TransactionDT</th>\n",
       "      <th>TransactionAmt</th>\n",
       "      <th>ProductCD</th>\n",
       "      <th>card1</th>\n",
       "      <th>card2</th>\n",
       "      <th>card3</th>\n",
       "      <th>card4</th>\n",
       "      <th>card5</th>\n",
       "      <th>card6</th>\n",
       "      <th>addr1</th>\n",
       "      <th>...</th>\n",
       "      <th>PCA21</th>\n",
       "      <th>PCA22</th>\n",
       "      <th>PCA23</th>\n",
       "      <th>PCA24</th>\n",
       "      <th>PCA25</th>\n",
       "      <th>PCA26</th>\n",
       "      <th>PCA27</th>\n",
       "      <th>PCA28</th>\n",
       "      <th>PCA29</th>\n",
       "      <th>PCA30</th>\n",
       "    </tr>\n",
       "  </thead>\n",
       "  <tbody>\n",
       "    <tr>\n",
       "      <td>0</td>\n",
       "      <td>14765789</td>\n",
       "      <td>34.500</td>\n",
       "      <td>0</td>\n",
       "      <td>13743</td>\n",
       "      <td>555.0</td>\n",
       "      <td>150.0</td>\n",
       "      <td>2</td>\n",
       "      <td>226.0</td>\n",
       "      <td>1</td>\n",
       "      <td>330.0</td>\n",
       "      <td>...</td>\n",
       "      <td>-0.042120</td>\n",
       "      <td>-0.151957</td>\n",
       "      <td>0.200363</td>\n",
       "      <td>0.184439</td>\n",
       "      <td>0.054509</td>\n",
       "      <td>-0.057608</td>\n",
       "      <td>0.059484</td>\n",
       "      <td>0.103499</td>\n",
       "      <td>-0.206658</td>\n",
       "      <td>-0.022843</td>\n",
       "    </tr>\n",
       "    <tr>\n",
       "      <td>1</td>\n",
       "      <td>6708681</td>\n",
       "      <td>92.000</td>\n",
       "      <td>0</td>\n",
       "      <td>9228</td>\n",
       "      <td>143.0</td>\n",
       "      <td>150.0</td>\n",
       "      <td>2</td>\n",
       "      <td>226.0</td>\n",
       "      <td>1</td>\n",
       "      <td>143.0</td>\n",
       "      <td>...</td>\n",
       "      <td>-0.666675</td>\n",
       "      <td>-1.936465</td>\n",
       "      <td>0.818595</td>\n",
       "      <td>-0.102821</td>\n",
       "      <td>0.158807</td>\n",
       "      <td>-1.061569</td>\n",
       "      <td>0.615490</td>\n",
       "      <td>-0.198206</td>\n",
       "      <td>-0.079369</td>\n",
       "      <td>-0.812186</td>\n",
       "    </tr>\n",
       "    <tr>\n",
       "      <td>2</td>\n",
       "      <td>12109217</td>\n",
       "      <td>50.000</td>\n",
       "      <td>1</td>\n",
       "      <td>2803</td>\n",
       "      <td>100.0</td>\n",
       "      <td>150.0</td>\n",
       "      <td>2</td>\n",
       "      <td>226.0</td>\n",
       "      <td>1</td>\n",
       "      <td>299.0</td>\n",
       "      <td>...</td>\n",
       "      <td>-0.149644</td>\n",
       "      <td>0.064513</td>\n",
       "      <td>0.045087</td>\n",
       "      <td>-0.109818</td>\n",
       "      <td>0.353689</td>\n",
       "      <td>1.237981</td>\n",
       "      <td>-1.423908</td>\n",
       "      <td>0.557502</td>\n",
       "      <td>0.187581</td>\n",
       "      <td>-0.060044</td>\n",
       "    </tr>\n",
       "    <tr>\n",
       "      <td>3</td>\n",
       "      <td>11415306</td>\n",
       "      <td>39.000</td>\n",
       "      <td>0</td>\n",
       "      <td>18323</td>\n",
       "      <td>555.0</td>\n",
       "      <td>150.0</td>\n",
       "      <td>2</td>\n",
       "      <td>226.0</td>\n",
       "      <td>0</td>\n",
       "      <td>181.0</td>\n",
       "      <td>...</td>\n",
       "      <td>-0.042120</td>\n",
       "      <td>-0.151957</td>\n",
       "      <td>0.200363</td>\n",
       "      <td>0.184439</td>\n",
       "      <td>0.054509</td>\n",
       "      <td>-0.057608</td>\n",
       "      <td>0.059484</td>\n",
       "      <td>0.103499</td>\n",
       "      <td>-0.206658</td>\n",
       "      <td>-0.022843</td>\n",
       "    </tr>\n",
       "    <tr>\n",
       "      <td>4</td>\n",
       "      <td>9867694</td>\n",
       "      <td>66.945</td>\n",
       "      <td>2</td>\n",
       "      <td>4767</td>\n",
       "      <td>408.0</td>\n",
       "      <td>185.0</td>\n",
       "      <td>1</td>\n",
       "      <td>224.0</td>\n",
       "      <td>1</td>\n",
       "      <td>NaN</td>\n",
       "      <td>...</td>\n",
       "      <td>0.318539</td>\n",
       "      <td>-0.196589</td>\n",
       "      <td>-0.153820</td>\n",
       "      <td>0.914797</td>\n",
       "      <td>-0.733626</td>\n",
       "      <td>0.134800</td>\n",
       "      <td>-0.174371</td>\n",
       "      <td>-0.233579</td>\n",
       "      <td>-0.016705</td>\n",
       "      <td>0.302301</td>\n",
       "    </tr>\n",
       "  </tbody>\n",
       "</table>\n",
       "<p>5 rows × 146 columns</p>\n",
       "</div>"
      ],
      "text/plain": [
       "   TransactionDT  TransactionAmt  ProductCD  card1  card2  card3  card4  \\\n",
       "0       14765789          34.500          0  13743  555.0  150.0      2   \n",
       "1        6708681          92.000          0   9228  143.0  150.0      2   \n",
       "2       12109217          50.000          1   2803  100.0  150.0      2   \n",
       "3       11415306          39.000          0  18323  555.0  150.0      2   \n",
       "4        9867694          66.945          2   4767  408.0  185.0      1   \n",
       "\n",
       "   card5  card6  addr1  ...     PCA21     PCA22     PCA23     PCA24     PCA25  \\\n",
       "0  226.0      1  330.0  ... -0.042120 -0.151957  0.200363  0.184439  0.054509   \n",
       "1  226.0      1  143.0  ... -0.666675 -1.936465  0.818595 -0.102821  0.158807   \n",
       "2  226.0      1  299.0  ... -0.149644  0.064513  0.045087 -0.109818  0.353689   \n",
       "3  226.0      0  181.0  ... -0.042120 -0.151957  0.200363  0.184439  0.054509   \n",
       "4  224.0      1    NaN  ...  0.318539 -0.196589 -0.153820  0.914797 -0.733626   \n",
       "\n",
       "      PCA26     PCA27     PCA28     PCA29     PCA30  \n",
       "0 -0.057608  0.059484  0.103499 -0.206658 -0.022843  \n",
       "1 -1.061569  0.615490 -0.198206 -0.079369 -0.812186  \n",
       "2  1.237981 -1.423908  0.557502  0.187581 -0.060044  \n",
       "3 -0.057608  0.059484  0.103499 -0.206658 -0.022843  \n",
       "4  0.134800 -0.174371 -0.233579 -0.016705  0.302301  \n",
       "\n",
       "[5 rows x 146 columns]"
      ]
     },
     "execution_count": 239,
     "metadata": {},
     "output_type": "execute_result"
    }
   ],
   "source": [
    "features_train.head()"
   ]
  },
  {
   "cell_type": "markdown",
   "metadata": {},
   "source": [
    "## Train with all feature set"
   ]
  },
  {
   "cell_type": "code",
   "execution_count": null,
   "metadata": {},
   "outputs": [],
   "source": [
    "train_num = int(138771*0.8)#160000\n",
    "features_train = features_train.drop(['C8'],axis=1)\n",
    "categorical = list(set(categorical_raw).intersection(features_train.columns))\n",
    "model,valid_results = train_selector(params,train_num,features_train,labels_train,\n",
    "                                     categorical,verbose_eval=500)"
   ]
  },
  {
   "cell_type": "code",
   "execution_count": 56,
   "metadata": {},
   "outputs": [
    {
     "data": {
      "text/plain": [
       "1742"
      ]
     },
     "execution_count": 56,
     "metadata": {},
     "output_type": "execute_result"
    }
   ],
   "source": [
    "model.num_trees()"
   ]
  },
  {
   "cell_type": "markdown",
   "metadata": {},
   "source": [
    "## Permutation Importance"
   ]
  },
  {
   "cell_type": "code",
   "execution_count": null,
   "metadata": {},
   "outputs": [],
   "source": [
    "fi_importance = permutation_importance(model,features_train.iloc[160000:],\n",
    "                                       labels_train.iloc[160000:])"
   ]
  },
  {
   "cell_type": "code",
   "execution_count": 81,
   "metadata": {},
   "outputs": [
    {
     "data": {
      "text/html": [
       "<div>\n",
       "<style scoped>\n",
       "    .dataframe tbody tr th:only-of-type {\n",
       "        vertical-align: middle;\n",
       "    }\n",
       "\n",
       "    .dataframe tbody tr th {\n",
       "        vertical-align: top;\n",
       "    }\n",
       "\n",
       "    .dataframe thead th {\n",
       "        text-align: right;\n",
       "    }\n",
       "</style>\n",
       "<table border=\"1\" class=\"dataframe\">\n",
       "  <thead>\n",
       "    <tr style=\"text-align: right;\">\n",
       "      <th></th>\n",
       "      <th>feature</th>\n",
       "      <th>importance</th>\n",
       "    </tr>\n",
       "  </thead>\n",
       "  <tbody>\n",
       "    <tr>\n",
       "      <td>4</td>\n",
       "      <td>card2</td>\n",
       "      <td>0.012705</td>\n",
       "    </tr>\n",
       "    <tr>\n",
       "      <td>9</td>\n",
       "      <td>addr1</td>\n",
       "      <td>0.006663</td>\n",
       "    </tr>\n",
       "    <tr>\n",
       "      <td>24</td>\n",
       "      <td>C13</td>\n",
       "      <td>0.006573</td>\n",
       "    </tr>\n",
       "    <tr>\n",
       "      <td>13</td>\n",
       "      <td>C1</td>\n",
       "      <td>0.004514</td>\n",
       "    </tr>\n",
       "    <tr>\n",
       "      <td>25</td>\n",
       "      <td>C14</td>\n",
       "      <td>0.004220</td>\n",
       "    </tr>\n",
       "    <tr>\n",
       "      <td>0</td>\n",
       "      <td>TransactionDT</td>\n",
       "      <td>0.003639</td>\n",
       "    </tr>\n",
       "    <tr>\n",
       "      <td>3</td>\n",
       "      <td>card1</td>\n",
       "      <td>0.002957</td>\n",
       "    </tr>\n",
       "    <tr>\n",
       "      <td>428</td>\n",
       "      <td>P_email</td>\n",
       "      <td>0.002266</td>\n",
       "    </tr>\n",
       "    <tr>\n",
       "      <td>434</td>\n",
       "      <td>pdc_amt_ratio</td>\n",
       "      <td>0.002205</td>\n",
       "    </tr>\n",
       "    <tr>\n",
       "      <td>433</td>\n",
       "      <td>hour</td>\n",
       "      <td>0.001524</td>\n",
       "    </tr>\n",
       "    <tr>\n",
       "      <td>35</td>\n",
       "      <td>D10</td>\n",
       "      <td>0.001321</td>\n",
       "    </tr>\n",
       "    <tr>\n",
       "      <td>7</td>\n",
       "      <td>card5</td>\n",
       "      <td>0.001255</td>\n",
       "    </tr>\n",
       "    <tr>\n",
       "      <td>45</td>\n",
       "      <td>M5</td>\n",
       "      <td>0.001204</td>\n",
       "    </tr>\n",
       "    <tr>\n",
       "      <td>441</td>\n",
       "      <td>TransactionAmt_to_std_card1</td>\n",
       "      <td>0.001064</td>\n",
       "    </tr>\n",
       "    <tr>\n",
       "      <td>22</td>\n",
       "      <td>C11</td>\n",
       "      <td>0.001043</td>\n",
       "    </tr>\n",
       "    <tr>\n",
       "      <td>43</td>\n",
       "      <td>M3</td>\n",
       "      <td>0.001019</td>\n",
       "    </tr>\n",
       "    <tr>\n",
       "      <td>8</td>\n",
       "      <td>card6</td>\n",
       "      <td>0.000815</td>\n",
       "    </tr>\n",
       "    <tr>\n",
       "      <td>46</td>\n",
       "      <td>M6</td>\n",
       "      <td>0.000784</td>\n",
       "    </tr>\n",
       "    <tr>\n",
       "      <td>446</td>\n",
       "      <td>D15_to_std_card1</td>\n",
       "      <td>0.000779</td>\n",
       "    </tr>\n",
       "    <tr>\n",
       "      <td>29</td>\n",
       "      <td>D4</td>\n",
       "      <td>0.000750</td>\n",
       "    </tr>\n",
       "    <tr>\n",
       "      <td>26</td>\n",
       "      <td>D1</td>\n",
       "      <td>0.000736</td>\n",
       "    </tr>\n",
       "    <tr>\n",
       "      <td>435</td>\n",
       "      <td>pdc_amt_std_ratio</td>\n",
       "      <td>0.000735</td>\n",
       "    </tr>\n",
       "    <tr>\n",
       "      <td>14</td>\n",
       "      <td>C2</td>\n",
       "      <td>0.000730</td>\n",
       "    </tr>\n",
       "    <tr>\n",
       "      <td>445</td>\n",
       "      <td>D15_to_mean_card1</td>\n",
       "      <td>0.000654</td>\n",
       "    </tr>\n",
       "    <tr>\n",
       "      <td>408</td>\n",
       "      <td>id_20</td>\n",
       "      <td>0.000645</td>\n",
       "    </tr>\n",
       "    <tr>\n",
       "      <td>36</td>\n",
       "      <td>D11</td>\n",
       "      <td>0.000632</td>\n",
       "    </tr>\n",
       "    <tr>\n",
       "      <td>407</td>\n",
       "      <td>id_19</td>\n",
       "      <td>0.000623</td>\n",
       "    </tr>\n",
       "    <tr>\n",
       "      <td>1</td>\n",
       "      <td>TransactionAmt</td>\n",
       "      <td>0.000563</td>\n",
       "    </tr>\n",
       "    <tr>\n",
       "      <td>359</td>\n",
       "      <td>V310</td>\n",
       "      <td>0.000555</td>\n",
       "    </tr>\n",
       "    <tr>\n",
       "      <td>448</td>\n",
       "      <td>D15_to_std_addr1</td>\n",
       "      <td>0.000525</td>\n",
       "    </tr>\n",
       "    <tr>\n",
       "      <td>438</td>\n",
       "      <td>pdc_D1_std_ratio</td>\n",
       "      <td>0.000471</td>\n",
       "    </tr>\n",
       "    <tr>\n",
       "      <td>436</td>\n",
       "      <td>pdc_D1_ratio</td>\n",
       "      <td>0.000469</td>\n",
       "    </tr>\n",
       "    <tr>\n",
       "      <td>447</td>\n",
       "      <td>D15_to_mean_addr1</td>\n",
       "      <td>0.000419</td>\n",
       "    </tr>\n",
       "    <tr>\n",
       "      <td>437</td>\n",
       "      <td>pdc_D2_ratio</td>\n",
       "      <td>0.000409</td>\n",
       "    </tr>\n",
       "    <tr>\n",
       "      <td>451</td>\n",
       "      <td>Device_version</td>\n",
       "      <td>0.000404</td>\n",
       "    </tr>\n",
       "    <tr>\n",
       "      <td>27</td>\n",
       "      <td>D2</td>\n",
       "      <td>0.000399</td>\n",
       "    </tr>\n",
       "    <tr>\n",
       "      <td>439</td>\n",
       "      <td>pdc_D2_std_ratio</td>\n",
       "      <td>0.000377</td>\n",
       "    </tr>\n",
       "    <tr>\n",
       "      <td>33</td>\n",
       "      <td>D8</td>\n",
       "      <td>0.000374</td>\n",
       "    </tr>\n",
       "    <tr>\n",
       "      <td>366</td>\n",
       "      <td>V317</td>\n",
       "      <td>0.000345</td>\n",
       "    </tr>\n",
       "    <tr>\n",
       "      <td>444</td>\n",
       "      <td>id_02_to_std_card1</td>\n",
       "      <td>0.000345</td>\n",
       "    </tr>\n",
       "    <tr>\n",
       "      <td>40</td>\n",
       "      <td>D15</td>\n",
       "      <td>0.000340</td>\n",
       "    </tr>\n",
       "    <tr>\n",
       "      <td>449</td>\n",
       "      <td>TransactionAmt_decimal</td>\n",
       "      <td>0.000335</td>\n",
       "    </tr>\n",
       "    <tr>\n",
       "      <td>334</td>\n",
       "      <td>V285</td>\n",
       "      <td>0.000247</td>\n",
       "    </tr>\n",
       "    <tr>\n",
       "      <td>42</td>\n",
       "      <td>M2</td>\n",
       "      <td>0.000239</td>\n",
       "    </tr>\n",
       "    <tr>\n",
       "      <td>452</td>\n",
       "      <td>screen_width</td>\n",
       "      <td>0.000234</td>\n",
       "    </tr>\n",
       "    <tr>\n",
       "      <td>69</td>\n",
       "      <td>V20</td>\n",
       "      <td>0.000195</td>\n",
       "    </tr>\n",
       "    <tr>\n",
       "      <td>429</td>\n",
       "      <td>R_email</td>\n",
       "      <td>0.000190</td>\n",
       "    </tr>\n",
       "    <tr>\n",
       "      <td>12</td>\n",
       "      <td>dist2</td>\n",
       "      <td>0.000189</td>\n",
       "    </tr>\n",
       "    <tr>\n",
       "      <td>2</td>\n",
       "      <td>ProductCD</td>\n",
       "      <td>0.000182</td>\n",
       "    </tr>\n",
       "    <tr>\n",
       "      <td>132</td>\n",
       "      <td>V83</td>\n",
       "      <td>0.000178</td>\n",
       "    </tr>\n",
       "  </tbody>\n",
       "</table>\n",
       "</div>"
      ],
      "text/plain": [
       "                         feature  importance\n",
       "4                          card2    0.012705\n",
       "9                          addr1    0.006663\n",
       "24                           C13    0.006573\n",
       "13                            C1    0.004514\n",
       "25                           C14    0.004220\n",
       "0                  TransactionDT    0.003639\n",
       "3                          card1    0.002957\n",
       "428                      P_email    0.002266\n",
       "434                pdc_amt_ratio    0.002205\n",
       "433                         hour    0.001524\n",
       "35                           D10    0.001321\n",
       "7                          card5    0.001255\n",
       "45                            M5    0.001204\n",
       "441  TransactionAmt_to_std_card1    0.001064\n",
       "22                           C11    0.001043\n",
       "43                            M3    0.001019\n",
       "8                          card6    0.000815\n",
       "46                            M6    0.000784\n",
       "446             D15_to_std_card1    0.000779\n",
       "29                            D4    0.000750\n",
       "26                            D1    0.000736\n",
       "435            pdc_amt_std_ratio    0.000735\n",
       "14                            C2    0.000730\n",
       "445            D15_to_mean_card1    0.000654\n",
       "408                        id_20    0.000645\n",
       "36                           D11    0.000632\n",
       "407                        id_19    0.000623\n",
       "1                 TransactionAmt    0.000563\n",
       "359                         V310    0.000555\n",
       "448             D15_to_std_addr1    0.000525\n",
       "438             pdc_D1_std_ratio    0.000471\n",
       "436                 pdc_D1_ratio    0.000469\n",
       "447            D15_to_mean_addr1    0.000419\n",
       "437                 pdc_D2_ratio    0.000409\n",
       "451               Device_version    0.000404\n",
       "27                            D2    0.000399\n",
       "439             pdc_D2_std_ratio    0.000377\n",
       "33                            D8    0.000374\n",
       "366                         V317    0.000345\n",
       "444           id_02_to_std_card1    0.000345\n",
       "40                           D15    0.000340\n",
       "449       TransactionAmt_decimal    0.000335\n",
       "334                         V285    0.000247\n",
       "42                            M2    0.000239\n",
       "452                 screen_width    0.000234\n",
       "69                           V20    0.000195\n",
       "429                      R_email    0.000190\n",
       "12                         dist2    0.000189\n",
       "2                      ProductCD    0.000182\n",
       "132                          V83    0.000178"
      ]
     },
     "execution_count": 81,
     "metadata": {},
     "output_type": "execute_result"
    }
   ],
   "source": [
    "fi_importance.sort_values(by='importance',ascending=False)[0:50]"
   ]
  },
  {
   "cell_type": "markdown",
   "metadata": {},
   "source": [
    "## BenchMark Result"
   ]
  },
  {
   "cell_type": "code",
   "execution_count": 32,
   "metadata": {},
   "outputs": [
    {
     "name": "stdout",
     "output_type": "stream",
     "text": [
      "Fold 0\n"
     ]
    },
    {
     "name": "stderr",
     "output_type": "stream",
     "text": [
      "/home/jinpwa/anaconda3/lib/python3.6/site-packages/lightgbm/basic.py:1247: UserWarning: Using categorical_feature in Dataset.\n",
      "  warnings.warn('Using categorical_feature in Dataset.')\n"
     ]
    },
    {
     "name": "stdout",
     "output_type": "stream",
     "text": [
      "Training until validation scores don't improve for 500 rounds.\n",
      "[500]\ttraining's auc: 0.986993\tvalid_1's auc: 0.899365\n",
      "[1000]\ttraining's auc: 0.998656\tvalid_1's auc: 0.907401\n",
      "[1500]\ttraining's auc: 0.999906\tvalid_1's auc: 0.909034\n",
      "[2000]\ttraining's auc: 0.999997\tvalid_1's auc: 0.909812\n",
      "[2500]\ttraining's auc: 1\tvalid_1's auc: 0.910223\n",
      "[3000]\ttraining's auc: 1\tvalid_1's auc: 0.910567\n",
      "Early stopping, best iteration is:\n",
      "[2883]\ttraining's auc: 1\tvalid_1's auc: 0.910572\n",
      "  auc =  0.9105717682715254\n",
      "Fold 1\n"
     ]
    },
    {
     "name": "stderr",
     "output_type": "stream",
     "text": [
      "/home/jinpwa/anaconda3/lib/python3.6/site-packages/lightgbm/basic.py:1247: UserWarning: Using categorical_feature in Dataset.\n",
      "  warnings.warn('Using categorical_feature in Dataset.')\n"
     ]
    },
    {
     "name": "stdout",
     "output_type": "stream",
     "text": [
      "Training until validation scores don't improve for 500 rounds.\n",
      "[500]\ttraining's auc: 0.988059\tvalid_1's auc: 0.919997\n",
      "[1000]\ttraining's auc: 0.998942\tvalid_1's auc: 0.926944\n",
      "[1500]\ttraining's auc: 0.999944\tvalid_1's auc: 0.927108\n",
      "Early stopping, best iteration is:\n",
      "[1142]\ttraining's auc: 0.999508\tvalid_1's auc: 0.927221\n",
      "  auc =  0.9272212945417423\n",
      "Fold 2\n"
     ]
    },
    {
     "name": "stderr",
     "output_type": "stream",
     "text": [
      "/home/jinpwa/anaconda3/lib/python3.6/site-packages/lightgbm/basic.py:1247: UserWarning: Using categorical_feature in Dataset.\n",
      "  warnings.warn('Using categorical_feature in Dataset.')\n"
     ]
    },
    {
     "name": "stdout",
     "output_type": "stream",
     "text": [
      "Training until validation scores don't improve for 500 rounds.\n",
      "[500]\ttraining's auc: 0.987234\tvalid_1's auc: 0.9135\n",
      "[1000]\ttraining's auc: 0.998828\tvalid_1's auc: 0.918254\n",
      "[1500]\ttraining's auc: 0.999941\tvalid_1's auc: 0.917814\n",
      "Early stopping, best iteration is:\n",
      "[1076]\ttraining's auc: 0.999223\tvalid_1's auc: 0.918368\n",
      "  auc =  0.9183677791044109\n"
     ]
    }
   ],
   "source": [
    "categorical = list(set(categorical_raw).intersection(features_train.columns))\n",
    "#ave_auc,to_drop = fold_select_feature(3,features_train,labels_train,categorical,importance=0)\n",
    "ave_auc = fold_train_selector(3,features_train,labels_train,categorical)"
   ]
  },
  {
   "cell_type": "code",
   "execution_count": 33,
   "metadata": {},
   "outputs": [
    {
     "data": {
      "text/plain": [
       "0.9187202806392263"
      ]
     },
     "execution_count": 33,
     "metadata": {},
     "output_type": "execute_result"
    }
   ],
   "source": [
    "# feat469 down sampling drop 469-457 features + 'is_card_freq_pdc'\n",
    "ave_auc"
   ]
  },
  {
   "cell_type": "code",
   "execution_count": 26,
   "metadata": {},
   "outputs": [
    {
     "data": {
      "text/plain": [
       "0.9185581731347952"
      ]
     },
     "execution_count": 26,
     "metadata": {},
     "output_type": "execute_result"
    }
   ],
   "source": [
    "# feat469 down sampling drop 469-457 features + 'card_id_02_mean'\n",
    "ave_auc"
   ]
  },
  {
   "cell_type": "code",
   "execution_count": 20,
   "metadata": {},
   "outputs": [
    {
     "data": {
      "text/plain": [
       "0.9187282935947707"
      ]
     },
     "execution_count": 20,
     "metadata": {},
     "output_type": "execute_result"
    }
   ],
   "source": [
    "# feat469 down sampling drop 469-457 features + pdc_D3_ratio\n",
    "ave_auc"
   ]
  },
  {
   "cell_type": "code",
   "execution_count": 14,
   "metadata": {},
   "outputs": [
    {
     "data": {
      "text/plain": [
       "0.9188826537659915"
      ]
     },
     "execution_count": 14,
     "metadata": {},
     "output_type": "execute_result"
    }
   ],
   "source": [
    "# feat469 down sampling drop 469-457 features + 'card_D3_mean'\n",
    "ave_auc"
   ]
  },
  {
   "cell_type": "code",
   "execution_count": 75,
   "metadata": {},
   "outputs": [
    {
     "data": {
      "text/plain": [
       "0.9188856672530528"
      ]
     },
     "execution_count": 75,
     "metadata": {},
     "output_type": "execute_result"
    }
   ],
   "source": [
    "# feat469 down sampling drop 469-457 features + 'is_card_freq_Device'\n",
    "ave_auc"
   ]
  },
  {
   "cell_type": "code",
   "execution_count": 69,
   "metadata": {},
   "outputs": [
    {
     "data": {
      "text/plain": [
       "0.9186612059700863"
      ]
     },
     "execution_count": 69,
     "metadata": {},
     "output_type": "execute_result"
    }
   ],
   "source": [
    "# feat469 down sampling drop 469-457 features + 'card_D2_std'\n",
    "ave_auc"
   ]
  },
  {
   "cell_type": "code",
   "execution_count": 63,
   "metadata": {},
   "outputs": [
    {
     "data": {
      "text/plain": [
       "0.918888675912285"
      ]
     },
     "execution_count": 63,
     "metadata": {},
     "output_type": "execute_result"
    }
   ],
   "source": [
    "# feat469 down sampling drop 469-457 features + 'pdc_D3_std_ratio'\n",
    "ave_auc"
   ]
  },
  {
   "cell_type": "code",
   "execution_count": 57,
   "metadata": {},
   "outputs": [
    {
     "data": {
      "text/plain": [
       "0.9184709757178813"
      ]
     },
     "execution_count": 57,
     "metadata": {},
     "output_type": "execute_result"
    }
   ],
   "source": [
    "# feat469 down sampling drop 469-457 features + ''card_D1_mean''\n",
    "ave_auc"
   ]
  },
  {
   "cell_type": "code",
   "execution_count": 51,
   "metadata": {},
   "outputs": [
    {
     "data": {
      "text/plain": [
       "0.9186729968312175"
      ]
     },
     "execution_count": 51,
     "metadata": {},
     "output_type": "execute_result"
    }
   ],
   "source": [
    "# feat469 down sampling drop 469-457 features + 'is_card_freq_addr1'\n",
    "ave_auc"
   ]
  },
  {
   "cell_type": "code",
   "execution_count": 44,
   "metadata": {},
   "outputs": [
    {
     "data": {
      "text/plain": [
       "0.9188152392725021"
      ]
     },
     "execution_count": 44,
     "metadata": {},
     "output_type": "execute_result"
    }
   ],
   "source": [
    "# feat469 down sampling drop 469-457 features + 'card_D3_std'\n",
    "ave_auc"
   ]
  },
  {
   "cell_type": "code",
   "execution_count": 38,
   "metadata": {},
   "outputs": [
    {
     "data": {
      "text/plain": [
       "0.9183628981031726"
      ]
     },
     "execution_count": 38,
     "metadata": {},
     "output_type": "execute_result"
    }
   ],
   "source": [
    "# feat469 down sampling drop 469-457 features + 'card_D1_std'\n",
    "ave_auc"
   ]
  },
  {
   "cell_type": "code",
   "execution_count": 25,
   "metadata": {},
   "outputs": [
    {
     "data": {
      "text/plain": [
       "0.9180873667461418"
      ]
     },
     "execution_count": 25,
     "metadata": {},
     "output_type": "execute_result"
    }
   ],
   "source": [
    "# feat469 down sampling\n",
    "ave_auc"
   ]
  },
  {
   "cell_type": "code",
   "execution_count": 32,
   "metadata": {},
   "outputs": [
    {
     "data": {
      "text/plain": [
       "0.9191784018587053"
      ]
     },
     "execution_count": 32,
     "metadata": {},
     "output_type": "execute_result"
    }
   ],
   "source": [
    "# feat469 down sampling drop 469-457 features\n",
    "ave_auc"
   ]
  },
  {
   "cell_type": "code",
   "execution_count": 17,
   "metadata": {},
   "outputs": [
    {
     "data": {
      "text/plain": [
       "0.9189941602019884"
      ]
     },
     "execution_count": 17,
     "metadata": {},
     "output_type": "execute_result"
    }
   ],
   "source": [
    "# feat457 down sampling\n",
    "ave_auc"
   ]
  },
  {
   "cell_type": "code",
   "execution_count": 249,
   "metadata": {},
   "outputs": [
    {
     "data": {
      "text/plain": [
       "0.9470158266672326"
      ]
     },
     "execution_count": 249,
     "metadata": {},
     "output_type": "execute_result"
    }
   ],
   "source": [
    "# with no vfeatures\n",
    "ave_auc"
   ]
  },
  {
   "cell_type": "code",
   "execution_count": 241,
   "metadata": {},
   "outputs": [
    {
     "data": {
      "text/plain": [
       "0.9421918810934149"
      ]
     },
     "execution_count": 241,
     "metadata": {},
     "output_type": "execute_result"
    }
   ],
   "source": [
    "# # feat pca30\n",
    "ave_auc"
   ]
  },
  {
   "cell_type": "code",
   "execution_count": 223,
   "metadata": {},
   "outputs": [
    {
     "data": {
      "text/plain": [
       "0.9411018550115013"
      ]
     },
     "execution_count": 223,
     "metadata": {},
     "output_type": "execute_result"
    }
   ],
   "source": [
    "# feat pca50\n",
    "ave_auc"
   ]
  },
  {
   "cell_type": "code",
   "execution_count": 204,
   "metadata": {},
   "outputs": [
    {
     "data": {
      "text/plain": [
       "0.9386209646549712"
      ]
     },
     "execution_count": 204,
     "metadata": {},
     "output_type": "execute_result"
    }
   ],
   "source": [
    "# feat pca100\n",
    "ave_auc"
   ]
  },
  {
   "cell_type": "code",
   "execution_count": 167,
   "metadata": {},
   "outputs": [
    {
     "data": {
      "text/plain": [
       "0.9404124380611882"
      ]
     },
     "execution_count": 167,
     "metadata": {},
     "output_type": "execute_result"
    }
   ],
   "source": [
    "# feat pca60\n",
    "ave_auc"
   ]
  },
  {
   "cell_type": "code",
   "execution_count": 68,
   "metadata": {},
   "outputs": [
    {
     "data": {
      "text/plain": [
       "0.9459189689684873"
      ]
     },
     "execution_count": 68,
     "metadata": {},
     "output_type": "execute_result"
    }
   ],
   "source": [
    "# feat 456\n",
    "ave_auc"
   ]
  },
  {
   "cell_type": "code",
   "execution_count": 63,
   "metadata": {},
   "outputs": [
    {
     "data": {
      "text/plain": [
       "0.9461316910191324"
      ]
     },
     "execution_count": 63,
     "metadata": {},
     "output_type": "execute_result"
    }
   ],
   "source": [
    "# feat 457\n",
    "ave_auc"
   ]
  },
  {
   "cell_type": "code",
   "execution_count": 21,
   "metadata": {},
   "outputs": [
    {
     "data": {
      "text/plain": [
       "0.9457859715571262"
      ]
     },
     "execution_count": 21,
     "metadata": {},
     "output_type": "execute_result"
    }
   ],
   "source": [
    "# feat 476\n",
    "ave_auc"
   ]
  },
  {
   "cell_type": "markdown",
   "metadata": {},
   "source": [
    "## Feature selection by Importance"
   ]
  },
  {
   "cell_type": "code",
   "execution_count": 78,
   "metadata": {},
   "outputs": [],
   "source": [
    "#to_drop = list(select_by_importance(model,features_train,importance=0))\n",
    "#to_drop = fi_importance[fi_importance.importance <0].feature\n",
    "to_drop = ['D9']"
   ]
  },
  {
   "cell_type": "code",
   "execution_count": 79,
   "metadata": {},
   "outputs": [
    {
     "name": "stdout",
     "output_type": "stream",
     "text": [
      "Fold 0\n"
     ]
    },
    {
     "name": "stderr",
     "output_type": "stream",
     "text": [
      "/home/jinpwa/anaconda3/lib/python3.6/site-packages/lightgbm/basic.py:1247: UserWarning: Using categorical_feature in Dataset.\n",
      "  warnings.warn('Using categorical_feature in Dataset.')\n"
     ]
    },
    {
     "name": "stdout",
     "output_type": "stream",
     "text": [
      "Training until validation scores don't improve for 500 rounds.\n",
      "[500]\ttraining's auc: 0.996392\tvalid_1's auc: 0.936322\n",
      "[1000]\ttraining's auc: 0.999944\tvalid_1's auc: 0.945575\n",
      "[1500]\ttraining's auc: 1\tvalid_1's auc: 0.94773\n",
      "[2000]\ttraining's auc: 1\tvalid_1's auc: 0.948412\n",
      "Early stopping, best iteration is:\n",
      "[1597]\ttraining's auc: 1\tvalid_1's auc: 0.947932\n",
      "  auc =  0.9479318648485789\n",
      "Fold 1\n"
     ]
    },
    {
     "name": "stderr",
     "output_type": "stream",
     "text": [
      "/home/jinpwa/anaconda3/lib/python3.6/site-packages/lightgbm/basic.py:1247: UserWarning: Using categorical_feature in Dataset.\n",
      "  warnings.warn('Using categorical_feature in Dataset.')\n"
     ]
    },
    {
     "name": "stdout",
     "output_type": "stream",
     "text": [
      "Training until validation scores don't improve for 500 rounds.\n",
      "[500]\ttraining's auc: 0.997029\tvalid_1's auc: 0.932007\n",
      "[1000]\ttraining's auc: 0.99996\tvalid_1's auc: 0.941922\n",
      "[1500]\ttraining's auc: 1\tvalid_1's auc: 0.943769\n",
      "[2000]\ttraining's auc: 1\tvalid_1's auc: 0.944145\n",
      "Early stopping, best iteration is:\n",
      "[1712]\ttraining's auc: 1\tvalid_1's auc: 0.944142\n",
      "  auc =  0.9441424518705119\n",
      "Fold 2\n"
     ]
    },
    {
     "name": "stderr",
     "output_type": "stream",
     "text": [
      "/home/jinpwa/anaconda3/lib/python3.6/site-packages/lightgbm/basic.py:1247: UserWarning: Using categorical_feature in Dataset.\n",
      "  warnings.warn('Using categorical_feature in Dataset.')\n"
     ]
    },
    {
     "name": "stdout",
     "output_type": "stream",
     "text": [
      "Training until validation scores don't improve for 500 rounds.\n",
      "[500]\ttraining's auc: 0.99636\tvalid_1's auc: 0.933594\n",
      "[1000]\ttraining's auc: 0.999936\tvalid_1's auc: 0.942593\n",
      "[1500]\ttraining's auc: 1\tvalid_1's auc: 0.944826\n",
      "[2000]\ttraining's auc: 1\tvalid_1's auc: 0.945345\n",
      "Early stopping, best iteration is:\n",
      "[1732]\ttraining's auc: 1\tvalid_1's auc: 0.945217\n",
      "  auc =  0.9452174170364261\n"
     ]
    }
   ],
   "source": [
    "features_train_temp = features_train.drop(to_drop,axis=1)\n",
    "categorical_temp = list(set(categorical_raw).intersection(features_train_temp.columns))\n",
    "ave_auc = fold_train_selector(3,features_train_temp,labels_train,categorical_temp)"
   ]
  },
  {
   "cell_type": "code",
   "execution_count": 71,
   "metadata": {},
   "outputs": [
    {
     "data": {
      "text/plain": [
       "0.9458038011328773"
      ]
     },
     "execution_count": 71,
     "metadata": {},
     "output_type": "execute_result"
    }
   ],
   "source": [
    "# drop 'V102'\n",
    "ave_auc"
   ]
  },
  {
   "cell_type": "code",
   "execution_count": 74,
   "metadata": {},
   "outputs": [
    {
     "data": {
      "text/plain": [
       "0.94576481260304"
      ]
     },
     "execution_count": 74,
     "metadata": {},
     "output_type": "execute_result"
    }
   ],
   "source": [
    "# drop 'C10'\n",
    "ave_auc"
   ]
  },
  {
   "cell_type": "code",
   "execution_count": 77,
   "metadata": {},
   "outputs": [
    {
     "data": {
      "text/plain": [
       "0.9458355844693852"
      ]
     },
     "execution_count": 77,
     "metadata": {},
     "output_type": "execute_result"
    }
   ],
   "source": [
    "# drop 'V29'\n",
    "ave_auc"
   ]
  },
  {
   "cell_type": "code",
   "execution_count": 80,
   "metadata": {},
   "outputs": [
    {
     "data": {
      "text/plain": [
       "0.945763911251839"
      ]
     },
     "execution_count": 80,
     "metadata": {},
     "output_type": "execute_result"
    }
   ],
   "source": [
    "# drop D9\n",
    "ave_auc"
   ]
  },
  {
   "cell_type": "code",
   "execution_count": 44,
   "metadata": {},
   "outputs": [],
   "source": [
    "with open('./data/feat476_rm_pm_importance0.pickle', 'wb') as handle:\n",
    "    pickle.dump(to_drop, handle, protocol=pickle.HIGHEST_PROTOCOL)"
   ]
  },
  {
   "cell_type": "markdown",
   "metadata": {},
   "source": [
    "## Recursive Eliminate Features"
   ]
  },
  {
   "cell_type": "code",
   "execution_count": null,
   "metadata": {},
   "outputs": [],
   "source": [
    "best = 0.9531365218167643\n",
    "rm_col = ''\n",
    "for col in categorical:\n",
    "    print(col)\n",
    "    features_train_temp = features_train.drop(col,axis=1)\n",
    "    categorical_temp = list(set(categorical_raw).intersection(features_train_temp.columns))\n",
    "    model_temp,valid_results = train_selector(params,train_num,features_train_temp,labels_train,categorical_temp,verbose_eval=2000)\n",
    "    pfm = max(valid_results['valid_1']['auc'])\n",
    "    if pfm > best:\n",
    "        print('remove %s improve auc from %s to %s this feature is endanger'%(col,best,pfm))\n",
    "        best = pfm\n",
    "        rm_col = col\n",
    "        "
   ]
  }
 ],
 "metadata": {
  "kernelspec": {
   "display_name": "Python 3",
   "language": "python",
   "name": "python3"
  },
  "language_info": {
   "codemirror_mode": {
    "name": "ipython",
    "version": 3
   },
   "file_extension": ".py",
   "mimetype": "text/x-python",
   "name": "python",
   "nbconvert_exporter": "python",
   "pygments_lexer": "ipython3",
   "version": "3.6.5"
  }
 },
 "nbformat": 4,
 "nbformat_minor": 2
}
