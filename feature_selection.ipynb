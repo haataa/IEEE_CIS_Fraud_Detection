{
 "cells": [
  {
   "cell_type": "code",
   "execution_count": 2,
   "metadata": {},
   "outputs": [],
   "source": [
    "# import packages\n",
    "import numpy as np\n",
    "import pandas as pd\n",
    "import matplotlib.pyplot as plt\n",
    "import featuretools as ft\n",
    "import lightgbm as lgb\n",
    "import seaborn as sns\n",
    "from sklearn.model_selection import GridSearchCV\n",
    "from sklearn.model_selection import KFold\n",
    "from sklearn.metrics import roc_auc_score\n",
    "from random import sample \n",
    "\n",
    "%matplotlib inline\n",
    "RSEED = 50"
   ]
  },
  {
   "cell_type": "markdown",
   "metadata": {},
   "source": [
    "# Load Original Features"
   ]
  },
  {
   "cell_type": "code",
   "execution_count": 3,
   "metadata": {},
   "outputs": [],
   "source": [
    "feat_num = 469\n",
    "df_total = pd.read_csv('./data/features%s.csv'%(feat_num))"
   ]
  },
  {
   "cell_type": "code",
   "execution_count": 4,
   "metadata": {},
   "outputs": [
    {
     "data": {
      "text/plain": [
       "(590540, 469)"
      ]
     },
     "execution_count": 4,
     "metadata": {},
     "output_type": "execute_result"
    }
   ],
   "source": [
    "df_train = df_total[df_total['isFraud'].notnull()]\n",
    "df_train.shape"
   ]
  },
  {
   "cell_type": "markdown",
   "metadata": {},
   "source": [
    "# Sample Train Data"
   ]
  },
  {
   "cell_type": "code",
   "execution_count": 5,
   "metadata": {},
   "outputs": [
    {
     "data": {
      "text/plain": [
       "(100000, 469)"
      ]
     },
     "execution_count": 5,
     "metadata": {},
     "output_type": "execute_result"
    }
   ],
   "source": [
    "df_train_sample=df_train.sample(n=100000,random_state=RSEED)\n",
    "df_train_sample.shape"
   ]
  },
  {
   "cell_type": "code",
   "execution_count": 6,
   "metadata": {},
   "outputs": [
    {
     "data": {
      "text/plain": [
       "(96539, 469)"
      ]
     },
     "execution_count": 6,
     "metadata": {},
     "output_type": "execute_result"
    }
   ],
   "source": [
    "df_train_sample[df_train_sample.isFraud==0].shape"
   ]
  },
  {
   "cell_type": "code",
   "execution_count": 7,
   "metadata": {},
   "outputs": [
    {
     "data": {
      "text/plain": [
       "(3461, 469)"
      ]
     },
     "execution_count": 7,
     "metadata": {},
     "output_type": "execute_result"
    }
   ],
   "source": [
    "df_train_sample[df_train_sample.isFraud==1].shape"
   ]
  },
  {
   "cell_type": "code",
   "execution_count": null,
   "metadata": {},
   "outputs": [],
   "source": []
  },
  {
   "cell_type": "markdown",
   "metadata": {},
   "source": [
    "# Prepare Data"
   ]
  },
  {
   "cell_type": "code",
   "execution_count": 44,
   "metadata": {},
   "outputs": [
    {
     "data": {
      "text/plain": [
       "(100000, 467)"
      ]
     },
     "execution_count": 44,
     "metadata": {},
     "output_type": "execute_result"
    }
   ],
   "source": [
    "labels_train = df_train_sample['isFraud']\n",
    "features_train = df_train_sample.drop(columns = ['isFraud', 'TransactionID'])\n",
    "features_train.shape"
   ]
  },
  {
   "cell_type": "code",
   "execution_count": 45,
   "metadata": {},
   "outputs": [],
   "source": [
    "categorical_raw = ['ProductCD', 'card2', 'card3', 'card4', 'card5','card6',\n",
    "              'addr1','addr2','P_email','R_email','M1','M2','M3',\n",
    "              'M4','M5','M6','M7','M8','M9','DeviceType','DeviceInfo','dow','hour',\n",
    "              'Device_name','Device_version','screen_width','screen_height',\n",
    "               'P_email_suffix','R_email_suffix','id_30_OS','id_30_version']\n",
    "ids = [ 'id_%s'%(i) for i in range(12,39)]\n",
    "categorical_raw = categorical_raw + ids"
   ]
  },
  {
   "cell_type": "code",
   "execution_count": 55,
   "metadata": {},
   "outputs": [
    {
     "data": {
      "text/plain": [
       "id_23               4\n",
       "id_13              39\n",
       "id_28               3\n",
       "ProductCD           5\n",
       "id_16               3\n",
       "M2                  3\n",
       "id_32               4\n",
       "id_15               4\n",
       "id_30_version      42\n",
       "id_21             183\n",
       "id_22              15\n",
       "id_37               3\n",
       "card6               5\n",
       "M6                  3\n",
       "id_27               3\n",
       "screen_height      72\n",
       "id_12               3\n",
       "id_19             417\n",
       "screen_width       79\n",
       "id_30_OS            8\n",
       "addr2              34\n",
       "id_38               3\n",
       "id_31              25\n",
       "M8                  3\n",
       "addr1             175\n",
       "card2             500\n",
       "card4               5\n",
       "id_29               3\n",
       "id_34               5\n",
       "id_36               3\n",
       "Device_name        14\n",
       "id_14              21\n",
       "id_26              65\n",
       "id_17              70\n",
       "R_email            46\n",
       "card3              73\n",
       "dow                 7\n",
       "M7                  3\n",
       "M5                  3\n",
       "id_20             241\n",
       "id_35               3\n",
       "hour               24\n",
       "M9                  3\n",
       "card5              83\n",
       "id_18              13\n",
       "R_email_suffix      9\n",
       "DeviceType          3\n",
       "M3                  3\n",
       "id_24              11\n",
       "id_25             165\n",
       "M1                  3\n",
       "M4                  4\n",
       "P_email_suffix      9\n",
       "P_email            45\n",
       "Device_version    233\n",
       "dtype: int64"
      ]
     },
     "execution_count": 55,
     "metadata": {},
     "output_type": "execute_result"
    }
   ],
   "source": [
    "features_train[categorical].nunique()"
   ]
  },
  {
   "cell_type": "markdown",
   "metadata": {},
   "source": [
    "# Select Features"
   ]
  },
  {
   "cell_type": "code",
   "execution_count": 46,
   "metadata": {},
   "outputs": [],
   "source": [
    "params = {'num_leaves': 491,\n",
    "          'min_child_weight': 0.03454472573214212,\n",
    "          'feature_fraction': 0.3797454081646243,\n",
    "          'bagging_fraction': 0.4181193142567742,\n",
    "          'min_data_in_leaf': 106,\n",
    "          'objective': 'binary',\n",
    "          'max_depth': -1,\n",
    "          'learning_rate': 0.006883242363721497,\n",
    "          \"boosting_type\": \"gbdt\",\n",
    "          \"bagging_seed\": 11,\n",
    "          \"metric\": 'auc',\n",
    "          \"verbosity\": -1,\n",
    "          'reg_alpha': 0.3899927210061127,\n",
    "          'reg_lambda': 0.6485237330340494,\n",
    "          'random_state': 47\n",
    "          #'is_unbalance':True\n",
    "          #'scale_pos_weight':9\n",
    "         }"
   ]
  },
  {
   "cell_type": "code",
   "execution_count": 47,
   "metadata": {},
   "outputs": [],
   "source": [
    "def train_selector(train_num,features_train,labels_train,categorical):\n",
    "    train_set = lgb.Dataset(features_train.iloc[0:train_num,:], label=labels_train.values[0:train_num],\n",
    "                       categorical_feature=categorical)\n",
    "    valid_set = lgb.Dataset(features_train.iloc[train_num:,:], label=labels_train.values[train_num:],\n",
    "                       categorical_feature=categorical)\n",
    "    valid_results = {}\n",
    "    model = lgb.train(params,train_set,num_boost_round = 10000, \n",
    "                   valid_sets = [train_set, valid_set],\n",
    "                    verbose_eval=500,\n",
    "                    early_stopping_rounds = 500,\n",
    "                    evals_result=valid_results)\n",
    "    return model,valid_results"
   ]
  },
  {
   "cell_type": "markdown",
   "metadata": {},
   "source": [
    "## Train with all feature set"
   ]
  },
  {
   "cell_type": "code",
   "execution_count": 48,
   "metadata": {},
   "outputs": [
    {
     "name": "stderr",
     "output_type": "stream",
     "text": [
      "/home/jinpwa/anaconda3/lib/python3.6/site-packages/lightgbm/basic.py:1205: UserWarning: Using categorical_feature in Dataset.\n",
      "  warnings.warn('Using categorical_feature in Dataset.')\n",
      "/home/jinpwa/anaconda3/lib/python3.6/site-packages/lightgbm/basic.py:762: UserWarning: categorical_feature in param dict is overridden.\n",
      "  warnings.warn('categorical_feature in param dict is overridden.')\n"
     ]
    },
    {
     "name": "stdout",
     "output_type": "stream",
     "text": [
      "Training until validation scores don't improve for 500 rounds.\n",
      "[500]\ttraining's auc: 0.996677\tvalid_1's auc: 0.918242\n",
      "[1000]\ttraining's auc: 0.999952\tvalid_1's auc: 0.924871\n",
      "[1500]\ttraining's auc: 1\tvalid_1's auc: 0.926299\n",
      "[2000]\ttraining's auc: 1\tvalid_1's auc: 0.926302\n",
      "Early stopping, best iteration is:\n",
      "[1628]\ttraining's auc: 1\tvalid_1's auc: 0.926277\n"
     ]
    }
   ],
   "source": [
    "train_num = 80000\n",
    "categorical = list(set(categorical_raw).intersection(features_train.columns))\n",
    "model,valid_results = train_selector(train_num,features_train,labels_train,categorical)"
   ]
  },
  {
   "cell_type": "code",
   "execution_count": 50,
   "metadata": {},
   "outputs": [
    {
     "data": {
      "text/plain": [
       "'TransactionAmt_to_std_card1'"
      ]
     },
     "execution_count": 50,
     "metadata": {},
     "output_type": "execute_result"
    }
   ],
   "source": [
    "rm_col"
   ]
  },
  {
   "cell_type": "markdown",
   "metadata": {},
   "source": [
    "## Recursive Eliminate Features"
   ]
  },
  {
   "cell_type": "code",
   "execution_count": 49,
   "metadata": {},
   "outputs": [
    {
     "name": "stdout",
     "output_type": "stream",
     "text": [
      "TransactionDT\n"
     ]
    },
    {
     "name": "stderr",
     "output_type": "stream",
     "text": [
      "/home/jinpwa/anaconda3/lib/python3.6/site-packages/lightgbm/basic.py:1205: UserWarning: Using categorical_feature in Dataset.\n",
      "  warnings.warn('Using categorical_feature in Dataset.')\n",
      "/home/jinpwa/anaconda3/lib/python3.6/site-packages/lightgbm/basic.py:762: UserWarning: categorical_feature in param dict is overridden.\n",
      "  warnings.warn('categorical_feature in param dict is overridden.')\n"
     ]
    },
    {
     "name": "stdout",
     "output_type": "stream",
     "text": [
      "Training until validation scores don't improve for 500 rounds.\n",
      "[500]\ttraining's auc: 0.996344\tvalid_1's auc: 0.917875\n",
      "[1000]\ttraining's auc: 0.999937\tvalid_1's auc: 0.925077\n",
      "[1500]\ttraining's auc: 1\tvalid_1's auc: 0.925968\n",
      "[2000]\ttraining's auc: 1\tvalid_1's auc: 0.926159\n",
      "Early stopping, best iteration is:\n",
      "[1723]\ttraining's auc: 1\tvalid_1's auc: 0.925996\n",
      "TransactionAmt\n"
     ]
    },
    {
     "name": "stderr",
     "output_type": "stream",
     "text": [
      "/home/jinpwa/anaconda3/lib/python3.6/site-packages/lightgbm/basic.py:1205: UserWarning: Using categorical_feature in Dataset.\n",
      "  warnings.warn('Using categorical_feature in Dataset.')\n",
      "/home/jinpwa/anaconda3/lib/python3.6/site-packages/lightgbm/basic.py:762: UserWarning: categorical_feature in param dict is overridden.\n",
      "  warnings.warn('categorical_feature in param dict is overridden.')\n"
     ]
    },
    {
     "name": "stdout",
     "output_type": "stream",
     "text": [
      "Training until validation scores don't improve for 500 rounds.\n",
      "[500]\ttraining's auc: 0.996682\tvalid_1's auc: 0.917678\n",
      "[1000]\ttraining's auc: 0.999952\tvalid_1's auc: 0.925449\n",
      "[1500]\ttraining's auc: 1\tvalid_1's auc: 0.926479\n",
      "[2000]\ttraining's auc: 1\tvalid_1's auc: 0.92698\n",
      "Early stopping, best iteration is:\n",
      "[1662]\ttraining's auc: 1\tvalid_1's auc: 0.926695\n",
      "remove TransactionAmt improve auc from 0.926277 to 0.9269954966471345 this feature is endanger\n",
      "ProductCD\n"
     ]
    },
    {
     "name": "stderr",
     "output_type": "stream",
     "text": [
      "/home/jinpwa/anaconda3/lib/python3.6/site-packages/lightgbm/basic.py:1205: UserWarning: Using categorical_feature in Dataset.\n",
      "  warnings.warn('Using categorical_feature in Dataset.')\n",
      "/home/jinpwa/anaconda3/lib/python3.6/site-packages/lightgbm/basic.py:762: UserWarning: categorical_feature in param dict is overridden.\n",
      "  warnings.warn('categorical_feature in param dict is overridden.')\n"
     ]
    },
    {
     "name": "stdout",
     "output_type": "stream",
     "text": [
      "Training until validation scores don't improve for 500 rounds.\n",
      "[500]\ttraining's auc: 0.996763\tvalid_1's auc: 0.918899\n",
      "[1000]\ttraining's auc: 0.999956\tvalid_1's auc: 0.925793\n",
      "[1500]\ttraining's auc: 1\tvalid_1's auc: 0.926716\n",
      "[2000]\ttraining's auc: 1\tvalid_1's auc: 0.92693\n",
      "Early stopping, best iteration is:\n",
      "[1658]\ttraining's auc: 1\tvalid_1's auc: 0.926898\n",
      "remove ProductCD improve auc from 0.9269954966471345 to 0.9270010857115997 this feature is endanger\n",
      "card1\n"
     ]
    },
    {
     "name": "stderr",
     "output_type": "stream",
     "text": [
      "/home/jinpwa/anaconda3/lib/python3.6/site-packages/lightgbm/basic.py:1205: UserWarning: Using categorical_feature in Dataset.\n",
      "  warnings.warn('Using categorical_feature in Dataset.')\n",
      "/home/jinpwa/anaconda3/lib/python3.6/site-packages/lightgbm/basic.py:762: UserWarning: categorical_feature in param dict is overridden.\n",
      "  warnings.warn('categorical_feature in param dict is overridden.')\n"
     ]
    },
    {
     "name": "stdout",
     "output_type": "stream",
     "text": [
      "Training until validation scores don't improve for 500 rounds.\n",
      "[500]\ttraining's auc: 0.996342\tvalid_1's auc: 0.916843\n",
      "[1000]\ttraining's auc: 0.999942\tvalid_1's auc: 0.92517\n",
      "[1500]\ttraining's auc: 1\tvalid_1's auc: 0.926292\n",
      "[2000]\ttraining's auc: 1\tvalid_1's auc: 0.926378\n",
      "Early stopping, best iteration is:\n",
      "[1712]\ttraining's auc: 1\tvalid_1's auc: 0.9264\n",
      "card2\n"
     ]
    },
    {
     "name": "stderr",
     "output_type": "stream",
     "text": [
      "/home/jinpwa/anaconda3/lib/python3.6/site-packages/lightgbm/basic.py:1205: UserWarning: Using categorical_feature in Dataset.\n",
      "  warnings.warn('Using categorical_feature in Dataset.')\n",
      "/home/jinpwa/anaconda3/lib/python3.6/site-packages/lightgbm/basic.py:762: UserWarning: categorical_feature in param dict is overridden.\n",
      "  warnings.warn('categorical_feature in param dict is overridden.')\n"
     ]
    },
    {
     "name": "stdout",
     "output_type": "stream",
     "text": [
      "Training until validation scores don't improve for 500 rounds.\n",
      "[500]\ttraining's auc: 0.996422\tvalid_1's auc: 0.912581\n",
      "[1000]\ttraining's auc: 0.999938\tvalid_1's auc: 0.918937\n",
      "[1500]\ttraining's auc: 1\tvalid_1's auc: 0.920694\n",
      "[2000]\ttraining's auc: 1\tvalid_1's auc: 0.921031\n",
      "Early stopping, best iteration is:\n",
      "[1759]\ttraining's auc: 1\tvalid_1's auc: 0.921024\n",
      "card3\n"
     ]
    },
    {
     "name": "stderr",
     "output_type": "stream",
     "text": [
      "/home/jinpwa/anaconda3/lib/python3.6/site-packages/lightgbm/basic.py:1205: UserWarning: Using categorical_feature in Dataset.\n",
      "  warnings.warn('Using categorical_feature in Dataset.')\n",
      "/home/jinpwa/anaconda3/lib/python3.6/site-packages/lightgbm/basic.py:762: UserWarning: categorical_feature in param dict is overridden.\n",
      "  warnings.warn('categorical_feature in param dict is overridden.')\n"
     ]
    },
    {
     "name": "stdout",
     "output_type": "stream",
     "text": [
      "Training until validation scores don't improve for 500 rounds.\n",
      "[500]\ttraining's auc: 0.996624\tvalid_1's auc: 0.917901\n",
      "[1000]\ttraining's auc: 0.999956\tvalid_1's auc: 0.925371\n",
      "[1500]\ttraining's auc: 1\tvalid_1's auc: 0.926427\n",
      "[2000]\ttraining's auc: 1\tvalid_1's auc: 0.926366\n",
      "Early stopping, best iteration is:\n",
      "[1543]\ttraining's auc: 1\tvalid_1's auc: 0.926493\n",
      "card4\n"
     ]
    },
    {
     "name": "stderr",
     "output_type": "stream",
     "text": [
      "/home/jinpwa/anaconda3/lib/python3.6/site-packages/lightgbm/basic.py:1205: UserWarning: Using categorical_feature in Dataset.\n",
      "  warnings.warn('Using categorical_feature in Dataset.')\n",
      "/home/jinpwa/anaconda3/lib/python3.6/site-packages/lightgbm/basic.py:762: UserWarning: categorical_feature in param dict is overridden.\n",
      "  warnings.warn('categorical_feature in param dict is overridden.')\n"
     ]
    },
    {
     "name": "stdout",
     "output_type": "stream",
     "text": [
      "Training until validation scores don't improve for 500 rounds.\n",
      "[500]\ttraining's auc: 0.996628\tvalid_1's auc: 0.918113\n",
      "[1000]\ttraining's auc: 0.999954\tvalid_1's auc: 0.925983\n",
      "[1500]\ttraining's auc: 1\tvalid_1's auc: 0.92697\n",
      "Early stopping, best iteration is:\n",
      "[1332]\ttraining's auc: 0.999999\tvalid_1's auc: 0.927032\n",
      "remove card4 improve auc from 0.9270010857115997 to 0.9270315389474674 this feature is endanger\n",
      "card5\n"
     ]
    },
    {
     "name": "stderr",
     "output_type": "stream",
     "text": [
      "/home/jinpwa/anaconda3/lib/python3.6/site-packages/lightgbm/basic.py:1205: UserWarning: Using categorical_feature in Dataset.\n",
      "  warnings.warn('Using categorical_feature in Dataset.')\n",
      "/home/jinpwa/anaconda3/lib/python3.6/site-packages/lightgbm/basic.py:762: UserWarning: categorical_feature in param dict is overridden.\n",
      "  warnings.warn('categorical_feature in param dict is overridden.')\n"
     ]
    },
    {
     "name": "stdout",
     "output_type": "stream",
     "text": [
      "Training until validation scores don't improve for 500 rounds.\n",
      "[500]\ttraining's auc: 0.996589\tvalid_1's auc: 0.916427\n",
      "[1000]\ttraining's auc: 0.999953\tvalid_1's auc: 0.924989\n",
      "[1500]\ttraining's auc: 1\tvalid_1's auc: 0.926528\n",
      "[2000]\ttraining's auc: 1\tvalid_1's auc: 0.926592\n",
      "Early stopping, best iteration is:\n",
      "[1693]\ttraining's auc: 1\tvalid_1's auc: 0.926497\n",
      "card6\n"
     ]
    },
    {
     "name": "stderr",
     "output_type": "stream",
     "text": [
      "/home/jinpwa/anaconda3/lib/python3.6/site-packages/lightgbm/basic.py:1205: UserWarning: Using categorical_feature in Dataset.\n",
      "  warnings.warn('Using categorical_feature in Dataset.')\n",
      "/home/jinpwa/anaconda3/lib/python3.6/site-packages/lightgbm/basic.py:762: UserWarning: categorical_feature in param dict is overridden.\n",
      "  warnings.warn('categorical_feature in param dict is overridden.')\n"
     ]
    },
    {
     "name": "stdout",
     "output_type": "stream",
     "text": [
      "Training until validation scores don't improve for 500 rounds.\n",
      "[500]\ttraining's auc: 0.996646\tvalid_1's auc: 0.916533\n",
      "[1000]\ttraining's auc: 0.999954\tvalid_1's auc: 0.924523\n",
      "[1500]\ttraining's auc: 1\tvalid_1's auc: 0.925999\n",
      "[2000]\ttraining's auc: 1\tvalid_1's auc: 0.925887\n",
      "Early stopping, best iteration is:\n",
      "[1563]\ttraining's auc: 1\tvalid_1's auc: 0.926026\n",
      "addr1\n"
     ]
    },
    {
     "name": "stderr",
     "output_type": "stream",
     "text": [
      "/home/jinpwa/anaconda3/lib/python3.6/site-packages/lightgbm/basic.py:1205: UserWarning: Using categorical_feature in Dataset.\n",
      "  warnings.warn('Using categorical_feature in Dataset.')\n",
      "/home/jinpwa/anaconda3/lib/python3.6/site-packages/lightgbm/basic.py:762: UserWarning: categorical_feature in param dict is overridden.\n",
      "  warnings.warn('categorical_feature in param dict is overridden.')\n"
     ]
    },
    {
     "name": "stdout",
     "output_type": "stream",
     "text": [
      "Training until validation scores don't improve for 500 rounds.\n",
      "[500]\ttraining's auc: 0.99635\tvalid_1's auc: 0.914421\n",
      "[1000]\ttraining's auc: 0.999949\tvalid_1's auc: 0.921932\n",
      "[1500]\ttraining's auc: 1\tvalid_1's auc: 0.923389\n",
      "[2000]\ttraining's auc: 1\tvalid_1's auc: 0.923735\n",
      "Early stopping, best iteration is:\n",
      "[1674]\ttraining's auc: 1\tvalid_1's auc: 0.923678\n",
      "addr2\n"
     ]
    },
    {
     "name": "stderr",
     "output_type": "stream",
     "text": [
      "/home/jinpwa/anaconda3/lib/python3.6/site-packages/lightgbm/basic.py:1205: UserWarning: Using categorical_feature in Dataset.\n",
      "  warnings.warn('Using categorical_feature in Dataset.')\n",
      "/home/jinpwa/anaconda3/lib/python3.6/site-packages/lightgbm/basic.py:762: UserWarning: categorical_feature in param dict is overridden.\n",
      "  warnings.warn('categorical_feature in param dict is overridden.')\n"
     ]
    },
    {
     "name": "stdout",
     "output_type": "stream",
     "text": [
      "Training until validation scores don't improve for 500 rounds.\n",
      "[500]\ttraining's auc: 0.996691\tvalid_1's auc: 0.917218\n",
      "[1000]\ttraining's auc: 0.999955\tvalid_1's auc: 0.925523\n",
      "[1500]\ttraining's auc: 1\tvalid_1's auc: 0.927064\n",
      "[2000]\ttraining's auc: 1\tvalid_1's auc: 0.927202\n",
      "Early stopping, best iteration is:\n",
      "[1646]\ttraining's auc: 1\tvalid_1's auc: 0.927235\n",
      "remove addr2 improve auc from 0.9270315389474674 to 0.9273845098648421 this feature is endanger\n",
      "dist1\n"
     ]
    },
    {
     "name": "stderr",
     "output_type": "stream",
     "text": [
      "/home/jinpwa/anaconda3/lib/python3.6/site-packages/lightgbm/basic.py:1205: UserWarning: Using categorical_feature in Dataset.\n",
      "  warnings.warn('Using categorical_feature in Dataset.')\n",
      "/home/jinpwa/anaconda3/lib/python3.6/site-packages/lightgbm/basic.py:762: UserWarning: categorical_feature in param dict is overridden.\n",
      "  warnings.warn('categorical_feature in param dict is overridden.')\n"
     ]
    },
    {
     "name": "stdout",
     "output_type": "stream",
     "text": [
      "Training until validation scores don't improve for 500 rounds.\n",
      "[500]\ttraining's auc: 0.996613\tvalid_1's auc: 0.917112\n",
      "[1000]\ttraining's auc: 0.999953\tvalid_1's auc: 0.92547\n",
      "[1500]\ttraining's auc: 1\tvalid_1's auc: 0.926805\n",
      "[2000]\ttraining's auc: 1\tvalid_1's auc: 0.926888\n",
      "Early stopping, best iteration is:\n",
      "[1650]\ttraining's auc: 1\tvalid_1's auc: 0.926881\n",
      "dist2\n"
     ]
    },
    {
     "name": "stderr",
     "output_type": "stream",
     "text": [
      "/home/jinpwa/anaconda3/lib/python3.6/site-packages/lightgbm/basic.py:1205: UserWarning: Using categorical_feature in Dataset.\n",
      "  warnings.warn('Using categorical_feature in Dataset.')\n",
      "/home/jinpwa/anaconda3/lib/python3.6/site-packages/lightgbm/basic.py:762: UserWarning: categorical_feature in param dict is overridden.\n",
      "  warnings.warn('categorical_feature in param dict is overridden.')\n"
     ]
    },
    {
     "name": "stdout",
     "output_type": "stream",
     "text": [
      "Training until validation scores don't improve for 500 rounds.\n",
      "[500]\ttraining's auc: 0.99671\tvalid_1's auc: 0.917135\n",
      "[1000]\ttraining's auc: 0.999954\tvalid_1's auc: 0.925524\n",
      "[1500]\ttraining's auc: 1\tvalid_1's auc: 0.926808\n",
      "[2000]\ttraining's auc: 1\tvalid_1's auc: 0.926938\n",
      "Early stopping, best iteration is:\n",
      "[1626]\ttraining's auc: 1\tvalid_1's auc: 0.926933\n",
      "C1\n"
     ]
    },
    {
     "name": "stderr",
     "output_type": "stream",
     "text": [
      "/home/jinpwa/anaconda3/lib/python3.6/site-packages/lightgbm/basic.py:1205: UserWarning: Using categorical_feature in Dataset.\n",
      "  warnings.warn('Using categorical_feature in Dataset.')\n",
      "/home/jinpwa/anaconda3/lib/python3.6/site-packages/lightgbm/basic.py:762: UserWarning: categorical_feature in param dict is overridden.\n",
      "  warnings.warn('categorical_feature in param dict is overridden.')\n"
     ]
    },
    {
     "name": "stdout",
     "output_type": "stream",
     "text": [
      "Training until validation scores don't improve for 500 rounds.\n",
      "[500]\ttraining's auc: 0.996595\tvalid_1's auc: 0.916755\n",
      "[1000]\ttraining's auc: 0.999954\tvalid_1's auc: 0.925283\n",
      "[1500]\ttraining's auc: 1\tvalid_1's auc: 0.926539\n",
      "Early stopping, best iteration is:\n",
      "[1390]\ttraining's auc: 0.999999\tvalid_1's auc: 0.926609\n",
      "C2\n"
     ]
    },
    {
     "name": "stderr",
     "output_type": "stream",
     "text": [
      "/home/jinpwa/anaconda3/lib/python3.6/site-packages/lightgbm/basic.py:1205: UserWarning: Using categorical_feature in Dataset.\n",
      "  warnings.warn('Using categorical_feature in Dataset.')\n",
      "/home/jinpwa/anaconda3/lib/python3.6/site-packages/lightgbm/basic.py:762: UserWarning: categorical_feature in param dict is overridden.\n",
      "  warnings.warn('categorical_feature in param dict is overridden.')\n"
     ]
    },
    {
     "name": "stdout",
     "output_type": "stream",
     "text": [
      "Training until validation scores don't improve for 500 rounds.\n",
      "[500]\ttraining's auc: 0.996662\tvalid_1's auc: 0.917597\n",
      "[1000]\ttraining's auc: 0.999952\tvalid_1's auc: 0.925279\n",
      "[1500]\ttraining's auc: 1\tvalid_1's auc: 0.9266\n",
      "[2000]\ttraining's auc: 1\tvalid_1's auc: 0.927\n",
      "Early stopping, best iteration is:\n",
      "[1652]\ttraining's auc: 1\tvalid_1's auc: 0.926886\n",
      "C3\n"
     ]
    },
    {
     "name": "stderr",
     "output_type": "stream",
     "text": [
      "/home/jinpwa/anaconda3/lib/python3.6/site-packages/lightgbm/basic.py:1205: UserWarning: Using categorical_feature in Dataset.\n",
      "  warnings.warn('Using categorical_feature in Dataset.')\n",
      "/home/jinpwa/anaconda3/lib/python3.6/site-packages/lightgbm/basic.py:762: UserWarning: categorical_feature in param dict is overridden.\n",
      "  warnings.warn('categorical_feature in param dict is overridden.')\n"
     ]
    },
    {
     "name": "stdout",
     "output_type": "stream",
     "text": [
      "Training until validation scores don't improve for 500 rounds.\n",
      "[500]\ttraining's auc: 0.996662\tvalid_1's auc: 0.917978\n",
      "[1000]\ttraining's auc: 0.999954\tvalid_1's auc: 0.925625\n",
      "[1500]\ttraining's auc: 1\tvalid_1's auc: 0.926803\n",
      "[2000]\ttraining's auc: 1\tvalid_1's auc: 0.926626\n",
      "Early stopping, best iteration is:\n",
      "[1592]\ttraining's auc: 1\tvalid_1's auc: 0.926946\n",
      "C4\n"
     ]
    },
    {
     "name": "stderr",
     "output_type": "stream",
     "text": [
      "/home/jinpwa/anaconda3/lib/python3.6/site-packages/lightgbm/basic.py:1205: UserWarning: Using categorical_feature in Dataset.\n",
      "  warnings.warn('Using categorical_feature in Dataset.')\n",
      "/home/jinpwa/anaconda3/lib/python3.6/site-packages/lightgbm/basic.py:762: UserWarning: categorical_feature in param dict is overridden.\n",
      "  warnings.warn('categorical_feature in param dict is overridden.')\n"
     ]
    },
    {
     "name": "stdout",
     "output_type": "stream",
     "text": [
      "Training until validation scores don't improve for 500 rounds.\n",
      "[500]\ttraining's auc: 0.996697\tvalid_1's auc: 0.917029\n",
      "[1000]\ttraining's auc: 0.999956\tvalid_1's auc: 0.925226\n",
      "[1500]\ttraining's auc: 1\tvalid_1's auc: 0.926594\n",
      "[2000]\ttraining's auc: 1\tvalid_1's auc: 0.926589\n",
      "Early stopping, best iteration is:\n",
      "[1633]\ttraining's auc: 1\tvalid_1's auc: 0.926592\n",
      "C5\n"
     ]
    },
    {
     "name": "stderr",
     "output_type": "stream",
     "text": [
      "/home/jinpwa/anaconda3/lib/python3.6/site-packages/lightgbm/basic.py:1205: UserWarning: Using categorical_feature in Dataset.\n",
      "  warnings.warn('Using categorical_feature in Dataset.')\n",
      "/home/jinpwa/anaconda3/lib/python3.6/site-packages/lightgbm/basic.py:762: UserWarning: categorical_feature in param dict is overridden.\n",
      "  warnings.warn('categorical_feature in param dict is overridden.')\n"
     ]
    },
    {
     "name": "stdout",
     "output_type": "stream",
     "text": [
      "Training until validation scores don't improve for 500 rounds.\n",
      "[500]\ttraining's auc: 0.996663\tvalid_1's auc: 0.917472\n",
      "[1000]\ttraining's auc: 0.999954\tvalid_1's auc: 0.925241\n",
      "[1500]\ttraining's auc: 1\tvalid_1's auc: 0.927039\n",
      "Early stopping, best iteration is:\n",
      "[1358]\ttraining's auc: 0.999999\tvalid_1's auc: 0.927104\n",
      "C6\n"
     ]
    },
    {
     "name": "stderr",
     "output_type": "stream",
     "text": [
      "/home/jinpwa/anaconda3/lib/python3.6/site-packages/lightgbm/basic.py:1205: UserWarning: Using categorical_feature in Dataset.\n",
      "  warnings.warn('Using categorical_feature in Dataset.')\n",
      "/home/jinpwa/anaconda3/lib/python3.6/site-packages/lightgbm/basic.py:762: UserWarning: categorical_feature in param dict is overridden.\n",
      "  warnings.warn('categorical_feature in param dict is overridden.')\n"
     ]
    },
    {
     "name": "stdout",
     "output_type": "stream",
     "text": [
      "Training until validation scores don't improve for 500 rounds.\n",
      "[500]\ttraining's auc: 0.996662\tvalid_1's auc: 0.916764\n",
      "[1000]\ttraining's auc: 0.999957\tvalid_1's auc: 0.92466\n",
      "[1500]\ttraining's auc: 1\tvalid_1's auc: 0.92629\n",
      "[2000]\ttraining's auc: 1\tvalid_1's auc: 0.926253\n",
      "Early stopping, best iteration is:\n",
      "[1622]\ttraining's auc: 1\tvalid_1's auc: 0.926409\n",
      "C7\n"
     ]
    },
    {
     "name": "stderr",
     "output_type": "stream",
     "text": [
      "/home/jinpwa/anaconda3/lib/python3.6/site-packages/lightgbm/basic.py:1205: UserWarning: Using categorical_feature in Dataset.\n",
      "  warnings.warn('Using categorical_feature in Dataset.')\n",
      "/home/jinpwa/anaconda3/lib/python3.6/site-packages/lightgbm/basic.py:762: UserWarning: categorical_feature in param dict is overridden.\n",
      "  warnings.warn('categorical_feature in param dict is overridden.')\n"
     ]
    },
    {
     "name": "stdout",
     "output_type": "stream",
     "text": [
      "Training until validation scores don't improve for 500 rounds.\n",
      "[500]\ttraining's auc: 0.996644\tvalid_1's auc: 0.917717\n",
      "[1000]\ttraining's auc: 0.999955\tvalid_1's auc: 0.925832\n",
      "[1500]\ttraining's auc: 1\tvalid_1's auc: 0.927302\n",
      "[2000]\ttraining's auc: 1\tvalid_1's auc: 0.9273\n",
      "Early stopping, best iteration is:\n",
      "[1669]\ttraining's auc: 1\tvalid_1's auc: 0.92743\n",
      "remove C7 improve auc from 0.9273845098648421 to 0.9274861161906313 this feature is endanger\n",
      "C8\n"
     ]
    },
    {
     "name": "stderr",
     "output_type": "stream",
     "text": [
      "/home/jinpwa/anaconda3/lib/python3.6/site-packages/lightgbm/basic.py:1205: UserWarning: Using categorical_feature in Dataset.\n",
      "  warnings.warn('Using categorical_feature in Dataset.')\n",
      "/home/jinpwa/anaconda3/lib/python3.6/site-packages/lightgbm/basic.py:762: UserWarning: categorical_feature in param dict is overridden.\n",
      "  warnings.warn('categorical_feature in param dict is overridden.')\n"
     ]
    },
    {
     "name": "stdout",
     "output_type": "stream",
     "text": [
      "Training until validation scores don't improve for 500 rounds.\n",
      "[500]\ttraining's auc: 0.996629\tvalid_1's auc: 0.91732\n",
      "[1000]\ttraining's auc: 0.999952\tvalid_1's auc: 0.92569\n",
      "[1500]\ttraining's auc: 1\tvalid_1's auc: 0.927152\n",
      "[2000]\ttraining's auc: 1\tvalid_1's auc: 0.927218\n",
      "Early stopping, best iteration is:\n",
      "[1686]\ttraining's auc: 1\tvalid_1's auc: 0.927255\n",
      "C9\n"
     ]
    },
    {
     "name": "stderr",
     "output_type": "stream",
     "text": [
      "/home/jinpwa/anaconda3/lib/python3.6/site-packages/lightgbm/basic.py:1205: UserWarning: Using categorical_feature in Dataset.\n",
      "  warnings.warn('Using categorical_feature in Dataset.')\n",
      "/home/jinpwa/anaconda3/lib/python3.6/site-packages/lightgbm/basic.py:762: UserWarning: categorical_feature in param dict is overridden.\n",
      "  warnings.warn('categorical_feature in param dict is overridden.')\n"
     ]
    },
    {
     "name": "stdout",
     "output_type": "stream",
     "text": [
      "Training until validation scores don't improve for 500 rounds.\n",
      "[500]\ttraining's auc: 0.996654\tvalid_1's auc: 0.917818\n",
      "[1000]\ttraining's auc: 0.999955\tvalid_1's auc: 0.925791\n",
      "[1500]\ttraining's auc: 1\tvalid_1's auc: 0.926828\n",
      "[2000]\ttraining's auc: 1\tvalid_1's auc: 0.927125\n",
      "Early stopping, best iteration is:\n",
      "[1644]\ttraining's auc: 1\tvalid_1's auc: 0.926841\n",
      "C10\n"
     ]
    },
    {
     "name": "stderr",
     "output_type": "stream",
     "text": [
      "/home/jinpwa/anaconda3/lib/python3.6/site-packages/lightgbm/basic.py:1205: UserWarning: Using categorical_feature in Dataset.\n",
      "  warnings.warn('Using categorical_feature in Dataset.')\n",
      "/home/jinpwa/anaconda3/lib/python3.6/site-packages/lightgbm/basic.py:762: UserWarning: categorical_feature in param dict is overridden.\n",
      "  warnings.warn('categorical_feature in param dict is overridden.')\n"
     ]
    },
    {
     "name": "stdout",
     "output_type": "stream",
     "text": [
      "Training until validation scores don't improve for 500 rounds.\n",
      "[500]\ttraining's auc: 0.996712\tvalid_1's auc: 0.917249\n",
      "[1000]\ttraining's auc: 0.999956\tvalid_1's auc: 0.925061\n",
      "[1500]\ttraining's auc: 1\tvalid_1's auc: 0.926383\n",
      "[2000]\ttraining's auc: 1\tvalid_1's auc: 0.926258\n",
      "Early stopping, best iteration is:\n",
      "[1630]\ttraining's auc: 1\tvalid_1's auc: 0.926495\n",
      "C11\n"
     ]
    },
    {
     "name": "stderr",
     "output_type": "stream",
     "text": [
      "/home/jinpwa/anaconda3/lib/python3.6/site-packages/lightgbm/basic.py:1205: UserWarning: Using categorical_feature in Dataset.\n",
      "  warnings.warn('Using categorical_feature in Dataset.')\n",
      "/home/jinpwa/anaconda3/lib/python3.6/site-packages/lightgbm/basic.py:762: UserWarning: categorical_feature in param dict is overridden.\n",
      "  warnings.warn('categorical_feature in param dict is overridden.')\n"
     ]
    },
    {
     "name": "stdout",
     "output_type": "stream",
     "text": [
      "Training until validation scores don't improve for 500 rounds.\n",
      "[500]\ttraining's auc: 0.996672\tvalid_1's auc: 0.917308\n",
      "[1000]\ttraining's auc: 0.999955\tvalid_1's auc: 0.925245\n",
      "[1500]\ttraining's auc: 1\tvalid_1's auc: 0.926575\n",
      "[2000]\ttraining's auc: 1\tvalid_1's auc: 0.926581\n",
      "Early stopping, best iteration is:\n",
      "[1642]\ttraining's auc: 1\tvalid_1's auc: 0.926728\n",
      "C12\n"
     ]
    },
    {
     "name": "stderr",
     "output_type": "stream",
     "text": [
      "/home/jinpwa/anaconda3/lib/python3.6/site-packages/lightgbm/basic.py:1205: UserWarning: Using categorical_feature in Dataset.\n",
      "  warnings.warn('Using categorical_feature in Dataset.')\n",
      "/home/jinpwa/anaconda3/lib/python3.6/site-packages/lightgbm/basic.py:762: UserWarning: categorical_feature in param dict is overridden.\n",
      "  warnings.warn('categorical_feature in param dict is overridden.')\n"
     ]
    },
    {
     "name": "stdout",
     "output_type": "stream",
     "text": [
      "Training until validation scores don't improve for 500 rounds.\n",
      "[500]\ttraining's auc: 0.996664\tvalid_1's auc: 0.917805\n",
      "[1000]\ttraining's auc: 0.999957\tvalid_1's auc: 0.925415\n",
      "[1500]\ttraining's auc: 1\tvalid_1's auc: 0.926367\n",
      "[2000]\ttraining's auc: 1\tvalid_1's auc: 0.92646\n",
      "Early stopping, best iteration is:\n",
      "[1561]\ttraining's auc: 1\tvalid_1's auc: 0.926563\n",
      "C13\n"
     ]
    },
    {
     "name": "stderr",
     "output_type": "stream",
     "text": [
      "/home/jinpwa/anaconda3/lib/python3.6/site-packages/lightgbm/basic.py:1205: UserWarning: Using categorical_feature in Dataset.\n",
      "  warnings.warn('Using categorical_feature in Dataset.')\n",
      "/home/jinpwa/anaconda3/lib/python3.6/site-packages/lightgbm/basic.py:762: UserWarning: categorical_feature in param dict is overridden.\n",
      "  warnings.warn('categorical_feature in param dict is overridden.')\n"
     ]
    },
    {
     "name": "stdout",
     "output_type": "stream",
     "text": [
      "Training until validation scores don't improve for 500 rounds.\n",
      "[500]\ttraining's auc: 0.996648\tvalid_1's auc: 0.915985\n",
      "[1000]\ttraining's auc: 0.999956\tvalid_1's auc: 0.923675\n",
      "[1500]\ttraining's auc: 1\tvalid_1's auc: 0.924894\n",
      "[2000]\ttraining's auc: 1\tvalid_1's auc: 0.92523\n",
      "Early stopping, best iteration is:\n",
      "[1642]\ttraining's auc: 1\tvalid_1's auc: 0.924985\n",
      "C14\n"
     ]
    },
    {
     "name": "stderr",
     "output_type": "stream",
     "text": [
      "/home/jinpwa/anaconda3/lib/python3.6/site-packages/lightgbm/basic.py:1205: UserWarning: Using categorical_feature in Dataset.\n",
      "  warnings.warn('Using categorical_feature in Dataset.')\n",
      "/home/jinpwa/anaconda3/lib/python3.6/site-packages/lightgbm/basic.py:762: UserWarning: categorical_feature in param dict is overridden.\n",
      "  warnings.warn('categorical_feature in param dict is overridden.')\n"
     ]
    },
    {
     "name": "stdout",
     "output_type": "stream",
     "text": [
      "Training until validation scores don't improve for 500 rounds.\n",
      "[500]\ttraining's auc: 0.99669\tvalid_1's auc: 0.916967\n",
      "[1000]\ttraining's auc: 0.999954\tvalid_1's auc: 0.924868\n",
      "[1500]\ttraining's auc: 1\tvalid_1's auc: 0.926119\n",
      "Early stopping, best iteration is:\n",
      "[1480]\ttraining's auc: 1\tvalid_1's auc: 0.92615\n",
      "D1\n"
     ]
    },
    {
     "name": "stderr",
     "output_type": "stream",
     "text": [
      "/home/jinpwa/anaconda3/lib/python3.6/site-packages/lightgbm/basic.py:1205: UserWarning: Using categorical_feature in Dataset.\n",
      "  warnings.warn('Using categorical_feature in Dataset.')\n",
      "/home/jinpwa/anaconda3/lib/python3.6/site-packages/lightgbm/basic.py:762: UserWarning: categorical_feature in param dict is overridden.\n",
      "  warnings.warn('categorical_feature in param dict is overridden.')\n"
     ]
    },
    {
     "name": "stdout",
     "output_type": "stream",
     "text": [
      "Training until validation scores don't improve for 500 rounds.\n",
      "[500]\ttraining's auc: 0.996649\tvalid_1's auc: 0.917661\n",
      "[1000]\ttraining's auc: 0.999956\tvalid_1's auc: 0.925074\n",
      "[1500]\ttraining's auc: 1\tvalid_1's auc: 0.926154\n",
      "[2000]\ttraining's auc: 1\tvalid_1's auc: 0.926309\n",
      "Early stopping, best iteration is:\n",
      "[1632]\ttraining's auc: 1\tvalid_1's auc: 0.926191\n",
      "D2\n"
     ]
    },
    {
     "name": "stderr",
     "output_type": "stream",
     "text": [
      "/home/jinpwa/anaconda3/lib/python3.6/site-packages/lightgbm/basic.py:1205: UserWarning: Using categorical_feature in Dataset.\n",
      "  warnings.warn('Using categorical_feature in Dataset.')\n",
      "/home/jinpwa/anaconda3/lib/python3.6/site-packages/lightgbm/basic.py:762: UserWarning: categorical_feature in param dict is overridden.\n",
      "  warnings.warn('categorical_feature in param dict is overridden.')\n"
     ]
    },
    {
     "name": "stdout",
     "output_type": "stream",
     "text": [
      "Training until validation scores don't improve for 500 rounds.\n",
      "[500]\ttraining's auc: 0.9966\tvalid_1's auc: 0.917875\n",
      "[1000]\ttraining's auc: 0.999952\tvalid_1's auc: 0.925719\n",
      "[1500]\ttraining's auc: 1\tvalid_1's auc: 0.92694\n",
      "[2000]\ttraining's auc: 1\tvalid_1's auc: 0.927381\n",
      "Early stopping, best iteration is:\n",
      "[1681]\ttraining's auc: 1\tvalid_1's auc: 0.927185\n",
      "D3\n"
     ]
    },
    {
     "name": "stderr",
     "output_type": "stream",
     "text": [
      "/home/jinpwa/anaconda3/lib/python3.6/site-packages/lightgbm/basic.py:1205: UserWarning: Using categorical_feature in Dataset.\n",
      "  warnings.warn('Using categorical_feature in Dataset.')\n",
      "/home/jinpwa/anaconda3/lib/python3.6/site-packages/lightgbm/basic.py:762: UserWarning: categorical_feature in param dict is overridden.\n",
      "  warnings.warn('categorical_feature in param dict is overridden.')\n"
     ]
    },
    {
     "name": "stdout",
     "output_type": "stream",
     "text": [
      "Training until validation scores don't improve for 500 rounds.\n",
      "[500]\ttraining's auc: 0.996651\tvalid_1's auc: 0.917404\n",
      "[1000]\ttraining's auc: 0.999954\tvalid_1's auc: 0.925407\n",
      "[1500]\ttraining's auc: 1\tvalid_1's auc: 0.926691\n",
      "[2000]\ttraining's auc: 1\tvalid_1's auc: 0.926504\n",
      "Early stopping, best iteration is:\n",
      "[1534]\ttraining's auc: 1\tvalid_1's auc: 0.926713\n",
      "D4\n"
     ]
    },
    {
     "name": "stderr",
     "output_type": "stream",
     "text": [
      "/home/jinpwa/anaconda3/lib/python3.6/site-packages/lightgbm/basic.py:1205: UserWarning: Using categorical_feature in Dataset.\n",
      "  warnings.warn('Using categorical_feature in Dataset.')\n",
      "/home/jinpwa/anaconda3/lib/python3.6/site-packages/lightgbm/basic.py:762: UserWarning: categorical_feature in param dict is overridden.\n",
      "  warnings.warn('categorical_feature in param dict is overridden.')\n"
     ]
    },
    {
     "name": "stdout",
     "output_type": "stream",
     "text": [
      "Training until validation scores don't improve for 500 rounds.\n",
      "[500]\ttraining's auc: 0.996636\tvalid_1's auc: 0.917517\n",
      "[1000]\ttraining's auc: 0.999956\tvalid_1's auc: 0.925586\n",
      "[1500]\ttraining's auc: 1\tvalid_1's auc: 0.92675\n",
      "[2000]\ttraining's auc: 1\tvalid_1's auc: 0.926742\n",
      "Early stopping, best iteration is:\n",
      "[1621]\ttraining's auc: 1\tvalid_1's auc: 0.926869\n",
      "D5\n"
     ]
    },
    {
     "name": "stderr",
     "output_type": "stream",
     "text": [
      "/home/jinpwa/anaconda3/lib/python3.6/site-packages/lightgbm/basic.py:1205: UserWarning: Using categorical_feature in Dataset.\n",
      "  warnings.warn('Using categorical_feature in Dataset.')\n",
      "/home/jinpwa/anaconda3/lib/python3.6/site-packages/lightgbm/basic.py:762: UserWarning: categorical_feature in param dict is overridden.\n",
      "  warnings.warn('categorical_feature in param dict is overridden.')\n"
     ]
    },
    {
     "name": "stdout",
     "output_type": "stream",
     "text": [
      "Training until validation scores don't improve for 500 rounds.\n",
      "[500]\ttraining's auc: 0.996592\tvalid_1's auc: 0.917313\n",
      "[1000]\ttraining's auc: 0.999954\tvalid_1's auc: 0.925205\n",
      "[1500]\ttraining's auc: 1\tvalid_1's auc: 0.926379\n",
      "Early stopping, best iteration is:\n",
      "[1361]\ttraining's auc: 0.999999\tvalid_1's auc: 0.926569\n",
      "D6\n"
     ]
    },
    {
     "name": "stderr",
     "output_type": "stream",
     "text": [
      "/home/jinpwa/anaconda3/lib/python3.6/site-packages/lightgbm/basic.py:1205: UserWarning: Using categorical_feature in Dataset.\n",
      "  warnings.warn('Using categorical_feature in Dataset.')\n",
      "/home/jinpwa/anaconda3/lib/python3.6/site-packages/lightgbm/basic.py:762: UserWarning: categorical_feature in param dict is overridden.\n",
      "  warnings.warn('categorical_feature in param dict is overridden.')\n"
     ]
    },
    {
     "name": "stdout",
     "output_type": "stream",
     "text": [
      "Training until validation scores don't improve for 500 rounds.\n",
      "[500]\ttraining's auc: 0.996643\tvalid_1's auc: 0.917682\n",
      "[1000]\ttraining's auc: 0.999954\tvalid_1's auc: 0.925853\n",
      "[1500]\ttraining's auc: 1\tvalid_1's auc: 0.927088\n",
      "[2000]\ttraining's auc: 1\tvalid_1's auc: 0.926908\n",
      "Early stopping, best iteration is:\n",
      "[1635]\ttraining's auc: 1\tvalid_1's auc: 0.927162\n",
      "D7\n"
     ]
    },
    {
     "name": "stderr",
     "output_type": "stream",
     "text": [
      "/home/jinpwa/anaconda3/lib/python3.6/site-packages/lightgbm/basic.py:1205: UserWarning: Using categorical_feature in Dataset.\n",
      "  warnings.warn('Using categorical_feature in Dataset.')\n",
      "/home/jinpwa/anaconda3/lib/python3.6/site-packages/lightgbm/basic.py:762: UserWarning: categorical_feature in param dict is overridden.\n",
      "  warnings.warn('categorical_feature in param dict is overridden.')\n"
     ]
    },
    {
     "name": "stdout",
     "output_type": "stream",
     "text": [
      "Training until validation scores don't improve for 500 rounds.\n",
      "[500]\ttraining's auc: 0.996668\tvalid_1's auc: 0.918028\n",
      "[1000]\ttraining's auc: 0.999956\tvalid_1's auc: 0.926268\n",
      "[1500]\ttraining's auc: 1\tvalid_1's auc: 0.927577\n",
      "[2000]\ttraining's auc: 1\tvalid_1's auc: 0.92766\n",
      "Early stopping, best iteration is:\n",
      "[1650]\ttraining's auc: 1\tvalid_1's auc: 0.927591\n",
      "remove D7 improve auc from 0.9274861161906313 to 0.927682664957655 this feature is endanger\n",
      "D8\n"
     ]
    },
    {
     "name": "stderr",
     "output_type": "stream",
     "text": [
      "/home/jinpwa/anaconda3/lib/python3.6/site-packages/lightgbm/basic.py:1205: UserWarning: Using categorical_feature in Dataset.\n",
      "  warnings.warn('Using categorical_feature in Dataset.')\n",
      "/home/jinpwa/anaconda3/lib/python3.6/site-packages/lightgbm/basic.py:762: UserWarning: categorical_feature in param dict is overridden.\n",
      "  warnings.warn('categorical_feature in param dict is overridden.')\n"
     ]
    },
    {
     "name": "stdout",
     "output_type": "stream",
     "text": [
      "Training until validation scores don't improve for 500 rounds.\n",
      "[500]\ttraining's auc: 0.996655\tvalid_1's auc: 0.917954\n",
      "[1000]\ttraining's auc: 0.999952\tvalid_1's auc: 0.925627\n",
      "[1500]\ttraining's auc: 1\tvalid_1's auc: 0.926951\n",
      "[2000]\ttraining's auc: 1\tvalid_1's auc: 0.926943\n",
      "Early stopping, best iteration is:\n",
      "[1571]\ttraining's auc: 1\tvalid_1's auc: 0.927083\n",
      "D9\n"
     ]
    },
    {
     "name": "stderr",
     "output_type": "stream",
     "text": [
      "/home/jinpwa/anaconda3/lib/python3.6/site-packages/lightgbm/basic.py:1205: UserWarning: Using categorical_feature in Dataset.\n",
      "  warnings.warn('Using categorical_feature in Dataset.')\n",
      "/home/jinpwa/anaconda3/lib/python3.6/site-packages/lightgbm/basic.py:762: UserWarning: categorical_feature in param dict is overridden.\n",
      "  warnings.warn('categorical_feature in param dict is overridden.')\n"
     ]
    },
    {
     "name": "stdout",
     "output_type": "stream",
     "text": [
      "Training until validation scores don't improve for 500 rounds.\n",
      "[500]\ttraining's auc: 0.99665\tvalid_1's auc: 0.916798\n",
      "[1000]\ttraining's auc: 0.999953\tvalid_1's auc: 0.925\n",
      "[1500]\ttraining's auc: 1\tvalid_1's auc: 0.92614\n",
      "[2000]\ttraining's auc: 1\tvalid_1's auc: 0.926536\n",
      "Early stopping, best iteration is:\n",
      "[1681]\ttraining's auc: 1\tvalid_1's auc: 0.926295\n",
      "D10\n"
     ]
    },
    {
     "name": "stderr",
     "output_type": "stream",
     "text": [
      "/home/jinpwa/anaconda3/lib/python3.6/site-packages/lightgbm/basic.py:1205: UserWarning: Using categorical_feature in Dataset.\n",
      "  warnings.warn('Using categorical_feature in Dataset.')\n",
      "/home/jinpwa/anaconda3/lib/python3.6/site-packages/lightgbm/basic.py:762: UserWarning: categorical_feature in param dict is overridden.\n",
      "  warnings.warn('categorical_feature in param dict is overridden.')\n"
     ]
    },
    {
     "name": "stdout",
     "output_type": "stream",
     "text": [
      "Training until validation scores don't improve for 500 rounds.\n",
      "[500]\ttraining's auc: 0.996595\tvalid_1's auc: 0.917184\n",
      "[1000]\ttraining's auc: 0.999954\tvalid_1's auc: 0.925596\n",
      "[1500]\ttraining's auc: 1\tvalid_1's auc: 0.92741\n",
      "[2000]\ttraining's auc: 1\tvalid_1's auc: 0.927223\n",
      "Early stopping, best iteration is:\n",
      "[1528]\ttraining's auc: 1\tvalid_1's auc: 0.927548\n",
      "D11\n"
     ]
    },
    {
     "name": "stderr",
     "output_type": "stream",
     "text": [
      "/home/jinpwa/anaconda3/lib/python3.6/site-packages/lightgbm/basic.py:1205: UserWarning: Using categorical_feature in Dataset.\n",
      "  warnings.warn('Using categorical_feature in Dataset.')\n",
      "/home/jinpwa/anaconda3/lib/python3.6/site-packages/lightgbm/basic.py:762: UserWarning: categorical_feature in param dict is overridden.\n",
      "  warnings.warn('categorical_feature in param dict is overridden.')\n"
     ]
    },
    {
     "name": "stdout",
     "output_type": "stream",
     "text": [
      "Training until validation scores don't improve for 500 rounds.\n",
      "[500]\ttraining's auc: 0.996604\tvalid_1's auc: 0.9178\n",
      "[1000]\ttraining's auc: 0.999953\tvalid_1's auc: 0.925444\n",
      "[1500]\ttraining's auc: 1\tvalid_1's auc: 0.92713\n",
      "[2000]\ttraining's auc: 1\tvalid_1's auc: 0.927329\n",
      "Early stopping, best iteration is:\n",
      "[1666]\ttraining's auc: 1\tvalid_1's auc: 0.927158\n",
      "D12\n"
     ]
    },
    {
     "name": "stderr",
     "output_type": "stream",
     "text": [
      "/home/jinpwa/anaconda3/lib/python3.6/site-packages/lightgbm/basic.py:1205: UserWarning: Using categorical_feature in Dataset.\n",
      "  warnings.warn('Using categorical_feature in Dataset.')\n",
      "/home/jinpwa/anaconda3/lib/python3.6/site-packages/lightgbm/basic.py:762: UserWarning: categorical_feature in param dict is overridden.\n",
      "  warnings.warn('categorical_feature in param dict is overridden.')\n"
     ]
    },
    {
     "name": "stdout",
     "output_type": "stream",
     "text": [
      "Training until validation scores don't improve for 500 rounds.\n",
      "[500]\ttraining's auc: 0.996649\tvalid_1's auc: 0.917236\n",
      "[1000]\ttraining's auc: 0.999954\tvalid_1's auc: 0.925732\n",
      "[1500]\ttraining's auc: 1\tvalid_1's auc: 0.9271\n",
      "[2000]\ttraining's auc: 1\tvalid_1's auc: 0.927033\n",
      "Early stopping, best iteration is:\n",
      "[1560]\ttraining's auc: 1\tvalid_1's auc: 0.927226\n",
      "D13\n"
     ]
    },
    {
     "name": "stderr",
     "output_type": "stream",
     "text": [
      "/home/jinpwa/anaconda3/lib/python3.6/site-packages/lightgbm/basic.py:1205: UserWarning: Using categorical_feature in Dataset.\n",
      "  warnings.warn('Using categorical_feature in Dataset.')\n",
      "/home/jinpwa/anaconda3/lib/python3.6/site-packages/lightgbm/basic.py:762: UserWarning: categorical_feature in param dict is overridden.\n",
      "  warnings.warn('categorical_feature in param dict is overridden.')\n"
     ]
    },
    {
     "name": "stdout",
     "output_type": "stream",
     "text": [
      "Training until validation scores don't improve for 500 rounds.\n",
      "[500]\ttraining's auc: 0.996625\tvalid_1's auc: 0.917135\n",
      "[1000]\ttraining's auc: 0.999953\tvalid_1's auc: 0.924867\n",
      "[1500]\ttraining's auc: 1\tvalid_1's auc: 0.925997\n",
      "[2000]\ttraining's auc: 1\tvalid_1's auc: 0.925975\n",
      "Early stopping, best iteration is:\n",
      "[1645]\ttraining's auc: 1\tvalid_1's auc: 0.926061\n",
      "D14\n"
     ]
    },
    {
     "name": "stderr",
     "output_type": "stream",
     "text": [
      "/home/jinpwa/anaconda3/lib/python3.6/site-packages/lightgbm/basic.py:1205: UserWarning: Using categorical_feature in Dataset.\n",
      "  warnings.warn('Using categorical_feature in Dataset.')\n",
      "/home/jinpwa/anaconda3/lib/python3.6/site-packages/lightgbm/basic.py:762: UserWarning: categorical_feature in param dict is overridden.\n",
      "  warnings.warn('categorical_feature in param dict is overridden.')\n"
     ]
    },
    {
     "name": "stdout",
     "output_type": "stream",
     "text": [
      "Training until validation scores don't improve for 500 rounds.\n",
      "[500]\ttraining's auc: 0.996673\tvalid_1's auc: 0.917416\n",
      "[1000]\ttraining's auc: 0.999955\tvalid_1's auc: 0.925374\n",
      "[1500]\ttraining's auc: 1\tvalid_1's auc: 0.926734\n",
      "[2000]\ttraining's auc: 1\tvalid_1's auc: 0.926843\n",
      "Early stopping, best iteration is:\n",
      "[1615]\ttraining's auc: 1\tvalid_1's auc: 0.926769\n",
      "D15\n"
     ]
    },
    {
     "name": "stderr",
     "output_type": "stream",
     "text": [
      "/home/jinpwa/anaconda3/lib/python3.6/site-packages/lightgbm/basic.py:1205: UserWarning: Using categorical_feature in Dataset.\n",
      "  warnings.warn('Using categorical_feature in Dataset.')\n",
      "/home/jinpwa/anaconda3/lib/python3.6/site-packages/lightgbm/basic.py:762: UserWarning: categorical_feature in param dict is overridden.\n",
      "  warnings.warn('categorical_feature in param dict is overridden.')\n"
     ]
    },
    {
     "name": "stdout",
     "output_type": "stream",
     "text": [
      "Training until validation scores don't improve for 500 rounds.\n",
      "[500]\ttraining's auc: 0.996641\tvalid_1's auc: 0.917172\n",
      "[1000]\ttraining's auc: 0.999954\tvalid_1's auc: 0.925209\n",
      "[1500]\ttraining's auc: 1\tvalid_1's auc: 0.92677\n",
      "[2000]\ttraining's auc: 1\tvalid_1's auc: 0.926758\n",
      "Early stopping, best iteration is:\n",
      "[1564]\ttraining's auc: 1\tvalid_1's auc: 0.926865\n",
      "M1\n"
     ]
    },
    {
     "name": "stderr",
     "output_type": "stream",
     "text": [
      "/home/jinpwa/anaconda3/lib/python3.6/site-packages/lightgbm/basic.py:1205: UserWarning: Using categorical_feature in Dataset.\n",
      "  warnings.warn('Using categorical_feature in Dataset.')\n",
      "/home/jinpwa/anaconda3/lib/python3.6/site-packages/lightgbm/basic.py:762: UserWarning: categorical_feature in param dict is overridden.\n",
      "  warnings.warn('categorical_feature in param dict is overridden.')\n"
     ]
    },
    {
     "name": "stdout",
     "output_type": "stream",
     "text": [
      "Training until validation scores don't improve for 500 rounds.\n",
      "[500]\ttraining's auc: 0.996697\tvalid_1's auc: 0.917358\n",
      "[1000]\ttraining's auc: 0.999953\tvalid_1's auc: 0.925835\n",
      "[1500]\ttraining's auc: 1\tvalid_1's auc: 0.927147\n",
      "[2000]\ttraining's auc: 1\tvalid_1's auc: 0.927075\n",
      "Early stopping, best iteration is:\n",
      "[1521]\ttraining's auc: 1\tvalid_1's auc: 0.92725\n",
      "M2\n"
     ]
    },
    {
     "name": "stderr",
     "output_type": "stream",
     "text": [
      "/home/jinpwa/anaconda3/lib/python3.6/site-packages/lightgbm/basic.py:1205: UserWarning: Using categorical_feature in Dataset.\n",
      "  warnings.warn('Using categorical_feature in Dataset.')\n",
      "/home/jinpwa/anaconda3/lib/python3.6/site-packages/lightgbm/basic.py:762: UserWarning: categorical_feature in param dict is overridden.\n",
      "  warnings.warn('categorical_feature in param dict is overridden.')\n"
     ]
    },
    {
     "name": "stdout",
     "output_type": "stream",
     "text": [
      "Training until validation scores don't improve for 500 rounds.\n",
      "[500]\ttraining's auc: 0.996682\tvalid_1's auc: 0.917235\n",
      "[1000]\ttraining's auc: 0.999955\tvalid_1's auc: 0.92584\n",
      "[1500]\ttraining's auc: 1\tvalid_1's auc: 0.927154\n",
      "Early stopping, best iteration is:\n",
      "[1480]\ttraining's auc: 1\tvalid_1's auc: 0.9272\n",
      "M3\n"
     ]
    },
    {
     "name": "stderr",
     "output_type": "stream",
     "text": [
      "/home/jinpwa/anaconda3/lib/python3.6/site-packages/lightgbm/basic.py:1205: UserWarning: Using categorical_feature in Dataset.\n",
      "  warnings.warn('Using categorical_feature in Dataset.')\n",
      "/home/jinpwa/anaconda3/lib/python3.6/site-packages/lightgbm/basic.py:762: UserWarning: categorical_feature in param dict is overridden.\n",
      "  warnings.warn('categorical_feature in param dict is overridden.')\n"
     ]
    },
    {
     "name": "stdout",
     "output_type": "stream",
     "text": [
      "Training until validation scores don't improve for 500 rounds.\n",
      "[500]\ttraining's auc: 0.9966\tvalid_1's auc: 0.917584\n",
      "[1000]\ttraining's auc: 0.999953\tvalid_1's auc: 0.925356\n",
      "[1500]\ttraining's auc: 1\tvalid_1's auc: 0.926399\n",
      "[2000]\ttraining's auc: 1\tvalid_1's auc: 0.926385\n",
      "Early stopping, best iteration is:\n",
      "[1636]\ttraining's auc: 1\tvalid_1's auc: 0.926603\n",
      "M4\n"
     ]
    },
    {
     "name": "stderr",
     "output_type": "stream",
     "text": [
      "/home/jinpwa/anaconda3/lib/python3.6/site-packages/lightgbm/basic.py:1205: UserWarning: Using categorical_feature in Dataset.\n",
      "  warnings.warn('Using categorical_feature in Dataset.')\n",
      "/home/jinpwa/anaconda3/lib/python3.6/site-packages/lightgbm/basic.py:762: UserWarning: categorical_feature in param dict is overridden.\n",
      "  warnings.warn('categorical_feature in param dict is overridden.')\n"
     ]
    },
    {
     "name": "stdout",
     "output_type": "stream",
     "text": [
      "Training until validation scores don't improve for 500 rounds.\n",
      "[500]\ttraining's auc: 0.996637\tvalid_1's auc: 0.916751\n",
      "[1000]\ttraining's auc: 0.999955\tvalid_1's auc: 0.92499\n",
      "[1500]\ttraining's auc: 1\tvalid_1's auc: 0.926054\n",
      "[2000]\ttraining's auc: 1\tvalid_1's auc: 0.92607\n",
      "Early stopping, best iteration is:\n",
      "[1562]\ttraining's auc: 1\tvalid_1's auc: 0.926192\n",
      "M5\n"
     ]
    },
    {
     "name": "stderr",
     "output_type": "stream",
     "text": [
      "/home/jinpwa/anaconda3/lib/python3.6/site-packages/lightgbm/basic.py:1205: UserWarning: Using categorical_feature in Dataset.\n",
      "  warnings.warn('Using categorical_feature in Dataset.')\n",
      "/home/jinpwa/anaconda3/lib/python3.6/site-packages/lightgbm/basic.py:762: UserWarning: categorical_feature in param dict is overridden.\n",
      "  warnings.warn('categorical_feature in param dict is overridden.')\n"
     ]
    },
    {
     "name": "stdout",
     "output_type": "stream",
     "text": [
      "Training until validation scores don't improve for 500 rounds.\n",
      "[500]\ttraining's auc: 0.996534\tvalid_1's auc: 0.916394\n",
      "[1000]\ttraining's auc: 0.99995\tvalid_1's auc: 0.924926\n",
      "[1500]\ttraining's auc: 1\tvalid_1's auc: 0.926211\n",
      "[2000]\ttraining's auc: 1\tvalid_1's auc: 0.926313\n",
      "Early stopping, best iteration is:\n",
      "[1651]\ttraining's auc: 1\tvalid_1's auc: 0.926252\n",
      "M6\n"
     ]
    },
    {
     "name": "stderr",
     "output_type": "stream",
     "text": [
      "/home/jinpwa/anaconda3/lib/python3.6/site-packages/lightgbm/basic.py:1205: UserWarning: Using categorical_feature in Dataset.\n",
      "  warnings.warn('Using categorical_feature in Dataset.')\n",
      "/home/jinpwa/anaconda3/lib/python3.6/site-packages/lightgbm/basic.py:762: UserWarning: categorical_feature in param dict is overridden.\n",
      "  warnings.warn('categorical_feature in param dict is overridden.')\n"
     ]
    },
    {
     "name": "stdout",
     "output_type": "stream",
     "text": [
      "Training until validation scores don't improve for 500 rounds.\n",
      "[500]\ttraining's auc: 0.996567\tvalid_1's auc: 0.915175\n",
      "[1000]\ttraining's auc: 0.999952\tvalid_1's auc: 0.923426\n",
      "[1500]\ttraining's auc: 1\tvalid_1's auc: 0.924758\n",
      "[2000]\ttraining's auc: 1\tvalid_1's auc: 0.925022\n",
      "Early stopping, best iteration is:\n",
      "[1664]\ttraining's auc: 1\tvalid_1's auc: 0.924962\n",
      "M7\n"
     ]
    },
    {
     "name": "stderr",
     "output_type": "stream",
     "text": [
      "/home/jinpwa/anaconda3/lib/python3.6/site-packages/lightgbm/basic.py:1205: UserWarning: Using categorical_feature in Dataset.\n",
      "  warnings.warn('Using categorical_feature in Dataset.')\n",
      "/home/jinpwa/anaconda3/lib/python3.6/site-packages/lightgbm/basic.py:762: UserWarning: categorical_feature in param dict is overridden.\n",
      "  warnings.warn('categorical_feature in param dict is overridden.')\n"
     ]
    },
    {
     "name": "stdout",
     "output_type": "stream",
     "text": [
      "Training until validation scores don't improve for 500 rounds.\n",
      "[500]\ttraining's auc: 0.996619\tvalid_1's auc: 0.916534\n",
      "[1000]\ttraining's auc: 0.999953\tvalid_1's auc: 0.925666\n",
      "[1500]\ttraining's auc: 1\tvalid_1's auc: 0.926119\n",
      "[2000]\ttraining's auc: 1\tvalid_1's auc: 0.926505\n",
      "Early stopping, best iteration is:\n",
      "[1649]\ttraining's auc: 1\tvalid_1's auc: 0.926341\n",
      "M8\n"
     ]
    },
    {
     "name": "stderr",
     "output_type": "stream",
     "text": [
      "/home/jinpwa/anaconda3/lib/python3.6/site-packages/lightgbm/basic.py:1205: UserWarning: Using categorical_feature in Dataset.\n",
      "  warnings.warn('Using categorical_feature in Dataset.')\n",
      "/home/jinpwa/anaconda3/lib/python3.6/site-packages/lightgbm/basic.py:762: UserWarning: categorical_feature in param dict is overridden.\n",
      "  warnings.warn('categorical_feature in param dict is overridden.')\n"
     ]
    },
    {
     "name": "stdout",
     "output_type": "stream",
     "text": [
      "Training until validation scores don't improve for 500 rounds.\n",
      "[500]\ttraining's auc: 0.996563\tvalid_1's auc: 0.916256\n",
      "[1000]\ttraining's auc: 0.999951\tvalid_1's auc: 0.924812\n",
      "[1500]\ttraining's auc: 1\tvalid_1's auc: 0.925993\n",
      "[2000]\ttraining's auc: 1\tvalid_1's auc: 0.926021\n",
      "Early stopping, best iteration is:\n",
      "[1663]\ttraining's auc: 1\tvalid_1's auc: 0.925943\n",
      "M9\n"
     ]
    },
    {
     "name": "stderr",
     "output_type": "stream",
     "text": [
      "/home/jinpwa/anaconda3/lib/python3.6/site-packages/lightgbm/basic.py:1205: UserWarning: Using categorical_feature in Dataset.\n",
      "  warnings.warn('Using categorical_feature in Dataset.')\n",
      "/home/jinpwa/anaconda3/lib/python3.6/site-packages/lightgbm/basic.py:762: UserWarning: categorical_feature in param dict is overridden.\n",
      "  warnings.warn('categorical_feature in param dict is overridden.')\n"
     ]
    },
    {
     "name": "stdout",
     "output_type": "stream",
     "text": [
      "Training until validation scores don't improve for 500 rounds.\n",
      "[500]\ttraining's auc: 0.996637\tvalid_1's auc: 0.916376\n",
      "[1000]\ttraining's auc: 0.999953\tvalid_1's auc: 0.924963\n",
      "[1500]\ttraining's auc: 1\tvalid_1's auc: 0.92656\n",
      "[2000]\ttraining's auc: 1\tvalid_1's auc: 0.926567\n",
      "Early stopping, best iteration is:\n",
      "[1648]\ttraining's auc: 1\tvalid_1's auc: 0.926824\n",
      "V1\n"
     ]
    },
    {
     "name": "stderr",
     "output_type": "stream",
     "text": [
      "/home/jinpwa/anaconda3/lib/python3.6/site-packages/lightgbm/basic.py:1205: UserWarning: Using categorical_feature in Dataset.\n",
      "  warnings.warn('Using categorical_feature in Dataset.')\n",
      "/home/jinpwa/anaconda3/lib/python3.6/site-packages/lightgbm/basic.py:762: UserWarning: categorical_feature in param dict is overridden.\n",
      "  warnings.warn('categorical_feature in param dict is overridden.')\n"
     ]
    },
    {
     "name": "stdout",
     "output_type": "stream",
     "text": [
      "Training until validation scores don't improve for 500 rounds.\n",
      "[500]\ttraining's auc: 0.996646\tvalid_1's auc: 0.916309\n",
      "[1000]\ttraining's auc: 0.999954\tvalid_1's auc: 0.924429\n",
      "[1500]\ttraining's auc: 1\tvalid_1's auc: 0.925479\n",
      "Early stopping, best iteration is:\n",
      "[1481]\ttraining's auc: 1\tvalid_1's auc: 0.92552\n",
      "V2\n"
     ]
    },
    {
     "name": "stderr",
     "output_type": "stream",
     "text": [
      "/home/jinpwa/anaconda3/lib/python3.6/site-packages/lightgbm/basic.py:1205: UserWarning: Using categorical_feature in Dataset.\n",
      "  warnings.warn('Using categorical_feature in Dataset.')\n",
      "/home/jinpwa/anaconda3/lib/python3.6/site-packages/lightgbm/basic.py:762: UserWarning: categorical_feature in param dict is overridden.\n",
      "  warnings.warn('categorical_feature in param dict is overridden.')\n"
     ]
    },
    {
     "name": "stdout",
     "output_type": "stream",
     "text": [
      "Training until validation scores don't improve for 500 rounds.\n",
      "[500]\ttraining's auc: 0.996631\tvalid_1's auc: 0.916189\n",
      "[1000]\ttraining's auc: 0.999954\tvalid_1's auc: 0.924549\n",
      "[1500]\ttraining's auc: 1\tvalid_1's auc: 0.926056\n",
      "Early stopping, best iteration is:\n",
      "[1476]\ttraining's auc: 1\tvalid_1's auc: 0.926089\n",
      "V3\n"
     ]
    },
    {
     "name": "stderr",
     "output_type": "stream",
     "text": [
      "/home/jinpwa/anaconda3/lib/python3.6/site-packages/lightgbm/basic.py:1205: UserWarning: Using categorical_feature in Dataset.\n",
      "  warnings.warn('Using categorical_feature in Dataset.')\n",
      "/home/jinpwa/anaconda3/lib/python3.6/site-packages/lightgbm/basic.py:762: UserWarning: categorical_feature in param dict is overridden.\n",
      "  warnings.warn('categorical_feature in param dict is overridden.')\n"
     ]
    },
    {
     "name": "stdout",
     "output_type": "stream",
     "text": [
      "Training until validation scores don't improve for 500 rounds.\n",
      "[500]\ttraining's auc: 0.996665\tvalid_1's auc: 0.916905\n",
      "[1000]\ttraining's auc: 0.999954\tvalid_1's auc: 0.925228\n",
      "[1500]\ttraining's auc: 1\tvalid_1's auc: 0.92671\n",
      "[2000]\ttraining's auc: 1\tvalid_1's auc: 0.926818\n",
      "Early stopping, best iteration is:\n",
      "[1648]\ttraining's auc: 1\tvalid_1's auc: 0.926801\n",
      "V4\n"
     ]
    },
    {
     "name": "stderr",
     "output_type": "stream",
     "text": [
      "/home/jinpwa/anaconda3/lib/python3.6/site-packages/lightgbm/basic.py:1205: UserWarning: Using categorical_feature in Dataset.\n",
      "  warnings.warn('Using categorical_feature in Dataset.')\n",
      "/home/jinpwa/anaconda3/lib/python3.6/site-packages/lightgbm/basic.py:762: UserWarning: categorical_feature in param dict is overridden.\n",
      "  warnings.warn('categorical_feature in param dict is overridden.')\n"
     ]
    },
    {
     "name": "stdout",
     "output_type": "stream",
     "text": [
      "Training until validation scores don't improve for 500 rounds.\n",
      "[500]\ttraining's auc: 0.996645\tvalid_1's auc: 0.916388\n",
      "[1000]\ttraining's auc: 0.999955\tvalid_1's auc: 0.924695\n",
      "[1500]\ttraining's auc: 1\tvalid_1's auc: 0.926222\n",
      "[2000]\ttraining's auc: 1\tvalid_1's auc: 0.92615\n",
      "Early stopping, best iteration is:\n",
      "[1591]\ttraining's auc: 1\tvalid_1's auc: 0.926297\n",
      "V5\n"
     ]
    },
    {
     "name": "stderr",
     "output_type": "stream",
     "text": [
      "/home/jinpwa/anaconda3/lib/python3.6/site-packages/lightgbm/basic.py:1205: UserWarning: Using categorical_feature in Dataset.\n",
      "  warnings.warn('Using categorical_feature in Dataset.')\n",
      "/home/jinpwa/anaconda3/lib/python3.6/site-packages/lightgbm/basic.py:762: UserWarning: categorical_feature in param dict is overridden.\n",
      "  warnings.warn('categorical_feature in param dict is overridden.')\n"
     ]
    },
    {
     "name": "stdout",
     "output_type": "stream",
     "text": [
      "Training until validation scores don't improve for 500 rounds.\n",
      "[500]\ttraining's auc: 0.996623\tvalid_1's auc: 0.916337\n",
      "[1000]\ttraining's auc: 0.999952\tvalid_1's auc: 0.924603\n",
      "[1500]\ttraining's auc: 1\tvalid_1's auc: 0.92594\n",
      "[2000]\ttraining's auc: 1\tvalid_1's auc: 0.925812\n",
      "Early stopping, best iteration is:\n",
      "[1665]\ttraining's auc: 1\tvalid_1's auc: 0.925972\n",
      "V6\n"
     ]
    },
    {
     "name": "stderr",
     "output_type": "stream",
     "text": [
      "/home/jinpwa/anaconda3/lib/python3.6/site-packages/lightgbm/basic.py:1205: UserWarning: Using categorical_feature in Dataset.\n",
      "  warnings.warn('Using categorical_feature in Dataset.')\n",
      "/home/jinpwa/anaconda3/lib/python3.6/site-packages/lightgbm/basic.py:762: UserWarning: categorical_feature in param dict is overridden.\n",
      "  warnings.warn('categorical_feature in param dict is overridden.')\n"
     ]
    },
    {
     "name": "stdout",
     "output_type": "stream",
     "text": [
      "Training until validation scores don't improve for 500 rounds.\n",
      "[500]\ttraining's auc: 0.996625\tvalid_1's auc: 0.915732\n",
      "[1000]\ttraining's auc: 0.999954\tvalid_1's auc: 0.923924\n",
      "[1500]\ttraining's auc: 1\tvalid_1's auc: 0.925588\n",
      "[2000]\ttraining's auc: 1\tvalid_1's auc: 0.92583\n",
      "Early stopping, best iteration is:\n",
      "[1639]\ttraining's auc: 1\tvalid_1's auc: 0.925859\n",
      "V7\n"
     ]
    },
    {
     "name": "stderr",
     "output_type": "stream",
     "text": [
      "/home/jinpwa/anaconda3/lib/python3.6/site-packages/lightgbm/basic.py:1205: UserWarning: Using categorical_feature in Dataset.\n",
      "  warnings.warn('Using categorical_feature in Dataset.')\n",
      "/home/jinpwa/anaconda3/lib/python3.6/site-packages/lightgbm/basic.py:762: UserWarning: categorical_feature in param dict is overridden.\n",
      "  warnings.warn('categorical_feature in param dict is overridden.')\n"
     ]
    },
    {
     "name": "stdout",
     "output_type": "stream",
     "text": [
      "Training until validation scores don't improve for 500 rounds.\n",
      "[500]\ttraining's auc: 0.99666\tvalid_1's auc: 0.916708\n",
      "[1000]\ttraining's auc: 0.999952\tvalid_1's auc: 0.924828\n",
      "[1500]\ttraining's auc: 1\tvalid_1's auc: 0.926151\n",
      "[2000]\ttraining's auc: 1\tvalid_1's auc: 0.926235\n",
      "Early stopping, best iteration is:\n",
      "[1679]\ttraining's auc: 1\tvalid_1's auc: 0.926374\n",
      "V8\n"
     ]
    },
    {
     "name": "stderr",
     "output_type": "stream",
     "text": [
      "/home/jinpwa/anaconda3/lib/python3.6/site-packages/lightgbm/basic.py:1205: UserWarning: Using categorical_feature in Dataset.\n",
      "  warnings.warn('Using categorical_feature in Dataset.')\n",
      "/home/jinpwa/anaconda3/lib/python3.6/site-packages/lightgbm/basic.py:762: UserWarning: categorical_feature in param dict is overridden.\n",
      "  warnings.warn('categorical_feature in param dict is overridden.')\n"
     ]
    },
    {
     "name": "stdout",
     "output_type": "stream",
     "text": [
      "Training until validation scores don't improve for 500 rounds.\n",
      "[500]\ttraining's auc: 0.996638\tvalid_1's auc: 0.916398\n",
      "[1000]\ttraining's auc: 0.999955\tvalid_1's auc: 0.924806\n",
      "[1500]\ttraining's auc: 1\tvalid_1's auc: 0.92617\n",
      "[2000]\ttraining's auc: 1\tvalid_1's auc: 0.926356\n",
      "Early stopping, best iteration is:\n",
      "[1646]\ttraining's auc: 1\tvalid_1's auc: 0.926241\n",
      "V9\n"
     ]
    },
    {
     "name": "stderr",
     "output_type": "stream",
     "text": [
      "/home/jinpwa/anaconda3/lib/python3.6/site-packages/lightgbm/basic.py:1205: UserWarning: Using categorical_feature in Dataset.\n",
      "  warnings.warn('Using categorical_feature in Dataset.')\n",
      "/home/jinpwa/anaconda3/lib/python3.6/site-packages/lightgbm/basic.py:762: UserWarning: categorical_feature in param dict is overridden.\n",
      "  warnings.warn('categorical_feature in param dict is overridden.')\n"
     ]
    },
    {
     "name": "stdout",
     "output_type": "stream",
     "text": [
      "Training until validation scores don't improve for 500 rounds.\n",
      "[500]\ttraining's auc: 0.996636\tvalid_1's auc: 0.91627\n",
      "[1000]\ttraining's auc: 0.999955\tvalid_1's auc: 0.924919\n",
      "[1500]\ttraining's auc: 1\tvalid_1's auc: 0.925829\n",
      "[2000]\ttraining's auc: 1\tvalid_1's auc: 0.925559\n",
      "Early stopping, best iteration is:\n",
      "[1563]\ttraining's auc: 1\tvalid_1's auc: 0.925913\n",
      "V10\n"
     ]
    },
    {
     "name": "stderr",
     "output_type": "stream",
     "text": [
      "/home/jinpwa/anaconda3/lib/python3.6/site-packages/lightgbm/basic.py:1205: UserWarning: Using categorical_feature in Dataset.\n",
      "  warnings.warn('Using categorical_feature in Dataset.')\n",
      "/home/jinpwa/anaconda3/lib/python3.6/site-packages/lightgbm/basic.py:762: UserWarning: categorical_feature in param dict is overridden.\n",
      "  warnings.warn('categorical_feature in param dict is overridden.')\n"
     ]
    },
    {
     "name": "stdout",
     "output_type": "stream",
     "text": [
      "Training until validation scores don't improve for 500 rounds.\n",
      "[500]\ttraining's auc: 0.996673\tvalid_1's auc: 0.91693\n",
      "[1000]\ttraining's auc: 0.999953\tvalid_1's auc: 0.925019\n",
      "[1500]\ttraining's auc: 1\tvalid_1's auc: 0.925995\n",
      "Early stopping, best iteration is:\n",
      "[1482]\ttraining's auc: 1\tvalid_1's auc: 0.926019\n",
      "V11\n"
     ]
    },
    {
     "name": "stderr",
     "output_type": "stream",
     "text": [
      "/home/jinpwa/anaconda3/lib/python3.6/site-packages/lightgbm/basic.py:1205: UserWarning: Using categorical_feature in Dataset.\n",
      "  warnings.warn('Using categorical_feature in Dataset.')\n",
      "/home/jinpwa/anaconda3/lib/python3.6/site-packages/lightgbm/basic.py:762: UserWarning: categorical_feature in param dict is overridden.\n",
      "  warnings.warn('categorical_feature in param dict is overridden.')\n"
     ]
    },
    {
     "name": "stdout",
     "output_type": "stream",
     "text": [
      "Training until validation scores don't improve for 500 rounds.\n",
      "[500]\ttraining's auc: 0.99667\tvalid_1's auc: 0.916587\n",
      "[1000]\ttraining's auc: 0.999954\tvalid_1's auc: 0.924463\n",
      "[1500]\ttraining's auc: 1\tvalid_1's auc: 0.92592\n",
      "[2000]\ttraining's auc: 1\tvalid_1's auc: 0.925986\n",
      "Early stopping, best iteration is:\n",
      "[1634]\ttraining's auc: 1\tvalid_1's auc: 0.925965\n",
      "V12\n"
     ]
    },
    {
     "name": "stderr",
     "output_type": "stream",
     "text": [
      "/home/jinpwa/anaconda3/lib/python3.6/site-packages/lightgbm/basic.py:1205: UserWarning: Using categorical_feature in Dataset.\n",
      "  warnings.warn('Using categorical_feature in Dataset.')\n",
      "/home/jinpwa/anaconda3/lib/python3.6/site-packages/lightgbm/basic.py:762: UserWarning: categorical_feature in param dict is overridden.\n",
      "  warnings.warn('categorical_feature in param dict is overridden.')\n"
     ]
    },
    {
     "name": "stdout",
     "output_type": "stream",
     "text": [
      "Training until validation scores don't improve for 500 rounds.\n",
      "[500]\ttraining's auc: 0.996653\tvalid_1's auc: 0.917287\n",
      "[1000]\ttraining's auc: 0.999954\tvalid_1's auc: 0.924994\n",
      "[1500]\ttraining's auc: 1\tvalid_1's auc: 0.925986\n",
      "[2000]\ttraining's auc: 1\tvalid_1's auc: 0.926188\n",
      "Early stopping, best iteration is:\n",
      "[1635]\ttraining's auc: 1\tvalid_1's auc: 0.926187\n",
      "V13\n"
     ]
    },
    {
     "name": "stderr",
     "output_type": "stream",
     "text": [
      "/home/jinpwa/anaconda3/lib/python3.6/site-packages/lightgbm/basic.py:1205: UserWarning: Using categorical_feature in Dataset.\n",
      "  warnings.warn('Using categorical_feature in Dataset.')\n",
      "/home/jinpwa/anaconda3/lib/python3.6/site-packages/lightgbm/basic.py:762: UserWarning: categorical_feature in param dict is overridden.\n",
      "  warnings.warn('categorical_feature in param dict is overridden.')\n"
     ]
    },
    {
     "name": "stdout",
     "output_type": "stream",
     "text": [
      "Training until validation scores don't improve for 500 rounds.\n",
      "[500]\ttraining's auc: 0.996643\tvalid_1's auc: 0.917252\n",
      "[1000]\ttraining's auc: 0.999951\tvalid_1's auc: 0.925661\n",
      "[1500]\ttraining's auc: 1\tvalid_1's auc: 0.927211\n",
      "[2000]\ttraining's auc: 1\tvalid_1's auc: 0.927408\n",
      "Early stopping, best iteration is:\n",
      "[1659]\ttraining's auc: 1\tvalid_1's auc: 0.927489\n",
      "V14\n"
     ]
    },
    {
     "name": "stderr",
     "output_type": "stream",
     "text": [
      "/home/jinpwa/anaconda3/lib/python3.6/site-packages/lightgbm/basic.py:1205: UserWarning: Using categorical_feature in Dataset.\n",
      "  warnings.warn('Using categorical_feature in Dataset.')\n",
      "/home/jinpwa/anaconda3/lib/python3.6/site-packages/lightgbm/basic.py:762: UserWarning: categorical_feature in param dict is overridden.\n",
      "  warnings.warn('categorical_feature in param dict is overridden.')\n"
     ]
    },
    {
     "name": "stdout",
     "output_type": "stream",
     "text": [
      "Training until validation scores don't improve for 500 rounds.\n",
      "[500]\ttraining's auc: 0.996648\tvalid_1's auc: 0.916667\n",
      "[1000]\ttraining's auc: 0.999954\tvalid_1's auc: 0.924745\n",
      "[1500]\ttraining's auc: 1\tvalid_1's auc: 0.926236\n",
      "[2000]\ttraining's auc: 1\tvalid_1's auc: 0.926421\n",
      "Early stopping, best iteration is:\n",
      "[1657]\ttraining's auc: 1\tvalid_1's auc: 0.926336\n",
      "V15\n"
     ]
    },
    {
     "name": "stderr",
     "output_type": "stream",
     "text": [
      "/home/jinpwa/anaconda3/lib/python3.6/site-packages/lightgbm/basic.py:1205: UserWarning: Using categorical_feature in Dataset.\n",
      "  warnings.warn('Using categorical_feature in Dataset.')\n",
      "/home/jinpwa/anaconda3/lib/python3.6/site-packages/lightgbm/basic.py:762: UserWarning: categorical_feature in param dict is overridden.\n",
      "  warnings.warn('categorical_feature in param dict is overridden.')\n"
     ]
    },
    {
     "name": "stdout",
     "output_type": "stream",
     "text": [
      "Training until validation scores don't improve for 500 rounds.\n",
      "[500]\ttraining's auc: 0.996689\tvalid_1's auc: 0.91595\n",
      "[1000]\ttraining's auc: 0.999954\tvalid_1's auc: 0.924604\n",
      "[1500]\ttraining's auc: 1\tvalid_1's auc: 0.926078\n",
      "[2000]\ttraining's auc: 1\tvalid_1's auc: 0.926348\n",
      "Early stopping, best iteration is:\n",
      "[1681]\ttraining's auc: 1\tvalid_1's auc: 0.926196\n",
      "V16\n"
     ]
    },
    {
     "name": "stderr",
     "output_type": "stream",
     "text": [
      "/home/jinpwa/anaconda3/lib/python3.6/site-packages/lightgbm/basic.py:1205: UserWarning: Using categorical_feature in Dataset.\n",
      "  warnings.warn('Using categorical_feature in Dataset.')\n",
      "/home/jinpwa/anaconda3/lib/python3.6/site-packages/lightgbm/basic.py:762: UserWarning: categorical_feature in param dict is overridden.\n",
      "  warnings.warn('categorical_feature in param dict is overridden.')\n"
     ]
    },
    {
     "name": "stdout",
     "output_type": "stream",
     "text": [
      "Training until validation scores don't improve for 500 rounds.\n",
      "[500]\ttraining's auc: 0.996689\tvalid_1's auc: 0.915949\n",
      "[1000]\ttraining's auc: 0.999954\tvalid_1's auc: 0.923823\n",
      "[1500]\ttraining's auc: 1\tvalid_1's auc: 0.925675\n",
      "[2000]\ttraining's auc: 1\tvalid_1's auc: 0.925686\n",
      "Early stopping, best iteration is:\n",
      "[1624]\ttraining's auc: 1\tvalid_1's auc: 0.925866\n",
      "V17\n"
     ]
    },
    {
     "name": "stderr",
     "output_type": "stream",
     "text": [
      "/home/jinpwa/anaconda3/lib/python3.6/site-packages/lightgbm/basic.py:1205: UserWarning: Using categorical_feature in Dataset.\n",
      "  warnings.warn('Using categorical_feature in Dataset.')\n",
      "/home/jinpwa/anaconda3/lib/python3.6/site-packages/lightgbm/basic.py:762: UserWarning: categorical_feature in param dict is overridden.\n",
      "  warnings.warn('categorical_feature in param dict is overridden.')\n"
     ]
    },
    {
     "name": "stdout",
     "output_type": "stream",
     "text": [
      "Training until validation scores don't improve for 500 rounds.\n",
      "[500]\ttraining's auc: 0.996649\tvalid_1's auc: 0.916364\n",
      "[1000]\ttraining's auc: 0.999954\tvalid_1's auc: 0.924729\n",
      "[1500]\ttraining's auc: 1\tvalid_1's auc: 0.926332\n",
      "[2000]\ttraining's auc: 1\tvalid_1's auc: 0.926237\n",
      "Early stopping, best iteration is:\n",
      "[1640]\ttraining's auc: 1\tvalid_1's auc: 0.926451\n",
      "V18\n"
     ]
    },
    {
     "name": "stderr",
     "output_type": "stream",
     "text": [
      "/home/jinpwa/anaconda3/lib/python3.6/site-packages/lightgbm/basic.py:1205: UserWarning: Using categorical_feature in Dataset.\n",
      "  warnings.warn('Using categorical_feature in Dataset.')\n",
      "/home/jinpwa/anaconda3/lib/python3.6/site-packages/lightgbm/basic.py:762: UserWarning: categorical_feature in param dict is overridden.\n",
      "  warnings.warn('categorical_feature in param dict is overridden.')\n"
     ]
    },
    {
     "name": "stdout",
     "output_type": "stream",
     "text": [
      "Training until validation scores don't improve for 500 rounds.\n",
      "[500]\ttraining's auc: 0.996656\tvalid_1's auc: 0.917377\n",
      "[1000]\ttraining's auc: 0.999956\tvalid_1's auc: 0.925364\n",
      "[1500]\ttraining's auc: 1\tvalid_1's auc: 0.926611\n",
      "[2000]\ttraining's auc: 1\tvalid_1's auc: 0.926576\n",
      "Early stopping, best iteration is:\n",
      "[1630]\ttraining's auc: 1\tvalid_1's auc: 0.926534\n",
      "V19\n"
     ]
    },
    {
     "name": "stderr",
     "output_type": "stream",
     "text": [
      "/home/jinpwa/anaconda3/lib/python3.6/site-packages/lightgbm/basic.py:1205: UserWarning: Using categorical_feature in Dataset.\n",
      "  warnings.warn('Using categorical_feature in Dataset.')\n",
      "/home/jinpwa/anaconda3/lib/python3.6/site-packages/lightgbm/basic.py:762: UserWarning: categorical_feature in param dict is overridden.\n",
      "  warnings.warn('categorical_feature in param dict is overridden.')\n"
     ]
    },
    {
     "name": "stdout",
     "output_type": "stream",
     "text": [
      "Training until validation scores don't improve for 500 rounds.\n",
      "[500]\ttraining's auc: 0.996617\tvalid_1's auc: 0.916851\n",
      "[1000]\ttraining's auc: 0.999954\tvalid_1's auc: 0.924771\n",
      "[1500]\ttraining's auc: 1\tvalid_1's auc: 0.926282\n",
      "[2000]\ttraining's auc: 1\tvalid_1's auc: 0.925959\n",
      "Early stopping, best iteration is:\n",
      "[1517]\ttraining's auc: 1\tvalid_1's auc: 0.926289\n",
      "V20\n"
     ]
    },
    {
     "name": "stderr",
     "output_type": "stream",
     "text": [
      "/home/jinpwa/anaconda3/lib/python3.6/site-packages/lightgbm/basic.py:1205: UserWarning: Using categorical_feature in Dataset.\n",
      "  warnings.warn('Using categorical_feature in Dataset.')\n",
      "/home/jinpwa/anaconda3/lib/python3.6/site-packages/lightgbm/basic.py:762: UserWarning: categorical_feature in param dict is overridden.\n",
      "  warnings.warn('categorical_feature in param dict is overridden.')\n"
     ]
    },
    {
     "name": "stdout",
     "output_type": "stream",
     "text": [
      "Training until validation scores don't improve for 500 rounds.\n",
      "[500]\ttraining's auc: 0.996654\tvalid_1's auc: 0.916796\n",
      "[1000]\ttraining's auc: 0.999955\tvalid_1's auc: 0.925487\n",
      "[1500]\ttraining's auc: 1\tvalid_1's auc: 0.92683\n",
      "Early stopping, best iteration is:\n",
      "[1488]\ttraining's auc: 1\tvalid_1's auc: 0.926847\n",
      "V21\n"
     ]
    },
    {
     "name": "stderr",
     "output_type": "stream",
     "text": [
      "/home/jinpwa/anaconda3/lib/python3.6/site-packages/lightgbm/basic.py:1205: UserWarning: Using categorical_feature in Dataset.\n",
      "  warnings.warn('Using categorical_feature in Dataset.')\n",
      "/home/jinpwa/anaconda3/lib/python3.6/site-packages/lightgbm/basic.py:762: UserWarning: categorical_feature in param dict is overridden.\n",
      "  warnings.warn('categorical_feature in param dict is overridden.')\n"
     ]
    },
    {
     "name": "stdout",
     "output_type": "stream",
     "text": [
      "Training until validation scores don't improve for 500 rounds.\n",
      "[500]\ttraining's auc: 0.996686\tvalid_1's auc: 0.91693\n",
      "[1000]\ttraining's auc: 0.999955\tvalid_1's auc: 0.925115\n",
      "[1500]\ttraining's auc: 1\tvalid_1's auc: 0.926197\n",
      "[2000]\ttraining's auc: 1\tvalid_1's auc: 0.9266\n",
      "Early stopping, best iteration is:\n",
      "[1646]\ttraining's auc: 1\tvalid_1's auc: 0.926415\n",
      "V22\n"
     ]
    },
    {
     "name": "stderr",
     "output_type": "stream",
     "text": [
      "/home/jinpwa/anaconda3/lib/python3.6/site-packages/lightgbm/basic.py:1205: UserWarning: Using categorical_feature in Dataset.\n",
      "  warnings.warn('Using categorical_feature in Dataset.')\n",
      "/home/jinpwa/anaconda3/lib/python3.6/site-packages/lightgbm/basic.py:762: UserWarning: categorical_feature in param dict is overridden.\n",
      "  warnings.warn('categorical_feature in param dict is overridden.')\n"
     ]
    },
    {
     "name": "stdout",
     "output_type": "stream",
     "text": [
      "Training until validation scores don't improve for 500 rounds.\n",
      "[500]\ttraining's auc: 0.99669\tvalid_1's auc: 0.917337\n",
      "[1000]\ttraining's auc: 0.999954\tvalid_1's auc: 0.925379\n",
      "[1500]\ttraining's auc: 1\tvalid_1's auc: 0.926134\n",
      "[2000]\ttraining's auc: 1\tvalid_1's auc: 0.926049\n",
      "Early stopping, best iteration is:\n",
      "[1624]\ttraining's auc: 1\tvalid_1's auc: 0.926276\n",
      "V23\n"
     ]
    },
    {
     "name": "stderr",
     "output_type": "stream",
     "text": [
      "/home/jinpwa/anaconda3/lib/python3.6/site-packages/lightgbm/basic.py:1205: UserWarning: Using categorical_feature in Dataset.\n",
      "  warnings.warn('Using categorical_feature in Dataset.')\n",
      "/home/jinpwa/anaconda3/lib/python3.6/site-packages/lightgbm/basic.py:762: UserWarning: categorical_feature in param dict is overridden.\n",
      "  warnings.warn('categorical_feature in param dict is overridden.')\n"
     ]
    },
    {
     "name": "stdout",
     "output_type": "stream",
     "text": [
      "Training until validation scores don't improve for 500 rounds.\n",
      "[500]\ttraining's auc: 0.996636\tvalid_1's auc: 0.916591\n",
      "[1000]\ttraining's auc: 0.999955\tvalid_1's auc: 0.924705\n",
      "[1500]\ttraining's auc: 1\tvalid_1's auc: 0.925971\n",
      "[2000]\ttraining's auc: 1\tvalid_1's auc: 0.926179\n",
      "Early stopping, best iteration is:\n",
      "[1611]\ttraining's auc: 1\tvalid_1's auc: 0.926196\n",
      "V24\n"
     ]
    },
    {
     "name": "stderr",
     "output_type": "stream",
     "text": [
      "/home/jinpwa/anaconda3/lib/python3.6/site-packages/lightgbm/basic.py:1205: UserWarning: Using categorical_feature in Dataset.\n",
      "  warnings.warn('Using categorical_feature in Dataset.')\n",
      "/home/jinpwa/anaconda3/lib/python3.6/site-packages/lightgbm/basic.py:762: UserWarning: categorical_feature in param dict is overridden.\n",
      "  warnings.warn('categorical_feature in param dict is overridden.')\n"
     ]
    },
    {
     "name": "stdout",
     "output_type": "stream",
     "text": [
      "Training until validation scores don't improve for 500 rounds.\n",
      "[500]\ttraining's auc: 0.996662\tvalid_1's auc: 0.91647\n",
      "[1000]\ttraining's auc: 0.999955\tvalid_1's auc: 0.924931\n",
      "[1500]\ttraining's auc: 1\tvalid_1's auc: 0.925922\n",
      "[2000]\ttraining's auc: 1\tvalid_1's auc: 0.926005\n",
      "Early stopping, best iteration is:\n",
      "[1614]\ttraining's auc: 1\tvalid_1's auc: 0.925928\n",
      "V25\n"
     ]
    },
    {
     "name": "stderr",
     "output_type": "stream",
     "text": [
      "/home/jinpwa/anaconda3/lib/python3.6/site-packages/lightgbm/basic.py:1205: UserWarning: Using categorical_feature in Dataset.\n",
      "  warnings.warn('Using categorical_feature in Dataset.')\n",
      "/home/jinpwa/anaconda3/lib/python3.6/site-packages/lightgbm/basic.py:762: UserWarning: categorical_feature in param dict is overridden.\n",
      "  warnings.warn('categorical_feature in param dict is overridden.')\n"
     ]
    },
    {
     "name": "stdout",
     "output_type": "stream",
     "text": [
      "Training until validation scores don't improve for 500 rounds.\n",
      "[500]\ttraining's auc: 0.996679\tvalid_1's auc: 0.917049\n",
      "[1000]\ttraining's auc: 0.999953\tvalid_1's auc: 0.925097\n",
      "[1500]\ttraining's auc: 1\tvalid_1's auc: 0.926221\n",
      "[2000]\ttraining's auc: 1\tvalid_1's auc: 0.92652\n",
      "Early stopping, best iteration is:\n",
      "[1667]\ttraining's auc: 1\tvalid_1's auc: 0.926314\n",
      "V26\n"
     ]
    },
    {
     "name": "stderr",
     "output_type": "stream",
     "text": [
      "/home/jinpwa/anaconda3/lib/python3.6/site-packages/lightgbm/basic.py:1205: UserWarning: Using categorical_feature in Dataset.\n",
      "  warnings.warn('Using categorical_feature in Dataset.')\n",
      "/home/jinpwa/anaconda3/lib/python3.6/site-packages/lightgbm/basic.py:762: UserWarning: categorical_feature in param dict is overridden.\n",
      "  warnings.warn('categorical_feature in param dict is overridden.')\n"
     ]
    },
    {
     "name": "stdout",
     "output_type": "stream",
     "text": [
      "Training until validation scores don't improve for 500 rounds.\n",
      "[500]\ttraining's auc: 0.996672\tvalid_1's auc: 0.916846\n",
      "[1000]\ttraining's auc: 0.999955\tvalid_1's auc: 0.924775\n",
      "[1500]\ttraining's auc: 1\tvalid_1's auc: 0.926143\n",
      "[2000]\ttraining's auc: 1\tvalid_1's auc: 0.926053\n",
      "Early stopping, best iteration is:\n",
      "[1628]\ttraining's auc: 1\tvalid_1's auc: 0.926205\n",
      "V27\n"
     ]
    },
    {
     "name": "stderr",
     "output_type": "stream",
     "text": [
      "/home/jinpwa/anaconda3/lib/python3.6/site-packages/lightgbm/basic.py:1205: UserWarning: Using categorical_feature in Dataset.\n",
      "  warnings.warn('Using categorical_feature in Dataset.')\n",
      "/home/jinpwa/anaconda3/lib/python3.6/site-packages/lightgbm/basic.py:762: UserWarning: categorical_feature in param dict is overridden.\n",
      "  warnings.warn('categorical_feature in param dict is overridden.')\n"
     ]
    },
    {
     "name": "stdout",
     "output_type": "stream",
     "text": [
      "Training until validation scores don't improve for 500 rounds.\n",
      "[500]\ttraining's auc: 0.996659\tvalid_1's auc: 0.917489\n",
      "[1000]\ttraining's auc: 0.999953\tvalid_1's auc: 0.925369\n",
      "[1500]\ttraining's auc: 1\tvalid_1's auc: 0.926808\n",
      "[2000]\ttraining's auc: 1\tvalid_1's auc: 0.926533\n",
      "Early stopping, best iteration is:\n",
      "[1618]\ttraining's auc: 1\tvalid_1's auc: 0.926862\n",
      "V28\n"
     ]
    },
    {
     "name": "stderr",
     "output_type": "stream",
     "text": [
      "/home/jinpwa/anaconda3/lib/python3.6/site-packages/lightgbm/basic.py:1205: UserWarning: Using categorical_feature in Dataset.\n",
      "  warnings.warn('Using categorical_feature in Dataset.')\n",
      "/home/jinpwa/anaconda3/lib/python3.6/site-packages/lightgbm/basic.py:762: UserWarning: categorical_feature in param dict is overridden.\n",
      "  warnings.warn('categorical_feature in param dict is overridden.')\n"
     ]
    },
    {
     "name": "stdout",
     "output_type": "stream",
     "text": [
      "Training until validation scores don't improve for 500 rounds.\n",
      "[500]\ttraining's auc: 0.996659\tvalid_1's auc: 0.917489\n",
      "[1000]\ttraining's auc: 0.999953\tvalid_1's auc: 0.925369\n",
      "[1500]\ttraining's auc: 1\tvalid_1's auc: 0.926808\n",
      "[2000]\ttraining's auc: 1\tvalid_1's auc: 0.926533\n",
      "Early stopping, best iteration is:\n",
      "[1618]\ttraining's auc: 1\tvalid_1's auc: 0.926862\n",
      "V29\n"
     ]
    },
    {
     "name": "stderr",
     "output_type": "stream",
     "text": [
      "/home/jinpwa/anaconda3/lib/python3.6/site-packages/lightgbm/basic.py:1205: UserWarning: Using categorical_feature in Dataset.\n",
      "  warnings.warn('Using categorical_feature in Dataset.')\n",
      "/home/jinpwa/anaconda3/lib/python3.6/site-packages/lightgbm/basic.py:762: UserWarning: categorical_feature in param dict is overridden.\n",
      "  warnings.warn('categorical_feature in param dict is overridden.')\n"
     ]
    },
    {
     "name": "stdout",
     "output_type": "stream",
     "text": [
      "Training until validation scores don't improve for 500 rounds.\n",
      "[500]\ttraining's auc: 0.996683\tvalid_1's auc: 0.916383\n",
      "[1000]\ttraining's auc: 0.999956\tvalid_1's auc: 0.924836\n",
      "[1500]\ttraining's auc: 1\tvalid_1's auc: 0.925873\n",
      "[2000]\ttraining's auc: 1\tvalid_1's auc: 0.92602\n",
      "Early stopping, best iteration is:\n",
      "[1630]\ttraining's auc: 1\tvalid_1's auc: 0.925962\n",
      "V30\n"
     ]
    },
    {
     "name": "stderr",
     "output_type": "stream",
     "text": [
      "/home/jinpwa/anaconda3/lib/python3.6/site-packages/lightgbm/basic.py:1205: UserWarning: Using categorical_feature in Dataset.\n",
      "  warnings.warn('Using categorical_feature in Dataset.')\n",
      "/home/jinpwa/anaconda3/lib/python3.6/site-packages/lightgbm/basic.py:762: UserWarning: categorical_feature in param dict is overridden.\n",
      "  warnings.warn('categorical_feature in param dict is overridden.')\n"
     ]
    },
    {
     "name": "stdout",
     "output_type": "stream",
     "text": [
      "Training until validation scores don't improve for 500 rounds.\n",
      "[500]\ttraining's auc: 0.99665\tvalid_1's auc: 0.916427\n",
      "[1000]\ttraining's auc: 0.999955\tvalid_1's auc: 0.924543\n",
      "[1500]\ttraining's auc: 1\tvalid_1's auc: 0.925826\n",
      "[2000]\ttraining's auc: 1\tvalid_1's auc: 0.926084\n",
      "Early stopping, best iteration is:\n",
      "[1622]\ttraining's auc: 1\tvalid_1's auc: 0.925986\n",
      "V31\n"
     ]
    },
    {
     "name": "stderr",
     "output_type": "stream",
     "text": [
      "/home/jinpwa/anaconda3/lib/python3.6/site-packages/lightgbm/basic.py:1205: UserWarning: Using categorical_feature in Dataset.\n",
      "  warnings.warn('Using categorical_feature in Dataset.')\n",
      "/home/jinpwa/anaconda3/lib/python3.6/site-packages/lightgbm/basic.py:762: UserWarning: categorical_feature in param dict is overridden.\n",
      "  warnings.warn('categorical_feature in param dict is overridden.')\n"
     ]
    },
    {
     "name": "stdout",
     "output_type": "stream",
     "text": [
      "Training until validation scores don't improve for 500 rounds.\n",
      "[500]\ttraining's auc: 0.996657\tvalid_1's auc: 0.916266\n",
      "[1000]\ttraining's auc: 0.999956\tvalid_1's auc: 0.925797\n",
      "[1500]\ttraining's auc: 1\tvalid_1's auc: 0.92679\n",
      "[2000]\ttraining's auc: 1\tvalid_1's auc: 0.926718\n",
      "Early stopping, best iteration is:\n",
      "[1641]\ttraining's auc: 1\tvalid_1's auc: 0.926855\n",
      "V32\n"
     ]
    },
    {
     "name": "stderr",
     "output_type": "stream",
     "text": [
      "/home/jinpwa/anaconda3/lib/python3.6/site-packages/lightgbm/basic.py:1205: UserWarning: Using categorical_feature in Dataset.\n",
      "  warnings.warn('Using categorical_feature in Dataset.')\n",
      "/home/jinpwa/anaconda3/lib/python3.6/site-packages/lightgbm/basic.py:762: UserWarning: categorical_feature in param dict is overridden.\n",
      "  warnings.warn('categorical_feature in param dict is overridden.')\n"
     ]
    },
    {
     "name": "stdout",
     "output_type": "stream",
     "text": [
      "Training until validation scores don't improve for 500 rounds.\n",
      "[500]\ttraining's auc: 0.996621\tvalid_1's auc: 0.917025\n",
      "[1000]\ttraining's auc: 0.999953\tvalid_1's auc: 0.92513\n",
      "[1500]\ttraining's auc: 1\tvalid_1's auc: 0.926206\n",
      "[2000]\ttraining's auc: 1\tvalid_1's auc: 0.926179\n",
      "Early stopping, best iteration is:\n",
      "[1521]\ttraining's auc: 1\tvalid_1's auc: 0.926274\n",
      "V33\n"
     ]
    },
    {
     "name": "stderr",
     "output_type": "stream",
     "text": [
      "/home/jinpwa/anaconda3/lib/python3.6/site-packages/lightgbm/basic.py:1205: UserWarning: Using categorical_feature in Dataset.\n",
      "  warnings.warn('Using categorical_feature in Dataset.')\n",
      "/home/jinpwa/anaconda3/lib/python3.6/site-packages/lightgbm/basic.py:762: UserWarning: categorical_feature in param dict is overridden.\n",
      "  warnings.warn('categorical_feature in param dict is overridden.')\n"
     ]
    },
    {
     "name": "stdout",
     "output_type": "stream",
     "text": [
      "Training until validation scores don't improve for 500 rounds.\n",
      "[500]\ttraining's auc: 0.996647\tvalid_1's auc: 0.917714\n",
      "[1000]\ttraining's auc: 0.999956\tvalid_1's auc: 0.92525\n",
      "[1500]\ttraining's auc: 1\tvalid_1's auc: 0.926442\n",
      "[2000]\ttraining's auc: 1\tvalid_1's auc: 0.926775\n",
      "Early stopping, best iteration is:\n",
      "[1611]\ttraining's auc: 1\tvalid_1's auc: 0.926544\n",
      "V34\n"
     ]
    },
    {
     "name": "stderr",
     "output_type": "stream",
     "text": [
      "/home/jinpwa/anaconda3/lib/python3.6/site-packages/lightgbm/basic.py:1205: UserWarning: Using categorical_feature in Dataset.\n",
      "  warnings.warn('Using categorical_feature in Dataset.')\n",
      "/home/jinpwa/anaconda3/lib/python3.6/site-packages/lightgbm/basic.py:762: UserWarning: categorical_feature in param dict is overridden.\n",
      "  warnings.warn('categorical_feature in param dict is overridden.')\n"
     ]
    },
    {
     "name": "stdout",
     "output_type": "stream",
     "text": [
      "Training until validation scores don't improve for 500 rounds.\n",
      "[500]\ttraining's auc: 0.996675\tvalid_1's auc: 0.916901\n",
      "[1000]\ttraining's auc: 0.999954\tvalid_1's auc: 0.9252\n",
      "[1500]\ttraining's auc: 1\tvalid_1's auc: 0.926225\n",
      "[2000]\ttraining's auc: 1\tvalid_1's auc: 0.926263\n",
      "Early stopping, best iteration is:\n",
      "[1620]\ttraining's auc: 1\tvalid_1's auc: 0.9263\n",
      "V35\n"
     ]
    },
    {
     "name": "stderr",
     "output_type": "stream",
     "text": [
      "/home/jinpwa/anaconda3/lib/python3.6/site-packages/lightgbm/basic.py:1205: UserWarning: Using categorical_feature in Dataset.\n",
      "  warnings.warn('Using categorical_feature in Dataset.')\n",
      "/home/jinpwa/anaconda3/lib/python3.6/site-packages/lightgbm/basic.py:762: UserWarning: categorical_feature in param dict is overridden.\n",
      "  warnings.warn('categorical_feature in param dict is overridden.')\n"
     ]
    },
    {
     "name": "stdout",
     "output_type": "stream",
     "text": [
      "Training until validation scores don't improve for 500 rounds.\n",
      "[500]\ttraining's auc: 0.996687\tvalid_1's auc: 0.916659\n",
      "[1000]\ttraining's auc: 0.999955\tvalid_1's auc: 0.925395\n",
      "[1500]\ttraining's auc: 1\tvalid_1's auc: 0.926654\n",
      "[2000]\ttraining's auc: 1\tvalid_1's auc: 0.926639\n",
      "Early stopping, best iteration is:\n",
      "[1640]\ttraining's auc: 1\tvalid_1's auc: 0.926692\n",
      "V36\n"
     ]
    },
    {
     "name": "stderr",
     "output_type": "stream",
     "text": [
      "/home/jinpwa/anaconda3/lib/python3.6/site-packages/lightgbm/basic.py:1205: UserWarning: Using categorical_feature in Dataset.\n",
      "  warnings.warn('Using categorical_feature in Dataset.')\n",
      "/home/jinpwa/anaconda3/lib/python3.6/site-packages/lightgbm/basic.py:762: UserWarning: categorical_feature in param dict is overridden.\n",
      "  warnings.warn('categorical_feature in param dict is overridden.')\n"
     ]
    },
    {
     "name": "stdout",
     "output_type": "stream",
     "text": [
      "Training until validation scores don't improve for 500 rounds.\n",
      "[500]\ttraining's auc: 0.99664\tvalid_1's auc: 0.916516\n",
      "[1000]\ttraining's auc: 0.999954\tvalid_1's auc: 0.924836\n",
      "[1500]\ttraining's auc: 1\tvalid_1's auc: 0.925731\n",
      "[2000]\ttraining's auc: 1\tvalid_1's auc: 0.925921\n",
      "Early stopping, best iteration is:\n",
      "[1641]\ttraining's auc: 1\tvalid_1's auc: 0.925891\n",
      "V37\n"
     ]
    },
    {
     "name": "stderr",
     "output_type": "stream",
     "text": [
      "/home/jinpwa/anaconda3/lib/python3.6/site-packages/lightgbm/basic.py:1205: UserWarning: Using categorical_feature in Dataset.\n",
      "  warnings.warn('Using categorical_feature in Dataset.')\n",
      "/home/jinpwa/anaconda3/lib/python3.6/site-packages/lightgbm/basic.py:762: UserWarning: categorical_feature in param dict is overridden.\n",
      "  warnings.warn('categorical_feature in param dict is overridden.')\n"
     ]
    },
    {
     "name": "stdout",
     "output_type": "stream",
     "text": [
      "Training until validation scores don't improve for 500 rounds.\n",
      "[500]\ttraining's auc: 0.996682\tvalid_1's auc: 0.916997\n",
      "[1000]\ttraining's auc: 0.999957\tvalid_1's auc: 0.924638\n",
      "[1500]\ttraining's auc: 1\tvalid_1's auc: 0.925796\n",
      "[2000]\ttraining's auc: 1\tvalid_1's auc: 0.925707\n",
      "Early stopping, best iteration is:\n",
      "[1634]\ttraining's auc: 1\tvalid_1's auc: 0.925917\n",
      "V38\n"
     ]
    },
    {
     "name": "stderr",
     "output_type": "stream",
     "text": [
      "/home/jinpwa/anaconda3/lib/python3.6/site-packages/lightgbm/basic.py:1205: UserWarning: Using categorical_feature in Dataset.\n",
      "  warnings.warn('Using categorical_feature in Dataset.')\n",
      "/home/jinpwa/anaconda3/lib/python3.6/site-packages/lightgbm/basic.py:762: UserWarning: categorical_feature in param dict is overridden.\n",
      "  warnings.warn('categorical_feature in param dict is overridden.')\n"
     ]
    },
    {
     "name": "stdout",
     "output_type": "stream",
     "text": [
      "Training until validation scores don't improve for 500 rounds.\n",
      "[500]\ttraining's auc: 0.99668\tvalid_1's auc: 0.916251\n",
      "[1000]\ttraining's auc: 0.999954\tvalid_1's auc: 0.924673\n",
      "[1500]\ttraining's auc: 1\tvalid_1's auc: 0.926003\n",
      "[2000]\ttraining's auc: 1\tvalid_1's auc: 0.92614\n",
      "Early stopping, best iteration is:\n",
      "[1621]\ttraining's auc: 1\tvalid_1's auc: 0.926048\n",
      "V39\n"
     ]
    },
    {
     "name": "stderr",
     "output_type": "stream",
     "text": [
      "/home/jinpwa/anaconda3/lib/python3.6/site-packages/lightgbm/basic.py:1205: UserWarning: Using categorical_feature in Dataset.\n",
      "  warnings.warn('Using categorical_feature in Dataset.')\n",
      "/home/jinpwa/anaconda3/lib/python3.6/site-packages/lightgbm/basic.py:762: UserWarning: categorical_feature in param dict is overridden.\n",
      "  warnings.warn('categorical_feature in param dict is overridden.')\n"
     ]
    },
    {
     "name": "stdout",
     "output_type": "stream",
     "text": [
      "Training until validation scores don't improve for 500 rounds.\n",
      "[500]\ttraining's auc: 0.996662\tvalid_1's auc: 0.916794\n",
      "[1000]\ttraining's auc: 0.999956\tvalid_1's auc: 0.924863\n",
      "[1500]\ttraining's auc: 1\tvalid_1's auc: 0.926134\n",
      "[2000]\ttraining's auc: 1\tvalid_1's auc: 0.925994\n",
      "Early stopping, best iteration is:\n",
      "[1568]\ttraining's auc: 1\tvalid_1's auc: 0.926187\n",
      "V40\n"
     ]
    },
    {
     "name": "stderr",
     "output_type": "stream",
     "text": [
      "/home/jinpwa/anaconda3/lib/python3.6/site-packages/lightgbm/basic.py:1205: UserWarning: Using categorical_feature in Dataset.\n",
      "  warnings.warn('Using categorical_feature in Dataset.')\n",
      "/home/jinpwa/anaconda3/lib/python3.6/site-packages/lightgbm/basic.py:762: UserWarning: categorical_feature in param dict is overridden.\n",
      "  warnings.warn('categorical_feature in param dict is overridden.')\n"
     ]
    },
    {
     "name": "stdout",
     "output_type": "stream",
     "text": [
      "Training until validation scores don't improve for 500 rounds.\n",
      "[500]\ttraining's auc: 0.996609\tvalid_1's auc: 0.917665\n",
      "[1000]\ttraining's auc: 0.999955\tvalid_1's auc: 0.925604\n",
      "[1500]\ttraining's auc: 1\tvalid_1's auc: 0.927062\n",
      "[2000]\ttraining's auc: 1\tvalid_1's auc: 0.927068\n",
      "Early stopping, best iteration is:\n",
      "[1600]\ttraining's auc: 1\tvalid_1's auc: 0.927133\n",
      "V41\n"
     ]
    },
    {
     "name": "stderr",
     "output_type": "stream",
     "text": [
      "/home/jinpwa/anaconda3/lib/python3.6/site-packages/lightgbm/basic.py:1205: UserWarning: Using categorical_feature in Dataset.\n",
      "  warnings.warn('Using categorical_feature in Dataset.')\n",
      "/home/jinpwa/anaconda3/lib/python3.6/site-packages/lightgbm/basic.py:762: UserWarning: categorical_feature in param dict is overridden.\n",
      "  warnings.warn('categorical_feature in param dict is overridden.')\n"
     ]
    },
    {
     "name": "stdout",
     "output_type": "stream",
     "text": [
      "Training until validation scores don't improve for 500 rounds.\n",
      "[500]\ttraining's auc: 0.996673\tvalid_1's auc: 0.91693\n",
      "[1000]\ttraining's auc: 0.999956\tvalid_1's auc: 0.925137\n",
      "[1500]\ttraining's auc: 1\tvalid_1's auc: 0.926513\n",
      "[2000]\ttraining's auc: 1\tvalid_1's auc: 0.926943\n",
      "Early stopping, best iteration is:\n",
      "[1624]\ttraining's auc: 1\tvalid_1's auc: 0.926773\n",
      "V42\n"
     ]
    },
    {
     "name": "stderr",
     "output_type": "stream",
     "text": [
      "/home/jinpwa/anaconda3/lib/python3.6/site-packages/lightgbm/basic.py:1205: UserWarning: Using categorical_feature in Dataset.\n",
      "  warnings.warn('Using categorical_feature in Dataset.')\n",
      "/home/jinpwa/anaconda3/lib/python3.6/site-packages/lightgbm/basic.py:762: UserWarning: categorical_feature in param dict is overridden.\n",
      "  warnings.warn('categorical_feature in param dict is overridden.')\n"
     ]
    },
    {
     "name": "stdout",
     "output_type": "stream",
     "text": [
      "Training until validation scores don't improve for 500 rounds.\n",
      "[500]\ttraining's auc: 0.996634\tvalid_1's auc: 0.917197\n",
      "[1000]\ttraining's auc: 0.999954\tvalid_1's auc: 0.925363\n",
      "[1500]\ttraining's auc: 1\tvalid_1's auc: 0.926241\n",
      "[2000]\ttraining's auc: 1\tvalid_1's auc: 0.926319\n",
      "Early stopping, best iteration is:\n",
      "[1620]\ttraining's auc: 1\tvalid_1's auc: 0.926406\n",
      "V43\n"
     ]
    },
    {
     "name": "stderr",
     "output_type": "stream",
     "text": [
      "/home/jinpwa/anaconda3/lib/python3.6/site-packages/lightgbm/basic.py:1205: UserWarning: Using categorical_feature in Dataset.\n",
      "  warnings.warn('Using categorical_feature in Dataset.')\n",
      "/home/jinpwa/anaconda3/lib/python3.6/site-packages/lightgbm/basic.py:762: UserWarning: categorical_feature in param dict is overridden.\n",
      "  warnings.warn('categorical_feature in param dict is overridden.')\n"
     ]
    },
    {
     "name": "stdout",
     "output_type": "stream",
     "text": [
      "Training until validation scores don't improve for 500 rounds.\n",
      "[500]\ttraining's auc: 0.99663\tvalid_1's auc: 0.916438\n",
      "[1000]\ttraining's auc: 0.999956\tvalid_1's auc: 0.9251\n",
      "[1500]\ttraining's auc: 1\tvalid_1's auc: 0.926396\n",
      "Early stopping, best iteration is:\n",
      "[1458]\ttraining's auc: 1\tvalid_1's auc: 0.926524\n",
      "V44\n"
     ]
    },
    {
     "name": "stderr",
     "output_type": "stream",
     "text": [
      "/home/jinpwa/anaconda3/lib/python3.6/site-packages/lightgbm/basic.py:1205: UserWarning: Using categorical_feature in Dataset.\n",
      "  warnings.warn('Using categorical_feature in Dataset.')\n",
      "/home/jinpwa/anaconda3/lib/python3.6/site-packages/lightgbm/basic.py:762: UserWarning: categorical_feature in param dict is overridden.\n",
      "  warnings.warn('categorical_feature in param dict is overridden.')\n"
     ]
    },
    {
     "name": "stdout",
     "output_type": "stream",
     "text": [
      "Training until validation scores don't improve for 500 rounds.\n",
      "[500]\ttraining's auc: 0.996654\tvalid_1's auc: 0.917029\n",
      "[1000]\ttraining's auc: 0.999957\tvalid_1's auc: 0.924859\n",
      "[1500]\ttraining's auc: 1\tvalid_1's auc: 0.926124\n",
      "[2000]\ttraining's auc: 1\tvalid_1's auc: 0.926023\n",
      "Early stopping, best iteration is:\n",
      "[1600]\ttraining's auc: 1\tvalid_1's auc: 0.926167\n",
      "V45\n"
     ]
    },
    {
     "name": "stderr",
     "output_type": "stream",
     "text": [
      "/home/jinpwa/anaconda3/lib/python3.6/site-packages/lightgbm/basic.py:1205: UserWarning: Using categorical_feature in Dataset.\n",
      "  warnings.warn('Using categorical_feature in Dataset.')\n",
      "/home/jinpwa/anaconda3/lib/python3.6/site-packages/lightgbm/basic.py:762: UserWarning: categorical_feature in param dict is overridden.\n",
      "  warnings.warn('categorical_feature in param dict is overridden.')\n"
     ]
    },
    {
     "name": "stdout",
     "output_type": "stream",
     "text": [
      "Training until validation scores don't improve for 500 rounds.\n",
      "[500]\ttraining's auc: 0.996642\tvalid_1's auc: 0.915775\n",
      "[1000]\ttraining's auc: 0.999954\tvalid_1's auc: 0.924176\n",
      "[1500]\ttraining's auc: 1\tvalid_1's auc: 0.925549\n",
      "[2000]\ttraining's auc: 1\tvalid_1's auc: 0.925428\n",
      "Early stopping, best iteration is:\n",
      "[1629]\ttraining's auc: 1\tvalid_1's auc: 0.925578\n",
      "V46\n"
     ]
    },
    {
     "name": "stderr",
     "output_type": "stream",
     "text": [
      "/home/jinpwa/anaconda3/lib/python3.6/site-packages/lightgbm/basic.py:1205: UserWarning: Using categorical_feature in Dataset.\n",
      "  warnings.warn('Using categorical_feature in Dataset.')\n",
      "/home/jinpwa/anaconda3/lib/python3.6/site-packages/lightgbm/basic.py:762: UserWarning: categorical_feature in param dict is overridden.\n",
      "  warnings.warn('categorical_feature in param dict is overridden.')\n"
     ]
    },
    {
     "name": "stdout",
     "output_type": "stream",
     "text": [
      "Training until validation scores don't improve for 500 rounds.\n",
      "[500]\ttraining's auc: 0.996616\tvalid_1's auc: 0.91713\n",
      "[1000]\ttraining's auc: 0.999954\tvalid_1's auc: 0.924934\n",
      "[1500]\ttraining's auc: 1\tvalid_1's auc: 0.926008\n",
      "[2000]\ttraining's auc: 1\tvalid_1's auc: 0.926178\n",
      "Early stopping, best iteration is:\n",
      "[1659]\ttraining's auc: 1\tvalid_1's auc: 0.926174\n",
      "V47\n"
     ]
    },
    {
     "name": "stderr",
     "output_type": "stream",
     "text": [
      "/home/jinpwa/anaconda3/lib/python3.6/site-packages/lightgbm/basic.py:1205: UserWarning: Using categorical_feature in Dataset.\n",
      "  warnings.warn('Using categorical_feature in Dataset.')\n",
      "/home/jinpwa/anaconda3/lib/python3.6/site-packages/lightgbm/basic.py:762: UserWarning: categorical_feature in param dict is overridden.\n",
      "  warnings.warn('categorical_feature in param dict is overridden.')\n"
     ]
    },
    {
     "name": "stdout",
     "output_type": "stream",
     "text": [
      "Training until validation scores don't improve for 500 rounds.\n",
      "[500]\ttraining's auc: 0.996698\tvalid_1's auc: 0.917032\n",
      "[1000]\ttraining's auc: 0.999957\tvalid_1's auc: 0.925354\n",
      "[1500]\ttraining's auc: 1\tvalid_1's auc: 0.926869\n",
      "[2000]\ttraining's auc: 1\tvalid_1's auc: 0.926859\n",
      "Early stopping, best iteration is:\n",
      "[1554]\ttraining's auc: 1\tvalid_1's auc: 0.926944\n",
      "V48\n"
     ]
    },
    {
     "name": "stderr",
     "output_type": "stream",
     "text": [
      "/home/jinpwa/anaconda3/lib/python3.6/site-packages/lightgbm/basic.py:1205: UserWarning: Using categorical_feature in Dataset.\n",
      "  warnings.warn('Using categorical_feature in Dataset.')\n",
      "/home/jinpwa/anaconda3/lib/python3.6/site-packages/lightgbm/basic.py:762: UserWarning: categorical_feature in param dict is overridden.\n",
      "  warnings.warn('categorical_feature in param dict is overridden.')\n"
     ]
    },
    {
     "name": "stdout",
     "output_type": "stream",
     "text": [
      "Training until validation scores don't improve for 500 rounds.\n",
      "[500]\ttraining's auc: 0.996683\tvalid_1's auc: 0.917242\n",
      "[1000]\ttraining's auc: 0.999953\tvalid_1's auc: 0.925112\n",
      "[1500]\ttraining's auc: 1\tvalid_1's auc: 0.926099\n",
      "[2000]\ttraining's auc: 1\tvalid_1's auc: 0.926145\n",
      "Early stopping, best iteration is:\n",
      "[1640]\ttraining's auc: 1\tvalid_1's auc: 0.926035\n",
      "V49\n"
     ]
    },
    {
     "name": "stderr",
     "output_type": "stream",
     "text": [
      "/home/jinpwa/anaconda3/lib/python3.6/site-packages/lightgbm/basic.py:1205: UserWarning: Using categorical_feature in Dataset.\n",
      "  warnings.warn('Using categorical_feature in Dataset.')\n",
      "/home/jinpwa/anaconda3/lib/python3.6/site-packages/lightgbm/basic.py:762: UserWarning: categorical_feature in param dict is overridden.\n",
      "  warnings.warn('categorical_feature in param dict is overridden.')\n"
     ]
    },
    {
     "name": "stdout",
     "output_type": "stream",
     "text": [
      "Training until validation scores don't improve for 500 rounds.\n",
      "[500]\ttraining's auc: 0.996677\tvalid_1's auc: 0.916928\n",
      "[1000]\ttraining's auc: 0.999957\tvalid_1's auc: 0.924824\n",
      "[1500]\ttraining's auc: 1\tvalid_1's auc: 0.925902\n",
      "[2000]\ttraining's auc: 1\tvalid_1's auc: 0.925973\n",
      "Early stopping, best iteration is:\n",
      "[1620]\ttraining's auc: 1\tvalid_1's auc: 0.925926\n",
      "V50\n"
     ]
    },
    {
     "name": "stderr",
     "output_type": "stream",
     "text": [
      "/home/jinpwa/anaconda3/lib/python3.6/site-packages/lightgbm/basic.py:1205: UserWarning: Using categorical_feature in Dataset.\n",
      "  warnings.warn('Using categorical_feature in Dataset.')\n",
      "/home/jinpwa/anaconda3/lib/python3.6/site-packages/lightgbm/basic.py:762: UserWarning: categorical_feature in param dict is overridden.\n",
      "  warnings.warn('categorical_feature in param dict is overridden.')\n"
     ]
    },
    {
     "name": "stdout",
     "output_type": "stream",
     "text": [
      "Training until validation scores don't improve for 500 rounds.\n",
      "[500]\ttraining's auc: 0.996638\tvalid_1's auc: 0.917377\n",
      "[1000]\ttraining's auc: 0.999955\tvalid_1's auc: 0.925481\n",
      "[1500]\ttraining's auc: 1\tvalid_1's auc: 0.926909\n",
      "[2000]\ttraining's auc: 1\tvalid_1's auc: 0.926577\n",
      "Early stopping, best iteration is:\n",
      "[1557]\ttraining's auc: 1\tvalid_1's auc: 0.926974\n",
      "V51\n"
     ]
    },
    {
     "name": "stderr",
     "output_type": "stream",
     "text": [
      "/home/jinpwa/anaconda3/lib/python3.6/site-packages/lightgbm/basic.py:1205: UserWarning: Using categorical_feature in Dataset.\n",
      "  warnings.warn('Using categorical_feature in Dataset.')\n",
      "/home/jinpwa/anaconda3/lib/python3.6/site-packages/lightgbm/basic.py:762: UserWarning: categorical_feature in param dict is overridden.\n",
      "  warnings.warn('categorical_feature in param dict is overridden.')\n"
     ]
    },
    {
     "name": "stdout",
     "output_type": "stream",
     "text": [
      "Training until validation scores don't improve for 500 rounds.\n",
      "[500]\ttraining's auc: 0.996703\tvalid_1's auc: 0.917556\n",
      "[1000]\ttraining's auc: 0.999957\tvalid_1's auc: 0.92531\n",
      "[1500]\ttraining's auc: 1\tvalid_1's auc: 0.926652\n",
      "[2000]\ttraining's auc: 1\tvalid_1's auc: 0.92682\n",
      "Early stopping, best iteration is:\n",
      "[1610]\ttraining's auc: 1\tvalid_1's auc: 0.926682\n",
      "V52\n"
     ]
    },
    {
     "name": "stderr",
     "output_type": "stream",
     "text": [
      "/home/jinpwa/anaconda3/lib/python3.6/site-packages/lightgbm/basic.py:1205: UserWarning: Using categorical_feature in Dataset.\n",
      "  warnings.warn('Using categorical_feature in Dataset.')\n",
      "/home/jinpwa/anaconda3/lib/python3.6/site-packages/lightgbm/basic.py:762: UserWarning: categorical_feature in param dict is overridden.\n",
      "  warnings.warn('categorical_feature in param dict is overridden.')\n"
     ]
    },
    {
     "name": "stdout",
     "output_type": "stream",
     "text": [
      "Training until validation scores don't improve for 500 rounds.\n",
      "[500]\ttraining's auc: 0.996677\tvalid_1's auc: 0.917251\n",
      "[1000]\ttraining's auc: 0.999955\tvalid_1's auc: 0.925233\n",
      "[1500]\ttraining's auc: 1\tvalid_1's auc: 0.926268\n",
      "[2000]\ttraining's auc: 1\tvalid_1's auc: 0.926582\n",
      "Early stopping, best iteration is:\n",
      "[1608]\ttraining's auc: 1\tvalid_1's auc: 0.926447\n",
      "V53\n"
     ]
    },
    {
     "name": "stderr",
     "output_type": "stream",
     "text": [
      "/home/jinpwa/anaconda3/lib/python3.6/site-packages/lightgbm/basic.py:1205: UserWarning: Using categorical_feature in Dataset.\n",
      "  warnings.warn('Using categorical_feature in Dataset.')\n",
      "/home/jinpwa/anaconda3/lib/python3.6/site-packages/lightgbm/basic.py:762: UserWarning: categorical_feature in param dict is overridden.\n",
      "  warnings.warn('categorical_feature in param dict is overridden.')\n"
     ]
    },
    {
     "name": "stdout",
     "output_type": "stream",
     "text": [
      "Training until validation scores don't improve for 500 rounds.\n",
      "[500]\ttraining's auc: 0.996689\tvalid_1's auc: 0.917687\n",
      "[1000]\ttraining's auc: 0.999954\tvalid_1's auc: 0.925258\n",
      "[1500]\ttraining's auc: 1\tvalid_1's auc: 0.92653\n",
      "[2000]\ttraining's auc: 1\tvalid_1's auc: 0.926651\n",
      "Early stopping, best iteration is:\n",
      "[1649]\ttraining's auc: 1\tvalid_1's auc: 0.926704\n",
      "V54\n"
     ]
    },
    {
     "name": "stderr",
     "output_type": "stream",
     "text": [
      "/home/jinpwa/anaconda3/lib/python3.6/site-packages/lightgbm/basic.py:1205: UserWarning: Using categorical_feature in Dataset.\n",
      "  warnings.warn('Using categorical_feature in Dataset.')\n",
      "/home/jinpwa/anaconda3/lib/python3.6/site-packages/lightgbm/basic.py:762: UserWarning: categorical_feature in param dict is overridden.\n",
      "  warnings.warn('categorical_feature in param dict is overridden.')\n"
     ]
    },
    {
     "name": "stdout",
     "output_type": "stream",
     "text": [
      "Training until validation scores don't improve for 500 rounds.\n",
      "[500]\ttraining's auc: 0.996689\tvalid_1's auc: 0.916817\n",
      "[1000]\ttraining's auc: 0.999954\tvalid_1's auc: 0.925127\n",
      "[1500]\ttraining's auc: 1\tvalid_1's auc: 0.926065\n",
      "[2000]\ttraining's auc: 1\tvalid_1's auc: 0.926209\n",
      "Early stopping, best iteration is:\n",
      "[1627]\ttraining's auc: 1\tvalid_1's auc: 0.926158\n",
      "V55\n"
     ]
    },
    {
     "name": "stderr",
     "output_type": "stream",
     "text": [
      "/home/jinpwa/anaconda3/lib/python3.6/site-packages/lightgbm/basic.py:1205: UserWarning: Using categorical_feature in Dataset.\n",
      "  warnings.warn('Using categorical_feature in Dataset.')\n",
      "/home/jinpwa/anaconda3/lib/python3.6/site-packages/lightgbm/basic.py:762: UserWarning: categorical_feature in param dict is overridden.\n",
      "  warnings.warn('categorical_feature in param dict is overridden.')\n"
     ]
    },
    {
     "name": "stdout",
     "output_type": "stream",
     "text": [
      "Training until validation scores don't improve for 500 rounds.\n",
      "[500]\ttraining's auc: 0.996659\tvalid_1's auc: 0.917534\n",
      "[1000]\ttraining's auc: 0.999956\tvalid_1's auc: 0.925152\n",
      "[1500]\ttraining's auc: 1\tvalid_1's auc: 0.926629\n",
      "[2000]\ttraining's auc: 1\tvalid_1's auc: 0.926727\n",
      "Early stopping, best iteration is:\n",
      "[1638]\ttraining's auc: 1\tvalid_1's auc: 0.926771\n",
      "V56\n"
     ]
    },
    {
     "name": "stderr",
     "output_type": "stream",
     "text": [
      "/home/jinpwa/anaconda3/lib/python3.6/site-packages/lightgbm/basic.py:1205: UserWarning: Using categorical_feature in Dataset.\n",
      "  warnings.warn('Using categorical_feature in Dataset.')\n",
      "/home/jinpwa/anaconda3/lib/python3.6/site-packages/lightgbm/basic.py:762: UserWarning: categorical_feature in param dict is overridden.\n",
      "  warnings.warn('categorical_feature in param dict is overridden.')\n"
     ]
    },
    {
     "name": "stdout",
     "output_type": "stream",
     "text": [
      "Training until validation scores don't improve for 500 rounds.\n",
      "[500]\ttraining's auc: 0.996654\tvalid_1's auc: 0.917115\n",
      "[1000]\ttraining's auc: 0.999956\tvalid_1's auc: 0.925266\n",
      "[1500]\ttraining's auc: 1\tvalid_1's auc: 0.9263\n",
      "[2000]\ttraining's auc: 1\tvalid_1's auc: 0.926413\n",
      "Early stopping, best iteration is:\n",
      "[1652]\ttraining's auc: 1\tvalid_1's auc: 0.926408\n",
      "V57\n"
     ]
    },
    {
     "name": "stderr",
     "output_type": "stream",
     "text": [
      "/home/jinpwa/anaconda3/lib/python3.6/site-packages/lightgbm/basic.py:1205: UserWarning: Using categorical_feature in Dataset.\n",
      "  warnings.warn('Using categorical_feature in Dataset.')\n",
      "/home/jinpwa/anaconda3/lib/python3.6/site-packages/lightgbm/basic.py:762: UserWarning: categorical_feature in param dict is overridden.\n",
      "  warnings.warn('categorical_feature in param dict is overridden.')\n"
     ]
    },
    {
     "name": "stdout",
     "output_type": "stream",
     "text": [
      "Training until validation scores don't improve for 500 rounds.\n",
      "[500]\ttraining's auc: 0.996688\tvalid_1's auc: 0.917304\n",
      "[1000]\ttraining's auc: 0.999957\tvalid_1's auc: 0.924985\n",
      "[1500]\ttraining's auc: 1\tvalid_1's auc: 0.926106\n",
      "[2000]\ttraining's auc: 1\tvalid_1's auc: 0.926123\n",
      "Early stopping, best iteration is:\n",
      "[1611]\ttraining's auc: 1\tvalid_1's auc: 0.926095\n",
      "V58\n"
     ]
    },
    {
     "name": "stderr",
     "output_type": "stream",
     "text": [
      "/home/jinpwa/anaconda3/lib/python3.6/site-packages/lightgbm/basic.py:1205: UserWarning: Using categorical_feature in Dataset.\n",
      "  warnings.warn('Using categorical_feature in Dataset.')\n",
      "/home/jinpwa/anaconda3/lib/python3.6/site-packages/lightgbm/basic.py:762: UserWarning: categorical_feature in param dict is overridden.\n",
      "  warnings.warn('categorical_feature in param dict is overridden.')\n"
     ]
    },
    {
     "name": "stdout",
     "output_type": "stream",
     "text": [
      "Training until validation scores don't improve for 500 rounds.\n",
      "[500]\ttraining's auc: 0.996697\tvalid_1's auc: 0.916948\n",
      "[1000]\ttraining's auc: 0.999958\tvalid_1's auc: 0.924824\n",
      "[1500]\ttraining's auc: 1\tvalid_1's auc: 0.927066\n",
      "[2000]\ttraining's auc: 1\tvalid_1's auc: 0.926937\n",
      "Early stopping, best iteration is:\n",
      "[1533]\ttraining's auc: 1\tvalid_1's auc: 0.927224\n",
      "V59\n"
     ]
    },
    {
     "name": "stderr",
     "output_type": "stream",
     "text": [
      "/home/jinpwa/anaconda3/lib/python3.6/site-packages/lightgbm/basic.py:1205: UserWarning: Using categorical_feature in Dataset.\n",
      "  warnings.warn('Using categorical_feature in Dataset.')\n",
      "/home/jinpwa/anaconda3/lib/python3.6/site-packages/lightgbm/basic.py:762: UserWarning: categorical_feature in param dict is overridden.\n",
      "  warnings.warn('categorical_feature in param dict is overridden.')\n"
     ]
    },
    {
     "name": "stdout",
     "output_type": "stream",
     "text": [
      "Training until validation scores don't improve for 500 rounds.\n",
      "[500]\ttraining's auc: 0.996696\tvalid_1's auc: 0.917502\n",
      "[1000]\ttraining's auc: 0.999956\tvalid_1's auc: 0.925116\n",
      "[1500]\ttraining's auc: 1\tvalid_1's auc: 0.926016\n",
      "[2000]\ttraining's auc: 1\tvalid_1's auc: 0.926075\n",
      "Early stopping, best iteration is:\n",
      "[1634]\ttraining's auc: 1\tvalid_1's auc: 0.926046\n",
      "V60\n"
     ]
    },
    {
     "name": "stderr",
     "output_type": "stream",
     "text": [
      "/home/jinpwa/anaconda3/lib/python3.6/site-packages/lightgbm/basic.py:1205: UserWarning: Using categorical_feature in Dataset.\n",
      "  warnings.warn('Using categorical_feature in Dataset.')\n",
      "/home/jinpwa/anaconda3/lib/python3.6/site-packages/lightgbm/basic.py:762: UserWarning: categorical_feature in param dict is overridden.\n",
      "  warnings.warn('categorical_feature in param dict is overridden.')\n"
     ]
    },
    {
     "name": "stdout",
     "output_type": "stream",
     "text": [
      "Training until validation scores don't improve for 500 rounds.\n",
      "[500]\ttraining's auc: 0.996695\tvalid_1's auc: 0.917059\n",
      "[1000]\ttraining's auc: 0.999957\tvalid_1's auc: 0.925085\n",
      "[1500]\ttraining's auc: 1\tvalid_1's auc: 0.926666\n",
      "[2000]\ttraining's auc: 1\tvalid_1's auc: 0.926824\n",
      "Early stopping, best iteration is:\n",
      "[1608]\ttraining's auc: 1\tvalid_1's auc: 0.926725\n",
      "V61\n"
     ]
    },
    {
     "name": "stderr",
     "output_type": "stream",
     "text": [
      "/home/jinpwa/anaconda3/lib/python3.6/site-packages/lightgbm/basic.py:1205: UserWarning: Using categorical_feature in Dataset.\n",
      "  warnings.warn('Using categorical_feature in Dataset.')\n",
      "/home/jinpwa/anaconda3/lib/python3.6/site-packages/lightgbm/basic.py:762: UserWarning: categorical_feature in param dict is overridden.\n",
      "  warnings.warn('categorical_feature in param dict is overridden.')\n"
     ]
    },
    {
     "name": "stdout",
     "output_type": "stream",
     "text": [
      "Training until validation scores don't improve for 500 rounds.\n",
      "[500]\ttraining's auc: 0.996651\tvalid_1's auc: 0.917347\n",
      "[1000]\ttraining's auc: 0.999956\tvalid_1's auc: 0.925492\n",
      "[1500]\ttraining's auc: 1\tvalid_1's auc: 0.926696\n",
      "[2000]\ttraining's auc: 1\tvalid_1's auc: 0.926514\n",
      "Early stopping, best iteration is:\n",
      "[1592]\ttraining's auc: 1\tvalid_1's auc: 0.926743\n",
      "V62\n"
     ]
    },
    {
     "name": "stderr",
     "output_type": "stream",
     "text": [
      "/home/jinpwa/anaconda3/lib/python3.6/site-packages/lightgbm/basic.py:1205: UserWarning: Using categorical_feature in Dataset.\n",
      "  warnings.warn('Using categorical_feature in Dataset.')\n",
      "/home/jinpwa/anaconda3/lib/python3.6/site-packages/lightgbm/basic.py:762: UserWarning: categorical_feature in param dict is overridden.\n",
      "  warnings.warn('categorical_feature in param dict is overridden.')\n"
     ]
    },
    {
     "name": "stdout",
     "output_type": "stream",
     "text": [
      "Training until validation scores don't improve for 500 rounds.\n",
      "[500]\ttraining's auc: 0.996705\tvalid_1's auc: 0.91667\n",
      "[1000]\ttraining's auc: 0.999955\tvalid_1's auc: 0.924631\n",
      "[1500]\ttraining's auc: 1\tvalid_1's auc: 0.92626\n",
      "[2000]\ttraining's auc: 1\tvalid_1's auc: 0.926328\n",
      "Early stopping, best iteration is:\n",
      "[1617]\ttraining's auc: 1\tvalid_1's auc: 0.926425\n",
      "V63\n"
     ]
    },
    {
     "name": "stderr",
     "output_type": "stream",
     "text": [
      "/home/jinpwa/anaconda3/lib/python3.6/site-packages/lightgbm/basic.py:1205: UserWarning: Using categorical_feature in Dataset.\n",
      "  warnings.warn('Using categorical_feature in Dataset.')\n",
      "/home/jinpwa/anaconda3/lib/python3.6/site-packages/lightgbm/basic.py:762: UserWarning: categorical_feature in param dict is overridden.\n",
      "  warnings.warn('categorical_feature in param dict is overridden.')\n"
     ]
    },
    {
     "name": "stdout",
     "output_type": "stream",
     "text": [
      "Training until validation scores don't improve for 500 rounds.\n",
      "[500]\ttraining's auc: 0.996659\tvalid_1's auc: 0.917601\n",
      "[1000]\ttraining's auc: 0.999955\tvalid_1's auc: 0.925663\n",
      "[1500]\ttraining's auc: 1\tvalid_1's auc: 0.926716\n",
      "[2000]\ttraining's auc: 1\tvalid_1's auc: 0.926562\n",
      "Early stopping, best iteration is:\n",
      "[1561]\ttraining's auc: 1\tvalid_1's auc: 0.926889\n",
      "V64\n"
     ]
    },
    {
     "name": "stderr",
     "output_type": "stream",
     "text": [
      "/home/jinpwa/anaconda3/lib/python3.6/site-packages/lightgbm/basic.py:1205: UserWarning: Using categorical_feature in Dataset.\n",
      "  warnings.warn('Using categorical_feature in Dataset.')\n",
      "/home/jinpwa/anaconda3/lib/python3.6/site-packages/lightgbm/basic.py:762: UserWarning: categorical_feature in param dict is overridden.\n",
      "  warnings.warn('categorical_feature in param dict is overridden.')\n"
     ]
    },
    {
     "name": "stdout",
     "output_type": "stream",
     "text": [
      "Training until validation scores don't improve for 500 rounds.\n",
      "[500]\ttraining's auc: 0.99666\tvalid_1's auc: 0.917149\n",
      "[1000]\ttraining's auc: 0.999954\tvalid_1's auc: 0.9249\n",
      "[1500]\ttraining's auc: 1\tvalid_1's auc: 0.926241\n",
      "[2000]\ttraining's auc: 1\tvalid_1's auc: 0.926654\n",
      "Early stopping, best iteration is:\n",
      "[1611]\ttraining's auc: 1\tvalid_1's auc: 0.926428\n",
      "V65\n"
     ]
    },
    {
     "name": "stderr",
     "output_type": "stream",
     "text": [
      "/home/jinpwa/anaconda3/lib/python3.6/site-packages/lightgbm/basic.py:1205: UserWarning: Using categorical_feature in Dataset.\n",
      "  warnings.warn('Using categorical_feature in Dataset.')\n",
      "/home/jinpwa/anaconda3/lib/python3.6/site-packages/lightgbm/basic.py:762: UserWarning: categorical_feature in param dict is overridden.\n",
      "  warnings.warn('categorical_feature in param dict is overridden.')\n"
     ]
    },
    {
     "name": "stdout",
     "output_type": "stream",
     "text": [
      "Training until validation scores don't improve for 500 rounds.\n",
      "[500]\ttraining's auc: 0.996644\tvalid_1's auc: 0.918043\n",
      "[1000]\ttraining's auc: 0.999955\tvalid_1's auc: 0.925813\n",
      "[1500]\ttraining's auc: 1\tvalid_1's auc: 0.926943\n",
      "[2000]\ttraining's auc: 1\tvalid_1's auc: 0.927079\n",
      "Early stopping, best iteration is:\n",
      "[1657]\ttraining's auc: 1\tvalid_1's auc: 0.927063\n",
      "V66\n"
     ]
    },
    {
     "name": "stderr",
     "output_type": "stream",
     "text": [
      "/home/jinpwa/anaconda3/lib/python3.6/site-packages/lightgbm/basic.py:1205: UserWarning: Using categorical_feature in Dataset.\n",
      "  warnings.warn('Using categorical_feature in Dataset.')\n",
      "/home/jinpwa/anaconda3/lib/python3.6/site-packages/lightgbm/basic.py:762: UserWarning: categorical_feature in param dict is overridden.\n",
      "  warnings.warn('categorical_feature in param dict is overridden.')\n"
     ]
    },
    {
     "name": "stdout",
     "output_type": "stream",
     "text": [
      "Training until validation scores don't improve for 500 rounds.\n",
      "[500]\ttraining's auc: 0.996682\tvalid_1's auc: 0.917661\n",
      "[1000]\ttraining's auc: 0.999957\tvalid_1's auc: 0.925525\n",
      "[1500]\ttraining's auc: 1\tvalid_1's auc: 0.92698\n",
      "[2000]\ttraining's auc: 1\tvalid_1's auc: 0.926985\n",
      "Early stopping, best iteration is:\n",
      "[1529]\ttraining's auc: 1\tvalid_1's auc: 0.927045\n",
      "V67\n"
     ]
    },
    {
     "name": "stderr",
     "output_type": "stream",
     "text": [
      "/home/jinpwa/anaconda3/lib/python3.6/site-packages/lightgbm/basic.py:1205: UserWarning: Using categorical_feature in Dataset.\n",
      "  warnings.warn('Using categorical_feature in Dataset.')\n",
      "/home/jinpwa/anaconda3/lib/python3.6/site-packages/lightgbm/basic.py:762: UserWarning: categorical_feature in param dict is overridden.\n",
      "  warnings.warn('categorical_feature in param dict is overridden.')\n"
     ]
    },
    {
     "name": "stdout",
     "output_type": "stream",
     "text": [
      "Training until validation scores don't improve for 500 rounds.\n",
      "[500]\ttraining's auc: 0.996682\tvalid_1's auc: 0.917381\n",
      "[1000]\ttraining's auc: 0.999957\tvalid_1's auc: 0.925567\n",
      "[1500]\ttraining's auc: 1\tvalid_1's auc: 0.927113\n",
      "[2000]\ttraining's auc: 1\tvalid_1's auc: 0.927113\n",
      "Early stopping, best iteration is:\n",
      "[1652]\ttraining's auc: 1\tvalid_1's auc: 0.927207\n",
      "V68\n"
     ]
    },
    {
     "name": "stderr",
     "output_type": "stream",
     "text": [
      "/home/jinpwa/anaconda3/lib/python3.6/site-packages/lightgbm/basic.py:1205: UserWarning: Using categorical_feature in Dataset.\n",
      "  warnings.warn('Using categorical_feature in Dataset.')\n",
      "/home/jinpwa/anaconda3/lib/python3.6/site-packages/lightgbm/basic.py:762: UserWarning: categorical_feature in param dict is overridden.\n",
      "  warnings.warn('categorical_feature in param dict is overridden.')\n"
     ]
    },
    {
     "name": "stdout",
     "output_type": "stream",
     "text": [
      "Training until validation scores don't improve for 500 rounds.\n",
      "[500]\ttraining's auc: 0.996632\tvalid_1's auc: 0.917292\n",
      "[1000]\ttraining's auc: 0.999955\tvalid_1's auc: 0.925506\n",
      "[1500]\ttraining's auc: 1\tvalid_1's auc: 0.926663\n",
      "[2000]\ttraining's auc: 1\tvalid_1's auc: 0.926879\n",
      "Early stopping, best iteration is:\n",
      "[1638]\ttraining's auc: 1\tvalid_1's auc: 0.926688\n",
      "V69\n"
     ]
    },
    {
     "name": "stderr",
     "output_type": "stream",
     "text": [
      "/home/jinpwa/anaconda3/lib/python3.6/site-packages/lightgbm/basic.py:1205: UserWarning: Using categorical_feature in Dataset.\n",
      "  warnings.warn('Using categorical_feature in Dataset.')\n",
      "/home/jinpwa/anaconda3/lib/python3.6/site-packages/lightgbm/basic.py:762: UserWarning: categorical_feature in param dict is overridden.\n",
      "  warnings.warn('categorical_feature in param dict is overridden.')\n"
     ]
    },
    {
     "name": "stdout",
     "output_type": "stream",
     "text": [
      "Training until validation scores don't improve for 500 rounds.\n",
      "[500]\ttraining's auc: 0.996696\tvalid_1's auc: 0.916965\n",
      "[1000]\ttraining's auc: 0.999955\tvalid_1's auc: 0.925106\n",
      "[1500]\ttraining's auc: 1\tvalid_1's auc: 0.926533\n",
      "[2000]\ttraining's auc: 1\tvalid_1's auc: 0.926738\n",
      "Early stopping, best iteration is:\n",
      "[1663]\ttraining's auc: 1\tvalid_1's auc: 0.926642\n",
      "V70\n"
     ]
    },
    {
     "name": "stderr",
     "output_type": "stream",
     "text": [
      "/home/jinpwa/anaconda3/lib/python3.6/site-packages/lightgbm/basic.py:1205: UserWarning: Using categorical_feature in Dataset.\n",
      "  warnings.warn('Using categorical_feature in Dataset.')\n",
      "/home/jinpwa/anaconda3/lib/python3.6/site-packages/lightgbm/basic.py:762: UserWarning: categorical_feature in param dict is overridden.\n",
      "  warnings.warn('categorical_feature in param dict is overridden.')\n"
     ]
    },
    {
     "name": "stdout",
     "output_type": "stream",
     "text": [
      "Training until validation scores don't improve for 500 rounds.\n",
      "[500]\ttraining's auc: 0.996655\tvalid_1's auc: 0.917297\n",
      "[1000]\ttraining's auc: 0.999954\tvalid_1's auc: 0.925702\n",
      "[1500]\ttraining's auc: 1\tvalid_1's auc: 0.926927\n",
      "[2000]\ttraining's auc: 1\tvalid_1's auc: 0.927185\n",
      "Early stopping, best iteration is:\n",
      "[1646]\ttraining's auc: 1\tvalid_1's auc: 0.927138\n",
      "V71\n"
     ]
    },
    {
     "name": "stderr",
     "output_type": "stream",
     "text": [
      "/home/jinpwa/anaconda3/lib/python3.6/site-packages/lightgbm/basic.py:1205: UserWarning: Using categorical_feature in Dataset.\n",
      "  warnings.warn('Using categorical_feature in Dataset.')\n",
      "/home/jinpwa/anaconda3/lib/python3.6/site-packages/lightgbm/basic.py:762: UserWarning: categorical_feature in param dict is overridden.\n",
      "  warnings.warn('categorical_feature in param dict is overridden.')\n"
     ]
    },
    {
     "name": "stdout",
     "output_type": "stream",
     "text": [
      "Training until validation scores don't improve for 500 rounds.\n",
      "[500]\ttraining's auc: 0.996598\tvalid_1's auc: 0.917005\n",
      "[1000]\ttraining's auc: 0.999952\tvalid_1's auc: 0.925719\n",
      "[1500]\ttraining's auc: 1\tvalid_1's auc: 0.927464\n",
      "[2000]\ttraining's auc: 1\tvalid_1's auc: 0.927413\n",
      "Early stopping, best iteration is:\n",
      "[1596]\ttraining's auc: 1\tvalid_1's auc: 0.927525\n",
      "V72\n"
     ]
    },
    {
     "name": "stderr",
     "output_type": "stream",
     "text": [
      "/home/jinpwa/anaconda3/lib/python3.6/site-packages/lightgbm/basic.py:1205: UserWarning: Using categorical_feature in Dataset.\n",
      "  warnings.warn('Using categorical_feature in Dataset.')\n",
      "/home/jinpwa/anaconda3/lib/python3.6/site-packages/lightgbm/basic.py:762: UserWarning: categorical_feature in param dict is overridden.\n",
      "  warnings.warn('categorical_feature in param dict is overridden.')\n"
     ]
    },
    {
     "name": "stdout",
     "output_type": "stream",
     "text": [
      "Training until validation scores don't improve for 500 rounds.\n",
      "[500]\ttraining's auc: 0.996654\tvalid_1's auc: 0.917696\n",
      "[1000]\ttraining's auc: 0.999956\tvalid_1's auc: 0.925058\n",
      "[1500]\ttraining's auc: 1\tvalid_1's auc: 0.926244\n",
      "[2000]\ttraining's auc: 1\tvalid_1's auc: 0.926483\n",
      "Early stopping, best iteration is:\n",
      "[1644]\ttraining's auc: 1\tvalid_1's auc: 0.926378\n",
      "V73\n"
     ]
    },
    {
     "name": "stderr",
     "output_type": "stream",
     "text": [
      "/home/jinpwa/anaconda3/lib/python3.6/site-packages/lightgbm/basic.py:1205: UserWarning: Using categorical_feature in Dataset.\n",
      "  warnings.warn('Using categorical_feature in Dataset.')\n",
      "/home/jinpwa/anaconda3/lib/python3.6/site-packages/lightgbm/basic.py:762: UserWarning: categorical_feature in param dict is overridden.\n",
      "  warnings.warn('categorical_feature in param dict is overridden.')\n"
     ]
    },
    {
     "name": "stdout",
     "output_type": "stream",
     "text": [
      "Training until validation scores don't improve for 500 rounds.\n",
      "[500]\ttraining's auc: 0.996643\tvalid_1's auc: 0.917719\n",
      "[1000]\ttraining's auc: 0.999953\tvalid_1's auc: 0.926093\n",
      "[1500]\ttraining's auc: 1\tvalid_1's auc: 0.927296\n",
      "[2000]\ttraining's auc: 1\tvalid_1's auc: 0.927365\n",
      "Early stopping, best iteration is:\n",
      "[1628]\ttraining's auc: 1\tvalid_1's auc: 0.927399\n",
      "V74\n"
     ]
    },
    {
     "name": "stderr",
     "output_type": "stream",
     "text": [
      "/home/jinpwa/anaconda3/lib/python3.6/site-packages/lightgbm/basic.py:1205: UserWarning: Using categorical_feature in Dataset.\n",
      "  warnings.warn('Using categorical_feature in Dataset.')\n",
      "/home/jinpwa/anaconda3/lib/python3.6/site-packages/lightgbm/basic.py:762: UserWarning: categorical_feature in param dict is overridden.\n",
      "  warnings.warn('categorical_feature in param dict is overridden.')\n"
     ]
    },
    {
     "name": "stdout",
     "output_type": "stream",
     "text": [
      "Training until validation scores don't improve for 500 rounds.\n",
      "[500]\ttraining's auc: 0.996646\tvalid_1's auc: 0.917258\n",
      "[1000]\ttraining's auc: 0.999956\tvalid_1's auc: 0.925513\n",
      "[1500]\ttraining's auc: 1\tvalid_1's auc: 0.926899\n",
      "Early stopping, best iteration is:\n",
      "[1468]\ttraining's auc: 1\tvalid_1's auc: 0.926978\n",
      "V75\n"
     ]
    },
    {
     "name": "stderr",
     "output_type": "stream",
     "text": [
      "/home/jinpwa/anaconda3/lib/python3.6/site-packages/lightgbm/basic.py:1205: UserWarning: Using categorical_feature in Dataset.\n",
      "  warnings.warn('Using categorical_feature in Dataset.')\n",
      "/home/jinpwa/anaconda3/lib/python3.6/site-packages/lightgbm/basic.py:762: UserWarning: categorical_feature in param dict is overridden.\n",
      "  warnings.warn('categorical_feature in param dict is overridden.')\n"
     ]
    },
    {
     "name": "stdout",
     "output_type": "stream",
     "text": [
      "Training until validation scores don't improve for 500 rounds.\n",
      "[500]\ttraining's auc: 0.996648\tvalid_1's auc: 0.91739\n",
      "[1000]\ttraining's auc: 0.999955\tvalid_1's auc: 0.925387\n",
      "[1500]\ttraining's auc: 1\tvalid_1's auc: 0.927054\n",
      "[2000]\ttraining's auc: 1\tvalid_1's auc: 0.927536\n",
      "Early stopping, best iteration is:\n",
      "[1618]\ttraining's auc: 1\tvalid_1's auc: 0.927339\n",
      "V76\n"
     ]
    },
    {
     "name": "stderr",
     "output_type": "stream",
     "text": [
      "/home/jinpwa/anaconda3/lib/python3.6/site-packages/lightgbm/basic.py:1205: UserWarning: Using categorical_feature in Dataset.\n",
      "  warnings.warn('Using categorical_feature in Dataset.')\n",
      "/home/jinpwa/anaconda3/lib/python3.6/site-packages/lightgbm/basic.py:762: UserWarning: categorical_feature in param dict is overridden.\n",
      "  warnings.warn('categorical_feature in param dict is overridden.')\n"
     ]
    },
    {
     "name": "stdout",
     "output_type": "stream",
     "text": [
      "Training until validation scores don't improve for 500 rounds.\n",
      "[500]\ttraining's auc: 0.99666\tvalid_1's auc: 0.91687\n",
      "[1000]\ttraining's auc: 0.999955\tvalid_1's auc: 0.924983\n",
      "[1500]\ttraining's auc: 1\tvalid_1's auc: 0.926618\n",
      "[2000]\ttraining's auc: 1\tvalid_1's auc: 0.926517\n",
      "Early stopping, best iteration is:\n",
      "[1621]\ttraining's auc: 1\tvalid_1's auc: 0.926786\n",
      "V77\n"
     ]
    },
    {
     "name": "stderr",
     "output_type": "stream",
     "text": [
      "/home/jinpwa/anaconda3/lib/python3.6/site-packages/lightgbm/basic.py:1205: UserWarning: Using categorical_feature in Dataset.\n",
      "  warnings.warn('Using categorical_feature in Dataset.')\n",
      "/home/jinpwa/anaconda3/lib/python3.6/site-packages/lightgbm/basic.py:762: UserWarning: categorical_feature in param dict is overridden.\n",
      "  warnings.warn('categorical_feature in param dict is overridden.')\n"
     ]
    },
    {
     "name": "stdout",
     "output_type": "stream",
     "text": [
      "Training until validation scores don't improve for 500 rounds.\n",
      "[500]\ttraining's auc: 0.996641\tvalid_1's auc: 0.916755\n",
      "[1000]\ttraining's auc: 0.999955\tvalid_1's auc: 0.925121\n",
      "[1500]\ttraining's auc: 1\tvalid_1's auc: 0.925943\n",
      "[2000]\ttraining's auc: 1\tvalid_1's auc: 0.925926\n",
      "Early stopping, best iteration is:\n",
      "[1549]\ttraining's auc: 1\tvalid_1's auc: 0.926061\n",
      "V78\n"
     ]
    },
    {
     "name": "stderr",
     "output_type": "stream",
     "text": [
      "/home/jinpwa/anaconda3/lib/python3.6/site-packages/lightgbm/basic.py:1205: UserWarning: Using categorical_feature in Dataset.\n",
      "  warnings.warn('Using categorical_feature in Dataset.')\n",
      "/home/jinpwa/anaconda3/lib/python3.6/site-packages/lightgbm/basic.py:762: UserWarning: categorical_feature in param dict is overridden.\n",
      "  warnings.warn('categorical_feature in param dict is overridden.')\n"
     ]
    },
    {
     "name": "stdout",
     "output_type": "stream",
     "text": [
      "Training until validation scores don't improve for 500 rounds.\n",
      "[500]\ttraining's auc: 0.99665\tvalid_1's auc: 0.917869\n",
      "[1000]\ttraining's auc: 0.999954\tvalid_1's auc: 0.925787\n",
      "[1500]\ttraining's auc: 1\tvalid_1's auc: 0.926912\n",
      "[2000]\ttraining's auc: 1\tvalid_1's auc: 0.927072\n",
      "Early stopping, best iteration is:\n",
      "[1657]\ttraining's auc: 1\tvalid_1's auc: 0.926977\n",
      "V79\n"
     ]
    },
    {
     "name": "stderr",
     "output_type": "stream",
     "text": [
      "/home/jinpwa/anaconda3/lib/python3.6/site-packages/lightgbm/basic.py:1205: UserWarning: Using categorical_feature in Dataset.\n",
      "  warnings.warn('Using categorical_feature in Dataset.')\n",
      "/home/jinpwa/anaconda3/lib/python3.6/site-packages/lightgbm/basic.py:762: UserWarning: categorical_feature in param dict is overridden.\n",
      "  warnings.warn('categorical_feature in param dict is overridden.')\n"
     ]
    },
    {
     "name": "stdout",
     "output_type": "stream",
     "text": [
      "Training until validation scores don't improve for 500 rounds.\n",
      "[500]\ttraining's auc: 0.996655\tvalid_1's auc: 0.91762\n",
      "[1000]\ttraining's auc: 0.999955\tvalid_1's auc: 0.92587\n",
      "[1500]\ttraining's auc: 1\tvalid_1's auc: 0.927215\n",
      "[2000]\ttraining's auc: 1\tvalid_1's auc: 0.927411\n",
      "Early stopping, best iteration is:\n",
      "[1630]\ttraining's auc: 1\tvalid_1's auc: 0.927363\n",
      "V80\n"
     ]
    },
    {
     "name": "stderr",
     "output_type": "stream",
     "text": [
      "/home/jinpwa/anaconda3/lib/python3.6/site-packages/lightgbm/basic.py:1205: UserWarning: Using categorical_feature in Dataset.\n",
      "  warnings.warn('Using categorical_feature in Dataset.')\n",
      "/home/jinpwa/anaconda3/lib/python3.6/site-packages/lightgbm/basic.py:762: UserWarning: categorical_feature in param dict is overridden.\n",
      "  warnings.warn('categorical_feature in param dict is overridden.')\n"
     ]
    },
    {
     "name": "stdout",
     "output_type": "stream",
     "text": [
      "Training until validation scores don't improve for 500 rounds.\n",
      "[500]\ttraining's auc: 0.996644\tvalid_1's auc: 0.917364\n",
      "[1000]\ttraining's auc: 0.999954\tvalid_1's auc: 0.925177\n",
      "[1500]\ttraining's auc: 1\tvalid_1's auc: 0.926627\n",
      "[2000]\ttraining's auc: 1\tvalid_1's auc: 0.926815\n",
      "Early stopping, best iteration is:\n",
      "[1631]\ttraining's auc: 1\tvalid_1's auc: 0.9267\n",
      "V81\n"
     ]
    },
    {
     "name": "stderr",
     "output_type": "stream",
     "text": [
      "/home/jinpwa/anaconda3/lib/python3.6/site-packages/lightgbm/basic.py:1205: UserWarning: Using categorical_feature in Dataset.\n",
      "  warnings.warn('Using categorical_feature in Dataset.')\n",
      "/home/jinpwa/anaconda3/lib/python3.6/site-packages/lightgbm/basic.py:762: UserWarning: categorical_feature in param dict is overridden.\n",
      "  warnings.warn('categorical_feature in param dict is overridden.')\n"
     ]
    },
    {
     "name": "stdout",
     "output_type": "stream",
     "text": [
      "Training until validation scores don't improve for 500 rounds.\n",
      "[500]\ttraining's auc: 0.996621\tvalid_1's auc: 0.917413\n",
      "[1000]\ttraining's auc: 0.999954\tvalid_1's auc: 0.92583\n",
      "[1500]\ttraining's auc: 1\tvalid_1's auc: 0.927067\n",
      "[2000]\ttraining's auc: 1\tvalid_1's auc: 0.927114\n",
      "Early stopping, best iteration is:\n",
      "[1626]\ttraining's auc: 1\tvalid_1's auc: 0.927\n",
      "V82\n"
     ]
    },
    {
     "name": "stderr",
     "output_type": "stream",
     "text": [
      "/home/jinpwa/anaconda3/lib/python3.6/site-packages/lightgbm/basic.py:1205: UserWarning: Using categorical_feature in Dataset.\n",
      "  warnings.warn('Using categorical_feature in Dataset.')\n",
      "/home/jinpwa/anaconda3/lib/python3.6/site-packages/lightgbm/basic.py:762: UserWarning: categorical_feature in param dict is overridden.\n",
      "  warnings.warn('categorical_feature in param dict is overridden.')\n"
     ]
    },
    {
     "name": "stdout",
     "output_type": "stream",
     "text": [
      "Training until validation scores don't improve for 500 rounds.\n",
      "[500]\ttraining's auc: 0.99663\tvalid_1's auc: 0.917591\n",
      "[1000]\ttraining's auc: 0.999956\tvalid_1's auc: 0.925984\n",
      "[1500]\ttraining's auc: 1\tvalid_1's auc: 0.927467\n",
      "[2000]\ttraining's auc: 1\tvalid_1's auc: 0.927365\n",
      "Early stopping, best iteration is:\n",
      "[1609]\ttraining's auc: 1\tvalid_1's auc: 0.927674\n",
      "V83\n"
     ]
    },
    {
     "name": "stderr",
     "output_type": "stream",
     "text": [
      "/home/jinpwa/anaconda3/lib/python3.6/site-packages/lightgbm/basic.py:1205: UserWarning: Using categorical_feature in Dataset.\n",
      "  warnings.warn('Using categorical_feature in Dataset.')\n",
      "/home/jinpwa/anaconda3/lib/python3.6/site-packages/lightgbm/basic.py:762: UserWarning: categorical_feature in param dict is overridden.\n",
      "  warnings.warn('categorical_feature in param dict is overridden.')\n"
     ]
    },
    {
     "name": "stdout",
     "output_type": "stream",
     "text": [
      "Training until validation scores don't improve for 500 rounds.\n",
      "[500]\ttraining's auc: 0.996645\tvalid_1's auc: 0.917711\n",
      "[1000]\ttraining's auc: 0.999954\tvalid_1's auc: 0.925225\n",
      "[1500]\ttraining's auc: 1\tvalid_1's auc: 0.926371\n",
      "[2000]\ttraining's auc: 1\tvalid_1's auc: 0.926347\n",
      "Early stopping, best iteration is:\n",
      "[1527]\ttraining's auc: 1\tvalid_1's auc: 0.926487\n",
      "V84\n"
     ]
    },
    {
     "name": "stderr",
     "output_type": "stream",
     "text": [
      "/home/jinpwa/anaconda3/lib/python3.6/site-packages/lightgbm/basic.py:1205: UserWarning: Using categorical_feature in Dataset.\n",
      "  warnings.warn('Using categorical_feature in Dataset.')\n",
      "/home/jinpwa/anaconda3/lib/python3.6/site-packages/lightgbm/basic.py:762: UserWarning: categorical_feature in param dict is overridden.\n",
      "  warnings.warn('categorical_feature in param dict is overridden.')\n"
     ]
    },
    {
     "name": "stdout",
     "output_type": "stream",
     "text": [
      "Training until validation scores don't improve for 500 rounds.\n",
      "[500]\ttraining's auc: 0.996673\tvalid_1's auc: 0.916889\n",
      "[1000]\ttraining's auc: 0.999953\tvalid_1's auc: 0.924824\n",
      "[1500]\ttraining's auc: 1\tvalid_1's auc: 0.926379\n",
      "[2000]\ttraining's auc: 1\tvalid_1's auc: 0.926663\n",
      "Early stopping, best iteration is:\n",
      "[1631]\ttraining's auc: 1\tvalid_1's auc: 0.926544\n",
      "V85\n"
     ]
    },
    {
     "name": "stderr",
     "output_type": "stream",
     "text": [
      "/home/jinpwa/anaconda3/lib/python3.6/site-packages/lightgbm/basic.py:1205: UserWarning: Using categorical_feature in Dataset.\n",
      "  warnings.warn('Using categorical_feature in Dataset.')\n",
      "/home/jinpwa/anaconda3/lib/python3.6/site-packages/lightgbm/basic.py:762: UserWarning: categorical_feature in param dict is overridden.\n",
      "  warnings.warn('categorical_feature in param dict is overridden.')\n"
     ]
    },
    {
     "name": "stdout",
     "output_type": "stream",
     "text": [
      "Training until validation scores don't improve for 500 rounds.\n",
      "[500]\ttraining's auc: 0.996666\tvalid_1's auc: 0.91657\n",
      "[1000]\ttraining's auc: 0.999955\tvalid_1's auc: 0.924395\n",
      "[1500]\ttraining's auc: 1\tvalid_1's auc: 0.925815\n",
      "[2000]\ttraining's auc: 1\tvalid_1's auc: 0.925918\n",
      "Early stopping, best iteration is:\n",
      "[1628]\ttraining's auc: 1\tvalid_1's auc: 0.92599\n",
      "V86\n"
     ]
    },
    {
     "name": "stderr",
     "output_type": "stream",
     "text": [
      "/home/jinpwa/anaconda3/lib/python3.6/site-packages/lightgbm/basic.py:1205: UserWarning: Using categorical_feature in Dataset.\n",
      "  warnings.warn('Using categorical_feature in Dataset.')\n",
      "/home/jinpwa/anaconda3/lib/python3.6/site-packages/lightgbm/basic.py:762: UserWarning: categorical_feature in param dict is overridden.\n",
      "  warnings.warn('categorical_feature in param dict is overridden.')\n"
     ]
    },
    {
     "name": "stdout",
     "output_type": "stream",
     "text": [
      "Training until validation scores don't improve for 500 rounds.\n",
      "[500]\ttraining's auc: 0.996637\tvalid_1's auc: 0.917151\n",
      "[1000]\ttraining's auc: 0.999952\tvalid_1's auc: 0.92541\n",
      "[1500]\ttraining's auc: 1\tvalid_1's auc: 0.92663\n",
      "[2000]\ttraining's auc: 1\tvalid_1's auc: 0.926652\n",
      "Early stopping, best iteration is:\n",
      "[1526]\ttraining's auc: 1\tvalid_1's auc: 0.926734\n",
      "V87\n"
     ]
    },
    {
     "name": "stderr",
     "output_type": "stream",
     "text": [
      "/home/jinpwa/anaconda3/lib/python3.6/site-packages/lightgbm/basic.py:1205: UserWarning: Using categorical_feature in Dataset.\n",
      "  warnings.warn('Using categorical_feature in Dataset.')\n",
      "/home/jinpwa/anaconda3/lib/python3.6/site-packages/lightgbm/basic.py:762: UserWarning: categorical_feature in param dict is overridden.\n",
      "  warnings.warn('categorical_feature in param dict is overridden.')\n"
     ]
    },
    {
     "name": "stdout",
     "output_type": "stream",
     "text": [
      "Training until validation scores don't improve for 500 rounds.\n",
      "[500]\ttraining's auc: 0.996638\tvalid_1's auc: 0.917214\n",
      "[1000]\ttraining's auc: 0.999955\tvalid_1's auc: 0.925389\n",
      "[1500]\ttraining's auc: 1\tvalid_1's auc: 0.926618\n",
      "[2000]\ttraining's auc: 1\tvalid_1's auc: 0.926481\n",
      "Early stopping, best iteration is:\n",
      "[1587]\ttraining's auc: 1\tvalid_1's auc: 0.926768\n",
      "V88\n"
     ]
    },
    {
     "name": "stderr",
     "output_type": "stream",
     "text": [
      "/home/jinpwa/anaconda3/lib/python3.6/site-packages/lightgbm/basic.py:1205: UserWarning: Using categorical_feature in Dataset.\n",
      "  warnings.warn('Using categorical_feature in Dataset.')\n",
      "/home/jinpwa/anaconda3/lib/python3.6/site-packages/lightgbm/basic.py:762: UserWarning: categorical_feature in param dict is overridden.\n",
      "  warnings.warn('categorical_feature in param dict is overridden.')\n"
     ]
    },
    {
     "name": "stdout",
     "output_type": "stream",
     "text": [
      "Training until validation scores don't improve for 500 rounds.\n",
      "[500]\ttraining's auc: 0.996668\tvalid_1's auc: 0.917573\n",
      "[1000]\ttraining's auc: 0.999954\tvalid_1's auc: 0.925367\n",
      "[1500]\ttraining's auc: 1\tvalid_1's auc: 0.926629\n",
      "[2000]\ttraining's auc: 1\tvalid_1's auc: 0.926623\n",
      "Early stopping, best iteration is:\n",
      "[1629]\ttraining's auc: 1\tvalid_1's auc: 0.926719\n",
      "V89\n"
     ]
    },
    {
     "name": "stderr",
     "output_type": "stream",
     "text": [
      "/home/jinpwa/anaconda3/lib/python3.6/site-packages/lightgbm/basic.py:1205: UserWarning: Using categorical_feature in Dataset.\n",
      "  warnings.warn('Using categorical_feature in Dataset.')\n",
      "/home/jinpwa/anaconda3/lib/python3.6/site-packages/lightgbm/basic.py:762: UserWarning: categorical_feature in param dict is overridden.\n",
      "  warnings.warn('categorical_feature in param dict is overridden.')\n"
     ]
    },
    {
     "name": "stdout",
     "output_type": "stream",
     "text": [
      "Training until validation scores don't improve for 500 rounds.\n",
      "[500]\ttraining's auc: 0.996668\tvalid_1's auc: 0.917573\n",
      "[1000]\ttraining's auc: 0.999954\tvalid_1's auc: 0.925367\n",
      "[1500]\ttraining's auc: 1\tvalid_1's auc: 0.926629\n",
      "[2000]\ttraining's auc: 1\tvalid_1's auc: 0.926623\n",
      "Early stopping, best iteration is:\n",
      "[1629]\ttraining's auc: 1\tvalid_1's auc: 0.926719\n",
      "V90\n"
     ]
    },
    {
     "name": "stderr",
     "output_type": "stream",
     "text": [
      "/home/jinpwa/anaconda3/lib/python3.6/site-packages/lightgbm/basic.py:1205: UserWarning: Using categorical_feature in Dataset.\n",
      "  warnings.warn('Using categorical_feature in Dataset.')\n",
      "/home/jinpwa/anaconda3/lib/python3.6/site-packages/lightgbm/basic.py:762: UserWarning: categorical_feature in param dict is overridden.\n",
      "  warnings.warn('categorical_feature in param dict is overridden.')\n"
     ]
    },
    {
     "name": "stdout",
     "output_type": "stream",
     "text": [
      "Training until validation scores don't improve for 500 rounds.\n",
      "[500]\ttraining's auc: 0.996657\tvalid_1's auc: 0.917078\n",
      "[1000]\ttraining's auc: 0.999956\tvalid_1's auc: 0.925111\n",
      "[1500]\ttraining's auc: 1\tvalid_1's auc: 0.926211\n",
      "[2000]\ttraining's auc: 1\tvalid_1's auc: 0.926403\n",
      "Early stopping, best iteration is:\n",
      "[1628]\ttraining's auc: 1\tvalid_1's auc: 0.926417\n",
      "V91\n"
     ]
    },
    {
     "name": "stderr",
     "output_type": "stream",
     "text": [
      "/home/jinpwa/anaconda3/lib/python3.6/site-packages/lightgbm/basic.py:1205: UserWarning: Using categorical_feature in Dataset.\n",
      "  warnings.warn('Using categorical_feature in Dataset.')\n",
      "/home/jinpwa/anaconda3/lib/python3.6/site-packages/lightgbm/basic.py:762: UserWarning: categorical_feature in param dict is overridden.\n",
      "  warnings.warn('categorical_feature in param dict is overridden.')\n"
     ]
    },
    {
     "name": "stdout",
     "output_type": "stream",
     "text": [
      "Training until validation scores don't improve for 500 rounds.\n",
      "[500]\ttraining's auc: 0.996628\tvalid_1's auc: 0.917289\n",
      "[1000]\ttraining's auc: 0.999954\tvalid_1's auc: 0.925652\n",
      "[1500]\ttraining's auc: 1\tvalid_1's auc: 0.927008\n",
      "[2000]\ttraining's auc: 1\tvalid_1's auc: 0.927201\n",
      "Early stopping, best iteration is:\n",
      "[1655]\ttraining's auc: 1\tvalid_1's auc: 0.927052\n",
      "V92\n"
     ]
    },
    {
     "name": "stderr",
     "output_type": "stream",
     "text": [
      "/home/jinpwa/anaconda3/lib/python3.6/site-packages/lightgbm/basic.py:1205: UserWarning: Using categorical_feature in Dataset.\n",
      "  warnings.warn('Using categorical_feature in Dataset.')\n",
      "/home/jinpwa/anaconda3/lib/python3.6/site-packages/lightgbm/basic.py:762: UserWarning: categorical_feature in param dict is overridden.\n",
      "  warnings.warn('categorical_feature in param dict is overridden.')\n"
     ]
    },
    {
     "name": "stdout",
     "output_type": "stream",
     "text": [
      "Training until validation scores don't improve for 500 rounds.\n",
      "[500]\ttraining's auc: 0.996672\tvalid_1's auc: 0.917617\n",
      "[1000]\ttraining's auc: 0.999954\tvalid_1's auc: 0.925105\n",
      "[1500]\ttraining's auc: 1\tvalid_1's auc: 0.9267\n",
      "[2000]\ttraining's auc: 1\tvalid_1's auc: 0.926808\n",
      "Early stopping, best iteration is:\n",
      "[1638]\ttraining's auc: 1\tvalid_1's auc: 0.926888\n",
      "V93\n"
     ]
    },
    {
     "name": "stderr",
     "output_type": "stream",
     "text": [
      "/home/jinpwa/anaconda3/lib/python3.6/site-packages/lightgbm/basic.py:1205: UserWarning: Using categorical_feature in Dataset.\n",
      "  warnings.warn('Using categorical_feature in Dataset.')\n",
      "/home/jinpwa/anaconda3/lib/python3.6/site-packages/lightgbm/basic.py:762: UserWarning: categorical_feature in param dict is overridden.\n",
      "  warnings.warn('categorical_feature in param dict is overridden.')\n"
     ]
    },
    {
     "name": "stdout",
     "output_type": "stream",
     "text": [
      "Training until validation scores don't improve for 500 rounds.\n",
      "[500]\ttraining's auc: 0.996655\tvalid_1's auc: 0.917613\n",
      "[1000]\ttraining's auc: 0.999953\tvalid_1's auc: 0.925365\n",
      "[1500]\ttraining's auc: 1\tvalid_1's auc: 0.926588\n",
      "[2000]\ttraining's auc: 1\tvalid_1's auc: 0.926568\n",
      "Early stopping, best iteration is:\n",
      "[1556]\ttraining's auc: 1\tvalid_1's auc: 0.926632\n",
      "V94\n"
     ]
    },
    {
     "name": "stderr",
     "output_type": "stream",
     "text": [
      "/home/jinpwa/anaconda3/lib/python3.6/site-packages/lightgbm/basic.py:1205: UserWarning: Using categorical_feature in Dataset.\n",
      "  warnings.warn('Using categorical_feature in Dataset.')\n",
      "/home/jinpwa/anaconda3/lib/python3.6/site-packages/lightgbm/basic.py:762: UserWarning: categorical_feature in param dict is overridden.\n",
      "  warnings.warn('categorical_feature in param dict is overridden.')\n"
     ]
    },
    {
     "name": "stdout",
     "output_type": "stream",
     "text": [
      "Training until validation scores don't improve for 500 rounds.\n",
      "[500]\ttraining's auc: 0.996649\tvalid_1's auc: 0.917628\n",
      "[1000]\ttraining's auc: 0.999953\tvalid_1's auc: 0.925495\n",
      "[1500]\ttraining's auc: 1\tvalid_1's auc: 0.926786\n",
      "[2000]\ttraining's auc: 1\tvalid_1's auc: 0.926674\n",
      "Early stopping, best iteration is:\n",
      "[1598]\ttraining's auc: 1\tvalid_1's auc: 0.927045\n",
      "V95\n"
     ]
    },
    {
     "name": "stderr",
     "output_type": "stream",
     "text": [
      "/home/jinpwa/anaconda3/lib/python3.6/site-packages/lightgbm/basic.py:1205: UserWarning: Using categorical_feature in Dataset.\n",
      "  warnings.warn('Using categorical_feature in Dataset.')\n",
      "/home/jinpwa/anaconda3/lib/python3.6/site-packages/lightgbm/basic.py:762: UserWarning: categorical_feature in param dict is overridden.\n",
      "  warnings.warn('categorical_feature in param dict is overridden.')\n"
     ]
    },
    {
     "name": "stdout",
     "output_type": "stream",
     "text": [
      "Training until validation scores don't improve for 500 rounds.\n",
      "[500]\ttraining's auc: 0.996698\tvalid_1's auc: 0.91749\n",
      "[1000]\ttraining's auc: 0.999953\tvalid_1's auc: 0.926092\n",
      "[1500]\ttraining's auc: 1\tvalid_1's auc: 0.927224\n",
      "Early stopping, best iteration is:\n",
      "[1430]\ttraining's auc: 1\tvalid_1's auc: 0.927326\n",
      "V96\n"
     ]
    },
    {
     "name": "stderr",
     "output_type": "stream",
     "text": [
      "/home/jinpwa/anaconda3/lib/python3.6/site-packages/lightgbm/basic.py:1205: UserWarning: Using categorical_feature in Dataset.\n",
      "  warnings.warn('Using categorical_feature in Dataset.')\n",
      "/home/jinpwa/anaconda3/lib/python3.6/site-packages/lightgbm/basic.py:762: UserWarning: categorical_feature in param dict is overridden.\n",
      "  warnings.warn('categorical_feature in param dict is overridden.')\n"
     ]
    },
    {
     "name": "stdout",
     "output_type": "stream",
     "text": [
      "Training until validation scores don't improve for 500 rounds.\n",
      "[500]\ttraining's auc: 0.996619\tvalid_1's auc: 0.917701\n",
      "[1000]\ttraining's auc: 0.999955\tvalid_1's auc: 0.925977\n",
      "[1500]\ttraining's auc: 1\tvalid_1's auc: 0.927527\n",
      "[2000]\ttraining's auc: 1\tvalid_1's auc: 0.927549\n",
      "Early stopping, best iteration is:\n",
      "[1608]\ttraining's auc: 1\tvalid_1's auc: 0.927553\n",
      "V97\n"
     ]
    },
    {
     "name": "stderr",
     "output_type": "stream",
     "text": [
      "/home/jinpwa/anaconda3/lib/python3.6/site-packages/lightgbm/basic.py:1205: UserWarning: Using categorical_feature in Dataset.\n",
      "  warnings.warn('Using categorical_feature in Dataset.')\n",
      "/home/jinpwa/anaconda3/lib/python3.6/site-packages/lightgbm/basic.py:762: UserWarning: categorical_feature in param dict is overridden.\n",
      "  warnings.warn('categorical_feature in param dict is overridden.')\n"
     ]
    },
    {
     "name": "stdout",
     "output_type": "stream",
     "text": [
      "Training until validation scores don't improve for 500 rounds.\n",
      "[500]\ttraining's auc: 0.996659\tvalid_1's auc: 0.917383\n",
      "[1000]\ttraining's auc: 0.999954\tvalid_1's auc: 0.924854\n",
      "[1500]\ttraining's auc: 1\tvalid_1's auc: 0.92606\n",
      "[2000]\ttraining's auc: 1\tvalid_1's auc: 0.926463\n",
      "Early stopping, best iteration is:\n",
      "[1622]\ttraining's auc: 1\tvalid_1's auc: 0.926271\n",
      "V98\n"
     ]
    },
    {
     "name": "stderr",
     "output_type": "stream",
     "text": [
      "/home/jinpwa/anaconda3/lib/python3.6/site-packages/lightgbm/basic.py:1205: UserWarning: Using categorical_feature in Dataset.\n",
      "  warnings.warn('Using categorical_feature in Dataset.')\n",
      "/home/jinpwa/anaconda3/lib/python3.6/site-packages/lightgbm/basic.py:762: UserWarning: categorical_feature in param dict is overridden.\n",
      "  warnings.warn('categorical_feature in param dict is overridden.')\n"
     ]
    },
    {
     "name": "stdout",
     "output_type": "stream",
     "text": [
      "Training until validation scores don't improve for 500 rounds.\n",
      "[500]\ttraining's auc: 0.996632\tvalid_1's auc: 0.917131\n",
      "[1000]\ttraining's auc: 0.999954\tvalid_1's auc: 0.925893\n",
      "[1500]\ttraining's auc: 1\tvalid_1's auc: 0.92699\n",
      "[2000]\ttraining's auc: 1\tvalid_1's auc: 0.927108\n",
      "Early stopping, best iteration is:\n",
      "[1636]\ttraining's auc: 1\tvalid_1's auc: 0.927107\n",
      "V99\n"
     ]
    },
    {
     "name": "stderr",
     "output_type": "stream",
     "text": [
      "/home/jinpwa/anaconda3/lib/python3.6/site-packages/lightgbm/basic.py:1205: UserWarning: Using categorical_feature in Dataset.\n",
      "  warnings.warn('Using categorical_feature in Dataset.')\n",
      "/home/jinpwa/anaconda3/lib/python3.6/site-packages/lightgbm/basic.py:762: UserWarning: categorical_feature in param dict is overridden.\n",
      "  warnings.warn('categorical_feature in param dict is overridden.')\n"
     ]
    },
    {
     "name": "stdout",
     "output_type": "stream",
     "text": [
      "Training until validation scores don't improve for 500 rounds.\n",
      "[500]\ttraining's auc: 0.996641\tvalid_1's auc: 0.917539\n",
      "[1000]\ttraining's auc: 0.999954\tvalid_1's auc: 0.925027\n",
      "[1500]\ttraining's auc: 1\tvalid_1's auc: 0.926194\n",
      "[2000]\ttraining's auc: 1\tvalid_1's auc: 0.92653\n",
      "Early stopping, best iteration is:\n",
      "[1654]\ttraining's auc: 1\tvalid_1's auc: 0.926244\n",
      "V100\n"
     ]
    },
    {
     "name": "stderr",
     "output_type": "stream",
     "text": [
      "/home/jinpwa/anaconda3/lib/python3.6/site-packages/lightgbm/basic.py:1205: UserWarning: Using categorical_feature in Dataset.\n",
      "  warnings.warn('Using categorical_feature in Dataset.')\n",
      "/home/jinpwa/anaconda3/lib/python3.6/site-packages/lightgbm/basic.py:762: UserWarning: categorical_feature in param dict is overridden.\n",
      "  warnings.warn('categorical_feature in param dict is overridden.')\n"
     ]
    },
    {
     "name": "stdout",
     "output_type": "stream",
     "text": [
      "Training until validation scores don't improve for 500 rounds.\n",
      "[500]\ttraining's auc: 0.996683\tvalid_1's auc: 0.916665\n",
      "[1000]\ttraining's auc: 0.999953\tvalid_1's auc: 0.924506\n",
      "[1500]\ttraining's auc: 1\tvalid_1's auc: 0.926083\n",
      "Early stopping, best iteration is:\n",
      "[1484]\ttraining's auc: 1\tvalid_1's auc: 0.926134\n",
      "V101\n"
     ]
    },
    {
     "name": "stderr",
     "output_type": "stream",
     "text": [
      "/home/jinpwa/anaconda3/lib/python3.6/site-packages/lightgbm/basic.py:1205: UserWarning: Using categorical_feature in Dataset.\n",
      "  warnings.warn('Using categorical_feature in Dataset.')\n",
      "/home/jinpwa/anaconda3/lib/python3.6/site-packages/lightgbm/basic.py:762: UserWarning: categorical_feature in param dict is overridden.\n",
      "  warnings.warn('categorical_feature in param dict is overridden.')\n"
     ]
    },
    {
     "name": "stdout",
     "output_type": "stream",
     "text": [
      "Training until validation scores don't improve for 500 rounds.\n",
      "[500]\ttraining's auc: 0.99666\tvalid_1's auc: 0.917651\n",
      "[1000]\ttraining's auc: 0.999955\tvalid_1's auc: 0.925855\n",
      "[1500]\ttraining's auc: 1\tvalid_1's auc: 0.92712\n",
      "[2000]\ttraining's auc: 1\tvalid_1's auc: 0.927209\n",
      "Early stopping, best iteration is:\n",
      "[1629]\ttraining's auc: 1\tvalid_1's auc: 0.927281\n",
      "V102\n"
     ]
    },
    {
     "name": "stderr",
     "output_type": "stream",
     "text": [
      "/home/jinpwa/anaconda3/lib/python3.6/site-packages/lightgbm/basic.py:1205: UserWarning: Using categorical_feature in Dataset.\n",
      "  warnings.warn('Using categorical_feature in Dataset.')\n",
      "/home/jinpwa/anaconda3/lib/python3.6/site-packages/lightgbm/basic.py:762: UserWarning: categorical_feature in param dict is overridden.\n",
      "  warnings.warn('categorical_feature in param dict is overridden.')\n"
     ]
    },
    {
     "name": "stdout",
     "output_type": "stream",
     "text": [
      "Training until validation scores don't improve for 500 rounds.\n",
      "[500]\ttraining's auc: 0.996664\tvalid_1's auc: 0.917445\n",
      "[1000]\ttraining's auc: 0.999953\tvalid_1's auc: 0.925856\n",
      "[1500]\ttraining's auc: 1\tvalid_1's auc: 0.926957\n",
      "[2000]\ttraining's auc: 1\tvalid_1's auc: 0.927151\n",
      "Early stopping, best iteration is:\n",
      "[1641]\ttraining's auc: 1\tvalid_1's auc: 0.927133\n",
      "V103\n"
     ]
    },
    {
     "name": "stderr",
     "output_type": "stream",
     "text": [
      "/home/jinpwa/anaconda3/lib/python3.6/site-packages/lightgbm/basic.py:1205: UserWarning: Using categorical_feature in Dataset.\n",
      "  warnings.warn('Using categorical_feature in Dataset.')\n",
      "/home/jinpwa/anaconda3/lib/python3.6/site-packages/lightgbm/basic.py:762: UserWarning: categorical_feature in param dict is overridden.\n",
      "  warnings.warn('categorical_feature in param dict is overridden.')\n"
     ]
    },
    {
     "name": "stdout",
     "output_type": "stream",
     "text": [
      "Training until validation scores don't improve for 500 rounds.\n",
      "[500]\ttraining's auc: 0.996655\tvalid_1's auc: 0.91734\n",
      "[1000]\ttraining's auc: 0.999955\tvalid_1's auc: 0.925418\n",
      "[1500]\ttraining's auc: 1\tvalid_1's auc: 0.926435\n",
      "[2000]\ttraining's auc: 1\tvalid_1's auc: 0.926655\n",
      "Early stopping, best iteration is:\n",
      "[1647]\ttraining's auc: 1\tvalid_1's auc: 0.926731\n",
      "V104\n"
     ]
    },
    {
     "name": "stderr",
     "output_type": "stream",
     "text": [
      "/home/jinpwa/anaconda3/lib/python3.6/site-packages/lightgbm/basic.py:1205: UserWarning: Using categorical_feature in Dataset.\n",
      "  warnings.warn('Using categorical_feature in Dataset.')\n",
      "/home/jinpwa/anaconda3/lib/python3.6/site-packages/lightgbm/basic.py:762: UserWarning: categorical_feature in param dict is overridden.\n",
      "  warnings.warn('categorical_feature in param dict is overridden.')\n"
     ]
    },
    {
     "name": "stdout",
     "output_type": "stream",
     "text": [
      "Training until validation scores don't improve for 500 rounds.\n",
      "[500]\ttraining's auc: 0.996634\tvalid_1's auc: 0.917153\n",
      "[1000]\ttraining's auc: 0.999953\tvalid_1's auc: 0.925187\n",
      "[1500]\ttraining's auc: 1\tvalid_1's auc: 0.926453\n",
      "[2000]\ttraining's auc: 1\tvalid_1's auc: 0.926472\n",
      "Early stopping, best iteration is:\n",
      "[1630]\ttraining's auc: 1\tvalid_1's auc: 0.926404\n",
      "V105\n"
     ]
    },
    {
     "name": "stderr",
     "output_type": "stream",
     "text": [
      "/home/jinpwa/anaconda3/lib/python3.6/site-packages/lightgbm/basic.py:1205: UserWarning: Using categorical_feature in Dataset.\n",
      "  warnings.warn('Using categorical_feature in Dataset.')\n",
      "/home/jinpwa/anaconda3/lib/python3.6/site-packages/lightgbm/basic.py:762: UserWarning: categorical_feature in param dict is overridden.\n",
      "  warnings.warn('categorical_feature in param dict is overridden.')\n"
     ]
    },
    {
     "name": "stdout",
     "output_type": "stream",
     "text": [
      "Training until validation scores don't improve for 500 rounds.\n",
      "[500]\ttraining's auc: 0.996626\tvalid_1's auc: 0.917437\n",
      "[1000]\ttraining's auc: 0.999954\tvalid_1's auc: 0.925704\n",
      "[1500]\ttraining's auc: 1\tvalid_1's auc: 0.927271\n",
      "[2000]\ttraining's auc: 1\tvalid_1's auc: 0.92746\n",
      "Early stopping, best iteration is:\n",
      "[1638]\ttraining's auc: 1\tvalid_1's auc: 0.927367\n",
      "V106\n"
     ]
    },
    {
     "name": "stderr",
     "output_type": "stream",
     "text": [
      "/home/jinpwa/anaconda3/lib/python3.6/site-packages/lightgbm/basic.py:1205: UserWarning: Using categorical_feature in Dataset.\n",
      "  warnings.warn('Using categorical_feature in Dataset.')\n",
      "/home/jinpwa/anaconda3/lib/python3.6/site-packages/lightgbm/basic.py:762: UserWarning: categorical_feature in param dict is overridden.\n",
      "  warnings.warn('categorical_feature in param dict is overridden.')\n"
     ]
    },
    {
     "name": "stdout",
     "output_type": "stream",
     "text": [
      "Training until validation scores don't improve for 500 rounds.\n",
      "[500]\ttraining's auc: 0.996679\tvalid_1's auc: 0.917417\n",
      "[1000]\ttraining's auc: 0.999955\tvalid_1's auc: 0.924518\n",
      "[1500]\ttraining's auc: 1\tvalid_1's auc: 0.926059\n",
      "[2000]\ttraining's auc: 1\tvalid_1's auc: 0.926166\n",
      "Early stopping, best iteration is:\n",
      "[1623]\ttraining's auc: 1\tvalid_1's auc: 0.926128\n",
      "V107\n"
     ]
    },
    {
     "name": "stderr",
     "output_type": "stream",
     "text": [
      "/home/jinpwa/anaconda3/lib/python3.6/site-packages/lightgbm/basic.py:1205: UserWarning: Using categorical_feature in Dataset.\n",
      "  warnings.warn('Using categorical_feature in Dataset.')\n",
      "/home/jinpwa/anaconda3/lib/python3.6/site-packages/lightgbm/basic.py:762: UserWarning: categorical_feature in param dict is overridden.\n",
      "  warnings.warn('categorical_feature in param dict is overridden.')\n"
     ]
    },
    {
     "name": "stdout",
     "output_type": "stream",
     "text": [
      "Training until validation scores don't improve for 500 rounds.\n",
      "[500]\ttraining's auc: 0.996677\tvalid_1's auc: 0.918242\n",
      "[1000]\ttraining's auc: 0.999952\tvalid_1's auc: 0.924871\n",
      "[1500]\ttraining's auc: 1\tvalid_1's auc: 0.926299\n",
      "[2000]\ttraining's auc: 1\tvalid_1's auc: 0.926302\n",
      "Early stopping, best iteration is:\n",
      "[1628]\ttraining's auc: 1\tvalid_1's auc: 0.926277\n",
      "V108\n"
     ]
    },
    {
     "name": "stderr",
     "output_type": "stream",
     "text": [
      "/home/jinpwa/anaconda3/lib/python3.6/site-packages/lightgbm/basic.py:1205: UserWarning: Using categorical_feature in Dataset.\n",
      "  warnings.warn('Using categorical_feature in Dataset.')\n",
      "/home/jinpwa/anaconda3/lib/python3.6/site-packages/lightgbm/basic.py:762: UserWarning: categorical_feature in param dict is overridden.\n",
      "  warnings.warn('categorical_feature in param dict is overridden.')\n"
     ]
    },
    {
     "name": "stdout",
     "output_type": "stream",
     "text": [
      "Training until validation scores don't improve for 500 rounds.\n",
      "[500]\ttraining's auc: 0.996646\tvalid_1's auc: 0.917755\n",
      "[1000]\ttraining's auc: 0.999954\tvalid_1's auc: 0.925285\n",
      "[1500]\ttraining's auc: 1\tvalid_1's auc: 0.926488\n",
      "[2000]\ttraining's auc: 1\tvalid_1's auc: 0.926434\n",
      "Early stopping, best iteration is:\n",
      "[1642]\ttraining's auc: 1\tvalid_1's auc: 0.926482\n",
      "V109\n"
     ]
    },
    {
     "name": "stderr",
     "output_type": "stream",
     "text": [
      "/home/jinpwa/anaconda3/lib/python3.6/site-packages/lightgbm/basic.py:1205: UserWarning: Using categorical_feature in Dataset.\n",
      "  warnings.warn('Using categorical_feature in Dataset.')\n",
      "/home/jinpwa/anaconda3/lib/python3.6/site-packages/lightgbm/basic.py:762: UserWarning: categorical_feature in param dict is overridden.\n",
      "  warnings.warn('categorical_feature in param dict is overridden.')\n"
     ]
    },
    {
     "name": "stdout",
     "output_type": "stream",
     "text": [
      "Training until validation scores don't improve for 500 rounds.\n",
      "[500]\ttraining's auc: 0.996661\tvalid_1's auc: 0.91763\n",
      "[1000]\ttraining's auc: 0.999954\tvalid_1's auc: 0.925759\n",
      "[1500]\ttraining's auc: 1\tvalid_1's auc: 0.926714\n",
      "[2000]\ttraining's auc: 1\tvalid_1's auc: 0.926766\n",
      "Early stopping, best iteration is:\n",
      "[1642]\ttraining's auc: 1\tvalid_1's auc: 0.926745\n",
      "V110\n"
     ]
    },
    {
     "name": "stderr",
     "output_type": "stream",
     "text": [
      "/home/jinpwa/anaconda3/lib/python3.6/site-packages/lightgbm/basic.py:1205: UserWarning: Using categorical_feature in Dataset.\n",
      "  warnings.warn('Using categorical_feature in Dataset.')\n",
      "/home/jinpwa/anaconda3/lib/python3.6/site-packages/lightgbm/basic.py:762: UserWarning: categorical_feature in param dict is overridden.\n",
      "  warnings.warn('categorical_feature in param dict is overridden.')\n"
     ]
    },
    {
     "name": "stdout",
     "output_type": "stream",
     "text": [
      "Training until validation scores don't improve for 500 rounds.\n",
      "[500]\ttraining's auc: 0.996675\tvalid_1's auc: 0.91738\n",
      "[1000]\ttraining's auc: 0.999955\tvalid_1's auc: 0.925284\n",
      "[1500]\ttraining's auc: 1\tvalid_1's auc: 0.927\n",
      "[2000]\ttraining's auc: 1\tvalid_1's auc: 0.926938\n",
      "Early stopping, best iteration is:\n",
      "[1600]\ttraining's auc: 1\tvalid_1's auc: 0.927198\n",
      "V111\n"
     ]
    },
    {
     "name": "stderr",
     "output_type": "stream",
     "text": [
      "/home/jinpwa/anaconda3/lib/python3.6/site-packages/lightgbm/basic.py:1205: UserWarning: Using categorical_feature in Dataset.\n",
      "  warnings.warn('Using categorical_feature in Dataset.')\n",
      "/home/jinpwa/anaconda3/lib/python3.6/site-packages/lightgbm/basic.py:762: UserWarning: categorical_feature in param dict is overridden.\n",
      "  warnings.warn('categorical_feature in param dict is overridden.')\n"
     ]
    },
    {
     "name": "stdout",
     "output_type": "stream",
     "text": [
      "Training until validation scores don't improve for 500 rounds.\n",
      "[500]\ttraining's auc: 0.996647\tvalid_1's auc: 0.917439\n",
      "[1000]\ttraining's auc: 0.999953\tvalid_1's auc: 0.925534\n",
      "[1500]\ttraining's auc: 1\tvalid_1's auc: 0.926851\n",
      "Early stopping, best iteration is:\n",
      "[1460]\ttraining's auc: 1\tvalid_1's auc: 0.926984\n",
      "V112\n"
     ]
    },
    {
     "name": "stderr",
     "output_type": "stream",
     "text": [
      "/home/jinpwa/anaconda3/lib/python3.6/site-packages/lightgbm/basic.py:1205: UserWarning: Using categorical_feature in Dataset.\n",
      "  warnings.warn('Using categorical_feature in Dataset.')\n",
      "/home/jinpwa/anaconda3/lib/python3.6/site-packages/lightgbm/basic.py:762: UserWarning: categorical_feature in param dict is overridden.\n",
      "  warnings.warn('categorical_feature in param dict is overridden.')\n"
     ]
    },
    {
     "name": "stdout",
     "output_type": "stream",
     "text": [
      "Training until validation scores don't improve for 500 rounds.\n",
      "[500]\ttraining's auc: 0.996647\tvalid_1's auc: 0.917439\n",
      "[1000]\ttraining's auc: 0.999953\tvalid_1's auc: 0.92541\n",
      "[1500]\ttraining's auc: 1\tvalid_1's auc: 0.926643\n",
      "[2000]\ttraining's auc: 1\tvalid_1's auc: 0.926882\n",
      "Early stopping, best iteration is:\n",
      "[1670]\ttraining's auc: 1\tvalid_1's auc: 0.926867\n",
      "V113\n"
     ]
    },
    {
     "name": "stderr",
     "output_type": "stream",
     "text": [
      "/home/jinpwa/anaconda3/lib/python3.6/site-packages/lightgbm/basic.py:1205: UserWarning: Using categorical_feature in Dataset.\n",
      "  warnings.warn('Using categorical_feature in Dataset.')\n",
      "/home/jinpwa/anaconda3/lib/python3.6/site-packages/lightgbm/basic.py:762: UserWarning: categorical_feature in param dict is overridden.\n",
      "  warnings.warn('categorical_feature in param dict is overridden.')\n"
     ]
    },
    {
     "name": "stdout",
     "output_type": "stream",
     "text": [
      "Training until validation scores don't improve for 500 rounds.\n",
      "[500]\ttraining's auc: 0.996647\tvalid_1's auc: 0.917439\n",
      "[1000]\ttraining's auc: 0.999953\tvalid_1's auc: 0.925566\n",
      "[1500]\ttraining's auc: 1\tvalid_1's auc: 0.926769\n",
      "[2000]\ttraining's auc: 1\tvalid_1's auc: 0.92701\n",
      "Early stopping, best iteration is:\n",
      "[1657]\ttraining's auc: 1\tvalid_1's auc: 0.926875\n",
      "V114\n"
     ]
    },
    {
     "name": "stderr",
     "output_type": "stream",
     "text": [
      "/home/jinpwa/anaconda3/lib/python3.6/site-packages/lightgbm/basic.py:1205: UserWarning: Using categorical_feature in Dataset.\n",
      "  warnings.warn('Using categorical_feature in Dataset.')\n",
      "/home/jinpwa/anaconda3/lib/python3.6/site-packages/lightgbm/basic.py:762: UserWarning: categorical_feature in param dict is overridden.\n",
      "  warnings.warn('categorical_feature in param dict is overridden.')\n"
     ]
    },
    {
     "name": "stdout",
     "output_type": "stream",
     "text": [
      "Training until validation scores don't improve for 500 rounds.\n",
      "[500]\ttraining's auc: 0.996647\tvalid_1's auc: 0.917439\n",
      "[1000]\ttraining's auc: 0.999953\tvalid_1's auc: 0.925333\n",
      "[1500]\ttraining's auc: 1\tvalid_1's auc: 0.92657\n",
      "[2000]\ttraining's auc: 1\tvalid_1's auc: 0.926945\n",
      "Early stopping, best iteration is:\n",
      "[1636]\ttraining's auc: 1\tvalid_1's auc: 0.926858\n",
      "V115\n"
     ]
    },
    {
     "name": "stderr",
     "output_type": "stream",
     "text": [
      "/home/jinpwa/anaconda3/lib/python3.6/site-packages/lightgbm/basic.py:1205: UserWarning: Using categorical_feature in Dataset.\n",
      "  warnings.warn('Using categorical_feature in Dataset.')\n",
      "/home/jinpwa/anaconda3/lib/python3.6/site-packages/lightgbm/basic.py:762: UserWarning: categorical_feature in param dict is overridden.\n",
      "  warnings.warn('categorical_feature in param dict is overridden.')\n"
     ]
    },
    {
     "name": "stdout",
     "output_type": "stream",
     "text": [
      "Training until validation scores don't improve for 500 rounds.\n",
      "[500]\ttraining's auc: 0.996622\tvalid_1's auc: 0.917768\n",
      "[1000]\ttraining's auc: 0.999953\tvalid_1's auc: 0.925979\n",
      "[1500]\ttraining's auc: 1\tvalid_1's auc: 0.927306\n",
      "[2000]\ttraining's auc: 1\tvalid_1's auc: 0.927186\n",
      "Early stopping, best iteration is:\n",
      "[1516]\ttraining's auc: 1\tvalid_1's auc: 0.927356\n",
      "V116\n"
     ]
    },
    {
     "name": "stderr",
     "output_type": "stream",
     "text": [
      "/home/jinpwa/anaconda3/lib/python3.6/site-packages/lightgbm/basic.py:1205: UserWarning: Using categorical_feature in Dataset.\n",
      "  warnings.warn('Using categorical_feature in Dataset.')\n",
      "/home/jinpwa/anaconda3/lib/python3.6/site-packages/lightgbm/basic.py:762: UserWarning: categorical_feature in param dict is overridden.\n",
      "  warnings.warn('categorical_feature in param dict is overridden.')\n"
     ]
    },
    {
     "name": "stdout",
     "output_type": "stream",
     "text": [
      "Training until validation scores don't improve for 500 rounds.\n",
      "[500]\ttraining's auc: 0.996636\tvalid_1's auc: 0.917041\n",
      "[1000]\ttraining's auc: 0.999956\tvalid_1's auc: 0.924732\n",
      "[1500]\ttraining's auc: 1\tvalid_1's auc: 0.926278\n",
      "[2000]\ttraining's auc: 1\tvalid_1's auc: 0.926235\n",
      "Early stopping, best iteration is:\n",
      "[1565]\ttraining's auc: 1\tvalid_1's auc: 0.926399\n",
      "V117\n"
     ]
    },
    {
     "name": "stderr",
     "output_type": "stream",
     "text": [
      "/home/jinpwa/anaconda3/lib/python3.6/site-packages/lightgbm/basic.py:1205: UserWarning: Using categorical_feature in Dataset.\n",
      "  warnings.warn('Using categorical_feature in Dataset.')\n",
      "/home/jinpwa/anaconda3/lib/python3.6/site-packages/lightgbm/basic.py:762: UserWarning: categorical_feature in param dict is overridden.\n",
      "  warnings.warn('categorical_feature in param dict is overridden.')\n"
     ]
    },
    {
     "name": "stdout",
     "output_type": "stream",
     "text": [
      "Training until validation scores don't improve for 500 rounds.\n",
      "[500]\ttraining's auc: 0.996677\tvalid_1's auc: 0.918242\n",
      "[1000]\ttraining's auc: 0.999952\tvalid_1's auc: 0.924871\n",
      "[1500]\ttraining's auc: 1\tvalid_1's auc: 0.926299\n",
      "[2000]\ttraining's auc: 1\tvalid_1's auc: 0.926302\n",
      "Early stopping, best iteration is:\n",
      "[1628]\ttraining's auc: 1\tvalid_1's auc: 0.926277\n",
      "V118\n"
     ]
    },
    {
     "name": "stderr",
     "output_type": "stream",
     "text": [
      "/home/jinpwa/anaconda3/lib/python3.6/site-packages/lightgbm/basic.py:1205: UserWarning: Using categorical_feature in Dataset.\n",
      "  warnings.warn('Using categorical_feature in Dataset.')\n",
      "/home/jinpwa/anaconda3/lib/python3.6/site-packages/lightgbm/basic.py:762: UserWarning: categorical_feature in param dict is overridden.\n",
      "  warnings.warn('categorical_feature in param dict is overridden.')\n"
     ]
    },
    {
     "name": "stdout",
     "output_type": "stream",
     "text": [
      "Training until validation scores don't improve for 500 rounds.\n",
      "[500]\ttraining's auc: 0.996656\tvalid_1's auc: 0.91707\n",
      "[1000]\ttraining's auc: 0.999955\tvalid_1's auc: 0.924417\n",
      "[1500]\ttraining's auc: 1\tvalid_1's auc: 0.926208\n",
      "[2000]\ttraining's auc: 1\tvalid_1's auc: 0.92644\n",
      "Early stopping, best iteration is:\n",
      "[1654]\ttraining's auc: 1\tvalid_1's auc: 0.926316\n",
      "V119\n"
     ]
    },
    {
     "name": "stderr",
     "output_type": "stream",
     "text": [
      "/home/jinpwa/anaconda3/lib/python3.6/site-packages/lightgbm/basic.py:1205: UserWarning: Using categorical_feature in Dataset.\n",
      "  warnings.warn('Using categorical_feature in Dataset.')\n",
      "/home/jinpwa/anaconda3/lib/python3.6/site-packages/lightgbm/basic.py:762: UserWarning: categorical_feature in param dict is overridden.\n",
      "  warnings.warn('categorical_feature in param dict is overridden.')\n"
     ]
    },
    {
     "name": "stdout",
     "output_type": "stream",
     "text": [
      "Training until validation scores don't improve for 500 rounds.\n",
      "[500]\ttraining's auc: 0.996656\tvalid_1's auc: 0.91707\n",
      "[1000]\ttraining's auc: 0.999955\tvalid_1's auc: 0.924417\n",
      "[1500]\ttraining's auc: 1\tvalid_1's auc: 0.926208\n",
      "[2000]\ttraining's auc: 1\tvalid_1's auc: 0.92644\n",
      "Early stopping, best iteration is:\n",
      "[1654]\ttraining's auc: 1\tvalid_1's auc: 0.926316\n",
      "V120\n"
     ]
    },
    {
     "name": "stderr",
     "output_type": "stream",
     "text": [
      "/home/jinpwa/anaconda3/lib/python3.6/site-packages/lightgbm/basic.py:1205: UserWarning: Using categorical_feature in Dataset.\n",
      "  warnings.warn('Using categorical_feature in Dataset.')\n",
      "/home/jinpwa/anaconda3/lib/python3.6/site-packages/lightgbm/basic.py:762: UserWarning: categorical_feature in param dict is overridden.\n",
      "  warnings.warn('categorical_feature in param dict is overridden.')\n"
     ]
    },
    {
     "name": "stdout",
     "output_type": "stream",
     "text": [
      "Training until validation scores don't improve for 500 rounds.\n",
      "[500]\ttraining's auc: 0.996656\tvalid_1's auc: 0.91707\n",
      "[1000]\ttraining's auc: 0.999955\tvalid_1's auc: 0.924417\n",
      "[1500]\ttraining's auc: 1\tvalid_1's auc: 0.926208\n",
      "[2000]\ttraining's auc: 1\tvalid_1's auc: 0.92644\n",
      "Early stopping, best iteration is:\n",
      "[1654]\ttraining's auc: 1\tvalid_1's auc: 0.926316\n",
      "V121\n"
     ]
    },
    {
     "name": "stderr",
     "output_type": "stream",
     "text": [
      "/home/jinpwa/anaconda3/lib/python3.6/site-packages/lightgbm/basic.py:1205: UserWarning: Using categorical_feature in Dataset.\n",
      "  warnings.warn('Using categorical_feature in Dataset.')\n",
      "/home/jinpwa/anaconda3/lib/python3.6/site-packages/lightgbm/basic.py:762: UserWarning: categorical_feature in param dict is overridden.\n",
      "  warnings.warn('categorical_feature in param dict is overridden.')\n"
     ]
    },
    {
     "name": "stdout",
     "output_type": "stream",
     "text": [
      "Training until validation scores don't improve for 500 rounds.\n",
      "[500]\ttraining's auc: 0.996658\tvalid_1's auc: 0.917307\n",
      "[1000]\ttraining's auc: 0.999955\tvalid_1's auc: 0.924759\n",
      "[1500]\ttraining's auc: 1\tvalid_1's auc: 0.926245\n",
      "[2000]\ttraining's auc: 1\tvalid_1's auc: 0.926588\n",
      "Early stopping, best iteration is:\n",
      "[1632]\ttraining's auc: 1\tvalid_1's auc: 0.926288\n",
      "V122\n"
     ]
    },
    {
     "name": "stderr",
     "output_type": "stream",
     "text": [
      "/home/jinpwa/anaconda3/lib/python3.6/site-packages/lightgbm/basic.py:1205: UserWarning: Using categorical_feature in Dataset.\n",
      "  warnings.warn('Using categorical_feature in Dataset.')\n",
      "/home/jinpwa/anaconda3/lib/python3.6/site-packages/lightgbm/basic.py:762: UserWarning: categorical_feature in param dict is overridden.\n",
      "  warnings.warn('categorical_feature in param dict is overridden.')\n"
     ]
    },
    {
     "name": "stdout",
     "output_type": "stream",
     "text": [
      "Training until validation scores don't improve for 500 rounds.\n",
      "[500]\ttraining's auc: 0.996661\tvalid_1's auc: 0.91713\n",
      "[1000]\ttraining's auc: 0.999954\tvalid_1's auc: 0.925511\n",
      "[1500]\ttraining's auc: 1\tvalid_1's auc: 0.926748\n",
      "[2000]\ttraining's auc: 1\tvalid_1's auc: 0.926817\n",
      "Early stopping, best iteration is:\n",
      "[1638]\ttraining's auc: 1\tvalid_1's auc: 0.927025\n",
      "V123\n"
     ]
    },
    {
     "name": "stderr",
     "output_type": "stream",
     "text": [
      "/home/jinpwa/anaconda3/lib/python3.6/site-packages/lightgbm/basic.py:1205: UserWarning: Using categorical_feature in Dataset.\n",
      "  warnings.warn('Using categorical_feature in Dataset.')\n",
      "/home/jinpwa/anaconda3/lib/python3.6/site-packages/lightgbm/basic.py:762: UserWarning: categorical_feature in param dict is overridden.\n",
      "  warnings.warn('categorical_feature in param dict is overridden.')\n"
     ]
    },
    {
     "name": "stdout",
     "output_type": "stream",
     "text": [
      "Training until validation scores don't improve for 500 rounds.\n",
      "[500]\ttraining's auc: 0.996689\tvalid_1's auc: 0.91755\n",
      "[1000]\ttraining's auc: 0.999956\tvalid_1's auc: 0.925076\n",
      "[1500]\ttraining's auc: 1\tvalid_1's auc: 0.926665\n",
      "[2000]\ttraining's auc: 1\tvalid_1's auc: 0.926851\n",
      "Early stopping, best iteration is:\n",
      "[1600]\ttraining's auc: 1\tvalid_1's auc: 0.926833\n",
      "V124\n"
     ]
    },
    {
     "name": "stderr",
     "output_type": "stream",
     "text": [
      "/home/jinpwa/anaconda3/lib/python3.6/site-packages/lightgbm/basic.py:1205: UserWarning: Using categorical_feature in Dataset.\n",
      "  warnings.warn('Using categorical_feature in Dataset.')\n",
      "/home/jinpwa/anaconda3/lib/python3.6/site-packages/lightgbm/basic.py:762: UserWarning: categorical_feature in param dict is overridden.\n",
      "  warnings.warn('categorical_feature in param dict is overridden.')\n"
     ]
    },
    {
     "name": "stdout",
     "output_type": "stream",
     "text": [
      "Training until validation scores don't improve for 500 rounds.\n",
      "[500]\ttraining's auc: 0.996652\tvalid_1's auc: 0.917264\n",
      "[1000]\ttraining's auc: 0.999954\tvalid_1's auc: 0.925706\n",
      "[1500]\ttraining's auc: 1\tvalid_1's auc: 0.926923\n",
      "[2000]\ttraining's auc: 1\tvalid_1's auc: 0.92702\n",
      "Early stopping, best iteration is:\n",
      "[1653]\ttraining's auc: 1\tvalid_1's auc: 0.92691\n",
      "V125\n"
     ]
    },
    {
     "name": "stderr",
     "output_type": "stream",
     "text": [
      "/home/jinpwa/anaconda3/lib/python3.6/site-packages/lightgbm/basic.py:1205: UserWarning: Using categorical_feature in Dataset.\n",
      "  warnings.warn('Using categorical_feature in Dataset.')\n",
      "/home/jinpwa/anaconda3/lib/python3.6/site-packages/lightgbm/basic.py:762: UserWarning: categorical_feature in param dict is overridden.\n",
      "  warnings.warn('categorical_feature in param dict is overridden.')\n"
     ]
    },
    {
     "name": "stdout",
     "output_type": "stream",
     "text": [
      "Training until validation scores don't improve for 500 rounds.\n",
      "[500]\ttraining's auc: 0.996685\tvalid_1's auc: 0.917604\n",
      "[1000]\ttraining's auc: 0.999956\tvalid_1's auc: 0.925897\n",
      "[1500]\ttraining's auc: 1\tvalid_1's auc: 0.927292\n",
      "[2000]\ttraining's auc: 1\tvalid_1's auc: 0.927451\n",
      "Early stopping, best iteration is:\n",
      "[1642]\ttraining's auc: 1\tvalid_1's auc: 0.927391\n",
      "V126\n"
     ]
    },
    {
     "name": "stderr",
     "output_type": "stream",
     "text": [
      "/home/jinpwa/anaconda3/lib/python3.6/site-packages/lightgbm/basic.py:1205: UserWarning: Using categorical_feature in Dataset.\n",
      "  warnings.warn('Using categorical_feature in Dataset.')\n",
      "/home/jinpwa/anaconda3/lib/python3.6/site-packages/lightgbm/basic.py:762: UserWarning: categorical_feature in param dict is overridden.\n",
      "  warnings.warn('categorical_feature in param dict is overridden.')\n"
     ]
    },
    {
     "name": "stdout",
     "output_type": "stream",
     "text": [
      "Training until validation scores don't improve for 500 rounds.\n",
      "[500]\ttraining's auc: 0.99669\tvalid_1's auc: 0.917876\n",
      "[1000]\ttraining's auc: 0.999954\tvalid_1's auc: 0.925551\n",
      "[1500]\ttraining's auc: 1\tvalid_1's auc: 0.926963\n",
      "[2000]\ttraining's auc: 1\tvalid_1's auc: 0.92715\n",
      "Early stopping, best iteration is:\n",
      "[1653]\ttraining's auc: 1\tvalid_1's auc: 0.927064\n",
      "V127\n"
     ]
    },
    {
     "name": "stderr",
     "output_type": "stream",
     "text": [
      "/home/jinpwa/anaconda3/lib/python3.6/site-packages/lightgbm/basic.py:1205: UserWarning: Using categorical_feature in Dataset.\n",
      "  warnings.warn('Using categorical_feature in Dataset.')\n",
      "/home/jinpwa/anaconda3/lib/python3.6/site-packages/lightgbm/basic.py:762: UserWarning: categorical_feature in param dict is overridden.\n",
      "  warnings.warn('categorical_feature in param dict is overridden.')\n"
     ]
    },
    {
     "name": "stdout",
     "output_type": "stream",
     "text": [
      "Training until validation scores don't improve for 500 rounds.\n",
      "[500]\ttraining's auc: 0.996664\tvalid_1's auc: 0.918024\n",
      "[1000]\ttraining's auc: 0.999955\tvalid_1's auc: 0.925898\n",
      "[1500]\ttraining's auc: 1\tvalid_1's auc: 0.927053\n",
      "[2000]\ttraining's auc: 1\tvalid_1's auc: 0.927302\n",
      "Early stopping, best iteration is:\n",
      "[1633]\ttraining's auc: 1\tvalid_1's auc: 0.927257\n",
      "V128\n"
     ]
    },
    {
     "name": "stderr",
     "output_type": "stream",
     "text": [
      "/home/jinpwa/anaconda3/lib/python3.6/site-packages/lightgbm/basic.py:1205: UserWarning: Using categorical_feature in Dataset.\n",
      "  warnings.warn('Using categorical_feature in Dataset.')\n",
      "/home/jinpwa/anaconda3/lib/python3.6/site-packages/lightgbm/basic.py:762: UserWarning: categorical_feature in param dict is overridden.\n",
      "  warnings.warn('categorical_feature in param dict is overridden.')\n"
     ]
    },
    {
     "name": "stdout",
     "output_type": "stream",
     "text": [
      "Training until validation scores don't improve for 500 rounds.\n",
      "[500]\ttraining's auc: 0.996618\tvalid_1's auc: 0.916791\n",
      "[1000]\ttraining's auc: 0.99995\tvalid_1's auc: 0.924711\n",
      "[1500]\ttraining's auc: 1\tvalid_1's auc: 0.926508\n",
      "[2000]\ttraining's auc: 1\tvalid_1's auc: 0.926378\n",
      "Early stopping, best iteration is:\n",
      "[1559]\ttraining's auc: 1\tvalid_1's auc: 0.926636\n",
      "V129\n"
     ]
    },
    {
     "name": "stderr",
     "output_type": "stream",
     "text": [
      "/home/jinpwa/anaconda3/lib/python3.6/site-packages/lightgbm/basic.py:1205: UserWarning: Using categorical_feature in Dataset.\n",
      "  warnings.warn('Using categorical_feature in Dataset.')\n",
      "/home/jinpwa/anaconda3/lib/python3.6/site-packages/lightgbm/basic.py:762: UserWarning: categorical_feature in param dict is overridden.\n",
      "  warnings.warn('categorical_feature in param dict is overridden.')\n"
     ]
    },
    {
     "name": "stdout",
     "output_type": "stream",
     "text": [
      "Training until validation scores don't improve for 500 rounds.\n",
      "[500]\ttraining's auc: 0.996636\tvalid_1's auc: 0.917864\n",
      "[1000]\ttraining's auc: 0.999955\tvalid_1's auc: 0.926418\n",
      "[1500]\ttraining's auc: 1\tvalid_1's auc: 0.928045\n",
      "[2000]\ttraining's auc: 1\tvalid_1's auc: 0.927925\n",
      "Early stopping, best iteration is:\n",
      "[1525]\ttraining's auc: 1\tvalid_1's auc: 0.928148\n",
      "remove V129 improve auc from 0.927682664957655 to 0.9281482770204038 this feature is endanger\n",
      "V130\n"
     ]
    },
    {
     "name": "stderr",
     "output_type": "stream",
     "text": [
      "/home/jinpwa/anaconda3/lib/python3.6/site-packages/lightgbm/basic.py:1205: UserWarning: Using categorical_feature in Dataset.\n",
      "  warnings.warn('Using categorical_feature in Dataset.')\n",
      "/home/jinpwa/anaconda3/lib/python3.6/site-packages/lightgbm/basic.py:762: UserWarning: categorical_feature in param dict is overridden.\n",
      "  warnings.warn('categorical_feature in param dict is overridden.')\n"
     ]
    },
    {
     "name": "stdout",
     "output_type": "stream",
     "text": [
      "Training until validation scores don't improve for 500 rounds.\n",
      "[500]\ttraining's auc: 0.996606\tvalid_1's auc: 0.917406\n",
      "[1000]\ttraining's auc: 0.999955\tvalid_1's auc: 0.925332\n",
      "[1500]\ttraining's auc: 1\tvalid_1's auc: 0.926869\n",
      "[2000]\ttraining's auc: 1\tvalid_1's auc: 0.927307\n",
      "Early stopping, best iteration is:\n",
      "[1641]\ttraining's auc: 1\tvalid_1's auc: 0.927016\n",
      "V131\n"
     ]
    },
    {
     "name": "stderr",
     "output_type": "stream",
     "text": [
      "/home/jinpwa/anaconda3/lib/python3.6/site-packages/lightgbm/basic.py:1205: UserWarning: Using categorical_feature in Dataset.\n",
      "  warnings.warn('Using categorical_feature in Dataset.')\n",
      "/home/jinpwa/anaconda3/lib/python3.6/site-packages/lightgbm/basic.py:762: UserWarning: categorical_feature in param dict is overridden.\n",
      "  warnings.warn('categorical_feature in param dict is overridden.')\n"
     ]
    },
    {
     "name": "stdout",
     "output_type": "stream",
     "text": [
      "Training until validation scores don't improve for 500 rounds.\n",
      "[500]\ttraining's auc: 0.996647\tvalid_1's auc: 0.916788\n",
      "[1000]\ttraining's auc: 0.999953\tvalid_1's auc: 0.925112\n",
      "[1500]\ttraining's auc: 1\tvalid_1's auc: 0.926141\n",
      "[2000]\ttraining's auc: 1\tvalid_1's auc: 0.926487\n",
      "Early stopping, best iteration is:\n",
      "[1673]\ttraining's auc: 1\tvalid_1's auc: 0.92626\n",
      "V132\n"
     ]
    },
    {
     "name": "stderr",
     "output_type": "stream",
     "text": [
      "/home/jinpwa/anaconda3/lib/python3.6/site-packages/lightgbm/basic.py:1205: UserWarning: Using categorical_feature in Dataset.\n",
      "  warnings.warn('Using categorical_feature in Dataset.')\n",
      "/home/jinpwa/anaconda3/lib/python3.6/site-packages/lightgbm/basic.py:762: UserWarning: categorical_feature in param dict is overridden.\n",
      "  warnings.warn('categorical_feature in param dict is overridden.')\n"
     ]
    },
    {
     "name": "stdout",
     "output_type": "stream",
     "text": [
      "Training until validation scores don't improve for 500 rounds.\n",
      "[500]\ttraining's auc: 0.996673\tvalid_1's auc: 0.917256\n",
      "[1000]\ttraining's auc: 0.999955\tvalid_1's auc: 0.92499\n",
      "[1500]\ttraining's auc: 1\tvalid_1's auc: 0.926716\n",
      "[2000]\ttraining's auc: 1\tvalid_1's auc: 0.926575\n",
      "Early stopping, best iteration is:\n",
      "[1536]\ttraining's auc: 1\tvalid_1's auc: 0.926803\n",
      "V133\n"
     ]
    },
    {
     "name": "stderr",
     "output_type": "stream",
     "text": [
      "/home/jinpwa/anaconda3/lib/python3.6/site-packages/lightgbm/basic.py:1205: UserWarning: Using categorical_feature in Dataset.\n",
      "  warnings.warn('Using categorical_feature in Dataset.')\n",
      "/home/jinpwa/anaconda3/lib/python3.6/site-packages/lightgbm/basic.py:762: UserWarning: categorical_feature in param dict is overridden.\n",
      "  warnings.warn('categorical_feature in param dict is overridden.')\n"
     ]
    },
    {
     "name": "stdout",
     "output_type": "stream",
     "text": [
      "Training until validation scores don't improve for 500 rounds.\n",
      "[500]\ttraining's auc: 0.996731\tvalid_1's auc: 0.917432\n",
      "[1000]\ttraining's auc: 0.999956\tvalid_1's auc: 0.924373\n",
      "[1500]\ttraining's auc: 1\tvalid_1's auc: 0.925382\n",
      "Early stopping, best iteration is:\n",
      "[1447]\ttraining's auc: 1\tvalid_1's auc: 0.925469\n",
      "V134\n"
     ]
    },
    {
     "name": "stderr",
     "output_type": "stream",
     "text": [
      "/home/jinpwa/anaconda3/lib/python3.6/site-packages/lightgbm/basic.py:1205: UserWarning: Using categorical_feature in Dataset.\n",
      "  warnings.warn('Using categorical_feature in Dataset.')\n",
      "/home/jinpwa/anaconda3/lib/python3.6/site-packages/lightgbm/basic.py:762: UserWarning: categorical_feature in param dict is overridden.\n",
      "  warnings.warn('categorical_feature in param dict is overridden.')\n"
     ]
    },
    {
     "name": "stdout",
     "output_type": "stream",
     "text": [
      "Training until validation scores don't improve for 500 rounds.\n",
      "[500]\ttraining's auc: 0.996638\tvalid_1's auc: 0.917523\n",
      "[1000]\ttraining's auc: 0.999954\tvalid_1's auc: 0.925502\n",
      "[1500]\ttraining's auc: 1\tvalid_1's auc: 0.926874\n",
      "[2000]\ttraining's auc: 1\tvalid_1's auc: 0.926919\n",
      "Early stopping, best iteration is:\n",
      "[1652]\ttraining's auc: 1\tvalid_1's auc: 0.926922\n",
      "V135\n"
     ]
    },
    {
     "name": "stderr",
     "output_type": "stream",
     "text": [
      "/home/jinpwa/anaconda3/lib/python3.6/site-packages/lightgbm/basic.py:1205: UserWarning: Using categorical_feature in Dataset.\n",
      "  warnings.warn('Using categorical_feature in Dataset.')\n",
      "/home/jinpwa/anaconda3/lib/python3.6/site-packages/lightgbm/basic.py:762: UserWarning: categorical_feature in param dict is overridden.\n",
      "  warnings.warn('categorical_feature in param dict is overridden.')\n"
     ]
    },
    {
     "name": "stdout",
     "output_type": "stream",
     "text": [
      "Training until validation scores don't improve for 500 rounds.\n",
      "[500]\ttraining's auc: 0.996643\tvalid_1's auc: 0.916996\n",
      "[1000]\ttraining's auc: 0.999955\tvalid_1's auc: 0.924348\n",
      "[1500]\ttraining's auc: 1\tvalid_1's auc: 0.925606\n",
      "[2000]\ttraining's auc: 1\tvalid_1's auc: 0.926067\n",
      "Early stopping, best iteration is:\n",
      "[1647]\ttraining's auc: 1\tvalid_1's auc: 0.92561\n",
      "V136\n"
     ]
    },
    {
     "name": "stderr",
     "output_type": "stream",
     "text": [
      "/home/jinpwa/anaconda3/lib/python3.6/site-packages/lightgbm/basic.py:1205: UserWarning: Using categorical_feature in Dataset.\n",
      "  warnings.warn('Using categorical_feature in Dataset.')\n",
      "/home/jinpwa/anaconda3/lib/python3.6/site-packages/lightgbm/basic.py:762: UserWarning: categorical_feature in param dict is overridden.\n",
      "  warnings.warn('categorical_feature in param dict is overridden.')\n"
     ]
    },
    {
     "name": "stdout",
     "output_type": "stream",
     "text": [
      "Training until validation scores don't improve for 500 rounds.\n",
      "[500]\ttraining's auc: 0.996666\tvalid_1's auc: 0.917155\n",
      "[1000]\ttraining's auc: 0.999955\tvalid_1's auc: 0.925916\n",
      "[1500]\ttraining's auc: 1\tvalid_1's auc: 0.927135\n",
      "[2000]\ttraining's auc: 1\tvalid_1's auc: 0.927084\n",
      "Early stopping, best iteration is:\n",
      "[1590]\ttraining's auc: 1\tvalid_1's auc: 0.927232\n",
      "V137\n"
     ]
    },
    {
     "name": "stderr",
     "output_type": "stream",
     "text": [
      "/home/jinpwa/anaconda3/lib/python3.6/site-packages/lightgbm/basic.py:1205: UserWarning: Using categorical_feature in Dataset.\n",
      "  warnings.warn('Using categorical_feature in Dataset.')\n",
      "/home/jinpwa/anaconda3/lib/python3.6/site-packages/lightgbm/basic.py:762: UserWarning: categorical_feature in param dict is overridden.\n",
      "  warnings.warn('categorical_feature in param dict is overridden.')\n"
     ]
    },
    {
     "name": "stdout",
     "output_type": "stream",
     "text": [
      "Training until validation scores don't improve for 500 rounds.\n",
      "[500]\ttraining's auc: 0.996676\tvalid_1's auc: 0.916883\n",
      "[1000]\ttraining's auc: 0.999955\tvalid_1's auc: 0.925587\n",
      "[1500]\ttraining's auc: 1\tvalid_1's auc: 0.926855\n",
      "[2000]\ttraining's auc: 1\tvalid_1's auc: 0.926902\n",
      "Early stopping, best iteration is:\n",
      "[1641]\ttraining's auc: 1\tvalid_1's auc: 0.926876\n",
      "V138\n"
     ]
    },
    {
     "name": "stderr",
     "output_type": "stream",
     "text": [
      "/home/jinpwa/anaconda3/lib/python3.6/site-packages/lightgbm/basic.py:1205: UserWarning: Using categorical_feature in Dataset.\n",
      "  warnings.warn('Using categorical_feature in Dataset.')\n",
      "/home/jinpwa/anaconda3/lib/python3.6/site-packages/lightgbm/basic.py:762: UserWarning: categorical_feature in param dict is overridden.\n",
      "  warnings.warn('categorical_feature in param dict is overridden.')\n"
     ]
    },
    {
     "name": "stdout",
     "output_type": "stream",
     "text": [
      "Training until validation scores don't improve for 500 rounds.\n",
      "[500]\ttraining's auc: 0.996642\tvalid_1's auc: 0.917325\n",
      "[1000]\ttraining's auc: 0.999954\tvalid_1's auc: 0.925117\n",
      "[1500]\ttraining's auc: 1\tvalid_1's auc: 0.926713\n",
      "[2000]\ttraining's auc: 1\tvalid_1's auc: 0.926636\n",
      "Early stopping, best iteration is:\n",
      "[1651]\ttraining's auc: 1\tvalid_1's auc: 0.926653\n",
      "V139\n"
     ]
    },
    {
     "name": "stderr",
     "output_type": "stream",
     "text": [
      "/home/jinpwa/anaconda3/lib/python3.6/site-packages/lightgbm/basic.py:1205: UserWarning: Using categorical_feature in Dataset.\n",
      "  warnings.warn('Using categorical_feature in Dataset.')\n",
      "/home/jinpwa/anaconda3/lib/python3.6/site-packages/lightgbm/basic.py:762: UserWarning: categorical_feature in param dict is overridden.\n",
      "  warnings.warn('categorical_feature in param dict is overridden.')\n"
     ]
    },
    {
     "name": "stdout",
     "output_type": "stream",
     "text": [
      "Training until validation scores don't improve for 500 rounds.\n",
      "[500]\ttraining's auc: 0.996639\tvalid_1's auc: 0.917637\n",
      "[1000]\ttraining's auc: 0.999953\tvalid_1's auc: 0.925843\n",
      "[1500]\ttraining's auc: 1\tvalid_1's auc: 0.927071\n",
      "[2000]\ttraining's auc: 1\tvalid_1's auc: 0.927415\n",
      "Early stopping, best iteration is:\n",
      "[1646]\ttraining's auc: 1\tvalid_1's auc: 0.927327\n",
      "V140\n"
     ]
    },
    {
     "name": "stderr",
     "output_type": "stream",
     "text": [
      "/home/jinpwa/anaconda3/lib/python3.6/site-packages/lightgbm/basic.py:1205: UserWarning: Using categorical_feature in Dataset.\n",
      "  warnings.warn('Using categorical_feature in Dataset.')\n",
      "/home/jinpwa/anaconda3/lib/python3.6/site-packages/lightgbm/basic.py:762: UserWarning: categorical_feature in param dict is overridden.\n",
      "  warnings.warn('categorical_feature in param dict is overridden.')\n"
     ]
    },
    {
     "name": "stdout",
     "output_type": "stream",
     "text": [
      "Training until validation scores don't improve for 500 rounds.\n",
      "[500]\ttraining's auc: 0.996671\tvalid_1's auc: 0.91748\n",
      "[1000]\ttraining's auc: 0.999957\tvalid_1's auc: 0.925169\n",
      "[1500]\ttraining's auc: 1\tvalid_1's auc: 0.926857\n",
      "[2000]\ttraining's auc: 1\tvalid_1's auc: 0.926898\n",
      "Early stopping, best iteration is:\n",
      "[1609]\ttraining's auc: 1\tvalid_1's auc: 0.927067\n",
      "V141\n"
     ]
    },
    {
     "name": "stderr",
     "output_type": "stream",
     "text": [
      "/home/jinpwa/anaconda3/lib/python3.6/site-packages/lightgbm/basic.py:1205: UserWarning: Using categorical_feature in Dataset.\n",
      "  warnings.warn('Using categorical_feature in Dataset.')\n",
      "/home/jinpwa/anaconda3/lib/python3.6/site-packages/lightgbm/basic.py:762: UserWarning: categorical_feature in param dict is overridden.\n",
      "  warnings.warn('categorical_feature in param dict is overridden.')\n"
     ]
    },
    {
     "name": "stdout",
     "output_type": "stream",
     "text": [
      "Training until validation scores don't improve for 500 rounds.\n",
      "[500]\ttraining's auc: 0.996666\tvalid_1's auc: 0.917389\n",
      "[1000]\ttraining's auc: 0.999956\tvalid_1's auc: 0.9261\n",
      "[1500]\ttraining's auc: 1\tvalid_1's auc: 0.927327\n",
      "[2000]\ttraining's auc: 1\tvalid_1's auc: 0.92754\n",
      "Early stopping, best iteration is:\n",
      "[1619]\ttraining's auc: 1\tvalid_1's auc: 0.927426\n",
      "V142\n"
     ]
    },
    {
     "name": "stderr",
     "output_type": "stream",
     "text": [
      "/home/jinpwa/anaconda3/lib/python3.6/site-packages/lightgbm/basic.py:1205: UserWarning: Using categorical_feature in Dataset.\n",
      "  warnings.warn('Using categorical_feature in Dataset.')\n",
      "/home/jinpwa/anaconda3/lib/python3.6/site-packages/lightgbm/basic.py:762: UserWarning: categorical_feature in param dict is overridden.\n",
      "  warnings.warn('categorical_feature in param dict is overridden.')\n"
     ]
    },
    {
     "name": "stdout",
     "output_type": "stream",
     "text": [
      "Training until validation scores don't improve for 500 rounds.\n",
      "[500]\ttraining's auc: 0.996643\tvalid_1's auc: 0.917048\n",
      "[1000]\ttraining's auc: 0.999956\tvalid_1's auc: 0.925194\n",
      "[1500]\ttraining's auc: 1\tvalid_1's auc: 0.926606\n",
      "[2000]\ttraining's auc: 1\tvalid_1's auc: 0.926908\n",
      "Early stopping, best iteration is:\n",
      "[1627]\ttraining's auc: 1\tvalid_1's auc: 0.926847\n",
      "V143\n"
     ]
    },
    {
     "name": "stderr",
     "output_type": "stream",
     "text": [
      "/home/jinpwa/anaconda3/lib/python3.6/site-packages/lightgbm/basic.py:1205: UserWarning: Using categorical_feature in Dataset.\n",
      "  warnings.warn('Using categorical_feature in Dataset.')\n",
      "/home/jinpwa/anaconda3/lib/python3.6/site-packages/lightgbm/basic.py:762: UserWarning: categorical_feature in param dict is overridden.\n",
      "  warnings.warn('categorical_feature in param dict is overridden.')\n"
     ]
    },
    {
     "name": "stdout",
     "output_type": "stream",
     "text": [
      "Training until validation scores don't improve for 500 rounds.\n",
      "[500]\ttraining's auc: 0.996661\tvalid_1's auc: 0.917277\n",
      "[1000]\ttraining's auc: 0.999957\tvalid_1's auc: 0.925095\n",
      "[1500]\ttraining's auc: 1\tvalid_1's auc: 0.926079\n",
      "[2000]\ttraining's auc: 1\tvalid_1's auc: 0.926325\n",
      "Early stopping, best iteration is:\n",
      "[1619]\ttraining's auc: 1\tvalid_1's auc: 0.926375\n",
      "V144\n"
     ]
    },
    {
     "name": "stderr",
     "output_type": "stream",
     "text": [
      "/home/jinpwa/anaconda3/lib/python3.6/site-packages/lightgbm/basic.py:1205: UserWarning: Using categorical_feature in Dataset.\n",
      "  warnings.warn('Using categorical_feature in Dataset.')\n",
      "/home/jinpwa/anaconda3/lib/python3.6/site-packages/lightgbm/basic.py:762: UserWarning: categorical_feature in param dict is overridden.\n",
      "  warnings.warn('categorical_feature in param dict is overridden.')\n"
     ]
    },
    {
     "name": "stdout",
     "output_type": "stream",
     "text": [
      "Training until validation scores don't improve for 500 rounds.\n",
      "[500]\ttraining's auc: 0.9966\tvalid_1's auc: 0.917414\n",
      "[1000]\ttraining's auc: 0.999956\tvalid_1's auc: 0.925514\n",
      "[1500]\ttraining's auc: 1\tvalid_1's auc: 0.926963\n",
      "[2000]\ttraining's auc: 1\tvalid_1's auc: 0.926969\n",
      "Early stopping, best iteration is:\n",
      "[1641]\ttraining's auc: 1\tvalid_1's auc: 0.927037\n",
      "V145\n"
     ]
    },
    {
     "name": "stderr",
     "output_type": "stream",
     "text": [
      "/home/jinpwa/anaconda3/lib/python3.6/site-packages/lightgbm/basic.py:1205: UserWarning: Using categorical_feature in Dataset.\n",
      "  warnings.warn('Using categorical_feature in Dataset.')\n",
      "/home/jinpwa/anaconda3/lib/python3.6/site-packages/lightgbm/basic.py:762: UserWarning: categorical_feature in param dict is overridden.\n",
      "  warnings.warn('categorical_feature in param dict is overridden.')\n"
     ]
    },
    {
     "name": "stdout",
     "output_type": "stream",
     "text": [
      "Training until validation scores don't improve for 500 rounds.\n",
      "[500]\ttraining's auc: 0.996596\tvalid_1's auc: 0.917757\n",
      "[1000]\ttraining's auc: 0.999955\tvalid_1's auc: 0.925981\n",
      "[1500]\ttraining's auc: 1\tvalid_1's auc: 0.927455\n",
      "[2000]\ttraining's auc: 1\tvalid_1's auc: 0.927575\n",
      "Early stopping, best iteration is:\n",
      "[1627]\ttraining's auc: 1\tvalid_1's auc: 0.927503\n",
      "V146\n"
     ]
    },
    {
     "name": "stderr",
     "output_type": "stream",
     "text": [
      "/home/jinpwa/anaconda3/lib/python3.6/site-packages/lightgbm/basic.py:1205: UserWarning: Using categorical_feature in Dataset.\n",
      "  warnings.warn('Using categorical_feature in Dataset.')\n",
      "/home/jinpwa/anaconda3/lib/python3.6/site-packages/lightgbm/basic.py:762: UserWarning: categorical_feature in param dict is overridden.\n",
      "  warnings.warn('categorical_feature in param dict is overridden.')\n"
     ]
    },
    {
     "name": "stdout",
     "output_type": "stream",
     "text": [
      "Training until validation scores don't improve for 500 rounds.\n",
      "[500]\ttraining's auc: 0.996621\tvalid_1's auc: 0.917377\n",
      "[1000]\ttraining's auc: 0.999955\tvalid_1's auc: 0.925732\n",
      "[1500]\ttraining's auc: 1\tvalid_1's auc: 0.926714\n",
      "[2000]\ttraining's auc: 1\tvalid_1's auc: 0.926486\n",
      "Early stopping, best iteration is:\n",
      "[1565]\ttraining's auc: 1\tvalid_1's auc: 0.926902\n",
      "V147\n"
     ]
    },
    {
     "name": "stderr",
     "output_type": "stream",
     "text": [
      "/home/jinpwa/anaconda3/lib/python3.6/site-packages/lightgbm/basic.py:1205: UserWarning: Using categorical_feature in Dataset.\n",
      "  warnings.warn('Using categorical_feature in Dataset.')\n",
      "/home/jinpwa/anaconda3/lib/python3.6/site-packages/lightgbm/basic.py:762: UserWarning: categorical_feature in param dict is overridden.\n",
      "  warnings.warn('categorical_feature in param dict is overridden.')\n"
     ]
    },
    {
     "name": "stdout",
     "output_type": "stream",
     "text": [
      "Training until validation scores don't improve for 500 rounds.\n",
      "[500]\ttraining's auc: 0.996629\tvalid_1's auc: 0.916935\n",
      "[1000]\ttraining's auc: 0.999953\tvalid_1's auc: 0.925166\n",
      "[1500]\ttraining's auc: 1\tvalid_1's auc: 0.926582\n",
      "[2000]\ttraining's auc: 1\tvalid_1's auc: 0.926871\n",
      "Early stopping, best iteration is:\n",
      "[1656]\ttraining's auc: 1\tvalid_1's auc: 0.926693\n",
      "V148\n"
     ]
    },
    {
     "name": "stderr",
     "output_type": "stream",
     "text": [
      "/home/jinpwa/anaconda3/lib/python3.6/site-packages/lightgbm/basic.py:1205: UserWarning: Using categorical_feature in Dataset.\n",
      "  warnings.warn('Using categorical_feature in Dataset.')\n",
      "/home/jinpwa/anaconda3/lib/python3.6/site-packages/lightgbm/basic.py:762: UserWarning: categorical_feature in param dict is overridden.\n",
      "  warnings.warn('categorical_feature in param dict is overridden.')\n"
     ]
    },
    {
     "name": "stdout",
     "output_type": "stream",
     "text": [
      "Training until validation scores don't improve for 500 rounds.\n",
      "[500]\ttraining's auc: 0.996655\tvalid_1's auc: 0.91724\n",
      "[1000]\ttraining's auc: 0.999956\tvalid_1's auc: 0.924859\n",
      "[1500]\ttraining's auc: 1\tvalid_1's auc: 0.926059\n",
      "[2000]\ttraining's auc: 1\tvalid_1's auc: 0.926125\n",
      "Early stopping, best iteration is:\n",
      "[1604]\ttraining's auc: 1\tvalid_1's auc: 0.926208\n",
      "V149\n"
     ]
    },
    {
     "name": "stderr",
     "output_type": "stream",
     "text": [
      "/home/jinpwa/anaconda3/lib/python3.6/site-packages/lightgbm/basic.py:1205: UserWarning: Using categorical_feature in Dataset.\n",
      "  warnings.warn('Using categorical_feature in Dataset.')\n",
      "/home/jinpwa/anaconda3/lib/python3.6/site-packages/lightgbm/basic.py:762: UserWarning: categorical_feature in param dict is overridden.\n",
      "  warnings.warn('categorical_feature in param dict is overridden.')\n"
     ]
    },
    {
     "name": "stdout",
     "output_type": "stream",
     "text": [
      "Training until validation scores don't improve for 500 rounds.\n",
      "[500]\ttraining's auc: 0.996662\tvalid_1's auc: 0.917103\n",
      "[1000]\ttraining's auc: 0.999957\tvalid_1's auc: 0.925668\n",
      "[1500]\ttraining's auc: 1\tvalid_1's auc: 0.926946\n",
      "[2000]\ttraining's auc: 1\tvalid_1's auc: 0.92714\n",
      "Early stopping, best iteration is:\n",
      "[1621]\ttraining's auc: 1\tvalid_1's auc: 0.927092\n",
      "V150\n"
     ]
    },
    {
     "name": "stderr",
     "output_type": "stream",
     "text": [
      "/home/jinpwa/anaconda3/lib/python3.6/site-packages/lightgbm/basic.py:1205: UserWarning: Using categorical_feature in Dataset.\n",
      "  warnings.warn('Using categorical_feature in Dataset.')\n",
      "/home/jinpwa/anaconda3/lib/python3.6/site-packages/lightgbm/basic.py:762: UserWarning: categorical_feature in param dict is overridden.\n",
      "  warnings.warn('categorical_feature in param dict is overridden.')\n"
     ]
    },
    {
     "name": "stdout",
     "output_type": "stream",
     "text": [
      "Training until validation scores don't improve for 500 rounds.\n",
      "[500]\ttraining's auc: 0.996659\tvalid_1's auc: 0.917051\n",
      "[1000]\ttraining's auc: 0.999955\tvalid_1's auc: 0.925808\n",
      "[1500]\ttraining's auc: 1\tvalid_1's auc: 0.92712\n",
      "[2000]\ttraining's auc: 1\tvalid_1's auc: 0.92715\n",
      "Early stopping, best iteration is:\n",
      "[1623]\ttraining's auc: 1\tvalid_1's auc: 0.92732\n",
      "V151\n"
     ]
    },
    {
     "name": "stderr",
     "output_type": "stream",
     "text": [
      "/home/jinpwa/anaconda3/lib/python3.6/site-packages/lightgbm/basic.py:1205: UserWarning: Using categorical_feature in Dataset.\n",
      "  warnings.warn('Using categorical_feature in Dataset.')\n",
      "/home/jinpwa/anaconda3/lib/python3.6/site-packages/lightgbm/basic.py:762: UserWarning: categorical_feature in param dict is overridden.\n",
      "  warnings.warn('categorical_feature in param dict is overridden.')\n"
     ]
    },
    {
     "name": "stdout",
     "output_type": "stream",
     "text": [
      "Training until validation scores don't improve for 500 rounds.\n",
      "[500]\ttraining's auc: 0.996634\tvalid_1's auc: 0.917257\n",
      "[1000]\ttraining's auc: 0.999954\tvalid_1's auc: 0.925216\n",
      "[1500]\ttraining's auc: 1\tvalid_1's auc: 0.92641\n",
      "[2000]\ttraining's auc: 1\tvalid_1's auc: 0.926882\n",
      "Early stopping, best iteration is:\n",
      "[1653]\ttraining's auc: 1\tvalid_1's auc: 0.926625\n",
      "V152\n"
     ]
    },
    {
     "name": "stderr",
     "output_type": "stream",
     "text": [
      "/home/jinpwa/anaconda3/lib/python3.6/site-packages/lightgbm/basic.py:1205: UserWarning: Using categorical_feature in Dataset.\n",
      "  warnings.warn('Using categorical_feature in Dataset.')\n",
      "/home/jinpwa/anaconda3/lib/python3.6/site-packages/lightgbm/basic.py:762: UserWarning: categorical_feature in param dict is overridden.\n",
      "  warnings.warn('categorical_feature in param dict is overridden.')\n"
     ]
    },
    {
     "name": "stdout",
     "output_type": "stream",
     "text": [
      "Training until validation scores don't improve for 500 rounds.\n",
      "[500]\ttraining's auc: 0.99665\tvalid_1's auc: 0.916408\n",
      "[1000]\ttraining's auc: 0.999955\tvalid_1's auc: 0.924363\n",
      "[1500]\ttraining's auc: 1\tvalid_1's auc: 0.926101\n",
      "[2000]\ttraining's auc: 1\tvalid_1's auc: 0.926634\n",
      "Early stopping, best iteration is:\n",
      "[1622]\ttraining's auc: 1\tvalid_1's auc: 0.926264\n",
      "V153\n"
     ]
    },
    {
     "name": "stderr",
     "output_type": "stream",
     "text": [
      "/home/jinpwa/anaconda3/lib/python3.6/site-packages/lightgbm/basic.py:1205: UserWarning: Using categorical_feature in Dataset.\n",
      "  warnings.warn('Using categorical_feature in Dataset.')\n",
      "/home/jinpwa/anaconda3/lib/python3.6/site-packages/lightgbm/basic.py:762: UserWarning: categorical_feature in param dict is overridden.\n",
      "  warnings.warn('categorical_feature in param dict is overridden.')\n"
     ]
    },
    {
     "name": "stdout",
     "output_type": "stream",
     "text": [
      "Training until validation scores don't improve for 500 rounds.\n",
      "[500]\ttraining's auc: 0.996681\tvalid_1's auc: 0.916703\n",
      "[1000]\ttraining's auc: 0.999955\tvalid_1's auc: 0.925006\n",
      "[1500]\ttraining's auc: 1\tvalid_1's auc: 0.926512\n",
      "[2000]\ttraining's auc: 1\tvalid_1's auc: 0.92653\n",
      "Early stopping, best iteration is:\n",
      "[1625]\ttraining's auc: 1\tvalid_1's auc: 0.926453\n",
      "V154\n"
     ]
    },
    {
     "name": "stderr",
     "output_type": "stream",
     "text": [
      "/home/jinpwa/anaconda3/lib/python3.6/site-packages/lightgbm/basic.py:1205: UserWarning: Using categorical_feature in Dataset.\n",
      "  warnings.warn('Using categorical_feature in Dataset.')\n",
      "/home/jinpwa/anaconda3/lib/python3.6/site-packages/lightgbm/basic.py:762: UserWarning: categorical_feature in param dict is overridden.\n",
      "  warnings.warn('categorical_feature in param dict is overridden.')\n"
     ]
    },
    {
     "name": "stdout",
     "output_type": "stream",
     "text": [
      "Training until validation scores don't improve for 500 rounds.\n",
      "[500]\ttraining's auc: 0.996659\tvalid_1's auc: 0.917473\n",
      "[1000]\ttraining's auc: 0.999954\tvalid_1's auc: 0.925604\n",
      "[1500]\ttraining's auc: 1\tvalid_1's auc: 0.926557\n",
      "[2000]\ttraining's auc: 1\tvalid_1's auc: 0.926697\n",
      "Early stopping, best iteration is:\n",
      "[1650]\ttraining's auc: 1\tvalid_1's auc: 0.926624\n",
      "V155\n"
     ]
    },
    {
     "name": "stderr",
     "output_type": "stream",
     "text": [
      "/home/jinpwa/anaconda3/lib/python3.6/site-packages/lightgbm/basic.py:1205: UserWarning: Using categorical_feature in Dataset.\n",
      "  warnings.warn('Using categorical_feature in Dataset.')\n",
      "/home/jinpwa/anaconda3/lib/python3.6/site-packages/lightgbm/basic.py:762: UserWarning: categorical_feature in param dict is overridden.\n",
      "  warnings.warn('categorical_feature in param dict is overridden.')\n"
     ]
    },
    {
     "name": "stdout",
     "output_type": "stream",
     "text": [
      "Training until validation scores don't improve for 500 rounds.\n",
      "[500]\ttraining's auc: 0.996702\tvalid_1's auc: 0.917543\n",
      "[1000]\ttraining's auc: 0.999955\tvalid_1's auc: 0.926074\n",
      "[1500]\ttraining's auc: 1\tvalid_1's auc: 0.92735\n",
      "Early stopping, best iteration is:\n",
      "[1492]\ttraining's auc: 1\tvalid_1's auc: 0.927374\n",
      "V156\n"
     ]
    },
    {
     "name": "stderr",
     "output_type": "stream",
     "text": [
      "/home/jinpwa/anaconda3/lib/python3.6/site-packages/lightgbm/basic.py:1205: UserWarning: Using categorical_feature in Dataset.\n",
      "  warnings.warn('Using categorical_feature in Dataset.')\n",
      "/home/jinpwa/anaconda3/lib/python3.6/site-packages/lightgbm/basic.py:762: UserWarning: categorical_feature in param dict is overridden.\n",
      "  warnings.warn('categorical_feature in param dict is overridden.')\n"
     ]
    },
    {
     "name": "stdout",
     "output_type": "stream",
     "text": [
      "Training until validation scores don't improve for 500 rounds.\n",
      "[500]\ttraining's auc: 0.996633\tvalid_1's auc: 0.917404\n",
      "[1000]\ttraining's auc: 0.999953\tvalid_1's auc: 0.9245\n",
      "[1500]\ttraining's auc: 1\tvalid_1's auc: 0.925931\n",
      "[2000]\ttraining's auc: 1\tvalid_1's auc: 0.92628\n",
      "Early stopping, best iteration is:\n",
      "[1621]\ttraining's auc: 1\tvalid_1's auc: 0.926054\n",
      "V157\n"
     ]
    },
    {
     "name": "stderr",
     "output_type": "stream",
     "text": [
      "/home/jinpwa/anaconda3/lib/python3.6/site-packages/lightgbm/basic.py:1205: UserWarning: Using categorical_feature in Dataset.\n",
      "  warnings.warn('Using categorical_feature in Dataset.')\n",
      "/home/jinpwa/anaconda3/lib/python3.6/site-packages/lightgbm/basic.py:762: UserWarning: categorical_feature in param dict is overridden.\n",
      "  warnings.warn('categorical_feature in param dict is overridden.')\n"
     ]
    },
    {
     "name": "stdout",
     "output_type": "stream",
     "text": [
      "Training until validation scores don't improve for 500 rounds.\n",
      "[500]\ttraining's auc: 0.996686\tvalid_1's auc: 0.917074\n",
      "[1000]\ttraining's auc: 0.999955\tvalid_1's auc: 0.925308\n",
      "[1500]\ttraining's auc: 1\tvalid_1's auc: 0.926536\n",
      "[2000]\ttraining's auc: 1\tvalid_1's auc: 0.926886\n",
      "Early stopping, best iteration is:\n",
      "[1630]\ttraining's auc: 1\tvalid_1's auc: 0.926604\n",
      "V158\n"
     ]
    },
    {
     "name": "stderr",
     "output_type": "stream",
     "text": [
      "/home/jinpwa/anaconda3/lib/python3.6/site-packages/lightgbm/basic.py:1205: UserWarning: Using categorical_feature in Dataset.\n",
      "  warnings.warn('Using categorical_feature in Dataset.')\n",
      "/home/jinpwa/anaconda3/lib/python3.6/site-packages/lightgbm/basic.py:762: UserWarning: categorical_feature in param dict is overridden.\n",
      "  warnings.warn('categorical_feature in param dict is overridden.')\n"
     ]
    },
    {
     "name": "stdout",
     "output_type": "stream",
     "text": [
      "Training until validation scores don't improve for 500 rounds.\n",
      "[500]\ttraining's auc: 0.99666\tvalid_1's auc: 0.917706\n",
      "[1000]\ttraining's auc: 0.999955\tvalid_1's auc: 0.925298\n",
      "[1500]\ttraining's auc: 1\tvalid_1's auc: 0.926511\n",
      "[2000]\ttraining's auc: 1\tvalid_1's auc: 0.926737\n",
      "Early stopping, best iteration is:\n",
      "[1644]\ttraining's auc: 1\tvalid_1's auc: 0.926679\n",
      "V159\n"
     ]
    },
    {
     "name": "stderr",
     "output_type": "stream",
     "text": [
      "/home/jinpwa/anaconda3/lib/python3.6/site-packages/lightgbm/basic.py:1205: UserWarning: Using categorical_feature in Dataset.\n",
      "  warnings.warn('Using categorical_feature in Dataset.')\n",
      "/home/jinpwa/anaconda3/lib/python3.6/site-packages/lightgbm/basic.py:762: UserWarning: categorical_feature in param dict is overridden.\n",
      "  warnings.warn('categorical_feature in param dict is overridden.')\n"
     ]
    },
    {
     "name": "stdout",
     "output_type": "stream",
     "text": [
      "Training until validation scores don't improve for 500 rounds.\n",
      "[500]\ttraining's auc: 0.996612\tvalid_1's auc: 0.917026\n",
      "[1000]\ttraining's auc: 0.999954\tvalid_1's auc: 0.924455\n",
      "[1500]\ttraining's auc: 1\tvalid_1's auc: 0.926087\n",
      "[2000]\ttraining's auc: 1\tvalid_1's auc: 0.926112\n",
      "Early stopping, best iteration is:\n",
      "[1550]\ttraining's auc: 1\tvalid_1's auc: 0.926213\n",
      "V160\n"
     ]
    },
    {
     "name": "stderr",
     "output_type": "stream",
     "text": [
      "/home/jinpwa/anaconda3/lib/python3.6/site-packages/lightgbm/basic.py:1205: UserWarning: Using categorical_feature in Dataset.\n",
      "  warnings.warn('Using categorical_feature in Dataset.')\n",
      "/home/jinpwa/anaconda3/lib/python3.6/site-packages/lightgbm/basic.py:762: UserWarning: categorical_feature in param dict is overridden.\n",
      "  warnings.warn('categorical_feature in param dict is overridden.')\n"
     ]
    },
    {
     "name": "stdout",
     "output_type": "stream",
     "text": [
      "Training until validation scores don't improve for 500 rounds.\n",
      "[500]\ttraining's auc: 0.996691\tvalid_1's auc: 0.917184\n",
      "[1000]\ttraining's auc: 0.999955\tvalid_1's auc: 0.924402\n",
      "[1500]\ttraining's auc: 1\tvalid_1's auc: 0.925798\n",
      "[2000]\ttraining's auc: 1\tvalid_1's auc: 0.925872\n",
      "Early stopping, best iteration is:\n",
      "[1630]\ttraining's auc: 1\tvalid_1's auc: 0.925782\n",
      "V161\n"
     ]
    },
    {
     "name": "stderr",
     "output_type": "stream",
     "text": [
      "/home/jinpwa/anaconda3/lib/python3.6/site-packages/lightgbm/basic.py:1205: UserWarning: Using categorical_feature in Dataset.\n",
      "  warnings.warn('Using categorical_feature in Dataset.')\n",
      "/home/jinpwa/anaconda3/lib/python3.6/site-packages/lightgbm/basic.py:762: UserWarning: categorical_feature in param dict is overridden.\n",
      "  warnings.warn('categorical_feature in param dict is overridden.')\n"
     ]
    },
    {
     "name": "stdout",
     "output_type": "stream",
     "text": [
      "Training until validation scores don't improve for 500 rounds.\n",
      "[500]\ttraining's auc: 0.996633\tvalid_1's auc: 0.917077\n",
      "[1000]\ttraining's auc: 0.999954\tvalid_1's auc: 0.925166\n",
      "[1500]\ttraining's auc: 1\tvalid_1's auc: 0.926799\n",
      "[2000]\ttraining's auc: 1\tvalid_1's auc: 0.926839\n",
      "Early stopping, best iteration is:\n",
      "[1630]\ttraining's auc: 1\tvalid_1's auc: 0.926783\n",
      "V162\n"
     ]
    },
    {
     "name": "stderr",
     "output_type": "stream",
     "text": [
      "/home/jinpwa/anaconda3/lib/python3.6/site-packages/lightgbm/basic.py:1205: UserWarning: Using categorical_feature in Dataset.\n",
      "  warnings.warn('Using categorical_feature in Dataset.')\n",
      "/home/jinpwa/anaconda3/lib/python3.6/site-packages/lightgbm/basic.py:762: UserWarning: categorical_feature in param dict is overridden.\n",
      "  warnings.warn('categorical_feature in param dict is overridden.')\n"
     ]
    },
    {
     "name": "stdout",
     "output_type": "stream",
     "text": [
      "Training until validation scores don't improve for 500 rounds.\n",
      "[500]\ttraining's auc: 0.99668\tvalid_1's auc: 0.917405\n",
      "[1000]\ttraining's auc: 0.999955\tvalid_1's auc: 0.92524\n",
      "[1500]\ttraining's auc: 1\tvalid_1's auc: 0.926932\n",
      "[2000]\ttraining's auc: 1\tvalid_1's auc: 0.927098\n",
      "Early stopping, best iteration is:\n",
      "[1605]\ttraining's auc: 1\tvalid_1's auc: 0.926991\n",
      "V163\n"
     ]
    },
    {
     "name": "stderr",
     "output_type": "stream",
     "text": [
      "/home/jinpwa/anaconda3/lib/python3.6/site-packages/lightgbm/basic.py:1205: UserWarning: Using categorical_feature in Dataset.\n",
      "  warnings.warn('Using categorical_feature in Dataset.')\n",
      "/home/jinpwa/anaconda3/lib/python3.6/site-packages/lightgbm/basic.py:762: UserWarning: categorical_feature in param dict is overridden.\n",
      "  warnings.warn('categorical_feature in param dict is overridden.')\n"
     ]
    },
    {
     "name": "stdout",
     "output_type": "stream",
     "text": [
      "Training until validation scores don't improve for 500 rounds.\n",
      "[500]\ttraining's auc: 0.996638\tvalid_1's auc: 0.916758\n",
      "[1000]\ttraining's auc: 0.999953\tvalid_1's auc: 0.925269\n",
      "[1500]\ttraining's auc: 1\tvalid_1's auc: 0.926733\n",
      "[2000]\ttraining's auc: 1\tvalid_1's auc: 0.926781\n",
      "Early stopping, best iteration is:\n",
      "[1615]\ttraining's auc: 1\tvalid_1's auc: 0.926879\n",
      "V164\n"
     ]
    },
    {
     "name": "stderr",
     "output_type": "stream",
     "text": [
      "/home/jinpwa/anaconda3/lib/python3.6/site-packages/lightgbm/basic.py:1205: UserWarning: Using categorical_feature in Dataset.\n",
      "  warnings.warn('Using categorical_feature in Dataset.')\n",
      "/home/jinpwa/anaconda3/lib/python3.6/site-packages/lightgbm/basic.py:762: UserWarning: categorical_feature in param dict is overridden.\n",
      "  warnings.warn('categorical_feature in param dict is overridden.')\n"
     ]
    },
    {
     "name": "stdout",
     "output_type": "stream",
     "text": [
      "Training until validation scores don't improve for 500 rounds.\n",
      "[500]\ttraining's auc: 0.996673\tvalid_1's auc: 0.916903\n",
      "[1000]\ttraining's auc: 0.999955\tvalid_1's auc: 0.924541\n",
      "[1500]\ttraining's auc: 1\tvalid_1's auc: 0.926291\n",
      "[2000]\ttraining's auc: 1\tvalid_1's auc: 0.926345\n",
      "Early stopping, best iteration is:\n",
      "[1634]\ttraining's auc: 1\tvalid_1's auc: 0.926287\n",
      "V165\n"
     ]
    },
    {
     "name": "stderr",
     "output_type": "stream",
     "text": [
      "/home/jinpwa/anaconda3/lib/python3.6/site-packages/lightgbm/basic.py:1205: UserWarning: Using categorical_feature in Dataset.\n",
      "  warnings.warn('Using categorical_feature in Dataset.')\n",
      "/home/jinpwa/anaconda3/lib/python3.6/site-packages/lightgbm/basic.py:762: UserWarning: categorical_feature in param dict is overridden.\n",
      "  warnings.warn('categorical_feature in param dict is overridden.')\n"
     ]
    },
    {
     "name": "stdout",
     "output_type": "stream",
     "text": [
      "Training until validation scores don't improve for 500 rounds.\n",
      "[500]\ttraining's auc: 0.996644\tvalid_1's auc: 0.917778\n",
      "[1000]\ttraining's auc: 0.999955\tvalid_1's auc: 0.92539\n",
      "[1500]\ttraining's auc: 1\tvalid_1's auc: 0.926555\n",
      "[2000]\ttraining's auc: 1\tvalid_1's auc: 0.92677\n",
      "Early stopping, best iteration is:\n",
      "[1634]\ttraining's auc: 1\tvalid_1's auc: 0.926677\n",
      "V166\n"
     ]
    },
    {
     "name": "stderr",
     "output_type": "stream",
     "text": [
      "/home/jinpwa/anaconda3/lib/python3.6/site-packages/lightgbm/basic.py:1205: UserWarning: Using categorical_feature in Dataset.\n",
      "  warnings.warn('Using categorical_feature in Dataset.')\n",
      "/home/jinpwa/anaconda3/lib/python3.6/site-packages/lightgbm/basic.py:762: UserWarning: categorical_feature in param dict is overridden.\n",
      "  warnings.warn('categorical_feature in param dict is overridden.')\n"
     ]
    },
    {
     "name": "stdout",
     "output_type": "stream",
     "text": [
      "Training until validation scores don't improve for 500 rounds.\n",
      "[500]\ttraining's auc: 0.996644\tvalid_1's auc: 0.917335\n",
      "[1000]\ttraining's auc: 0.999954\tvalid_1's auc: 0.92516\n",
      "[1500]\ttraining's auc: 1\tvalid_1's auc: 0.926812\n",
      "[2000]\ttraining's auc: 1\tvalid_1's auc: 0.926728\n",
      "Early stopping, best iteration is:\n",
      "[1645]\ttraining's auc: 1\tvalid_1's auc: 0.926897\n",
      "V167\n"
     ]
    },
    {
     "name": "stderr",
     "output_type": "stream",
     "text": [
      "/home/jinpwa/anaconda3/lib/python3.6/site-packages/lightgbm/basic.py:1205: UserWarning: Using categorical_feature in Dataset.\n",
      "  warnings.warn('Using categorical_feature in Dataset.')\n",
      "/home/jinpwa/anaconda3/lib/python3.6/site-packages/lightgbm/basic.py:762: UserWarning: categorical_feature in param dict is overridden.\n",
      "  warnings.warn('categorical_feature in param dict is overridden.')\n"
     ]
    },
    {
     "name": "stdout",
     "output_type": "stream",
     "text": [
      "Training until validation scores don't improve for 500 rounds.\n",
      "[500]\ttraining's auc: 0.996709\tvalid_1's auc: 0.917195\n",
      "[1000]\ttraining's auc: 0.999954\tvalid_1's auc: 0.925442\n",
      "[1500]\ttraining's auc: 1\tvalid_1's auc: 0.926932\n",
      "[2000]\ttraining's auc: 1\tvalid_1's auc: 0.927244\n",
      "Early stopping, best iteration is:\n",
      "[1658]\ttraining's auc: 1\tvalid_1's auc: 0.927177\n",
      "V168\n"
     ]
    },
    {
     "name": "stderr",
     "output_type": "stream",
     "text": [
      "/home/jinpwa/anaconda3/lib/python3.6/site-packages/lightgbm/basic.py:1205: UserWarning: Using categorical_feature in Dataset.\n",
      "  warnings.warn('Using categorical_feature in Dataset.')\n",
      "/home/jinpwa/anaconda3/lib/python3.6/site-packages/lightgbm/basic.py:762: UserWarning: categorical_feature in param dict is overridden.\n",
      "  warnings.warn('categorical_feature in param dict is overridden.')\n"
     ]
    },
    {
     "name": "stdout",
     "output_type": "stream",
     "text": [
      "Training until validation scores don't improve for 500 rounds.\n",
      "[500]\ttraining's auc: 0.996675\tvalid_1's auc: 0.917273\n",
      "[1000]\ttraining's auc: 0.999955\tvalid_1's auc: 0.925236\n",
      "[1500]\ttraining's auc: 1\tvalid_1's auc: 0.926828\n",
      "[2000]\ttraining's auc: 1\tvalid_1's auc: 0.926715\n",
      "Early stopping, best iteration is:\n",
      "[1641]\ttraining's auc: 1\tvalid_1's auc: 0.926964\n",
      "V169\n"
     ]
    },
    {
     "name": "stderr",
     "output_type": "stream",
     "text": [
      "/home/jinpwa/anaconda3/lib/python3.6/site-packages/lightgbm/basic.py:1205: UserWarning: Using categorical_feature in Dataset.\n",
      "  warnings.warn('Using categorical_feature in Dataset.')\n",
      "/home/jinpwa/anaconda3/lib/python3.6/site-packages/lightgbm/basic.py:762: UserWarning: categorical_feature in param dict is overridden.\n",
      "  warnings.warn('categorical_feature in param dict is overridden.')\n"
     ]
    },
    {
     "name": "stdout",
     "output_type": "stream",
     "text": [
      "Training until validation scores don't improve for 500 rounds.\n",
      "[500]\ttraining's auc: 0.996654\tvalid_1's auc: 0.917143\n",
      "[1000]\ttraining's auc: 0.999955\tvalid_1's auc: 0.925147\n",
      "[1500]\ttraining's auc: 1\tvalid_1's auc: 0.926394\n",
      "[2000]\ttraining's auc: 1\tvalid_1's auc: 0.926518\n",
      "Early stopping, best iteration is:\n",
      "[1640]\ttraining's auc: 1\tvalid_1's auc: 0.92657\n",
      "V170\n"
     ]
    },
    {
     "name": "stderr",
     "output_type": "stream",
     "text": [
      "/home/jinpwa/anaconda3/lib/python3.6/site-packages/lightgbm/basic.py:1205: UserWarning: Using categorical_feature in Dataset.\n",
      "  warnings.warn('Using categorical_feature in Dataset.')\n",
      "/home/jinpwa/anaconda3/lib/python3.6/site-packages/lightgbm/basic.py:762: UserWarning: categorical_feature in param dict is overridden.\n",
      "  warnings.warn('categorical_feature in param dict is overridden.')\n"
     ]
    },
    {
     "name": "stdout",
     "output_type": "stream",
     "text": [
      "Training until validation scores don't improve for 500 rounds.\n",
      "[500]\ttraining's auc: 0.996678\tvalid_1's auc: 0.917643\n",
      "[1000]\ttraining's auc: 0.999954\tvalid_1's auc: 0.925394\n",
      "[1500]\ttraining's auc: 1\tvalid_1's auc: 0.926637\n",
      "[2000]\ttraining's auc: 1\tvalid_1's auc: 0.926882\n",
      "Early stopping, best iteration is:\n",
      "[1649]\ttraining's auc: 1\tvalid_1's auc: 0.926876\n",
      "V171\n"
     ]
    },
    {
     "name": "stderr",
     "output_type": "stream",
     "text": [
      "/home/jinpwa/anaconda3/lib/python3.6/site-packages/lightgbm/basic.py:1205: UserWarning: Using categorical_feature in Dataset.\n",
      "  warnings.warn('Using categorical_feature in Dataset.')\n",
      "/home/jinpwa/anaconda3/lib/python3.6/site-packages/lightgbm/basic.py:762: UserWarning: categorical_feature in param dict is overridden.\n",
      "  warnings.warn('categorical_feature in param dict is overridden.')\n"
     ]
    },
    {
     "name": "stdout",
     "output_type": "stream",
     "text": [
      "Training until validation scores don't improve for 500 rounds.\n",
      "[500]\ttraining's auc: 0.996665\tvalid_1's auc: 0.917374\n",
      "[1000]\ttraining's auc: 0.999957\tvalid_1's auc: 0.92516\n",
      "[1500]\ttraining's auc: 1\tvalid_1's auc: 0.926725\n",
      "[2000]\ttraining's auc: 1\tvalid_1's auc: 0.92683\n",
      "Early stopping, best iteration is:\n",
      "[1591]\ttraining's auc: 1\tvalid_1's auc: 0.926971\n",
      "V172\n"
     ]
    },
    {
     "name": "stderr",
     "output_type": "stream",
     "text": [
      "/home/jinpwa/anaconda3/lib/python3.6/site-packages/lightgbm/basic.py:1205: UserWarning: Using categorical_feature in Dataset.\n",
      "  warnings.warn('Using categorical_feature in Dataset.')\n",
      "/home/jinpwa/anaconda3/lib/python3.6/site-packages/lightgbm/basic.py:762: UserWarning: categorical_feature in param dict is overridden.\n",
      "  warnings.warn('categorical_feature in param dict is overridden.')\n"
     ]
    },
    {
     "name": "stdout",
     "output_type": "stream",
     "text": [
      "Training until validation scores don't improve for 500 rounds.\n",
      "[500]\ttraining's auc: 0.996623\tvalid_1's auc: 0.917236\n",
      "[1000]\ttraining's auc: 0.999952\tvalid_1's auc: 0.925884\n",
      "[1500]\ttraining's auc: 1\tvalid_1's auc: 0.9271\n",
      "[2000]\ttraining's auc: 1\tvalid_1's auc: 0.927476\n",
      "Early stopping, best iteration is:\n",
      "[1662]\ttraining's auc: 1\tvalid_1's auc: 0.927357\n",
      "V173\n"
     ]
    },
    {
     "name": "stderr",
     "output_type": "stream",
     "text": [
      "/home/jinpwa/anaconda3/lib/python3.6/site-packages/lightgbm/basic.py:1205: UserWarning: Using categorical_feature in Dataset.\n",
      "  warnings.warn('Using categorical_feature in Dataset.')\n",
      "/home/jinpwa/anaconda3/lib/python3.6/site-packages/lightgbm/basic.py:762: UserWarning: categorical_feature in param dict is overridden.\n",
      "  warnings.warn('categorical_feature in param dict is overridden.')\n"
     ]
    },
    {
     "name": "stdout",
     "output_type": "stream",
     "text": [
      "Training until validation scores don't improve for 500 rounds.\n",
      "[500]\ttraining's auc: 0.996705\tvalid_1's auc: 0.917293\n",
      "[1000]\ttraining's auc: 0.999955\tvalid_1's auc: 0.925222\n",
      "[1500]\ttraining's auc: 1\tvalid_1's auc: 0.926373\n",
      "[2000]\ttraining's auc: 1\tvalid_1's auc: 0.926773\n",
      "Early stopping, best iteration is:\n",
      "[1613]\ttraining's auc: 1\tvalid_1's auc: 0.926379\n",
      "V174\n"
     ]
    },
    {
     "name": "stderr",
     "output_type": "stream",
     "text": [
      "/home/jinpwa/anaconda3/lib/python3.6/site-packages/lightgbm/basic.py:1205: UserWarning: Using categorical_feature in Dataset.\n",
      "  warnings.warn('Using categorical_feature in Dataset.')\n",
      "/home/jinpwa/anaconda3/lib/python3.6/site-packages/lightgbm/basic.py:762: UserWarning: categorical_feature in param dict is overridden.\n",
      "  warnings.warn('categorical_feature in param dict is overridden.')\n"
     ]
    },
    {
     "name": "stdout",
     "output_type": "stream",
     "text": [
      "Training until validation scores don't improve for 500 rounds.\n",
      "[500]\ttraining's auc: 0.996687\tvalid_1's auc: 0.917428\n",
      "[1000]\ttraining's auc: 0.999956\tvalid_1's auc: 0.925645\n",
      "[1500]\ttraining's auc: 1\tvalid_1's auc: 0.92708\n",
      "[2000]\ttraining's auc: 1\tvalid_1's auc: 0.927001\n",
      "Early stopping, best iteration is:\n",
      "[1621]\ttraining's auc: 1\tvalid_1's auc: 0.927107\n",
      "V175\n"
     ]
    },
    {
     "name": "stderr",
     "output_type": "stream",
     "text": [
      "/home/jinpwa/anaconda3/lib/python3.6/site-packages/lightgbm/basic.py:1205: UserWarning: Using categorical_feature in Dataset.\n",
      "  warnings.warn('Using categorical_feature in Dataset.')\n",
      "/home/jinpwa/anaconda3/lib/python3.6/site-packages/lightgbm/basic.py:762: UserWarning: categorical_feature in param dict is overridden.\n",
      "  warnings.warn('categorical_feature in param dict is overridden.')\n"
     ]
    },
    {
     "name": "stdout",
     "output_type": "stream",
     "text": [
      "Training until validation scores don't improve for 500 rounds.\n",
      "[500]\ttraining's auc: 0.996671\tvalid_1's auc: 0.917335\n",
      "[1000]\ttraining's auc: 0.999956\tvalid_1's auc: 0.925494\n",
      "[1500]\ttraining's auc: 1\tvalid_1's auc: 0.926474\n",
      "[2000]\ttraining's auc: 1\tvalid_1's auc: 0.926557\n",
      "Early stopping, best iteration is:\n",
      "[1640]\ttraining's auc: 1\tvalid_1's auc: 0.92655\n",
      "V176\n"
     ]
    },
    {
     "name": "stderr",
     "output_type": "stream",
     "text": [
      "/home/jinpwa/anaconda3/lib/python3.6/site-packages/lightgbm/basic.py:1205: UserWarning: Using categorical_feature in Dataset.\n",
      "  warnings.warn('Using categorical_feature in Dataset.')\n",
      "/home/jinpwa/anaconda3/lib/python3.6/site-packages/lightgbm/basic.py:762: UserWarning: categorical_feature in param dict is overridden.\n",
      "  warnings.warn('categorical_feature in param dict is overridden.')\n"
     ]
    },
    {
     "name": "stdout",
     "output_type": "stream",
     "text": [
      "Training until validation scores don't improve for 500 rounds.\n",
      "[500]\ttraining's auc: 0.996633\tvalid_1's auc: 0.916996\n",
      "[1000]\ttraining's auc: 0.999955\tvalid_1's auc: 0.925187\n",
      "[1500]\ttraining's auc: 1\tvalid_1's auc: 0.926833\n",
      "[2000]\ttraining's auc: 1\tvalid_1's auc: 0.926661\n",
      "Early stopping, best iteration is:\n",
      "[1640]\ttraining's auc: 1\tvalid_1's auc: 0.926886\n",
      "V177\n"
     ]
    },
    {
     "name": "stderr",
     "output_type": "stream",
     "text": [
      "/home/jinpwa/anaconda3/lib/python3.6/site-packages/lightgbm/basic.py:1205: UserWarning: Using categorical_feature in Dataset.\n",
      "  warnings.warn('Using categorical_feature in Dataset.')\n",
      "/home/jinpwa/anaconda3/lib/python3.6/site-packages/lightgbm/basic.py:762: UserWarning: categorical_feature in param dict is overridden.\n",
      "  warnings.warn('categorical_feature in param dict is overridden.')\n"
     ]
    },
    {
     "name": "stdout",
     "output_type": "stream",
     "text": [
      "Training until validation scores don't improve for 500 rounds.\n",
      "[500]\ttraining's auc: 0.996705\tvalid_1's auc: 0.917971\n",
      "[1000]\ttraining's auc: 0.999955\tvalid_1's auc: 0.92561\n",
      "[1500]\ttraining's auc: 1\tvalid_1's auc: 0.927037\n",
      "[2000]\ttraining's auc: 1\tvalid_1's auc: 0.927308\n",
      "Early stopping, best iteration is:\n",
      "[1609]\ttraining's auc: 1\tvalid_1's auc: 0.927034\n",
      "V178\n"
     ]
    },
    {
     "name": "stderr",
     "output_type": "stream",
     "text": [
      "/home/jinpwa/anaconda3/lib/python3.6/site-packages/lightgbm/basic.py:1205: UserWarning: Using categorical_feature in Dataset.\n",
      "  warnings.warn('Using categorical_feature in Dataset.')\n",
      "/home/jinpwa/anaconda3/lib/python3.6/site-packages/lightgbm/basic.py:762: UserWarning: categorical_feature in param dict is overridden.\n",
      "  warnings.warn('categorical_feature in param dict is overridden.')\n"
     ]
    },
    {
     "name": "stdout",
     "output_type": "stream",
     "text": [
      "Training until validation scores don't improve for 500 rounds.\n",
      "[500]\ttraining's auc: 0.996682\tvalid_1's auc: 0.917781\n",
      "[1000]\ttraining's auc: 0.999955\tvalid_1's auc: 0.925574\n",
      "[1500]\ttraining's auc: 1\tvalid_1's auc: 0.927284\n",
      "[2000]\ttraining's auc: 1\tvalid_1's auc: 0.927362\n",
      "Early stopping, best iteration is:\n",
      "[1658]\ttraining's auc: 1\tvalid_1's auc: 0.927338\n",
      "V179\n"
     ]
    },
    {
     "name": "stderr",
     "output_type": "stream",
     "text": [
      "/home/jinpwa/anaconda3/lib/python3.6/site-packages/lightgbm/basic.py:1205: UserWarning: Using categorical_feature in Dataset.\n",
      "  warnings.warn('Using categorical_feature in Dataset.')\n",
      "/home/jinpwa/anaconda3/lib/python3.6/site-packages/lightgbm/basic.py:762: UserWarning: categorical_feature in param dict is overridden.\n",
      "  warnings.warn('categorical_feature in param dict is overridden.')\n"
     ]
    },
    {
     "name": "stdout",
     "output_type": "stream",
     "text": [
      "Training until validation scores don't improve for 500 rounds.\n",
      "[500]\ttraining's auc: 0.996697\tvalid_1's auc: 0.918616\n",
      "[1000]\ttraining's auc: 0.999954\tvalid_1's auc: 0.925253\n",
      "[1500]\ttraining's auc: 1\tvalid_1's auc: 0.92664\n",
      "[2000]\ttraining's auc: 1\tvalid_1's auc: 0.926773\n",
      "Early stopping, best iteration is:\n",
      "[1639]\ttraining's auc: 1\tvalid_1's auc: 0.926844\n",
      "V180\n"
     ]
    },
    {
     "name": "stderr",
     "output_type": "stream",
     "text": [
      "/home/jinpwa/anaconda3/lib/python3.6/site-packages/lightgbm/basic.py:1205: UserWarning: Using categorical_feature in Dataset.\n",
      "  warnings.warn('Using categorical_feature in Dataset.')\n",
      "/home/jinpwa/anaconda3/lib/python3.6/site-packages/lightgbm/basic.py:762: UserWarning: categorical_feature in param dict is overridden.\n",
      "  warnings.warn('categorical_feature in param dict is overridden.')\n"
     ]
    },
    {
     "name": "stdout",
     "output_type": "stream",
     "text": [
      "Training until validation scores don't improve for 500 rounds.\n",
      "[500]\ttraining's auc: 0.996668\tvalid_1's auc: 0.917379\n",
      "[1000]\ttraining's auc: 0.999954\tvalid_1's auc: 0.925373\n",
      "[1500]\ttraining's auc: 1\tvalid_1's auc: 0.926835\n",
      "[2000]\ttraining's auc: 1\tvalid_1's auc: 0.927069\n",
      "Early stopping, best iteration is:\n",
      "[1648]\ttraining's auc: 1\tvalid_1's auc: 0.926969\n",
      "V181\n"
     ]
    },
    {
     "name": "stderr",
     "output_type": "stream",
     "text": [
      "/home/jinpwa/anaconda3/lib/python3.6/site-packages/lightgbm/basic.py:1205: UserWarning: Using categorical_feature in Dataset.\n",
      "  warnings.warn('Using categorical_feature in Dataset.')\n",
      "/home/jinpwa/anaconda3/lib/python3.6/site-packages/lightgbm/basic.py:762: UserWarning: categorical_feature in param dict is overridden.\n",
      "  warnings.warn('categorical_feature in param dict is overridden.')\n"
     ]
    },
    {
     "name": "stdout",
     "output_type": "stream",
     "text": [
      "Training until validation scores don't improve for 500 rounds.\n",
      "[500]\ttraining's auc: 0.996667\tvalid_1's auc: 0.91767\n",
      "[1000]\ttraining's auc: 0.999954\tvalid_1's auc: 0.925856\n",
      "[1500]\ttraining's auc: 1\tvalid_1's auc: 0.927006\n",
      "Early stopping, best iteration is:\n",
      "[1441]\ttraining's auc: 1\tvalid_1's auc: 0.927054\n",
      "V182\n"
     ]
    },
    {
     "name": "stderr",
     "output_type": "stream",
     "text": [
      "/home/jinpwa/anaconda3/lib/python3.6/site-packages/lightgbm/basic.py:1205: UserWarning: Using categorical_feature in Dataset.\n",
      "  warnings.warn('Using categorical_feature in Dataset.')\n",
      "/home/jinpwa/anaconda3/lib/python3.6/site-packages/lightgbm/basic.py:762: UserWarning: categorical_feature in param dict is overridden.\n",
      "  warnings.warn('categorical_feature in param dict is overridden.')\n"
     ]
    },
    {
     "name": "stdout",
     "output_type": "stream",
     "text": [
      "Training until validation scores don't improve for 500 rounds.\n",
      "[500]\ttraining's auc: 0.996678\tvalid_1's auc: 0.917808\n",
      "[1000]\ttraining's auc: 0.999955\tvalid_1's auc: 0.925314\n",
      "[1500]\ttraining's auc: 1\tvalid_1's auc: 0.926837\n",
      "[2000]\ttraining's auc: 1\tvalid_1's auc: 0.926766\n",
      "Early stopping, best iteration is:\n",
      "[1621]\ttraining's auc: 1\tvalid_1's auc: 0.926812\n",
      "V183\n"
     ]
    },
    {
     "name": "stderr",
     "output_type": "stream",
     "text": [
      "/home/jinpwa/anaconda3/lib/python3.6/site-packages/lightgbm/basic.py:1205: UserWarning: Using categorical_feature in Dataset.\n",
      "  warnings.warn('Using categorical_feature in Dataset.')\n",
      "/home/jinpwa/anaconda3/lib/python3.6/site-packages/lightgbm/basic.py:762: UserWarning: categorical_feature in param dict is overridden.\n",
      "  warnings.warn('categorical_feature in param dict is overridden.')\n"
     ]
    },
    {
     "name": "stdout",
     "output_type": "stream",
     "text": [
      "Training until validation scores don't improve for 500 rounds.\n",
      "[500]\ttraining's auc: 0.996724\tvalid_1's auc: 0.917207\n",
      "[1000]\ttraining's auc: 0.999954\tvalid_1's auc: 0.92551\n",
      "[1500]\ttraining's auc: 1\tvalid_1's auc: 0.926841\n",
      "[2000]\ttraining's auc: 1\tvalid_1's auc: 0.926971\n",
      "Early stopping, best iteration is:\n",
      "[1670]\ttraining's auc: 1\tvalid_1's auc: 0.926982\n",
      "V184\n"
     ]
    },
    {
     "name": "stderr",
     "output_type": "stream",
     "text": [
      "/home/jinpwa/anaconda3/lib/python3.6/site-packages/lightgbm/basic.py:1205: UserWarning: Using categorical_feature in Dataset.\n",
      "  warnings.warn('Using categorical_feature in Dataset.')\n",
      "/home/jinpwa/anaconda3/lib/python3.6/site-packages/lightgbm/basic.py:762: UserWarning: categorical_feature in param dict is overridden.\n",
      "  warnings.warn('categorical_feature in param dict is overridden.')\n"
     ]
    },
    {
     "name": "stdout",
     "output_type": "stream",
     "text": [
      "Training until validation scores don't improve for 500 rounds.\n",
      "[500]\ttraining's auc: 0.996644\tvalid_1's auc: 0.917926\n",
      "[1000]\ttraining's auc: 0.999953\tvalid_1's auc: 0.925603\n",
      "[1500]\ttraining's auc: 1\tvalid_1's auc: 0.926607\n",
      "[2000]\ttraining's auc: 1\tvalid_1's auc: 0.926659\n",
      "Early stopping, best iteration is:\n",
      "[1659]\ttraining's auc: 1\tvalid_1's auc: 0.926622\n",
      "V185\n"
     ]
    },
    {
     "name": "stderr",
     "output_type": "stream",
     "text": [
      "/home/jinpwa/anaconda3/lib/python3.6/site-packages/lightgbm/basic.py:1205: UserWarning: Using categorical_feature in Dataset.\n",
      "  warnings.warn('Using categorical_feature in Dataset.')\n",
      "/home/jinpwa/anaconda3/lib/python3.6/site-packages/lightgbm/basic.py:762: UserWarning: categorical_feature in param dict is overridden.\n",
      "  warnings.warn('categorical_feature in param dict is overridden.')\n"
     ]
    },
    {
     "name": "stdout",
     "output_type": "stream",
     "text": [
      "Training until validation scores don't improve for 500 rounds.\n",
      "[500]\ttraining's auc: 0.996624\tvalid_1's auc: 0.918034\n",
      "[1000]\ttraining's auc: 0.999955\tvalid_1's auc: 0.925838\n",
      "[1500]\ttraining's auc: 1\tvalid_1's auc: 0.926934\n",
      "[2000]\ttraining's auc: 1\tvalid_1's auc: 0.926982\n",
      "Early stopping, best iteration is:\n",
      "[1632]\ttraining's auc: 1\tvalid_1's auc: 0.927013\n",
      "V186\n"
     ]
    },
    {
     "name": "stderr",
     "output_type": "stream",
     "text": [
      "/home/jinpwa/anaconda3/lib/python3.6/site-packages/lightgbm/basic.py:1205: UserWarning: Using categorical_feature in Dataset.\n",
      "  warnings.warn('Using categorical_feature in Dataset.')\n",
      "/home/jinpwa/anaconda3/lib/python3.6/site-packages/lightgbm/basic.py:762: UserWarning: categorical_feature in param dict is overridden.\n",
      "  warnings.warn('categorical_feature in param dict is overridden.')\n"
     ]
    },
    {
     "name": "stdout",
     "output_type": "stream",
     "text": [
      "Training until validation scores don't improve for 500 rounds.\n",
      "[500]\ttraining's auc: 0.996692\tvalid_1's auc: 0.917522\n",
      "[1000]\ttraining's auc: 0.999957\tvalid_1's auc: 0.925033\n",
      "[1500]\ttraining's auc: 1\tvalid_1's auc: 0.926149\n",
      "[2000]\ttraining's auc: 1\tvalid_1's auc: 0.926219\n",
      "Early stopping, best iteration is:\n",
      "[1635]\ttraining's auc: 1\tvalid_1's auc: 0.926316\n",
      "V187\n"
     ]
    },
    {
     "name": "stderr",
     "output_type": "stream",
     "text": [
      "/home/jinpwa/anaconda3/lib/python3.6/site-packages/lightgbm/basic.py:1205: UserWarning: Using categorical_feature in Dataset.\n",
      "  warnings.warn('Using categorical_feature in Dataset.')\n",
      "/home/jinpwa/anaconda3/lib/python3.6/site-packages/lightgbm/basic.py:762: UserWarning: categorical_feature in param dict is overridden.\n",
      "  warnings.warn('categorical_feature in param dict is overridden.')\n"
     ]
    },
    {
     "name": "stdout",
     "output_type": "stream",
     "text": [
      "Training until validation scores don't improve for 500 rounds.\n",
      "[500]\ttraining's auc: 0.996655\tvalid_1's auc: 0.917899\n",
      "[1000]\ttraining's auc: 0.999954\tvalid_1's auc: 0.92495\n",
      "[1500]\ttraining's auc: 1\tvalid_1's auc: 0.926336\n",
      "[2000]\ttraining's auc: 1\tvalid_1's auc: 0.926331\n",
      "Early stopping, best iteration is:\n",
      "[1625]\ttraining's auc: 1\tvalid_1's auc: 0.926389\n",
      "V188\n"
     ]
    },
    {
     "name": "stderr",
     "output_type": "stream",
     "text": [
      "/home/jinpwa/anaconda3/lib/python3.6/site-packages/lightgbm/basic.py:1205: UserWarning: Using categorical_feature in Dataset.\n",
      "  warnings.warn('Using categorical_feature in Dataset.')\n",
      "/home/jinpwa/anaconda3/lib/python3.6/site-packages/lightgbm/basic.py:762: UserWarning: categorical_feature in param dict is overridden.\n",
      "  warnings.warn('categorical_feature in param dict is overridden.')\n"
     ]
    },
    {
     "name": "stdout",
     "output_type": "stream",
     "text": [
      "Training until validation scores don't improve for 500 rounds.\n",
      "[500]\ttraining's auc: 0.996638\tvalid_1's auc: 0.917692\n",
      "[1000]\ttraining's auc: 0.999954\tvalid_1's auc: 0.925403\n",
      "[1500]\ttraining's auc: 1\tvalid_1's auc: 0.926573\n",
      "[2000]\ttraining's auc: 1\tvalid_1's auc: 0.926549\n",
      "Early stopping, best iteration is:\n",
      "[1608]\ttraining's auc: 1\tvalid_1's auc: 0.926653\n",
      "V189\n"
     ]
    },
    {
     "name": "stderr",
     "output_type": "stream",
     "text": [
      "/home/jinpwa/anaconda3/lib/python3.6/site-packages/lightgbm/basic.py:1205: UserWarning: Using categorical_feature in Dataset.\n",
      "  warnings.warn('Using categorical_feature in Dataset.')\n",
      "/home/jinpwa/anaconda3/lib/python3.6/site-packages/lightgbm/basic.py:762: UserWarning: categorical_feature in param dict is overridden.\n",
      "  warnings.warn('categorical_feature in param dict is overridden.')\n"
     ]
    },
    {
     "name": "stdout",
     "output_type": "stream",
     "text": [
      "Training until validation scores don't improve for 500 rounds.\n",
      "[500]\ttraining's auc: 0.996675\tvalid_1's auc: 0.917437\n",
      "[1000]\ttraining's auc: 0.999955\tvalid_1's auc: 0.925949\n",
      "[1500]\ttraining's auc: 1\tvalid_1's auc: 0.927015\n",
      "[2000]\ttraining's auc: 1\tvalid_1's auc: 0.926879\n",
      "Early stopping, best iteration is:\n",
      "[1619]\ttraining's auc: 1\tvalid_1's auc: 0.927065\n",
      "V190\n"
     ]
    },
    {
     "name": "stderr",
     "output_type": "stream",
     "text": [
      "/home/jinpwa/anaconda3/lib/python3.6/site-packages/lightgbm/basic.py:1205: UserWarning: Using categorical_feature in Dataset.\n",
      "  warnings.warn('Using categorical_feature in Dataset.')\n",
      "/home/jinpwa/anaconda3/lib/python3.6/site-packages/lightgbm/basic.py:762: UserWarning: categorical_feature in param dict is overridden.\n",
      "  warnings.warn('categorical_feature in param dict is overridden.')\n"
     ]
    },
    {
     "name": "stdout",
     "output_type": "stream",
     "text": [
      "Training until validation scores don't improve for 500 rounds.\n",
      "[500]\ttraining's auc: 0.996603\tvalid_1's auc: 0.917911\n",
      "[1000]\ttraining's auc: 0.999954\tvalid_1's auc: 0.925645\n",
      "[1500]\ttraining's auc: 1\tvalid_1's auc: 0.927096\n",
      "[2000]\ttraining's auc: 1\tvalid_1's auc: 0.927296\n",
      "Early stopping, best iteration is:\n",
      "[1635]\ttraining's auc: 1\tvalid_1's auc: 0.92733\n",
      "V191\n"
     ]
    },
    {
     "name": "stderr",
     "output_type": "stream",
     "text": [
      "/home/jinpwa/anaconda3/lib/python3.6/site-packages/lightgbm/basic.py:1205: UserWarning: Using categorical_feature in Dataset.\n",
      "  warnings.warn('Using categorical_feature in Dataset.')\n",
      "/home/jinpwa/anaconda3/lib/python3.6/site-packages/lightgbm/basic.py:762: UserWarning: categorical_feature in param dict is overridden.\n",
      "  warnings.warn('categorical_feature in param dict is overridden.')\n"
     ]
    },
    {
     "name": "stdout",
     "output_type": "stream",
     "text": [
      "Training until validation scores don't improve for 500 rounds.\n",
      "[500]\ttraining's auc: 0.99666\tvalid_1's auc: 0.917016\n",
      "[1000]\ttraining's auc: 0.999956\tvalid_1's auc: 0.926044\n",
      "[1500]\ttraining's auc: 1\tvalid_1's auc: 0.927169\n",
      "[2000]\ttraining's auc: 1\tvalid_1's auc: 0.927412\n",
      "Early stopping, best iteration is:\n",
      "[1655]\ttraining's auc: 1\tvalid_1's auc: 0.927268\n",
      "V192\n"
     ]
    },
    {
     "name": "stderr",
     "output_type": "stream",
     "text": [
      "/home/jinpwa/anaconda3/lib/python3.6/site-packages/lightgbm/basic.py:1205: UserWarning: Using categorical_feature in Dataset.\n",
      "  warnings.warn('Using categorical_feature in Dataset.')\n",
      "/home/jinpwa/anaconda3/lib/python3.6/site-packages/lightgbm/basic.py:762: UserWarning: categorical_feature in param dict is overridden.\n",
      "  warnings.warn('categorical_feature in param dict is overridden.')\n"
     ]
    },
    {
     "name": "stdout",
     "output_type": "stream",
     "text": [
      "Training until validation scores don't improve for 500 rounds.\n",
      "[500]\ttraining's auc: 0.99665\tvalid_1's auc: 0.916933\n",
      "[1000]\ttraining's auc: 0.999957\tvalid_1's auc: 0.924744\n",
      "[1500]\ttraining's auc: 1\tvalid_1's auc: 0.926054\n",
      "[2000]\ttraining's auc: 1\tvalid_1's auc: 0.925859\n",
      "Early stopping, best iteration is:\n",
      "[1611]\ttraining's auc: 1\tvalid_1's auc: 0.926047\n",
      "V193\n"
     ]
    },
    {
     "name": "stderr",
     "output_type": "stream",
     "text": [
      "/home/jinpwa/anaconda3/lib/python3.6/site-packages/lightgbm/basic.py:1205: UserWarning: Using categorical_feature in Dataset.\n",
      "  warnings.warn('Using categorical_feature in Dataset.')\n",
      "/home/jinpwa/anaconda3/lib/python3.6/site-packages/lightgbm/basic.py:762: UserWarning: categorical_feature in param dict is overridden.\n",
      "  warnings.warn('categorical_feature in param dict is overridden.')\n"
     ]
    },
    {
     "name": "stdout",
     "output_type": "stream",
     "text": [
      "Training until validation scores don't improve for 500 rounds.\n",
      "[500]\ttraining's auc: 0.996628\tvalid_1's auc: 0.917154\n",
      "[1000]\ttraining's auc: 0.999956\tvalid_1's auc: 0.92535\n",
      "[1500]\ttraining's auc: 1\tvalid_1's auc: 0.926623\n",
      "[2000]\ttraining's auc: 1\tvalid_1's auc: 0.926627\n",
      "Early stopping, best iteration is:\n",
      "[1628]\ttraining's auc: 1\tvalid_1's auc: 0.926547\n",
      "V194\n"
     ]
    },
    {
     "name": "stderr",
     "output_type": "stream",
     "text": [
      "/home/jinpwa/anaconda3/lib/python3.6/site-packages/lightgbm/basic.py:1205: UserWarning: Using categorical_feature in Dataset.\n",
      "  warnings.warn('Using categorical_feature in Dataset.')\n",
      "/home/jinpwa/anaconda3/lib/python3.6/site-packages/lightgbm/basic.py:762: UserWarning: categorical_feature in param dict is overridden.\n",
      "  warnings.warn('categorical_feature in param dict is overridden.')\n"
     ]
    },
    {
     "name": "stdout",
     "output_type": "stream",
     "text": [
      "Training until validation scores don't improve for 500 rounds.\n",
      "[500]\ttraining's auc: 0.996621\tvalid_1's auc: 0.917024\n",
      "[1000]\ttraining's auc: 0.999957\tvalid_1's auc: 0.924463\n",
      "[1500]\ttraining's auc: 1\tvalid_1's auc: 0.925865\n",
      "[2000]\ttraining's auc: 1\tvalid_1's auc: 0.925944\n",
      "Early stopping, best iteration is:\n",
      "[1631]\ttraining's auc: 1\tvalid_1's auc: 0.925887\n",
      "V195\n"
     ]
    },
    {
     "name": "stderr",
     "output_type": "stream",
     "text": [
      "/home/jinpwa/anaconda3/lib/python3.6/site-packages/lightgbm/basic.py:1205: UserWarning: Using categorical_feature in Dataset.\n",
      "  warnings.warn('Using categorical_feature in Dataset.')\n",
      "/home/jinpwa/anaconda3/lib/python3.6/site-packages/lightgbm/basic.py:762: UserWarning: categorical_feature in param dict is overridden.\n",
      "  warnings.warn('categorical_feature in param dict is overridden.')\n"
     ]
    },
    {
     "name": "stdout",
     "output_type": "stream",
     "text": [
      "Training until validation scores don't improve for 500 rounds.\n",
      "[500]\ttraining's auc: 0.996648\tvalid_1's auc: 0.91763\n",
      "[1000]\ttraining's auc: 0.999958\tvalid_1's auc: 0.925319\n",
      "[1500]\ttraining's auc: 1\tvalid_1's auc: 0.927356\n",
      "[2000]\ttraining's auc: 1\tvalid_1's auc: 0.927501\n",
      "Early stopping, best iteration is:\n",
      "[1622]\ttraining's auc: 1\tvalid_1's auc: 0.927357\n",
      "V196\n"
     ]
    },
    {
     "name": "stderr",
     "output_type": "stream",
     "text": [
      "/home/jinpwa/anaconda3/lib/python3.6/site-packages/lightgbm/basic.py:1205: UserWarning: Using categorical_feature in Dataset.\n",
      "  warnings.warn('Using categorical_feature in Dataset.')\n",
      "/home/jinpwa/anaconda3/lib/python3.6/site-packages/lightgbm/basic.py:762: UserWarning: categorical_feature in param dict is overridden.\n",
      "  warnings.warn('categorical_feature in param dict is overridden.')\n"
     ]
    },
    {
     "name": "stdout",
     "output_type": "stream",
     "text": [
      "Training until validation scores don't improve for 500 rounds.\n",
      "[500]\ttraining's auc: 0.996671\tvalid_1's auc: 0.916965\n",
      "[1000]\ttraining's auc: 0.999955\tvalid_1's auc: 0.924855\n",
      "[1500]\ttraining's auc: 1\tvalid_1's auc: 0.926141\n",
      "[2000]\ttraining's auc: 1\tvalid_1's auc: 0.926324\n",
      "Early stopping, best iteration is:\n",
      "[1619]\ttraining's auc: 1\tvalid_1's auc: 0.926355\n",
      "V197\n"
     ]
    },
    {
     "name": "stderr",
     "output_type": "stream",
     "text": [
      "/home/jinpwa/anaconda3/lib/python3.6/site-packages/lightgbm/basic.py:1205: UserWarning: Using categorical_feature in Dataset.\n",
      "  warnings.warn('Using categorical_feature in Dataset.')\n",
      "/home/jinpwa/anaconda3/lib/python3.6/site-packages/lightgbm/basic.py:762: UserWarning: categorical_feature in param dict is overridden.\n",
      "  warnings.warn('categorical_feature in param dict is overridden.')\n"
     ]
    },
    {
     "name": "stdout",
     "output_type": "stream",
     "text": [
      "Training until validation scores don't improve for 500 rounds.\n",
      "[500]\ttraining's auc: 0.996653\tvalid_1's auc: 0.917429\n",
      "[1000]\ttraining's auc: 0.999956\tvalid_1's auc: 0.925049\n",
      "[1500]\ttraining's auc: 1\tvalid_1's auc: 0.926545\n",
      "[2000]\ttraining's auc: 1\tvalid_1's auc: 0.926628\n",
      "Early stopping, best iteration is:\n",
      "[1612]\ttraining's auc: 1\tvalid_1's auc: 0.92654\n",
      "V198\n"
     ]
    },
    {
     "name": "stderr",
     "output_type": "stream",
     "text": [
      "/home/jinpwa/anaconda3/lib/python3.6/site-packages/lightgbm/basic.py:1205: UserWarning: Using categorical_feature in Dataset.\n",
      "  warnings.warn('Using categorical_feature in Dataset.')\n",
      "/home/jinpwa/anaconda3/lib/python3.6/site-packages/lightgbm/basic.py:762: UserWarning: categorical_feature in param dict is overridden.\n",
      "  warnings.warn('categorical_feature in param dict is overridden.')\n"
     ]
    },
    {
     "name": "stdout",
     "output_type": "stream",
     "text": [
      "Training until validation scores don't improve for 500 rounds.\n",
      "[500]\ttraining's auc: 0.996658\tvalid_1's auc: 0.916712\n",
      "[1000]\ttraining's auc: 0.999957\tvalid_1's auc: 0.925283\n",
      "[1500]\ttraining's auc: 1\tvalid_1's auc: 0.926762\n",
      "[2000]\ttraining's auc: 1\tvalid_1's auc: 0.926836\n",
      "Early stopping, best iteration is:\n",
      "[1616]\ttraining's auc: 1\tvalid_1's auc: 0.92682\n",
      "V199\n"
     ]
    },
    {
     "name": "stderr",
     "output_type": "stream",
     "text": [
      "/home/jinpwa/anaconda3/lib/python3.6/site-packages/lightgbm/basic.py:1205: UserWarning: Using categorical_feature in Dataset.\n",
      "  warnings.warn('Using categorical_feature in Dataset.')\n",
      "/home/jinpwa/anaconda3/lib/python3.6/site-packages/lightgbm/basic.py:762: UserWarning: categorical_feature in param dict is overridden.\n",
      "  warnings.warn('categorical_feature in param dict is overridden.')\n"
     ]
    },
    {
     "name": "stdout",
     "output_type": "stream",
     "text": [
      "Training until validation scores don't improve for 500 rounds.\n",
      "[500]\ttraining's auc: 0.996667\tvalid_1's auc: 0.917158\n",
      "[1000]\ttraining's auc: 0.999956\tvalid_1's auc: 0.925477\n",
      "[1500]\ttraining's auc: 1\tvalid_1's auc: 0.92707\n",
      "[2000]\ttraining's auc: 1\tvalid_1's auc: 0.926972\n",
      "Early stopping, best iteration is:\n",
      "[1584]\ttraining's auc: 1\tvalid_1's auc: 0.927007\n",
      "V200\n"
     ]
    },
    {
     "name": "stderr",
     "output_type": "stream",
     "text": [
      "/home/jinpwa/anaconda3/lib/python3.6/site-packages/lightgbm/basic.py:1205: UserWarning: Using categorical_feature in Dataset.\n",
      "  warnings.warn('Using categorical_feature in Dataset.')\n",
      "/home/jinpwa/anaconda3/lib/python3.6/site-packages/lightgbm/basic.py:762: UserWarning: categorical_feature in param dict is overridden.\n",
      "  warnings.warn('categorical_feature in param dict is overridden.')\n"
     ]
    },
    {
     "name": "stdout",
     "output_type": "stream",
     "text": [
      "Training until validation scores don't improve for 500 rounds.\n",
      "[500]\ttraining's auc: 0.996633\tvalid_1's auc: 0.917546\n",
      "[1000]\ttraining's auc: 0.999954\tvalid_1's auc: 0.925109\n",
      "[1500]\ttraining's auc: 1\tvalid_1's auc: 0.926664\n",
      "[2000]\ttraining's auc: 1\tvalid_1's auc: 0.926983\n",
      "Early stopping, best iteration is:\n",
      "[1663]\ttraining's auc: 1\tvalid_1's auc: 0.926866\n",
      "V201\n"
     ]
    },
    {
     "name": "stderr",
     "output_type": "stream",
     "text": [
      "/home/jinpwa/anaconda3/lib/python3.6/site-packages/lightgbm/basic.py:1205: UserWarning: Using categorical_feature in Dataset.\n",
      "  warnings.warn('Using categorical_feature in Dataset.')\n",
      "/home/jinpwa/anaconda3/lib/python3.6/site-packages/lightgbm/basic.py:762: UserWarning: categorical_feature in param dict is overridden.\n",
      "  warnings.warn('categorical_feature in param dict is overridden.')\n"
     ]
    },
    {
     "name": "stdout",
     "output_type": "stream",
     "text": [
      "Training until validation scores don't improve for 500 rounds.\n",
      "[500]\ttraining's auc: 0.996613\tvalid_1's auc: 0.918301\n",
      "[1000]\ttraining's auc: 0.999952\tvalid_1's auc: 0.926095\n",
      "[1500]\ttraining's auc: 1\tvalid_1's auc: 0.927514\n",
      "Early stopping, best iteration is:\n",
      "[1485]\ttraining's auc: 1\tvalid_1's auc: 0.927554\n",
      "V202\n"
     ]
    },
    {
     "name": "stderr",
     "output_type": "stream",
     "text": [
      "/home/jinpwa/anaconda3/lib/python3.6/site-packages/lightgbm/basic.py:1205: UserWarning: Using categorical_feature in Dataset.\n",
      "  warnings.warn('Using categorical_feature in Dataset.')\n",
      "/home/jinpwa/anaconda3/lib/python3.6/site-packages/lightgbm/basic.py:762: UserWarning: categorical_feature in param dict is overridden.\n",
      "  warnings.warn('categorical_feature in param dict is overridden.')\n"
     ]
    },
    {
     "name": "stdout",
     "output_type": "stream",
     "text": [
      "Training until validation scores don't improve for 500 rounds.\n",
      "[500]\ttraining's auc: 0.996662\tvalid_1's auc: 0.917284\n",
      "[1000]\ttraining's auc: 0.999955\tvalid_1's auc: 0.925462\n",
      "[1500]\ttraining's auc: 1\tvalid_1's auc: 0.927047\n",
      "[2000]\ttraining's auc: 1\tvalid_1's auc: 0.927082\n",
      "Early stopping, best iteration is:\n",
      "[1615]\ttraining's auc: 1\tvalid_1's auc: 0.927213\n",
      "V203\n"
     ]
    },
    {
     "name": "stderr",
     "output_type": "stream",
     "text": [
      "/home/jinpwa/anaconda3/lib/python3.6/site-packages/lightgbm/basic.py:1205: UserWarning: Using categorical_feature in Dataset.\n",
      "  warnings.warn('Using categorical_feature in Dataset.')\n",
      "/home/jinpwa/anaconda3/lib/python3.6/site-packages/lightgbm/basic.py:762: UserWarning: categorical_feature in param dict is overridden.\n",
      "  warnings.warn('categorical_feature in param dict is overridden.')\n"
     ]
    },
    {
     "name": "stdout",
     "output_type": "stream",
     "text": [
      "Training until validation scores don't improve for 500 rounds.\n",
      "[500]\ttraining's auc: 0.996654\tvalid_1's auc: 0.917517\n",
      "[1000]\ttraining's auc: 0.999954\tvalid_1's auc: 0.925295\n",
      "[1500]\ttraining's auc: 1\tvalid_1's auc: 0.926921\n",
      "[2000]\ttraining's auc: 1\tvalid_1's auc: 0.926921\n",
      "Early stopping, best iteration is:\n",
      "[1599]\ttraining's auc: 1\tvalid_1's auc: 0.926988\n",
      "V204\n"
     ]
    },
    {
     "name": "stderr",
     "output_type": "stream",
     "text": [
      "/home/jinpwa/anaconda3/lib/python3.6/site-packages/lightgbm/basic.py:1205: UserWarning: Using categorical_feature in Dataset.\n",
      "  warnings.warn('Using categorical_feature in Dataset.')\n",
      "/home/jinpwa/anaconda3/lib/python3.6/site-packages/lightgbm/basic.py:762: UserWarning: categorical_feature in param dict is overridden.\n",
      "  warnings.warn('categorical_feature in param dict is overridden.')\n"
     ]
    },
    {
     "name": "stdout",
     "output_type": "stream",
     "text": [
      "Training until validation scores don't improve for 500 rounds.\n",
      "[500]\ttraining's auc: 0.996617\tvalid_1's auc: 0.91757\n",
      "[1000]\ttraining's auc: 0.999954\tvalid_1's auc: 0.925285\n",
      "[1500]\ttraining's auc: 1\tvalid_1's auc: 0.926829\n",
      "[2000]\ttraining's auc: 1\tvalid_1's auc: 0.926979\n",
      "Early stopping, best iteration is:\n",
      "[1642]\ttraining's auc: 1\tvalid_1's auc: 0.926835\n",
      "V205\n"
     ]
    },
    {
     "name": "stderr",
     "output_type": "stream",
     "text": [
      "/home/jinpwa/anaconda3/lib/python3.6/site-packages/lightgbm/basic.py:1205: UserWarning: Using categorical_feature in Dataset.\n",
      "  warnings.warn('Using categorical_feature in Dataset.')\n",
      "/home/jinpwa/anaconda3/lib/python3.6/site-packages/lightgbm/basic.py:762: UserWarning: categorical_feature in param dict is overridden.\n",
      "  warnings.warn('categorical_feature in param dict is overridden.')\n"
     ]
    },
    {
     "name": "stdout",
     "output_type": "stream",
     "text": [
      "Training until validation scores don't improve for 500 rounds.\n",
      "[500]\ttraining's auc: 0.996656\tvalid_1's auc: 0.917481\n",
      "[1000]\ttraining's auc: 0.999955\tvalid_1's auc: 0.925044\n",
      "[1500]\ttraining's auc: 1\tvalid_1's auc: 0.926156\n",
      "[2000]\ttraining's auc: 1\tvalid_1's auc: 0.926405\n",
      "Early stopping, best iteration is:\n",
      "[1650]\ttraining's auc: 1\tvalid_1's auc: 0.926346\n",
      "V206\n"
     ]
    },
    {
     "name": "stderr",
     "output_type": "stream",
     "text": [
      "/home/jinpwa/anaconda3/lib/python3.6/site-packages/lightgbm/basic.py:1205: UserWarning: Using categorical_feature in Dataset.\n",
      "  warnings.warn('Using categorical_feature in Dataset.')\n",
      "/home/jinpwa/anaconda3/lib/python3.6/site-packages/lightgbm/basic.py:762: UserWarning: categorical_feature in param dict is overridden.\n",
      "  warnings.warn('categorical_feature in param dict is overridden.')\n"
     ]
    },
    {
     "name": "stdout",
     "output_type": "stream",
     "text": [
      "Training until validation scores don't improve for 500 rounds.\n",
      "[500]\ttraining's auc: 0.99666\tvalid_1's auc: 0.916858\n",
      "[1000]\ttraining's auc: 0.999956\tvalid_1's auc: 0.925171\n",
      "[1500]\ttraining's auc: 1\tvalid_1's auc: 0.926434\n",
      "[2000]\ttraining's auc: 1\tvalid_1's auc: 0.926249\n",
      "Early stopping, best iteration is:\n",
      "[1519]\ttraining's auc: 1\tvalid_1's auc: 0.926485\n",
      "V207\n"
     ]
    },
    {
     "name": "stderr",
     "output_type": "stream",
     "text": [
      "/home/jinpwa/anaconda3/lib/python3.6/site-packages/lightgbm/basic.py:1205: UserWarning: Using categorical_feature in Dataset.\n",
      "  warnings.warn('Using categorical_feature in Dataset.')\n",
      "/home/jinpwa/anaconda3/lib/python3.6/site-packages/lightgbm/basic.py:762: UserWarning: categorical_feature in param dict is overridden.\n",
      "  warnings.warn('categorical_feature in param dict is overridden.')\n"
     ]
    },
    {
     "name": "stdout",
     "output_type": "stream",
     "text": [
      "Training until validation scores don't improve for 500 rounds.\n",
      "[500]\ttraining's auc: 0.99669\tvalid_1's auc: 0.917012\n",
      "[1000]\ttraining's auc: 0.999954\tvalid_1's auc: 0.925142\n",
      "[1500]\ttraining's auc: 1\tvalid_1's auc: 0.926709\n",
      "[2000]\ttraining's auc: 1\tvalid_1's auc: 0.927026\n",
      "Early stopping, best iteration is:\n",
      "[1658]\ttraining's auc: 1\tvalid_1's auc: 0.926886\n",
      "V208\n"
     ]
    },
    {
     "name": "stderr",
     "output_type": "stream",
     "text": [
      "/home/jinpwa/anaconda3/lib/python3.6/site-packages/lightgbm/basic.py:1205: UserWarning: Using categorical_feature in Dataset.\n",
      "  warnings.warn('Using categorical_feature in Dataset.')\n",
      "/home/jinpwa/anaconda3/lib/python3.6/site-packages/lightgbm/basic.py:762: UserWarning: categorical_feature in param dict is overridden.\n",
      "  warnings.warn('categorical_feature in param dict is overridden.')\n"
     ]
    },
    {
     "name": "stdout",
     "output_type": "stream",
     "text": [
      "Training until validation scores don't improve for 500 rounds.\n",
      "[500]\ttraining's auc: 0.996668\tvalid_1's auc: 0.917668\n",
      "[1000]\ttraining's auc: 0.999956\tvalid_1's auc: 0.925551\n",
      "[1500]\ttraining's auc: 1\tvalid_1's auc: 0.926636\n",
      "[2000]\ttraining's auc: 1\tvalid_1's auc: 0.926932\n",
      "Early stopping, best iteration is:\n",
      "[1635]\ttraining's auc: 1\tvalid_1's auc: 0.926916\n",
      "V209\n"
     ]
    },
    {
     "name": "stderr",
     "output_type": "stream",
     "text": [
      "/home/jinpwa/anaconda3/lib/python3.6/site-packages/lightgbm/basic.py:1205: UserWarning: Using categorical_feature in Dataset.\n",
      "  warnings.warn('Using categorical_feature in Dataset.')\n",
      "/home/jinpwa/anaconda3/lib/python3.6/site-packages/lightgbm/basic.py:762: UserWarning: categorical_feature in param dict is overridden.\n",
      "  warnings.warn('categorical_feature in param dict is overridden.')\n"
     ]
    },
    {
     "name": "stdout",
     "output_type": "stream",
     "text": [
      "Training until validation scores don't improve for 500 rounds.\n",
      "[500]\ttraining's auc: 0.996637\tvalid_1's auc: 0.917481\n",
      "[1000]\ttraining's auc: 0.999955\tvalid_1's auc: 0.925478\n",
      "[1500]\ttraining's auc: 1\tvalid_1's auc: 0.926705\n",
      "[2000]\ttraining's auc: 1\tvalid_1's auc: 0.926818\n",
      "Early stopping, best iteration is:\n",
      "[1662]\ttraining's auc: 1\tvalid_1's auc: 0.926736\n",
      "V210\n"
     ]
    },
    {
     "name": "stderr",
     "output_type": "stream",
     "text": [
      "/home/jinpwa/anaconda3/lib/python3.6/site-packages/lightgbm/basic.py:1205: UserWarning: Using categorical_feature in Dataset.\n",
      "  warnings.warn('Using categorical_feature in Dataset.')\n",
      "/home/jinpwa/anaconda3/lib/python3.6/site-packages/lightgbm/basic.py:762: UserWarning: categorical_feature in param dict is overridden.\n",
      "  warnings.warn('categorical_feature in param dict is overridden.')\n"
     ]
    },
    {
     "name": "stdout",
     "output_type": "stream",
     "text": [
      "Training until validation scores don't improve for 500 rounds.\n",
      "[500]\ttraining's auc: 0.996653\tvalid_1's auc: 0.917123\n",
      "[1000]\ttraining's auc: 0.999956\tvalid_1's auc: 0.925324\n",
      "[1500]\ttraining's auc: 1\tvalid_1's auc: 0.926585\n",
      "[2000]\ttraining's auc: 1\tvalid_1's auc: 0.926763\n",
      "Early stopping, best iteration is:\n",
      "[1654]\ttraining's auc: 1\tvalid_1's auc: 0.926767\n",
      "V211\n"
     ]
    },
    {
     "name": "stderr",
     "output_type": "stream",
     "text": [
      "/home/jinpwa/anaconda3/lib/python3.6/site-packages/lightgbm/basic.py:1205: UserWarning: Using categorical_feature in Dataset.\n",
      "  warnings.warn('Using categorical_feature in Dataset.')\n",
      "/home/jinpwa/anaconda3/lib/python3.6/site-packages/lightgbm/basic.py:762: UserWarning: categorical_feature in param dict is overridden.\n",
      "  warnings.warn('categorical_feature in param dict is overridden.')\n"
     ]
    },
    {
     "name": "stdout",
     "output_type": "stream",
     "text": [
      "Training until validation scores don't improve for 500 rounds.\n",
      "[500]\ttraining's auc: 0.996646\tvalid_1's auc: 0.917889\n",
      "[1000]\ttraining's auc: 0.999954\tvalid_1's auc: 0.926001\n",
      "[1500]\ttraining's auc: 1\tvalid_1's auc: 0.927056\n",
      "[2000]\ttraining's auc: 1\tvalid_1's auc: 0.927371\n",
      "Early stopping, best iteration is:\n",
      "[1666]\ttraining's auc: 1\tvalid_1's auc: 0.927358\n",
      "V212\n"
     ]
    },
    {
     "name": "stderr",
     "output_type": "stream",
     "text": [
      "/home/jinpwa/anaconda3/lib/python3.6/site-packages/lightgbm/basic.py:1205: UserWarning: Using categorical_feature in Dataset.\n",
      "  warnings.warn('Using categorical_feature in Dataset.')\n",
      "/home/jinpwa/anaconda3/lib/python3.6/site-packages/lightgbm/basic.py:762: UserWarning: categorical_feature in param dict is overridden.\n",
      "  warnings.warn('categorical_feature in param dict is overridden.')\n"
     ]
    },
    {
     "name": "stdout",
     "output_type": "stream",
     "text": [
      "Training until validation scores don't improve for 500 rounds.\n",
      "[500]\ttraining's auc: 0.99666\tvalid_1's auc: 0.918127\n",
      "[1000]\ttraining's auc: 0.999954\tvalid_1's auc: 0.925598\n",
      "[1500]\ttraining's auc: 1\tvalid_1's auc: 0.927098\n",
      "[2000]\ttraining's auc: 1\tvalid_1's auc: 0.927353\n",
      "Early stopping, best iteration is:\n",
      "[1646]\ttraining's auc: 1\tvalid_1's auc: 0.927318\n",
      "V213\n"
     ]
    },
    {
     "name": "stderr",
     "output_type": "stream",
     "text": [
      "/home/jinpwa/anaconda3/lib/python3.6/site-packages/lightgbm/basic.py:1205: UserWarning: Using categorical_feature in Dataset.\n",
      "  warnings.warn('Using categorical_feature in Dataset.')\n",
      "/home/jinpwa/anaconda3/lib/python3.6/site-packages/lightgbm/basic.py:762: UserWarning: categorical_feature in param dict is overridden.\n",
      "  warnings.warn('categorical_feature in param dict is overridden.')\n"
     ]
    },
    {
     "name": "stdout",
     "output_type": "stream",
     "text": [
      "Training until validation scores don't improve for 500 rounds.\n",
      "[500]\ttraining's auc: 0.996624\tvalid_1's auc: 0.91722\n",
      "[1000]\ttraining's auc: 0.999955\tvalid_1's auc: 0.92449\n",
      "[1500]\ttraining's auc: 1\tvalid_1's auc: 0.925938\n",
      "[2000]\ttraining's auc: 1\tvalid_1's auc: 0.926155\n",
      "Early stopping, best iteration is:\n",
      "[1649]\ttraining's auc: 1\tvalid_1's auc: 0.92602\n",
      "V214\n"
     ]
    },
    {
     "name": "stderr",
     "output_type": "stream",
     "text": [
      "/home/jinpwa/anaconda3/lib/python3.6/site-packages/lightgbm/basic.py:1205: UserWarning: Using categorical_feature in Dataset.\n",
      "  warnings.warn('Using categorical_feature in Dataset.')\n",
      "/home/jinpwa/anaconda3/lib/python3.6/site-packages/lightgbm/basic.py:762: UserWarning: categorical_feature in param dict is overridden.\n",
      "  warnings.warn('categorical_feature in param dict is overridden.')\n"
     ]
    },
    {
     "name": "stdout",
     "output_type": "stream",
     "text": [
      "Training until validation scores don't improve for 500 rounds.\n",
      "[500]\ttraining's auc: 0.996677\tvalid_1's auc: 0.917239\n",
      "[1000]\ttraining's auc: 0.999955\tvalid_1's auc: 0.924606\n",
      "[1500]\ttraining's auc: 1\tvalid_1's auc: 0.926368\n",
      "[2000]\ttraining's auc: 1\tvalid_1's auc: 0.926564\n",
      "Early stopping, best iteration is:\n",
      "[1632]\ttraining's auc: 1\tvalid_1's auc: 0.926538\n",
      "V215\n"
     ]
    },
    {
     "name": "stderr",
     "output_type": "stream",
     "text": [
      "/home/jinpwa/anaconda3/lib/python3.6/site-packages/lightgbm/basic.py:1205: UserWarning: Using categorical_feature in Dataset.\n",
      "  warnings.warn('Using categorical_feature in Dataset.')\n",
      "/home/jinpwa/anaconda3/lib/python3.6/site-packages/lightgbm/basic.py:762: UserWarning: categorical_feature in param dict is overridden.\n",
      "  warnings.warn('categorical_feature in param dict is overridden.')\n"
     ]
    },
    {
     "name": "stdout",
     "output_type": "stream",
     "text": [
      "Training until validation scores don't improve for 500 rounds.\n",
      "[500]\ttraining's auc: 0.996632\tvalid_1's auc: 0.916838\n",
      "[1000]\ttraining's auc: 0.999954\tvalid_1's auc: 0.924662\n",
      "[1500]\ttraining's auc: 1\tvalid_1's auc: 0.926218\n",
      "[2000]\ttraining's auc: 1\tvalid_1's auc: 0.926661\n",
      "Early stopping, best iteration is:\n",
      "[1654]\ttraining's auc: 1\tvalid_1's auc: 0.926529\n",
      "V216\n"
     ]
    },
    {
     "name": "stderr",
     "output_type": "stream",
     "text": [
      "/home/jinpwa/anaconda3/lib/python3.6/site-packages/lightgbm/basic.py:1205: UserWarning: Using categorical_feature in Dataset.\n",
      "  warnings.warn('Using categorical_feature in Dataset.')\n",
      "/home/jinpwa/anaconda3/lib/python3.6/site-packages/lightgbm/basic.py:762: UserWarning: categorical_feature in param dict is overridden.\n",
      "  warnings.warn('categorical_feature in param dict is overridden.')\n"
     ]
    },
    {
     "name": "stdout",
     "output_type": "stream",
     "text": [
      "Training until validation scores don't improve for 500 rounds.\n",
      "[500]\ttraining's auc: 0.996656\tvalid_1's auc: 0.91766\n",
      "[1000]\ttraining's auc: 0.999956\tvalid_1's auc: 0.925625\n",
      "[1500]\ttraining's auc: 1\tvalid_1's auc: 0.926723\n",
      "[2000]\ttraining's auc: 1\tvalid_1's auc: 0.926859\n",
      "Early stopping, best iteration is:\n",
      "[1641]\ttraining's auc: 1\tvalid_1's auc: 0.926823\n",
      "V217\n"
     ]
    },
    {
     "name": "stderr",
     "output_type": "stream",
     "text": [
      "/home/jinpwa/anaconda3/lib/python3.6/site-packages/lightgbm/basic.py:1205: UserWarning: Using categorical_feature in Dataset.\n",
      "  warnings.warn('Using categorical_feature in Dataset.')\n",
      "/home/jinpwa/anaconda3/lib/python3.6/site-packages/lightgbm/basic.py:762: UserWarning: categorical_feature in param dict is overridden.\n",
      "  warnings.warn('categorical_feature in param dict is overridden.')\n"
     ]
    },
    {
     "name": "stdout",
     "output_type": "stream",
     "text": [
      "Training until validation scores don't improve for 500 rounds.\n",
      "[500]\ttraining's auc: 0.996643\tvalid_1's auc: 0.917118\n",
      "[1000]\ttraining's auc: 0.999955\tvalid_1's auc: 0.925002\n",
      "[1500]\ttraining's auc: 1\tvalid_1's auc: 0.926484\n",
      "[2000]\ttraining's auc: 1\tvalid_1's auc: 0.926553\n",
      "Early stopping, best iteration is:\n",
      "[1596]\ttraining's auc: 1\tvalid_1's auc: 0.926592\n",
      "V218\n"
     ]
    },
    {
     "name": "stderr",
     "output_type": "stream",
     "text": [
      "/home/jinpwa/anaconda3/lib/python3.6/site-packages/lightgbm/basic.py:1205: UserWarning: Using categorical_feature in Dataset.\n",
      "  warnings.warn('Using categorical_feature in Dataset.')\n",
      "/home/jinpwa/anaconda3/lib/python3.6/site-packages/lightgbm/basic.py:762: UserWarning: categorical_feature in param dict is overridden.\n",
      "  warnings.warn('categorical_feature in param dict is overridden.')\n"
     ]
    },
    {
     "name": "stdout",
     "output_type": "stream",
     "text": [
      "Training until validation scores don't improve for 500 rounds.\n",
      "[500]\ttraining's auc: 0.996669\tvalid_1's auc: 0.917571\n",
      "[1000]\ttraining's auc: 0.999956\tvalid_1's auc: 0.924934\n",
      "[1500]\ttraining's auc: 1\tvalid_1's auc: 0.926668\n",
      "[2000]\ttraining's auc: 1\tvalid_1's auc: 0.926846\n",
      "Early stopping, best iteration is:\n",
      "[1639]\ttraining's auc: 1\tvalid_1's auc: 0.926739\n",
      "V219\n"
     ]
    },
    {
     "name": "stderr",
     "output_type": "stream",
     "text": [
      "/home/jinpwa/anaconda3/lib/python3.6/site-packages/lightgbm/basic.py:1205: UserWarning: Using categorical_feature in Dataset.\n",
      "  warnings.warn('Using categorical_feature in Dataset.')\n",
      "/home/jinpwa/anaconda3/lib/python3.6/site-packages/lightgbm/basic.py:762: UserWarning: categorical_feature in param dict is overridden.\n",
      "  warnings.warn('categorical_feature in param dict is overridden.')\n"
     ]
    },
    {
     "name": "stdout",
     "output_type": "stream",
     "text": [
      "Training until validation scores don't improve for 500 rounds.\n",
      "[500]\ttraining's auc: 0.99662\tvalid_1's auc: 0.91761\n",
      "[1000]\ttraining's auc: 0.999954\tvalid_1's auc: 0.925934\n",
      "[1500]\ttraining's auc: 1\tvalid_1's auc: 0.926953\n",
      "[2000]\ttraining's auc: 1\tvalid_1's auc: 0.926919\n",
      "Early stopping, best iteration is:\n",
      "[1632]\ttraining's auc: 1\tvalid_1's auc: 0.926935\n",
      "V220\n"
     ]
    },
    {
     "name": "stderr",
     "output_type": "stream",
     "text": [
      "/home/jinpwa/anaconda3/lib/python3.6/site-packages/lightgbm/basic.py:1205: UserWarning: Using categorical_feature in Dataset.\n",
      "  warnings.warn('Using categorical_feature in Dataset.')\n",
      "/home/jinpwa/anaconda3/lib/python3.6/site-packages/lightgbm/basic.py:762: UserWarning: categorical_feature in param dict is overridden.\n",
      "  warnings.warn('categorical_feature in param dict is overridden.')\n"
     ]
    },
    {
     "name": "stdout",
     "output_type": "stream",
     "text": [
      "Training until validation scores don't improve for 500 rounds.\n",
      "[500]\ttraining's auc: 0.996599\tvalid_1's auc: 0.917881\n",
      "[1000]\ttraining's auc: 0.999951\tvalid_1's auc: 0.926028\n",
      "[1500]\ttraining's auc: 1\tvalid_1's auc: 0.927276\n",
      "[2000]\ttraining's auc: 1\tvalid_1's auc: 0.927672\n",
      "Early stopping, best iteration is:\n",
      "[1675]\ttraining's auc: 1\tvalid_1's auc: 0.927433\n",
      "V221\n"
     ]
    },
    {
     "name": "stderr",
     "output_type": "stream",
     "text": [
      "/home/jinpwa/anaconda3/lib/python3.6/site-packages/lightgbm/basic.py:1205: UserWarning: Using categorical_feature in Dataset.\n",
      "  warnings.warn('Using categorical_feature in Dataset.')\n",
      "/home/jinpwa/anaconda3/lib/python3.6/site-packages/lightgbm/basic.py:762: UserWarning: categorical_feature in param dict is overridden.\n",
      "  warnings.warn('categorical_feature in param dict is overridden.')\n"
     ]
    },
    {
     "name": "stdout",
     "output_type": "stream",
     "text": [
      "Training until validation scores don't improve for 500 rounds.\n",
      "[500]\ttraining's auc: 0.99664\tvalid_1's auc: 0.917752\n",
      "[1000]\ttraining's auc: 0.999955\tvalid_1's auc: 0.925507\n",
      "[1500]\ttraining's auc: 1\tvalid_1's auc: 0.926606\n",
      "[2000]\ttraining's auc: 1\tvalid_1's auc: 0.926613\n",
      "Early stopping, best iteration is:\n",
      "[1633]\ttraining's auc: 1\tvalid_1's auc: 0.926707\n",
      "V222\n"
     ]
    },
    {
     "name": "stderr",
     "output_type": "stream",
     "text": [
      "/home/jinpwa/anaconda3/lib/python3.6/site-packages/lightgbm/basic.py:1205: UserWarning: Using categorical_feature in Dataset.\n",
      "  warnings.warn('Using categorical_feature in Dataset.')\n",
      "/home/jinpwa/anaconda3/lib/python3.6/site-packages/lightgbm/basic.py:762: UserWarning: categorical_feature in param dict is overridden.\n",
      "  warnings.warn('categorical_feature in param dict is overridden.')\n"
     ]
    },
    {
     "name": "stdout",
     "output_type": "stream",
     "text": [
      "Training until validation scores don't improve for 500 rounds.\n",
      "[500]\ttraining's auc: 0.996637\tvalid_1's auc: 0.917509\n",
      "[1000]\ttraining's auc: 0.999956\tvalid_1's auc: 0.925218\n",
      "[1500]\ttraining's auc: 1\tvalid_1's auc: 0.926643\n",
      "[2000]\ttraining's auc: 1\tvalid_1's auc: 0.92676\n",
      "Early stopping, best iteration is:\n",
      "[1651]\ttraining's auc: 1\tvalid_1's auc: 0.926836\n",
      "V223\n"
     ]
    },
    {
     "name": "stderr",
     "output_type": "stream",
     "text": [
      "/home/jinpwa/anaconda3/lib/python3.6/site-packages/lightgbm/basic.py:1205: UserWarning: Using categorical_feature in Dataset.\n",
      "  warnings.warn('Using categorical_feature in Dataset.')\n",
      "/home/jinpwa/anaconda3/lib/python3.6/site-packages/lightgbm/basic.py:762: UserWarning: categorical_feature in param dict is overridden.\n",
      "  warnings.warn('categorical_feature in param dict is overridden.')\n"
     ]
    },
    {
     "name": "stdout",
     "output_type": "stream",
     "text": [
      "Training until validation scores don't improve for 500 rounds.\n",
      "[500]\ttraining's auc: 0.99666\tvalid_1's auc: 0.917251\n",
      "[1000]\ttraining's auc: 0.999953\tvalid_1's auc: 0.925229\n",
      "[1500]\ttraining's auc: 1\tvalid_1's auc: 0.926084\n",
      "[2000]\ttraining's auc: 1\tvalid_1's auc: 0.926282\n",
      "Early stopping, best iteration is:\n",
      "[1670]\ttraining's auc: 1\tvalid_1's auc: 0.926173\n",
      "V224\n"
     ]
    },
    {
     "name": "stderr",
     "output_type": "stream",
     "text": [
      "/home/jinpwa/anaconda3/lib/python3.6/site-packages/lightgbm/basic.py:1205: UserWarning: Using categorical_feature in Dataset.\n",
      "  warnings.warn('Using categorical_feature in Dataset.')\n",
      "/home/jinpwa/anaconda3/lib/python3.6/site-packages/lightgbm/basic.py:762: UserWarning: categorical_feature in param dict is overridden.\n",
      "  warnings.warn('categorical_feature in param dict is overridden.')\n"
     ]
    },
    {
     "name": "stdout",
     "output_type": "stream",
     "text": [
      "Training until validation scores don't improve for 500 rounds.\n",
      "[500]\ttraining's auc: 0.99662\tvalid_1's auc: 0.917851\n",
      "[1000]\ttraining's auc: 0.999955\tvalid_1's auc: 0.925224\n",
      "[1500]\ttraining's auc: 1\tvalid_1's auc: 0.926554\n",
      "[2000]\ttraining's auc: 1\tvalid_1's auc: 0.92688\n",
      "Early stopping, best iteration is:\n",
      "[1674]\ttraining's auc: 1\tvalid_1's auc: 0.926516\n",
      "V225\n"
     ]
    },
    {
     "name": "stderr",
     "output_type": "stream",
     "text": [
      "/home/jinpwa/anaconda3/lib/python3.6/site-packages/lightgbm/basic.py:1205: UserWarning: Using categorical_feature in Dataset.\n",
      "  warnings.warn('Using categorical_feature in Dataset.')\n",
      "/home/jinpwa/anaconda3/lib/python3.6/site-packages/lightgbm/basic.py:762: UserWarning: categorical_feature in param dict is overridden.\n",
      "  warnings.warn('categorical_feature in param dict is overridden.')\n"
     ]
    },
    {
     "name": "stdout",
     "output_type": "stream",
     "text": [
      "Training until validation scores don't improve for 500 rounds.\n",
      "[500]\ttraining's auc: 0.996627\tvalid_1's auc: 0.917054\n",
      "[1000]\ttraining's auc: 0.999955\tvalid_1's auc: 0.924633\n",
      "[1500]\ttraining's auc: 1\tvalid_1's auc: 0.926096\n",
      "[2000]\ttraining's auc: 1\tvalid_1's auc: 0.926138\n",
      "Early stopping, best iteration is:\n",
      "[1621]\ttraining's auc: 1\tvalid_1's auc: 0.926143\n",
      "V226\n"
     ]
    },
    {
     "name": "stderr",
     "output_type": "stream",
     "text": [
      "/home/jinpwa/anaconda3/lib/python3.6/site-packages/lightgbm/basic.py:1205: UserWarning: Using categorical_feature in Dataset.\n",
      "  warnings.warn('Using categorical_feature in Dataset.')\n",
      "/home/jinpwa/anaconda3/lib/python3.6/site-packages/lightgbm/basic.py:762: UserWarning: categorical_feature in param dict is overridden.\n",
      "  warnings.warn('categorical_feature in param dict is overridden.')\n"
     ]
    },
    {
     "name": "stdout",
     "output_type": "stream",
     "text": [
      "Training until validation scores don't improve for 500 rounds.\n",
      "[500]\ttraining's auc: 0.996657\tvalid_1's auc: 0.917231\n",
      "[1000]\ttraining's auc: 0.999957\tvalid_1's auc: 0.925163\n",
      "[1500]\ttraining's auc: 1\tvalid_1's auc: 0.926404\n",
      "[2000]\ttraining's auc: 1\tvalid_1's auc: 0.926197\n",
      "Early stopping, best iteration is:\n",
      "[1566]\ttraining's auc: 1\tvalid_1's auc: 0.926435\n",
      "V227\n"
     ]
    },
    {
     "name": "stderr",
     "output_type": "stream",
     "text": [
      "/home/jinpwa/anaconda3/lib/python3.6/site-packages/lightgbm/basic.py:1205: UserWarning: Using categorical_feature in Dataset.\n",
      "  warnings.warn('Using categorical_feature in Dataset.')\n",
      "/home/jinpwa/anaconda3/lib/python3.6/site-packages/lightgbm/basic.py:762: UserWarning: categorical_feature in param dict is overridden.\n",
      "  warnings.warn('categorical_feature in param dict is overridden.')\n"
     ]
    },
    {
     "name": "stdout",
     "output_type": "stream",
     "text": [
      "Training until validation scores don't improve for 500 rounds.\n",
      "[500]\ttraining's auc: 0.996679\tvalid_1's auc: 0.917869\n",
      "[1000]\ttraining's auc: 0.999956\tvalid_1's auc: 0.925004\n",
      "[1500]\ttraining's auc: 1\tvalid_1's auc: 0.926427\n",
      "[2000]\ttraining's auc: 1\tvalid_1's auc: 0.926695\n",
      "Early stopping, best iteration is:\n",
      "[1641]\ttraining's auc: 1\tvalid_1's auc: 0.92653\n",
      "V228\n"
     ]
    },
    {
     "name": "stderr",
     "output_type": "stream",
     "text": [
      "/home/jinpwa/anaconda3/lib/python3.6/site-packages/lightgbm/basic.py:1205: UserWarning: Using categorical_feature in Dataset.\n",
      "  warnings.warn('Using categorical_feature in Dataset.')\n",
      "/home/jinpwa/anaconda3/lib/python3.6/site-packages/lightgbm/basic.py:762: UserWarning: categorical_feature in param dict is overridden.\n",
      "  warnings.warn('categorical_feature in param dict is overridden.')\n"
     ]
    },
    {
     "name": "stdout",
     "output_type": "stream",
     "text": [
      "Training until validation scores don't improve for 500 rounds.\n",
      "[500]\ttraining's auc: 0.996673\tvalid_1's auc: 0.917813\n",
      "[1000]\ttraining's auc: 0.999954\tvalid_1's auc: 0.925371\n",
      "[1500]\ttraining's auc: 1\tvalid_1's auc: 0.927013\n",
      "[2000]\ttraining's auc: 1\tvalid_1's auc: 0.927265\n",
      "Early stopping, best iteration is:\n",
      "[1657]\ttraining's auc: 1\tvalid_1's auc: 0.927308\n",
      "V229\n"
     ]
    },
    {
     "name": "stderr",
     "output_type": "stream",
     "text": [
      "/home/jinpwa/anaconda3/lib/python3.6/site-packages/lightgbm/basic.py:1205: UserWarning: Using categorical_feature in Dataset.\n",
      "  warnings.warn('Using categorical_feature in Dataset.')\n",
      "/home/jinpwa/anaconda3/lib/python3.6/site-packages/lightgbm/basic.py:762: UserWarning: categorical_feature in param dict is overridden.\n",
      "  warnings.warn('categorical_feature in param dict is overridden.')\n"
     ]
    },
    {
     "name": "stdout",
     "output_type": "stream",
     "text": [
      "Training until validation scores don't improve for 500 rounds.\n",
      "[500]\ttraining's auc: 0.996608\tvalid_1's auc: 0.91778\n",
      "[1000]\ttraining's auc: 0.999954\tvalid_1's auc: 0.925161\n",
      "[1500]\ttraining's auc: 1\tvalid_1's auc: 0.926503\n",
      "[2000]\ttraining's auc: 1\tvalid_1's auc: 0.926725\n",
      "Early stopping, best iteration is:\n",
      "[1630]\ttraining's auc: 1\tvalid_1's auc: 0.926619\n",
      "V230\n"
     ]
    },
    {
     "name": "stderr",
     "output_type": "stream",
     "text": [
      "/home/jinpwa/anaconda3/lib/python3.6/site-packages/lightgbm/basic.py:1205: UserWarning: Using categorical_feature in Dataset.\n",
      "  warnings.warn('Using categorical_feature in Dataset.')\n",
      "/home/jinpwa/anaconda3/lib/python3.6/site-packages/lightgbm/basic.py:762: UserWarning: categorical_feature in param dict is overridden.\n",
      "  warnings.warn('categorical_feature in param dict is overridden.')\n"
     ]
    },
    {
     "name": "stdout",
     "output_type": "stream",
     "text": [
      "Training until validation scores don't improve for 500 rounds.\n",
      "[500]\ttraining's auc: 0.99664\tvalid_1's auc: 0.91759\n",
      "[1000]\ttraining's auc: 0.999955\tvalid_1's auc: 0.925803\n",
      "[1500]\ttraining's auc: 1\tvalid_1's auc: 0.927137\n",
      "[2000]\ttraining's auc: 1\tvalid_1's auc: 0.927206\n",
      "Early stopping, best iteration is:\n",
      "[1639]\ttraining's auc: 1\tvalid_1's auc: 0.927366\n",
      "V231\n"
     ]
    },
    {
     "name": "stderr",
     "output_type": "stream",
     "text": [
      "/home/jinpwa/anaconda3/lib/python3.6/site-packages/lightgbm/basic.py:1205: UserWarning: Using categorical_feature in Dataset.\n",
      "  warnings.warn('Using categorical_feature in Dataset.')\n",
      "/home/jinpwa/anaconda3/lib/python3.6/site-packages/lightgbm/basic.py:762: UserWarning: categorical_feature in param dict is overridden.\n",
      "  warnings.warn('categorical_feature in param dict is overridden.')\n"
     ]
    },
    {
     "name": "stdout",
     "output_type": "stream",
     "text": [
      "Training until validation scores don't improve for 500 rounds.\n",
      "[500]\ttraining's auc: 0.996627\tvalid_1's auc: 0.918064\n",
      "[1000]\ttraining's auc: 0.999954\tvalid_1's auc: 0.925393\n",
      "[1500]\ttraining's auc: 1\tvalid_1's auc: 0.92671\n",
      "[2000]\ttraining's auc: 1\tvalid_1's auc: 0.926411\n",
      "Early stopping, best iteration is:\n",
      "[1634]\ttraining's auc: 1\tvalid_1's auc: 0.926805\n",
      "V232\n"
     ]
    },
    {
     "name": "stderr",
     "output_type": "stream",
     "text": [
      "/home/jinpwa/anaconda3/lib/python3.6/site-packages/lightgbm/basic.py:1205: UserWarning: Using categorical_feature in Dataset.\n",
      "  warnings.warn('Using categorical_feature in Dataset.')\n",
      "/home/jinpwa/anaconda3/lib/python3.6/site-packages/lightgbm/basic.py:762: UserWarning: categorical_feature in param dict is overridden.\n",
      "  warnings.warn('categorical_feature in param dict is overridden.')\n"
     ]
    },
    {
     "name": "stdout",
     "output_type": "stream",
     "text": [
      "Training until validation scores don't improve for 500 rounds.\n",
      "[500]\ttraining's auc: 0.996636\tvalid_1's auc: 0.917433\n",
      "[1000]\ttraining's auc: 0.999955\tvalid_1's auc: 0.925712\n",
      "[1500]\ttraining's auc: 1\tvalid_1's auc: 0.926898\n",
      "[2000]\ttraining's auc: 1\tvalid_1's auc: 0.927039\n",
      "Early stopping, best iteration is:\n",
      "[1600]\ttraining's auc: 1\tvalid_1's auc: 0.927146\n",
      "V233\n"
     ]
    },
    {
     "name": "stderr",
     "output_type": "stream",
     "text": [
      "/home/jinpwa/anaconda3/lib/python3.6/site-packages/lightgbm/basic.py:1205: UserWarning: Using categorical_feature in Dataset.\n",
      "  warnings.warn('Using categorical_feature in Dataset.')\n",
      "/home/jinpwa/anaconda3/lib/python3.6/site-packages/lightgbm/basic.py:762: UserWarning: categorical_feature in param dict is overridden.\n",
      "  warnings.warn('categorical_feature in param dict is overridden.')\n"
     ]
    },
    {
     "name": "stdout",
     "output_type": "stream",
     "text": [
      "Training until validation scores don't improve for 500 rounds.\n",
      "[500]\ttraining's auc: 0.996627\tvalid_1's auc: 0.917391\n",
      "[1000]\ttraining's auc: 0.999956\tvalid_1's auc: 0.925265\n",
      "[1500]\ttraining's auc: 1\tvalid_1's auc: 0.92675\n",
      "[2000]\ttraining's auc: 1\tvalid_1's auc: 0.927077\n",
      "Early stopping, best iteration is:\n",
      "[1648]\ttraining's auc: 1\tvalid_1's auc: 0.926996\n",
      "V234\n"
     ]
    },
    {
     "name": "stderr",
     "output_type": "stream",
     "text": [
      "/home/jinpwa/anaconda3/lib/python3.6/site-packages/lightgbm/basic.py:1205: UserWarning: Using categorical_feature in Dataset.\n",
      "  warnings.warn('Using categorical_feature in Dataset.')\n",
      "/home/jinpwa/anaconda3/lib/python3.6/site-packages/lightgbm/basic.py:762: UserWarning: categorical_feature in param dict is overridden.\n",
      "  warnings.warn('categorical_feature in param dict is overridden.')\n"
     ]
    },
    {
     "name": "stdout",
     "output_type": "stream",
     "text": [
      "Training until validation scores don't improve for 500 rounds.\n",
      "[500]\ttraining's auc: 0.996632\tvalid_1's auc: 0.91783\n",
      "[1000]\ttraining's auc: 0.999955\tvalid_1's auc: 0.925687\n",
      "[1500]\ttraining's auc: 1\tvalid_1's auc: 0.926911\n",
      "[2000]\ttraining's auc: 1\tvalid_1's auc: 0.927167\n",
      "Early stopping, best iteration is:\n",
      "[1628]\ttraining's auc: 1\tvalid_1's auc: 0.927014\n",
      "V235\n"
     ]
    },
    {
     "name": "stderr",
     "output_type": "stream",
     "text": [
      "/home/jinpwa/anaconda3/lib/python3.6/site-packages/lightgbm/basic.py:1205: UserWarning: Using categorical_feature in Dataset.\n",
      "  warnings.warn('Using categorical_feature in Dataset.')\n",
      "/home/jinpwa/anaconda3/lib/python3.6/site-packages/lightgbm/basic.py:762: UserWarning: categorical_feature in param dict is overridden.\n",
      "  warnings.warn('categorical_feature in param dict is overridden.')\n"
     ]
    },
    {
     "name": "stdout",
     "output_type": "stream",
     "text": [
      "Training until validation scores don't improve for 500 rounds.\n",
      "[500]\ttraining's auc: 0.996616\tvalid_1's auc: 0.917435\n",
      "[1000]\ttraining's auc: 0.999955\tvalid_1's auc: 0.925378\n",
      "[1500]\ttraining's auc: 1\tvalid_1's auc: 0.926605\n",
      "[2000]\ttraining's auc: 1\tvalid_1's auc: 0.927149\n",
      "Early stopping, best iteration is:\n",
      "[1638]\ttraining's auc: 1\tvalid_1's auc: 0.926842\n",
      "V236\n"
     ]
    },
    {
     "name": "stderr",
     "output_type": "stream",
     "text": [
      "/home/jinpwa/anaconda3/lib/python3.6/site-packages/lightgbm/basic.py:1205: UserWarning: Using categorical_feature in Dataset.\n",
      "  warnings.warn('Using categorical_feature in Dataset.')\n",
      "/home/jinpwa/anaconda3/lib/python3.6/site-packages/lightgbm/basic.py:762: UserWarning: categorical_feature in param dict is overridden.\n",
      "  warnings.warn('categorical_feature in param dict is overridden.')\n"
     ]
    },
    {
     "name": "stdout",
     "output_type": "stream",
     "text": [
      "Training until validation scores don't improve for 500 rounds.\n",
      "[500]\ttraining's auc: 0.996635\tvalid_1's auc: 0.91752\n",
      "[1000]\ttraining's auc: 0.999954\tvalid_1's auc: 0.925422\n",
      "[1500]\ttraining's auc: 1\tvalid_1's auc: 0.926797\n",
      "[2000]\ttraining's auc: 1\tvalid_1's auc: 0.926517\n",
      "Early stopping, best iteration is:\n",
      "[1642]\ttraining's auc: 1\tvalid_1's auc: 0.926904\n",
      "V237\n"
     ]
    },
    {
     "name": "stderr",
     "output_type": "stream",
     "text": [
      "/home/jinpwa/anaconda3/lib/python3.6/site-packages/lightgbm/basic.py:1205: UserWarning: Using categorical_feature in Dataset.\n",
      "  warnings.warn('Using categorical_feature in Dataset.')\n",
      "/home/jinpwa/anaconda3/lib/python3.6/site-packages/lightgbm/basic.py:762: UserWarning: categorical_feature in param dict is overridden.\n",
      "  warnings.warn('categorical_feature in param dict is overridden.')\n"
     ]
    },
    {
     "name": "stdout",
     "output_type": "stream",
     "text": [
      "Training until validation scores don't improve for 500 rounds.\n",
      "[500]\ttraining's auc: 0.996616\tvalid_1's auc: 0.917149\n",
      "[1000]\ttraining's auc: 0.999953\tvalid_1's auc: 0.924999\n",
      "[1500]\ttraining's auc: 1\tvalid_1's auc: 0.926558\n",
      "[2000]\ttraining's auc: 1\tvalid_1's auc: 0.926762\n",
      "Early stopping, best iteration is:\n",
      "[1614]\ttraining's auc: 1\tvalid_1's auc: 0.926711\n",
      "V238\n"
     ]
    },
    {
     "name": "stderr",
     "output_type": "stream",
     "text": [
      "/home/jinpwa/anaconda3/lib/python3.6/site-packages/lightgbm/basic.py:1205: UserWarning: Using categorical_feature in Dataset.\n",
      "  warnings.warn('Using categorical_feature in Dataset.')\n",
      "/home/jinpwa/anaconda3/lib/python3.6/site-packages/lightgbm/basic.py:762: UserWarning: categorical_feature in param dict is overridden.\n",
      "  warnings.warn('categorical_feature in param dict is overridden.')\n"
     ]
    },
    {
     "name": "stdout",
     "output_type": "stream",
     "text": [
      "Training until validation scores don't improve for 500 rounds.\n",
      "[500]\ttraining's auc: 0.99663\tvalid_1's auc: 0.917372\n",
      "[1000]\ttraining's auc: 0.999954\tvalid_1's auc: 0.924955\n",
      "[1500]\ttraining's auc: 1\tvalid_1's auc: 0.926309\n",
      "[2000]\ttraining's auc: 1\tvalid_1's auc: 0.926622\n",
      "Early stopping, best iteration is:\n",
      "[1634]\ttraining's auc: 1\tvalid_1's auc: 0.926464\n",
      "V239\n"
     ]
    },
    {
     "name": "stderr",
     "output_type": "stream",
     "text": [
      "/home/jinpwa/anaconda3/lib/python3.6/site-packages/lightgbm/basic.py:1205: UserWarning: Using categorical_feature in Dataset.\n",
      "  warnings.warn('Using categorical_feature in Dataset.')\n",
      "/home/jinpwa/anaconda3/lib/python3.6/site-packages/lightgbm/basic.py:762: UserWarning: categorical_feature in param dict is overridden.\n",
      "  warnings.warn('categorical_feature in param dict is overridden.')\n"
     ]
    },
    {
     "name": "stdout",
     "output_type": "stream",
     "text": [
      "Training until validation scores don't improve for 500 rounds.\n",
      "[500]\ttraining's auc: 0.996596\tvalid_1's auc: 0.917566\n",
      "[1000]\ttraining's auc: 0.999952\tvalid_1's auc: 0.925303\n",
      "[1500]\ttraining's auc: 1\tvalid_1's auc: 0.926791\n",
      "[2000]\ttraining's auc: 1\tvalid_1's auc: 0.926922\n",
      "Early stopping, best iteration is:\n",
      "[1651]\ttraining's auc: 1\tvalid_1's auc: 0.926786\n",
      "V240\n"
     ]
    },
    {
     "name": "stderr",
     "output_type": "stream",
     "text": [
      "/home/jinpwa/anaconda3/lib/python3.6/site-packages/lightgbm/basic.py:1205: UserWarning: Using categorical_feature in Dataset.\n",
      "  warnings.warn('Using categorical_feature in Dataset.')\n",
      "/home/jinpwa/anaconda3/lib/python3.6/site-packages/lightgbm/basic.py:762: UserWarning: categorical_feature in param dict is overridden.\n",
      "  warnings.warn('categorical_feature in param dict is overridden.')\n"
     ]
    },
    {
     "name": "stdout",
     "output_type": "stream",
     "text": [
      "Training until validation scores don't improve for 500 rounds.\n",
      "[500]\ttraining's auc: 0.99663\tvalid_1's auc: 0.91708\n",
      "[1000]\ttraining's auc: 0.999954\tvalid_1's auc: 0.924831\n",
      "[1500]\ttraining's auc: 1\tvalid_1's auc: 0.926226\n",
      "[2000]\ttraining's auc: 1\tvalid_1's auc: 0.926506\n",
      "Early stopping, best iteration is:\n",
      "[1644]\ttraining's auc: 1\tvalid_1's auc: 0.926371\n",
      "V241\n"
     ]
    },
    {
     "name": "stderr",
     "output_type": "stream",
     "text": [
      "/home/jinpwa/anaconda3/lib/python3.6/site-packages/lightgbm/basic.py:1205: UserWarning: Using categorical_feature in Dataset.\n",
      "  warnings.warn('Using categorical_feature in Dataset.')\n",
      "/home/jinpwa/anaconda3/lib/python3.6/site-packages/lightgbm/basic.py:762: UserWarning: categorical_feature in param dict is overridden.\n",
      "  warnings.warn('categorical_feature in param dict is overridden.')\n"
     ]
    },
    {
     "name": "stdout",
     "output_type": "stream",
     "text": [
      "Training until validation scores don't improve for 500 rounds.\n",
      "[500]\ttraining's auc: 0.99663\tvalid_1's auc: 0.91708\n",
      "[1000]\ttraining's auc: 0.999954\tvalid_1's auc: 0.924831\n",
      "[1500]\ttraining's auc: 1\tvalid_1's auc: 0.926226\n",
      "[2000]\ttraining's auc: 1\tvalid_1's auc: 0.926506\n",
      "Early stopping, best iteration is:\n",
      "[1644]\ttraining's auc: 1\tvalid_1's auc: 0.926371\n",
      "V242\n"
     ]
    },
    {
     "name": "stderr",
     "output_type": "stream",
     "text": [
      "/home/jinpwa/anaconda3/lib/python3.6/site-packages/lightgbm/basic.py:1205: UserWarning: Using categorical_feature in Dataset.\n",
      "  warnings.warn('Using categorical_feature in Dataset.')\n",
      "/home/jinpwa/anaconda3/lib/python3.6/site-packages/lightgbm/basic.py:762: UserWarning: categorical_feature in param dict is overridden.\n",
      "  warnings.warn('categorical_feature in param dict is overridden.')\n"
     ]
    },
    {
     "name": "stdout",
     "output_type": "stream",
     "text": [
      "Training until validation scores don't improve for 500 rounds.\n",
      "[500]\ttraining's auc: 0.996632\tvalid_1's auc: 0.917933\n",
      "[1000]\ttraining's auc: 0.999953\tvalid_1's auc: 0.925808\n",
      "[1500]\ttraining's auc: 1\tvalid_1's auc: 0.927136\n",
      "[2000]\ttraining's auc: 1\tvalid_1's auc: 0.927042\n",
      "Early stopping, best iteration is:\n",
      "[1629]\ttraining's auc: 1\tvalid_1's auc: 0.92725\n",
      "V243\n"
     ]
    },
    {
     "name": "stderr",
     "output_type": "stream",
     "text": [
      "/home/jinpwa/anaconda3/lib/python3.6/site-packages/lightgbm/basic.py:1205: UserWarning: Using categorical_feature in Dataset.\n",
      "  warnings.warn('Using categorical_feature in Dataset.')\n",
      "/home/jinpwa/anaconda3/lib/python3.6/site-packages/lightgbm/basic.py:762: UserWarning: categorical_feature in param dict is overridden.\n",
      "  warnings.warn('categorical_feature in param dict is overridden.')\n"
     ]
    },
    {
     "name": "stdout",
     "output_type": "stream",
     "text": [
      "Training until validation scores don't improve for 500 rounds.\n",
      "[500]\ttraining's auc: 0.996675\tvalid_1's auc: 0.917126\n",
      "[1000]\ttraining's auc: 0.999955\tvalid_1's auc: 0.925227\n",
      "[1500]\ttraining's auc: 1\tvalid_1's auc: 0.926929\n",
      "[2000]\ttraining's auc: 1\tvalid_1's auc: 0.92714\n",
      "Early stopping, best iteration is:\n",
      "[1613]\ttraining's auc: 1\tvalid_1's auc: 0.926933\n",
      "V244\n"
     ]
    },
    {
     "name": "stderr",
     "output_type": "stream",
     "text": [
      "/home/jinpwa/anaconda3/lib/python3.6/site-packages/lightgbm/basic.py:1205: UserWarning: Using categorical_feature in Dataset.\n",
      "  warnings.warn('Using categorical_feature in Dataset.')\n",
      "/home/jinpwa/anaconda3/lib/python3.6/site-packages/lightgbm/basic.py:762: UserWarning: categorical_feature in param dict is overridden.\n",
      "  warnings.warn('categorical_feature in param dict is overridden.')\n"
     ]
    },
    {
     "name": "stdout",
     "output_type": "stream",
     "text": [
      "Training until validation scores don't improve for 500 rounds.\n",
      "[500]\ttraining's auc: 0.996645\tvalid_1's auc: 0.917525\n",
      "[1000]\ttraining's auc: 0.999957\tvalid_1's auc: 0.925863\n",
      "[1500]\ttraining's auc: 1\tvalid_1's auc: 0.927203\n",
      "[2000]\ttraining's auc: 1\tvalid_1's auc: 0.927399\n",
      "Early stopping, best iteration is:\n",
      "[1627]\ttraining's auc: 1\tvalid_1's auc: 0.927146\n",
      "V245\n"
     ]
    },
    {
     "name": "stderr",
     "output_type": "stream",
     "text": [
      "/home/jinpwa/anaconda3/lib/python3.6/site-packages/lightgbm/basic.py:1205: UserWarning: Using categorical_feature in Dataset.\n",
      "  warnings.warn('Using categorical_feature in Dataset.')\n",
      "/home/jinpwa/anaconda3/lib/python3.6/site-packages/lightgbm/basic.py:762: UserWarning: categorical_feature in param dict is overridden.\n",
      "  warnings.warn('categorical_feature in param dict is overridden.')\n"
     ]
    },
    {
     "name": "stdout",
     "output_type": "stream",
     "text": [
      "Training until validation scores don't improve for 500 rounds.\n",
      "[500]\ttraining's auc: 0.996661\tvalid_1's auc: 0.917544\n",
      "[1000]\ttraining's auc: 0.999952\tvalid_1's auc: 0.92531\n",
      "[1500]\ttraining's auc: 1\tvalid_1's auc: 0.92642\n",
      "[2000]\ttraining's auc: 1\tvalid_1's auc: 0.926403\n",
      "Early stopping, best iteration is:\n",
      "[1636]\ttraining's auc: 1\tvalid_1's auc: 0.926552\n",
      "V246\n"
     ]
    },
    {
     "name": "stderr",
     "output_type": "stream",
     "text": [
      "/home/jinpwa/anaconda3/lib/python3.6/site-packages/lightgbm/basic.py:1205: UserWarning: Using categorical_feature in Dataset.\n",
      "  warnings.warn('Using categorical_feature in Dataset.')\n",
      "/home/jinpwa/anaconda3/lib/python3.6/site-packages/lightgbm/basic.py:762: UserWarning: categorical_feature in param dict is overridden.\n",
      "  warnings.warn('categorical_feature in param dict is overridden.')\n"
     ]
    },
    {
     "name": "stdout",
     "output_type": "stream",
     "text": [
      "Training until validation scores don't improve for 500 rounds.\n",
      "[500]\ttraining's auc: 0.996639\tvalid_1's auc: 0.917213\n",
      "[1000]\ttraining's auc: 0.999954\tvalid_1's auc: 0.925177\n",
      "[1500]\ttraining's auc: 1\tvalid_1's auc: 0.926719\n",
      "[2000]\ttraining's auc: 1\tvalid_1's auc: 0.926742\n",
      "Early stopping, best iteration is:\n",
      "[1642]\ttraining's auc: 1\tvalid_1's auc: 0.926846\n",
      "V247\n"
     ]
    },
    {
     "name": "stderr",
     "output_type": "stream",
     "text": [
      "/home/jinpwa/anaconda3/lib/python3.6/site-packages/lightgbm/basic.py:1205: UserWarning: Using categorical_feature in Dataset.\n",
      "  warnings.warn('Using categorical_feature in Dataset.')\n",
      "/home/jinpwa/anaconda3/lib/python3.6/site-packages/lightgbm/basic.py:762: UserWarning: categorical_feature in param dict is overridden.\n",
      "  warnings.warn('categorical_feature in param dict is overridden.')\n"
     ]
    },
    {
     "name": "stdout",
     "output_type": "stream",
     "text": [
      "Training until validation scores don't improve for 500 rounds.\n",
      "[500]\ttraining's auc: 0.996674\tvalid_1's auc: 0.917583\n",
      "[1000]\ttraining's auc: 0.999956\tvalid_1's auc: 0.925043\n",
      "[1500]\ttraining's auc: 1\tvalid_1's auc: 0.926694\n",
      "[2000]\ttraining's auc: 1\tvalid_1's auc: 0.927078\n",
      "Early stopping, best iteration is:\n",
      "[1648]\ttraining's auc: 1\tvalid_1's auc: 0.926812\n",
      "V248\n"
     ]
    },
    {
     "name": "stderr",
     "output_type": "stream",
     "text": [
      "/home/jinpwa/anaconda3/lib/python3.6/site-packages/lightgbm/basic.py:1205: UserWarning: Using categorical_feature in Dataset.\n",
      "  warnings.warn('Using categorical_feature in Dataset.')\n",
      "/home/jinpwa/anaconda3/lib/python3.6/site-packages/lightgbm/basic.py:762: UserWarning: categorical_feature in param dict is overridden.\n",
      "  warnings.warn('categorical_feature in param dict is overridden.')\n"
     ]
    },
    {
     "name": "stdout",
     "output_type": "stream",
     "text": [
      "Training until validation scores don't improve for 500 rounds.\n",
      "[500]\ttraining's auc: 0.996693\tvalid_1's auc: 0.917902\n",
      "[1000]\ttraining's auc: 0.999954\tvalid_1's auc: 0.926421\n",
      "[1500]\ttraining's auc: 1\tvalid_1's auc: 0.927839\n",
      "[2000]\ttraining's auc: 1\tvalid_1's auc: 0.927856\n",
      "Early stopping, best iteration is:\n",
      "[1653]\ttraining's auc: 1\tvalid_1's auc: 0.92789\n",
      "V249\n"
     ]
    },
    {
     "name": "stderr",
     "output_type": "stream",
     "text": [
      "/home/jinpwa/anaconda3/lib/python3.6/site-packages/lightgbm/basic.py:1205: UserWarning: Using categorical_feature in Dataset.\n",
      "  warnings.warn('Using categorical_feature in Dataset.')\n",
      "/home/jinpwa/anaconda3/lib/python3.6/site-packages/lightgbm/basic.py:762: UserWarning: categorical_feature in param dict is overridden.\n",
      "  warnings.warn('categorical_feature in param dict is overridden.')\n"
     ]
    },
    {
     "name": "stdout",
     "output_type": "stream",
     "text": [
      "Training until validation scores don't improve for 500 rounds.\n",
      "[500]\ttraining's auc: 0.996606\tvalid_1's auc: 0.917627\n",
      "[1000]\ttraining's auc: 0.999955\tvalid_1's auc: 0.925244\n",
      "[1500]\ttraining's auc: 1\tvalid_1's auc: 0.926641\n",
      "[2000]\ttraining's auc: 1\tvalid_1's auc: 0.926766\n",
      "Early stopping, best iteration is:\n",
      "[1666]\ttraining's auc: 1\tvalid_1's auc: 0.926685\n",
      "V250\n"
     ]
    },
    {
     "name": "stderr",
     "output_type": "stream",
     "text": [
      "/home/jinpwa/anaconda3/lib/python3.6/site-packages/lightgbm/basic.py:1205: UserWarning: Using categorical_feature in Dataset.\n",
      "  warnings.warn('Using categorical_feature in Dataset.')\n",
      "/home/jinpwa/anaconda3/lib/python3.6/site-packages/lightgbm/basic.py:762: UserWarning: categorical_feature in param dict is overridden.\n",
      "  warnings.warn('categorical_feature in param dict is overridden.')\n"
     ]
    },
    {
     "name": "stdout",
     "output_type": "stream",
     "text": [
      "Training until validation scores don't improve for 500 rounds.\n",
      "[500]\ttraining's auc: 0.996658\tvalid_1's auc: 0.917758\n",
      "[1000]\ttraining's auc: 0.999955\tvalid_1's auc: 0.925487\n",
      "[1500]\ttraining's auc: 1\tvalid_1's auc: 0.927094\n",
      "[2000]\ttraining's auc: 1\tvalid_1's auc: 0.927058\n",
      "Early stopping, best iteration is:\n",
      "[1580]\ttraining's auc: 1\tvalid_1's auc: 0.927204\n",
      "V251\n"
     ]
    },
    {
     "name": "stderr",
     "output_type": "stream",
     "text": [
      "/home/jinpwa/anaconda3/lib/python3.6/site-packages/lightgbm/basic.py:1205: UserWarning: Using categorical_feature in Dataset.\n",
      "  warnings.warn('Using categorical_feature in Dataset.')\n",
      "/home/jinpwa/anaconda3/lib/python3.6/site-packages/lightgbm/basic.py:762: UserWarning: categorical_feature in param dict is overridden.\n",
      "  warnings.warn('categorical_feature in param dict is overridden.')\n"
     ]
    },
    {
     "name": "stdout",
     "output_type": "stream",
     "text": [
      "Training until validation scores don't improve for 500 rounds.\n",
      "[500]\ttraining's auc: 0.996658\tvalid_1's auc: 0.917628\n",
      "[1000]\ttraining's auc: 0.999955\tvalid_1's auc: 0.925191\n",
      "[1500]\ttraining's auc: 1\tvalid_1's auc: 0.926379\n",
      "[2000]\ttraining's auc: 1\tvalid_1's auc: 0.926603\n",
      "Early stopping, best iteration is:\n",
      "[1655]\ttraining's auc: 1\tvalid_1's auc: 0.926547\n",
      "V252\n"
     ]
    },
    {
     "name": "stderr",
     "output_type": "stream",
     "text": [
      "/home/jinpwa/anaconda3/lib/python3.6/site-packages/lightgbm/basic.py:1205: UserWarning: Using categorical_feature in Dataset.\n",
      "  warnings.warn('Using categorical_feature in Dataset.')\n",
      "/home/jinpwa/anaconda3/lib/python3.6/site-packages/lightgbm/basic.py:762: UserWarning: categorical_feature in param dict is overridden.\n",
      "  warnings.warn('categorical_feature in param dict is overridden.')\n"
     ]
    },
    {
     "name": "stdout",
     "output_type": "stream",
     "text": [
      "Training until validation scores don't improve for 500 rounds.\n",
      "[500]\ttraining's auc: 0.996694\tvalid_1's auc: 0.917913\n",
      "[1000]\ttraining's auc: 0.999956\tvalid_1's auc: 0.92547\n",
      "[1500]\ttraining's auc: 1\tvalid_1's auc: 0.926855\n",
      "[2000]\ttraining's auc: 1\tvalid_1's auc: 0.926922\n",
      "Early stopping, best iteration is:\n",
      "[1644]\ttraining's auc: 1\tvalid_1's auc: 0.926905\n",
      "V253\n"
     ]
    },
    {
     "name": "stderr",
     "output_type": "stream",
     "text": [
      "/home/jinpwa/anaconda3/lib/python3.6/site-packages/lightgbm/basic.py:1205: UserWarning: Using categorical_feature in Dataset.\n",
      "  warnings.warn('Using categorical_feature in Dataset.')\n",
      "/home/jinpwa/anaconda3/lib/python3.6/site-packages/lightgbm/basic.py:762: UserWarning: categorical_feature in param dict is overridden.\n",
      "  warnings.warn('categorical_feature in param dict is overridden.')\n"
     ]
    },
    {
     "name": "stdout",
     "output_type": "stream",
     "text": [
      "Training until validation scores don't improve for 500 rounds.\n",
      "[500]\ttraining's auc: 0.996633\tvalid_1's auc: 0.917778\n",
      "[1000]\ttraining's auc: 0.999955\tvalid_1's auc: 0.925598\n",
      "[1500]\ttraining's auc: 1\tvalid_1's auc: 0.926632\n",
      "[2000]\ttraining's auc: 1\tvalid_1's auc: 0.92676\n",
      "Early stopping, best iteration is:\n",
      "[1651]\ttraining's auc: 1\tvalid_1's auc: 0.926782\n",
      "V254\n"
     ]
    },
    {
     "name": "stderr",
     "output_type": "stream",
     "text": [
      "/home/jinpwa/anaconda3/lib/python3.6/site-packages/lightgbm/basic.py:1205: UserWarning: Using categorical_feature in Dataset.\n",
      "  warnings.warn('Using categorical_feature in Dataset.')\n",
      "/home/jinpwa/anaconda3/lib/python3.6/site-packages/lightgbm/basic.py:762: UserWarning: categorical_feature in param dict is overridden.\n",
      "  warnings.warn('categorical_feature in param dict is overridden.')\n"
     ]
    },
    {
     "name": "stdout",
     "output_type": "stream",
     "text": [
      "Training until validation scores don't improve for 500 rounds.\n",
      "[500]\ttraining's auc: 0.996638\tvalid_1's auc: 0.917671\n",
      "[1000]\ttraining's auc: 0.999953\tvalid_1's auc: 0.925261\n",
      "[1500]\ttraining's auc: 1\tvalid_1's auc: 0.926674\n",
      "[2000]\ttraining's auc: 1\tvalid_1's auc: 0.92669\n",
      "Early stopping, best iteration is:\n",
      "[1657]\ttraining's auc: 1\tvalid_1's auc: 0.926811\n",
      "V255\n"
     ]
    },
    {
     "name": "stderr",
     "output_type": "stream",
     "text": [
      "/home/jinpwa/anaconda3/lib/python3.6/site-packages/lightgbm/basic.py:1205: UserWarning: Using categorical_feature in Dataset.\n",
      "  warnings.warn('Using categorical_feature in Dataset.')\n",
      "/home/jinpwa/anaconda3/lib/python3.6/site-packages/lightgbm/basic.py:762: UserWarning: categorical_feature in param dict is overridden.\n",
      "  warnings.warn('categorical_feature in param dict is overridden.')\n"
     ]
    },
    {
     "name": "stdout",
     "output_type": "stream",
     "text": [
      "Training until validation scores don't improve for 500 rounds.\n",
      "[500]\ttraining's auc: 0.996653\tvalid_1's auc: 0.91793\n",
      "[1000]\ttraining's auc: 0.999956\tvalid_1's auc: 0.925917\n",
      "[1500]\ttraining's auc: 1\tvalid_1's auc: 0.927255\n",
      "Early stopping, best iteration is:\n",
      "[1497]\ttraining's auc: 1\tvalid_1's auc: 0.927274\n",
      "V256\n"
     ]
    },
    {
     "name": "stderr",
     "output_type": "stream",
     "text": [
      "/home/jinpwa/anaconda3/lib/python3.6/site-packages/lightgbm/basic.py:1205: UserWarning: Using categorical_feature in Dataset.\n",
      "  warnings.warn('Using categorical_feature in Dataset.')\n",
      "/home/jinpwa/anaconda3/lib/python3.6/site-packages/lightgbm/basic.py:762: UserWarning: categorical_feature in param dict is overridden.\n",
      "  warnings.warn('categorical_feature in param dict is overridden.')\n"
     ]
    },
    {
     "name": "stdout",
     "output_type": "stream",
     "text": [
      "Training until validation scores don't improve for 500 rounds.\n",
      "[500]\ttraining's auc: 0.996637\tvalid_1's auc: 0.917622\n",
      "[1000]\ttraining's auc: 0.999954\tvalid_1's auc: 0.92533\n",
      "[1500]\ttraining's auc: 1\tvalid_1's auc: 0.926504\n",
      "[2000]\ttraining's auc: 1\tvalid_1's auc: 0.926676\n",
      "Early stopping, best iteration is:\n",
      "[1674]\ttraining's auc: 1\tvalid_1's auc: 0.926626\n",
      "V257\n"
     ]
    },
    {
     "name": "stderr",
     "output_type": "stream",
     "text": [
      "/home/jinpwa/anaconda3/lib/python3.6/site-packages/lightgbm/basic.py:1205: UserWarning: Using categorical_feature in Dataset.\n",
      "  warnings.warn('Using categorical_feature in Dataset.')\n",
      "/home/jinpwa/anaconda3/lib/python3.6/site-packages/lightgbm/basic.py:762: UserWarning: categorical_feature in param dict is overridden.\n",
      "  warnings.warn('categorical_feature in param dict is overridden.')\n"
     ]
    },
    {
     "name": "stdout",
     "output_type": "stream",
     "text": [
      "Training until validation scores don't improve for 500 rounds.\n",
      "[500]\ttraining's auc: 0.996681\tvalid_1's auc: 0.917745\n",
      "[1000]\ttraining's auc: 0.999956\tvalid_1's auc: 0.925684\n",
      "[1500]\ttraining's auc: 1\tvalid_1's auc: 0.926819\n",
      "Early stopping, best iteration is:\n",
      "[1467]\ttraining's auc: 1\tvalid_1's auc: 0.926862\n",
      "V258\n"
     ]
    },
    {
     "name": "stderr",
     "output_type": "stream",
     "text": [
      "/home/jinpwa/anaconda3/lib/python3.6/site-packages/lightgbm/basic.py:1205: UserWarning: Using categorical_feature in Dataset.\n",
      "  warnings.warn('Using categorical_feature in Dataset.')\n",
      "/home/jinpwa/anaconda3/lib/python3.6/site-packages/lightgbm/basic.py:762: UserWarning: categorical_feature in param dict is overridden.\n",
      "  warnings.warn('categorical_feature in param dict is overridden.')\n"
     ]
    },
    {
     "name": "stdout",
     "output_type": "stream",
     "text": [
      "Training until validation scores don't improve for 500 rounds.\n",
      "[500]\ttraining's auc: 0.996642\tvalid_1's auc: 0.917065\n",
      "[1000]\ttraining's auc: 0.999952\tvalid_1's auc: 0.925503\n",
      "[1500]\ttraining's auc: 1\tvalid_1's auc: 0.927098\n",
      "[2000]\ttraining's auc: 1\tvalid_1's auc: 0.927285\n",
      "Early stopping, best iteration is:\n",
      "[1653]\ttraining's auc: 1\tvalid_1's auc: 0.927171\n",
      "V259\n"
     ]
    },
    {
     "name": "stderr",
     "output_type": "stream",
     "text": [
      "/home/jinpwa/anaconda3/lib/python3.6/site-packages/lightgbm/basic.py:1205: UserWarning: Using categorical_feature in Dataset.\n",
      "  warnings.warn('Using categorical_feature in Dataset.')\n",
      "/home/jinpwa/anaconda3/lib/python3.6/site-packages/lightgbm/basic.py:762: UserWarning: categorical_feature in param dict is overridden.\n",
      "  warnings.warn('categorical_feature in param dict is overridden.')\n"
     ]
    },
    {
     "name": "stdout",
     "output_type": "stream",
     "text": [
      "Training until validation scores don't improve for 500 rounds.\n",
      "[500]\ttraining's auc: 0.996645\tvalid_1's auc: 0.917737\n",
      "[1000]\ttraining's auc: 0.999954\tvalid_1's auc: 0.925104\n",
      "[1500]\ttraining's auc: 1\tvalid_1's auc: 0.926269\n",
      "[2000]\ttraining's auc: 1\tvalid_1's auc: 0.9264\n",
      "Early stopping, best iteration is:\n",
      "[1647]\ttraining's auc: 1\tvalid_1's auc: 0.926441\n",
      "V260\n"
     ]
    },
    {
     "name": "stderr",
     "output_type": "stream",
     "text": [
      "/home/jinpwa/anaconda3/lib/python3.6/site-packages/lightgbm/basic.py:1205: UserWarning: Using categorical_feature in Dataset.\n",
      "  warnings.warn('Using categorical_feature in Dataset.')\n",
      "/home/jinpwa/anaconda3/lib/python3.6/site-packages/lightgbm/basic.py:762: UserWarning: categorical_feature in param dict is overridden.\n",
      "  warnings.warn('categorical_feature in param dict is overridden.')\n"
     ]
    },
    {
     "name": "stdout",
     "output_type": "stream",
     "text": [
      "Training until validation scores don't improve for 500 rounds.\n",
      "[500]\ttraining's auc: 0.996698\tvalid_1's auc: 0.917316\n",
      "[1000]\ttraining's auc: 0.999954\tvalid_1's auc: 0.925064\n",
      "[1500]\ttraining's auc: 1\tvalid_1's auc: 0.926216\n",
      "[2000]\ttraining's auc: 1\tvalid_1's auc: 0.926171\n",
      "Early stopping, best iteration is:\n",
      "[1634]\ttraining's auc: 1\tvalid_1's auc: 0.926346\n",
      "V261\n"
     ]
    },
    {
     "name": "stderr",
     "output_type": "stream",
     "text": [
      "/home/jinpwa/anaconda3/lib/python3.6/site-packages/lightgbm/basic.py:1205: UserWarning: Using categorical_feature in Dataset.\n",
      "  warnings.warn('Using categorical_feature in Dataset.')\n",
      "/home/jinpwa/anaconda3/lib/python3.6/site-packages/lightgbm/basic.py:762: UserWarning: categorical_feature in param dict is overridden.\n",
      "  warnings.warn('categorical_feature in param dict is overridden.')\n"
     ]
    },
    {
     "name": "stdout",
     "output_type": "stream",
     "text": [
      "Training until validation scores don't improve for 500 rounds.\n",
      "[500]\ttraining's auc: 0.996665\tvalid_1's auc: 0.917665\n",
      "[1000]\ttraining's auc: 0.999957\tvalid_1's auc: 0.925381\n",
      "[1500]\ttraining's auc: 1\tvalid_1's auc: 0.927264\n",
      "[2000]\ttraining's auc: 1\tvalid_1's auc: 0.927292\n",
      "Early stopping, best iteration is:\n",
      "[1563]\ttraining's auc: 1\tvalid_1's auc: 0.927404\n",
      "V262\n"
     ]
    },
    {
     "name": "stderr",
     "output_type": "stream",
     "text": [
      "/home/jinpwa/anaconda3/lib/python3.6/site-packages/lightgbm/basic.py:1205: UserWarning: Using categorical_feature in Dataset.\n",
      "  warnings.warn('Using categorical_feature in Dataset.')\n",
      "/home/jinpwa/anaconda3/lib/python3.6/site-packages/lightgbm/basic.py:762: UserWarning: categorical_feature in param dict is overridden.\n",
      "  warnings.warn('categorical_feature in param dict is overridden.')\n"
     ]
    },
    {
     "name": "stdout",
     "output_type": "stream",
     "text": [
      "Training until validation scores don't improve for 500 rounds.\n",
      "[500]\ttraining's auc: 0.996676\tvalid_1's auc: 0.917562\n",
      "[1000]\ttraining's auc: 0.999954\tvalid_1's auc: 0.925503\n",
      "[1500]\ttraining's auc: 1\tvalid_1's auc: 0.926914\n",
      "[2000]\ttraining's auc: 1\tvalid_1's auc: 0.926886\n",
      "Early stopping, best iteration is:\n",
      "[1610]\ttraining's auc: 1\tvalid_1's auc: 0.927033\n",
      "V263\n"
     ]
    },
    {
     "name": "stderr",
     "output_type": "stream",
     "text": [
      "/home/jinpwa/anaconda3/lib/python3.6/site-packages/lightgbm/basic.py:1205: UserWarning: Using categorical_feature in Dataset.\n",
      "  warnings.warn('Using categorical_feature in Dataset.')\n",
      "/home/jinpwa/anaconda3/lib/python3.6/site-packages/lightgbm/basic.py:762: UserWarning: categorical_feature in param dict is overridden.\n",
      "  warnings.warn('categorical_feature in param dict is overridden.')\n"
     ]
    },
    {
     "name": "stdout",
     "output_type": "stream",
     "text": [
      "Training until validation scores don't improve for 500 rounds.\n",
      "[500]\ttraining's auc: 0.996672\tvalid_1's auc: 0.918346\n",
      "[1000]\ttraining's auc: 0.999955\tvalid_1's auc: 0.925405\n",
      "[1500]\ttraining's auc: 1\tvalid_1's auc: 0.926925\n",
      "[2000]\ttraining's auc: 1\tvalid_1's auc: 0.927063\n",
      "Early stopping, best iteration is:\n",
      "[1640]\ttraining's auc: 1\tvalid_1's auc: 0.92713\n",
      "V264\n"
     ]
    },
    {
     "name": "stderr",
     "output_type": "stream",
     "text": [
      "/home/jinpwa/anaconda3/lib/python3.6/site-packages/lightgbm/basic.py:1205: UserWarning: Using categorical_feature in Dataset.\n",
      "  warnings.warn('Using categorical_feature in Dataset.')\n",
      "/home/jinpwa/anaconda3/lib/python3.6/site-packages/lightgbm/basic.py:762: UserWarning: categorical_feature in param dict is overridden.\n",
      "  warnings.warn('categorical_feature in param dict is overridden.')\n"
     ]
    },
    {
     "name": "stdout",
     "output_type": "stream",
     "text": [
      "Training until validation scores don't improve for 500 rounds.\n",
      "[500]\ttraining's auc: 0.996656\tvalid_1's auc: 0.917314\n",
      "[1000]\ttraining's auc: 0.999954\tvalid_1's auc: 0.924882\n",
      "[1500]\ttraining's auc: 1\tvalid_1's auc: 0.926464\n",
      "[2000]\ttraining's auc: 1\tvalid_1's auc: 0.92663\n",
      "Early stopping, best iteration is:\n",
      "[1651]\ttraining's auc: 1\tvalid_1's auc: 0.926561\n",
      "V265\n"
     ]
    },
    {
     "name": "stderr",
     "output_type": "stream",
     "text": [
      "/home/jinpwa/anaconda3/lib/python3.6/site-packages/lightgbm/basic.py:1205: UserWarning: Using categorical_feature in Dataset.\n",
      "  warnings.warn('Using categorical_feature in Dataset.')\n",
      "/home/jinpwa/anaconda3/lib/python3.6/site-packages/lightgbm/basic.py:762: UserWarning: categorical_feature in param dict is overridden.\n",
      "  warnings.warn('categorical_feature in param dict is overridden.')\n"
     ]
    },
    {
     "name": "stdout",
     "output_type": "stream",
     "text": [
      "Training until validation scores don't improve for 500 rounds.\n",
      "[500]\ttraining's auc: 0.996689\tvalid_1's auc: 0.917663\n",
      "[1000]\ttraining's auc: 0.999954\tvalid_1's auc: 0.925356\n",
      "[1500]\ttraining's auc: 1\tvalid_1's auc: 0.926831\n",
      "[2000]\ttraining's auc: 1\tvalid_1's auc: 0.927069\n",
      "Early stopping, best iteration is:\n",
      "[1651]\ttraining's auc: 1\tvalid_1's auc: 0.926901\n",
      "V266\n"
     ]
    },
    {
     "name": "stderr",
     "output_type": "stream",
     "text": [
      "/home/jinpwa/anaconda3/lib/python3.6/site-packages/lightgbm/basic.py:1205: UserWarning: Using categorical_feature in Dataset.\n",
      "  warnings.warn('Using categorical_feature in Dataset.')\n",
      "/home/jinpwa/anaconda3/lib/python3.6/site-packages/lightgbm/basic.py:762: UserWarning: categorical_feature in param dict is overridden.\n",
      "  warnings.warn('categorical_feature in param dict is overridden.')\n"
     ]
    },
    {
     "name": "stdout",
     "output_type": "stream",
     "text": [
      "Training until validation scores don't improve for 500 rounds.\n",
      "[500]\ttraining's auc: 0.996675\tvalid_1's auc: 0.917368\n",
      "[1000]\ttraining's auc: 0.999957\tvalid_1's auc: 0.925486\n",
      "[1500]\ttraining's auc: 1\tvalid_1's auc: 0.927066\n",
      "[2000]\ttraining's auc: 1\tvalid_1's auc: 0.92733\n",
      "Early stopping, best iteration is:\n",
      "[1650]\ttraining's auc: 1\tvalid_1's auc: 0.927331\n",
      "V267\n"
     ]
    },
    {
     "name": "stderr",
     "output_type": "stream",
     "text": [
      "/home/jinpwa/anaconda3/lib/python3.6/site-packages/lightgbm/basic.py:1205: UserWarning: Using categorical_feature in Dataset.\n",
      "  warnings.warn('Using categorical_feature in Dataset.')\n",
      "/home/jinpwa/anaconda3/lib/python3.6/site-packages/lightgbm/basic.py:762: UserWarning: categorical_feature in param dict is overridden.\n",
      "  warnings.warn('categorical_feature in param dict is overridden.')\n"
     ]
    },
    {
     "name": "stdout",
     "output_type": "stream",
     "text": [
      "Training until validation scores don't improve for 500 rounds.\n",
      "[500]\ttraining's auc: 0.996638\tvalid_1's auc: 0.917626\n",
      "[1000]\ttraining's auc: 0.999955\tvalid_1's auc: 0.925507\n",
      "[1500]\ttraining's auc: 1\tvalid_1's auc: 0.927184\n",
      "[2000]\ttraining's auc: 1\tvalid_1's auc: 0.927315\n",
      "Early stopping, best iteration is:\n",
      "[1647]\ttraining's auc: 1\tvalid_1's auc: 0.927339\n",
      "V268\n"
     ]
    },
    {
     "name": "stderr",
     "output_type": "stream",
     "text": [
      "/home/jinpwa/anaconda3/lib/python3.6/site-packages/lightgbm/basic.py:1205: UserWarning: Using categorical_feature in Dataset.\n",
      "  warnings.warn('Using categorical_feature in Dataset.')\n",
      "/home/jinpwa/anaconda3/lib/python3.6/site-packages/lightgbm/basic.py:762: UserWarning: categorical_feature in param dict is overridden.\n",
      "  warnings.warn('categorical_feature in param dict is overridden.')\n"
     ]
    },
    {
     "name": "stdout",
     "output_type": "stream",
     "text": [
      "Training until validation scores don't improve for 500 rounds.\n",
      "[500]\ttraining's auc: 0.996596\tvalid_1's auc: 0.917558\n",
      "[1000]\ttraining's auc: 0.999955\tvalid_1's auc: 0.925419\n",
      "[1500]\ttraining's auc: 1\tvalid_1's auc: 0.927056\n",
      "[2000]\ttraining's auc: 1\tvalid_1's auc: 0.926923\n",
      "Early stopping, best iteration is:\n",
      "[1638]\ttraining's auc: 1\tvalid_1's auc: 0.927243\n",
      "V269\n"
     ]
    },
    {
     "name": "stderr",
     "output_type": "stream",
     "text": [
      "/home/jinpwa/anaconda3/lib/python3.6/site-packages/lightgbm/basic.py:1205: UserWarning: Using categorical_feature in Dataset.\n",
      "  warnings.warn('Using categorical_feature in Dataset.')\n",
      "/home/jinpwa/anaconda3/lib/python3.6/site-packages/lightgbm/basic.py:762: UserWarning: categorical_feature in param dict is overridden.\n",
      "  warnings.warn('categorical_feature in param dict is overridden.')\n"
     ]
    },
    {
     "name": "stdout",
     "output_type": "stream",
     "text": [
      "Training until validation scores don't improve for 500 rounds.\n",
      "[500]\ttraining's auc: 0.996684\tvalid_1's auc: 0.916945\n",
      "[1000]\ttraining's auc: 0.999956\tvalid_1's auc: 0.92484\n",
      "[1500]\ttraining's auc: 1\tvalid_1's auc: 0.926219\n",
      "[2000]\ttraining's auc: 1\tvalid_1's auc: 0.926538\n",
      "Early stopping, best iteration is:\n",
      "[1629]\ttraining's auc: 1\tvalid_1's auc: 0.926405\n",
      "V270\n"
     ]
    },
    {
     "name": "stderr",
     "output_type": "stream",
     "text": [
      "/home/jinpwa/anaconda3/lib/python3.6/site-packages/lightgbm/basic.py:1205: UserWarning: Using categorical_feature in Dataset.\n",
      "  warnings.warn('Using categorical_feature in Dataset.')\n",
      "/home/jinpwa/anaconda3/lib/python3.6/site-packages/lightgbm/basic.py:762: UserWarning: categorical_feature in param dict is overridden.\n",
      "  warnings.warn('categorical_feature in param dict is overridden.')\n"
     ]
    },
    {
     "name": "stdout",
     "output_type": "stream",
     "text": [
      "Training until validation scores don't improve for 500 rounds.\n",
      "[500]\ttraining's auc: 0.996744\tvalid_1's auc: 0.918085\n",
      "[1000]\ttraining's auc: 0.999957\tvalid_1's auc: 0.925681\n",
      "[1500]\ttraining's auc: 1\tvalid_1's auc: 0.926615\n",
      "[2000]\ttraining's auc: 1\tvalid_1's auc: 0.926728\n",
      "Early stopping, best iteration is:\n",
      "[1625]\ttraining's auc: 1\tvalid_1's auc: 0.926924\n",
      "V271\n"
     ]
    },
    {
     "name": "stderr",
     "output_type": "stream",
     "text": [
      "/home/jinpwa/anaconda3/lib/python3.6/site-packages/lightgbm/basic.py:1205: UserWarning: Using categorical_feature in Dataset.\n",
      "  warnings.warn('Using categorical_feature in Dataset.')\n",
      "/home/jinpwa/anaconda3/lib/python3.6/site-packages/lightgbm/basic.py:762: UserWarning: categorical_feature in param dict is overridden.\n",
      "  warnings.warn('categorical_feature in param dict is overridden.')\n"
     ]
    },
    {
     "name": "stdout",
     "output_type": "stream",
     "text": [
      "Training until validation scores don't improve for 500 rounds.\n",
      "[500]\ttraining's auc: 0.996672\tvalid_1's auc: 0.917926\n",
      "[1000]\ttraining's auc: 0.999954\tvalid_1's auc: 0.926426\n",
      "[1500]\ttraining's auc: 1\tvalid_1's auc: 0.92767\n",
      "[2000]\ttraining's auc: 1\tvalid_1's auc: 0.92766\n",
      "Early stopping, best iteration is:\n",
      "[1603]\ttraining's auc: 1\tvalid_1's auc: 0.927749\n",
      "V272\n"
     ]
    },
    {
     "name": "stderr",
     "output_type": "stream",
     "text": [
      "/home/jinpwa/anaconda3/lib/python3.6/site-packages/lightgbm/basic.py:1205: UserWarning: Using categorical_feature in Dataset.\n",
      "  warnings.warn('Using categorical_feature in Dataset.')\n",
      "/home/jinpwa/anaconda3/lib/python3.6/site-packages/lightgbm/basic.py:762: UserWarning: categorical_feature in param dict is overridden.\n",
      "  warnings.warn('categorical_feature in param dict is overridden.')\n"
     ]
    },
    {
     "name": "stdout",
     "output_type": "stream",
     "text": [
      "Training until validation scores don't improve for 500 rounds.\n",
      "[500]\ttraining's auc: 0.996672\tvalid_1's auc: 0.917567\n",
      "[1000]\ttraining's auc: 0.999956\tvalid_1's auc: 0.925964\n",
      "[1500]\ttraining's auc: 1\tvalid_1's auc: 0.927379\n",
      "[2000]\ttraining's auc: 1\tvalid_1's auc: 0.927439\n",
      "Early stopping, best iteration is:\n",
      "[1649]\ttraining's auc: 1\tvalid_1's auc: 0.927498\n",
      "V273\n"
     ]
    },
    {
     "name": "stderr",
     "output_type": "stream",
     "text": [
      "/home/jinpwa/anaconda3/lib/python3.6/site-packages/lightgbm/basic.py:1205: UserWarning: Using categorical_feature in Dataset.\n",
      "  warnings.warn('Using categorical_feature in Dataset.')\n",
      "/home/jinpwa/anaconda3/lib/python3.6/site-packages/lightgbm/basic.py:762: UserWarning: categorical_feature in param dict is overridden.\n",
      "  warnings.warn('categorical_feature in param dict is overridden.')\n"
     ]
    },
    {
     "name": "stdout",
     "output_type": "stream",
     "text": [
      "Training until validation scores don't improve for 500 rounds.\n",
      "[500]\ttraining's auc: 0.996708\tvalid_1's auc: 0.917882\n",
      "[1000]\ttraining's auc: 0.999954\tvalid_1's auc: 0.925877\n",
      "[1500]\ttraining's auc: 1\tvalid_1's auc: 0.9271\n",
      "[2000]\ttraining's auc: 1\tvalid_1's auc: 0.927389\n",
      "Early stopping, best iteration is:\n",
      "[1669]\ttraining's auc: 1\tvalid_1's auc: 0.927302\n",
      "V274\n"
     ]
    },
    {
     "name": "stderr",
     "output_type": "stream",
     "text": [
      "/home/jinpwa/anaconda3/lib/python3.6/site-packages/lightgbm/basic.py:1205: UserWarning: Using categorical_feature in Dataset.\n",
      "  warnings.warn('Using categorical_feature in Dataset.')\n",
      "/home/jinpwa/anaconda3/lib/python3.6/site-packages/lightgbm/basic.py:762: UserWarning: categorical_feature in param dict is overridden.\n",
      "  warnings.warn('categorical_feature in param dict is overridden.')\n"
     ]
    },
    {
     "name": "stdout",
     "output_type": "stream",
     "text": [
      "Training until validation scores don't improve for 500 rounds.\n",
      "[500]\ttraining's auc: 0.996695\tvalid_1's auc: 0.917819\n",
      "[1000]\ttraining's auc: 0.999955\tvalid_1's auc: 0.925574\n",
      "[1500]\ttraining's auc: 1\tvalid_1's auc: 0.92641\n",
      "[2000]\ttraining's auc: 1\tvalid_1's auc: 0.926532\n",
      "Early stopping, best iteration is:\n",
      "[1669]\ttraining's auc: 1\tvalid_1's auc: 0.926517\n",
      "V275\n"
     ]
    },
    {
     "name": "stderr",
     "output_type": "stream",
     "text": [
      "/home/jinpwa/anaconda3/lib/python3.6/site-packages/lightgbm/basic.py:1205: UserWarning: Using categorical_feature in Dataset.\n",
      "  warnings.warn('Using categorical_feature in Dataset.')\n",
      "/home/jinpwa/anaconda3/lib/python3.6/site-packages/lightgbm/basic.py:762: UserWarning: categorical_feature in param dict is overridden.\n",
      "  warnings.warn('categorical_feature in param dict is overridden.')\n"
     ]
    },
    {
     "name": "stdout",
     "output_type": "stream",
     "text": [
      "Training until validation scores don't improve for 500 rounds.\n",
      "[500]\ttraining's auc: 0.99668\tvalid_1's auc: 0.917495\n",
      "[1000]\ttraining's auc: 0.999956\tvalid_1's auc: 0.925575\n",
      "[1500]\ttraining's auc: 1\tvalid_1's auc: 0.92669\n",
      "[2000]\ttraining's auc: 1\tvalid_1's auc: 0.926843\n",
      "Early stopping, best iteration is:\n",
      "[1631]\ttraining's auc: 1\tvalid_1's auc: 0.926836\n",
      "V276\n"
     ]
    },
    {
     "name": "stderr",
     "output_type": "stream",
     "text": [
      "/home/jinpwa/anaconda3/lib/python3.6/site-packages/lightgbm/basic.py:1205: UserWarning: Using categorical_feature in Dataset.\n",
      "  warnings.warn('Using categorical_feature in Dataset.')\n",
      "/home/jinpwa/anaconda3/lib/python3.6/site-packages/lightgbm/basic.py:762: UserWarning: categorical_feature in param dict is overridden.\n",
      "  warnings.warn('categorical_feature in param dict is overridden.')\n"
     ]
    },
    {
     "name": "stdout",
     "output_type": "stream",
     "text": [
      "Training until validation scores don't improve for 500 rounds.\n",
      "[500]\ttraining's auc: 0.996634\tvalid_1's auc: 0.9173\n",
      "[1000]\ttraining's auc: 0.999953\tvalid_1's auc: 0.925197\n",
      "[1500]\ttraining's auc: 1\tvalid_1's auc: 0.926728\n",
      "[2000]\ttraining's auc: 1\tvalid_1's auc: 0.927098\n",
      "Early stopping, best iteration is:\n",
      "[1666]\ttraining's auc: 1\tvalid_1's auc: 0.926886\n",
      "V277\n"
     ]
    },
    {
     "name": "stderr",
     "output_type": "stream",
     "text": [
      "/home/jinpwa/anaconda3/lib/python3.6/site-packages/lightgbm/basic.py:1205: UserWarning: Using categorical_feature in Dataset.\n",
      "  warnings.warn('Using categorical_feature in Dataset.')\n",
      "/home/jinpwa/anaconda3/lib/python3.6/site-packages/lightgbm/basic.py:762: UserWarning: categorical_feature in param dict is overridden.\n",
      "  warnings.warn('categorical_feature in param dict is overridden.')\n"
     ]
    },
    {
     "name": "stdout",
     "output_type": "stream",
     "text": [
      "Training until validation scores don't improve for 500 rounds.\n",
      "[500]\ttraining's auc: 0.996709\tvalid_1's auc: 0.917333\n",
      "[1000]\ttraining's auc: 0.999954\tvalid_1's auc: 0.92562\n",
      "[1500]\ttraining's auc: 1\tvalid_1's auc: 0.926848\n",
      "[2000]\ttraining's auc: 1\tvalid_1's auc: 0.927005\n",
      "Early stopping, best iteration is:\n",
      "[1643]\ttraining's auc: 1\tvalid_1's auc: 0.926965\n",
      "V278\n"
     ]
    },
    {
     "name": "stderr",
     "output_type": "stream",
     "text": [
      "/home/jinpwa/anaconda3/lib/python3.6/site-packages/lightgbm/basic.py:1205: UserWarning: Using categorical_feature in Dataset.\n",
      "  warnings.warn('Using categorical_feature in Dataset.')\n",
      "/home/jinpwa/anaconda3/lib/python3.6/site-packages/lightgbm/basic.py:762: UserWarning: categorical_feature in param dict is overridden.\n",
      "  warnings.warn('categorical_feature in param dict is overridden.')\n"
     ]
    },
    {
     "name": "stdout",
     "output_type": "stream",
     "text": [
      "Training until validation scores don't improve for 500 rounds.\n",
      "[500]\ttraining's auc: 0.996695\tvalid_1's auc: 0.917342\n",
      "[1000]\ttraining's auc: 0.999955\tvalid_1's auc: 0.925452\n",
      "[1500]\ttraining's auc: 1\tvalid_1's auc: 0.927083\n",
      "[2000]\ttraining's auc: 1\tvalid_1's auc: 0.92738\n",
      "Early stopping, best iteration is:\n",
      "[1637]\ttraining's auc: 1\tvalid_1's auc: 0.927257\n",
      "V279\n"
     ]
    },
    {
     "name": "stderr",
     "output_type": "stream",
     "text": [
      "/home/jinpwa/anaconda3/lib/python3.6/site-packages/lightgbm/basic.py:1205: UserWarning: Using categorical_feature in Dataset.\n",
      "  warnings.warn('Using categorical_feature in Dataset.')\n",
      "/home/jinpwa/anaconda3/lib/python3.6/site-packages/lightgbm/basic.py:762: UserWarning: categorical_feature in param dict is overridden.\n",
      "  warnings.warn('categorical_feature in param dict is overridden.')\n"
     ]
    },
    {
     "name": "stdout",
     "output_type": "stream",
     "text": [
      "Training until validation scores don't improve for 500 rounds.\n",
      "[500]\ttraining's auc: 0.996615\tvalid_1's auc: 0.917686\n",
      "[1000]\ttraining's auc: 0.999955\tvalid_1's auc: 0.925347\n",
      "[1500]\ttraining's auc: 1\tvalid_1's auc: 0.926932\n",
      "[2000]\ttraining's auc: 1\tvalid_1's auc: 0.926932\n",
      "Early stopping, best iteration is:\n",
      "[1629]\ttraining's auc: 1\tvalid_1's auc: 0.927026\n",
      "V280\n"
     ]
    },
    {
     "name": "stderr",
     "output_type": "stream",
     "text": [
      "/home/jinpwa/anaconda3/lib/python3.6/site-packages/lightgbm/basic.py:1205: UserWarning: Using categorical_feature in Dataset.\n",
      "  warnings.warn('Using categorical_feature in Dataset.')\n",
      "/home/jinpwa/anaconda3/lib/python3.6/site-packages/lightgbm/basic.py:762: UserWarning: categorical_feature in param dict is overridden.\n",
      "  warnings.warn('categorical_feature in param dict is overridden.')\n"
     ]
    },
    {
     "name": "stdout",
     "output_type": "stream",
     "text": [
      "Training until validation scores don't improve for 500 rounds.\n",
      "[500]\ttraining's auc: 0.996709\tvalid_1's auc: 0.917587\n",
      "[1000]\ttraining's auc: 0.999957\tvalid_1's auc: 0.925496\n",
      "[1500]\ttraining's auc: 1\tvalid_1's auc: 0.926966\n",
      "[2000]\ttraining's auc: 1\tvalid_1's auc: 0.927328\n",
      "Early stopping, best iteration is:\n",
      "[1640]\ttraining's auc: 1\tvalid_1's auc: 0.927252\n",
      "V281\n"
     ]
    },
    {
     "name": "stderr",
     "output_type": "stream",
     "text": [
      "/home/jinpwa/anaconda3/lib/python3.6/site-packages/lightgbm/basic.py:1205: UserWarning: Using categorical_feature in Dataset.\n",
      "  warnings.warn('Using categorical_feature in Dataset.')\n",
      "/home/jinpwa/anaconda3/lib/python3.6/site-packages/lightgbm/basic.py:762: UserWarning: categorical_feature in param dict is overridden.\n",
      "  warnings.warn('categorical_feature in param dict is overridden.')\n"
     ]
    },
    {
     "name": "stdout",
     "output_type": "stream",
     "text": [
      "Training until validation scores don't improve for 500 rounds.\n",
      "[500]\ttraining's auc: 0.996679\tvalid_1's auc: 0.917417\n",
      "[1000]\ttraining's auc: 0.999955\tvalid_1's auc: 0.925467\n",
      "[1500]\ttraining's auc: 1\tvalid_1's auc: 0.927004\n",
      "[2000]\ttraining's auc: 1\tvalid_1's auc: 0.927141\n",
      "Early stopping, best iteration is:\n",
      "[1668]\ttraining's auc: 1\tvalid_1's auc: 0.927261\n",
      "V282\n"
     ]
    },
    {
     "name": "stderr",
     "output_type": "stream",
     "text": [
      "/home/jinpwa/anaconda3/lib/python3.6/site-packages/lightgbm/basic.py:1205: UserWarning: Using categorical_feature in Dataset.\n",
      "  warnings.warn('Using categorical_feature in Dataset.')\n",
      "/home/jinpwa/anaconda3/lib/python3.6/site-packages/lightgbm/basic.py:762: UserWarning: categorical_feature in param dict is overridden.\n",
      "  warnings.warn('categorical_feature in param dict is overridden.')\n"
     ]
    },
    {
     "name": "stdout",
     "output_type": "stream",
     "text": [
      "Training until validation scores don't improve for 500 rounds.\n",
      "[500]\ttraining's auc: 0.996674\tvalid_1's auc: 0.916756\n",
      "[1000]\ttraining's auc: 0.999956\tvalid_1's auc: 0.924934\n",
      "[1500]\ttraining's auc: 1\tvalid_1's auc: 0.926417\n",
      "[2000]\ttraining's auc: 1\tvalid_1's auc: 0.926909\n",
      "Early stopping, best iteration is:\n",
      "[1619]\ttraining's auc: 1\tvalid_1's auc: 0.926484\n",
      "V283\n"
     ]
    },
    {
     "name": "stderr",
     "output_type": "stream",
     "text": [
      "/home/jinpwa/anaconda3/lib/python3.6/site-packages/lightgbm/basic.py:1205: UserWarning: Using categorical_feature in Dataset.\n",
      "  warnings.warn('Using categorical_feature in Dataset.')\n",
      "/home/jinpwa/anaconda3/lib/python3.6/site-packages/lightgbm/basic.py:762: UserWarning: categorical_feature in param dict is overridden.\n",
      "  warnings.warn('categorical_feature in param dict is overridden.')\n"
     ]
    },
    {
     "name": "stdout",
     "output_type": "stream",
     "text": [
      "Training until validation scores don't improve for 500 rounds.\n",
      "[500]\ttraining's auc: 0.996651\tvalid_1's auc: 0.918354\n",
      "[1000]\ttraining's auc: 0.999956\tvalid_1's auc: 0.926476\n",
      "[1500]\ttraining's auc: 1\tvalid_1's auc: 0.927762\n",
      "[2000]\ttraining's auc: 1\tvalid_1's auc: 0.927819\n",
      "Early stopping, best iteration is:\n",
      "[1635]\ttraining's auc: 1\tvalid_1's auc: 0.927721\n",
      "V284\n"
     ]
    },
    {
     "name": "stderr",
     "output_type": "stream",
     "text": [
      "/home/jinpwa/anaconda3/lib/python3.6/site-packages/lightgbm/basic.py:1205: UserWarning: Using categorical_feature in Dataset.\n",
      "  warnings.warn('Using categorical_feature in Dataset.')\n",
      "/home/jinpwa/anaconda3/lib/python3.6/site-packages/lightgbm/basic.py:762: UserWarning: categorical_feature in param dict is overridden.\n",
      "  warnings.warn('categorical_feature in param dict is overridden.')\n"
     ]
    },
    {
     "name": "stdout",
     "output_type": "stream",
     "text": [
      "Training until validation scores don't improve for 500 rounds.\n",
      "[500]\ttraining's auc: 0.99669\tvalid_1's auc: 0.918061\n",
      "[1000]\ttraining's auc: 0.999954\tvalid_1's auc: 0.925403\n",
      "[1500]\ttraining's auc: 1\tvalid_1's auc: 0.926447\n",
      "[2000]\ttraining's auc: 1\tvalid_1's auc: 0.926741\n",
      "Early stopping, best iteration is:\n",
      "[1657]\ttraining's auc: 1\tvalid_1's auc: 0.926521\n",
      "V285\n"
     ]
    },
    {
     "name": "stderr",
     "output_type": "stream",
     "text": [
      "/home/jinpwa/anaconda3/lib/python3.6/site-packages/lightgbm/basic.py:1205: UserWarning: Using categorical_feature in Dataset.\n",
      "  warnings.warn('Using categorical_feature in Dataset.')\n",
      "/home/jinpwa/anaconda3/lib/python3.6/site-packages/lightgbm/basic.py:762: UserWarning: categorical_feature in param dict is overridden.\n",
      "  warnings.warn('categorical_feature in param dict is overridden.')\n"
     ]
    },
    {
     "name": "stdout",
     "output_type": "stream",
     "text": [
      "Training until validation scores don't improve for 500 rounds.\n",
      "[500]\ttraining's auc: 0.996637\tvalid_1's auc: 0.917778\n",
      "[1000]\ttraining's auc: 0.999954\tvalid_1's auc: 0.926039\n",
      "[1500]\ttraining's auc: 1\tvalid_1's auc: 0.927223\n",
      "[2000]\ttraining's auc: 1\tvalid_1's auc: 0.927723\n",
      "Early stopping, best iteration is:\n",
      "[1688]\ttraining's auc: 1\tvalid_1's auc: 0.927412\n",
      "V286\n"
     ]
    },
    {
     "name": "stderr",
     "output_type": "stream",
     "text": [
      "/home/jinpwa/anaconda3/lib/python3.6/site-packages/lightgbm/basic.py:1205: UserWarning: Using categorical_feature in Dataset.\n",
      "  warnings.warn('Using categorical_feature in Dataset.')\n",
      "/home/jinpwa/anaconda3/lib/python3.6/site-packages/lightgbm/basic.py:762: UserWarning: categorical_feature in param dict is overridden.\n",
      "  warnings.warn('categorical_feature in param dict is overridden.')\n"
     ]
    },
    {
     "name": "stdout",
     "output_type": "stream",
     "text": [
      "Training until validation scores don't improve for 500 rounds.\n",
      "[500]\ttraining's auc: 0.996684\tvalid_1's auc: 0.917909\n",
      "[1000]\ttraining's auc: 0.999955\tvalid_1's auc: 0.925353\n",
      "[1500]\ttraining's auc: 1\tvalid_1's auc: 0.926787\n",
      "[2000]\ttraining's auc: 1\tvalid_1's auc: 0.927316\n",
      "Early stopping, best iteration is:\n",
      "[1657]\ttraining's auc: 1\tvalid_1's auc: 0.92694\n",
      "V287\n"
     ]
    },
    {
     "name": "stderr",
     "output_type": "stream",
     "text": [
      "/home/jinpwa/anaconda3/lib/python3.6/site-packages/lightgbm/basic.py:1205: UserWarning: Using categorical_feature in Dataset.\n",
      "  warnings.warn('Using categorical_feature in Dataset.')\n",
      "/home/jinpwa/anaconda3/lib/python3.6/site-packages/lightgbm/basic.py:762: UserWarning: categorical_feature in param dict is overridden.\n",
      "  warnings.warn('categorical_feature in param dict is overridden.')\n"
     ]
    },
    {
     "name": "stdout",
     "output_type": "stream",
     "text": [
      "Training until validation scores don't improve for 500 rounds.\n",
      "[500]\ttraining's auc: 0.996645\tvalid_1's auc: 0.918586\n",
      "[1000]\ttraining's auc: 0.999956\tvalid_1's auc: 0.925729\n",
      "[1500]\ttraining's auc: 1\tvalid_1's auc: 0.927352\n",
      "[2000]\ttraining's auc: 1\tvalid_1's auc: 0.927658\n",
      "Early stopping, best iteration is:\n",
      "[1655]\ttraining's auc: 1\tvalid_1's auc: 0.927513\n",
      "V288\n"
     ]
    },
    {
     "name": "stderr",
     "output_type": "stream",
     "text": [
      "/home/jinpwa/anaconda3/lib/python3.6/site-packages/lightgbm/basic.py:1205: UserWarning: Using categorical_feature in Dataset.\n",
      "  warnings.warn('Using categorical_feature in Dataset.')\n",
      "/home/jinpwa/anaconda3/lib/python3.6/site-packages/lightgbm/basic.py:762: UserWarning: categorical_feature in param dict is overridden.\n",
      "  warnings.warn('categorical_feature in param dict is overridden.')\n"
     ]
    },
    {
     "name": "stdout",
     "output_type": "stream",
     "text": [
      "Training until validation scores don't improve for 500 rounds.\n",
      "[500]\ttraining's auc: 0.996668\tvalid_1's auc: 0.917988\n",
      "[1000]\ttraining's auc: 0.999957\tvalid_1's auc: 0.925856\n",
      "[1500]\ttraining's auc: 1\tvalid_1's auc: 0.927007\n",
      "[2000]\ttraining's auc: 1\tvalid_1's auc: 0.926986\n",
      "Early stopping, best iteration is:\n",
      "[1599]\ttraining's auc: 1\tvalid_1's auc: 0.927137\n",
      "V289\n"
     ]
    },
    {
     "name": "stderr",
     "output_type": "stream",
     "text": [
      "/home/jinpwa/anaconda3/lib/python3.6/site-packages/lightgbm/basic.py:1205: UserWarning: Using categorical_feature in Dataset.\n",
      "  warnings.warn('Using categorical_feature in Dataset.')\n",
      "/home/jinpwa/anaconda3/lib/python3.6/site-packages/lightgbm/basic.py:762: UserWarning: categorical_feature in param dict is overridden.\n",
      "  warnings.warn('categorical_feature in param dict is overridden.')\n"
     ]
    },
    {
     "name": "stdout",
     "output_type": "stream",
     "text": [
      "Training until validation scores don't improve for 500 rounds.\n",
      "[500]\ttraining's auc: 0.99667\tvalid_1's auc: 0.91775\n",
      "[1000]\ttraining's auc: 0.999957\tvalid_1's auc: 0.925409\n",
      "[1500]\ttraining's auc: 1\tvalid_1's auc: 0.926887\n",
      "[2000]\ttraining's auc: 1\tvalid_1's auc: 0.927048\n",
      "Early stopping, best iteration is:\n",
      "[1650]\ttraining's auc: 1\tvalid_1's auc: 0.927072\n",
      "V290\n"
     ]
    },
    {
     "name": "stderr",
     "output_type": "stream",
     "text": [
      "/home/jinpwa/anaconda3/lib/python3.6/site-packages/lightgbm/basic.py:1205: UserWarning: Using categorical_feature in Dataset.\n",
      "  warnings.warn('Using categorical_feature in Dataset.')\n",
      "/home/jinpwa/anaconda3/lib/python3.6/site-packages/lightgbm/basic.py:762: UserWarning: categorical_feature in param dict is overridden.\n",
      "  warnings.warn('categorical_feature in param dict is overridden.')\n"
     ]
    },
    {
     "name": "stdout",
     "output_type": "stream",
     "text": [
      "Training until validation scores don't improve for 500 rounds.\n",
      "[500]\ttraining's auc: 0.996681\tvalid_1's auc: 0.918051\n",
      "[1000]\ttraining's auc: 0.999956\tvalid_1's auc: 0.925949\n",
      "[1500]\ttraining's auc: 1\tvalid_1's auc: 0.927376\n",
      "[2000]\ttraining's auc: 1\tvalid_1's auc: 0.927499\n",
      "Early stopping, best iteration is:\n",
      "[1630]\ttraining's auc: 1\tvalid_1's auc: 0.927486\n",
      "V291\n"
     ]
    },
    {
     "name": "stderr",
     "output_type": "stream",
     "text": [
      "/home/jinpwa/anaconda3/lib/python3.6/site-packages/lightgbm/basic.py:1205: UserWarning: Using categorical_feature in Dataset.\n",
      "  warnings.warn('Using categorical_feature in Dataset.')\n",
      "/home/jinpwa/anaconda3/lib/python3.6/site-packages/lightgbm/basic.py:762: UserWarning: categorical_feature in param dict is overridden.\n",
      "  warnings.warn('categorical_feature in param dict is overridden.')\n"
     ]
    },
    {
     "name": "stdout",
     "output_type": "stream",
     "text": [
      "Training until validation scores don't improve for 500 rounds.\n",
      "[500]\ttraining's auc: 0.99669\tvalid_1's auc: 0.917453\n",
      "[1000]\ttraining's auc: 0.999956\tvalid_1's auc: 0.925733\n",
      "[1500]\ttraining's auc: 1\tvalid_1's auc: 0.927042\n",
      "[2000]\ttraining's auc: 1\tvalid_1's auc: 0.9273\n",
      "Early stopping, best iteration is:\n",
      "[1602]\ttraining's auc: 1\tvalid_1's auc: 0.927194\n",
      "V292\n"
     ]
    },
    {
     "name": "stderr",
     "output_type": "stream",
     "text": [
      "/home/jinpwa/anaconda3/lib/python3.6/site-packages/lightgbm/basic.py:1205: UserWarning: Using categorical_feature in Dataset.\n",
      "  warnings.warn('Using categorical_feature in Dataset.')\n",
      "/home/jinpwa/anaconda3/lib/python3.6/site-packages/lightgbm/basic.py:762: UserWarning: categorical_feature in param dict is overridden.\n",
      "  warnings.warn('categorical_feature in param dict is overridden.')\n"
     ]
    },
    {
     "name": "stdout",
     "output_type": "stream",
     "text": [
      "Training until validation scores don't improve for 500 rounds.\n",
      "[500]\ttraining's auc: 0.996642\tvalid_1's auc: 0.917559\n",
      "[1000]\ttraining's auc: 0.999955\tvalid_1's auc: 0.925478\n",
      "[1500]\ttraining's auc: 1\tvalid_1's auc: 0.926811\n",
      "[2000]\ttraining's auc: 1\tvalid_1's auc: 0.926994\n",
      "Early stopping, best iteration is:\n",
      "[1637]\ttraining's auc: 1\tvalid_1's auc: 0.927091\n",
      "V293\n"
     ]
    },
    {
     "name": "stderr",
     "output_type": "stream",
     "text": [
      "/home/jinpwa/anaconda3/lib/python3.6/site-packages/lightgbm/basic.py:1205: UserWarning: Using categorical_feature in Dataset.\n",
      "  warnings.warn('Using categorical_feature in Dataset.')\n",
      "/home/jinpwa/anaconda3/lib/python3.6/site-packages/lightgbm/basic.py:762: UserWarning: categorical_feature in param dict is overridden.\n",
      "  warnings.warn('categorical_feature in param dict is overridden.')\n"
     ]
    },
    {
     "name": "stdout",
     "output_type": "stream",
     "text": [
      "Training until validation scores don't improve for 500 rounds.\n",
      "[500]\ttraining's auc: 0.99666\tvalid_1's auc: 0.918021\n",
      "[1000]\ttraining's auc: 0.999957\tvalid_1's auc: 0.925499\n",
      "[1500]\ttraining's auc: 1\tvalid_1's auc: 0.926866\n",
      "[2000]\ttraining's auc: 1\tvalid_1's auc: 0.926799\n",
      "Early stopping, best iteration is:\n",
      "[1645]\ttraining's auc: 1\tvalid_1's auc: 0.926842\n",
      "V294\n"
     ]
    },
    {
     "name": "stderr",
     "output_type": "stream",
     "text": [
      "/home/jinpwa/anaconda3/lib/python3.6/site-packages/lightgbm/basic.py:1205: UserWarning: Using categorical_feature in Dataset.\n",
      "  warnings.warn('Using categorical_feature in Dataset.')\n",
      "/home/jinpwa/anaconda3/lib/python3.6/site-packages/lightgbm/basic.py:762: UserWarning: categorical_feature in param dict is overridden.\n",
      "  warnings.warn('categorical_feature in param dict is overridden.')\n"
     ]
    },
    {
     "name": "stdout",
     "output_type": "stream",
     "text": [
      "Training until validation scores don't improve for 500 rounds.\n",
      "[500]\ttraining's auc: 0.996712\tvalid_1's auc: 0.918847\n",
      "[1000]\ttraining's auc: 0.999958\tvalid_1's auc: 0.926069\n",
      "[1500]\ttraining's auc: 1\tvalid_1's auc: 0.927141\n",
      "[2000]\ttraining's auc: 1\tvalid_1's auc: 0.927508\n",
      "Early stopping, best iteration is:\n",
      "[1626]\ttraining's auc: 1\tvalid_1's auc: 0.927222\n",
      "V295\n"
     ]
    },
    {
     "name": "stderr",
     "output_type": "stream",
     "text": [
      "/home/jinpwa/anaconda3/lib/python3.6/site-packages/lightgbm/basic.py:1205: UserWarning: Using categorical_feature in Dataset.\n",
      "  warnings.warn('Using categorical_feature in Dataset.')\n",
      "/home/jinpwa/anaconda3/lib/python3.6/site-packages/lightgbm/basic.py:762: UserWarning: categorical_feature in param dict is overridden.\n",
      "  warnings.warn('categorical_feature in param dict is overridden.')\n"
     ]
    },
    {
     "name": "stdout",
     "output_type": "stream",
     "text": [
      "Training until validation scores don't improve for 500 rounds.\n",
      "[500]\ttraining's auc: 0.996634\tvalid_1's auc: 0.917909\n",
      "[1000]\ttraining's auc: 0.999955\tvalid_1's auc: 0.925595\n",
      "[1500]\ttraining's auc: 1\tvalid_1's auc: 0.926788\n",
      "[2000]\ttraining's auc: 1\tvalid_1's auc: 0.926946\n",
      "Early stopping, best iteration is:\n",
      "[1641]\ttraining's auc: 1\tvalid_1's auc: 0.926952\n",
      "V296\n"
     ]
    },
    {
     "name": "stderr",
     "output_type": "stream",
     "text": [
      "/home/jinpwa/anaconda3/lib/python3.6/site-packages/lightgbm/basic.py:1205: UserWarning: Using categorical_feature in Dataset.\n",
      "  warnings.warn('Using categorical_feature in Dataset.')\n",
      "/home/jinpwa/anaconda3/lib/python3.6/site-packages/lightgbm/basic.py:762: UserWarning: categorical_feature in param dict is overridden.\n",
      "  warnings.warn('categorical_feature in param dict is overridden.')\n"
     ]
    },
    {
     "name": "stdout",
     "output_type": "stream",
     "text": [
      "Training until validation scores don't improve for 500 rounds.\n",
      "[500]\ttraining's auc: 0.996691\tvalid_1's auc: 0.917548\n",
      "[1000]\ttraining's auc: 0.999954\tvalid_1's auc: 0.925364\n",
      "[1500]\ttraining's auc: 1\tvalid_1's auc: 0.926644\n",
      "[2000]\ttraining's auc: 1\tvalid_1's auc: 0.926801\n",
      "Early stopping, best iteration is:\n",
      "[1688]\ttraining's auc: 1\tvalid_1's auc: 0.926901\n",
      "V297\n"
     ]
    },
    {
     "name": "stderr",
     "output_type": "stream",
     "text": [
      "/home/jinpwa/anaconda3/lib/python3.6/site-packages/lightgbm/basic.py:1205: UserWarning: Using categorical_feature in Dataset.\n",
      "  warnings.warn('Using categorical_feature in Dataset.')\n",
      "/home/jinpwa/anaconda3/lib/python3.6/site-packages/lightgbm/basic.py:762: UserWarning: categorical_feature in param dict is overridden.\n",
      "  warnings.warn('categorical_feature in param dict is overridden.')\n"
     ]
    },
    {
     "name": "stdout",
     "output_type": "stream",
     "text": [
      "Training until validation scores don't improve for 500 rounds.\n",
      "[500]\ttraining's auc: 0.996662\tvalid_1's auc: 0.917696\n",
      "[1000]\ttraining's auc: 0.999954\tvalid_1's auc: 0.925921\n",
      "[1500]\ttraining's auc: 1\tvalid_1's auc: 0.927037\n",
      "[2000]\ttraining's auc: 1\tvalid_1's auc: 0.927226\n",
      "Early stopping, best iteration is:\n",
      "[1662]\ttraining's auc: 1\tvalid_1's auc: 0.927076\n",
      "V298\n"
     ]
    },
    {
     "name": "stderr",
     "output_type": "stream",
     "text": [
      "/home/jinpwa/anaconda3/lib/python3.6/site-packages/lightgbm/basic.py:1205: UserWarning: Using categorical_feature in Dataset.\n",
      "  warnings.warn('Using categorical_feature in Dataset.')\n",
      "/home/jinpwa/anaconda3/lib/python3.6/site-packages/lightgbm/basic.py:762: UserWarning: categorical_feature in param dict is overridden.\n",
      "  warnings.warn('categorical_feature in param dict is overridden.')\n"
     ]
    },
    {
     "name": "stdout",
     "output_type": "stream",
     "text": [
      "Training until validation scores don't improve for 500 rounds.\n",
      "[500]\ttraining's auc: 0.996661\tvalid_1's auc: 0.917151\n",
      "[1000]\ttraining's auc: 0.999955\tvalid_1's auc: 0.92453\n",
      "[1500]\ttraining's auc: 1\tvalid_1's auc: 0.925919\n",
      "[2000]\ttraining's auc: 1\tvalid_1's auc: 0.925574\n",
      "Early stopping, best iteration is:\n",
      "[1525]\ttraining's auc: 1\tvalid_1's auc: 0.925988\n",
      "V299\n"
     ]
    },
    {
     "name": "stderr",
     "output_type": "stream",
     "text": [
      "/home/jinpwa/anaconda3/lib/python3.6/site-packages/lightgbm/basic.py:1205: UserWarning: Using categorical_feature in Dataset.\n",
      "  warnings.warn('Using categorical_feature in Dataset.')\n",
      "/home/jinpwa/anaconda3/lib/python3.6/site-packages/lightgbm/basic.py:762: UserWarning: categorical_feature in param dict is overridden.\n",
      "  warnings.warn('categorical_feature in param dict is overridden.')\n"
     ]
    },
    {
     "name": "stdout",
     "output_type": "stream",
     "text": [
      "Training until validation scores don't improve for 500 rounds.\n",
      "[500]\ttraining's auc: 0.996629\tvalid_1's auc: 0.917559\n",
      "[1000]\ttraining's auc: 0.999956\tvalid_1's auc: 0.925696\n",
      "[1500]\ttraining's auc: 1\tvalid_1's auc: 0.927223\n",
      "[2000]\ttraining's auc: 1\tvalid_1's auc: 0.927289\n",
      "Early stopping, best iteration is:\n",
      "[1638]\ttraining's auc: 1\tvalid_1's auc: 0.927493\n",
      "V300\n"
     ]
    },
    {
     "name": "stderr",
     "output_type": "stream",
     "text": [
      "/home/jinpwa/anaconda3/lib/python3.6/site-packages/lightgbm/basic.py:1205: UserWarning: Using categorical_feature in Dataset.\n",
      "  warnings.warn('Using categorical_feature in Dataset.')\n",
      "/home/jinpwa/anaconda3/lib/python3.6/site-packages/lightgbm/basic.py:762: UserWarning: categorical_feature in param dict is overridden.\n",
      "  warnings.warn('categorical_feature in param dict is overridden.')\n"
     ]
    },
    {
     "name": "stdout",
     "output_type": "stream",
     "text": [
      "Training until validation scores don't improve for 500 rounds.\n",
      "[500]\ttraining's auc: 0.996607\tvalid_1's auc: 0.91694\n",
      "[1000]\ttraining's auc: 0.999954\tvalid_1's auc: 0.924741\n",
      "[1500]\ttraining's auc: 1\tvalid_1's auc: 0.926234\n",
      "[2000]\ttraining's auc: 1\tvalid_1's auc: 0.926557\n",
      "Early stopping, best iteration is:\n",
      "[1661]\ttraining's auc: 1\tvalid_1's auc: 0.926384\n",
      "V301\n"
     ]
    },
    {
     "name": "stderr",
     "output_type": "stream",
     "text": [
      "/home/jinpwa/anaconda3/lib/python3.6/site-packages/lightgbm/basic.py:1205: UserWarning: Using categorical_feature in Dataset.\n",
      "  warnings.warn('Using categorical_feature in Dataset.')\n",
      "/home/jinpwa/anaconda3/lib/python3.6/site-packages/lightgbm/basic.py:762: UserWarning: categorical_feature in param dict is overridden.\n",
      "  warnings.warn('categorical_feature in param dict is overridden.')\n"
     ]
    },
    {
     "name": "stdout",
     "output_type": "stream",
     "text": [
      "Training until validation scores don't improve for 500 rounds.\n",
      "[500]\ttraining's auc: 0.996656\tvalid_1's auc: 0.916654\n",
      "[1000]\ttraining's auc: 0.999953\tvalid_1's auc: 0.923985\n",
      "[1500]\ttraining's auc: 1\tvalid_1's auc: 0.926028\n",
      "[2000]\ttraining's auc: 1\tvalid_1's auc: 0.926261\n",
      "Early stopping, best iteration is:\n",
      "[1645]\ttraining's auc: 1\tvalid_1's auc: 0.92612\n",
      "V302\n"
     ]
    },
    {
     "name": "stderr",
     "output_type": "stream",
     "text": [
      "/home/jinpwa/anaconda3/lib/python3.6/site-packages/lightgbm/basic.py:1205: UserWarning: Using categorical_feature in Dataset.\n",
      "  warnings.warn('Using categorical_feature in Dataset.')\n",
      "/home/jinpwa/anaconda3/lib/python3.6/site-packages/lightgbm/basic.py:762: UserWarning: categorical_feature in param dict is overridden.\n",
      "  warnings.warn('categorical_feature in param dict is overridden.')\n"
     ]
    },
    {
     "name": "stdout",
     "output_type": "stream",
     "text": [
      "Training until validation scores don't improve for 500 rounds.\n",
      "[500]\ttraining's auc: 0.9967\tvalid_1's auc: 0.91765\n",
      "[1000]\ttraining's auc: 0.999955\tvalid_1's auc: 0.925218\n",
      "[1500]\ttraining's auc: 1\tvalid_1's auc: 0.926764\n",
      "[2000]\ttraining's auc: 1\tvalid_1's auc: 0.92671\n",
      "Early stopping, best iteration is:\n",
      "[1615]\ttraining's auc: 1\tvalid_1's auc: 0.926887\n",
      "V303\n"
     ]
    },
    {
     "name": "stderr",
     "output_type": "stream",
     "text": [
      "/home/jinpwa/anaconda3/lib/python3.6/site-packages/lightgbm/basic.py:1205: UserWarning: Using categorical_feature in Dataset.\n",
      "  warnings.warn('Using categorical_feature in Dataset.')\n",
      "/home/jinpwa/anaconda3/lib/python3.6/site-packages/lightgbm/basic.py:762: UserWarning: categorical_feature in param dict is overridden.\n",
      "  warnings.warn('categorical_feature in param dict is overridden.')\n"
     ]
    },
    {
     "name": "stdout",
     "output_type": "stream",
     "text": [
      "Training until validation scores don't improve for 500 rounds.\n",
      "[500]\ttraining's auc: 0.996673\tvalid_1's auc: 0.917411\n",
      "[1000]\ttraining's auc: 0.999955\tvalid_1's auc: 0.925645\n",
      "[1500]\ttraining's auc: 1\tvalid_1's auc: 0.927298\n",
      "[2000]\ttraining's auc: 1\tvalid_1's auc: 0.927427\n",
      "Early stopping, best iteration is:\n",
      "[1662]\ttraining's auc: 1\tvalid_1's auc: 0.927458\n",
      "V304\n"
     ]
    },
    {
     "name": "stderr",
     "output_type": "stream",
     "text": [
      "/home/jinpwa/anaconda3/lib/python3.6/site-packages/lightgbm/basic.py:1205: UserWarning: Using categorical_feature in Dataset.\n",
      "  warnings.warn('Using categorical_feature in Dataset.')\n",
      "/home/jinpwa/anaconda3/lib/python3.6/site-packages/lightgbm/basic.py:762: UserWarning: categorical_feature in param dict is overridden.\n",
      "  warnings.warn('categorical_feature in param dict is overridden.')\n"
     ]
    },
    {
     "name": "stdout",
     "output_type": "stream",
     "text": [
      "Training until validation scores don't improve for 500 rounds.\n",
      "[500]\ttraining's auc: 0.996677\tvalid_1's auc: 0.918017\n",
      "[1000]\ttraining's auc: 0.999957\tvalid_1's auc: 0.925594\n",
      "[1500]\ttraining's auc: 1\tvalid_1's auc: 0.926856\n",
      "[2000]\ttraining's auc: 1\tvalid_1's auc: 0.927126\n",
      "Early stopping, best iteration is:\n",
      "[1633]\ttraining's auc: 1\tvalid_1's auc: 0.926915\n",
      "V305\n"
     ]
    },
    {
     "name": "stderr",
     "output_type": "stream",
     "text": [
      "/home/jinpwa/anaconda3/lib/python3.6/site-packages/lightgbm/basic.py:1205: UserWarning: Using categorical_feature in Dataset.\n",
      "  warnings.warn('Using categorical_feature in Dataset.')\n",
      "/home/jinpwa/anaconda3/lib/python3.6/site-packages/lightgbm/basic.py:762: UserWarning: categorical_feature in param dict is overridden.\n",
      "  warnings.warn('categorical_feature in param dict is overridden.')\n"
     ]
    },
    {
     "name": "stdout",
     "output_type": "stream",
     "text": [
      "Training until validation scores don't improve for 500 rounds.\n",
      "[500]\ttraining's auc: 0.996677\tvalid_1's auc: 0.918242\n",
      "[1000]\ttraining's auc: 0.999952\tvalid_1's auc: 0.924871\n",
      "[1500]\ttraining's auc: 1\tvalid_1's auc: 0.926299\n",
      "[2000]\ttraining's auc: 1\tvalid_1's auc: 0.926302\n",
      "Early stopping, best iteration is:\n",
      "[1628]\ttraining's auc: 1\tvalid_1's auc: 0.926277\n",
      "V306\n"
     ]
    },
    {
     "name": "stderr",
     "output_type": "stream",
     "text": [
      "/home/jinpwa/anaconda3/lib/python3.6/site-packages/lightgbm/basic.py:1205: UserWarning: Using categorical_feature in Dataset.\n",
      "  warnings.warn('Using categorical_feature in Dataset.')\n",
      "/home/jinpwa/anaconda3/lib/python3.6/site-packages/lightgbm/basic.py:762: UserWarning: categorical_feature in param dict is overridden.\n",
      "  warnings.warn('categorical_feature in param dict is overridden.')\n"
     ]
    },
    {
     "name": "stdout",
     "output_type": "stream",
     "text": [
      "Training until validation scores don't improve for 500 rounds.\n",
      "[500]\ttraining's auc: 0.996682\tvalid_1's auc: 0.91761\n",
      "[1000]\ttraining's auc: 0.999953\tvalid_1's auc: 0.925732\n",
      "[1500]\ttraining's auc: 1\tvalid_1's auc: 0.92701\n",
      "[2000]\ttraining's auc: 1\tvalid_1's auc: 0.92722\n",
      "Early stopping, best iteration is:\n",
      "[1608]\ttraining's auc: 1\tvalid_1's auc: 0.927301\n",
      "V307\n"
     ]
    },
    {
     "name": "stderr",
     "output_type": "stream",
     "text": [
      "/home/jinpwa/anaconda3/lib/python3.6/site-packages/lightgbm/basic.py:1205: UserWarning: Using categorical_feature in Dataset.\n",
      "  warnings.warn('Using categorical_feature in Dataset.')\n",
      "/home/jinpwa/anaconda3/lib/python3.6/site-packages/lightgbm/basic.py:762: UserWarning: categorical_feature in param dict is overridden.\n",
      "  warnings.warn('categorical_feature in param dict is overridden.')\n"
     ]
    },
    {
     "name": "stdout",
     "output_type": "stream",
     "text": [
      "Training until validation scores don't improve for 500 rounds.\n",
      "[500]\ttraining's auc: 0.99665\tvalid_1's auc: 0.917548\n",
      "[1000]\ttraining's auc: 0.999955\tvalid_1's auc: 0.92545\n",
      "[1500]\ttraining's auc: 1\tvalid_1's auc: 0.926983\n",
      "[2000]\ttraining's auc: 1\tvalid_1's auc: 0.927253\n",
      "Early stopping, best iteration is:\n",
      "[1631]\ttraining's auc: 1\tvalid_1's auc: 0.927076\n",
      "V308\n"
     ]
    },
    {
     "name": "stderr",
     "output_type": "stream",
     "text": [
      "/home/jinpwa/anaconda3/lib/python3.6/site-packages/lightgbm/basic.py:1205: UserWarning: Using categorical_feature in Dataset.\n",
      "  warnings.warn('Using categorical_feature in Dataset.')\n",
      "/home/jinpwa/anaconda3/lib/python3.6/site-packages/lightgbm/basic.py:762: UserWarning: categorical_feature in param dict is overridden.\n",
      "  warnings.warn('categorical_feature in param dict is overridden.')\n"
     ]
    },
    {
     "name": "stdout",
     "output_type": "stream",
     "text": [
      "Training until validation scores don't improve for 500 rounds.\n",
      "[500]\ttraining's auc: 0.996617\tvalid_1's auc: 0.917474\n",
      "[1000]\ttraining's auc: 0.999953\tvalid_1's auc: 0.925434\n",
      "[1500]\ttraining's auc: 1\tvalid_1's auc: 0.92699\n",
      "[2000]\ttraining's auc: 1\tvalid_1's auc: 0.927099\n",
      "Early stopping, best iteration is:\n",
      "[1630]\ttraining's auc: 1\tvalid_1's auc: 0.927065\n",
      "V309\n"
     ]
    },
    {
     "name": "stderr",
     "output_type": "stream",
     "text": [
      "/home/jinpwa/anaconda3/lib/python3.6/site-packages/lightgbm/basic.py:1205: UserWarning: Using categorical_feature in Dataset.\n",
      "  warnings.warn('Using categorical_feature in Dataset.')\n",
      "/home/jinpwa/anaconda3/lib/python3.6/site-packages/lightgbm/basic.py:762: UserWarning: categorical_feature in param dict is overridden.\n",
      "  warnings.warn('categorical_feature in param dict is overridden.')\n"
     ]
    },
    {
     "name": "stdout",
     "output_type": "stream",
     "text": [
      "Training until validation scores don't improve for 500 rounds.\n",
      "[500]\ttraining's auc: 0.996661\tvalid_1's auc: 0.917046\n",
      "[1000]\ttraining's auc: 0.999956\tvalid_1's auc: 0.925617\n",
      "[1500]\ttraining's auc: 1\tvalid_1's auc: 0.927247\n",
      "[2000]\ttraining's auc: 1\tvalid_1's auc: 0.927524\n",
      "Early stopping, best iteration is:\n",
      "[1659]\ttraining's auc: 1\tvalid_1's auc: 0.927368\n",
      "V310\n"
     ]
    },
    {
     "name": "stderr",
     "output_type": "stream",
     "text": [
      "/home/jinpwa/anaconda3/lib/python3.6/site-packages/lightgbm/basic.py:1205: UserWarning: Using categorical_feature in Dataset.\n",
      "  warnings.warn('Using categorical_feature in Dataset.')\n",
      "/home/jinpwa/anaconda3/lib/python3.6/site-packages/lightgbm/basic.py:762: UserWarning: categorical_feature in param dict is overridden.\n",
      "  warnings.warn('categorical_feature in param dict is overridden.')\n"
     ]
    },
    {
     "name": "stdout",
     "output_type": "stream",
     "text": [
      "Training until validation scores don't improve for 500 rounds.\n",
      "[500]\ttraining's auc: 0.996612\tvalid_1's auc: 0.917274\n",
      "[1000]\ttraining's auc: 0.999954\tvalid_1's auc: 0.925917\n",
      "[1500]\ttraining's auc: 1\tvalid_1's auc: 0.92704\n",
      "[2000]\ttraining's auc: 1\tvalid_1's auc: 0.927289\n",
      "Early stopping, best iteration is:\n",
      "[1630]\ttraining's auc: 1\tvalid_1's auc: 0.92713\n",
      "V311\n"
     ]
    },
    {
     "name": "stderr",
     "output_type": "stream",
     "text": [
      "/home/jinpwa/anaconda3/lib/python3.6/site-packages/lightgbm/basic.py:1205: UserWarning: Using categorical_feature in Dataset.\n",
      "  warnings.warn('Using categorical_feature in Dataset.')\n",
      "/home/jinpwa/anaconda3/lib/python3.6/site-packages/lightgbm/basic.py:762: UserWarning: categorical_feature in param dict is overridden.\n",
      "  warnings.warn('categorical_feature in param dict is overridden.')\n"
     ]
    },
    {
     "name": "stdout",
     "output_type": "stream",
     "text": [
      "Training until validation scores don't improve for 500 rounds.\n",
      "[500]\ttraining's auc: 0.996662\tvalid_1's auc: 0.917735\n",
      "[1000]\ttraining's auc: 0.999956\tvalid_1's auc: 0.925867\n",
      "[1500]\ttraining's auc: 1\tvalid_1's auc: 0.926762\n",
      "[2000]\ttraining's auc: 1\tvalid_1's auc: 0.926924\n",
      "Early stopping, best iteration is:\n",
      "[1648]\ttraining's auc: 1\tvalid_1's auc: 0.926855\n",
      "V312\n"
     ]
    },
    {
     "name": "stderr",
     "output_type": "stream",
     "text": [
      "/home/jinpwa/anaconda3/lib/python3.6/site-packages/lightgbm/basic.py:1205: UserWarning: Using categorical_feature in Dataset.\n",
      "  warnings.warn('Using categorical_feature in Dataset.')\n",
      "/home/jinpwa/anaconda3/lib/python3.6/site-packages/lightgbm/basic.py:762: UserWarning: categorical_feature in param dict is overridden.\n",
      "  warnings.warn('categorical_feature in param dict is overridden.')\n"
     ]
    },
    {
     "name": "stdout",
     "output_type": "stream",
     "text": [
      "Training until validation scores don't improve for 500 rounds.\n",
      "[500]\ttraining's auc: 0.996611\tvalid_1's auc: 0.917055\n",
      "[1000]\ttraining's auc: 0.999954\tvalid_1's auc: 0.924986\n",
      "[1500]\ttraining's auc: 1\tvalid_1's auc: 0.926146\n",
      "[2000]\ttraining's auc: 1\tvalid_1's auc: 0.926285\n",
      "Early stopping, best iteration is:\n",
      "[1661]\ttraining's auc: 1\tvalid_1's auc: 0.926269\n",
      "V313\n"
     ]
    },
    {
     "name": "stderr",
     "output_type": "stream",
     "text": [
      "/home/jinpwa/anaconda3/lib/python3.6/site-packages/lightgbm/basic.py:1205: UserWarning: Using categorical_feature in Dataset.\n",
      "  warnings.warn('Using categorical_feature in Dataset.')\n",
      "/home/jinpwa/anaconda3/lib/python3.6/site-packages/lightgbm/basic.py:762: UserWarning: categorical_feature in param dict is overridden.\n",
      "  warnings.warn('categorical_feature in param dict is overridden.')\n"
     ]
    },
    {
     "name": "stdout",
     "output_type": "stream",
     "text": [
      "Training until validation scores don't improve for 500 rounds.\n",
      "[500]\ttraining's auc: 0.996631\tvalid_1's auc: 0.917378\n",
      "[1000]\ttraining's auc: 0.999955\tvalid_1's auc: 0.925299\n",
      "[1500]\ttraining's auc: 1\tvalid_1's auc: 0.926773\n",
      "[2000]\ttraining's auc: 1\tvalid_1's auc: 0.926995\n",
      "Early stopping, best iteration is:\n",
      "[1625]\ttraining's auc: 1\tvalid_1's auc: 0.926923\n",
      "V314\n"
     ]
    },
    {
     "name": "stderr",
     "output_type": "stream",
     "text": [
      "/home/jinpwa/anaconda3/lib/python3.6/site-packages/lightgbm/basic.py:1205: UserWarning: Using categorical_feature in Dataset.\n",
      "  warnings.warn('Using categorical_feature in Dataset.')\n",
      "/home/jinpwa/anaconda3/lib/python3.6/site-packages/lightgbm/basic.py:762: UserWarning: categorical_feature in param dict is overridden.\n",
      "  warnings.warn('categorical_feature in param dict is overridden.')\n"
     ]
    },
    {
     "name": "stdout",
     "output_type": "stream",
     "text": [
      "Training until validation scores don't improve for 500 rounds.\n",
      "[500]\ttraining's auc: 0.996642\tvalid_1's auc: 0.918039\n",
      "[1000]\ttraining's auc: 0.999953\tvalid_1's auc: 0.925288\n",
      "[1500]\ttraining's auc: 1\tvalid_1's auc: 0.926428\n",
      "[2000]\ttraining's auc: 1\tvalid_1's auc: 0.926502\n",
      "Early stopping, best iteration is:\n",
      "[1596]\ttraining's auc: 1\tvalid_1's auc: 0.926638\n",
      "V315\n"
     ]
    },
    {
     "name": "stderr",
     "output_type": "stream",
     "text": [
      "/home/jinpwa/anaconda3/lib/python3.6/site-packages/lightgbm/basic.py:1205: UserWarning: Using categorical_feature in Dataset.\n",
      "  warnings.warn('Using categorical_feature in Dataset.')\n",
      "/home/jinpwa/anaconda3/lib/python3.6/site-packages/lightgbm/basic.py:762: UserWarning: categorical_feature in param dict is overridden.\n",
      "  warnings.warn('categorical_feature in param dict is overridden.')\n"
     ]
    },
    {
     "name": "stdout",
     "output_type": "stream",
     "text": [
      "Training until validation scores don't improve for 500 rounds.\n",
      "[500]\ttraining's auc: 0.99666\tvalid_1's auc: 0.917839\n",
      "[1000]\ttraining's auc: 0.999955\tvalid_1's auc: 0.925684\n",
      "[1500]\ttraining's auc: 1\tvalid_1's auc: 0.927028\n",
      "[2000]\ttraining's auc: 1\tvalid_1's auc: 0.927013\n",
      "Early stopping, best iteration is:\n",
      "[1652]\ttraining's auc: 1\tvalid_1's auc: 0.927034\n",
      "V316\n"
     ]
    },
    {
     "name": "stderr",
     "output_type": "stream",
     "text": [
      "/home/jinpwa/anaconda3/lib/python3.6/site-packages/lightgbm/basic.py:1205: UserWarning: Using categorical_feature in Dataset.\n",
      "  warnings.warn('Using categorical_feature in Dataset.')\n",
      "/home/jinpwa/anaconda3/lib/python3.6/site-packages/lightgbm/basic.py:762: UserWarning: categorical_feature in param dict is overridden.\n",
      "  warnings.warn('categorical_feature in param dict is overridden.')\n"
     ]
    },
    {
     "name": "stdout",
     "output_type": "stream",
     "text": [
      "Training until validation scores don't improve for 500 rounds.\n",
      "[500]\ttraining's auc: 0.996658\tvalid_1's auc: 0.917236\n",
      "[1000]\ttraining's auc: 0.999957\tvalid_1's auc: 0.925423\n",
      "[1500]\ttraining's auc: 1\tvalid_1's auc: 0.926957\n",
      "[2000]\ttraining's auc: 1\tvalid_1's auc: 0.927274\n",
      "Early stopping, best iteration is:\n",
      "[1613]\ttraining's auc: 1\tvalid_1's auc: 0.927137\n",
      "V317\n"
     ]
    },
    {
     "name": "stderr",
     "output_type": "stream",
     "text": [
      "/home/jinpwa/anaconda3/lib/python3.6/site-packages/lightgbm/basic.py:1205: UserWarning: Using categorical_feature in Dataset.\n",
      "  warnings.warn('Using categorical_feature in Dataset.')\n",
      "/home/jinpwa/anaconda3/lib/python3.6/site-packages/lightgbm/basic.py:762: UserWarning: categorical_feature in param dict is overridden.\n",
      "  warnings.warn('categorical_feature in param dict is overridden.')\n"
     ]
    },
    {
     "name": "stdout",
     "output_type": "stream",
     "text": [
      "Training until validation scores don't improve for 500 rounds.\n",
      "[500]\ttraining's auc: 0.996613\tvalid_1's auc: 0.918229\n",
      "[1000]\ttraining's auc: 0.999956\tvalid_1's auc: 0.925468\n",
      "[1500]\ttraining's auc: 1\tvalid_1's auc: 0.92654\n",
      "[2000]\ttraining's auc: 1\tvalid_1's auc: 0.926675\n",
      "Early stopping, best iteration is:\n",
      "[1630]\ttraining's auc: 1\tvalid_1's auc: 0.926676\n",
      "V318\n"
     ]
    },
    {
     "name": "stderr",
     "output_type": "stream",
     "text": [
      "/home/jinpwa/anaconda3/lib/python3.6/site-packages/lightgbm/basic.py:1205: UserWarning: Using categorical_feature in Dataset.\n",
      "  warnings.warn('Using categorical_feature in Dataset.')\n",
      "/home/jinpwa/anaconda3/lib/python3.6/site-packages/lightgbm/basic.py:762: UserWarning: categorical_feature in param dict is overridden.\n",
      "  warnings.warn('categorical_feature in param dict is overridden.')\n"
     ]
    },
    {
     "name": "stdout",
     "output_type": "stream",
     "text": [
      "Training until validation scores don't improve for 500 rounds.\n",
      "[500]\ttraining's auc: 0.996728\tvalid_1's auc: 0.917448\n",
      "[1000]\ttraining's auc: 0.999956\tvalid_1's auc: 0.924883\n",
      "[1500]\ttraining's auc: 1\tvalid_1's auc: 0.92624\n",
      "[2000]\ttraining's auc: 1\tvalid_1's auc: 0.926542\n",
      "Early stopping, best iteration is:\n",
      "[1631]\ttraining's auc: 1\tvalid_1's auc: 0.92638\n",
      "V319\n"
     ]
    },
    {
     "name": "stderr",
     "output_type": "stream",
     "text": [
      "/home/jinpwa/anaconda3/lib/python3.6/site-packages/lightgbm/basic.py:1205: UserWarning: Using categorical_feature in Dataset.\n",
      "  warnings.warn('Using categorical_feature in Dataset.')\n",
      "/home/jinpwa/anaconda3/lib/python3.6/site-packages/lightgbm/basic.py:762: UserWarning: categorical_feature in param dict is overridden.\n",
      "  warnings.warn('categorical_feature in param dict is overridden.')\n"
     ]
    },
    {
     "name": "stdout",
     "output_type": "stream",
     "text": [
      "Training until validation scores don't improve for 500 rounds.\n",
      "[500]\ttraining's auc: 0.996604\tvalid_1's auc: 0.917166\n",
      "[1000]\ttraining's auc: 0.999952\tvalid_1's auc: 0.924336\n",
      "[1500]\ttraining's auc: 1\tvalid_1's auc: 0.92604\n",
      "[2000]\ttraining's auc: 1\tvalid_1's auc: 0.926188\n",
      "Early stopping, best iteration is:\n",
      "[1688]\ttraining's auc: 1\tvalid_1's auc: 0.926078\n",
      "V320\n"
     ]
    },
    {
     "name": "stderr",
     "output_type": "stream",
     "text": [
      "/home/jinpwa/anaconda3/lib/python3.6/site-packages/lightgbm/basic.py:1205: UserWarning: Using categorical_feature in Dataset.\n",
      "  warnings.warn('Using categorical_feature in Dataset.')\n",
      "/home/jinpwa/anaconda3/lib/python3.6/site-packages/lightgbm/basic.py:762: UserWarning: categorical_feature in param dict is overridden.\n",
      "  warnings.warn('categorical_feature in param dict is overridden.')\n"
     ]
    },
    {
     "name": "stdout",
     "output_type": "stream",
     "text": [
      "Training until validation scores don't improve for 500 rounds.\n",
      "[500]\ttraining's auc: 0.996679\tvalid_1's auc: 0.917544\n",
      "[1000]\ttraining's auc: 0.999957\tvalid_1's auc: 0.925165\n",
      "[1500]\ttraining's auc: 1\tvalid_1's auc: 0.926193\n",
      "[2000]\ttraining's auc: 1\tvalid_1's auc: 0.926348\n",
      "Early stopping, best iteration is:\n",
      "[1628]\ttraining's auc: 1\tvalid_1's auc: 0.926209\n",
      "V321\n"
     ]
    },
    {
     "name": "stderr",
     "output_type": "stream",
     "text": [
      "/home/jinpwa/anaconda3/lib/python3.6/site-packages/lightgbm/basic.py:1205: UserWarning: Using categorical_feature in Dataset.\n",
      "  warnings.warn('Using categorical_feature in Dataset.')\n",
      "/home/jinpwa/anaconda3/lib/python3.6/site-packages/lightgbm/basic.py:762: UserWarning: categorical_feature in param dict is overridden.\n",
      "  warnings.warn('categorical_feature in param dict is overridden.')\n"
     ]
    },
    {
     "name": "stdout",
     "output_type": "stream",
     "text": [
      "Training until validation scores don't improve for 500 rounds.\n",
      "[500]\ttraining's auc: 0.996665\tvalid_1's auc: 0.91756\n",
      "[1000]\ttraining's auc: 0.999955\tvalid_1's auc: 0.925345\n",
      "[1500]\ttraining's auc: 1\tvalid_1's auc: 0.92667\n",
      "[2000]\ttraining's auc: 1\tvalid_1's auc: 0.926839\n",
      "Early stopping, best iteration is:\n",
      "[1617]\ttraining's auc: 1\tvalid_1's auc: 0.926849\n",
      "V322\n"
     ]
    },
    {
     "name": "stderr",
     "output_type": "stream",
     "text": [
      "/home/jinpwa/anaconda3/lib/python3.6/site-packages/lightgbm/basic.py:1205: UserWarning: Using categorical_feature in Dataset.\n",
      "  warnings.warn('Using categorical_feature in Dataset.')\n",
      "/home/jinpwa/anaconda3/lib/python3.6/site-packages/lightgbm/basic.py:762: UserWarning: categorical_feature in param dict is overridden.\n",
      "  warnings.warn('categorical_feature in param dict is overridden.')\n"
     ]
    },
    {
     "name": "stdout",
     "output_type": "stream",
     "text": [
      "Training until validation scores don't improve for 500 rounds.\n",
      "[500]\ttraining's auc: 0.996682\tvalid_1's auc: 0.917186\n",
      "[1000]\ttraining's auc: 0.999954\tvalid_1's auc: 0.92529\n",
      "[1500]\ttraining's auc: 1\tvalid_1's auc: 0.926897\n",
      "[2000]\ttraining's auc: 1\tvalid_1's auc: 0.927202\n",
      "Early stopping, best iteration is:\n",
      "[1672]\ttraining's auc: 1\tvalid_1's auc: 0.927134\n",
      "V323\n"
     ]
    },
    {
     "name": "stderr",
     "output_type": "stream",
     "text": [
      "/home/jinpwa/anaconda3/lib/python3.6/site-packages/lightgbm/basic.py:1205: UserWarning: Using categorical_feature in Dataset.\n",
      "  warnings.warn('Using categorical_feature in Dataset.')\n",
      "/home/jinpwa/anaconda3/lib/python3.6/site-packages/lightgbm/basic.py:762: UserWarning: categorical_feature in param dict is overridden.\n",
      "  warnings.warn('categorical_feature in param dict is overridden.')\n"
     ]
    },
    {
     "name": "stdout",
     "output_type": "stream",
     "text": [
      "Training until validation scores don't improve for 500 rounds.\n",
      "[500]\ttraining's auc: 0.996678\tvalid_1's auc: 0.917564\n",
      "[1000]\ttraining's auc: 0.999954\tvalid_1's auc: 0.925758\n",
      "[1500]\ttraining's auc: 1\tvalid_1's auc: 0.927219\n",
      "[2000]\ttraining's auc: 1\tvalid_1's auc: 0.927426\n",
      "Early stopping, best iteration is:\n",
      "[1671]\ttraining's auc: 1\tvalid_1's auc: 0.927356\n",
      "V324\n"
     ]
    },
    {
     "name": "stderr",
     "output_type": "stream",
     "text": [
      "/home/jinpwa/anaconda3/lib/python3.6/site-packages/lightgbm/basic.py:1205: UserWarning: Using categorical_feature in Dataset.\n",
      "  warnings.warn('Using categorical_feature in Dataset.')\n",
      "/home/jinpwa/anaconda3/lib/python3.6/site-packages/lightgbm/basic.py:762: UserWarning: categorical_feature in param dict is overridden.\n",
      "  warnings.warn('categorical_feature in param dict is overridden.')\n"
     ]
    },
    {
     "name": "stdout",
     "output_type": "stream",
     "text": [
      "Training until validation scores don't improve for 500 rounds.\n",
      "[500]\ttraining's auc: 0.996664\tvalid_1's auc: 0.917435\n",
      "[1000]\ttraining's auc: 0.999957\tvalid_1's auc: 0.925373\n",
      "[1500]\ttraining's auc: 1\tvalid_1's auc: 0.92636\n",
      "Early stopping, best iteration is:\n",
      "[1428]\ttraining's auc: 1\tvalid_1's auc: 0.926436\n",
      "V325\n"
     ]
    },
    {
     "name": "stderr",
     "output_type": "stream",
     "text": [
      "/home/jinpwa/anaconda3/lib/python3.6/site-packages/lightgbm/basic.py:1205: UserWarning: Using categorical_feature in Dataset.\n",
      "  warnings.warn('Using categorical_feature in Dataset.')\n",
      "/home/jinpwa/anaconda3/lib/python3.6/site-packages/lightgbm/basic.py:762: UserWarning: categorical_feature in param dict is overridden.\n",
      "  warnings.warn('categorical_feature in param dict is overridden.')\n"
     ]
    },
    {
     "name": "stdout",
     "output_type": "stream",
     "text": [
      "Training until validation scores don't improve for 500 rounds.\n",
      "[500]\ttraining's auc: 0.996664\tvalid_1's auc: 0.917387\n",
      "[1000]\ttraining's auc: 0.999957\tvalid_1's auc: 0.925646\n",
      "[1500]\ttraining's auc: 1\tvalid_1's auc: 0.927082\n",
      "[2000]\ttraining's auc: 1\tvalid_1's auc: 0.927233\n",
      "Early stopping, best iteration is:\n",
      "[1633]\ttraining's auc: 1\tvalid_1's auc: 0.927232\n",
      "V326\n"
     ]
    },
    {
     "name": "stderr",
     "output_type": "stream",
     "text": [
      "/home/jinpwa/anaconda3/lib/python3.6/site-packages/lightgbm/basic.py:1205: UserWarning: Using categorical_feature in Dataset.\n",
      "  warnings.warn('Using categorical_feature in Dataset.')\n",
      "/home/jinpwa/anaconda3/lib/python3.6/site-packages/lightgbm/basic.py:762: UserWarning: categorical_feature in param dict is overridden.\n",
      "  warnings.warn('categorical_feature in param dict is overridden.')\n"
     ]
    },
    {
     "name": "stdout",
     "output_type": "stream",
     "text": [
      "Training until validation scores don't improve for 500 rounds.\n",
      "[500]\ttraining's auc: 0.99667\tvalid_1's auc: 0.917947\n",
      "[1000]\ttraining's auc: 0.999954\tvalid_1's auc: 0.926201\n",
      "[1500]\ttraining's auc: 1\tvalid_1's auc: 0.927277\n",
      "[2000]\ttraining's auc: 1\tvalid_1's auc: 0.927414\n",
      "Early stopping, best iteration is:\n",
      "[1596]\ttraining's auc: 1\tvalid_1's auc: 0.927435\n",
      "V327\n"
     ]
    },
    {
     "name": "stderr",
     "output_type": "stream",
     "text": [
      "/home/jinpwa/anaconda3/lib/python3.6/site-packages/lightgbm/basic.py:1205: UserWarning: Using categorical_feature in Dataset.\n",
      "  warnings.warn('Using categorical_feature in Dataset.')\n",
      "/home/jinpwa/anaconda3/lib/python3.6/site-packages/lightgbm/basic.py:762: UserWarning: categorical_feature in param dict is overridden.\n",
      "  warnings.warn('categorical_feature in param dict is overridden.')\n"
     ]
    },
    {
     "name": "stdout",
     "output_type": "stream",
     "text": [
      "Training until validation scores don't improve for 500 rounds.\n",
      "[500]\ttraining's auc: 0.996669\tvalid_1's auc: 0.917144\n",
      "[1000]\ttraining's auc: 0.999957\tvalid_1's auc: 0.924999\n",
      "[1500]\ttraining's auc: 1\tvalid_1's auc: 0.926195\n",
      "[2000]\ttraining's auc: 1\tvalid_1's auc: 0.926544\n",
      "Early stopping, best iteration is:\n",
      "[1640]\ttraining's auc: 1\tvalid_1's auc: 0.926417\n",
      "V328\n"
     ]
    },
    {
     "name": "stderr",
     "output_type": "stream",
     "text": [
      "/home/jinpwa/anaconda3/lib/python3.6/site-packages/lightgbm/basic.py:1205: UserWarning: Using categorical_feature in Dataset.\n",
      "  warnings.warn('Using categorical_feature in Dataset.')\n",
      "/home/jinpwa/anaconda3/lib/python3.6/site-packages/lightgbm/basic.py:762: UserWarning: categorical_feature in param dict is overridden.\n",
      "  warnings.warn('categorical_feature in param dict is overridden.')\n"
     ]
    },
    {
     "name": "stdout",
     "output_type": "stream",
     "text": [
      "Training until validation scores don't improve for 500 rounds.\n",
      "[500]\ttraining's auc: 0.996687\tvalid_1's auc: 0.917377\n",
      "[1000]\ttraining's auc: 0.999955\tvalid_1's auc: 0.92538\n",
      "[1500]\ttraining's auc: 1\tvalid_1's auc: 0.926684\n",
      "[2000]\ttraining's auc: 1\tvalid_1's auc: 0.926687\n",
      "Early stopping, best iteration is:\n",
      "[1645]\ttraining's auc: 1\tvalid_1's auc: 0.926828\n",
      "V329\n"
     ]
    },
    {
     "name": "stderr",
     "output_type": "stream",
     "text": [
      "/home/jinpwa/anaconda3/lib/python3.6/site-packages/lightgbm/basic.py:1205: UserWarning: Using categorical_feature in Dataset.\n",
      "  warnings.warn('Using categorical_feature in Dataset.')\n",
      "/home/jinpwa/anaconda3/lib/python3.6/site-packages/lightgbm/basic.py:762: UserWarning: categorical_feature in param dict is overridden.\n",
      "  warnings.warn('categorical_feature in param dict is overridden.')\n"
     ]
    },
    {
     "name": "stdout",
     "output_type": "stream",
     "text": [
      "Training until validation scores don't improve for 500 rounds.\n",
      "[500]\ttraining's auc: 0.996662\tvalid_1's auc: 0.917283\n",
      "[1000]\ttraining's auc: 0.999956\tvalid_1's auc: 0.925298\n",
      "[1500]\ttraining's auc: 1\tvalid_1's auc: 0.926643\n",
      "[2000]\ttraining's auc: 1\tvalid_1's auc: 0.926724\n",
      "Early stopping, best iteration is:\n",
      "[1648]\ttraining's auc: 1\tvalid_1's auc: 0.92663\n",
      "V330\n"
     ]
    },
    {
     "name": "stderr",
     "output_type": "stream",
     "text": [
      "/home/jinpwa/anaconda3/lib/python3.6/site-packages/lightgbm/basic.py:1205: UserWarning: Using categorical_feature in Dataset.\n",
      "  warnings.warn('Using categorical_feature in Dataset.')\n",
      "/home/jinpwa/anaconda3/lib/python3.6/site-packages/lightgbm/basic.py:762: UserWarning: categorical_feature in param dict is overridden.\n",
      "  warnings.warn('categorical_feature in param dict is overridden.')\n"
     ]
    },
    {
     "name": "stdout",
     "output_type": "stream",
     "text": [
      "Training until validation scores don't improve for 500 rounds.\n",
      "[500]\ttraining's auc: 0.996681\tvalid_1's auc: 0.917275\n",
      "[1000]\ttraining's auc: 0.999956\tvalid_1's auc: 0.925062\n",
      "[1500]\ttraining's auc: 1\tvalid_1's auc: 0.926407\n",
      "[2000]\ttraining's auc: 1\tvalid_1's auc: 0.926602\n",
      "Early stopping, best iteration is:\n",
      "[1644]\ttraining's auc: 1\tvalid_1's auc: 0.926519\n",
      "V331\n"
     ]
    },
    {
     "name": "stderr",
     "output_type": "stream",
     "text": [
      "/home/jinpwa/anaconda3/lib/python3.6/site-packages/lightgbm/basic.py:1205: UserWarning: Using categorical_feature in Dataset.\n",
      "  warnings.warn('Using categorical_feature in Dataset.')\n",
      "/home/jinpwa/anaconda3/lib/python3.6/site-packages/lightgbm/basic.py:762: UserWarning: categorical_feature in param dict is overridden.\n",
      "  warnings.warn('categorical_feature in param dict is overridden.')\n"
     ]
    },
    {
     "name": "stdout",
     "output_type": "stream",
     "text": [
      "Training until validation scores don't improve for 500 rounds.\n",
      "[500]\ttraining's auc: 0.996664\tvalid_1's auc: 0.917139\n",
      "[1000]\ttraining's auc: 0.999955\tvalid_1's auc: 0.924916\n",
      "[1500]\ttraining's auc: 1\tvalid_1's auc: 0.926316\n",
      "[2000]\ttraining's auc: 1\tvalid_1's auc: 0.926688\n",
      "Early stopping, best iteration is:\n",
      "[1637]\ttraining's auc: 1\tvalid_1's auc: 0.926389\n",
      "V332\n"
     ]
    },
    {
     "name": "stderr",
     "output_type": "stream",
     "text": [
      "/home/jinpwa/anaconda3/lib/python3.6/site-packages/lightgbm/basic.py:1205: UserWarning: Using categorical_feature in Dataset.\n",
      "  warnings.warn('Using categorical_feature in Dataset.')\n",
      "/home/jinpwa/anaconda3/lib/python3.6/site-packages/lightgbm/basic.py:762: UserWarning: categorical_feature in param dict is overridden.\n",
      "  warnings.warn('categorical_feature in param dict is overridden.')\n"
     ]
    },
    {
     "name": "stdout",
     "output_type": "stream",
     "text": [
      "Training until validation scores don't improve for 500 rounds.\n",
      "[500]\ttraining's auc: 0.996664\tvalid_1's auc: 0.917433\n",
      "[1000]\ttraining's auc: 0.999958\tvalid_1's auc: 0.925634\n",
      "[1500]\ttraining's auc: 1\tvalid_1's auc: 0.927005\n",
      "[2000]\ttraining's auc: 1\tvalid_1's auc: 0.927216\n",
      "Early stopping, best iteration is:\n",
      "[1640]\ttraining's auc: 1\tvalid_1's auc: 0.926996\n",
      "V333\n"
     ]
    },
    {
     "name": "stderr",
     "output_type": "stream",
     "text": [
      "/home/jinpwa/anaconda3/lib/python3.6/site-packages/lightgbm/basic.py:1205: UserWarning: Using categorical_feature in Dataset.\n",
      "  warnings.warn('Using categorical_feature in Dataset.')\n",
      "/home/jinpwa/anaconda3/lib/python3.6/site-packages/lightgbm/basic.py:762: UserWarning: categorical_feature in param dict is overridden.\n",
      "  warnings.warn('categorical_feature in param dict is overridden.')\n"
     ]
    },
    {
     "name": "stdout",
     "output_type": "stream",
     "text": [
      "Training until validation scores don't improve for 500 rounds.\n",
      "[500]\ttraining's auc: 0.996688\tvalid_1's auc: 0.917238\n",
      "[1000]\ttraining's auc: 0.999955\tvalid_1's auc: 0.925169\n",
      "[1500]\ttraining's auc: 1\tvalid_1's auc: 0.926744\n",
      "[2000]\ttraining's auc: 1\tvalid_1's auc: 0.926972\n",
      "Early stopping, best iteration is:\n",
      "[1660]\ttraining's auc: 1\tvalid_1's auc: 0.926908\n",
      "V334\n"
     ]
    },
    {
     "name": "stderr",
     "output_type": "stream",
     "text": [
      "/home/jinpwa/anaconda3/lib/python3.6/site-packages/lightgbm/basic.py:1205: UserWarning: Using categorical_feature in Dataset.\n",
      "  warnings.warn('Using categorical_feature in Dataset.')\n",
      "/home/jinpwa/anaconda3/lib/python3.6/site-packages/lightgbm/basic.py:762: UserWarning: categorical_feature in param dict is overridden.\n",
      "  warnings.warn('categorical_feature in param dict is overridden.')\n"
     ]
    },
    {
     "name": "stdout",
     "output_type": "stream",
     "text": [
      "Training until validation scores don't improve for 500 rounds.\n",
      "[500]\ttraining's auc: 0.996702\tvalid_1's auc: 0.917227\n",
      "[1000]\ttraining's auc: 0.999958\tvalid_1's auc: 0.925336\n",
      "[1500]\ttraining's auc: 1\tvalid_1's auc: 0.927038\n",
      "[2000]\ttraining's auc: 1\tvalid_1's auc: 0.927236\n",
      "Early stopping, best iteration is:\n",
      "[1614]\ttraining's auc: 1\tvalid_1's auc: 0.927171\n",
      "V335\n"
     ]
    },
    {
     "name": "stderr",
     "output_type": "stream",
     "text": [
      "/home/jinpwa/anaconda3/lib/python3.6/site-packages/lightgbm/basic.py:1205: UserWarning: Using categorical_feature in Dataset.\n",
      "  warnings.warn('Using categorical_feature in Dataset.')\n",
      "/home/jinpwa/anaconda3/lib/python3.6/site-packages/lightgbm/basic.py:762: UserWarning: categorical_feature in param dict is overridden.\n",
      "  warnings.warn('categorical_feature in param dict is overridden.')\n"
     ]
    },
    {
     "name": "stdout",
     "output_type": "stream",
     "text": [
      "Training until validation scores don't improve for 500 rounds.\n",
      "[500]\ttraining's auc: 0.996719\tvalid_1's auc: 0.917758\n",
      "[1000]\ttraining's auc: 0.999955\tvalid_1's auc: 0.925934\n",
      "[1500]\ttraining's auc: 1\tvalid_1's auc: 0.926994\n",
      "[2000]\ttraining's auc: 1\tvalid_1's auc: 0.926999\n",
      "Early stopping, best iteration is:\n",
      "[1568]\ttraining's auc: 1\tvalid_1's auc: 0.927143\n",
      "V336\n"
     ]
    },
    {
     "name": "stderr",
     "output_type": "stream",
     "text": [
      "/home/jinpwa/anaconda3/lib/python3.6/site-packages/lightgbm/basic.py:1205: UserWarning: Using categorical_feature in Dataset.\n",
      "  warnings.warn('Using categorical_feature in Dataset.')\n",
      "/home/jinpwa/anaconda3/lib/python3.6/site-packages/lightgbm/basic.py:762: UserWarning: categorical_feature in param dict is overridden.\n",
      "  warnings.warn('categorical_feature in param dict is overridden.')\n"
     ]
    },
    {
     "name": "stdout",
     "output_type": "stream",
     "text": [
      "Training until validation scores don't improve for 500 rounds.\n",
      "[500]\ttraining's auc: 0.99669\tvalid_1's auc: 0.9177\n",
      "[1000]\ttraining's auc: 0.999956\tvalid_1's auc: 0.925345\n",
      "[1500]\ttraining's auc: 1\tvalid_1's auc: 0.926529\n",
      "[2000]\ttraining's auc: 1\tvalid_1's auc: 0.926405\n",
      "Early stopping, best iteration is:\n",
      "[1576]\ttraining's auc: 1\tvalid_1's auc: 0.926726\n",
      "V337\n"
     ]
    },
    {
     "name": "stderr",
     "output_type": "stream",
     "text": [
      "/home/jinpwa/anaconda3/lib/python3.6/site-packages/lightgbm/basic.py:1205: UserWarning: Using categorical_feature in Dataset.\n",
      "  warnings.warn('Using categorical_feature in Dataset.')\n",
      "/home/jinpwa/anaconda3/lib/python3.6/site-packages/lightgbm/basic.py:762: UserWarning: categorical_feature in param dict is overridden.\n",
      "  warnings.warn('categorical_feature in param dict is overridden.')\n"
     ]
    },
    {
     "name": "stdout",
     "output_type": "stream",
     "text": [
      "Training until validation scores don't improve for 500 rounds.\n",
      "[500]\ttraining's auc: 0.996698\tvalid_1's auc: 0.916969\n",
      "[1000]\ttraining's auc: 0.999957\tvalid_1's auc: 0.925278\n",
      "[1500]\ttraining's auc: 1\tvalid_1's auc: 0.926487\n",
      "[2000]\ttraining's auc: 1\tvalid_1's auc: 0.926618\n",
      "Early stopping, best iteration is:\n",
      "[1632]\ttraining's auc: 1\tvalid_1's auc: 0.926626\n",
      "V338\n"
     ]
    },
    {
     "name": "stderr",
     "output_type": "stream",
     "text": [
      "/home/jinpwa/anaconda3/lib/python3.6/site-packages/lightgbm/basic.py:1205: UserWarning: Using categorical_feature in Dataset.\n",
      "  warnings.warn('Using categorical_feature in Dataset.')\n",
      "/home/jinpwa/anaconda3/lib/python3.6/site-packages/lightgbm/basic.py:762: UserWarning: categorical_feature in param dict is overridden.\n",
      "  warnings.warn('categorical_feature in param dict is overridden.')\n"
     ]
    },
    {
     "name": "stdout",
     "output_type": "stream",
     "text": [
      "Training until validation scores don't improve for 500 rounds.\n",
      "[500]\ttraining's auc: 0.996656\tvalid_1's auc: 0.917245\n",
      "[1000]\ttraining's auc: 0.999955\tvalid_1's auc: 0.925702\n",
      "[1500]\ttraining's auc: 1\tvalid_1's auc: 0.927272\n",
      "[2000]\ttraining's auc: 1\tvalid_1's auc: 0.927504\n",
      "Early stopping, best iteration is:\n",
      "[1663]\ttraining's auc: 1\tvalid_1's auc: 0.927477\n",
      "V339\n"
     ]
    },
    {
     "name": "stderr",
     "output_type": "stream",
     "text": [
      "/home/jinpwa/anaconda3/lib/python3.6/site-packages/lightgbm/basic.py:1205: UserWarning: Using categorical_feature in Dataset.\n",
      "  warnings.warn('Using categorical_feature in Dataset.')\n",
      "/home/jinpwa/anaconda3/lib/python3.6/site-packages/lightgbm/basic.py:762: UserWarning: categorical_feature in param dict is overridden.\n",
      "  warnings.warn('categorical_feature in param dict is overridden.')\n"
     ]
    },
    {
     "name": "stdout",
     "output_type": "stream",
     "text": [
      "Training until validation scores don't improve for 500 rounds.\n",
      "[500]\ttraining's auc: 0.996668\tvalid_1's auc: 0.917526\n",
      "[1000]\ttraining's auc: 0.999954\tvalid_1's auc: 0.925063\n",
      "[1500]\ttraining's auc: 1\tvalid_1's auc: 0.926145\n",
      "[2000]\ttraining's auc: 1\tvalid_1's auc: 0.926606\n",
      "Early stopping, best iteration is:\n",
      "[1636]\ttraining's auc: 1\tvalid_1's auc: 0.926253\n",
      "id_01\n"
     ]
    },
    {
     "name": "stderr",
     "output_type": "stream",
     "text": [
      "/home/jinpwa/anaconda3/lib/python3.6/site-packages/lightgbm/basic.py:1205: UserWarning: Using categorical_feature in Dataset.\n",
      "  warnings.warn('Using categorical_feature in Dataset.')\n",
      "/home/jinpwa/anaconda3/lib/python3.6/site-packages/lightgbm/basic.py:762: UserWarning: categorical_feature in param dict is overridden.\n",
      "  warnings.warn('categorical_feature in param dict is overridden.')\n"
     ]
    },
    {
     "name": "stdout",
     "output_type": "stream",
     "text": [
      "Training until validation scores don't improve for 500 rounds.\n",
      "[500]\ttraining's auc: 0.996662\tvalid_1's auc: 0.917668\n",
      "[1000]\ttraining's auc: 0.999954\tvalid_1's auc: 0.92554\n",
      "[1500]\ttraining's auc: 1\tvalid_1's auc: 0.926782\n",
      "[2000]\ttraining's auc: 1\tvalid_1's auc: 0.927031\n",
      "Early stopping, best iteration is:\n",
      "[1691]\ttraining's auc: 1\tvalid_1's auc: 0.927116\n",
      "id_02\n"
     ]
    },
    {
     "name": "stderr",
     "output_type": "stream",
     "text": [
      "/home/jinpwa/anaconda3/lib/python3.6/site-packages/lightgbm/basic.py:1205: UserWarning: Using categorical_feature in Dataset.\n",
      "  warnings.warn('Using categorical_feature in Dataset.')\n",
      "/home/jinpwa/anaconda3/lib/python3.6/site-packages/lightgbm/basic.py:762: UserWarning: categorical_feature in param dict is overridden.\n",
      "  warnings.warn('categorical_feature in param dict is overridden.')\n"
     ]
    },
    {
     "name": "stdout",
     "output_type": "stream",
     "text": [
      "Training until validation scores don't improve for 500 rounds.\n",
      "[500]\ttraining's auc: 0.996612\tvalid_1's auc: 0.917226\n",
      "[1000]\ttraining's auc: 0.999952\tvalid_1's auc: 0.925175\n",
      "[1500]\ttraining's auc: 1\tvalid_1's auc: 0.926508\n",
      "[2000]\ttraining's auc: 1\tvalid_1's auc: 0.926903\n",
      "Early stopping, best iteration is:\n",
      "[1648]\ttraining's auc: 1\tvalid_1's auc: 0.926813\n",
      "id_03\n"
     ]
    },
    {
     "name": "stderr",
     "output_type": "stream",
     "text": [
      "/home/jinpwa/anaconda3/lib/python3.6/site-packages/lightgbm/basic.py:1205: UserWarning: Using categorical_feature in Dataset.\n",
      "  warnings.warn('Using categorical_feature in Dataset.')\n",
      "/home/jinpwa/anaconda3/lib/python3.6/site-packages/lightgbm/basic.py:762: UserWarning: categorical_feature in param dict is overridden.\n",
      "  warnings.warn('categorical_feature in param dict is overridden.')\n"
     ]
    },
    {
     "name": "stdout",
     "output_type": "stream",
     "text": [
      "Training until validation scores don't improve for 500 rounds.\n",
      "[500]\ttraining's auc: 0.996642\tvalid_1's auc: 0.916871\n",
      "[1000]\ttraining's auc: 0.999956\tvalid_1's auc: 0.925212\n",
      "[1500]\ttraining's auc: 1\tvalid_1's auc: 0.926688\n",
      "[2000]\ttraining's auc: 1\tvalid_1's auc: 0.926886\n",
      "Early stopping, best iteration is:\n",
      "[1655]\ttraining's auc: 1\tvalid_1's auc: 0.926917\n",
      "id_04\n"
     ]
    },
    {
     "name": "stderr",
     "output_type": "stream",
     "text": [
      "/home/jinpwa/anaconda3/lib/python3.6/site-packages/lightgbm/basic.py:1205: UserWarning: Using categorical_feature in Dataset.\n",
      "  warnings.warn('Using categorical_feature in Dataset.')\n",
      "/home/jinpwa/anaconda3/lib/python3.6/site-packages/lightgbm/basic.py:762: UserWarning: categorical_feature in param dict is overridden.\n",
      "  warnings.warn('categorical_feature in param dict is overridden.')\n"
     ]
    },
    {
     "name": "stdout",
     "output_type": "stream",
     "text": [
      "Training until validation scores don't improve for 500 rounds.\n",
      "[500]\ttraining's auc: 0.996645\tvalid_1's auc: 0.916727\n",
      "[1000]\ttraining's auc: 0.999955\tvalid_1's auc: 0.924891\n",
      "[1500]\ttraining's auc: 1\tvalid_1's auc: 0.926209\n",
      "[2000]\ttraining's auc: 1\tvalid_1's auc: 0.926588\n",
      "Early stopping, best iteration is:\n",
      "[1665]\ttraining's auc: 1\tvalid_1's auc: 0.926579\n",
      "id_05\n"
     ]
    },
    {
     "name": "stderr",
     "output_type": "stream",
     "text": [
      "/home/jinpwa/anaconda3/lib/python3.6/site-packages/lightgbm/basic.py:1205: UserWarning: Using categorical_feature in Dataset.\n",
      "  warnings.warn('Using categorical_feature in Dataset.')\n",
      "/home/jinpwa/anaconda3/lib/python3.6/site-packages/lightgbm/basic.py:762: UserWarning: categorical_feature in param dict is overridden.\n",
      "  warnings.warn('categorical_feature in param dict is overridden.')\n"
     ]
    },
    {
     "name": "stdout",
     "output_type": "stream",
     "text": [
      "Training until validation scores don't improve for 500 rounds.\n",
      "[500]\ttraining's auc: 0.996684\tvalid_1's auc: 0.917242\n",
      "[1000]\ttraining's auc: 0.999955\tvalid_1's auc: 0.924795\n",
      "[1500]\ttraining's auc: 1\tvalid_1's auc: 0.926234\n",
      "[2000]\ttraining's auc: 1\tvalid_1's auc: 0.926511\n",
      "Early stopping, best iteration is:\n",
      "[1655]\ttraining's auc: 1\tvalid_1's auc: 0.926401\n",
      "id_06\n"
     ]
    },
    {
     "name": "stderr",
     "output_type": "stream",
     "text": [
      "/home/jinpwa/anaconda3/lib/python3.6/site-packages/lightgbm/basic.py:1205: UserWarning: Using categorical_feature in Dataset.\n",
      "  warnings.warn('Using categorical_feature in Dataset.')\n",
      "/home/jinpwa/anaconda3/lib/python3.6/site-packages/lightgbm/basic.py:762: UserWarning: categorical_feature in param dict is overridden.\n",
      "  warnings.warn('categorical_feature in param dict is overridden.')\n"
     ]
    },
    {
     "name": "stdout",
     "output_type": "stream",
     "text": [
      "Training until validation scores don't improve for 500 rounds.\n",
      "[500]\ttraining's auc: 0.996634\tvalid_1's auc: 0.91789\n",
      "[1000]\ttraining's auc: 0.999955\tvalid_1's auc: 0.924727\n",
      "[1500]\ttraining's auc: 1\tvalid_1's auc: 0.926601\n",
      "[2000]\ttraining's auc: 1\tvalid_1's auc: 0.92692\n",
      "Early stopping, best iteration is:\n",
      "[1660]\ttraining's auc: 1\tvalid_1's auc: 0.926742\n",
      "id_07\n"
     ]
    },
    {
     "name": "stderr",
     "output_type": "stream",
     "text": [
      "/home/jinpwa/anaconda3/lib/python3.6/site-packages/lightgbm/basic.py:1205: UserWarning: Using categorical_feature in Dataset.\n",
      "  warnings.warn('Using categorical_feature in Dataset.')\n",
      "/home/jinpwa/anaconda3/lib/python3.6/site-packages/lightgbm/basic.py:762: UserWarning: categorical_feature in param dict is overridden.\n",
      "  warnings.warn('categorical_feature in param dict is overridden.')\n"
     ]
    },
    {
     "name": "stdout",
     "output_type": "stream",
     "text": [
      "Training until validation scores don't improve for 500 rounds.\n",
      "[500]\ttraining's auc: 0.996705\tvalid_1's auc: 0.917241\n",
      "[1000]\ttraining's auc: 0.999957\tvalid_1's auc: 0.924881\n",
      "[1500]\ttraining's auc: 1\tvalid_1's auc: 0.926421\n",
      "[2000]\ttraining's auc: 1\tvalid_1's auc: 0.926644\n",
      "Early stopping, best iteration is:\n",
      "[1639]\ttraining's auc: 1\tvalid_1's auc: 0.926745\n",
      "id_08\n"
     ]
    },
    {
     "name": "stderr",
     "output_type": "stream",
     "text": [
      "/home/jinpwa/anaconda3/lib/python3.6/site-packages/lightgbm/basic.py:1205: UserWarning: Using categorical_feature in Dataset.\n",
      "  warnings.warn('Using categorical_feature in Dataset.')\n",
      "/home/jinpwa/anaconda3/lib/python3.6/site-packages/lightgbm/basic.py:762: UserWarning: categorical_feature in param dict is overridden.\n",
      "  warnings.warn('categorical_feature in param dict is overridden.')\n"
     ]
    },
    {
     "name": "stdout",
     "output_type": "stream",
     "text": [
      "Training until validation scores don't improve for 500 rounds.\n",
      "[500]\ttraining's auc: 0.996684\tvalid_1's auc: 0.916721\n",
      "[1000]\ttraining's auc: 0.999955\tvalid_1's auc: 0.925033\n",
      "[1500]\ttraining's auc: 1\tvalid_1's auc: 0.926891\n",
      "[2000]\ttraining's auc: 1\tvalid_1's auc: 0.927278\n",
      "Early stopping, best iteration is:\n",
      "[1641]\ttraining's auc: 1\tvalid_1's auc: 0.927049\n",
      "id_09\n"
     ]
    },
    {
     "name": "stderr",
     "output_type": "stream",
     "text": [
      "/home/jinpwa/anaconda3/lib/python3.6/site-packages/lightgbm/basic.py:1205: UserWarning: Using categorical_feature in Dataset.\n",
      "  warnings.warn('Using categorical_feature in Dataset.')\n",
      "/home/jinpwa/anaconda3/lib/python3.6/site-packages/lightgbm/basic.py:762: UserWarning: categorical_feature in param dict is overridden.\n",
      "  warnings.warn('categorical_feature in param dict is overridden.')\n"
     ]
    },
    {
     "name": "stdout",
     "output_type": "stream",
     "text": [
      "Training until validation scores don't improve for 500 rounds.\n",
      "[500]\ttraining's auc: 0.99664\tvalid_1's auc: 0.917516\n",
      "[1000]\ttraining's auc: 0.999953\tvalid_1's auc: 0.925777\n",
      "[1500]\ttraining's auc: 1\tvalid_1's auc: 0.927134\n",
      "[2000]\ttraining's auc: 1\tvalid_1's auc: 0.927156\n",
      "Early stopping, best iteration is:\n",
      "[1614]\ttraining's auc: 1\tvalid_1's auc: 0.927341\n",
      "id_10\n"
     ]
    },
    {
     "name": "stderr",
     "output_type": "stream",
     "text": [
      "/home/jinpwa/anaconda3/lib/python3.6/site-packages/lightgbm/basic.py:1205: UserWarning: Using categorical_feature in Dataset.\n",
      "  warnings.warn('Using categorical_feature in Dataset.')\n",
      "/home/jinpwa/anaconda3/lib/python3.6/site-packages/lightgbm/basic.py:762: UserWarning: categorical_feature in param dict is overridden.\n",
      "  warnings.warn('categorical_feature in param dict is overridden.')\n"
     ]
    },
    {
     "name": "stdout",
     "output_type": "stream",
     "text": [
      "Training until validation scores don't improve for 500 rounds.\n",
      "[500]\ttraining's auc: 0.996688\tvalid_1's auc: 0.917449\n",
      "[1000]\ttraining's auc: 0.999955\tvalid_1's auc: 0.925316\n",
      "[1500]\ttraining's auc: 1\tvalid_1's auc: 0.92678\n",
      "[2000]\ttraining's auc: 1\tvalid_1's auc: 0.927071\n",
      "Early stopping, best iteration is:\n",
      "[1655]\ttraining's auc: 1\tvalid_1's auc: 0.926804\n",
      "id_11\n"
     ]
    },
    {
     "name": "stderr",
     "output_type": "stream",
     "text": [
      "/home/jinpwa/anaconda3/lib/python3.6/site-packages/lightgbm/basic.py:1205: UserWarning: Using categorical_feature in Dataset.\n",
      "  warnings.warn('Using categorical_feature in Dataset.')\n",
      "/home/jinpwa/anaconda3/lib/python3.6/site-packages/lightgbm/basic.py:762: UserWarning: categorical_feature in param dict is overridden.\n",
      "  warnings.warn('categorical_feature in param dict is overridden.')\n"
     ]
    },
    {
     "name": "stdout",
     "output_type": "stream",
     "text": [
      "Training until validation scores don't improve for 500 rounds.\n",
      "[500]\ttraining's auc: 0.996674\tvalid_1's auc: 0.917641\n",
      "[1000]\ttraining's auc: 0.999957\tvalid_1's auc: 0.925443\n",
      "[1500]\ttraining's auc: 1\tvalid_1's auc: 0.926867\n",
      "[2000]\ttraining's auc: 1\tvalid_1's auc: 0.926952\n",
      "Early stopping, best iteration is:\n",
      "[1648]\ttraining's auc: 1\tvalid_1's auc: 0.926982\n",
      "id_12\n"
     ]
    },
    {
     "name": "stderr",
     "output_type": "stream",
     "text": [
      "/home/jinpwa/anaconda3/lib/python3.6/site-packages/lightgbm/basic.py:1205: UserWarning: Using categorical_feature in Dataset.\n",
      "  warnings.warn('Using categorical_feature in Dataset.')\n",
      "/home/jinpwa/anaconda3/lib/python3.6/site-packages/lightgbm/basic.py:762: UserWarning: categorical_feature in param dict is overridden.\n",
      "  warnings.warn('categorical_feature in param dict is overridden.')\n"
     ]
    },
    {
     "name": "stdout",
     "output_type": "stream",
     "text": [
      "Training until validation scores don't improve for 500 rounds.\n",
      "[500]\ttraining's auc: 0.996621\tvalid_1's auc: 0.917505\n",
      "[1000]\ttraining's auc: 0.999956\tvalid_1's auc: 0.92563\n",
      "[1500]\ttraining's auc: 1\tvalid_1's auc: 0.926963\n",
      "[2000]\ttraining's auc: 1\tvalid_1's auc: 0.927188\n",
      "Early stopping, best iteration is:\n",
      "[1649]\ttraining's auc: 1\tvalid_1's auc: 0.92715\n",
      "id_13\n"
     ]
    },
    {
     "name": "stderr",
     "output_type": "stream",
     "text": [
      "/home/jinpwa/anaconda3/lib/python3.6/site-packages/lightgbm/basic.py:1205: UserWarning: Using categorical_feature in Dataset.\n",
      "  warnings.warn('Using categorical_feature in Dataset.')\n",
      "/home/jinpwa/anaconda3/lib/python3.6/site-packages/lightgbm/basic.py:762: UserWarning: categorical_feature in param dict is overridden.\n",
      "  warnings.warn('categorical_feature in param dict is overridden.')\n"
     ]
    },
    {
     "name": "stdout",
     "output_type": "stream",
     "text": [
      "Training until validation scores don't improve for 500 rounds.\n",
      "[500]\ttraining's auc: 0.996649\tvalid_1's auc: 0.917641\n",
      "[1000]\ttraining's auc: 0.999955\tvalid_1's auc: 0.925326\n",
      "[1500]\ttraining's auc: 1\tvalid_1's auc: 0.926855\n",
      "[2000]\ttraining's auc: 1\tvalid_1's auc: 0.927206\n",
      "Early stopping, best iteration is:\n",
      "[1631]\ttraining's auc: 1\tvalid_1's auc: 0.927113\n",
      "id_14\n"
     ]
    },
    {
     "name": "stderr",
     "output_type": "stream",
     "text": [
      "/home/jinpwa/anaconda3/lib/python3.6/site-packages/lightgbm/basic.py:1205: UserWarning: Using categorical_feature in Dataset.\n",
      "  warnings.warn('Using categorical_feature in Dataset.')\n",
      "/home/jinpwa/anaconda3/lib/python3.6/site-packages/lightgbm/basic.py:762: UserWarning: categorical_feature in param dict is overridden.\n",
      "  warnings.warn('categorical_feature in param dict is overridden.')\n"
     ]
    },
    {
     "name": "stdout",
     "output_type": "stream",
     "text": [
      "Training until validation scores don't improve for 500 rounds.\n",
      "[500]\ttraining's auc: 0.996649\tvalid_1's auc: 0.917307\n",
      "[1000]\ttraining's auc: 0.999956\tvalid_1's auc: 0.925469\n",
      "[1500]\ttraining's auc: 1\tvalid_1's auc: 0.926626\n",
      "[2000]\ttraining's auc: 1\tvalid_1's auc: 0.926823\n",
      "Early stopping, best iteration is:\n",
      "[1642]\ttraining's auc: 1\tvalid_1's auc: 0.926644\n",
      "id_15\n"
     ]
    },
    {
     "name": "stderr",
     "output_type": "stream",
     "text": [
      "/home/jinpwa/anaconda3/lib/python3.6/site-packages/lightgbm/basic.py:1205: UserWarning: Using categorical_feature in Dataset.\n",
      "  warnings.warn('Using categorical_feature in Dataset.')\n",
      "/home/jinpwa/anaconda3/lib/python3.6/site-packages/lightgbm/basic.py:762: UserWarning: categorical_feature in param dict is overridden.\n",
      "  warnings.warn('categorical_feature in param dict is overridden.')\n"
     ]
    },
    {
     "name": "stdout",
     "output_type": "stream",
     "text": [
      "Training until validation scores don't improve for 500 rounds.\n",
      "[500]\ttraining's auc: 0.99665\tvalid_1's auc: 0.916959\n",
      "[1000]\ttraining's auc: 0.999956\tvalid_1's auc: 0.924663\n",
      "[1500]\ttraining's auc: 1\tvalid_1's auc: 0.925602\n",
      "[2000]\ttraining's auc: 1\tvalid_1's auc: 0.925562\n",
      "Early stopping, best iteration is:\n",
      "[1580]\ttraining's auc: 1\tvalid_1's auc: 0.925801\n",
      "id_16\n"
     ]
    },
    {
     "name": "stderr",
     "output_type": "stream",
     "text": [
      "/home/jinpwa/anaconda3/lib/python3.6/site-packages/lightgbm/basic.py:1205: UserWarning: Using categorical_feature in Dataset.\n",
      "  warnings.warn('Using categorical_feature in Dataset.')\n",
      "/home/jinpwa/anaconda3/lib/python3.6/site-packages/lightgbm/basic.py:762: UserWarning: categorical_feature in param dict is overridden.\n",
      "  warnings.warn('categorical_feature in param dict is overridden.')\n"
     ]
    },
    {
     "name": "stdout",
     "output_type": "stream",
     "text": [
      "Training until validation scores don't improve for 500 rounds.\n",
      "[500]\ttraining's auc: 0.996735\tvalid_1's auc: 0.917771\n",
      "[1000]\ttraining's auc: 0.999958\tvalid_1's auc: 0.925667\n",
      "[1500]\ttraining's auc: 1\tvalid_1's auc: 0.92675\n",
      "[2000]\ttraining's auc: 1\tvalid_1's auc: 0.92694\n",
      "Early stopping, best iteration is:\n",
      "[1646]\ttraining's auc: 1\tvalid_1's auc: 0.927073\n",
      "id_17\n"
     ]
    },
    {
     "name": "stderr",
     "output_type": "stream",
     "text": [
      "/home/jinpwa/anaconda3/lib/python3.6/site-packages/lightgbm/basic.py:1205: UserWarning: Using categorical_feature in Dataset.\n",
      "  warnings.warn('Using categorical_feature in Dataset.')\n",
      "/home/jinpwa/anaconda3/lib/python3.6/site-packages/lightgbm/basic.py:762: UserWarning: categorical_feature in param dict is overridden.\n",
      "  warnings.warn('categorical_feature in param dict is overridden.')\n"
     ]
    },
    {
     "name": "stdout",
     "output_type": "stream",
     "text": [
      "Training until validation scores don't improve for 500 rounds.\n",
      "[500]\ttraining's auc: 0.996656\tvalid_1's auc: 0.916733\n",
      "[1000]\ttraining's auc: 0.999955\tvalid_1's auc: 0.925123\n",
      "[1500]\ttraining's auc: 1\tvalid_1's auc: 0.92637\n",
      "[2000]\ttraining's auc: 1\tvalid_1's auc: 0.926655\n",
      "Early stopping, best iteration is:\n",
      "[1647]\ttraining's auc: 1\tvalid_1's auc: 0.92647\n",
      "id_18\n"
     ]
    },
    {
     "name": "stderr",
     "output_type": "stream",
     "text": [
      "/home/jinpwa/anaconda3/lib/python3.6/site-packages/lightgbm/basic.py:1205: UserWarning: Using categorical_feature in Dataset.\n",
      "  warnings.warn('Using categorical_feature in Dataset.')\n",
      "/home/jinpwa/anaconda3/lib/python3.6/site-packages/lightgbm/basic.py:762: UserWarning: categorical_feature in param dict is overridden.\n",
      "  warnings.warn('categorical_feature in param dict is overridden.')\n"
     ]
    },
    {
     "name": "stdout",
     "output_type": "stream",
     "text": [
      "Training until validation scores don't improve for 500 rounds.\n",
      "[500]\ttraining's auc: 0.996703\tvalid_1's auc: 0.917186\n",
      "[1000]\ttraining's auc: 0.999956\tvalid_1's auc: 0.925786\n",
      "[1500]\ttraining's auc: 1\tvalid_1's auc: 0.927132\n",
      "[2000]\ttraining's auc: 1\tvalid_1's auc: 0.927495\n",
      "Early stopping, best iteration is:\n",
      "[1671]\ttraining's auc: 1\tvalid_1's auc: 0.927443\n",
      "id_19\n"
     ]
    },
    {
     "name": "stderr",
     "output_type": "stream",
     "text": [
      "/home/jinpwa/anaconda3/lib/python3.6/site-packages/lightgbm/basic.py:1205: UserWarning: Using categorical_feature in Dataset.\n",
      "  warnings.warn('Using categorical_feature in Dataset.')\n",
      "/home/jinpwa/anaconda3/lib/python3.6/site-packages/lightgbm/basic.py:762: UserWarning: categorical_feature in param dict is overridden.\n",
      "  warnings.warn('categorical_feature in param dict is overridden.')\n"
     ]
    },
    {
     "name": "stdout",
     "output_type": "stream",
     "text": [
      "Training until validation scores don't improve for 500 rounds.\n",
      "[500]\ttraining's auc: 0.996621\tvalid_1's auc: 0.918119\n",
      "[1000]\ttraining's auc: 0.999953\tvalid_1's auc: 0.925577\n",
      "[1500]\ttraining's auc: 1\tvalid_1's auc: 0.926985\n",
      "[2000]\ttraining's auc: 1\tvalid_1's auc: 0.927309\n",
      "Early stopping, best iteration is:\n",
      "[1633]\ttraining's auc: 1\tvalid_1's auc: 0.927173\n",
      "id_20\n"
     ]
    },
    {
     "name": "stderr",
     "output_type": "stream",
     "text": [
      "/home/jinpwa/anaconda3/lib/python3.6/site-packages/lightgbm/basic.py:1205: UserWarning: Using categorical_feature in Dataset.\n",
      "  warnings.warn('Using categorical_feature in Dataset.')\n",
      "/home/jinpwa/anaconda3/lib/python3.6/site-packages/lightgbm/basic.py:762: UserWarning: categorical_feature in param dict is overridden.\n",
      "  warnings.warn('categorical_feature in param dict is overridden.')\n"
     ]
    },
    {
     "name": "stdout",
     "output_type": "stream",
     "text": [
      "Training until validation scores don't improve for 500 rounds.\n",
      "[500]\ttraining's auc: 0.996601\tvalid_1's auc: 0.915879\n",
      "[1000]\ttraining's auc: 0.999956\tvalid_1's auc: 0.923283\n",
      "[1500]\ttraining's auc: 1\tvalid_1's auc: 0.924925\n",
      "[2000]\ttraining's auc: 1\tvalid_1's auc: 0.925065\n",
      "Early stopping, best iteration is:\n",
      "[1630]\ttraining's auc: 1\tvalid_1's auc: 0.925088\n",
      "id_21\n"
     ]
    },
    {
     "name": "stderr",
     "output_type": "stream",
     "text": [
      "/home/jinpwa/anaconda3/lib/python3.6/site-packages/lightgbm/basic.py:1205: UserWarning: Using categorical_feature in Dataset.\n",
      "  warnings.warn('Using categorical_feature in Dataset.')\n",
      "/home/jinpwa/anaconda3/lib/python3.6/site-packages/lightgbm/basic.py:762: UserWarning: categorical_feature in param dict is overridden.\n",
      "  warnings.warn('categorical_feature in param dict is overridden.')\n"
     ]
    },
    {
     "name": "stdout",
     "output_type": "stream",
     "text": [
      "Training until validation scores don't improve for 500 rounds.\n",
      "[500]\ttraining's auc: 0.996681\tvalid_1's auc: 0.917498\n",
      "[1000]\ttraining's auc: 0.999957\tvalid_1's auc: 0.925296\n",
      "[1500]\ttraining's auc: 1\tvalid_1's auc: 0.926723\n",
      "[2000]\ttraining's auc: 1\tvalid_1's auc: 0.92676\n",
      "Early stopping, best iteration is:\n",
      "[1625]\ttraining's auc: 1\tvalid_1's auc: 0.926789\n",
      "id_22\n"
     ]
    },
    {
     "name": "stderr",
     "output_type": "stream",
     "text": [
      "/home/jinpwa/anaconda3/lib/python3.6/site-packages/lightgbm/basic.py:1205: UserWarning: Using categorical_feature in Dataset.\n",
      "  warnings.warn('Using categorical_feature in Dataset.')\n",
      "/home/jinpwa/anaconda3/lib/python3.6/site-packages/lightgbm/basic.py:762: UserWarning: categorical_feature in param dict is overridden.\n",
      "  warnings.warn('categorical_feature in param dict is overridden.')\n"
     ]
    },
    {
     "name": "stdout",
     "output_type": "stream",
     "text": [
      "Training until validation scores don't improve for 500 rounds.\n",
      "[500]\ttraining's auc: 0.996598\tvalid_1's auc: 0.917756\n",
      "[1000]\ttraining's auc: 0.999954\tvalid_1's auc: 0.925262\n",
      "[1500]\ttraining's auc: 1\tvalid_1's auc: 0.926872\n",
      "[2000]\ttraining's auc: 1\tvalid_1's auc: 0.926781\n",
      "Early stopping, best iteration is:\n",
      "[1633]\ttraining's auc: 1\tvalid_1's auc: 0.926923\n",
      "id_23\n"
     ]
    },
    {
     "name": "stderr",
     "output_type": "stream",
     "text": [
      "/home/jinpwa/anaconda3/lib/python3.6/site-packages/lightgbm/basic.py:1205: UserWarning: Using categorical_feature in Dataset.\n",
      "  warnings.warn('Using categorical_feature in Dataset.')\n",
      "/home/jinpwa/anaconda3/lib/python3.6/site-packages/lightgbm/basic.py:762: UserWarning: categorical_feature in param dict is overridden.\n",
      "  warnings.warn('categorical_feature in param dict is overridden.')\n"
     ]
    },
    {
     "name": "stdout",
     "output_type": "stream",
     "text": [
      "Training until validation scores don't improve for 500 rounds.\n",
      "[500]\ttraining's auc: 0.996672\tvalid_1's auc: 0.917417\n",
      "[1000]\ttraining's auc: 0.999955\tvalid_1's auc: 0.92533\n",
      "[1500]\ttraining's auc: 1\tvalid_1's auc: 0.926697\n",
      "[2000]\ttraining's auc: 1\tvalid_1's auc: 0.927042\n",
      "Early stopping, best iteration is:\n",
      "[1674]\ttraining's auc: 1\tvalid_1's auc: 0.926901\n",
      "id_24\n"
     ]
    },
    {
     "name": "stderr",
     "output_type": "stream",
     "text": [
      "/home/jinpwa/anaconda3/lib/python3.6/site-packages/lightgbm/basic.py:1205: UserWarning: Using categorical_feature in Dataset.\n",
      "  warnings.warn('Using categorical_feature in Dataset.')\n",
      "/home/jinpwa/anaconda3/lib/python3.6/site-packages/lightgbm/basic.py:762: UserWarning: categorical_feature in param dict is overridden.\n",
      "  warnings.warn('categorical_feature in param dict is overridden.')\n"
     ]
    },
    {
     "name": "stdout",
     "output_type": "stream",
     "text": [
      "Training until validation scores don't improve for 500 rounds.\n",
      "[500]\ttraining's auc: 0.996672\tvalid_1's auc: 0.917417\n",
      "[1000]\ttraining's auc: 0.999955\tvalid_1's auc: 0.925816\n",
      "[1500]\ttraining's auc: 1\tvalid_1's auc: 0.926988\n",
      "[2000]\ttraining's auc: 1\tvalid_1's auc: 0.926966\n",
      "Early stopping, best iteration is:\n",
      "[1619]\ttraining's auc: 1\tvalid_1's auc: 0.927194\n",
      "id_25\n"
     ]
    },
    {
     "name": "stderr",
     "output_type": "stream",
     "text": [
      "/home/jinpwa/anaconda3/lib/python3.6/site-packages/lightgbm/basic.py:1205: UserWarning: Using categorical_feature in Dataset.\n",
      "  warnings.warn('Using categorical_feature in Dataset.')\n",
      "/home/jinpwa/anaconda3/lib/python3.6/site-packages/lightgbm/basic.py:762: UserWarning: categorical_feature in param dict is overridden.\n",
      "  warnings.warn('categorical_feature in param dict is overridden.')\n"
     ]
    },
    {
     "name": "stdout",
     "output_type": "stream",
     "text": [
      "Training until validation scores don't improve for 500 rounds.\n",
      "[500]\ttraining's auc: 0.996672\tvalid_1's auc: 0.917417\n",
      "[1000]\ttraining's auc: 0.999955\tvalid_1's auc: 0.925816\n",
      "[1500]\ttraining's auc: 1\tvalid_1's auc: 0.926988\n",
      "[2000]\ttraining's auc: 1\tvalid_1's auc: 0.926966\n",
      "Early stopping, best iteration is:\n",
      "[1619]\ttraining's auc: 1\tvalid_1's auc: 0.927194\n",
      "id_26\n"
     ]
    },
    {
     "name": "stderr",
     "output_type": "stream",
     "text": [
      "/home/jinpwa/anaconda3/lib/python3.6/site-packages/lightgbm/basic.py:1205: UserWarning: Using categorical_feature in Dataset.\n",
      "  warnings.warn('Using categorical_feature in Dataset.')\n",
      "/home/jinpwa/anaconda3/lib/python3.6/site-packages/lightgbm/basic.py:762: UserWarning: categorical_feature in param dict is overridden.\n",
      "  warnings.warn('categorical_feature in param dict is overridden.')\n"
     ]
    },
    {
     "name": "stdout",
     "output_type": "stream",
     "text": [
      "Training until validation scores don't improve for 500 rounds.\n",
      "[500]\ttraining's auc: 0.996672\tvalid_1's auc: 0.917417\n",
      "[1000]\ttraining's auc: 0.999955\tvalid_1's auc: 0.925816\n",
      "[1500]\ttraining's auc: 1\tvalid_1's auc: 0.926988\n",
      "[2000]\ttraining's auc: 1\tvalid_1's auc: 0.926966\n",
      "Early stopping, best iteration is:\n",
      "[1619]\ttraining's auc: 1\tvalid_1's auc: 0.927194\n",
      "id_27\n"
     ]
    },
    {
     "name": "stderr",
     "output_type": "stream",
     "text": [
      "/home/jinpwa/anaconda3/lib/python3.6/site-packages/lightgbm/basic.py:1205: UserWarning: Using categorical_feature in Dataset.\n",
      "  warnings.warn('Using categorical_feature in Dataset.')\n",
      "/home/jinpwa/anaconda3/lib/python3.6/site-packages/lightgbm/basic.py:762: UserWarning: categorical_feature in param dict is overridden.\n",
      "  warnings.warn('categorical_feature in param dict is overridden.')\n"
     ]
    },
    {
     "name": "stdout",
     "output_type": "stream",
     "text": [
      "Training until validation scores don't improve for 500 rounds.\n",
      "[500]\ttraining's auc: 0.996672\tvalid_1's auc: 0.917338\n",
      "[1000]\ttraining's auc: 0.999955\tvalid_1's auc: 0.925364\n",
      "[1500]\ttraining's auc: 1\tvalid_1's auc: 0.926427\n",
      "[2000]\ttraining's auc: 1\tvalid_1's auc: 0.926646\n",
      "Early stopping, best iteration is:\n",
      "[1668]\ttraining's auc: 1\tvalid_1's auc: 0.926615\n",
      "id_28\n"
     ]
    },
    {
     "name": "stderr",
     "output_type": "stream",
     "text": [
      "/home/jinpwa/anaconda3/lib/python3.6/site-packages/lightgbm/basic.py:1205: UserWarning: Using categorical_feature in Dataset.\n",
      "  warnings.warn('Using categorical_feature in Dataset.')\n",
      "/home/jinpwa/anaconda3/lib/python3.6/site-packages/lightgbm/basic.py:762: UserWarning: categorical_feature in param dict is overridden.\n",
      "  warnings.warn('categorical_feature in param dict is overridden.')\n"
     ]
    },
    {
     "name": "stdout",
     "output_type": "stream",
     "text": [
      "Training until validation scores don't improve for 500 rounds.\n",
      "[500]\ttraining's auc: 0.996677\tvalid_1's auc: 0.918141\n",
      "[1000]\ttraining's auc: 0.999956\tvalid_1's auc: 0.925558\n",
      "[1500]\ttraining's auc: 1\tvalid_1's auc: 0.926869\n",
      "[2000]\ttraining's auc: 1\tvalid_1's auc: 0.927076\n",
      "Early stopping, best iteration is:\n",
      "[1653]\ttraining's auc: 1\tvalid_1's auc: 0.926993\n",
      "id_29\n"
     ]
    },
    {
     "name": "stderr",
     "output_type": "stream",
     "text": [
      "/home/jinpwa/anaconda3/lib/python3.6/site-packages/lightgbm/basic.py:1205: UserWarning: Using categorical_feature in Dataset.\n",
      "  warnings.warn('Using categorical_feature in Dataset.')\n",
      "/home/jinpwa/anaconda3/lib/python3.6/site-packages/lightgbm/basic.py:762: UserWarning: categorical_feature in param dict is overridden.\n",
      "  warnings.warn('categorical_feature in param dict is overridden.')\n"
     ]
    },
    {
     "name": "stdout",
     "output_type": "stream",
     "text": [
      "Training until validation scores don't improve for 500 rounds.\n",
      "[500]\ttraining's auc: 0.996661\tvalid_1's auc: 0.917707\n",
      "[1000]\ttraining's auc: 0.999955\tvalid_1's auc: 0.925203\n",
      "[1500]\ttraining's auc: 1\tvalid_1's auc: 0.926574\n",
      "[2000]\ttraining's auc: 1\tvalid_1's auc: 0.926935\n",
      "Early stopping, best iteration is:\n",
      "[1671]\ttraining's auc: 1\tvalid_1's auc: 0.926815\n",
      "id_31\n"
     ]
    },
    {
     "name": "stderr",
     "output_type": "stream",
     "text": [
      "/home/jinpwa/anaconda3/lib/python3.6/site-packages/lightgbm/basic.py:1205: UserWarning: Using categorical_feature in Dataset.\n",
      "  warnings.warn('Using categorical_feature in Dataset.')\n",
      "/home/jinpwa/anaconda3/lib/python3.6/site-packages/lightgbm/basic.py:762: UserWarning: categorical_feature in param dict is overridden.\n",
      "  warnings.warn('categorical_feature in param dict is overridden.')\n"
     ]
    },
    {
     "name": "stdout",
     "output_type": "stream",
     "text": [
      "Training until validation scores don't improve for 500 rounds.\n",
      "[500]\ttraining's auc: 0.996653\tvalid_1's auc: 0.917719\n",
      "[1000]\ttraining's auc: 0.999956\tvalid_1's auc: 0.925718\n",
      "[1500]\ttraining's auc: 1\tvalid_1's auc: 0.92698\n",
      "[2000]\ttraining's auc: 1\tvalid_1's auc: 0.92693\n",
      "Early stopping, best iteration is:\n",
      "[1632]\ttraining's auc: 1\tvalid_1's auc: 0.927045\n",
      "id_32\n"
     ]
    },
    {
     "name": "stderr",
     "output_type": "stream",
     "text": [
      "/home/jinpwa/anaconda3/lib/python3.6/site-packages/lightgbm/basic.py:1205: UserWarning: Using categorical_feature in Dataset.\n",
      "  warnings.warn('Using categorical_feature in Dataset.')\n",
      "/home/jinpwa/anaconda3/lib/python3.6/site-packages/lightgbm/basic.py:762: UserWarning: categorical_feature in param dict is overridden.\n",
      "  warnings.warn('categorical_feature in param dict is overridden.')\n"
     ]
    },
    {
     "name": "stdout",
     "output_type": "stream",
     "text": [
      "Training until validation scores don't improve for 500 rounds.\n",
      "[500]\ttraining's auc: 0.99667\tvalid_1's auc: 0.917675\n",
      "[1000]\ttraining's auc: 0.999955\tvalid_1's auc: 0.925367\n",
      "[1500]\ttraining's auc: 1\tvalid_1's auc: 0.926941\n",
      "[2000]\ttraining's auc: 1\tvalid_1's auc: 0.927107\n",
      "Early stopping, best iteration is:\n",
      "[1630]\ttraining's auc: 1\tvalid_1's auc: 0.927225\n",
      "id_34\n"
     ]
    },
    {
     "name": "stderr",
     "output_type": "stream",
     "text": [
      "/home/jinpwa/anaconda3/lib/python3.6/site-packages/lightgbm/basic.py:1205: UserWarning: Using categorical_feature in Dataset.\n",
      "  warnings.warn('Using categorical_feature in Dataset.')\n",
      "/home/jinpwa/anaconda3/lib/python3.6/site-packages/lightgbm/basic.py:762: UserWarning: categorical_feature in param dict is overridden.\n",
      "  warnings.warn('categorical_feature in param dict is overridden.')\n"
     ]
    },
    {
     "name": "stdout",
     "output_type": "stream",
     "text": [
      "Training until validation scores don't improve for 500 rounds.\n",
      "[500]\ttraining's auc: 0.996733\tvalid_1's auc: 0.917925\n",
      "[1000]\ttraining's auc: 0.999956\tvalid_1's auc: 0.925528\n",
      "[1500]\ttraining's auc: 1\tvalid_1's auc: 0.927171\n",
      "[2000]\ttraining's auc: 1\tvalid_1's auc: 0.927308\n",
      "Early stopping, best iteration is:\n",
      "[1650]\ttraining's auc: 1\tvalid_1's auc: 0.927152\n",
      "id_35\n"
     ]
    },
    {
     "name": "stderr",
     "output_type": "stream",
     "text": [
      "/home/jinpwa/anaconda3/lib/python3.6/site-packages/lightgbm/basic.py:1205: UserWarning: Using categorical_feature in Dataset.\n",
      "  warnings.warn('Using categorical_feature in Dataset.')\n",
      "/home/jinpwa/anaconda3/lib/python3.6/site-packages/lightgbm/basic.py:762: UserWarning: categorical_feature in param dict is overridden.\n",
      "  warnings.warn('categorical_feature in param dict is overridden.')\n"
     ]
    },
    {
     "name": "stdout",
     "output_type": "stream",
     "text": [
      "Training until validation scores don't improve for 500 rounds.\n",
      "[500]\ttraining's auc: 0.996722\tvalid_1's auc: 0.918196\n",
      "[1000]\ttraining's auc: 0.999956\tvalid_1's auc: 0.925815\n",
      "[1500]\ttraining's auc: 1\tvalid_1's auc: 0.927144\n",
      "[2000]\ttraining's auc: 1\tvalid_1's auc: 0.927126\n",
      "Early stopping, best iteration is:\n",
      "[1617]\ttraining's auc: 1\tvalid_1's auc: 0.927332\n",
      "id_36\n"
     ]
    },
    {
     "name": "stderr",
     "output_type": "stream",
     "text": [
      "/home/jinpwa/anaconda3/lib/python3.6/site-packages/lightgbm/basic.py:1205: UserWarning: Using categorical_feature in Dataset.\n",
      "  warnings.warn('Using categorical_feature in Dataset.')\n",
      "/home/jinpwa/anaconda3/lib/python3.6/site-packages/lightgbm/basic.py:762: UserWarning: categorical_feature in param dict is overridden.\n",
      "  warnings.warn('categorical_feature in param dict is overridden.')\n"
     ]
    },
    {
     "name": "stdout",
     "output_type": "stream",
     "text": [
      "Training until validation scores don't improve for 500 rounds.\n",
      "[500]\ttraining's auc: 0.99666\tvalid_1's auc: 0.918126\n",
      "[1000]\ttraining's auc: 0.999955\tvalid_1's auc: 0.925418\n",
      "[1500]\ttraining's auc: 1\tvalid_1's auc: 0.926745\n",
      "[2000]\ttraining's auc: 1\tvalid_1's auc: 0.926767\n",
      "Early stopping, best iteration is:\n",
      "[1644]\ttraining's auc: 1\tvalid_1's auc: 0.926871\n",
      "id_37\n"
     ]
    },
    {
     "name": "stderr",
     "output_type": "stream",
     "text": [
      "/home/jinpwa/anaconda3/lib/python3.6/site-packages/lightgbm/basic.py:1205: UserWarning: Using categorical_feature in Dataset.\n",
      "  warnings.warn('Using categorical_feature in Dataset.')\n",
      "/home/jinpwa/anaconda3/lib/python3.6/site-packages/lightgbm/basic.py:762: UserWarning: categorical_feature in param dict is overridden.\n",
      "  warnings.warn('categorical_feature in param dict is overridden.')\n"
     ]
    },
    {
     "name": "stdout",
     "output_type": "stream",
     "text": [
      "Training until validation scores don't improve for 500 rounds.\n",
      "[500]\ttraining's auc: 0.996697\tvalid_1's auc: 0.917734\n",
      "[1000]\ttraining's auc: 0.999957\tvalid_1's auc: 0.92541\n",
      "[1500]\ttraining's auc: 1\tvalid_1's auc: 0.927054\n",
      "[2000]\ttraining's auc: 1\tvalid_1's auc: 0.927024\n",
      "Early stopping, best iteration is:\n",
      "[1619]\ttraining's auc: 1\tvalid_1's auc: 0.927209\n",
      "id_38\n"
     ]
    },
    {
     "name": "stderr",
     "output_type": "stream",
     "text": [
      "/home/jinpwa/anaconda3/lib/python3.6/site-packages/lightgbm/basic.py:1205: UserWarning: Using categorical_feature in Dataset.\n",
      "  warnings.warn('Using categorical_feature in Dataset.')\n",
      "/home/jinpwa/anaconda3/lib/python3.6/site-packages/lightgbm/basic.py:762: UserWarning: categorical_feature in param dict is overridden.\n",
      "  warnings.warn('categorical_feature in param dict is overridden.')\n"
     ]
    },
    {
     "name": "stdout",
     "output_type": "stream",
     "text": [
      "Training until validation scores don't improve for 500 rounds.\n",
      "[500]\ttraining's auc: 0.996655\tvalid_1's auc: 0.917242\n",
      "[1000]\ttraining's auc: 0.999955\tvalid_1's auc: 0.925104\n",
      "[1500]\ttraining's auc: 1\tvalid_1's auc: 0.926734\n",
      "[2000]\ttraining's auc: 1\tvalid_1's auc: 0.926817\n",
      "Early stopping, best iteration is:\n",
      "[1635]\ttraining's auc: 1\tvalid_1's auc: 0.926878\n",
      "DeviceType\n"
     ]
    },
    {
     "name": "stderr",
     "output_type": "stream",
     "text": [
      "/home/jinpwa/anaconda3/lib/python3.6/site-packages/lightgbm/basic.py:1205: UserWarning: Using categorical_feature in Dataset.\n",
      "  warnings.warn('Using categorical_feature in Dataset.')\n",
      "/home/jinpwa/anaconda3/lib/python3.6/site-packages/lightgbm/basic.py:762: UserWarning: categorical_feature in param dict is overridden.\n",
      "  warnings.warn('categorical_feature in param dict is overridden.')\n"
     ]
    },
    {
     "name": "stdout",
     "output_type": "stream",
     "text": [
      "Training until validation scores don't improve for 500 rounds.\n",
      "[500]\ttraining's auc: 0.996728\tvalid_1's auc: 0.918389\n",
      "[1000]\ttraining's auc: 0.999955\tvalid_1's auc: 0.925929\n",
      "[1500]\ttraining's auc: 1\tvalid_1's auc: 0.927138\n",
      "[2000]\ttraining's auc: 1\tvalid_1's auc: 0.927397\n",
      "Early stopping, best iteration is:\n",
      "[1662]\ttraining's auc: 1\tvalid_1's auc: 0.927228\n",
      "P_email\n"
     ]
    },
    {
     "name": "stderr",
     "output_type": "stream",
     "text": [
      "/home/jinpwa/anaconda3/lib/python3.6/site-packages/lightgbm/basic.py:1205: UserWarning: Using categorical_feature in Dataset.\n",
      "  warnings.warn('Using categorical_feature in Dataset.')\n",
      "/home/jinpwa/anaconda3/lib/python3.6/site-packages/lightgbm/basic.py:762: UserWarning: categorical_feature in param dict is overridden.\n",
      "  warnings.warn('categorical_feature in param dict is overridden.')\n"
     ]
    },
    {
     "name": "stdout",
     "output_type": "stream",
     "text": [
      "Training until validation scores don't improve for 500 rounds.\n",
      "[500]\ttraining's auc: 0.996601\tvalid_1's auc: 0.916946\n",
      "[1000]\ttraining's auc: 0.999953\tvalid_1's auc: 0.924566\n",
      "[1500]\ttraining's auc: 1\tvalid_1's auc: 0.926099\n",
      "[2000]\ttraining's auc: 1\tvalid_1's auc: 0.926223\n",
      "Early stopping, best iteration is:\n",
      "[1676]\ttraining's auc: 1\tvalid_1's auc: 0.926102\n",
      "P_email_suffix\n"
     ]
    },
    {
     "name": "stderr",
     "output_type": "stream",
     "text": [
      "/home/jinpwa/anaconda3/lib/python3.6/site-packages/lightgbm/basic.py:1205: UserWarning: Using categorical_feature in Dataset.\n",
      "  warnings.warn('Using categorical_feature in Dataset.')\n",
      "/home/jinpwa/anaconda3/lib/python3.6/site-packages/lightgbm/basic.py:762: UserWarning: categorical_feature in param dict is overridden.\n",
      "  warnings.warn('categorical_feature in param dict is overridden.')\n"
     ]
    },
    {
     "name": "stdout",
     "output_type": "stream",
     "text": [
      "Training until validation scores don't improve for 500 rounds.\n",
      "[500]\ttraining's auc: 0.99673\tvalid_1's auc: 0.918385\n",
      "[1000]\ttraining's auc: 0.999956\tvalid_1's auc: 0.926655\n",
      "[1500]\ttraining's auc: 1\tvalid_1's auc: 0.927991\n",
      "[2000]\ttraining's auc: 1\tvalid_1's auc: 0.928035\n",
      "Early stopping, best iteration is:\n",
      "[1651]\ttraining's auc: 1\tvalid_1's auc: 0.927939\n",
      "remove P_email_suffix improve auc from 0.9281482770204038 to 0.9281661190338887 this feature is endanger\n",
      "R_email\n"
     ]
    },
    {
     "name": "stderr",
     "output_type": "stream",
     "text": [
      "/home/jinpwa/anaconda3/lib/python3.6/site-packages/lightgbm/basic.py:1205: UserWarning: Using categorical_feature in Dataset.\n",
      "  warnings.warn('Using categorical_feature in Dataset.')\n",
      "/home/jinpwa/anaconda3/lib/python3.6/site-packages/lightgbm/basic.py:762: UserWarning: categorical_feature in param dict is overridden.\n",
      "  warnings.warn('categorical_feature in param dict is overridden.')\n"
     ]
    },
    {
     "name": "stdout",
     "output_type": "stream",
     "text": [
      "Training until validation scores don't improve for 500 rounds.\n",
      "[500]\ttraining's auc: 0.996652\tvalid_1's auc: 0.918367\n",
      "[1000]\ttraining's auc: 0.999952\tvalid_1's auc: 0.925891\n",
      "[1500]\ttraining's auc: 1\tvalid_1's auc: 0.927148\n",
      "[2000]\ttraining's auc: 1\tvalid_1's auc: 0.927224\n",
      "Early stopping, best iteration is:\n",
      "[1685]\ttraining's auc: 1\tvalid_1's auc: 0.927231\n",
      "R_email_suffix\n"
     ]
    },
    {
     "name": "stderr",
     "output_type": "stream",
     "text": [
      "/home/jinpwa/anaconda3/lib/python3.6/site-packages/lightgbm/basic.py:1205: UserWarning: Using categorical_feature in Dataset.\n",
      "  warnings.warn('Using categorical_feature in Dataset.')\n",
      "/home/jinpwa/anaconda3/lib/python3.6/site-packages/lightgbm/basic.py:762: UserWarning: categorical_feature in param dict is overridden.\n",
      "  warnings.warn('categorical_feature in param dict is overridden.')\n"
     ]
    },
    {
     "name": "stdout",
     "output_type": "stream",
     "text": [
      "Training until validation scores don't improve for 500 rounds.\n",
      "[500]\ttraining's auc: 0.996691\tvalid_1's auc: 0.917605\n",
      "[1000]\ttraining's auc: 0.999957\tvalid_1's auc: 0.925309\n",
      "[1500]\ttraining's auc: 1\tvalid_1's auc: 0.926407\n",
      "[2000]\ttraining's auc: 1\tvalid_1's auc: 0.926826\n",
      "Early stopping, best iteration is:\n",
      "[1659]\ttraining's auc: 1\tvalid_1's auc: 0.92661\n",
      "id_30_OS\n"
     ]
    },
    {
     "name": "stderr",
     "output_type": "stream",
     "text": [
      "/home/jinpwa/anaconda3/lib/python3.6/site-packages/lightgbm/basic.py:1205: UserWarning: Using categorical_feature in Dataset.\n",
      "  warnings.warn('Using categorical_feature in Dataset.')\n",
      "/home/jinpwa/anaconda3/lib/python3.6/site-packages/lightgbm/basic.py:762: UserWarning: categorical_feature in param dict is overridden.\n",
      "  warnings.warn('categorical_feature in param dict is overridden.')\n"
     ]
    },
    {
     "name": "stdout",
     "output_type": "stream",
     "text": [
      "Training until validation scores don't improve for 500 rounds.\n",
      "[500]\ttraining's auc: 0.996713\tvalid_1's auc: 0.917694\n",
      "[1000]\ttraining's auc: 0.999957\tvalid_1's auc: 0.925531\n",
      "[1500]\ttraining's auc: 1\tvalid_1's auc: 0.926823\n",
      "Early stopping, best iteration is:\n",
      "[1453]\ttraining's auc: 1\tvalid_1's auc: 0.926889\n",
      "id_30_version\n"
     ]
    },
    {
     "name": "stderr",
     "output_type": "stream",
     "text": [
      "/home/jinpwa/anaconda3/lib/python3.6/site-packages/lightgbm/basic.py:1205: UserWarning: Using categorical_feature in Dataset.\n",
      "  warnings.warn('Using categorical_feature in Dataset.')\n",
      "/home/jinpwa/anaconda3/lib/python3.6/site-packages/lightgbm/basic.py:762: UserWarning: categorical_feature in param dict is overridden.\n",
      "  warnings.warn('categorical_feature in param dict is overridden.')\n"
     ]
    },
    {
     "name": "stdout",
     "output_type": "stream",
     "text": [
      "Training until validation scores don't improve for 500 rounds.\n",
      "[500]\ttraining's auc: 0.996707\tvalid_1's auc: 0.917304\n",
      "[1000]\ttraining's auc: 0.999958\tvalid_1's auc: 0.924724\n",
      "[1500]\ttraining's auc: 1\tvalid_1's auc: 0.926017\n",
      "[2000]\ttraining's auc: 1\tvalid_1's auc: 0.926024\n",
      "Early stopping, best iteration is:\n",
      "[1644]\ttraining's auc: 1\tvalid_1's auc: 0.926224\n",
      "dow\n"
     ]
    },
    {
     "name": "stderr",
     "output_type": "stream",
     "text": [
      "/home/jinpwa/anaconda3/lib/python3.6/site-packages/lightgbm/basic.py:1205: UserWarning: Using categorical_feature in Dataset.\n",
      "  warnings.warn('Using categorical_feature in Dataset.')\n",
      "/home/jinpwa/anaconda3/lib/python3.6/site-packages/lightgbm/basic.py:762: UserWarning: categorical_feature in param dict is overridden.\n",
      "  warnings.warn('categorical_feature in param dict is overridden.')\n"
     ]
    },
    {
     "name": "stdout",
     "output_type": "stream",
     "text": [
      "Training until validation scores don't improve for 500 rounds.\n",
      "[500]\ttraining's auc: 0.996664\tvalid_1's auc: 0.917726\n",
      "[1000]\ttraining's auc: 0.999955\tvalid_1's auc: 0.924971\n",
      "[1500]\ttraining's auc: 1\tvalid_1's auc: 0.92612\n",
      "[2000]\ttraining's auc: 1\tvalid_1's auc: 0.926481\n",
      "Early stopping, best iteration is:\n",
      "[1640]\ttraining's auc: 1\tvalid_1's auc: 0.926283\n",
      "hour\n"
     ]
    },
    {
     "name": "stderr",
     "output_type": "stream",
     "text": [
      "/home/jinpwa/anaconda3/lib/python3.6/site-packages/lightgbm/basic.py:1205: UserWarning: Using categorical_feature in Dataset.\n",
      "  warnings.warn('Using categorical_feature in Dataset.')\n",
      "/home/jinpwa/anaconda3/lib/python3.6/site-packages/lightgbm/basic.py:762: UserWarning: categorical_feature in param dict is overridden.\n",
      "  warnings.warn('categorical_feature in param dict is overridden.')\n"
     ]
    },
    {
     "name": "stdout",
     "output_type": "stream",
     "text": [
      "Training until validation scores don't improve for 500 rounds.\n",
      "[500]\ttraining's auc: 0.996396\tvalid_1's auc: 0.918979\n",
      "[1000]\ttraining's auc: 0.99994\tvalid_1's auc: 0.926143\n",
      "[1500]\ttraining's auc: 1\tvalid_1's auc: 0.927355\n",
      "[2000]\ttraining's auc: 1\tvalid_1's auc: 0.927227\n",
      "Early stopping, best iteration is:\n",
      "[1721]\ttraining's auc: 1\tvalid_1's auc: 0.927554\n",
      "pdc_amt_ratio\n"
     ]
    },
    {
     "name": "stderr",
     "output_type": "stream",
     "text": [
      "/home/jinpwa/anaconda3/lib/python3.6/site-packages/lightgbm/basic.py:1205: UserWarning: Using categorical_feature in Dataset.\n",
      "  warnings.warn('Using categorical_feature in Dataset.')\n",
      "/home/jinpwa/anaconda3/lib/python3.6/site-packages/lightgbm/basic.py:762: UserWarning: categorical_feature in param dict is overridden.\n",
      "  warnings.warn('categorical_feature in param dict is overridden.')\n"
     ]
    },
    {
     "name": "stdout",
     "output_type": "stream",
     "text": [
      "Training until validation scores don't improve for 500 rounds.\n",
      "[500]\ttraining's auc: 0.996639\tvalid_1's auc: 0.918533\n",
      "[1000]\ttraining's auc: 0.999951\tvalid_1's auc: 0.926014\n",
      "[1500]\ttraining's auc: 1\tvalid_1's auc: 0.927582\n",
      "[2000]\ttraining's auc: 1\tvalid_1's auc: 0.927563\n",
      "Early stopping, best iteration is:\n",
      "[1567]\ttraining's auc: 1\tvalid_1's auc: 0.927644\n",
      "pdc_amt_std_ratio\n"
     ]
    },
    {
     "name": "stderr",
     "output_type": "stream",
     "text": [
      "/home/jinpwa/anaconda3/lib/python3.6/site-packages/lightgbm/basic.py:1205: UserWarning: Using categorical_feature in Dataset.\n",
      "  warnings.warn('Using categorical_feature in Dataset.')\n",
      "/home/jinpwa/anaconda3/lib/python3.6/site-packages/lightgbm/basic.py:762: UserWarning: categorical_feature in param dict is overridden.\n",
      "  warnings.warn('categorical_feature in param dict is overridden.')\n"
     ]
    },
    {
     "name": "stdout",
     "output_type": "stream",
     "text": [
      "Training until validation scores don't improve for 500 rounds.\n",
      "[500]\ttraining's auc: 0.996654\tvalid_1's auc: 0.91799\n",
      "[1000]\ttraining's auc: 0.999952\tvalid_1's auc: 0.925885\n",
      "[1500]\ttraining's auc: 1\tvalid_1's auc: 0.927471\n",
      "[2000]\ttraining's auc: 1\tvalid_1's auc: 0.927678\n",
      "Early stopping, best iteration is:\n",
      "[1646]\ttraining's auc: 1\tvalid_1's auc: 0.927752\n",
      "pdc_D1_ratio\n"
     ]
    },
    {
     "name": "stderr",
     "output_type": "stream",
     "text": [
      "/home/jinpwa/anaconda3/lib/python3.6/site-packages/lightgbm/basic.py:1205: UserWarning: Using categorical_feature in Dataset.\n",
      "  warnings.warn('Using categorical_feature in Dataset.')\n",
      "/home/jinpwa/anaconda3/lib/python3.6/site-packages/lightgbm/basic.py:762: UserWarning: categorical_feature in param dict is overridden.\n",
      "  warnings.warn('categorical_feature in param dict is overridden.')\n"
     ]
    },
    {
     "name": "stdout",
     "output_type": "stream",
     "text": [
      "Training until validation scores don't improve for 500 rounds.\n",
      "[500]\ttraining's auc: 0.996736\tvalid_1's auc: 0.917712\n",
      "[1000]\ttraining's auc: 0.999955\tvalid_1's auc: 0.925339\n",
      "[1500]\ttraining's auc: 1\tvalid_1's auc: 0.92684\n",
      "[2000]\ttraining's auc: 1\tvalid_1's auc: 0.927189\n",
      "Early stopping, best iteration is:\n",
      "[1664]\ttraining's auc: 1\tvalid_1's auc: 0.927011\n",
      "pdc_D2_ratio\n"
     ]
    },
    {
     "name": "stderr",
     "output_type": "stream",
     "text": [
      "/home/jinpwa/anaconda3/lib/python3.6/site-packages/lightgbm/basic.py:1205: UserWarning: Using categorical_feature in Dataset.\n",
      "  warnings.warn('Using categorical_feature in Dataset.')\n",
      "/home/jinpwa/anaconda3/lib/python3.6/site-packages/lightgbm/basic.py:762: UserWarning: categorical_feature in param dict is overridden.\n",
      "  warnings.warn('categorical_feature in param dict is overridden.')\n"
     ]
    },
    {
     "name": "stdout",
     "output_type": "stream",
     "text": [
      "Training until validation scores don't improve for 500 rounds.\n",
      "[500]\ttraining's auc: 0.996762\tvalid_1's auc: 0.917316\n",
      "[1000]\ttraining's auc: 0.999956\tvalid_1's auc: 0.925532\n",
      "[1500]\ttraining's auc: 1\tvalid_1's auc: 0.927282\n",
      "[2000]\ttraining's auc: 1\tvalid_1's auc: 0.927344\n",
      "Early stopping, best iteration is:\n",
      "[1654]\ttraining's auc: 1\tvalid_1's auc: 0.927237\n",
      "pdc_D1_std_ratio\n"
     ]
    },
    {
     "name": "stderr",
     "output_type": "stream",
     "text": [
      "/home/jinpwa/anaconda3/lib/python3.6/site-packages/lightgbm/basic.py:1205: UserWarning: Using categorical_feature in Dataset.\n",
      "  warnings.warn('Using categorical_feature in Dataset.')\n",
      "/home/jinpwa/anaconda3/lib/python3.6/site-packages/lightgbm/basic.py:762: UserWarning: categorical_feature in param dict is overridden.\n",
      "  warnings.warn('categorical_feature in param dict is overridden.')\n"
     ]
    },
    {
     "name": "stdout",
     "output_type": "stream",
     "text": [
      "Training until validation scores don't improve for 500 rounds.\n",
      "[500]\ttraining's auc: 0.996736\tvalid_1's auc: 0.917531\n",
      "[1000]\ttraining's auc: 0.999956\tvalid_1's auc: 0.924577\n",
      "[1500]\ttraining's auc: 1\tvalid_1's auc: 0.926469\n",
      "[2000]\ttraining's auc: 1\tvalid_1's auc: 0.926954\n",
      "Early stopping, best iteration is:\n",
      "[1651]\ttraining's auc: 1\tvalid_1's auc: 0.926826\n",
      "pdc_D2_std_ratio\n"
     ]
    },
    {
     "name": "stderr",
     "output_type": "stream",
     "text": [
      "/home/jinpwa/anaconda3/lib/python3.6/site-packages/lightgbm/basic.py:1205: UserWarning: Using categorical_feature in Dataset.\n",
      "  warnings.warn('Using categorical_feature in Dataset.')\n",
      "/home/jinpwa/anaconda3/lib/python3.6/site-packages/lightgbm/basic.py:762: UserWarning: categorical_feature in param dict is overridden.\n",
      "  warnings.warn('categorical_feature in param dict is overridden.')\n"
     ]
    },
    {
     "name": "stdout",
     "output_type": "stream",
     "text": [
      "Training until validation scores don't improve for 500 rounds.\n",
      "[500]\ttraining's auc: 0.996744\tvalid_1's auc: 0.917551\n",
      "[1000]\ttraining's auc: 0.999956\tvalid_1's auc: 0.924544\n",
      "[1500]\ttraining's auc: 1\tvalid_1's auc: 0.925939\n",
      "[2000]\ttraining's auc: 1\tvalid_1's auc: 0.926098\n",
      "Early stopping, best iteration is:\n",
      "[1640]\ttraining's auc: 1\tvalid_1's auc: 0.926034\n",
      "card_TAmt_ratio\n"
     ]
    },
    {
     "name": "stderr",
     "output_type": "stream",
     "text": [
      "/home/jinpwa/anaconda3/lib/python3.6/site-packages/lightgbm/basic.py:1205: UserWarning: Using categorical_feature in Dataset.\n",
      "  warnings.warn('Using categorical_feature in Dataset.')\n",
      "/home/jinpwa/anaconda3/lib/python3.6/site-packages/lightgbm/basic.py:762: UserWarning: categorical_feature in param dict is overridden.\n",
      "  warnings.warn('categorical_feature in param dict is overridden.')\n"
     ]
    },
    {
     "name": "stdout",
     "output_type": "stream",
     "text": [
      "Training until validation scores don't improve for 500 rounds.\n",
      "[500]\ttraining's auc: 0.996472\tvalid_1's auc: 0.916929\n",
      "[1000]\ttraining's auc: 0.999949\tvalid_1's auc: 0.925244\n",
      "[1500]\ttraining's auc: 1\tvalid_1's auc: 0.926728\n",
      "[2000]\ttraining's auc: 1\tvalid_1's auc: 0.926793\n",
      "Early stopping, best iteration is:\n",
      "[1671]\ttraining's auc: 1\tvalid_1's auc: 0.926803\n",
      "TransactionAmt_to_std_card1\n"
     ]
    },
    {
     "name": "stderr",
     "output_type": "stream",
     "text": [
      "/home/jinpwa/anaconda3/lib/python3.6/site-packages/lightgbm/basic.py:1205: UserWarning: Using categorical_feature in Dataset.\n",
      "  warnings.warn('Using categorical_feature in Dataset.')\n",
      "/home/jinpwa/anaconda3/lib/python3.6/site-packages/lightgbm/basic.py:762: UserWarning: categorical_feature in param dict is overridden.\n",
      "  warnings.warn('categorical_feature in param dict is overridden.')\n"
     ]
    },
    {
     "name": "stdout",
     "output_type": "stream",
     "text": [
      "Training until validation scores don't improve for 500 rounds.\n",
      "[500]\ttraining's auc: 0.996422\tvalid_1's auc: 0.917237\n",
      "[1000]\ttraining's auc: 0.999947\tvalid_1's auc: 0.926052\n",
      "[1500]\ttraining's auc: 1\tvalid_1's auc: 0.928167\n",
      "[2000]\ttraining's auc: 1\tvalid_1's auc: 0.928146\n",
      "Early stopping, best iteration is:\n",
      "[1692]\ttraining's auc: 1\tvalid_1's auc: 0.928333\n",
      "remove TransactionAmt_to_std_card1 improve auc from 0.9281661190338887 to 0.9283908997419286 this feature is endanger\n",
      "is_card_freq_pdc\n"
     ]
    },
    {
     "name": "stderr",
     "output_type": "stream",
     "text": [
      "/home/jinpwa/anaconda3/lib/python3.6/site-packages/lightgbm/basic.py:1205: UserWarning: Using categorical_feature in Dataset.\n",
      "  warnings.warn('Using categorical_feature in Dataset.')\n",
      "/home/jinpwa/anaconda3/lib/python3.6/site-packages/lightgbm/basic.py:762: UserWarning: categorical_feature in param dict is overridden.\n",
      "  warnings.warn('categorical_feature in param dict is overridden.')\n"
     ]
    },
    {
     "name": "stdout",
     "output_type": "stream",
     "text": [
      "Training until validation scores don't improve for 500 rounds.\n",
      "[500]\ttraining's auc: 0.996711\tvalid_1's auc: 0.917519\n",
      "[1000]\ttraining's auc: 0.999955\tvalid_1's auc: 0.925571\n",
      "[1500]\ttraining's auc: 1\tvalid_1's auc: 0.927026\n",
      "[2000]\ttraining's auc: 1\tvalid_1's auc: 0.926883\n",
      "Early stopping, best iteration is:\n",
      "[1625]\ttraining's auc: 1\tvalid_1's auc: 0.927062\n",
      "is_card_freq_addr1\n"
     ]
    },
    {
     "name": "stderr",
     "output_type": "stream",
     "text": [
      "/home/jinpwa/anaconda3/lib/python3.6/site-packages/lightgbm/basic.py:1205: UserWarning: Using categorical_feature in Dataset.\n",
      "  warnings.warn('Using categorical_feature in Dataset.')\n",
      "/home/jinpwa/anaconda3/lib/python3.6/site-packages/lightgbm/basic.py:762: UserWarning: categorical_feature in param dict is overridden.\n",
      "  warnings.warn('categorical_feature in param dict is overridden.')\n"
     ]
    },
    {
     "name": "stdout",
     "output_type": "stream",
     "text": [
      "Training until validation scores don't improve for 500 rounds.\n",
      "[500]\ttraining's auc: 0.996698\tvalid_1's auc: 0.916601\n",
      "[1000]\ttraining's auc: 0.999955\tvalid_1's auc: 0.9244\n",
      "[1500]\ttraining's auc: 1\tvalid_1's auc: 0.925733\n",
      "[2000]\ttraining's auc: 1\tvalid_1's auc: 0.925834\n",
      "Early stopping, best iteration is:\n",
      "[1653]\ttraining's auc: 1\tvalid_1's auc: 0.925912\n",
      "pdc_D3_std_ratio\n"
     ]
    },
    {
     "name": "stderr",
     "output_type": "stream",
     "text": [
      "/home/jinpwa/anaconda3/lib/python3.6/site-packages/lightgbm/basic.py:1205: UserWarning: Using categorical_feature in Dataset.\n",
      "  warnings.warn('Using categorical_feature in Dataset.')\n",
      "/home/jinpwa/anaconda3/lib/python3.6/site-packages/lightgbm/basic.py:762: UserWarning: categorical_feature in param dict is overridden.\n",
      "  warnings.warn('categorical_feature in param dict is overridden.')\n"
     ]
    },
    {
     "name": "stdout",
     "output_type": "stream",
     "text": [
      "Training until validation scores don't improve for 500 rounds.\n",
      "[500]\ttraining's auc: 0.996722\tvalid_1's auc: 0.917217\n",
      "[1000]\ttraining's auc: 0.999955\tvalid_1's auc: 0.925271\n",
      "[1500]\ttraining's auc: 1\tvalid_1's auc: 0.926686\n",
      "[2000]\ttraining's auc: 1\tvalid_1's auc: 0.926563\n",
      "Early stopping, best iteration is:\n",
      "[1562]\ttraining's auc: 1\tvalid_1's auc: 0.926797\n",
      "pdc_D3_ratio\n"
     ]
    },
    {
     "name": "stderr",
     "output_type": "stream",
     "text": [
      "/home/jinpwa/anaconda3/lib/python3.6/site-packages/lightgbm/basic.py:1205: UserWarning: Using categorical_feature in Dataset.\n",
      "  warnings.warn('Using categorical_feature in Dataset.')\n",
      "/home/jinpwa/anaconda3/lib/python3.6/site-packages/lightgbm/basic.py:762: UserWarning: categorical_feature in param dict is overridden.\n",
      "  warnings.warn('categorical_feature in param dict is overridden.')\n"
     ]
    },
    {
     "name": "stdout",
     "output_type": "stream",
     "text": [
      "Training until validation scores don't improve for 500 rounds.\n",
      "[500]\ttraining's auc: 0.996618\tvalid_1's auc: 0.917508\n",
      "[1000]\ttraining's auc: 0.999957\tvalid_1's auc: 0.924976\n",
      "[1500]\ttraining's auc: 1\tvalid_1's auc: 0.926603\n",
      "Early stopping, best iteration is:\n",
      "[1472]\ttraining's auc: 1\tvalid_1's auc: 0.926631\n",
      "card_D1_mean\n"
     ]
    },
    {
     "name": "stderr",
     "output_type": "stream",
     "text": [
      "/home/jinpwa/anaconda3/lib/python3.6/site-packages/lightgbm/basic.py:1205: UserWarning: Using categorical_feature in Dataset.\n",
      "  warnings.warn('Using categorical_feature in Dataset.')\n",
      "/home/jinpwa/anaconda3/lib/python3.6/site-packages/lightgbm/basic.py:762: UserWarning: categorical_feature in param dict is overridden.\n",
      "  warnings.warn('categorical_feature in param dict is overridden.')\n"
     ]
    },
    {
     "name": "stdout",
     "output_type": "stream",
     "text": [
      "Training until validation scores don't improve for 500 rounds.\n",
      "[500]\ttraining's auc: 0.996649\tvalid_1's auc: 0.916966\n",
      "[1000]\ttraining's auc: 0.999953\tvalid_1's auc: 0.924685\n",
      "[1500]\ttraining's auc: 1\tvalid_1's auc: 0.926428\n",
      "[2000]\ttraining's auc: 1\tvalid_1's auc: 0.926537\n",
      "Early stopping, best iteration is:\n",
      "[1657]\ttraining's auc: 1\tvalid_1's auc: 0.926622\n",
      "card_D2_mean\n"
     ]
    },
    {
     "name": "stderr",
     "output_type": "stream",
     "text": [
      "/home/jinpwa/anaconda3/lib/python3.6/site-packages/lightgbm/basic.py:1205: UserWarning: Using categorical_feature in Dataset.\n",
      "  warnings.warn('Using categorical_feature in Dataset.')\n",
      "/home/jinpwa/anaconda3/lib/python3.6/site-packages/lightgbm/basic.py:762: UserWarning: categorical_feature in param dict is overridden.\n",
      "  warnings.warn('categorical_feature in param dict is overridden.')\n"
     ]
    },
    {
     "name": "stdout",
     "output_type": "stream",
     "text": [
      "Training until validation scores don't improve for 500 rounds.\n",
      "[500]\ttraining's auc: 0.996703\tvalid_1's auc: 0.916968\n",
      "[1000]\ttraining's auc: 0.999956\tvalid_1's auc: 0.925036\n",
      "[1500]\ttraining's auc: 1\tvalid_1's auc: 0.926433\n",
      "[2000]\ttraining's auc: 1\tvalid_1's auc: 0.926717\n",
      "Early stopping, best iteration is:\n",
      "[1656]\ttraining's auc: 1\tvalid_1's auc: 0.926506\n",
      "card_D3_mean\n"
     ]
    },
    {
     "name": "stderr",
     "output_type": "stream",
     "text": [
      "/home/jinpwa/anaconda3/lib/python3.6/site-packages/lightgbm/basic.py:1205: UserWarning: Using categorical_feature in Dataset.\n",
      "  warnings.warn('Using categorical_feature in Dataset.')\n",
      "/home/jinpwa/anaconda3/lib/python3.6/site-packages/lightgbm/basic.py:762: UserWarning: categorical_feature in param dict is overridden.\n",
      "  warnings.warn('categorical_feature in param dict is overridden.')\n"
     ]
    },
    {
     "name": "stdout",
     "output_type": "stream",
     "text": [
      "Training until validation scores don't improve for 500 rounds.\n",
      "[500]\ttraining's auc: 0.996725\tvalid_1's auc: 0.917052\n",
      "[1000]\ttraining's auc: 0.999957\tvalid_1's auc: 0.925032\n",
      "[1500]\ttraining's auc: 1\tvalid_1's auc: 0.926541\n",
      "[2000]\ttraining's auc: 1\tvalid_1's auc: 0.926966\n",
      "Early stopping, best iteration is:\n",
      "[1618]\ttraining's auc: 1\tvalid_1's auc: 0.926815\n",
      "card_D1_std\n"
     ]
    },
    {
     "name": "stderr",
     "output_type": "stream",
     "text": [
      "/home/jinpwa/anaconda3/lib/python3.6/site-packages/lightgbm/basic.py:1205: UserWarning: Using categorical_feature in Dataset.\n",
      "  warnings.warn('Using categorical_feature in Dataset.')\n",
      "/home/jinpwa/anaconda3/lib/python3.6/site-packages/lightgbm/basic.py:762: UserWarning: categorical_feature in param dict is overridden.\n",
      "  warnings.warn('categorical_feature in param dict is overridden.')\n"
     ]
    },
    {
     "name": "stdout",
     "output_type": "stream",
     "text": [
      "Training until validation scores don't improve for 500 rounds.\n",
      "[500]\ttraining's auc: 0.996617\tvalid_1's auc: 0.91697\n",
      "[1000]\ttraining's auc: 0.999955\tvalid_1's auc: 0.925188\n",
      "[1500]\ttraining's auc: 1\tvalid_1's auc: 0.926937\n",
      "[2000]\ttraining's auc: 1\tvalid_1's auc: 0.926966\n",
      "Early stopping, best iteration is:\n",
      "[1632]\ttraining's auc: 1\tvalid_1's auc: 0.927041\n",
      "card_D2_std\n"
     ]
    },
    {
     "name": "stderr",
     "output_type": "stream",
     "text": [
      "/home/jinpwa/anaconda3/lib/python3.6/site-packages/lightgbm/basic.py:1205: UserWarning: Using categorical_feature in Dataset.\n",
      "  warnings.warn('Using categorical_feature in Dataset.')\n",
      "/home/jinpwa/anaconda3/lib/python3.6/site-packages/lightgbm/basic.py:762: UserWarning: categorical_feature in param dict is overridden.\n",
      "  warnings.warn('categorical_feature in param dict is overridden.')\n"
     ]
    },
    {
     "name": "stdout",
     "output_type": "stream",
     "text": [
      "Training until validation scores don't improve for 500 rounds.\n",
      "[500]\ttraining's auc: 0.996667\tvalid_1's auc: 0.917817\n",
      "[1000]\ttraining's auc: 0.999955\tvalid_1's auc: 0.925444\n",
      "[1500]\ttraining's auc: 1\tvalid_1's auc: 0.926678\n",
      "[2000]\ttraining's auc: 1\tvalid_1's auc: 0.926644\n",
      "Early stopping, best iteration is:\n",
      "[1510]\ttraining's auc: 1\tvalid_1's auc: 0.92671\n",
      "card_D3_std\n"
     ]
    },
    {
     "name": "stderr",
     "output_type": "stream",
     "text": [
      "/home/jinpwa/anaconda3/lib/python3.6/site-packages/lightgbm/basic.py:1205: UserWarning: Using categorical_feature in Dataset.\n",
      "  warnings.warn('Using categorical_feature in Dataset.')\n",
      "/home/jinpwa/anaconda3/lib/python3.6/site-packages/lightgbm/basic.py:762: UserWarning: categorical_feature in param dict is overridden.\n",
      "  warnings.warn('categorical_feature in param dict is overridden.')\n"
     ]
    },
    {
     "name": "stdout",
     "output_type": "stream",
     "text": [
      "Training until validation scores don't improve for 500 rounds.\n",
      "[500]\ttraining's auc: 0.996575\tvalid_1's auc: 0.917934\n",
      "[1000]\ttraining's auc: 0.999953\tvalid_1's auc: 0.925685\n",
      "[1500]\ttraining's auc: 1\tvalid_1's auc: 0.926712\n",
      "[2000]\ttraining's auc: 1\tvalid_1's auc: 0.926736\n",
      "Early stopping, best iteration is:\n",
      "[1675]\ttraining's auc: 1\tvalid_1's auc: 0.926743\n",
      "card1_count\n"
     ]
    },
    {
     "name": "stderr",
     "output_type": "stream",
     "text": [
      "/home/jinpwa/anaconda3/lib/python3.6/site-packages/lightgbm/basic.py:1205: UserWarning: Using categorical_feature in Dataset.\n",
      "  warnings.warn('Using categorical_feature in Dataset.')\n",
      "/home/jinpwa/anaconda3/lib/python3.6/site-packages/lightgbm/basic.py:762: UserWarning: categorical_feature in param dict is overridden.\n",
      "  warnings.warn('categorical_feature in param dict is overridden.')\n"
     ]
    },
    {
     "name": "stdout",
     "output_type": "stream",
     "text": [
      "Training until validation scores don't improve for 500 rounds.\n",
      "[500]\ttraining's auc: 0.996677\tvalid_1's auc: 0.918242\n",
      "[1000]\ttraining's auc: 0.999952\tvalid_1's auc: 0.924871\n",
      "[1500]\ttraining's auc: 1\tvalid_1's auc: 0.926299\n",
      "[2000]\ttraining's auc: 1\tvalid_1's auc: 0.926302\n",
      "Early stopping, best iteration is:\n",
      "[1628]\ttraining's auc: 1\tvalid_1's auc: 0.926277\n",
      "id_02_to_mean_card1\n"
     ]
    },
    {
     "name": "stderr",
     "output_type": "stream",
     "text": [
      "/home/jinpwa/anaconda3/lib/python3.6/site-packages/lightgbm/basic.py:1205: UserWarning: Using categorical_feature in Dataset.\n",
      "  warnings.warn('Using categorical_feature in Dataset.')\n",
      "/home/jinpwa/anaconda3/lib/python3.6/site-packages/lightgbm/basic.py:762: UserWarning: categorical_feature in param dict is overridden.\n",
      "  warnings.warn('categorical_feature in param dict is overridden.')\n"
     ]
    },
    {
     "name": "stdout",
     "output_type": "stream",
     "text": [
      "Training until validation scores don't improve for 500 rounds.\n",
      "[500]\ttraining's auc: 0.996612\tvalid_1's auc: 0.917772\n",
      "[1000]\ttraining's auc: 0.999954\tvalid_1's auc: 0.925477\n",
      "[1500]\ttraining's auc: 1\tvalid_1's auc: 0.926871\n",
      "[2000]\ttraining's auc: 1\tvalid_1's auc: 0.926727\n",
      "Early stopping, best iteration is:\n",
      "[1664]\ttraining's auc: 1\tvalid_1's auc: 0.926893\n",
      "card_id_02_mean\n"
     ]
    },
    {
     "name": "stderr",
     "output_type": "stream",
     "text": [
      "/home/jinpwa/anaconda3/lib/python3.6/site-packages/lightgbm/basic.py:1205: UserWarning: Using categorical_feature in Dataset.\n",
      "  warnings.warn('Using categorical_feature in Dataset.')\n",
      "/home/jinpwa/anaconda3/lib/python3.6/site-packages/lightgbm/basic.py:762: UserWarning: categorical_feature in param dict is overridden.\n",
      "  warnings.warn('categorical_feature in param dict is overridden.')\n"
     ]
    },
    {
     "name": "stdout",
     "output_type": "stream",
     "text": [
      "Training until validation scores don't improve for 500 rounds.\n",
      "[500]\ttraining's auc: 0.996612\tvalid_1's auc: 0.917772\n",
      "[1000]\ttraining's auc: 0.999954\tvalid_1's auc: 0.925477\n",
      "[1500]\ttraining's auc: 1\tvalid_1's auc: 0.926871\n",
      "[2000]\ttraining's auc: 1\tvalid_1's auc: 0.926727\n",
      "Early stopping, best iteration is:\n",
      "[1664]\ttraining's auc: 1\tvalid_1's auc: 0.926893\n",
      "card_id_02_std\n"
     ]
    },
    {
     "name": "stderr",
     "output_type": "stream",
     "text": [
      "/home/jinpwa/anaconda3/lib/python3.6/site-packages/lightgbm/basic.py:1205: UserWarning: Using categorical_feature in Dataset.\n",
      "  warnings.warn('Using categorical_feature in Dataset.')\n",
      "/home/jinpwa/anaconda3/lib/python3.6/site-packages/lightgbm/basic.py:762: UserWarning: categorical_feature in param dict is overridden.\n",
      "  warnings.warn('categorical_feature in param dict is overridden.')\n"
     ]
    },
    {
     "name": "stdout",
     "output_type": "stream",
     "text": [
      "Training until validation scores don't improve for 500 rounds.\n",
      "[500]\ttraining's auc: 0.996675\tvalid_1's auc: 0.917907\n",
      "[1000]\ttraining's auc: 0.999953\tvalid_1's auc: 0.925441\n",
      "[1500]\ttraining's auc: 1\tvalid_1's auc: 0.92686\n",
      "[2000]\ttraining's auc: 1\tvalid_1's auc: 0.927192\n",
      "Early stopping, best iteration is:\n",
      "[1676]\ttraining's auc: 1\tvalid_1's auc: 0.927174\n",
      "card_D15_mean\n"
     ]
    },
    {
     "name": "stderr",
     "output_type": "stream",
     "text": [
      "/home/jinpwa/anaconda3/lib/python3.6/site-packages/lightgbm/basic.py:1205: UserWarning: Using categorical_feature in Dataset.\n",
      "  warnings.warn('Using categorical_feature in Dataset.')\n",
      "/home/jinpwa/anaconda3/lib/python3.6/site-packages/lightgbm/basic.py:762: UserWarning: categorical_feature in param dict is overridden.\n",
      "  warnings.warn('categorical_feature in param dict is overridden.')\n"
     ]
    },
    {
     "name": "stdout",
     "output_type": "stream",
     "text": [
      "Training until validation scores don't improve for 500 rounds.\n",
      "[500]\ttraining's auc: 0.99664\tvalid_1's auc: 0.917075\n",
      "[1000]\ttraining's auc: 0.999955\tvalid_1's auc: 0.924824\n",
      "[1500]\ttraining's auc: 1\tvalid_1's auc: 0.926341\n",
      "[2000]\ttraining's auc: 1\tvalid_1's auc: 0.926317\n",
      "Early stopping, best iteration is:\n",
      "[1615]\ttraining's auc: 1\tvalid_1's auc: 0.926356\n",
      "card_D15_std\n"
     ]
    },
    {
     "name": "stderr",
     "output_type": "stream",
     "text": [
      "/home/jinpwa/anaconda3/lib/python3.6/site-packages/lightgbm/basic.py:1205: UserWarning: Using categorical_feature in Dataset.\n",
      "  warnings.warn('Using categorical_feature in Dataset.')\n",
      "/home/jinpwa/anaconda3/lib/python3.6/site-packages/lightgbm/basic.py:762: UserWarning: categorical_feature in param dict is overridden.\n",
      "  warnings.warn('categorical_feature in param dict is overridden.')\n"
     ]
    },
    {
     "name": "stdout",
     "output_type": "stream",
     "text": [
      "Training until validation scores don't improve for 500 rounds.\n",
      "[500]\ttraining's auc: 0.996675\tvalid_1's auc: 0.917361\n",
      "[1000]\ttraining's auc: 0.999956\tvalid_1's auc: 0.925821\n",
      "[1500]\ttraining's auc: 1\tvalid_1's auc: 0.927011\n",
      "[2000]\ttraining's auc: 1\tvalid_1's auc: 0.926963\n",
      "Early stopping, best iteration is:\n",
      "[1564]\ttraining's auc: 1\tvalid_1's auc: 0.927259\n",
      "addr1_D15_mean\n"
     ]
    },
    {
     "name": "stderr",
     "output_type": "stream",
     "text": [
      "/home/jinpwa/anaconda3/lib/python3.6/site-packages/lightgbm/basic.py:1205: UserWarning: Using categorical_feature in Dataset.\n",
      "  warnings.warn('Using categorical_feature in Dataset.')\n",
      "/home/jinpwa/anaconda3/lib/python3.6/site-packages/lightgbm/basic.py:762: UserWarning: categorical_feature in param dict is overridden.\n",
      "  warnings.warn('categorical_feature in param dict is overridden.')\n"
     ]
    },
    {
     "name": "stdout",
     "output_type": "stream",
     "text": [
      "Training until validation scores don't improve for 500 rounds.\n",
      "[500]\ttraining's auc: 0.996611\tvalid_1's auc: 0.917011\n",
      "[1000]\ttraining's auc: 0.999954\tvalid_1's auc: 0.924715\n",
      "[1500]\ttraining's auc: 1\tvalid_1's auc: 0.926238\n",
      "[2000]\ttraining's auc: 1\tvalid_1's auc: 0.926246\n",
      "Early stopping, best iteration is:\n",
      "[1640]\ttraining's auc: 1\tvalid_1's auc: 0.926264\n",
      "addr1_D15_std\n"
     ]
    },
    {
     "name": "stderr",
     "output_type": "stream",
     "text": [
      "/home/jinpwa/anaconda3/lib/python3.6/site-packages/lightgbm/basic.py:1205: UserWarning: Using categorical_feature in Dataset.\n",
      "  warnings.warn('Using categorical_feature in Dataset.')\n",
      "/home/jinpwa/anaconda3/lib/python3.6/site-packages/lightgbm/basic.py:762: UserWarning: categorical_feature in param dict is overridden.\n",
      "  warnings.warn('categorical_feature in param dict is overridden.')\n"
     ]
    },
    {
     "name": "stdout",
     "output_type": "stream",
     "text": [
      "Training until validation scores don't improve for 500 rounds.\n",
      "[500]\ttraining's auc: 0.996663\tvalid_1's auc: 0.917907\n",
      "[1000]\ttraining's auc: 0.999958\tvalid_1's auc: 0.925443\n",
      "[1500]\ttraining's auc: 1\tvalid_1's auc: 0.92687\n",
      "[2000]\ttraining's auc: 1\tvalid_1's auc: 0.927222\n",
      "Early stopping, best iteration is:\n",
      "[1641]\ttraining's auc: 1\tvalid_1's auc: 0.927123\n",
      "TransactionAmt_decimal\n"
     ]
    },
    {
     "name": "stderr",
     "output_type": "stream",
     "text": [
      "/home/jinpwa/anaconda3/lib/python3.6/site-packages/lightgbm/basic.py:1205: UserWarning: Using categorical_feature in Dataset.\n",
      "  warnings.warn('Using categorical_feature in Dataset.')\n",
      "/home/jinpwa/anaconda3/lib/python3.6/site-packages/lightgbm/basic.py:762: UserWarning: categorical_feature in param dict is overridden.\n",
      "  warnings.warn('categorical_feature in param dict is overridden.')\n"
     ]
    },
    {
     "name": "stdout",
     "output_type": "stream",
     "text": [
      "Training until validation scores don't improve for 500 rounds.\n",
      "[500]\ttraining's auc: 0.996618\tvalid_1's auc: 0.91781\n",
      "[1000]\ttraining's auc: 0.999949\tvalid_1's auc: 0.925138\n",
      "[1500]\ttraining's auc: 1\tvalid_1's auc: 0.926821\n",
      "[2000]\ttraining's auc: 1\tvalid_1's auc: 0.926994\n",
      "Early stopping, best iteration is:\n",
      "[1660]\ttraining's auc: 1\tvalid_1's auc: 0.92697\n",
      "Device_name\n"
     ]
    },
    {
     "name": "stderr",
     "output_type": "stream",
     "text": [
      "/home/jinpwa/anaconda3/lib/python3.6/site-packages/lightgbm/basic.py:1205: UserWarning: Using categorical_feature in Dataset.\n",
      "  warnings.warn('Using categorical_feature in Dataset.')\n",
      "/home/jinpwa/anaconda3/lib/python3.6/site-packages/lightgbm/basic.py:762: UserWarning: categorical_feature in param dict is overridden.\n",
      "  warnings.warn('categorical_feature in param dict is overridden.')\n"
     ]
    },
    {
     "name": "stdout",
     "output_type": "stream",
     "text": [
      "Training until validation scores don't improve for 500 rounds.\n",
      "[500]\ttraining's auc: 0.996607\tvalid_1's auc: 0.917778\n",
      "[1000]\ttraining's auc: 0.999951\tvalid_1's auc: 0.925498\n",
      "[1500]\ttraining's auc: 1\tvalid_1's auc: 0.927109\n",
      "[2000]\ttraining's auc: 1\tvalid_1's auc: 0.927038\n",
      "Early stopping, best iteration is:\n",
      "[1690]\ttraining's auc: 1\tvalid_1's auc: 0.927162\n",
      "Device_version\n"
     ]
    },
    {
     "name": "stderr",
     "output_type": "stream",
     "text": [
      "/home/jinpwa/anaconda3/lib/python3.6/site-packages/lightgbm/basic.py:1205: UserWarning: Using categorical_feature in Dataset.\n",
      "  warnings.warn('Using categorical_feature in Dataset.')\n",
      "/home/jinpwa/anaconda3/lib/python3.6/site-packages/lightgbm/basic.py:762: UserWarning: categorical_feature in param dict is overridden.\n",
      "  warnings.warn('categorical_feature in param dict is overridden.')\n"
     ]
    },
    {
     "name": "stdout",
     "output_type": "stream",
     "text": [
      "Training until validation scores don't improve for 500 rounds.\n",
      "[500]\ttraining's auc: 0.996616\tvalid_1's auc: 0.917424\n",
      "[1000]\ttraining's auc: 0.999955\tvalid_1's auc: 0.925649\n",
      "[1500]\ttraining's auc: 1\tvalid_1's auc: 0.927171\n",
      "[2000]\ttraining's auc: 1\tvalid_1's auc: 0.927067\n",
      "Early stopping, best iteration is:\n",
      "[1678]\ttraining's auc: 1\tvalid_1's auc: 0.92728\n",
      "is_card_freq_Device\n"
     ]
    },
    {
     "name": "stderr",
     "output_type": "stream",
     "text": [
      "/home/jinpwa/anaconda3/lib/python3.6/site-packages/lightgbm/basic.py:1205: UserWarning: Using categorical_feature in Dataset.\n",
      "  warnings.warn('Using categorical_feature in Dataset.')\n",
      "/home/jinpwa/anaconda3/lib/python3.6/site-packages/lightgbm/basic.py:762: UserWarning: categorical_feature in param dict is overridden.\n",
      "  warnings.warn('categorical_feature in param dict is overridden.')\n"
     ]
    },
    {
     "name": "stdout",
     "output_type": "stream",
     "text": [
      "Training until validation scores don't improve for 500 rounds.\n",
      "[500]\ttraining's auc: 0.996684\tvalid_1's auc: 0.917414\n",
      "[1000]\ttraining's auc: 0.999956\tvalid_1's auc: 0.925045\n",
      "[1500]\ttraining's auc: 1\tvalid_1's auc: 0.926429\n",
      "[2000]\ttraining's auc: 1\tvalid_1's auc: 0.926648\n",
      "Early stopping, best iteration is:\n",
      "[1640]\ttraining's auc: 1\tvalid_1's auc: 0.926734\n",
      "screen_width\n"
     ]
    },
    {
     "name": "stderr",
     "output_type": "stream",
     "text": [
      "/home/jinpwa/anaconda3/lib/python3.6/site-packages/lightgbm/basic.py:1205: UserWarning: Using categorical_feature in Dataset.\n",
      "  warnings.warn('Using categorical_feature in Dataset.')\n",
      "/home/jinpwa/anaconda3/lib/python3.6/site-packages/lightgbm/basic.py:762: UserWarning: categorical_feature in param dict is overridden.\n",
      "  warnings.warn('categorical_feature in param dict is overridden.')\n"
     ]
    },
    {
     "name": "stdout",
     "output_type": "stream",
     "text": [
      "Training until validation scores don't improve for 500 rounds.\n",
      "[500]\ttraining's auc: 0.996697\tvalid_1's auc: 0.917584\n",
      "[1000]\ttraining's auc: 0.999956\tvalid_1's auc: 0.925164\n",
      "[1500]\ttraining's auc: 1\tvalid_1's auc: 0.926374\n",
      "[2000]\ttraining's auc: 1\tvalid_1's auc: 0.926589\n",
      "Early stopping, best iteration is:\n",
      "[1650]\ttraining's auc: 1\tvalid_1's auc: 0.926453\n",
      "screen_height\n"
     ]
    },
    {
     "name": "stderr",
     "output_type": "stream",
     "text": [
      "/home/jinpwa/anaconda3/lib/python3.6/site-packages/lightgbm/basic.py:1205: UserWarning: Using categorical_feature in Dataset.\n",
      "  warnings.warn('Using categorical_feature in Dataset.')\n",
      "/home/jinpwa/anaconda3/lib/python3.6/site-packages/lightgbm/basic.py:762: UserWarning: categorical_feature in param dict is overridden.\n",
      "  warnings.warn('categorical_feature in param dict is overridden.')\n"
     ]
    },
    {
     "name": "stdout",
     "output_type": "stream",
     "text": [
      "Training until validation scores don't improve for 500 rounds.\n",
      "[500]\ttraining's auc: 0.996639\tvalid_1's auc: 0.917488\n",
      "[1000]\ttraining's auc: 0.999954\tvalid_1's auc: 0.9249\n",
      "[1500]\ttraining's auc: 1\tvalid_1's auc: 0.926295\n",
      "Early stopping, best iteration is:\n",
      "[1426]\ttraining's auc: 1\tvalid_1's auc: 0.926423\n"
     ]
    }
   ],
   "source": [
    "best = 0.926277\n",
    "rm_col = ''\n",
    "for col in features_train.columns:\n",
    "    print(col)\n",
    "    features_train_temp = features_train.drop(col,axis=1)\n",
    "    categorical_temp = list(set(categorical_raw).intersection(features_train_temp.columns))\n",
    "    model,valid_results = train_selector(train_num,features_train_temp,labels_train,categorical_temp)\n",
    "    pfm = max(valid_results['valid_1']['auc'])\n",
    "    if pfm > best:\n",
    "        print('remove %s improve auc from %s to %s this feature is endanger'%(col,best,pfm))\n",
    "        best = pfm\n",
    "        rm_col = col\n",
    "        "
   ]
  },
  {
   "cell_type": "code",
   "execution_count": null,
   "metadata": {},
   "outputs": [],
   "source": []
  }
 ],
 "metadata": {
  "kernelspec": {
   "display_name": "Python 3",
   "language": "python",
   "name": "python3"
  },
  "language_info": {
   "codemirror_mode": {
    "name": "ipython",
    "version": 3
   },
   "file_extension": ".py",
   "mimetype": "text/x-python",
   "name": "python",
   "nbconvert_exporter": "python",
   "pygments_lexer": "ipython3",
   "version": "3.6.5"
  }
 },
 "nbformat": 4,
 "nbformat_minor": 2
}
