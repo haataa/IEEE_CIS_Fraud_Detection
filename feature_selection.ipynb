{
 "cells": [
  {
   "cell_type": "code",
   "execution_count": 1,
   "metadata": {},
   "outputs": [],
   "source": [
    "# import packages\n",
    "import numpy as np\n",
    "import pandas as pd\n",
    "import matplotlib.pyplot as plt\n",
    "import featuretools as ft\n",
    "import lightgbm as lgb\n",
    "import seaborn as sns\n",
    "from sklearn.model_selection import GridSearchCV\n",
    "from sklearn.model_selection import KFold\n",
    "from sklearn.metrics import roc_auc_score\n",
    "from random import sample \n",
    "import pickle\n",
    "import eli5\n",
    "from eli5.sklearn import PermutationImportance\n",
    "from lightgbm import LGBMClassifier\n",
    "\n",
    "%matplotlib inline\n",
    "RSEED = 50"
   ]
  },
  {
   "cell_type": "markdown",
   "metadata": {},
   "source": [
    "# Load Original Features"
   ]
  },
  {
   "cell_type": "code",
   "execution_count": 2,
   "metadata": {},
   "outputs": [],
   "source": [
    "feat_num = 476\n",
    "#df_total = pd.read_csv('./data/features%s.csv'%(feat_num))\n",
    "with open('./data/features%s.pickle'%(feat_num), 'rb') as handle:\n",
    "    df_total = pickle.load(handle)"
   ]
  },
  {
   "cell_type": "code",
   "execution_count": 3,
   "metadata": {},
   "outputs": [
    {
     "data": {
      "text/plain": [
       "(590540, 476)"
      ]
     },
     "execution_count": 3,
     "metadata": {},
     "output_type": "execute_result"
    }
   ],
   "source": [
    "df_train = df_total[df_total['isFraud'].notnull()]\n",
    "df_train.shape"
   ]
  },
  {
   "cell_type": "markdown",
   "metadata": {},
   "source": [
    "# Sample Train Data"
   ]
  },
  {
   "cell_type": "code",
   "execution_count": 5,
   "metadata": {},
   "outputs": [
    {
     "data": {
      "text/plain": [
       "(200000, 476)"
      ]
     },
     "execution_count": 5,
     "metadata": {},
     "output_type": "execute_result"
    }
   ],
   "source": [
    "df_train_sample=df_train.sample(n=200000,random_state=RSEED)\n",
    "df_train_sample.shape"
   ]
  },
  {
   "cell_type": "markdown",
   "metadata": {},
   "source": [
    "# Prepare Data"
   ]
  },
  {
   "cell_type": "code",
   "execution_count": 6,
   "metadata": {},
   "outputs": [
    {
     "data": {
      "text/plain": [
       "(200000, 474)"
      ]
     },
     "execution_count": 6,
     "metadata": {},
     "output_type": "execute_result"
    }
   ],
   "source": [
    "labels_train = df_train_sample['isFraud']\n",
    "features_train = df_train_sample.drop(columns = ['isFraud', 'TransactionID'])\n",
    "features_train.shape"
   ]
  },
  {
   "cell_type": "code",
   "execution_count": 7,
   "metadata": {},
   "outputs": [],
   "source": [
    "categorical_raw = ['ProductCD', 'card2', 'card3', 'card4', 'card5','card6',\n",
    "              'addr1','addr2','P_email','R_email','M1','M2','M3',\n",
    "              'M4','M5','M6','M7','M8','M9','DeviceType','DeviceInfo','dow','hour',\n",
    "              'Device_name','Device_version','screen_width','screen_height',\n",
    "               'P_email_suffix','R_email_suffix','id_30_OS','id_30_version',\n",
    "               'is_card_freq_Device','is_wide','is_long','is_zero','is_win8_vista',\n",
    "               'is_windows_otheros','is_card_freq_pdc','is_card_freq_addr1'] \n",
    "\n",
    "ids = [ 'id_%s'%(i) for i in range(12,39)]\n",
    "categorical_raw = categorical_raw + ids"
   ]
  },
  {
   "cell_type": "code",
   "execution_count": 50,
   "metadata": {},
   "outputs": [],
   "source": [
    "#categorical = list(set(categorical_raw).intersection(features_train.columns))\n",
    "#features_train[categorical].nunique().sort_values(ascending=False)"
   ]
  },
  {
   "cell_type": "markdown",
   "metadata": {},
   "source": [
    "# Select Features"
   ]
  },
  {
   "cell_type": "code",
   "execution_count": 8,
   "metadata": {},
   "outputs": [],
   "source": [
    "params = {'num_leaves': 491,\n",
    "          'min_child_weight': 0.03454472573214212,\n",
    "          'feature_fraction': 0.3797454081646243,\n",
    "          'bagging_fraction': 0.4181193142567742,\n",
    "          'min_data_in_leaf': 106,\n",
    "          'objective': 'binary',\n",
    "          'max_depth': -1,\n",
    "          'learning_rate': 0.006883242363721497,\n",
    "          \"boosting_type\": \"gbdt\",\n",
    "          \"bagging_seed\": 11,\n",
    "          \"metric\": 'auc',\n",
    "          \"verbosity\": -1,\n",
    "          'reg_alpha': 0.3899927210061127,\n",
    "          'reg_lambda': 0.6485237330340494,\n",
    "          'random_state': 47,\n",
    "          #'is_unbalance':True\n",
    "          #'scale_pos_weight':9\n",
    "         }"
   ]
  },
  {
   "cell_type": "code",
   "execution_count": 14,
   "metadata": {},
   "outputs": [],
   "source": [
    "def train_selector(params,train_num,features_train,labels_train,categorical,verbose_eval=500):\n",
    "    train_set = lgb.Dataset(features_train.iloc[0:train_num,:], label=labels_train.values[0:train_num],\n",
    "                       categorical_feature=categorical)\n",
    "    valid_set = lgb.Dataset(features_train.iloc[train_num:,:], label=labels_train.values[train_num:],\n",
    "                       categorical_feature=categorical)\n",
    "    valid_results = {}\n",
    "    model = lgb.train(params,train_set,num_boost_round = 10000, \n",
    "                   valid_sets = [train_set, valid_set],\n",
    "                    verbose_eval= verbose_eval,\n",
    "                    early_stopping_rounds = 500,\n",
    "                    evals_result=valid_results)\n",
    "    return model,valid_results"
   ]
  },
  {
   "cell_type": "code",
   "execution_count": 10,
   "metadata": {},
   "outputs": [],
   "source": [
    "def select_by_importance(model,features_train,importance=0,num_keep=None):\n",
    "    fi = pd.DataFrame({'feature': features_train.columns, \n",
    "                   'importance':model.feature_importance()})\n",
    "    fi = fi.sort_values('importance', ascending = False)\n",
    "    if num_keep != None:\n",
    "        to_drop = fi.iloc[num_keep:,:].feature\n",
    "    else:\n",
    "        to_drop = fi[fi.importance <= importance].feature\n",
    "    return to_drop\n",
    "    "
   ]
  },
  {
   "cell_type": "code",
   "execution_count": 11,
   "metadata": {},
   "outputs": [],
   "source": [
    "def fold_train_selector(Nfold,features_train,labels_train,categorical):\n",
    "    splits = Nfold\n",
    "    ave_auc = 0\n",
    "    valid_results = {}\n",
    "    \n",
    "    folds = KFold(n_splits = splits,random_state=RSEED)\n",
    "    \n",
    "    for fold_num, (trn_idx, val_idx) in enumerate(folds.split(features_train.values, \n",
    "                                                          labels_train.values)):\n",
    "        print(\"Fold {}\".format(fold_num))\n",
    "        train_df, y_train_df = features_train.iloc[trn_idx], labels_train.iloc[trn_idx]\n",
    "        valid_df, y_valid_df = features_train.iloc[val_idx], labels_train.iloc[val_idx]\n",
    "    \n",
    "        trn_data = lgb.Dataset(train_df, label=y_train_df,categorical_feature=categorical)\n",
    "        val_data = lgb.Dataset(valid_df, label=y_valid_df,categorical_feature=categorical)\n",
    "    \n",
    "        \n",
    "        clf = lgb.train(params,\n",
    "                        trn_data,\n",
    "                        10000,\n",
    "                        valid_sets = [trn_data, val_data],\n",
    "                        verbose_eval=500,\n",
    "                        early_stopping_rounds=500,\n",
    "                       evals_result=valid_results)\n",
    "        \n",
    "\n",
    "        pred = clf.predict(valid_df)\n",
    "        auc_score = roc_auc_score(y_valid_df, pred)\n",
    "        ave_auc += auc_score / splits\n",
    "        print( \"  auc = \", auc_score )\n",
    "    return ave_auc"
   ]
  },
  {
   "cell_type": "code",
   "execution_count": 12,
   "metadata": {},
   "outputs": [],
   "source": [
    "def fold_select_feature(Nfold,features_train,labels_train,categorical,importance=0):\n",
    "    splits = Nfold\n",
    "    ave_auc = 0\n",
    "    valid_results = {}\n",
    "    to_drop=[]\n",
    "    \n",
    "    folds = KFold(n_splits = splits,random_state=RSEED)\n",
    "    \n",
    "    for fold_num, (trn_idx, val_idx) in enumerate(folds.split(features_train.values, \n",
    "                                                          labels_train.values)):\n",
    "        print(\"Fold {}\".format(fold_num))\n",
    "        train_df, y_train_df = features_train.iloc[trn_idx], labels_train.iloc[trn_idx]\n",
    "        valid_df, y_valid_df = features_train.iloc[val_idx], labels_train.iloc[val_idx]\n",
    "    \n",
    "        trn_data = lgb.Dataset(train_df, label=y_train_df,categorical_feature=categorical)\n",
    "        val_data = lgb.Dataset(valid_df, label=y_valid_df,categorical_feature=categorical)\n",
    "    \n",
    "        \n",
    "        clf = lgb.train(params,\n",
    "                        trn_data,\n",
    "                        10000,\n",
    "                        valid_sets = [trn_data, val_data],\n",
    "                        verbose_eval=500,\n",
    "                        early_stopping_rounds=500,\n",
    "                       evals_result=valid_results)\n",
    "        \n",
    "        drop_this_round = list(select_by_importance(clf,train_df,importance=importance))\n",
    "        print(drop_this_round)\n",
    "        \n",
    "        if fold_num == 0:\n",
    "            to_drop = drop_this_round\n",
    "        else:\n",
    "            to_drop = list(set(to_drop).intersection(drop_this_round))\n",
    "        print(to_drop)\n",
    "        \n",
    "        pred = clf.predict(valid_df)\n",
    "        auc_score = roc_auc_score(y_valid_df, pred)\n",
    "        ave_auc += auc_score / splits\n",
    "        print( \"  auc = \", auc_score )\n",
    "    \n",
    "    return ave_auc,to_drop\n",
    "    \n",
    "    "
   ]
  },
  {
   "cell_type": "code",
   "execution_count": 16,
   "metadata": {},
   "outputs": [],
   "source": [
    "def permutation_importance(model,features_valid,labels_valid):\n",
    "    \"\"\"calculate permutation importance of features\n",
    "    Args:\n",
    "        model: the trained model.\n",
    "        features_valid: dataframe. The validation set of features.\n",
    "        labels_valid: labels of validation set.\n",
    "    Returns:\n",
    "        df_fimportance: dataframe. The importances of features.\n",
    "    \"\"\"\n",
    "    base_score = roc_auc_score(labels_valid, model.predict(features_valid))\n",
    "    list_fimportance = []\n",
    "    for col in features_valid.columns:\n",
    "        #print(col)\n",
    "        save = features_valid[col].copy()\n",
    "        features_valid[col] = np.random.permutation(features_valid[col])\n",
    "        col_score = roc_auc_score(labels_valid, model.predict(features_valid))\n",
    "        features_valid[col] = save\n",
    "        list_fimportance.append([col,base_score - col_score])\n",
    "    return pd.DataFrame(list_fimportance,columns = ['feature','importance']) \n",
    "    "
   ]
  },
  {
   "cell_type": "markdown",
   "metadata": {},
   "source": [
    "## Train with all feature set"
   ]
  },
  {
   "cell_type": "code",
   "execution_count": 15,
   "metadata": {},
   "outputs": [
    {
     "name": "stderr",
     "output_type": "stream",
     "text": [
      "/home/jinpwa/anaconda3/lib/python3.6/site-packages/lightgbm/basic.py:1247: UserWarning: Using categorical_feature in Dataset.\n",
      "  warnings.warn('Using categorical_feature in Dataset.')\n"
     ]
    },
    {
     "name": "stdout",
     "output_type": "stream",
     "text": [
      "Training until validation scores don't improve for 500 rounds.\n",
      "[500]\ttraining's auc: 0.996283\tvalid_1's auc: 0.940631\n",
      "[1000]\ttraining's auc: 0.999922\tvalid_1's auc: 0.950368\n",
      "[1500]\ttraining's auc: 1\tvalid_1's auc: 0.952541\n",
      "[2000]\ttraining's auc: 1\tvalid_1's auc: 0.953066\n",
      "Early stopping, best iteration is:\n",
      "[1714]\ttraining's auc: 1\tvalid_1's auc: 0.95285\n"
     ]
    }
   ],
   "source": [
    "train_num = 160000\n",
    "categorical = list(set(categorical_raw).intersection(features_train.columns))\n",
    "model,valid_results = train_selector(params,train_num,features_train,labels_train,\n",
    "                                     categorical,verbose_eval=500)"
   ]
  },
  {
   "cell_type": "markdown",
   "metadata": {},
   "source": [
    "## Permutation Importance"
   ]
  },
  {
   "cell_type": "code",
   "execution_count": 17,
   "metadata": {},
   "outputs": [],
   "source": [
    "fi_importance = permutation_importance(model,features_train.iloc[160000:],labels_train.iloc[160000:])"
   ]
  },
  {
   "cell_type": "code",
   "execution_count": 19,
   "metadata": {},
   "outputs": [
    {
     "data": {
      "text/html": [
       "<div>\n",
       "<style scoped>\n",
       "    .dataframe tbody tr th:only-of-type {\n",
       "        vertical-align: middle;\n",
       "    }\n",
       "\n",
       "    .dataframe tbody tr th {\n",
       "        vertical-align: top;\n",
       "    }\n",
       "\n",
       "    .dataframe thead th {\n",
       "        text-align: right;\n",
       "    }\n",
       "</style>\n",
       "<table border=\"1\" class=\"dataframe\">\n",
       "  <thead>\n",
       "    <tr style=\"text-align: right;\">\n",
       "      <th></th>\n",
       "      <th>feature</th>\n",
       "      <th>importance</th>\n",
       "    </tr>\n",
       "  </thead>\n",
       "  <tbody>\n",
       "    <tr>\n",
       "      <th>4</th>\n",
       "      <td>card2</td>\n",
       "      <td>0.011661</td>\n",
       "    </tr>\n",
       "    <tr>\n",
       "      <th>9</th>\n",
       "      <td>addr1</td>\n",
       "      <td>0.008445</td>\n",
       "    </tr>\n",
       "    <tr>\n",
       "      <th>25</th>\n",
       "      <td>C13</td>\n",
       "      <td>0.006763</td>\n",
       "    </tr>\n",
       "    <tr>\n",
       "      <th>0</th>\n",
       "      <td>TransactionDT</td>\n",
       "      <td>0.003501</td>\n",
       "    </tr>\n",
       "    <tr>\n",
       "      <th>26</th>\n",
       "      <td>C14</td>\n",
       "      <td>0.003312</td>\n",
       "    </tr>\n",
       "    <tr>\n",
       "      <th>13</th>\n",
       "      <td>C1</td>\n",
       "      <td>0.003181</td>\n",
       "    </tr>\n",
       "    <tr>\n",
       "      <th>427</th>\n",
       "      <td>P_email</td>\n",
       "      <td>0.002904</td>\n",
       "    </tr>\n",
       "    <tr>\n",
       "      <th>7</th>\n",
       "      <td>card5</td>\n",
       "      <td>0.002088</td>\n",
       "    </tr>\n",
       "    <tr>\n",
       "      <th>3</th>\n",
       "      <td>card1</td>\n",
       "      <td>0.001852</td>\n",
       "    </tr>\n",
       "    <tr>\n",
       "      <th>437</th>\n",
       "      <td>pdc_amt_ratio</td>\n",
       "      <td>0.001575</td>\n",
       "    </tr>\n",
       "    <tr>\n",
       "      <th>46</th>\n",
       "      <td>M5</td>\n",
       "      <td>0.001170</td>\n",
       "    </tr>\n",
       "    <tr>\n",
       "      <th>8</th>\n",
       "      <td>card6</td>\n",
       "      <td>0.001093</td>\n",
       "    </tr>\n",
       "    <tr>\n",
       "      <th>18</th>\n",
       "      <td>C6</td>\n",
       "      <td>0.001027</td>\n",
       "    </tr>\n",
       "    <tr>\n",
       "      <th>408</th>\n",
       "      <td>id_19</td>\n",
       "      <td>0.000965</td>\n",
       "    </tr>\n",
       "    <tr>\n",
       "      <th>44</th>\n",
       "      <td>M3</td>\n",
       "      <td>0.000948</td>\n",
       "    </tr>\n",
       "    <tr>\n",
       "      <th>36</th>\n",
       "      <td>D10</td>\n",
       "      <td>0.000912</td>\n",
       "    </tr>\n",
       "    <tr>\n",
       "      <th>11</th>\n",
       "      <td>dist1</td>\n",
       "      <td>0.000910</td>\n",
       "    </tr>\n",
       "    <tr>\n",
       "      <th>454</th>\n",
       "      <td>card_D15_std</td>\n",
       "      <td>0.000856</td>\n",
       "    </tr>\n",
       "    <tr>\n",
       "      <th>436</th>\n",
       "      <td>hour</td>\n",
       "      <td>0.000828</td>\n",
       "    </tr>\n",
       "    <tr>\n",
       "      <th>438</th>\n",
       "      <td>pdc_amt_std_ratio</td>\n",
       "      <td>0.000821</td>\n",
       "    </tr>\n",
       "    <tr>\n",
       "      <th>47</th>\n",
       "      <td>M6</td>\n",
       "      <td>0.000746</td>\n",
       "    </tr>\n",
       "    <tr>\n",
       "      <th>37</th>\n",
       "      <td>D11</td>\n",
       "      <td>0.000734</td>\n",
       "    </tr>\n",
       "    <tr>\n",
       "      <th>447</th>\n",
       "      <td>card_TAmt_ratio</td>\n",
       "      <td>0.000586</td>\n",
       "    </tr>\n",
       "    <tr>\n",
       "      <th>453</th>\n",
       "      <td>card_D15_mean</td>\n",
       "      <td>0.000572</td>\n",
       "    </tr>\n",
       "    <tr>\n",
       "      <th>409</th>\n",
       "      <td>id_20</td>\n",
       "      <td>0.000569</td>\n",
       "    </tr>\n",
       "    <tr>\n",
       "      <th>429</th>\n",
       "      <td>R_email</td>\n",
       "      <td>0.000531</td>\n",
       "    </tr>\n",
       "    <tr>\n",
       "      <th>459</th>\n",
       "      <td>card_D1_std</td>\n",
       "      <td>0.000499</td>\n",
       "    </tr>\n",
       "    <tr>\n",
       "      <th>448</th>\n",
       "      <td>card_TAmt_std_ratio</td>\n",
       "      <td>0.000495</td>\n",
       "    </tr>\n",
       "    <tr>\n",
       "      <th>465</th>\n",
       "      <td>TransactionAmt_decimal</td>\n",
       "      <td>0.000493</td>\n",
       "    </tr>\n",
       "    <tr>\n",
       "      <th>21</th>\n",
       "      <td>C9</td>\n",
       "      <td>0.000449</td>\n",
       "    </tr>\n",
       "    <tr>\n",
       "      <th>...</th>\n",
       "      <td>...</td>\n",
       "      <td>...</td>\n",
       "    </tr>\n",
       "    <tr>\n",
       "      <th>57</th>\n",
       "      <td>V7</td>\n",
       "      <td>-0.000040</td>\n",
       "    </tr>\n",
       "    <tr>\n",
       "      <th>311</th>\n",
       "      <td>V261</td>\n",
       "      <td>-0.000040</td>\n",
       "    </tr>\n",
       "    <tr>\n",
       "      <th>363</th>\n",
       "      <td>V313</td>\n",
       "      <td>-0.000041</td>\n",
       "    </tr>\n",
       "    <tr>\n",
       "      <th>35</th>\n",
       "      <td>D9</td>\n",
       "      <td>-0.000042</td>\n",
       "    </tr>\n",
       "    <tr>\n",
       "      <th>50</th>\n",
       "      <td>M9</td>\n",
       "      <td>-0.000042</td>\n",
       "    </tr>\n",
       "    <tr>\n",
       "      <th>259</th>\n",
       "      <td>V209</td>\n",
       "      <td>-0.000044</td>\n",
       "    </tr>\n",
       "    <tr>\n",
       "      <th>33</th>\n",
       "      <td>D7</td>\n",
       "      <td>-0.000046</td>\n",
       "    </tr>\n",
       "    <tr>\n",
       "      <th>295</th>\n",
       "      <td>V245</td>\n",
       "      <td>-0.000047</td>\n",
       "    </tr>\n",
       "    <tr>\n",
       "      <th>184</th>\n",
       "      <td>V134</td>\n",
       "      <td>-0.000048</td>\n",
       "    </tr>\n",
       "    <tr>\n",
       "      <th>19</th>\n",
       "      <td>C7</td>\n",
       "      <td>-0.000049</td>\n",
       "    </tr>\n",
       "    <tr>\n",
       "      <th>250</th>\n",
       "      <td>V200</td>\n",
       "      <td>-0.000054</td>\n",
       "    </tr>\n",
       "    <tr>\n",
       "      <th>85</th>\n",
       "      <td>V35</td>\n",
       "      <td>-0.000056</td>\n",
       "    </tr>\n",
       "    <tr>\n",
       "      <th>24</th>\n",
       "      <td>C12</td>\n",
       "      <td>-0.000079</td>\n",
       "    </tr>\n",
       "    <tr>\n",
       "      <th>178</th>\n",
       "      <td>V128</td>\n",
       "      <td>-0.000080</td>\n",
       "    </tr>\n",
       "    <tr>\n",
       "      <th>95</th>\n",
       "      <td>V45</td>\n",
       "      <td>-0.000081</td>\n",
       "    </tr>\n",
       "    <tr>\n",
       "      <th>358</th>\n",
       "      <td>V308</td>\n",
       "      <td>-0.000081</td>\n",
       "    </tr>\n",
       "    <tr>\n",
       "      <th>137</th>\n",
       "      <td>V87</td>\n",
       "      <td>-0.000082</td>\n",
       "    </tr>\n",
       "    <tr>\n",
       "      <th>466</th>\n",
       "      <td>Device_name</td>\n",
       "      <td>-0.000083</td>\n",
       "    </tr>\n",
       "    <tr>\n",
       "      <th>364</th>\n",
       "      <td>V314</td>\n",
       "      <td>-0.000091</td>\n",
       "    </tr>\n",
       "    <tr>\n",
       "      <th>344</th>\n",
       "      <td>V294</td>\n",
       "      <td>-0.000096</td>\n",
       "    </tr>\n",
       "    <tr>\n",
       "      <th>177</th>\n",
       "      <td>V127</td>\n",
       "      <td>-0.000106</td>\n",
       "    </tr>\n",
       "    <tr>\n",
       "      <th>16</th>\n",
       "      <td>C4</td>\n",
       "      <td>-0.000111</td>\n",
       "    </tr>\n",
       "    <tr>\n",
       "      <th>152</th>\n",
       "      <td>V102</td>\n",
       "      <td>-0.000115</td>\n",
       "    </tr>\n",
       "    <tr>\n",
       "      <th>56</th>\n",
       "      <td>V6</td>\n",
       "      <td>-0.000117</td>\n",
       "    </tr>\n",
       "    <tr>\n",
       "      <th>141</th>\n",
       "      <td>V91</td>\n",
       "      <td>-0.000128</td>\n",
       "    </tr>\n",
       "    <tr>\n",
       "      <th>426</th>\n",
       "      <td>DeviceType</td>\n",
       "      <td>-0.000151</td>\n",
       "    </tr>\n",
       "    <tr>\n",
       "      <th>368</th>\n",
       "      <td>V318</td>\n",
       "      <td>-0.000152</td>\n",
       "    </tr>\n",
       "    <tr>\n",
       "      <th>140</th>\n",
       "      <td>V90</td>\n",
       "      <td>-0.000155</td>\n",
       "    </tr>\n",
       "    <tr>\n",
       "      <th>20</th>\n",
       "      <td>C8</td>\n",
       "      <td>-0.000169</td>\n",
       "    </tr>\n",
       "    <tr>\n",
       "      <th>367</th>\n",
       "      <td>V317</td>\n",
       "      <td>-0.000341</td>\n",
       "    </tr>\n",
       "  </tbody>\n",
       "</table>\n",
       "<p>474 rows × 2 columns</p>\n",
       "</div>"
      ],
      "text/plain": [
       "                    feature  importance\n",
       "4                     card2    0.011661\n",
       "9                     addr1    0.008445\n",
       "25                      C13    0.006763\n",
       "0             TransactionDT    0.003501\n",
       "26                      C14    0.003312\n",
       "13                       C1    0.003181\n",
       "427                 P_email    0.002904\n",
       "7                     card5    0.002088\n",
       "3                     card1    0.001852\n",
       "437           pdc_amt_ratio    0.001575\n",
       "46                       M5    0.001170\n",
       "8                     card6    0.001093\n",
       "18                       C6    0.001027\n",
       "408                   id_19    0.000965\n",
       "44                       M3    0.000948\n",
       "36                      D10    0.000912\n",
       "11                    dist1    0.000910\n",
       "454            card_D15_std    0.000856\n",
       "436                    hour    0.000828\n",
       "438       pdc_amt_std_ratio    0.000821\n",
       "47                       M6    0.000746\n",
       "37                      D11    0.000734\n",
       "447         card_TAmt_ratio    0.000586\n",
       "453           card_D15_mean    0.000572\n",
       "409                   id_20    0.000569\n",
       "429                 R_email    0.000531\n",
       "459             card_D1_std    0.000499\n",
       "448     card_TAmt_std_ratio    0.000495\n",
       "465  TransactionAmt_decimal    0.000493\n",
       "21                       C9    0.000449\n",
       "..                      ...         ...\n",
       "57                       V7   -0.000040\n",
       "311                    V261   -0.000040\n",
       "363                    V313   -0.000041\n",
       "35                       D9   -0.000042\n",
       "50                       M9   -0.000042\n",
       "259                    V209   -0.000044\n",
       "33                       D7   -0.000046\n",
       "295                    V245   -0.000047\n",
       "184                    V134   -0.000048\n",
       "19                       C7   -0.000049\n",
       "250                    V200   -0.000054\n",
       "85                      V35   -0.000056\n",
       "24                      C12   -0.000079\n",
       "178                    V128   -0.000080\n",
       "95                      V45   -0.000081\n",
       "358                    V308   -0.000081\n",
       "137                     V87   -0.000082\n",
       "466             Device_name   -0.000083\n",
       "364                    V314   -0.000091\n",
       "344                    V294   -0.000096\n",
       "177                    V127   -0.000106\n",
       "16                       C4   -0.000111\n",
       "152                    V102   -0.000115\n",
       "56                       V6   -0.000117\n",
       "141                     V91   -0.000128\n",
       "426              DeviceType   -0.000151\n",
       "368                    V318   -0.000152\n",
       "140                     V90   -0.000155\n",
       "20                       C8   -0.000169\n",
       "367                    V317   -0.000341\n",
       "\n",
       "[474 rows x 2 columns]"
      ]
     },
     "execution_count": 19,
     "metadata": {},
     "output_type": "execute_result"
    }
   ],
   "source": [
    "fi_importance.sort_values('importance',ascending=False)"
   ]
  },
  {
   "cell_type": "code",
   "execution_count": 20,
   "metadata": {},
   "outputs": [
    {
     "name": "stdout",
     "output_type": "stream",
     "text": [
      "Fold 0\n"
     ]
    },
    {
     "name": "stderr",
     "output_type": "stream",
     "text": [
      "/home/jinpwa/anaconda3/lib/python3.6/site-packages/lightgbm/basic.py:1247: UserWarning: Using categorical_feature in Dataset.\n",
      "  warnings.warn('Using categorical_feature in Dataset.')\n"
     ]
    },
    {
     "name": "stdout",
     "output_type": "stream",
     "text": [
      "Training until validation scores don't improve for 500 rounds.\n",
      "[500]\ttraining's auc: 0.996758\tvalid_1's auc: 0.936508\n",
      "[1000]\ttraining's auc: 0.99995\tvalid_1's auc: 0.945776\n",
      "[1500]\ttraining's auc: 1\tvalid_1's auc: 0.947953\n",
      "[2000]\ttraining's auc: 1\tvalid_1's auc: 0.948659\n",
      "Early stopping, best iteration is:\n",
      "[1589]\ttraining's auc: 1\tvalid_1's auc: 0.948102\n",
      "['addr2', 'V119', 'V28', 'is_windows_otheros', 'V240', 'V241', 'V305', 'V122', 'V120', 'V118', 'V117', 'V107', 'id_14', 'V89', 'id_21', 'id_24', 'id_25', 'V88', 'is_win8_vista', 'is_zero']\n",
      "['addr2', 'V119', 'V28', 'is_windows_otheros', 'V240', 'V241', 'V305', 'V122', 'V120', 'V118', 'V117', 'V107', 'id_14', 'V89', 'id_21', 'id_24', 'id_25', 'V88', 'is_win8_vista', 'is_zero']\n",
      "  auc =  0.9481015677503738\n",
      "Fold 1\n"
     ]
    },
    {
     "name": "stderr",
     "output_type": "stream",
     "text": [
      "/home/jinpwa/anaconda3/lib/python3.6/site-packages/lightgbm/basic.py:1247: UserWarning: Using categorical_feature in Dataset.\n",
      "  warnings.warn('Using categorical_feature in Dataset.')\n"
     ]
    },
    {
     "name": "stdout",
     "output_type": "stream",
     "text": [
      "Training until validation scores don't improve for 500 rounds.\n",
      "[500]\ttraining's auc: 0.997222\tvalid_1's auc: 0.932213\n",
      "[1000]\ttraining's auc: 0.999964\tvalid_1's auc: 0.941477\n",
      "[1500]\ttraining's auc: 1\tvalid_1's auc: 0.943575\n",
      "[2000]\ttraining's auc: 1\tvalid_1's auc: 0.943944\n",
      "Early stopping, best iteration is:\n",
      "[1723]\ttraining's auc: 1\tvalid_1's auc: 0.943834\n",
      "['V240', 'V122', 'V121', 'V120', 'V241', 'V119', 'V118', 'V117', 'V65', 'V305', 'V114', 'is_win8_vista', 'is_windows_otheros', 'id_26', 'id_25', 'id_24', 'id_21', 'id_14', 'V89', 'V107', 'V108', 'V28', 'V27', 'V111', 'V68', 'V113', 'is_zero']\n",
      "['id_24', 'V120', 'V89', 'V117', 'id_14', 'id_21', 'V305', 'id_25', 'is_win8_vista', 'is_windows_otheros', 'V28', 'is_zero', 'V119', 'V107', 'V240', 'V118', 'V241', 'V122']\n",
      "  auc =  0.9438337936852855\n",
      "Fold 2\n"
     ]
    },
    {
     "name": "stderr",
     "output_type": "stream",
     "text": [
      "/home/jinpwa/anaconda3/lib/python3.6/site-packages/lightgbm/basic.py:1247: UserWarning: Using categorical_feature in Dataset.\n",
      "  warnings.warn('Using categorical_feature in Dataset.')\n"
     ]
    },
    {
     "name": "stdout",
     "output_type": "stream",
     "text": [
      "Training until validation scores don't improve for 500 rounds.\n",
      "[500]\ttraining's auc: 0.996658\tvalid_1's auc: 0.93433\n",
      "[1000]\ttraining's auc: 0.999946\tvalid_1's auc: 0.942958\n",
      "[1500]\ttraining's auc: 1\tvalid_1's auc: 0.945112\n",
      "[2000]\ttraining's auc: 1\tvalid_1's auc: 0.945699\n",
      "Early stopping, best iteration is:\n",
      "[1696]\ttraining's auc: 1\tvalid_1's auc: 0.945423\n",
      "['V241', 'V240', 'id_22', 'is_windows_otheros', 'is_win8_vista', 'V89', 'V269', 'id_26', 'id_25', 'id_24', 'id_21', 'id_14', 'V107', 'V117', 'V118', 'V119', 'V120', 'V305', 'is_zero']\n",
      "['id_24', 'V120', 'V117', 'id_14', 'id_21', 'id_25', 'V305', 'is_win8_vista', 'is_windows_otheros', 'is_zero', 'V118', 'V119', 'V107', 'V240', 'V89', 'V241']\n",
      "  auc =  0.9454225532357191\n"
     ]
    }
   ],
   "source": [
    "categorical = list(set(categorical_raw).intersection(features_train.columns))\n",
    "ave_auc,to_drop = fold_select_feature(3,features_train,labels_train,categorical,importance=0)"
   ]
  },
  {
   "cell_type": "code",
   "execution_count": 21,
   "metadata": {},
   "outputs": [
    {
     "data": {
      "text/plain": [
       "0.9457859715571262"
      ]
     },
     "execution_count": 21,
     "metadata": {},
     "output_type": "execute_result"
    }
   ],
   "source": [
    "ave_auc"
   ]
  },
  {
   "cell_type": "markdown",
   "metadata": {},
   "source": [
    "## Feature selection by Importance"
   ]
  },
  {
   "cell_type": "code",
   "execution_count": 22,
   "metadata": {},
   "outputs": [],
   "source": [
    "#to_drop = list(select_by_importance(model,features_train,importance=0))\n",
    "to_drop = ['V91']"
   ]
  },
  {
   "cell_type": "code",
   "execution_count": 23,
   "metadata": {},
   "outputs": [
    {
     "name": "stdout",
     "output_type": "stream",
     "text": [
      "Fold 0\n"
     ]
    },
    {
     "name": "stderr",
     "output_type": "stream",
     "text": [
      "/home/jinpwa/anaconda3/lib/python3.6/site-packages/lightgbm/basic.py:1247: UserWarning: Using categorical_feature in Dataset.\n",
      "  warnings.warn('Using categorical_feature in Dataset.')\n"
     ]
    },
    {
     "name": "stdout",
     "output_type": "stream",
     "text": [
      "Training until validation scores don't improve for 500 rounds.\n",
      "[500]\ttraining's auc: 0.996728\tvalid_1's auc: 0.936943\n",
      "[1000]\ttraining's auc: 0.99995\tvalid_1's auc: 0.946019\n",
      "[1500]\ttraining's auc: 1\tvalid_1's auc: 0.947929\n",
      "[2000]\ttraining's auc: 1\tvalid_1's auc: 0.948716\n",
      "Early stopping, best iteration is:\n",
      "[1594]\ttraining's auc: 1\tvalid_1's auc: 0.948128\n",
      "  auc =  0.9481276527650302\n",
      "Fold 1\n"
     ]
    },
    {
     "name": "stderr",
     "output_type": "stream",
     "text": [
      "/home/jinpwa/anaconda3/lib/python3.6/site-packages/lightgbm/basic.py:1247: UserWarning: Using categorical_feature in Dataset.\n",
      "  warnings.warn('Using categorical_feature in Dataset.')\n"
     ]
    },
    {
     "name": "stdout",
     "output_type": "stream",
     "text": [
      "Training until validation scores don't improve for 500 rounds.\n",
      "[500]\ttraining's auc: 0.997175\tvalid_1's auc: 0.932507\n",
      "[1000]\ttraining's auc: 0.999964\tvalid_1's auc: 0.941967\n",
      "[1500]\ttraining's auc: 1\tvalid_1's auc: 0.94389\n",
      "[2000]\ttraining's auc: 1\tvalid_1's auc: 0.944174\n",
      "Early stopping, best iteration is:\n",
      "[1699]\ttraining's auc: 1\tvalid_1's auc: 0.94413\n",
      "  auc =  0.9441302938301871\n",
      "Fold 2\n"
     ]
    },
    {
     "name": "stderr",
     "output_type": "stream",
     "text": [
      "/home/jinpwa/anaconda3/lib/python3.6/site-packages/lightgbm/basic.py:1247: UserWarning: Using categorical_feature in Dataset.\n",
      "  warnings.warn('Using categorical_feature in Dataset.')\n"
     ]
    },
    {
     "name": "stdout",
     "output_type": "stream",
     "text": [
      "Training until validation scores don't improve for 500 rounds.\n",
      "[500]\ttraining's auc: 0.996641\tvalid_1's auc: 0.934443\n",
      "[1000]\ttraining's auc: 0.999948\tvalid_1's auc: 0.943246\n",
      "[1500]\ttraining's auc: 1\tvalid_1's auc: 0.945512\n",
      "[2000]\ttraining's auc: 1\tvalid_1's auc: 0.946168\n",
      "Early stopping, best iteration is:\n",
      "[1676]\ttraining's auc: 1\tvalid_1's auc: 0.945838\n",
      "  auc =  0.9458383939643953\n"
     ]
    }
   ],
   "source": [
    "features_train_temp = features_train.drop(to_drop,axis=1)\n",
    "categorical_temp = list(set(categorical_raw).intersection(features_train_temp.columns))\n",
    "ave_auc = fold_train_selector(3,features_train_temp,labels_train,categorical_temp)"
   ]
  },
  {
   "cell_type": "code",
   "execution_count": 24,
   "metadata": {},
   "outputs": [
    {
     "data": {
      "text/plain": [
       "0.9460321135198708"
      ]
     },
     "execution_count": 24,
     "metadata": {},
     "output_type": "execute_result"
    }
   ],
   "source": [
    "ave_auc"
   ]
  },
  {
   "cell_type": "code",
   "execution_count": 105,
   "metadata": {},
   "outputs": [],
   "source": [
    "with open('./data/feat476_rm_importance0.pickle', 'wb') as handle:\n",
    "    pickle.dump(to_drop, handle, protocol=pickle.HIGHEST_PROTOCOL)"
   ]
  },
  {
   "cell_type": "markdown",
   "metadata": {},
   "source": [
    "## Recursive Eliminate Features"
   ]
  },
  {
   "cell_type": "code",
   "execution_count": null,
   "metadata": {},
   "outputs": [
    {
     "name": "stdout",
     "output_type": "stream",
     "text": [
      "Device_name\n"
     ]
    },
    {
     "name": "stderr",
     "output_type": "stream",
     "text": [
      "/home/jinpwa/anaconda3/lib/python3.6/site-packages/lightgbm/basic.py:1247: UserWarning: Using categorical_feature in Dataset.\n",
      "  warnings.warn('Using categorical_feature in Dataset.')\n"
     ]
    },
    {
     "name": "stdout",
     "output_type": "stream",
     "text": [
      "Training until validation scores don't improve for 500 rounds.\n",
      "[2000]\ttraining's auc: 1\tvalid_1's auc: 0.953302\n",
      "Early stopping, best iteration is:\n",
      "[1729]\ttraining's auc: 1\tvalid_1's auc: 0.953183\n",
      "remove Device_name improve auc from 0.9531365218167643 to 0.9534075096476156 this feature is endanger\n",
      "id_26\n"
     ]
    },
    {
     "name": "stderr",
     "output_type": "stream",
     "text": [
      "/home/jinpwa/anaconda3/lib/python3.6/site-packages/lightgbm/basic.py:1247: UserWarning: Using categorical_feature in Dataset.\n",
      "  warnings.warn('Using categorical_feature in Dataset.')\n"
     ]
    },
    {
     "name": "stdout",
     "output_type": "stream",
     "text": [
      "Training until validation scores don't improve for 500 rounds.\n",
      "[2000]\ttraining's auc: 1\tvalid_1's auc: 0.952548\n",
      "Early stopping, best iteration is:\n",
      "[1722]\ttraining's auc: 1\tvalid_1's auc: 0.952363\n",
      "P_email\n"
     ]
    },
    {
     "name": "stderr",
     "output_type": "stream",
     "text": [
      "/home/jinpwa/anaconda3/lib/python3.6/site-packages/lightgbm/basic.py:1247: UserWarning: Using categorical_feature in Dataset.\n",
      "  warnings.warn('Using categorical_feature in Dataset.')\n"
     ]
    },
    {
     "name": "stdout",
     "output_type": "stream",
     "text": [
      "Training until validation scores don't improve for 500 rounds.\n",
      "[2000]\ttraining's auc: 1\tvalid_1's auc: 0.952819\n",
      "Early stopping, best iteration is:\n",
      "[1808]\ttraining's auc: 1\tvalid_1's auc: 0.952699\n",
      "P_email_suffix\n"
     ]
    },
    {
     "name": "stderr",
     "output_type": "stream",
     "text": [
      "/home/jinpwa/anaconda3/lib/python3.6/site-packages/lightgbm/basic.py:1247: UserWarning: Using categorical_feature in Dataset.\n",
      "  warnings.warn('Using categorical_feature in Dataset.')\n"
     ]
    },
    {
     "name": "stdout",
     "output_type": "stream",
     "text": [
      "Training until validation scores don't improve for 500 rounds.\n",
      "[2000]\ttraining's auc: 1\tvalid_1's auc: 0.952628\n",
      "Early stopping, best iteration is:\n",
      "[1765]\ttraining's auc: 1\tvalid_1's auc: 0.952487\n",
      "M9\n"
     ]
    },
    {
     "name": "stderr",
     "output_type": "stream",
     "text": [
      "/home/jinpwa/anaconda3/lib/python3.6/site-packages/lightgbm/basic.py:1247: UserWarning: Using categorical_feature in Dataset.\n",
      "  warnings.warn('Using categorical_feature in Dataset.')\n"
     ]
    },
    {
     "name": "stdout",
     "output_type": "stream",
     "text": [
      "Training until validation scores don't improve for 500 rounds.\n",
      "[2000]\ttraining's auc: 1\tvalid_1's auc: 0.953003\n",
      "Early stopping, best iteration is:\n",
      "[1734]\ttraining's auc: 1\tvalid_1's auc: 0.952798\n",
      "card5\n"
     ]
    },
    {
     "name": "stderr",
     "output_type": "stream",
     "text": [
      "/home/jinpwa/anaconda3/lib/python3.6/site-packages/lightgbm/basic.py:1247: UserWarning: Using categorical_feature in Dataset.\n",
      "  warnings.warn('Using categorical_feature in Dataset.')\n"
     ]
    },
    {
     "name": "stdout",
     "output_type": "stream",
     "text": [
      "Training until validation scores don't improve for 500 rounds.\n",
      "[2000]\ttraining's auc: 1\tvalid_1's auc: 0.952742\n",
      "Early stopping, best iteration is:\n",
      "[1735]\ttraining's auc: 1\tvalid_1's auc: 0.952533\n",
      "Device_version\n"
     ]
    },
    {
     "name": "stderr",
     "output_type": "stream",
     "text": [
      "/home/jinpwa/anaconda3/lib/python3.6/site-packages/lightgbm/basic.py:1247: UserWarning: Using categorical_feature in Dataset.\n",
      "  warnings.warn('Using categorical_feature in Dataset.')\n"
     ]
    },
    {
     "name": "stdout",
     "output_type": "stream",
     "text": [
      "Training until validation scores don't improve for 500 rounds.\n",
      "[2000]\ttraining's auc: 1\tvalid_1's auc: 0.952814\n",
      "Early stopping, best iteration is:\n",
      "[1821]\ttraining's auc: 1\tvalid_1's auc: 0.952676\n",
      "id_22\n"
     ]
    },
    {
     "name": "stderr",
     "output_type": "stream",
     "text": [
      "/home/jinpwa/anaconda3/lib/python3.6/site-packages/lightgbm/basic.py:1247: UserWarning: Using categorical_feature in Dataset.\n",
      "  warnings.warn('Using categorical_feature in Dataset.')\n"
     ]
    },
    {
     "name": "stdout",
     "output_type": "stream",
     "text": [
      "Training until validation scores don't improve for 500 rounds.\n",
      "[2000]\ttraining's auc: 1\tvalid_1's auc: 0.953038\n",
      "Early stopping, best iteration is:\n",
      "[1741]\ttraining's auc: 1\tvalid_1's auc: 0.95305\n",
      "M6\n"
     ]
    },
    {
     "name": "stderr",
     "output_type": "stream",
     "text": [
      "/home/jinpwa/anaconda3/lib/python3.6/site-packages/lightgbm/basic.py:1247: UserWarning: Using categorical_feature in Dataset.\n",
      "  warnings.warn('Using categorical_feature in Dataset.')\n"
     ]
    },
    {
     "name": "stdout",
     "output_type": "stream",
     "text": [
      "Training until validation scores don't improve for 500 rounds.\n",
      "[2000]\ttraining's auc: 1\tvalid_1's auc: 0.9523\n",
      "Early stopping, best iteration is:\n",
      "[1766]\ttraining's auc: 1\tvalid_1's auc: 0.952148\n",
      "is_zero\n"
     ]
    },
    {
     "name": "stderr",
     "output_type": "stream",
     "text": [
      "/home/jinpwa/anaconda3/lib/python3.6/site-packages/lightgbm/basic.py:1247: UserWarning: Using categorical_feature in Dataset.\n",
      "  warnings.warn('Using categorical_feature in Dataset.')\n"
     ]
    },
    {
     "name": "stdout",
     "output_type": "stream",
     "text": [
      "Training until validation scores don't improve for 500 rounds.\n",
      "[2000]\ttraining's auc: 1\tvalid_1's auc: 0.953066\n",
      "Early stopping, best iteration is:\n",
      "[1714]\ttraining's auc: 1\tvalid_1's auc: 0.95285\n",
      "id_16\n"
     ]
    },
    {
     "name": "stderr",
     "output_type": "stream",
     "text": [
      "/home/jinpwa/anaconda3/lib/python3.6/site-packages/lightgbm/basic.py:1247: UserWarning: Using categorical_feature in Dataset.\n",
      "  warnings.warn('Using categorical_feature in Dataset.')\n"
     ]
    },
    {
     "name": "stdout",
     "output_type": "stream",
     "text": [
      "Training until validation scores don't improve for 500 rounds.\n",
      "[2000]\ttraining's auc: 1\tvalid_1's auc: 0.952969\n",
      "Early stopping, best iteration is:\n",
      "[1783]\ttraining's auc: 1\tvalid_1's auc: 0.952908\n",
      "id_24\n"
     ]
    },
    {
     "name": "stderr",
     "output_type": "stream",
     "text": [
      "/home/jinpwa/anaconda3/lib/python3.6/site-packages/lightgbm/basic.py:1247: UserWarning: Using categorical_feature in Dataset.\n",
      "  warnings.warn('Using categorical_feature in Dataset.')\n"
     ]
    },
    {
     "name": "stdout",
     "output_type": "stream",
     "text": [
      "Training until validation scores don't improve for 500 rounds.\n",
      "[2000]\ttraining's auc: 1\tvalid_1's auc: 0.952548\n",
      "Early stopping, best iteration is:\n",
      "[1722]\ttraining's auc: 1\tvalid_1's auc: 0.952363\n",
      "id_30_OS\n"
     ]
    },
    {
     "name": "stderr",
     "output_type": "stream",
     "text": [
      "/home/jinpwa/anaconda3/lib/python3.6/site-packages/lightgbm/basic.py:1247: UserWarning: Using categorical_feature in Dataset.\n",
      "  warnings.warn('Using categorical_feature in Dataset.')\n"
     ]
    },
    {
     "name": "stdout",
     "output_type": "stream",
     "text": [
      "Training until validation scores don't improve for 500 rounds.\n",
      "[2000]\ttraining's auc: 1\tvalid_1's auc: 0.95285\n",
      "Early stopping, best iteration is:\n",
      "[1704]\ttraining's auc: 1\tvalid_1's auc: 0.952689\n",
      "id_23\n"
     ]
    },
    {
     "name": "stderr",
     "output_type": "stream",
     "text": [
      "/home/jinpwa/anaconda3/lib/python3.6/site-packages/lightgbm/basic.py:1247: UserWarning: Using categorical_feature in Dataset.\n",
      "  warnings.warn('Using categorical_feature in Dataset.')\n"
     ]
    },
    {
     "name": "stdout",
     "output_type": "stream",
     "text": [
      "Training until validation scores don't improve for 500 rounds.\n",
      "[2000]\ttraining's auc: 1\tvalid_1's auc: 0.952923\n",
      "Early stopping, best iteration is:\n",
      "[1737]\ttraining's auc: 1\tvalid_1's auc: 0.952674\n",
      "M4\n"
     ]
    },
    {
     "name": "stderr",
     "output_type": "stream",
     "text": [
      "/home/jinpwa/anaconda3/lib/python3.6/site-packages/lightgbm/basic.py:1247: UserWarning: Using categorical_feature in Dataset.\n",
      "  warnings.warn('Using categorical_feature in Dataset.')\n"
     ]
    },
    {
     "name": "stdout",
     "output_type": "stream",
     "text": [
      "Training until validation scores don't improve for 500 rounds.\n",
      "[2000]\ttraining's auc: 1\tvalid_1's auc: 0.952626\n",
      "Early stopping, best iteration is:\n",
      "[1716]\ttraining's auc: 1\tvalid_1's auc: 0.952453\n",
      "dow\n"
     ]
    },
    {
     "name": "stderr",
     "output_type": "stream",
     "text": [
      "/home/jinpwa/anaconda3/lib/python3.6/site-packages/lightgbm/basic.py:1247: UserWarning: Using categorical_feature in Dataset.\n",
      "  warnings.warn('Using categorical_feature in Dataset.')\n"
     ]
    },
    {
     "name": "stdout",
     "output_type": "stream",
     "text": [
      "Training until validation scores don't improve for 500 rounds.\n",
      "[2000]\ttraining's auc: 1\tvalid_1's auc: 0.953519\n",
      "Early stopping, best iteration is:\n",
      "[1720]\ttraining's auc: 1\tvalid_1's auc: 0.953327\n",
      "remove dow improve auc from 0.9534075096476156 to 0.9535437865440888 this feature is endanger\n",
      "R_email_suffix\n"
     ]
    },
    {
     "name": "stderr",
     "output_type": "stream",
     "text": [
      "/home/jinpwa/anaconda3/lib/python3.6/site-packages/lightgbm/basic.py:1247: UserWarning: Using categorical_feature in Dataset.\n",
      "  warnings.warn('Using categorical_feature in Dataset.')\n"
     ]
    },
    {
     "name": "stdout",
     "output_type": "stream",
     "text": [
      "Training until validation scores don't improve for 500 rounds.\n",
      "[2000]\ttraining's auc: 1\tvalid_1's auc: 0.952952\n",
      "Early stopping, best iteration is:\n",
      "[1740]\ttraining's auc: 1\tvalid_1's auc: 0.952781\n",
      "addr1\n"
     ]
    },
    {
     "name": "stderr",
     "output_type": "stream",
     "text": [
      "/home/jinpwa/anaconda3/lib/python3.6/site-packages/lightgbm/basic.py:1247: UserWarning: Using categorical_feature in Dataset.\n",
      "  warnings.warn('Using categorical_feature in Dataset.')\n"
     ]
    },
    {
     "name": "stdout",
     "output_type": "stream",
     "text": [
      "Training until validation scores don't improve for 500 rounds.\n",
      "[2000]\ttraining's auc: 1\tvalid_1's auc: 0.949491\n",
      "Early stopping, best iteration is:\n",
      "[1799]\ttraining's auc: 1\tvalid_1's auc: 0.949389\n",
      "id_37\n"
     ]
    },
    {
     "name": "stderr",
     "output_type": "stream",
     "text": [
      "/home/jinpwa/anaconda3/lib/python3.6/site-packages/lightgbm/basic.py:1247: UserWarning: Using categorical_feature in Dataset.\n",
      "  warnings.warn('Using categorical_feature in Dataset.')\n"
     ]
    },
    {
     "name": "stdout",
     "output_type": "stream",
     "text": [
      "Training until validation scores don't improve for 500 rounds.\n",
      "[2000]\ttraining's auc: 1\tvalid_1's auc: 0.952834\n",
      "Early stopping, best iteration is:\n",
      "[1756]\ttraining's auc: 1\tvalid_1's auc: 0.952819\n",
      "id_36\n"
     ]
    },
    {
     "name": "stderr",
     "output_type": "stream",
     "text": [
      "/home/jinpwa/anaconda3/lib/python3.6/site-packages/lightgbm/basic.py:1247: UserWarning: Using categorical_feature in Dataset.\n",
      "  warnings.warn('Using categorical_feature in Dataset.')\n"
     ]
    },
    {
     "name": "stdout",
     "output_type": "stream",
     "text": [
      "Training until validation scores don't improve for 500 rounds.\n",
      "[2000]\ttraining's auc: 1\tvalid_1's auc: 0.953034\n",
      "Early stopping, best iteration is:\n",
      "[1765]\ttraining's auc: 1\tvalid_1's auc: 0.952757\n",
      "is_card_freq_pdc\n"
     ]
    },
    {
     "name": "stderr",
     "output_type": "stream",
     "text": [
      "/home/jinpwa/anaconda3/lib/python3.6/site-packages/lightgbm/basic.py:1247: UserWarning: Using categorical_feature in Dataset.\n",
      "  warnings.warn('Using categorical_feature in Dataset.')\n"
     ]
    },
    {
     "name": "stdout",
     "output_type": "stream",
     "text": [
      "Training until validation scores don't improve for 500 rounds.\n",
      "[2000]\ttraining's auc: 1\tvalid_1's auc: 0.952795\n",
      "Early stopping, best iteration is:\n",
      "[1731]\ttraining's auc: 1\tvalid_1's auc: 0.952635\n",
      "M3\n"
     ]
    },
    {
     "name": "stderr",
     "output_type": "stream",
     "text": [
      "/home/jinpwa/anaconda3/lib/python3.6/site-packages/lightgbm/basic.py:1247: UserWarning: Using categorical_feature in Dataset.\n",
      "  warnings.warn('Using categorical_feature in Dataset.')\n"
     ]
    },
    {
     "name": "stdout",
     "output_type": "stream",
     "text": [
      "Training until validation scores don't improve for 500 rounds.\n",
      "[2000]\ttraining's auc: 1\tvalid_1's auc: 0.952631\n",
      "Early stopping, best iteration is:\n",
      "[1742]\ttraining's auc: 1\tvalid_1's auc: 0.952338\n",
      "id_34\n"
     ]
    },
    {
     "name": "stderr",
     "output_type": "stream",
     "text": [
      "/home/jinpwa/anaconda3/lib/python3.6/site-packages/lightgbm/basic.py:1247: UserWarning: Using categorical_feature in Dataset.\n",
      "  warnings.warn('Using categorical_feature in Dataset.')\n"
     ]
    },
    {
     "name": "stdout",
     "output_type": "stream",
     "text": [
      "Training until validation scores don't improve for 500 rounds.\n",
      "[2000]\ttraining's auc: 1\tvalid_1's auc: 0.952993\n",
      "Early stopping, best iteration is:\n",
      "[1705]\ttraining's auc: 1\tvalid_1's auc: 0.952857\n",
      "card2\n"
     ]
    },
    {
     "name": "stderr",
     "output_type": "stream",
     "text": [
      "/home/jinpwa/anaconda3/lib/python3.6/site-packages/lightgbm/basic.py:1247: UserWarning: Using categorical_feature in Dataset.\n",
      "  warnings.warn('Using categorical_feature in Dataset.')\n"
     ]
    },
    {
     "name": "stdout",
     "output_type": "stream",
     "text": [
      "Training until validation scores don't improve for 500 rounds.\n",
      "[2000]\ttraining's auc: 1\tvalid_1's auc: 0.951441\n",
      "Early stopping, best iteration is:\n",
      "[1843]\ttraining's auc: 1\tvalid_1's auc: 0.951285\n",
      "M5\n"
     ]
    },
    {
     "name": "stderr",
     "output_type": "stream",
     "text": [
      "/home/jinpwa/anaconda3/lib/python3.6/site-packages/lightgbm/basic.py:1247: UserWarning: Using categorical_feature in Dataset.\n",
      "  warnings.warn('Using categorical_feature in Dataset.')\n"
     ]
    },
    {
     "name": "stdout",
     "output_type": "stream",
     "text": [
      "Training until validation scores don't improve for 500 rounds.\n",
      "[2000]\ttraining's auc: 1\tvalid_1's auc: 0.952769\n",
      "Early stopping, best iteration is:\n",
      "[1757]\ttraining's auc: 1\tvalid_1's auc: 0.952626\n",
      "M2\n"
     ]
    },
    {
     "name": "stderr",
     "output_type": "stream",
     "text": [
      "/home/jinpwa/anaconda3/lib/python3.6/site-packages/lightgbm/basic.py:1247: UserWarning: Using categorical_feature in Dataset.\n",
      "  warnings.warn('Using categorical_feature in Dataset.')\n"
     ]
    },
    {
     "name": "stdout",
     "output_type": "stream",
     "text": [
      "Training until validation scores don't improve for 500 rounds.\n",
      "[2000]\ttraining's auc: 1\tvalid_1's auc: 0.952821\n",
      "Early stopping, best iteration is:\n",
      "[1826]\ttraining's auc: 1\tvalid_1's auc: 0.952705\n",
      "M8\n"
     ]
    },
    {
     "name": "stderr",
     "output_type": "stream",
     "text": [
      "/home/jinpwa/anaconda3/lib/python3.6/site-packages/lightgbm/basic.py:1247: UserWarning: Using categorical_feature in Dataset.\n",
      "  warnings.warn('Using categorical_feature in Dataset.')\n"
     ]
    },
    {
     "name": "stdout",
     "output_type": "stream",
     "text": [
      "Training until validation scores don't improve for 500 rounds.\n",
      "[2000]\ttraining's auc: 1\tvalid_1's auc: 0.953178\n",
      "Early stopping, best iteration is:\n",
      "[1741]\ttraining's auc: 1\tvalid_1's auc: 0.953064\n",
      "is_windows_otheros\n"
     ]
    },
    {
     "name": "stderr",
     "output_type": "stream",
     "text": [
      "/home/jinpwa/anaconda3/lib/python3.6/site-packages/lightgbm/basic.py:1247: UserWarning: Using categorical_feature in Dataset.\n",
      "  warnings.warn('Using categorical_feature in Dataset.')\n"
     ]
    },
    {
     "name": "stdout",
     "output_type": "stream",
     "text": [
      "Training until validation scores don't improve for 500 rounds.\n"
     ]
    }
   ],
   "source": [
    "best = 0.9531365218167643\n",
    "rm_col = ''\n",
    "for col in categorical:\n",
    "    print(col)\n",
    "    features_train_temp = features_train.drop(col,axis=1)\n",
    "    categorical_temp = list(set(categorical_raw).intersection(features_train_temp.columns))\n",
    "    model_temp,valid_results = train_selector(params,train_num,features_train_temp,labels_train,categorical_temp,verbose_eval=2000)\n",
    "    pfm = max(valid_results['valid_1']['auc'])\n",
    "    if pfm > best:\n",
    "        print('remove %s improve auc from %s to %s this feature is endanger'%(col,best,pfm))\n",
    "        best = pfm\n",
    "        rm_col = col\n",
    "        "
   ]
  },
  {
   "cell_type": "code",
   "execution_count": 64,
   "metadata": {},
   "outputs": [
    {
     "data": {
      "text/plain": [
       "'ProductCD'"
      ]
     },
     "execution_count": 64,
     "metadata": {},
     "output_type": "execute_result"
    }
   ],
   "source": [
    "rm_col"
   ]
  }
 ],
 "metadata": {
  "kernelspec": {
   "display_name": "Python 3",
   "language": "python",
   "name": "python3"
  },
  "language_info": {
   "codemirror_mode": {
    "name": "ipython",
    "version": 3
   },
   "file_extension": ".py",
   "mimetype": "text/x-python",
   "name": "python",
   "nbconvert_exporter": "python",
   "pygments_lexer": "ipython3",
   "version": "3.6.5"
  }
 },
 "nbformat": 4,
 "nbformat_minor": 2
}
