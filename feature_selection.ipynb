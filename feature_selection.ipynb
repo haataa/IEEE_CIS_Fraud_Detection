{
 "cells": [
  {
   "cell_type": "code",
   "execution_count": 1,
   "metadata": {},
   "outputs": [],
   "source": [
    "# import packages\n",
    "import numpy as np\n",
    "import pandas as pd\n",
    "import matplotlib.pyplot as plt\n",
    "import featuretools as ft\n",
    "import lightgbm as lgb\n",
    "import seaborn as sns\n",
    "from sklearn.model_selection import GridSearchCV\n",
    "from sklearn.model_selection import KFold\n",
    "from sklearn.metrics import roc_auc_score\n",
    "from random import sample \n",
    "import pickle\n",
    "import eli5\n",
    "from eli5.sklearn import PermutationImportance\n",
    "from lightgbm import LGBMClassifier\n",
    "from sklearn.preprocessing import Imputer\n",
    "from sklearn.preprocessing import StandardScaler\n",
    "from sklearn.decomposition import PCA\n",
    "\n",
    "%matplotlib inline\n",
    "RSEED = 50"
   ]
  },
  {
   "cell_type": "markdown",
   "metadata": {},
   "source": [
    "# Load Original Features"
   ]
  },
  {
   "cell_type": "code",
   "execution_count": 390,
   "metadata": {},
   "outputs": [],
   "source": [
    "feat_num = 447\n",
    "#df_total = pd.read_csv('./data/features%s_add_card1_cnt.csv'%(feat_num))\n",
    "with open('./data/features%s.pickle'%(feat_num), 'rb') as handle:\n",
    "    df_total = pickle.load(handle)"
   ]
  },
  {
   "cell_type": "code",
   "execution_count": 391,
   "metadata": {},
   "outputs": [
    {
     "data": {
      "text/plain": [
       "(590540, 447)"
      ]
     },
     "execution_count": 391,
     "metadata": {},
     "output_type": "execute_result"
    }
   ],
   "source": [
    "df_train = df_total[df_total['isFraud'].notnull()]\n",
    "df_train.shape"
   ]
  },
  {
   "cell_type": "markdown",
   "metadata": {},
   "source": [
    "# Negative Downsampling"
   ]
  },
  {
   "cell_type": "code",
   "execution_count": 392,
   "metadata": {},
   "outputs": [],
   "source": [
    "train_pos = df_train[df_train['isFraud']==1]\n",
    "train_neg = df_train[df_train['isFraud']==0]\n",
    "\n",
    "train_neg = train_neg.sample(int(df_train.shape[0] * 0.2), random_state=42)\n",
    "df_train_sample = pd.concat([train_pos,train_neg]).sort_index()"
   ]
  },
  {
   "cell_type": "markdown",
   "metadata": {},
   "source": [
    "# Prepare Data"
   ]
  },
  {
   "cell_type": "code",
   "execution_count": 393,
   "metadata": {},
   "outputs": [
    {
     "data": {
      "text/plain": [
       "(138771, 445)"
      ]
     },
     "execution_count": 393,
     "metadata": {},
     "output_type": "execute_result"
    }
   ],
   "source": [
    "labels_train = df_train_sample['isFraud']\n",
    "features_train = df_train_sample.drop(columns = ['isFraud', 'TransactionID'])\n",
    "features_train.shape"
   ]
  },
  {
   "cell_type": "code",
   "execution_count": 394,
   "metadata": {},
   "outputs": [
    {
     "data": {
      "text/html": [
       "<div>\n",
       "<style scoped>\n",
       "    .dataframe tbody tr th:only-of-type {\n",
       "        vertical-align: middle;\n",
       "    }\n",
       "\n",
       "    .dataframe tbody tr th {\n",
       "        vertical-align: top;\n",
       "    }\n",
       "\n",
       "    .dataframe thead th {\n",
       "        text-align: right;\n",
       "    }\n",
       "</style>\n",
       "<table border=\"1\" class=\"dataframe\">\n",
       "  <thead>\n",
       "    <tr style=\"text-align: right;\">\n",
       "      <th></th>\n",
       "      <th>TransactionDT</th>\n",
       "      <th>TransactionAmt</th>\n",
       "      <th>ProductCD</th>\n",
       "      <th>card1</th>\n",
       "      <th>card2</th>\n",
       "      <th>card3</th>\n",
       "      <th>card4</th>\n",
       "      <th>card5</th>\n",
       "      <th>card6</th>\n",
       "      <th>addr1</th>\n",
       "      <th>...</th>\n",
       "      <th>addr1_fq_enc</th>\n",
       "      <th>card_addr_fq</th>\n",
       "      <th>card_mv_hour_fq</th>\n",
       "      <th>card_mv_hour_fq_ratio</th>\n",
       "      <th>card_hour_Amt</th>\n",
       "      <th>card_hour_Amt_ratio</th>\n",
       "      <th>card_mv_day_fq</th>\n",
       "      <th>card_mv_day_fq_ratio</th>\n",
       "      <th>card_day_Amt</th>\n",
       "      <th>card_day_Amt_ratio</th>\n",
       "    </tr>\n",
       "  </thead>\n",
       "  <tbody>\n",
       "    <tr>\n",
       "      <td>2</td>\n",
       "      <td>86469</td>\n",
       "      <td>59.00</td>\n",
       "      <td>0</td>\n",
       "      <td>4663</td>\n",
       "      <td>490.0</td>\n",
       "      <td>150.0</td>\n",
       "      <td>2</td>\n",
       "      <td>166.0</td>\n",
       "      <td>1</td>\n",
       "      <td>330.0</td>\n",
       "      <td>...</td>\n",
       "      <td>48387.0</td>\n",
       "      <td>13.0</td>\n",
       "      <td>1</td>\n",
       "      <td>1.000000</td>\n",
       "      <td>59.00</td>\n",
       "      <td>0.969659</td>\n",
       "      <td>1</td>\n",
       "      <td>1.000000</td>\n",
       "      <td>59.00</td>\n",
       "      <td>0.969659</td>\n",
       "    </tr>\n",
       "    <tr>\n",
       "      <td>6</td>\n",
       "      <td>86522</td>\n",
       "      <td>159.00</td>\n",
       "      <td>0</td>\n",
       "      <td>12308</td>\n",
       "      <td>360.0</td>\n",
       "      <td>150.0</td>\n",
       "      <td>2</td>\n",
       "      <td>166.0</td>\n",
       "      <td>1</td>\n",
       "      <td>126.0</td>\n",
       "      <td>...</td>\n",
       "      <td>28198.0</td>\n",
       "      <td>2.0</td>\n",
       "      <td>1</td>\n",
       "      <td>1.000000</td>\n",
       "      <td>159.00</td>\n",
       "      <td>1.338947</td>\n",
       "      <td>1</td>\n",
       "      <td>1.000000</td>\n",
       "      <td>159.00</td>\n",
       "      <td>1.338947</td>\n",
       "    </tr>\n",
       "    <tr>\n",
       "      <td>7</td>\n",
       "      <td>86529</td>\n",
       "      <td>422.50</td>\n",
       "      <td>0</td>\n",
       "      <td>12695</td>\n",
       "      <td>490.0</td>\n",
       "      <td>150.0</td>\n",
       "      <td>2</td>\n",
       "      <td>226.0</td>\n",
       "      <td>1</td>\n",
       "      <td>325.0</td>\n",
       "      <td>...</td>\n",
       "      <td>76902.0</td>\n",
       "      <td>221.0</td>\n",
       "      <td>1</td>\n",
       "      <td>0.909465</td>\n",
       "      <td>422.50</td>\n",
       "      <td>3.459943</td>\n",
       "      <td>2</td>\n",
       "      <td>0.975717</td>\n",
       "      <td>466.50</td>\n",
       "      <td>2.003035</td>\n",
       "    </tr>\n",
       "    <tr>\n",
       "      <td>12</td>\n",
       "      <td>86564</td>\n",
       "      <td>50.00</td>\n",
       "      <td>0</td>\n",
       "      <td>3786</td>\n",
       "      <td>418.0</td>\n",
       "      <td>150.0</td>\n",
       "      <td>2</td>\n",
       "      <td>226.0</td>\n",
       "      <td>1</td>\n",
       "      <td>204.0</td>\n",
       "      <td>...</td>\n",
       "      <td>77069.0</td>\n",
       "      <td>1.0</td>\n",
       "      <td>1</td>\n",
       "      <td>1.000000</td>\n",
       "      <td>50.00</td>\n",
       "      <td>1.000000</td>\n",
       "      <td>1</td>\n",
       "      <td>1.000000</td>\n",
       "      <td>50.00</td>\n",
       "      <td>1.000000</td>\n",
       "    </tr>\n",
       "    <tr>\n",
       "      <td>24</td>\n",
       "      <td>86821</td>\n",
       "      <td>73.95</td>\n",
       "      <td>0</td>\n",
       "      <td>10112</td>\n",
       "      <td>360.0</td>\n",
       "      <td>150.0</td>\n",
       "      <td>2</td>\n",
       "      <td>166.0</td>\n",
       "      <td>1</td>\n",
       "      <td>264.0</td>\n",
       "      <td>...</td>\n",
       "      <td>72580.0</td>\n",
       "      <td>1.0</td>\n",
       "      <td>1</td>\n",
       "      <td>1.000000</td>\n",
       "      <td>73.95</td>\n",
       "      <td>1.000000</td>\n",
       "      <td>1</td>\n",
       "      <td>1.000000</td>\n",
       "      <td>73.95</td>\n",
       "      <td>1.000000</td>\n",
       "    </tr>\n",
       "  </tbody>\n",
       "</table>\n",
       "<p>5 rows × 445 columns</p>\n",
       "</div>"
      ],
      "text/plain": [
       "    TransactionDT  TransactionAmt  ProductCD  card1  card2  card3  card4  \\\n",
       "2           86469           59.00          0   4663  490.0  150.0      2   \n",
       "6           86522          159.00          0  12308  360.0  150.0      2   \n",
       "7           86529          422.50          0  12695  490.0  150.0      2   \n",
       "12          86564           50.00          0   3786  418.0  150.0      2   \n",
       "24          86821           73.95          0  10112  360.0  150.0      2   \n",
       "\n",
       "    card5  card6  addr1  ...  addr1_fq_enc  card_addr_fq  card_mv_hour_fq  \\\n",
       "2   166.0      1  330.0  ...       48387.0          13.0                1   \n",
       "6   166.0      1  126.0  ...       28198.0           2.0                1   \n",
       "7   226.0      1  325.0  ...       76902.0         221.0                1   \n",
       "12  226.0      1  204.0  ...       77069.0           1.0                1   \n",
       "24  166.0      1  264.0  ...       72580.0           1.0                1   \n",
       "\n",
       "    card_mv_hour_fq_ratio  card_hour_Amt  card_hour_Amt_ratio  card_mv_day_fq  \\\n",
       "2                1.000000          59.00             0.969659               1   \n",
       "6                1.000000         159.00             1.338947               1   \n",
       "7                0.909465         422.50             3.459943               2   \n",
       "12               1.000000          50.00             1.000000               1   \n",
       "24               1.000000          73.95             1.000000               1   \n",
       "\n",
       "    card_mv_day_fq_ratio  card_day_Amt  card_day_Amt_ratio  \n",
       "2               1.000000         59.00            0.969659  \n",
       "6               1.000000        159.00            1.338947  \n",
       "7               0.975717        466.50            2.003035  \n",
       "12              1.000000         50.00            1.000000  \n",
       "24              1.000000         73.95            1.000000  \n",
       "\n",
       "[5 rows x 445 columns]"
      ]
     },
     "execution_count": 394,
     "metadata": {},
     "output_type": "execute_result"
    }
   ],
   "source": [
    "features_train.head()"
   ]
  },
  {
   "cell_type": "code",
   "execution_count": 395,
   "metadata": {},
   "outputs": [],
   "source": [
    "with open('./data/feat%s_rm_pm_importance100.pickle'%(437), 'rb') as handle:\n",
    "    to_drop = pickle.load(handle)"
   ]
  },
  {
   "cell_type": "code",
   "execution_count": 396,
   "metadata": {},
   "outputs": [],
   "source": [
    "features_train = features_train.drop(list(to_drop),axis=1)"
   ]
  },
  {
   "cell_type": "code",
   "execution_count": 397,
   "metadata": {},
   "outputs": [],
   "source": [
    "categorical_raw = ['ProductCD', 'card2', 'card3', 'card4', 'card5','card6',\n",
    "              'addr1','addr2','P_email','R_email','M1','M2','M3',\n",
    "              'M4','M5','M6','M7','M8','M9','DeviceType','DeviceInfo','dow','hour',\n",
    "              'Device_name','Device_version','screen_width','screen_height',\n",
    "               'P_email_suffix','R_email_suffix','id_30_OS','id_30_version',\n",
    "               'is_card_freq_Device','is_wide','is_long','is_zero','is_win8_vista',\n",
    "               'is_windows_otheros','is_card_freq_pdc','is_card_freq_addr1'] #\n",
    "\n",
    "ids = [ 'id_%s'%(i) for i in range(12,39)]\n",
    "categorical_raw = categorical_raw + ids"
   ]
  },
  {
   "cell_type": "code",
   "execution_count": 398,
   "metadata": {},
   "outputs": [],
   "source": [
    "params = {'num_leaves': 491,\n",
    "          'min_child_weight': 0.03454472573214212,\n",
    "          'feature_fraction': 0.3797454081646243,\n",
    "          'bagging_fraction': 0.4181193142567742,\n",
    "          'min_data_in_leaf': 106,\n",
    "          'objective': 'binary',\n",
    "          'max_depth': -1,\n",
    "          'learning_rate': 0.006883242363721497,\n",
    "          \"boosting_type\": \"gbdt\",\n",
    "          \"bagging_seed\": 11,\n",
    "          \"metric\": 'auc',\n",
    "          \"verbosity\": -1,\n",
    "          'reg_alpha': 0.3899927210061127,\n",
    "          'reg_lambda': 0.6485237330340494,\n",
    "          'random_state': 47,\n",
    "          #'num_threads':10\n",
    "          #'is_unbalance':True\n",
    "          #'scale_pos_weight':9\n",
    "         }"
   ]
  },
  {
   "cell_type": "markdown",
   "metadata": {},
   "source": [
    "# Select Features"
   ]
  },
  {
   "cell_type": "code",
   "execution_count": 9,
   "metadata": {},
   "outputs": [],
   "source": [
    "def train_selector(params,train_num,features_train,labels_train,categorical,verbose_eval=500):\n",
    "    train_set = lgb.Dataset(features_train.iloc[0:train_num,:], label=labels_train.values[0:train_num],\n",
    "                       categorical_feature=categorical)\n",
    "    valid_set = lgb.Dataset(features_train.iloc[train_num:,:], label=labels_train.values[train_num:],\n",
    "                       categorical_feature=categorical)\n",
    "    valid_results = {}\n",
    "    model = lgb.train(params,train_set,num_boost_round = 10000, \n",
    "                   valid_sets = [train_set, valid_set],\n",
    "                    verbose_eval= verbose_eval,\n",
    "                    early_stopping_rounds = 500,\n",
    "                    evals_result=valid_results)\n",
    "    return model,valid_results"
   ]
  },
  {
   "cell_type": "code",
   "execution_count": 10,
   "metadata": {},
   "outputs": [],
   "source": [
    "def select_by_importance(model,features_train,importance=0,num_keep=None):\n",
    "    fi = pd.DataFrame({'feature': features_train.columns, \n",
    "                   'importance':model.feature_importance()})\n",
    "    fi = fi.sort_values('importance', ascending = False)\n",
    "    if num_keep != None:\n",
    "        to_drop = fi.iloc[num_keep:,:].feature\n",
    "    else:\n",
    "        to_drop = fi[fi.importance <= importance].feature\n",
    "    return to_drop\n",
    "    "
   ]
  },
  {
   "cell_type": "code",
   "execution_count": 11,
   "metadata": {},
   "outputs": [],
   "source": [
    "def fold_train_selector(Nfold,features_train,labels_train,categorical):\n",
    "    splits = Nfold\n",
    "    ave_auc = 0\n",
    "    valid_results = {}\n",
    "    \n",
    "    folds = KFold(n_splits = splits,random_state=RSEED)\n",
    "    \n",
    "    for fold_num, (trn_idx, val_idx) in enumerate(folds.split(features_train.values, \n",
    "                                                          labels_train.values)):\n",
    "        print(\"Fold {}\".format(fold_num))\n",
    "        train_df, y_train_df = features_train.iloc[trn_idx], labels_train.iloc[trn_idx]\n",
    "        valid_df, y_valid_df = features_train.iloc[val_idx], labels_train.iloc[val_idx]\n",
    "    \n",
    "        trn_data = lgb.Dataset(train_df, label=y_train_df,categorical_feature=categorical)\n",
    "        val_data = lgb.Dataset(valid_df, label=y_valid_df,categorical_feature=categorical)\n",
    "    \n",
    "        \n",
    "        clf = lgb.train(params,\n",
    "                        trn_data,\n",
    "                        10000,\n",
    "                        valid_sets = [trn_data, val_data],\n",
    "                        verbose_eval=500,\n",
    "                        early_stopping_rounds=500,\n",
    "                       evals_result=valid_results)\n",
    "        \n",
    "\n",
    "        pred = clf.predict(valid_df)\n",
    "        auc_score = roc_auc_score(y_valid_df, pred)\n",
    "        ave_auc += auc_score / splits\n",
    "        print( \"  auc = \", auc_score )\n",
    "    return ave_auc"
   ]
  },
  {
   "cell_type": "code",
   "execution_count": 12,
   "metadata": {},
   "outputs": [],
   "source": [
    "def permutation_importance(model,features_valid,labels_valid):\n",
    "    \"\"\"calculate permutation importance of features\n",
    "    Args:\n",
    "        model: the trained model.\n",
    "        features_valid: dataframe. The validation set of features.\n",
    "        labels_valid: labels of validation set.\n",
    "    Returns:\n",
    "        df_fimportance: dataframe. The importances of features.\n",
    "    \"\"\"\n",
    "    base_score = roc_auc_score(labels_valid, model.predict(features_valid))\n",
    "    list_fimportance = []\n",
    "    for col in features_valid.columns:\n",
    "        print(col)\n",
    "        save = features_valid[col].copy()\n",
    "        features_valid[col] = np.random.permutation(features_valid[col])\n",
    "        col_score = roc_auc_score(labels_valid, model.predict(features_valid))\n",
    "        features_valid[col] = save\n",
    "        list_fimportance.append([col,base_score - col_score])\n",
    "    return pd.DataFrame(list_fimportance,columns = ['feature','importance']) \n",
    "    "
   ]
  },
  {
   "cell_type": "markdown",
   "metadata": {},
   "source": [
    "## PCA V Features"
   ]
  },
  {
   "cell_type": "code",
   "execution_count": 15,
   "metadata": {},
   "outputs": [],
   "source": [
    "def check_missing(df,cols=None,axis=0):\n",
    "    \"\"\"check data frame column missing situation\n",
    "    Args\n",
    "    df: data frame.\n",
    "    cols: list. List of column names\n",
    "    axis: int. 0 means column and 1 means row\n",
    "    \n",
    "    Returns\n",
    "    missing_info: data frame. \n",
    "    \"\"\"\n",
    "    if cols != None:\n",
    "        df = df[cols]\n",
    "    missing_num = df.isnull().sum(axis).to_frame().rename(columns={0:'missing_num'})\n",
    "    missing_num['missing_percent'] = df.isnull().mean(axis)*100\n",
    "    return missing_num.sort_values(by='missing_percent',ascending = False) "
   ]
  },
  {
   "cell_type": "code",
   "execution_count": 246,
   "metadata": {},
   "outputs": [],
   "source": [
    "vfeatures = ['V'+str(i) for i in range(1,340)]"
   ]
  },
  {
   "cell_type": "code",
   "execution_count": 228,
   "metadata": {},
   "outputs": [
    {
     "name": "stderr",
     "output_type": "stream",
     "text": [
      "/home/jinpwa/anaconda3/lib/python3.6/site-packages/sklearn/utils/deprecation.py:66: DeprecationWarning: Class Imputer is deprecated; Imputer was deprecated in version 0.20 and will be removed in 0.22. Import impute.SimpleImputer from sklearn instead.\n",
      "  warnings.warn(msg, category=DeprecationWarning)\n"
     ]
    }
   ],
   "source": [
    "scaler = StandardScaler()\n",
    "scaler.fit(features_train[vfeatures])\n",
    "imp = Imputer(missing_values=np.nan , strategy='mean', axis=0)\n",
    "vfeature_impute = imp.fit_transform(features_train[vfeatures])"
   ]
  },
  {
   "cell_type": "code",
   "execution_count": 229,
   "metadata": {},
   "outputs": [],
   "source": [
    "vfeature_impute_scale = scaler.transform(vfeature_impute)\n",
    "vfeature_impute_scale = pd.DataFrame(vfeature_impute_scale, columns=vfeatures)"
   ]
  },
  {
   "cell_type": "code",
   "execution_count": 230,
   "metadata": {},
   "outputs": [],
   "source": [
    "pca = PCA()\n",
    "vfeature_pca = pca.fit_transform(vfeature_impute_scale)"
   ]
  },
  {
   "cell_type": "code",
   "execution_count": 231,
   "metadata": {},
   "outputs": [],
   "source": [
    "# check components number should be the same as total features\n",
    "components_total = len(pca.explained_variance_ratio_)\n",
    "# generate sequence for plotting\n",
    "components = np.arange(components_total)"
   ]
  },
  {
   "cell_type": "code",
   "execution_count": 232,
   "metadata": {},
   "outputs": [
    {
     "data": {
      "text/plain": [
       "Text(0.5,1,'Cumulative Explained Variance vs No. of Principal Components')"
      ]
     },
     "execution_count": 232,
     "metadata": {},
     "output_type": "execute_result"
    },
    {
     "data": {
      "image/png": "[encoded data removed]",
      "text/plain": [
       "<Figure size 1080x360 with 2 Axes>"
      ]
     },
     "metadata": {},
     "output_type": "display_data"
    }
   ],
   "source": [
    "fig, ax1 = plt.subplots(figsize=(15,5))\n",
    "\n",
    "ax1.bar(components[0:100],pca.explained_variance_ratio_[0:100])\n",
    "ax1.set_ylabel('Explained Variance', color=\"blue\")\n",
    "ax1.set_xlabel('Number of Components')\n",
    "\n",
    "ax2 = ax1.twinx() \n",
    "ax2.plot(np.cumsum(pca.explained_variance_ratio_[0:100]), color=\"red\",marker='o')\n",
    "ax2.set_ylabel('Cumulative Explained Variance', color=\"red\")\n",
    "plt.title(\"Cumulative Explained Variance vs No. of Principal Components\")"
   ]
  },
  {
   "cell_type": "code",
   "execution_count": 233,
   "metadata": {},
   "outputs": [
    {
     "data": {
      "text/plain": [
       "0.7982661563977428"
      ]
     },
     "execution_count": 233,
     "metadata": {},
     "output_type": "execute_result"
    }
   ],
   "source": [
    "np.cumsum(pca.explained_variance_ratio_[:30])[-1]"
   ]
  },
  {
   "cell_type": "code",
   "execution_count": 234,
   "metadata": {},
   "outputs": [],
   "source": [
    "# Re-apply PCA to the data while selecting for number of components to retain.\n",
    "pca_50 = PCA(n_components=30)\n",
    "vfeature_pca_50 = pca_50.fit_transform(vfeature_impute_scale)\n",
    "vfeature_pca_50_df = pd.DataFrame(vfeature_pca_50,columns= ['PCA'+str(i) for i in range(1,31)])"
   ]
  },
  {
   "cell_type": "code",
   "execution_count": 235,
   "metadata": {},
   "outputs": [
    {
     "data": {
      "text/html": [
       "<div>\n",
       "<style scoped>\n",
       "    .dataframe tbody tr th:only-of-type {\n",
       "        vertical-align: middle;\n",
       "    }\n",
       "\n",
       "    .dataframe tbody tr th {\n",
       "        vertical-align: top;\n",
       "    }\n",
       "\n",
       "    .dataframe thead th {\n",
       "        text-align: right;\n",
       "    }\n",
       "</style>\n",
       "<table border=\"1\" class=\"dataframe\">\n",
       "  <thead>\n",
       "    <tr style=\"text-align: right;\">\n",
       "      <th></th>\n",
       "      <th>PCA1</th>\n",
       "      <th>PCA2</th>\n",
       "      <th>PCA3</th>\n",
       "      <th>PCA4</th>\n",
       "      <th>PCA5</th>\n",
       "      <th>PCA6</th>\n",
       "      <th>PCA7</th>\n",
       "      <th>PCA8</th>\n",
       "      <th>PCA9</th>\n",
       "      <th>PCA10</th>\n",
       "      <th>...</th>\n",
       "      <th>PCA21</th>\n",
       "      <th>PCA22</th>\n",
       "      <th>PCA23</th>\n",
       "      <th>PCA24</th>\n",
       "      <th>PCA25</th>\n",
       "      <th>PCA26</th>\n",
       "      <th>PCA27</th>\n",
       "      <th>PCA28</th>\n",
       "      <th>PCA29</th>\n",
       "      <th>PCA30</th>\n",
       "    </tr>\n",
       "  </thead>\n",
       "  <tbody>\n",
       "    <tr>\n",
       "      <td>0</td>\n",
       "      <td>-0.989156</td>\n",
       "      <td>-2.226801</td>\n",
       "      <td>-0.018494</td>\n",
       "      <td>0.525163</td>\n",
       "      <td>-2.934965</td>\n",
       "      <td>-0.202244</td>\n",
       "      <td>0.926352</td>\n",
       "      <td>0.015712</td>\n",
       "      <td>1.389269</td>\n",
       "      <td>0.546977</td>\n",
       "      <td>...</td>\n",
       "      <td>-0.042120</td>\n",
       "      <td>-0.151957</td>\n",
       "      <td>0.200363</td>\n",
       "      <td>0.184439</td>\n",
       "      <td>0.054509</td>\n",
       "      <td>-0.057608</td>\n",
       "      <td>0.059484</td>\n",
       "      <td>0.103499</td>\n",
       "      <td>-0.206658</td>\n",
       "      <td>-0.022843</td>\n",
       "    </tr>\n",
       "    <tr>\n",
       "      <td>1</td>\n",
       "      <td>-0.857013</td>\n",
       "      <td>-2.256714</td>\n",
       "      <td>-0.702596</td>\n",
       "      <td>-0.285532</td>\n",
       "      <td>-2.148714</td>\n",
       "      <td>1.467798</td>\n",
       "      <td>2.097787</td>\n",
       "      <td>-1.888470</td>\n",
       "      <td>-0.189261</td>\n",
       "      <td>1.214213</td>\n",
       "      <td>...</td>\n",
       "      <td>-0.666675</td>\n",
       "      <td>-1.936465</td>\n",
       "      <td>0.818595</td>\n",
       "      <td>-0.102821</td>\n",
       "      <td>0.158807</td>\n",
       "      <td>-1.061569</td>\n",
       "      <td>0.615490</td>\n",
       "      <td>-0.198206</td>\n",
       "      <td>-0.079369</td>\n",
       "      <td>-0.812186</td>\n",
       "    </tr>\n",
       "    <tr>\n",
       "      <td>2</td>\n",
       "      <td>-0.792732</td>\n",
       "      <td>0.664346</td>\n",
       "      <td>-0.960204</td>\n",
       "      <td>-0.625495</td>\n",
       "      <td>-0.265246</td>\n",
       "      <td>0.253286</td>\n",
       "      <td>-0.057416</td>\n",
       "      <td>0.275557</td>\n",
       "      <td>0.272953</td>\n",
       "      <td>0.687701</td>\n",
       "      <td>...</td>\n",
       "      <td>-0.149644</td>\n",
       "      <td>0.064513</td>\n",
       "      <td>0.045087</td>\n",
       "      <td>-0.109818</td>\n",
       "      <td>0.353689</td>\n",
       "      <td>1.237981</td>\n",
       "      <td>-1.423908</td>\n",
       "      <td>0.557502</td>\n",
       "      <td>0.187581</td>\n",
       "      <td>-0.060044</td>\n",
       "    </tr>\n",
       "    <tr>\n",
       "      <td>3</td>\n",
       "      <td>-0.989156</td>\n",
       "      <td>-2.226801</td>\n",
       "      <td>-0.018494</td>\n",
       "      <td>0.525163</td>\n",
       "      <td>-2.934965</td>\n",
       "      <td>-0.202244</td>\n",
       "      <td>0.926352</td>\n",
       "      <td>0.015712</td>\n",
       "      <td>1.389269</td>\n",
       "      <td>0.546977</td>\n",
       "      <td>...</td>\n",
       "      <td>-0.042120</td>\n",
       "      <td>-0.151957</td>\n",
       "      <td>0.200363</td>\n",
       "      <td>0.184439</td>\n",
       "      <td>0.054509</td>\n",
       "      <td>-0.057608</td>\n",
       "      <td>0.059484</td>\n",
       "      <td>0.103499</td>\n",
       "      <td>-0.206658</td>\n",
       "      <td>-0.022843</td>\n",
       "    </tr>\n",
       "    <tr>\n",
       "      <td>4</td>\n",
       "      <td>1.479385</td>\n",
       "      <td>14.576917</td>\n",
       "      <td>-2.105395</td>\n",
       "      <td>-0.175172</td>\n",
       "      <td>0.202283</td>\n",
       "      <td>1.768197</td>\n",
       "      <td>-0.209557</td>\n",
       "      <td>0.754963</td>\n",
       "      <td>0.309553</td>\n",
       "      <td>-0.382630</td>\n",
       "      <td>...</td>\n",
       "      <td>0.318539</td>\n",
       "      <td>-0.196589</td>\n",
       "      <td>-0.153820</td>\n",
       "      <td>0.914797</td>\n",
       "      <td>-0.733626</td>\n",
       "      <td>0.134800</td>\n",
       "      <td>-0.174371</td>\n",
       "      <td>-0.233579</td>\n",
       "      <td>-0.016705</td>\n",
       "      <td>0.302301</td>\n",
       "    </tr>\n",
       "  </tbody>\n",
       "</table>\n",
       "<p>5 rows × 30 columns</p>\n",
       "</div>"
      ],
      "text/plain": [
       "       PCA1       PCA2      PCA3      PCA4      PCA5      PCA6      PCA7  \\\n",
       "0 -0.989156  -2.226801 -0.018494  0.525163 -2.934965 -0.202244  0.926352   \n",
       "1 -0.857013  -2.256714 -0.702596 -0.285532 -2.148714  1.467798  2.097787   \n",
       "2 -0.792732   0.664346 -0.960204 -0.625495 -0.265246  0.253286 -0.057416   \n",
       "3 -0.989156  -2.226801 -0.018494  0.525163 -2.934965 -0.202244  0.926352   \n",
       "4  1.479385  14.576917 -2.105395 -0.175172  0.202283  1.768197 -0.209557   \n",
       "\n",
       "       PCA8      PCA9     PCA10  ...     PCA21     PCA22     PCA23     PCA24  \\\n",
       "0  0.015712  1.389269  0.546977  ... -0.042120 -0.151957  0.200363  0.184439   \n",
       "1 -1.888470 -0.189261  1.214213  ... -0.666675 -1.936465  0.818595 -0.102821   \n",
       "2  0.275557  0.272953  0.687701  ... -0.149644  0.064513  0.045087 -0.109818   \n",
       "3  0.015712  1.389269  0.546977  ... -0.042120 -0.151957  0.200363  0.184439   \n",
       "4  0.754963  0.309553 -0.382630  ...  0.318539 -0.196589 -0.153820  0.914797   \n",
       "\n",
       "      PCA25     PCA26     PCA27     PCA28     PCA29     PCA30  \n",
       "0  0.054509 -0.057608  0.059484  0.103499 -0.206658 -0.022843  \n",
       "1  0.158807 -1.061569  0.615490 -0.198206 -0.079369 -0.812186  \n",
       "2  0.353689  1.237981 -1.423908  0.557502  0.187581 -0.060044  \n",
       "3  0.054509 -0.057608  0.059484  0.103499 -0.206658 -0.022843  \n",
       "4 -0.733626  0.134800 -0.174371 -0.233579 -0.016705  0.302301  \n",
       "\n",
       "[5 rows x 30 columns]"
      ]
     },
     "execution_count": 235,
     "metadata": {},
     "output_type": "execute_result"
    }
   ],
   "source": [
    "vfeature_pca_50_df.head()"
   ]
  },
  {
   "cell_type": "code",
   "execution_count": 236,
   "metadata": {},
   "outputs": [],
   "source": [
    "vfeature_pca_50_df.reset_index(drop=True,inplace=True)\n",
    "features_train.reset_index(drop=True,inplace=True)"
   ]
  },
  {
   "cell_type": "code",
   "execution_count": 247,
   "metadata": {},
   "outputs": [],
   "source": [
    "features_train.drop(vfeatures,axis=1,inplace=True)"
   ]
  },
  {
   "cell_type": "code",
   "execution_count": 238,
   "metadata": {},
   "outputs": [],
   "source": [
    "features_train = features_train.join(vfeature_pca_50_df)"
   ]
  },
  {
   "cell_type": "code",
   "execution_count": 239,
   "metadata": {},
   "outputs": [
    {
     "data": {
      "text/html": [
       "<div>\n",
       "<style scoped>\n",
       "    .dataframe tbody tr th:only-of-type {\n",
       "        vertical-align: middle;\n",
       "    }\n",
       "\n",
       "    .dataframe tbody tr th {\n",
       "        vertical-align: top;\n",
       "    }\n",
       "\n",
       "    .dataframe thead th {\n",
       "        text-align: right;\n",
       "    }\n",
       "</style>\n",
       "<table border=\"1\" class=\"dataframe\">\n",
       "  <thead>\n",
       "    <tr style=\"text-align: right;\">\n",
       "      <th></th>\n",
       "      <th>TransactionDT</th>\n",
       "      <th>TransactionAmt</th>\n",
       "      <th>ProductCD</th>\n",
       "      <th>card1</th>\n",
       "      <th>card2</th>\n",
       "      <th>card3</th>\n",
       "      <th>card4</th>\n",
       "      <th>card5</th>\n",
       "      <th>card6</th>\n",
       "      <th>addr1</th>\n",
       "      <th>...</th>\n",
       "      <th>PCA21</th>\n",
       "      <th>PCA22</th>\n",
       "      <th>PCA23</th>\n",
       "      <th>PCA24</th>\n",
       "      <th>PCA25</th>\n",
       "      <th>PCA26</th>\n",
       "      <th>PCA27</th>\n",
       "      <th>PCA28</th>\n",
       "      <th>PCA29</th>\n",
       "      <th>PCA30</th>\n",
       "    </tr>\n",
       "  </thead>\n",
       "  <tbody>\n",
       "    <tr>\n",
       "      <td>0</td>\n",
       "      <td>14765789</td>\n",
       "      <td>34.500</td>\n",
       "      <td>0</td>\n",
       "      <td>13743</td>\n",
       "      <td>555.0</td>\n",
       "      <td>150.0</td>\n",
       "      <td>2</td>\n",
       "      <td>226.0</td>\n",
       "      <td>1</td>\n",
       "      <td>330.0</td>\n",
       "      <td>...</td>\n",
       "      <td>-0.042120</td>\n",
       "      <td>-0.151957</td>\n",
       "      <td>0.200363</td>\n",
       "      <td>0.184439</td>\n",
       "      <td>0.054509</td>\n",
       "      <td>-0.057608</td>\n",
       "      <td>0.059484</td>\n",
       "      <td>0.103499</td>\n",
       "      <td>-0.206658</td>\n",
       "      <td>-0.022843</td>\n",
       "    </tr>\n",
       "    <tr>\n",
       "      <td>1</td>\n",
       "      <td>6708681</td>\n",
       "      <td>92.000</td>\n",
       "      <td>0</td>\n",
       "      <td>9228</td>\n",
       "      <td>143.0</td>\n",
       "      <td>150.0</td>\n",
       "      <td>2</td>\n",
       "      <td>226.0</td>\n",
       "      <td>1</td>\n",
       "      <td>143.0</td>\n",
       "      <td>...</td>\n",
       "      <td>-0.666675</td>\n",
       "      <td>-1.936465</td>\n",
       "      <td>0.818595</td>\n",
       "      <td>-0.102821</td>\n",
       "      <td>0.158807</td>\n",
       "      <td>-1.061569</td>\n",
       "      <td>0.615490</td>\n",
       "      <td>-0.198206</td>\n",
       "      <td>-0.079369</td>\n",
       "      <td>-0.812186</td>\n",
       "    </tr>\n",
       "    <tr>\n",
       "      <td>2</td>\n",
       "      <td>12109217</td>\n",
       "      <td>50.000</td>\n",
       "      <td>1</td>\n",
       "      <td>2803</td>\n",
       "      <td>100.0</td>\n",
       "      <td>150.0</td>\n",
       "      <td>2</td>\n",
       "      <td>226.0</td>\n",
       "      <td>1</td>\n",
       "      <td>299.0</td>\n",
       "      <td>...</td>\n",
       "      <td>-0.149644</td>\n",
       "      <td>0.064513</td>\n",
       "      <td>0.045087</td>\n",
       "      <td>-0.109818</td>\n",
       "      <td>0.353689</td>\n",
       "      <td>1.237981</td>\n",
       "      <td>-1.423908</td>\n",
       "      <td>0.557502</td>\n",
       "      <td>0.187581</td>\n",
       "      <td>-0.060044</td>\n",
       "    </tr>\n",
       "    <tr>\n",
       "      <td>3</td>\n",
       "      <td>11415306</td>\n",
       "      <td>39.000</td>\n",
       "      <td>0</td>\n",
       "      <td>18323</td>\n",
       "      <td>555.0</td>\n",
       "      <td>150.0</td>\n",
       "      <td>2</td>\n",
       "      <td>226.0</td>\n",
       "      <td>0</td>\n",
       "      <td>181.0</td>\n",
       "      <td>...</td>\n",
       "      <td>-0.042120</td>\n",
       "      <td>-0.151957</td>\n",
       "      <td>0.200363</td>\n",
       "      <td>0.184439</td>\n",
       "      <td>0.054509</td>\n",
       "      <td>-0.057608</td>\n",
       "      <td>0.059484</td>\n",
       "      <td>0.103499</td>\n",
       "      <td>-0.206658</td>\n",
       "      <td>-0.022843</td>\n",
       "    </tr>\n",
       "    <tr>\n",
       "      <td>4</td>\n",
       "      <td>9867694</td>\n",
       "      <td>66.945</td>\n",
       "      <td>2</td>\n",
       "      <td>4767</td>\n",
       "      <td>408.0</td>\n",
       "      <td>185.0</td>\n",
       "      <td>1</td>\n",
       "      <td>224.0</td>\n",
       "      <td>1</td>\n",
       "      <td>NaN</td>\n",
       "      <td>...</td>\n",
       "      <td>0.318539</td>\n",
       "      <td>-0.196589</td>\n",
       "      <td>-0.153820</td>\n",
       "      <td>0.914797</td>\n",
       "      <td>-0.733626</td>\n",
       "      <td>0.134800</td>\n",
       "      <td>-0.174371</td>\n",
       "      <td>-0.233579</td>\n",
       "      <td>-0.016705</td>\n",
       "      <td>0.302301</td>\n",
       "    </tr>\n",
       "  </tbody>\n",
       "</table>\n",
       "<p>5 rows × 146 columns</p>\n",
       "</div>"
      ],
      "text/plain": [
       "   TransactionDT  TransactionAmt  ProductCD  card1  card2  card3  card4  \\\n",
       "0       14765789          34.500          0  13743  555.0  150.0      2   \n",
       "1        6708681          92.000          0   9228  143.0  150.0      2   \n",
       "2       12109217          50.000          1   2803  100.0  150.0      2   \n",
       "3       11415306          39.000          0  18323  555.0  150.0      2   \n",
       "4        9867694          66.945          2   4767  408.0  185.0      1   \n",
       "\n",
       "   card5  card6  addr1  ...     PCA21     PCA22     PCA23     PCA24     PCA25  \\\n",
       "0  226.0      1  330.0  ... -0.042120 -0.151957  0.200363  0.184439  0.054509   \n",
       "1  226.0      1  143.0  ... -0.666675 -1.936465  0.818595 -0.102821  0.158807   \n",
       "2  226.0      1  299.0  ... -0.149644  0.064513  0.045087 -0.109818  0.353689   \n",
       "3  226.0      0  181.0  ... -0.042120 -0.151957  0.200363  0.184439  0.054509   \n",
       "4  224.0      1    NaN  ...  0.318539 -0.196589 -0.153820  0.914797 -0.733626   \n",
       "\n",
       "      PCA26     PCA27     PCA28     PCA29     PCA30  \n",
       "0 -0.057608  0.059484  0.103499 -0.206658 -0.022843  \n",
       "1 -1.061569  0.615490 -0.198206 -0.079369 -0.812186  \n",
       "2  1.237981 -1.423908  0.557502  0.187581 -0.060044  \n",
       "3 -0.057608  0.059484  0.103499 -0.206658 -0.022843  \n",
       "4  0.134800 -0.174371 -0.233579 -0.016705  0.302301  \n",
       "\n",
       "[5 rows x 146 columns]"
      ]
     },
     "execution_count": 239,
     "metadata": {},
     "output_type": "execute_result"
    }
   ],
   "source": [
    "features_train.head()"
   ]
  },
  {
   "cell_type": "markdown",
   "metadata": {},
   "source": [
    "## Train with all feature set"
   ]
  },
  {
   "cell_type": "code",
   "execution_count": 237,
   "metadata": {},
   "outputs": [
    {
     "name": "stderr",
     "output_type": "stream",
     "text": [
      "/home/jinpwa/anaconda3/lib/python3.6/site-packages/lightgbm/basic.py:1247: UserWarning: Using categorical_feature in Dataset.\n",
      "  warnings.warn('Using categorical_feature in Dataset.')\n"
     ]
    },
    {
     "name": "stdout",
     "output_type": "stream",
     "text": [
      "Training until validation scores don't improve for 500 rounds.\n",
      "[500]\ttraining's auc: 0.985002\tvalid_1's auc: 0.91967\n",
      "[1000]\ttraining's auc: 0.997549\tvalid_1's auc: 0.928057\n",
      "[1500]\ttraining's auc: 0.999682\tvalid_1's auc: 0.929115\n",
      "[2000]\ttraining's auc: 0.999971\tvalid_1's auc: 0.929537\n",
      "[2500]\ttraining's auc: 0.999998\tvalid_1's auc: 0.929752\n",
      "[3000]\ttraining's auc: 1\tvalid_1's auc: 0.929921\n",
      "[3500]\ttraining's auc: 1\tvalid_1's auc: 0.929913\n",
      "Early stopping, best iteration is:\n",
      "[3134]\ttraining's auc: 1\tvalid_1's auc: 0.929974\n"
     ]
    }
   ],
   "source": [
    "train_num = int(138771*0.8)#160000\n",
    "#features_train = features_train.drop(['C8'],axis=1)\n",
    "categorical = list(set(categorical_raw).intersection(features_train.columns))\n",
    "model,valid_results = train_selector(params,train_num,features_train,labels_train,\n",
    "                                     categorical,verbose_eval=500)"
   ]
  },
  {
   "cell_type": "code",
   "execution_count": 238,
   "metadata": {},
   "outputs": [
    {
     "data": {
      "text/plain": [
       "3134"
      ]
     },
     "execution_count": 238,
     "metadata": {},
     "output_type": "execute_result"
    }
   ],
   "source": [
    "model.num_trees()"
   ]
  },
  {
   "cell_type": "markdown",
   "metadata": {},
   "source": [
    "## Permutation Importance"
   ]
  },
  {
   "cell_type": "code",
   "execution_count": 259,
   "metadata": {},
   "outputs": [
    {
     "data": {
      "text/plain": [
       "<matplotlib.axes._subplots.AxesSubplot at 0x7f5614b2fa90>"
      ]
     },
     "execution_count": 259,
     "metadata": {},
     "output_type": "execute_result"
    },
    {
     "data": {
      "image/png": "[encoded data removed]",
      "text/plain": [
       "<Figure size 864x720 with 1 Axes>"
      ]
     },
     "metadata": {},
     "output_type": "display_data"
    }
   ],
   "source": [
    "lgb.plot_importance(model, max_num_features=50,figsize=(12,10))"
   ]
  },
  {
   "cell_type": "code",
   "execution_count": null,
   "metadata": {},
   "outputs": [],
   "source": [
    "fi_importance = permutation_importance(model,features_train.iloc[train_num:],\n",
    "                                       labels_train.iloc[train_num:])"
   ]
  },
  {
   "cell_type": "code",
   "execution_count": null,
   "metadata": {},
   "outputs": [
    {
     "data": {
      "text/html": [
       "<div>\n",
       "<style scoped>\n",
       "    .dataframe tbody tr th:only-of-type {\n",
       "        vertical-align: middle;\n",
       "    }\n",
       "\n",
       "    .dataframe tbody tr th {\n",
       "        vertical-align: top;\n",
       "    }\n",
       "\n",
       "    .dataframe thead th {\n",
       "        text-align: right;\n",
       "    }\n",
       "</style>\n",
       "<table border=\"1\" class=\"dataframe\">\n",
       "  <thead>\n",
       "    <tr style=\"text-align: right;\">\n",
       "      <th></th>\n",
       "      <th>feature</th>\n",
       "      <th>importance</th>\n",
       "    </tr>\n",
       "  </thead>\n",
       "  <tbody>\n",
       "    <tr>\n",
       "      <td>4</td>\n",
       "      <td>card2</td>\n",
       "      <td>0.019146</td>\n",
       "    </tr>\n",
       "    <tr>\n",
       "      <td>25</td>\n",
       "      <td>C13</td>\n",
       "      <td>0.011033</td>\n",
       "    </tr>\n",
       "    <tr>\n",
       "      <td>9</td>\n",
       "      <td>addr1</td>\n",
       "      <td>0.008327</td>\n",
       "    </tr>\n",
       "    <tr>\n",
       "      <td>13</td>\n",
       "      <td>C1</td>\n",
       "      <td>0.006357</td>\n",
       "    </tr>\n",
       "    <tr>\n",
       "      <td>23</td>\n",
       "      <td>C11</td>\n",
       "      <td>0.004418</td>\n",
       "    </tr>\n",
       "    <tr>\n",
       "      <td>429</td>\n",
       "      <td>P_email</td>\n",
       "      <td>0.004311</td>\n",
       "    </tr>\n",
       "    <tr>\n",
       "      <td>434</td>\n",
       "      <td>card1_fq_enc</td>\n",
       "      <td>0.003405</td>\n",
       "    </tr>\n",
       "    <tr>\n",
       "      <td>433</td>\n",
       "      <td>pdc_amt_ratio</td>\n",
       "      <td>0.002975</td>\n",
       "    </tr>\n",
       "    <tr>\n",
       "      <td>3</td>\n",
       "      <td>card1</td>\n",
       "      <td>0.002462</td>\n",
       "    </tr>\n",
       "    <tr>\n",
       "      <td>26</td>\n",
       "      <td>C14</td>\n",
       "      <td>0.002349</td>\n",
       "    </tr>\n",
       "    <tr>\n",
       "      <td>14</td>\n",
       "      <td>C2</td>\n",
       "      <td>0.002336</td>\n",
       "    </tr>\n",
       "    <tr>\n",
       "      <td>46</td>\n",
       "      <td>M5</td>\n",
       "      <td>0.002323</td>\n",
       "    </tr>\n",
       "    <tr>\n",
       "      <td>428</td>\n",
       "      <td>DeviceInfo</td>\n",
       "      <td>0.002084</td>\n",
       "    </tr>\n",
       "    <tr>\n",
       "      <td>409</td>\n",
       "      <td>id_20</td>\n",
       "      <td>0.001986</td>\n",
       "    </tr>\n",
       "    <tr>\n",
       "      <td>28</td>\n",
       "      <td>D2</td>\n",
       "      <td>0.001932</td>\n",
       "    </tr>\n",
       "    <tr>\n",
       "      <td>27</td>\n",
       "      <td>D1</td>\n",
       "      <td>0.001796</td>\n",
       "    </tr>\n",
       "    <tr>\n",
       "      <td>7</td>\n",
       "      <td>card5</td>\n",
       "      <td>0.001789</td>\n",
       "    </tr>\n",
       "    <tr>\n",
       "      <td>18</td>\n",
       "      <td>C6</td>\n",
       "      <td>0.001767</td>\n",
       "    </tr>\n",
       "    <tr>\n",
       "      <td>41</td>\n",
       "      <td>D15</td>\n",
       "      <td>0.001715</td>\n",
       "    </tr>\n",
       "    <tr>\n",
       "      <td>408</td>\n",
       "      <td>id_19</td>\n",
       "      <td>0.001672</td>\n",
       "    </tr>\n",
       "    <tr>\n",
       "      <td>1</td>\n",
       "      <td>TransactionAmt</td>\n",
       "      <td>0.001474</td>\n",
       "    </tr>\n",
       "    <tr>\n",
       "      <td>45</td>\n",
       "      <td>M4</td>\n",
       "      <td>0.001470</td>\n",
       "    </tr>\n",
       "    <tr>\n",
       "      <td>430</td>\n",
       "      <td>R_email</td>\n",
       "      <td>0.001427</td>\n",
       "    </tr>\n",
       "    <tr>\n",
       "      <td>308</td>\n",
       "      <td>V258</td>\n",
       "      <td>0.001355</td>\n",
       "    </tr>\n",
       "    <tr>\n",
       "      <td>8</td>\n",
       "      <td>card6</td>\n",
       "      <td>0.001355</td>\n",
       "    </tr>\n",
       "    <tr>\n",
       "      <td>47</td>\n",
       "      <td>M6</td>\n",
       "      <td>0.001202</td>\n",
       "    </tr>\n",
       "    <tr>\n",
       "      <td>36</td>\n",
       "      <td>D10</td>\n",
       "      <td>0.000875</td>\n",
       "    </tr>\n",
       "    <tr>\n",
       "      <td>37</td>\n",
       "      <td>D11</td>\n",
       "      <td>0.000861</td>\n",
       "    </tr>\n",
       "    <tr>\n",
       "      <td>30</td>\n",
       "      <td>D4</td>\n",
       "      <td>0.000743</td>\n",
       "    </tr>\n",
       "    <tr>\n",
       "      <td>17</td>\n",
       "      <td>C5</td>\n",
       "      <td>0.000651</td>\n",
       "    </tr>\n",
       "    <tr>\n",
       "      <td>11</td>\n",
       "      <td>dist1</td>\n",
       "      <td>0.000627</td>\n",
       "    </tr>\n",
       "    <tr>\n",
       "      <td>362</td>\n",
       "      <td>V312</td>\n",
       "      <td>0.000622</td>\n",
       "    </tr>\n",
       "    <tr>\n",
       "      <td>344</td>\n",
       "      <td>V294</td>\n",
       "      <td>0.000581</td>\n",
       "    </tr>\n",
       "    <tr>\n",
       "      <td>137</td>\n",
       "      <td>V87</td>\n",
       "      <td>0.000575</td>\n",
       "    </tr>\n",
       "    <tr>\n",
       "      <td>419</td>\n",
       "      <td>id_30</td>\n",
       "      <td>0.000397</td>\n",
       "    </tr>\n",
       "    <tr>\n",
       "      <td>21</td>\n",
       "      <td>C9</td>\n",
       "      <td>0.000372</td>\n",
       "    </tr>\n",
       "    <tr>\n",
       "      <td>120</td>\n",
       "      <td>V70</td>\n",
       "      <td>0.000362</td>\n",
       "    </tr>\n",
       "    <tr>\n",
       "      <td>367</td>\n",
       "      <td>V317</td>\n",
       "      <td>0.000355</td>\n",
       "    </tr>\n",
       "    <tr>\n",
       "      <td>2</td>\n",
       "      <td>ProductCD</td>\n",
       "      <td>0.000320</td>\n",
       "    </tr>\n",
       "    <tr>\n",
       "      <td>104</td>\n",
       "      <td>V54</td>\n",
       "      <td>0.000317</td>\n",
       "    </tr>\n",
       "    <tr>\n",
       "      <td>133</td>\n",
       "      <td>V83</td>\n",
       "      <td>0.000311</td>\n",
       "    </tr>\n",
       "    <tr>\n",
       "      <td>391</td>\n",
       "      <td>id_02</td>\n",
       "      <td>0.000298</td>\n",
       "    </tr>\n",
       "    <tr>\n",
       "      <td>34</td>\n",
       "      <td>D8</td>\n",
       "      <td>0.000286</td>\n",
       "    </tr>\n",
       "    <tr>\n",
       "      <td>63</td>\n",
       "      <td>V13</td>\n",
       "      <td>0.000279</td>\n",
       "    </tr>\n",
       "    <tr>\n",
       "      <td>390</td>\n",
       "      <td>id_01</td>\n",
       "      <td>0.000272</td>\n",
       "    </tr>\n",
       "    <tr>\n",
       "      <td>181</td>\n",
       "      <td>V131</td>\n",
       "      <td>0.000259</td>\n",
       "    </tr>\n",
       "    <tr>\n",
       "      <td>132</td>\n",
       "      <td>V82</td>\n",
       "      <td>0.000251</td>\n",
       "    </tr>\n",
       "    <tr>\n",
       "      <td>22</td>\n",
       "      <td>C10</td>\n",
       "      <td>0.000236</td>\n",
       "    </tr>\n",
       "    <tr>\n",
       "      <td>112</td>\n",
       "      <td>V62</td>\n",
       "      <td>0.000229</td>\n",
       "    </tr>\n",
       "    <tr>\n",
       "      <td>215</td>\n",
       "      <td>V165</td>\n",
       "      <td>0.000223</td>\n",
       "    </tr>\n",
       "  </tbody>\n",
       "</table>\n",
       "</div>"
      ],
      "text/plain": [
       "            feature  importance\n",
       "4             card2    0.019146\n",
       "25              C13    0.011033\n",
       "9             addr1    0.008327\n",
       "13               C1    0.006357\n",
       "23              C11    0.004418\n",
       "429         P_email    0.004311\n",
       "434    card1_fq_enc    0.003405\n",
       "433   pdc_amt_ratio    0.002975\n",
       "3             card1    0.002462\n",
       "26              C14    0.002349\n",
       "14               C2    0.002336\n",
       "46               M5    0.002323\n",
       "428      DeviceInfo    0.002084\n",
       "409           id_20    0.001986\n",
       "28               D2    0.001932\n",
       "27               D1    0.001796\n",
       "7             card5    0.001789\n",
       "18               C6    0.001767\n",
       "41              D15    0.001715\n",
       "408           id_19    0.001672\n",
       "1    TransactionAmt    0.001474\n",
       "45               M4    0.001470\n",
       "430         R_email    0.001427\n",
       "308            V258    0.001355\n",
       "8             card6    0.001355\n",
       "47               M6    0.001202\n",
       "36              D10    0.000875\n",
       "37              D11    0.000861\n",
       "30               D4    0.000743\n",
       "17               C5    0.000651\n",
       "11            dist1    0.000627\n",
       "362            V312    0.000622\n",
       "344            V294    0.000581\n",
       "137             V87    0.000575\n",
       "419           id_30    0.000397\n",
       "21               C9    0.000372\n",
       "120             V70    0.000362\n",
       "367            V317    0.000355\n",
       "2         ProductCD    0.000320\n",
       "104             V54    0.000317\n",
       "133             V83    0.000311\n",
       "391           id_02    0.000298\n",
       "34               D8    0.000286\n",
       "63              V13    0.000279\n",
       "390           id_01    0.000272\n",
       "181            V131    0.000259\n",
       "132             V82    0.000251\n",
       "22              C10    0.000236\n",
       "112             V62    0.000229\n",
       "215            V165    0.000223"
      ]
     },
     "execution_count": 251,
     "metadata": {},
     "output_type": "execute_result"
    }
   ],
   "source": [
    "fi_importance.sort_values(by='importance',ascending=False)[0:50]"
   ]
  },
  {
   "cell_type": "code",
   "execution_count": 260,
   "metadata": {},
   "outputs": [
    {
     "data": {
      "text/html": [
       "<div>\n",
       "<style scoped>\n",
       "    .dataframe tbody tr th:only-of-type {\n",
       "        vertical-align: middle;\n",
       "    }\n",
       "\n",
       "    .dataframe tbody tr th {\n",
       "        vertical-align: top;\n",
       "    }\n",
       "\n",
       "    .dataframe thead th {\n",
       "        text-align: right;\n",
       "    }\n",
       "</style>\n",
       "<table border=\"1\" class=\"dataframe\">\n",
       "  <thead>\n",
       "    <tr style=\"text-align: right;\">\n",
       "      <th></th>\n",
       "      <th>feature</th>\n",
       "      <th>importance</th>\n",
       "    </tr>\n",
       "  </thead>\n",
       "  <tbody>\n",
       "    <tr>\n",
       "      <td>366</td>\n",
       "      <td>V316</td>\n",
       "      <td>-0.000120</td>\n",
       "    </tr>\n",
       "    <tr>\n",
       "      <td>343</td>\n",
       "      <td>V293</td>\n",
       "      <td>-0.000121</td>\n",
       "    </tr>\n",
       "    <tr>\n",
       "      <td>360</td>\n",
       "      <td>V310</td>\n",
       "      <td>-0.000122</td>\n",
       "    </tr>\n",
       "    <tr>\n",
       "      <td>87</td>\n",
       "      <td>V37</td>\n",
       "      <td>-0.000133</td>\n",
       "    </tr>\n",
       "    <tr>\n",
       "      <td>329</td>\n",
       "      <td>V279</td>\n",
       "      <td>-0.000133</td>\n",
       "    </tr>\n",
       "    <tr>\n",
       "      <td>394</td>\n",
       "      <td>id_05</td>\n",
       "      <td>-0.000160</td>\n",
       "    </tr>\n",
       "    <tr>\n",
       "      <td>432</td>\n",
       "      <td>screen_height</td>\n",
       "      <td>-0.000185</td>\n",
       "    </tr>\n",
       "    <tr>\n",
       "      <td>357</td>\n",
       "      <td>V307</td>\n",
       "      <td>-0.000196</td>\n",
       "    </tr>\n",
       "    <tr>\n",
       "      <td>219</td>\n",
       "      <td>V169</td>\n",
       "      <td>-0.000199</td>\n",
       "    </tr>\n",
       "    <tr>\n",
       "      <td>31</td>\n",
       "      <td>D5</td>\n",
       "      <td>-0.000239</td>\n",
       "    </tr>\n",
       "  </tbody>\n",
       "</table>\n",
       "</div>"
      ],
      "text/plain": [
       "           feature  importance\n",
       "366           V316   -0.000120\n",
       "343           V293   -0.000121\n",
       "360           V310   -0.000122\n",
       "87             V37   -0.000133\n",
       "329           V279   -0.000133\n",
       "394          id_05   -0.000160\n",
       "432  screen_height   -0.000185\n",
       "357           V307   -0.000196\n",
       "219           V169   -0.000199\n",
       "31              D5   -0.000239"
      ]
     },
     "execution_count": 260,
     "metadata": {},
     "output_type": "execute_result"
    }
   ],
   "source": [
    "fi_importance.sort_values(by='importance',ascending=False)[-10:]"
   ]
  },
  {
   "cell_type": "markdown",
   "metadata": {},
   "source": [
    "## Feature Test Result"
   ]
  },
  {
   "cell_type": "code",
   "execution_count": 375,
   "metadata": {},
   "outputs": [
    {
     "data": {
      "text/html": [
       "<div>\n",
       "<style scoped>\n",
       "    .dataframe tbody tr th:only-of-type {\n",
       "        vertical-align: middle;\n",
       "    }\n",
       "\n",
       "    .dataframe tbody tr th {\n",
       "        vertical-align: top;\n",
       "    }\n",
       "\n",
       "    .dataframe thead th {\n",
       "        text-align: right;\n",
       "    }\n",
       "</style>\n",
       "<table border=\"1\" class=\"dataframe\">\n",
       "  <thead>\n",
       "    <tr style=\"text-align: right;\">\n",
       "      <th></th>\n",
       "      <th>TransactionDT</th>\n",
       "      <th>TransactionAmt</th>\n",
       "      <th>ProductCD</th>\n",
       "      <th>card1</th>\n",
       "      <th>card2</th>\n",
       "      <th>card3</th>\n",
       "      <th>card4</th>\n",
       "      <th>card5</th>\n",
       "      <th>card6</th>\n",
       "      <th>addr1</th>\n",
       "      <th>...</th>\n",
       "      <th>DeviceInfo</th>\n",
       "      <th>P_email</th>\n",
       "      <th>R_email</th>\n",
       "      <th>screen_width</th>\n",
       "      <th>pdc_amt_ratio</th>\n",
       "      <th>card1_fq_enc</th>\n",
       "      <th>addr1_fq_enc</th>\n",
       "      <th>P_email_fraud_rate</th>\n",
       "      <th>card4_fraud_rate</th>\n",
       "      <th>card_TAmt_ratio</th>\n",
       "    </tr>\n",
       "  </thead>\n",
       "  <tbody>\n",
       "    <tr>\n",
       "      <td>2</td>\n",
       "      <td>86469</td>\n",
       "      <td>59.00</td>\n",
       "      <td>0</td>\n",
       "      <td>4663</td>\n",
       "      <td>490.0</td>\n",
       "      <td>150.0</td>\n",
       "      <td>2</td>\n",
       "      <td>166.0</td>\n",
       "      <td>1</td>\n",
       "      <td>330.0</td>\n",
       "      <td>...</td>\n",
       "      <td>-1</td>\n",
       "      <td>1</td>\n",
       "      <td>-1</td>\n",
       "      <td>-1</td>\n",
       "      <td>0.384085</td>\n",
       "      <td>1794</td>\n",
       "      <td>48387.0</td>\n",
       "      <td>0.097398</td>\n",
       "      <td>0.034756</td>\n",
       "      <td>0.398429</td>\n",
       "    </tr>\n",
       "    <tr>\n",
       "      <td>6</td>\n",
       "      <td>86522</td>\n",
       "      <td>159.00</td>\n",
       "      <td>0</td>\n",
       "      <td>12308</td>\n",
       "      <td>360.0</td>\n",
       "      <td>150.0</td>\n",
       "      <td>2</td>\n",
       "      <td>166.0</td>\n",
       "      <td>1</td>\n",
       "      <td>126.0</td>\n",
       "      <td>...</td>\n",
       "      <td>-1</td>\n",
       "      <td>2</td>\n",
       "      <td>-1</td>\n",
       "      <td>-1</td>\n",
       "      <td>1.035077</td>\n",
       "      <td>320</td>\n",
       "      <td>28198.0</td>\n",
       "      <td>0.022544</td>\n",
       "      <td>0.034756</td>\n",
       "      <td>1.073731</td>\n",
       "    </tr>\n",
       "    <tr>\n",
       "      <td>7</td>\n",
       "      <td>86529</td>\n",
       "      <td>422.50</td>\n",
       "      <td>0</td>\n",
       "      <td>12695</td>\n",
       "      <td>490.0</td>\n",
       "      <td>150.0</td>\n",
       "      <td>2</td>\n",
       "      <td>226.0</td>\n",
       "      <td>1</td>\n",
       "      <td>325.0</td>\n",
       "      <td>...</td>\n",
       "      <td>-1</td>\n",
       "      <td>3</td>\n",
       "      <td>-1</td>\n",
       "      <td>-1</td>\n",
       "      <td>2.750440</td>\n",
       "      <td>12732</td>\n",
       "      <td>76902.0</td>\n",
       "      <td>0.189624</td>\n",
       "      <td>0.034756</td>\n",
       "      <td>2.853153</td>\n",
       "    </tr>\n",
       "    <tr>\n",
       "      <td>12</td>\n",
       "      <td>86564</td>\n",
       "      <td>50.00</td>\n",
       "      <td>0</td>\n",
       "      <td>3786</td>\n",
       "      <td>418.0</td>\n",
       "      <td>150.0</td>\n",
       "      <td>2</td>\n",
       "      <td>226.0</td>\n",
       "      <td>1</td>\n",
       "      <td>204.0</td>\n",
       "      <td>...</td>\n",
       "      <td>-1</td>\n",
       "      <td>6</td>\n",
       "      <td>-1</td>\n",
       "      <td>-1</td>\n",
       "      <td>0.325496</td>\n",
       "      <td>403</td>\n",
       "      <td>77069.0</td>\n",
       "      <td>0.008133</td>\n",
       "      <td>0.034756</td>\n",
       "      <td>0.417284</td>\n",
       "    </tr>\n",
       "    <tr>\n",
       "      <td>24</td>\n",
       "      <td>86821</td>\n",
       "      <td>73.95</td>\n",
       "      <td>0</td>\n",
       "      <td>10112</td>\n",
       "      <td>360.0</td>\n",
       "      <td>150.0</td>\n",
       "      <td>2</td>\n",
       "      <td>166.0</td>\n",
       "      <td>1</td>\n",
       "      <td>264.0</td>\n",
       "      <td>...</td>\n",
       "      <td>-1</td>\n",
       "      <td>0</td>\n",
       "      <td>-1</td>\n",
       "      <td>-1</td>\n",
       "      <td>0.481408</td>\n",
       "      <td>6058</td>\n",
       "      <td>72580.0</td>\n",
       "      <td>0.043496</td>\n",
       "      <td>0.034756</td>\n",
       "      <td>0.787798</td>\n",
       "    </tr>\n",
       "  </tbody>\n",
       "</table>\n",
       "<p>5 rows × 339 columns</p>\n",
       "</div>"
      ],
      "text/plain": [
       "    TransactionDT  TransactionAmt  ProductCD  card1  card2  card3  card4  \\\n",
       "2           86469           59.00          0   4663  490.0  150.0      2   \n",
       "6           86522          159.00          0  12308  360.0  150.0      2   \n",
       "7           86529          422.50          0  12695  490.0  150.0      2   \n",
       "12          86564           50.00          0   3786  418.0  150.0      2   \n",
       "24          86821           73.95          0  10112  360.0  150.0      2   \n",
       "\n",
       "    card5  card6  addr1  ...  DeviceInfo  P_email  R_email  screen_width  \\\n",
       "2   166.0      1  330.0  ...          -1        1       -1            -1   \n",
       "6   166.0      1  126.0  ...          -1        2       -1            -1   \n",
       "7   226.0      1  325.0  ...          -1        3       -1            -1   \n",
       "12  226.0      1  204.0  ...          -1        6       -1            -1   \n",
       "24  166.0      1  264.0  ...          -1        0       -1            -1   \n",
       "\n",
       "    pdc_amt_ratio  card1_fq_enc  addr1_fq_enc  P_email_fraud_rate  \\\n",
       "2        0.384085          1794       48387.0            0.097398   \n",
       "6        1.035077           320       28198.0            0.022544   \n",
       "7        2.750440         12732       76902.0            0.189624   \n",
       "12       0.325496           403       77069.0            0.008133   \n",
       "24       0.481408          6058       72580.0            0.043496   \n",
       "\n",
       "    card4_fraud_rate  card_TAmt_ratio  \n",
       "2           0.034756         0.398429  \n",
       "6           0.034756         1.073731  \n",
       "7           0.034756         2.853153  \n",
       "12          0.034756         0.417284  \n",
       "24          0.034756         0.787798  \n",
       "\n",
       "[5 rows x 339 columns]"
      ]
     },
     "execution_count": 375,
     "metadata": {},
     "output_type": "execute_result"
    }
   ],
   "source": [
    "features_train.head()"
   ]
  },
  {
   "cell_type": "code",
   "execution_count": 376,
   "metadata": {},
   "outputs": [
    {
     "name": "stdout",
     "output_type": "stream",
     "text": [
      "Fold 0\n"
     ]
    },
    {
     "name": "stderr",
     "output_type": "stream",
     "text": [
      "/home/jinpwa/anaconda3/lib/python3.6/site-packages/lightgbm/basic.py:1247: UserWarning: Using categorical_feature in Dataset.\n",
      "  warnings.warn('Using categorical_feature in Dataset.')\n"
     ]
    },
    {
     "name": "stdout",
     "output_type": "stream",
     "text": [
      "Training until validation scores don't improve for 500 rounds.\n",
      "[500]\ttraining's auc: 0.98586\tvalid_1's auc: 0.902471\n",
      "[1000]\ttraining's auc: 0.997994\tvalid_1's auc: 0.911281\n",
      "[1500]\ttraining's auc: 0.999752\tvalid_1's auc: 0.912572\n",
      "[2000]\ttraining's auc: 0.999977\tvalid_1's auc: 0.912472\n",
      "Early stopping, best iteration is:\n",
      "[1568]\ttraining's auc: 0.999817\tvalid_1's auc: 0.912678\n",
      "  auc =  0.9126784150879194\n",
      "Fold 1\n"
     ]
    },
    {
     "name": "stderr",
     "output_type": "stream",
     "text": [
      "/home/jinpwa/anaconda3/lib/python3.6/site-packages/lightgbm/basic.py:1247: UserWarning: Using categorical_feature in Dataset.\n",
      "  warnings.warn('Using categorical_feature in Dataset.')\n"
     ]
    },
    {
     "name": "stdout",
     "output_type": "stream",
     "text": [
      "Training until validation scores don't improve for 500 rounds.\n",
      "[500]\ttraining's auc: 0.986904\tvalid_1's auc: 0.924411\n",
      "[1000]\ttraining's auc: 0.998287\tvalid_1's auc: 0.931087\n",
      "[1500]\ttraining's auc: 0.999813\tvalid_1's auc: 0.931182\n",
      "Early stopping, best iteration is:\n",
      "[1182]\ttraining's auc: 0.999217\tvalid_1's auc: 0.931517\n",
      "  auc =  0.9315167787050482\n",
      "Fold 2\n"
     ]
    },
    {
     "name": "stderr",
     "output_type": "stream",
     "text": [
      "/home/jinpwa/anaconda3/lib/python3.6/site-packages/lightgbm/basic.py:1247: UserWarning: Using categorical_feature in Dataset.\n",
      "  warnings.warn('Using categorical_feature in Dataset.')\n"
     ]
    },
    {
     "name": "stdout",
     "output_type": "stream",
     "text": [
      "Training until validation scores don't improve for 500 rounds.\n",
      "[500]\ttraining's auc: 0.986106\tvalid_1's auc: 0.915856\n",
      "[1000]\ttraining's auc: 0.998132\tvalid_1's auc: 0.920324\n",
      "[1500]\ttraining's auc: 0.999815\tvalid_1's auc: 0.920288\n",
      "Early stopping, best iteration is:\n",
      "[1374]\ttraining's auc: 0.999655\tvalid_1's auc: 0.920518\n",
      "  auc =  0.9205180788162458\n"
     ]
    }
   ],
   "source": [
    "categorical = list(set(categorical_raw).intersection(features_train.columns))\n",
    "ave_auc = fold_train_selector(3,features_train,labels_train,categorical)"
   ]
  },
  {
   "cell_type": "code",
   "execution_count": 377,
   "metadata": {},
   "outputs": [
    {
     "data": {
      "text/plain": [
       "0.9215710908697379"
      ]
     },
     "execution_count": 377,
     "metadata": {},
     "output_type": "execute_result"
    }
   ],
   "source": [
    "# feat439 add card4_fraud_rate and card_TAmt_ratio\n",
    "ave_auc"
   ]
  },
  {
   "cell_type": "code",
   "execution_count": 366,
   "metadata": {},
   "outputs": [
    {
     "data": {
      "text/plain": [
       "0.921645405116515"
      ]
     },
     "execution_count": 366,
     "metadata": {},
     "output_type": "execute_result"
    }
   ],
   "source": [
    "# feat439 add card4_fraud_rate\n",
    "ave_auc"
   ]
  },
  {
   "cell_type": "code",
   "execution_count": 342,
   "metadata": {},
   "outputs": [
    {
     "data": {
      "text/plain": [
       "0.9213194526644399"
      ]
     },
     "execution_count": 342,
     "metadata": {},
     "output_type": "execute_result"
    }
   ],
   "source": [
    "# feat439 drop pemail and replace Remial with fraud rate\n",
    "ave_auc"
   ]
  },
  {
   "cell_type": "code",
   "execution_count": 323,
   "metadata": {},
   "outputs": [
    {
     "data": {
      "text/plain": [
       "0.9214243953317114"
      ]
     },
     "execution_count": 323,
     "metadata": {},
     "output_type": "execute_result"
    }
   ],
   "source": [
    "# feat439 add pemail fraud rate\n",
    "ave_auc"
   ]
  },
  {
   "cell_type": "code",
   "execution_count": 301,
   "metadata": {},
   "outputs": [
    {
     "data": {
      "text/plain": [
       "0.9213639958310471"
      ]
     },
     "execution_count": 301,
     "metadata": {},
     "output_type": "execute_result"
    }
   ],
   "source": [
    "# feat438 add addr1 cnt boost performance\n",
    "ave_auc"
   ]
  },
  {
   "cell_type": "code",
   "execution_count": 226,
   "metadata": {},
   "outputs": [
    {
     "data": {
      "text/plain": [
       "0.9203949577672603"
      ]
     },
     "execution_count": 226,
     "metadata": {},
     "output_type": "execute_result"
    }
   ],
   "source": [
    "# feat437 add card1 cnt boost performance\n",
    "ave_auc"
   ]
  },
  {
   "cell_type": "code",
   "execution_count": 134,
   "metadata": {},
   "outputs": [
    {
     "data": {
      "text/plain": [
       "0.9192920643224514"
      ]
     },
     "execution_count": 134,
     "metadata": {},
     "output_type": "execute_result"
    }
   ],
   "source": [
    "# feat436 add pdc_amt_std_ratio imporve but lower than pdc_amt_ratio\n",
    "ave_auc"
   ]
  },
  {
   "cell_type": "code",
   "execution_count": 126,
   "metadata": {},
   "outputs": [
    {
     "data": {
      "text/plain": [
       "0.9190635954552597"
      ]
     },
     "execution_count": 126,
     "metadata": {},
     "output_type": "execute_result"
    }
   ],
   "source": [
    "# feat437 add pdc_amt_std_ratio-- lower performance\n",
    "ave_auc"
   ]
  },
  {
   "cell_type": "code",
   "execution_count": 118,
   "metadata": {},
   "outputs": [
    {
     "data": {
      "text/plain": [
       "0.9195010413382565"
      ]
     },
     "execution_count": 118,
     "metadata": {},
     "output_type": "execute_result"
    }
   ],
   "source": [
    "# feat436 add pdc_amt_ratio-- very effective\n",
    "ave_auc"
   ]
  },
  {
   "cell_type": "code",
   "execution_count": 110,
   "metadata": {},
   "outputs": [
    {
     "data": {
      "text/plain": [
       "0.9183983651977423"
      ]
     },
     "execution_count": 110,
     "metadata": {},
     "output_type": "execute_result"
    }
   ],
   "source": [
    "# feat435 clean id 33 if not treat as categorical performance drop\n",
    "ave_auc"
   ]
  },
  {
   "cell_type": "code",
   "execution_count": 105,
   "metadata": {},
   "outputs": [
    {
     "data": {
      "text/plain": [
       "0.9185938934394913"
      ]
     },
     "execution_count": 105,
     "metadata": {},
     "output_type": "execute_result"
    }
   ],
   "source": [
    "# feat435 clean id 33 improve performance\n",
    "ave_auc"
   ]
  },
  {
   "cell_type": "code",
   "execution_count": 97,
   "metadata": {},
   "outputs": [
    {
     "data": {
      "text/plain": [
       "0.918457985563359"
      ]
     },
     "execution_count": 97,
     "metadata": {},
     "output_type": "execute_result"
    }
   ],
   "source": [
    "# feat453 clean DeviceInfo and modify Device_name\n",
    "ave_auc"
   ]
  },
  {
   "cell_type": "code",
   "execution_count": 89,
   "metadata": {},
   "outputs": [
    {
     "data": {
      "text/plain": [
       "0.9182738925634972"
      ]
     },
     "execution_count": 89,
     "metadata": {},
     "output_type": "execute_result"
    }
   ],
   "source": [
    "# feat435 clean DeviceInfo lead to even lower performance\n",
    "ave_auc"
   ]
  },
  {
   "cell_type": "code",
   "execution_count": 81,
   "metadata": {},
   "outputs": [
    {
     "data": {
      "text/plain": [
       "0.9184517740706151"
      ]
     },
     "execution_count": 81,
     "metadata": {},
     "output_type": "execute_result"
    }
   ],
   "source": [
    "# feat435 clean id30 -- clean id_30 lead to lower performance\n",
    "ave_auc"
   ]
  },
  {
   "cell_type": "code",
   "execution_count": 73,
   "metadata": {},
   "outputs": [
    {
     "data": {
      "text/plain": [
       "0.9185197763715043"
      ]
     },
     "execution_count": 73,
     "metadata": {},
     "output_type": "execute_result"
    }
   ],
   "source": [
    "# feat434 clean P and R email -- very effective\n",
    "ave_auc"
   ]
  },
  {
   "cell_type": "code",
   "execution_count": 65,
   "metadata": {},
   "outputs": [
    {
     "data": {
      "text/plain": [
       "0.9180120171424588"
      ]
     },
     "execution_count": 65,
     "metadata": {},
     "output_type": "execute_result"
    }
   ],
   "source": [
    "# feat434 clean id31 -- very effective\n",
    "ave_auc"
   ]
  },
  {
   "cell_type": "code",
   "execution_count": 57,
   "metadata": {},
   "outputs": [
    {
     "data": {
      "text/plain": [
       "0.9173765331946047"
      ]
     },
     "execution_count": 57,
     "metadata": {},
     "output_type": "execute_result"
    }
   ],
   "source": [
    "# feat434 without any change\n",
    "ave_auc"
   ]
  },
  {
   "cell_type": "markdown",
   "metadata": {},
   "source": [
    "## Feature selection by Importance"
   ]
  },
  {
   "cell_type": "code",
   "execution_count": 324,
   "metadata": {},
   "outputs": [],
   "source": [
    "#to_drop = list(select_by_importance(model,features_train,importance=0))\n",
    "#to_drop = fi_importance[fi_importance.importance <0].feature\n",
    "#to_drop = fi_importance.sort_values(by='importance',ascending=False)[-50:].feature\n",
    "to_drop = ['P_email']"
   ]
  },
  {
   "cell_type": "code",
   "execution_count": 325,
   "metadata": {},
   "outputs": [
    {
     "name": "stdout",
     "output_type": "stream",
     "text": [
      "    TransactionDT  TransactionAmt  ProductCD  card1  card2  card3  card4  \\\n",
      "2           86469           59.00          0   4663  490.0  150.0      2   \n",
      "6           86522          159.00          0  12308  360.0  150.0      2   \n",
      "7           86529          422.50          0  12695  490.0  150.0      2   \n",
      "12          86564           50.00          0   3786  418.0  150.0      2   \n",
      "24          86821           73.95          0  10112  360.0  150.0      2   \n",
      "\n",
      "    card5  card6  addr1  ...  id_36  id_38  DeviceType  DeviceInfo  R_email  \\\n",
      "2   166.0      1  330.0  ...     -1     -1          -1          -1       -1   \n",
      "6   166.0      1  126.0  ...     -1     -1          -1          -1       -1   \n",
      "7   226.0      1  325.0  ...     -1     -1          -1          -1       -1   \n",
      "12  226.0      1  204.0  ...     -1     -1          -1          -1       -1   \n",
      "24  166.0      1  264.0  ...     -1     -1          -1          -1       -1   \n",
      "\n",
      "    screen_width  pdc_amt_ratio  card1_fq_enc  addr1_fq_enc  pemail_fraud_rate  \n",
      "2             -1       0.384085          1794       48387.0           0.097398  \n",
      "6             -1       1.035077           320       28198.0           0.022544  \n",
      "7             -1       2.750440         12732       76902.0           0.189624  \n",
      "12            -1       0.325496           403       77069.0           0.008133  \n",
      "24            -1       0.481408          6058       72580.0           0.043496  \n",
      "\n",
      "[5 rows x 336 columns]\n",
      "Fold 0\n"
     ]
    },
    {
     "name": "stderr",
     "output_type": "stream",
     "text": [
      "/home/jinpwa/anaconda3/lib/python3.6/site-packages/lightgbm/basic.py:1247: UserWarning: Using categorical_feature in Dataset.\n",
      "  warnings.warn('Using categorical_feature in Dataset.')\n"
     ]
    },
    {
     "name": "stdout",
     "output_type": "stream",
     "text": [
      "Training until validation scores don't improve for 500 rounds.\n",
      "[500]\ttraining's auc: 0.985424\tvalid_1's auc: 0.90215\n",
      "[1000]\ttraining's auc: 0.997865\tvalid_1's auc: 0.911577\n",
      "[1500]\ttraining's auc: 0.999707\tvalid_1's auc: 0.912857\n",
      "[2000]\ttraining's auc: 0.999969\tvalid_1's auc: 0.912869\n",
      "Early stopping, best iteration is:\n",
      "[1746]\ttraining's auc: 0.999899\tvalid_1's auc: 0.913047\n",
      "  auc =  0.9130468748681727\n",
      "Fold 1\n"
     ]
    },
    {
     "name": "stderr",
     "output_type": "stream",
     "text": [
      "/home/jinpwa/anaconda3/lib/python3.6/site-packages/lightgbm/basic.py:1247: UserWarning: Using categorical_feature in Dataset.\n",
      "  warnings.warn('Using categorical_feature in Dataset.')\n"
     ]
    },
    {
     "name": "stdout",
     "output_type": "stream",
     "text": [
      "Training until validation scores don't improve for 500 rounds.\n",
      "[500]\ttraining's auc: 0.986443\tvalid_1's auc: 0.924333\n",
      "[1000]\ttraining's auc: 0.998188\tvalid_1's auc: 0.930901\n",
      "[1500]\ttraining's auc: 0.999777\tvalid_1's auc: 0.930559\n",
      "Early stopping, best iteration is:\n",
      "[1011]\ttraining's auc: 0.998262\tvalid_1's auc: 0.93095\n",
      "  auc =  0.9309502911237708\n",
      "Fold 2\n"
     ]
    },
    {
     "name": "stderr",
     "output_type": "stream",
     "text": [
      "/home/jinpwa/anaconda3/lib/python3.6/site-packages/lightgbm/basic.py:1247: UserWarning: Using categorical_feature in Dataset.\n",
      "  warnings.warn('Using categorical_feature in Dataset.')\n"
     ]
    },
    {
     "name": "stdout",
     "output_type": "stream",
     "text": [
      "Training until validation scores don't improve for 500 rounds.\n",
      "[500]\ttraining's auc: 0.985675\tvalid_1's auc: 0.915235\n",
      "[1000]\ttraining's auc: 0.998009\tvalid_1's auc: 0.920488\n",
      "Early stopping, best iteration is:\n",
      "[968]\ttraining's auc: 0.997724\tvalid_1's auc: 0.920499\n",
      "  auc =  0.9204986529118921\n"
     ]
    }
   ],
   "source": [
    "features_train_temp = features_train.drop(to_drop,axis=1)\n",
    "categorical_temp = list(set(categorical_raw).intersection(features_train_temp.columns))\n",
    "print(features_train_temp.head())\n",
    "ave_auc = fold_train_selector(3,features_train_temp,labels_train,categorical_temp)"
   ]
  },
  {
   "cell_type": "code",
   "execution_count": 326,
   "metadata": {},
   "outputs": [
    {
     "data": {
      "text/plain": [
       "0.9214986063012786"
      ]
     },
     "execution_count": 326,
     "metadata": {},
     "output_type": "execute_result"
    }
   ],
   "source": [
    "# feat439 add pemail fraud rate drop pemail\n",
    "ave_auc"
   ]
  },
  {
   "cell_type": "code",
   "execution_count": 268,
   "metadata": {},
   "outputs": [
    {
     "data": {
      "text/plain": [
       "0.9205252055310196"
      ]
     },
     "execution_count": 268,
     "metadata": {},
     "output_type": "execute_result"
    }
   ],
   "source": [
    "# # feat437 add card1 cnt drop fi_importance.sort_values(by='importance',ascending=False)[-50:].feature\n",
    "ave_auc"
   ]
  },
  {
   "cell_type": "code",
   "execution_count": 263,
   "metadata": {},
   "outputs": [
    {
     "data": {
      "text/plain": [
       "0.9204770443918444"
      ]
     },
     "execution_count": 263,
     "metadata": {},
     "output_type": "execute_result"
    }
   ],
   "source": [
    "# feat437 add card1 cnt drop 'V169'\n",
    "ave_auc"
   ]
  },
  {
   "cell_type": "code",
   "execution_count": 258,
   "metadata": {},
   "outputs": [
    {
     "data": {
      "text/plain": [
       "0.9203641031040686"
      ]
     },
     "execution_count": 258,
     "metadata": {},
     "output_type": "execute_result"
    }
   ],
   "source": [
    "# feat437 add card1 cnt drop 'D5'\n",
    "ave_auc"
   ]
  },
  {
   "cell_type": "code",
   "execution_count": 255,
   "metadata": {},
   "outputs": [
    {
     "data": {
      "text/plain": [
       "0.9206320242407664"
      ]
     },
     "execution_count": 255,
     "metadata": {},
     "output_type": "execute_result"
    }
   ],
   "source": [
    "# feat437 add card1 cnt drop fi_importance[fi_importance.importance <0].feature\n",
    "ave_auc"
   ]
  },
  {
   "cell_type": "code",
   "execution_count": 252,
   "metadata": {},
   "outputs": [
    {
     "data": {
      "text/plain": [
       "0.9209194659248899"
      ]
     },
     "execution_count": 252,
     "metadata": {},
     "output_type": "execute_result"
    }
   ],
   "source": [
    "# feat437 add card1 cnt drop fi_importance.sort_values(by='importance',ascending=False)[-100:].feature\n",
    "ave_auc"
   ]
  },
  {
   "cell_type": "code",
   "execution_count": 230,
   "metadata": {},
   "outputs": [
    {
     "data": {
      "text/plain": [
       "0.9210752136295715"
      ]
     },
     "execution_count": 230,
     "metadata": {},
     "output_type": "execute_result"
    }
   ],
   "source": [
    "# feat437 add card1 cnt drop transactionDT\n",
    "ave_auc"
   ]
  },
  {
   "cell_type": "code",
   "execution_count": 269,
   "metadata": {},
   "outputs": [],
   "source": [
    "to_drop = fi_importance.sort_values(by='importance',ascending=False)[-100:].feature\n",
    "with open('./data/feat437_rm_pm_importance100.pickle', 'wb') as handle:\n",
    "    pickle.dump(to_drop, handle, protocol=pickle.HIGHEST_PROTOCOL)"
   ]
  },
  {
   "cell_type": "markdown",
   "metadata": {},
   "source": [
    "## Recursive Eliminate Features"
   ]
  },
  {
   "cell_type": "code",
   "execution_count": null,
   "metadata": {},
   "outputs": [],
   "source": [
    "# to_drop = {'P_email_suffix','R_email_suffix','dow','pdc_D1_ratio'} is useless\n",
    "# to_drop = {'card_TAmt_ratio','card_TAmt_std_ratio','is_card_freq_pdc','is_card_freq_addr1'}is useless\n",
    "# to_drop = {'TransactionAmt_decimal','is_wide','is_long','is_zero'} is useless\n",
    "# to_drop = {'card_D2_mean','card_D15_mean','card_D4_mean','card_id_02_mean'','card_D1_std',\n",
    "#            'card_D15_std','card_D1_mean','card_id_02_std','card_D3_mean} is useless\n",
    "# to_drop = {'addr1_D15_mean','addr1_D15_std'} is useless\n",
    "# to_drop = {'ProductCD_target_mean','M4_target_mean'} is useless\n",
    "# to_drop = {'card2_fq_enc','card3_fq_enc','card5_fq_enc','P_email_fq_enc','R_email_fq_enc'} is useless\n",
    "# to_drop = {'addr2_fq_enc',}\n",
    "# to_drop = {'R_email_fraud_rate','card6_fraud_rate','card4_fraud_rate'} all have boost performance"
   ]
  },
  {
   "cell_type": "code",
   "execution_count": 399,
   "metadata": {},
   "outputs": [
    {
     "data": {
      "text/html": [
       "<div>\n",
       "<style scoped>\n",
       "    .dataframe tbody tr th:only-of-type {\n",
       "        vertical-align: middle;\n",
       "    }\n",
       "\n",
       "    .dataframe tbody tr th {\n",
       "        vertical-align: top;\n",
       "    }\n",
       "\n",
       "    .dataframe thead th {\n",
       "        text-align: right;\n",
       "    }\n",
       "</style>\n",
       "<table border=\"1\" class=\"dataframe\">\n",
       "  <thead>\n",
       "    <tr style=\"text-align: right;\">\n",
       "      <th></th>\n",
       "      <th>TransactionDT</th>\n",
       "      <th>TransactionAmt</th>\n",
       "      <th>ProductCD</th>\n",
       "      <th>card1</th>\n",
       "      <th>card2</th>\n",
       "      <th>card3</th>\n",
       "      <th>card4</th>\n",
       "      <th>card5</th>\n",
       "      <th>card6</th>\n",
       "      <th>addr1</th>\n",
       "      <th>...</th>\n",
       "      <th>addr1_fq_enc</th>\n",
       "      <th>card_addr_fq</th>\n",
       "      <th>card_mv_hour_fq</th>\n",
       "      <th>card_mv_hour_fq_ratio</th>\n",
       "      <th>card_hour_Amt</th>\n",
       "      <th>card_hour_Amt_ratio</th>\n",
       "      <th>card_mv_day_fq</th>\n",
       "      <th>card_mv_day_fq_ratio</th>\n",
       "      <th>card_day_Amt</th>\n",
       "      <th>card_day_Amt_ratio</th>\n",
       "    </tr>\n",
       "  </thead>\n",
       "  <tbody>\n",
       "    <tr>\n",
       "      <td>2</td>\n",
       "      <td>86469</td>\n",
       "      <td>59.00</td>\n",
       "      <td>0</td>\n",
       "      <td>4663</td>\n",
       "      <td>490.0</td>\n",
       "      <td>150.0</td>\n",
       "      <td>2</td>\n",
       "      <td>166.0</td>\n",
       "      <td>1</td>\n",
       "      <td>330.0</td>\n",
       "      <td>...</td>\n",
       "      <td>48387.0</td>\n",
       "      <td>13.0</td>\n",
       "      <td>1</td>\n",
       "      <td>1.000000</td>\n",
       "      <td>59.00</td>\n",
       "      <td>0.969659</td>\n",
       "      <td>1</td>\n",
       "      <td>1.000000</td>\n",
       "      <td>59.00</td>\n",
       "      <td>0.969659</td>\n",
       "    </tr>\n",
       "    <tr>\n",
       "      <td>6</td>\n",
       "      <td>86522</td>\n",
       "      <td>159.00</td>\n",
       "      <td>0</td>\n",
       "      <td>12308</td>\n",
       "      <td>360.0</td>\n",
       "      <td>150.0</td>\n",
       "      <td>2</td>\n",
       "      <td>166.0</td>\n",
       "      <td>1</td>\n",
       "      <td>126.0</td>\n",
       "      <td>...</td>\n",
       "      <td>28198.0</td>\n",
       "      <td>2.0</td>\n",
       "      <td>1</td>\n",
       "      <td>1.000000</td>\n",
       "      <td>159.00</td>\n",
       "      <td>1.338947</td>\n",
       "      <td>1</td>\n",
       "      <td>1.000000</td>\n",
       "      <td>159.00</td>\n",
       "      <td>1.338947</td>\n",
       "    </tr>\n",
       "    <tr>\n",
       "      <td>7</td>\n",
       "      <td>86529</td>\n",
       "      <td>422.50</td>\n",
       "      <td>0</td>\n",
       "      <td>12695</td>\n",
       "      <td>490.0</td>\n",
       "      <td>150.0</td>\n",
       "      <td>2</td>\n",
       "      <td>226.0</td>\n",
       "      <td>1</td>\n",
       "      <td>325.0</td>\n",
       "      <td>...</td>\n",
       "      <td>76902.0</td>\n",
       "      <td>221.0</td>\n",
       "      <td>1</td>\n",
       "      <td>0.909465</td>\n",
       "      <td>422.50</td>\n",
       "      <td>3.459943</td>\n",
       "      <td>2</td>\n",
       "      <td>0.975717</td>\n",
       "      <td>466.50</td>\n",
       "      <td>2.003035</td>\n",
       "    </tr>\n",
       "    <tr>\n",
       "      <td>12</td>\n",
       "      <td>86564</td>\n",
       "      <td>50.00</td>\n",
       "      <td>0</td>\n",
       "      <td>3786</td>\n",
       "      <td>418.0</td>\n",
       "      <td>150.0</td>\n",
       "      <td>2</td>\n",
       "      <td>226.0</td>\n",
       "      <td>1</td>\n",
       "      <td>204.0</td>\n",
       "      <td>...</td>\n",
       "      <td>77069.0</td>\n",
       "      <td>1.0</td>\n",
       "      <td>1</td>\n",
       "      <td>1.000000</td>\n",
       "      <td>50.00</td>\n",
       "      <td>1.000000</td>\n",
       "      <td>1</td>\n",
       "      <td>1.000000</td>\n",
       "      <td>50.00</td>\n",
       "      <td>1.000000</td>\n",
       "    </tr>\n",
       "    <tr>\n",
       "      <td>24</td>\n",
       "      <td>86821</td>\n",
       "      <td>73.95</td>\n",
       "      <td>0</td>\n",
       "      <td>10112</td>\n",
       "      <td>360.0</td>\n",
       "      <td>150.0</td>\n",
       "      <td>2</td>\n",
       "      <td>166.0</td>\n",
       "      <td>1</td>\n",
       "      <td>264.0</td>\n",
       "      <td>...</td>\n",
       "      <td>72580.0</td>\n",
       "      <td>1.0</td>\n",
       "      <td>1</td>\n",
       "      <td>1.000000</td>\n",
       "      <td>73.95</td>\n",
       "      <td>1.000000</td>\n",
       "      <td>1</td>\n",
       "      <td>1.000000</td>\n",
       "      <td>73.95</td>\n",
       "      <td>1.000000</td>\n",
       "    </tr>\n",
       "  </tbody>\n",
       "</table>\n",
       "<p>5 rows × 345 columns</p>\n",
       "</div>"
      ],
      "text/plain": [
       "    TransactionDT  TransactionAmt  ProductCD  card1  card2  card3  card4  \\\n",
       "2           86469           59.00          0   4663  490.0  150.0      2   \n",
       "6           86522          159.00          0  12308  360.0  150.0      2   \n",
       "7           86529          422.50          0  12695  490.0  150.0      2   \n",
       "12          86564           50.00          0   3786  418.0  150.0      2   \n",
       "24          86821           73.95          0  10112  360.0  150.0      2   \n",
       "\n",
       "    card5  card6  addr1  ...  addr1_fq_enc  card_addr_fq  card_mv_hour_fq  \\\n",
       "2   166.0      1  330.0  ...       48387.0          13.0                1   \n",
       "6   166.0      1  126.0  ...       28198.0           2.0                1   \n",
       "7   226.0      1  325.0  ...       76902.0         221.0                1   \n",
       "12  226.0      1  204.0  ...       77069.0           1.0                1   \n",
       "24  166.0      1  264.0  ...       72580.0           1.0                1   \n",
       "\n",
       "    card_mv_hour_fq_ratio  card_hour_Amt  card_hour_Amt_ratio  card_mv_day_fq  \\\n",
       "2                1.000000          59.00             0.969659               1   \n",
       "6                1.000000         159.00             1.338947               1   \n",
       "7                0.909465         422.50             3.459943               2   \n",
       "12               1.000000          50.00             1.000000               1   \n",
       "24               1.000000          73.95             1.000000               1   \n",
       "\n",
       "    card_mv_day_fq_ratio  card_day_Amt  card_day_Amt_ratio  \n",
       "2               1.000000         59.00            0.969659  \n",
       "6               1.000000        159.00            1.338947  \n",
       "7               0.975717        466.50            2.003035  \n",
       "12              1.000000         50.00            1.000000  \n",
       "24              1.000000         73.95            1.000000  \n",
       "\n",
       "[5 rows x 345 columns]"
      ]
     },
     "execution_count": 399,
     "metadata": {},
     "output_type": "execute_result"
    }
   ],
   "source": [
    "features_train.head()"
   ]
  },
  {
   "cell_type": "code",
   "execution_count": 400,
   "metadata": {},
   "outputs": [
    {
     "name": "stdout",
     "output_type": "stream",
     "text": [
      "card_mv_day_fq_ratio\n",
      "(138771, 337)\n",
      "Fold 0\n"
     ]
    },
    {
     "name": "stderr",
     "output_type": "stream",
     "text": [
      "/home/jinpwa/anaconda3/lib/python3.6/site-packages/lightgbm/basic.py:1247: UserWarning: Using categorical_feature in Dataset.\n",
      "  warnings.warn('Using categorical_feature in Dataset.')\n"
     ]
    },
    {
     "name": "stdout",
     "output_type": "stream",
     "text": [
      "Training until validation scores don't improve for 500 rounds.\n",
      "[500]\ttraining's auc: 0.986068\tvalid_1's auc: 0.900825\n",
      "[1000]\ttraining's auc: 0.998026\tvalid_1's auc: 0.909998\n",
      "[1500]\ttraining's auc: 0.999769\tvalid_1's auc: 0.911657\n",
      "[2000]\ttraining's auc: 0.999981\tvalid_1's auc: 0.911907\n",
      "[2500]\ttraining's auc: 0.999999\tvalid_1's auc: 0.911857\n",
      "[3000]\ttraining's auc: 1\tvalid_1's auc: 0.911914\n",
      "Early stopping, best iteration is:\n",
      "[2746]\ttraining's auc: 1\tvalid_1's auc: 0.911995\n",
      "  auc =  0.9119946029910482\n",
      "Fold 1\n"
     ]
    },
    {
     "name": "stderr",
     "output_type": "stream",
     "text": [
      "/home/jinpwa/anaconda3/lib/python3.6/site-packages/lightgbm/basic.py:1247: UserWarning: Using categorical_feature in Dataset.\n",
      "  warnings.warn('Using categorical_feature in Dataset.')\n"
     ]
    },
    {
     "name": "stdout",
     "output_type": "stream",
     "text": [
      "Training until validation scores don't improve for 500 rounds.\n",
      "[500]\ttraining's auc: 0.986947\tvalid_1's auc: 0.924156\n",
      "[1000]\ttraining's auc: 0.998294\tvalid_1's auc: 0.93075\n",
      "[1500]\ttraining's auc: 0.99982\tvalid_1's auc: 0.930595\n",
      "Early stopping, best iteration is:\n",
      "[1081]\ttraining's auc: 0.998793\tvalid_1's auc: 0.930865\n",
      "  auc =  0.9308652884409228\n",
      "Fold 2\n"
     ]
    },
    {
     "name": "stderr",
     "output_type": "stream",
     "text": [
      "/home/jinpwa/anaconda3/lib/python3.6/site-packages/lightgbm/basic.py:1247: UserWarning: Using categorical_feature in Dataset.\n",
      "  warnings.warn('Using categorical_feature in Dataset.')\n"
     ]
    },
    {
     "name": "stdout",
     "output_type": "stream",
     "text": [
      "Training until validation scores don't improve for 500 rounds.\n",
      "[500]\ttraining's auc: 0.986337\tvalid_1's auc: 0.915475\n",
      "[1000]\ttraining's auc: 0.998135\tvalid_1's auc: 0.920411\n",
      "[1500]\ttraining's auc: 0.999821\tvalid_1's auc: 0.920051\n",
      "Early stopping, best iteration is:\n",
      "[1069]\ttraining's auc: 0.998621\tvalid_1's auc: 0.92045\n",
      "  auc =  0.9204502237562597\n",
      "0.9211033717294103\n",
      "card_day_Amt\n",
      "(138771, 337)\n",
      "Fold 0\n"
     ]
    },
    {
     "name": "stderr",
     "output_type": "stream",
     "text": [
      "/home/jinpwa/anaconda3/lib/python3.6/site-packages/lightgbm/basic.py:1247: UserWarning: Using categorical_feature in Dataset.\n",
      "  warnings.warn('Using categorical_feature in Dataset.')\n"
     ]
    },
    {
     "name": "stdout",
     "output_type": "stream",
     "text": [
      "Training until validation scores don't improve for 500 rounds.\n",
      "[500]\ttraining's auc: 0.986187\tvalid_1's auc: 0.899942\n",
      "[1000]\ttraining's auc: 0.998065\tvalid_1's auc: 0.909762\n",
      "[1500]\ttraining's auc: 0.99978\tvalid_1's auc: 0.911401\n",
      "[2000]\ttraining's auc: 0.999982\tvalid_1's auc: 0.911642\n",
      "[2500]\ttraining's auc: 0.999999\tvalid_1's auc: 0.911852\n",
      "[3000]\ttraining's auc: 1\tvalid_1's auc: 0.912061\n",
      "[3500]\ttraining's auc: 1\tvalid_1's auc: 0.912133\n",
      "Early stopping, best iteration is:\n",
      "[3323]\ttraining's auc: 1\tvalid_1's auc: 0.912186\n",
      "  auc =  0.9121861256915874\n",
      "Fold 1\n"
     ]
    },
    {
     "name": "stderr",
     "output_type": "stream",
     "text": [
      "/home/jinpwa/anaconda3/lib/python3.6/site-packages/lightgbm/basic.py:1247: UserWarning: Using categorical_feature in Dataset.\n",
      "  warnings.warn('Using categorical_feature in Dataset.')\n"
     ]
    },
    {
     "name": "stdout",
     "output_type": "stream",
     "text": [
      "Training until validation scores don't improve for 500 rounds.\n",
      "[500]\ttraining's auc: 0.98712\tvalid_1's auc: 0.924449\n",
      "[1000]\ttraining's auc: 0.99838\tvalid_1's auc: 0.930764\n",
      "[1500]\ttraining's auc: 0.999835\tvalid_1's auc: 0.930757\n",
      "Early stopping, best iteration is:\n",
      "[1128]\ttraining's auc: 0.999077\tvalid_1's auc: 0.930897\n",
      "  auc =  0.9308969688991491\n",
      "Fold 2\n"
     ]
    },
    {
     "name": "stderr",
     "output_type": "stream",
     "text": [
      "/home/jinpwa/anaconda3/lib/python3.6/site-packages/lightgbm/basic.py:1247: UserWarning: Using categorical_feature in Dataset.\n",
      "  warnings.warn('Using categorical_feature in Dataset.')\n"
     ]
    },
    {
     "name": "stdout",
     "output_type": "stream",
     "text": [
      "Training until validation scores don't improve for 500 rounds.\n",
      "[500]\ttraining's auc: 0.986421\tvalid_1's auc: 0.915767\n",
      "[1000]\ttraining's auc: 0.998183\tvalid_1's auc: 0.920831\n",
      "[1500]\ttraining's auc: 0.999833\tvalid_1's auc: 0.920532\n",
      "Early stopping, best iteration is:\n",
      "[1009]\ttraining's auc: 0.998251\tvalid_1's auc: 0.92086\n",
      "  auc =  0.9208600806857759\n",
      "0.9213143917588373\n",
      "card_addr_fq\n",
      "(138771, 337)\n",
      "Fold 0\n"
     ]
    },
    {
     "name": "stderr",
     "output_type": "stream",
     "text": [
      "/home/jinpwa/anaconda3/lib/python3.6/site-packages/lightgbm/basic.py:1247: UserWarning: Using categorical_feature in Dataset.\n",
      "  warnings.warn('Using categorical_feature in Dataset.')\n"
     ]
    },
    {
     "name": "stdout",
     "output_type": "stream",
     "text": [
      "Training until validation scores don't improve for 500 rounds.\n",
      "[500]\ttraining's auc: 0.986255\tvalid_1's auc: 0.900813\n",
      "[1000]\ttraining's auc: 0.998046\tvalid_1's auc: 0.910248\n",
      "[1500]\ttraining's auc: 0.999759\tvalid_1's auc: 0.911527\n",
      "[2000]\ttraining's auc: 0.999976\tvalid_1's auc: 0.911719\n",
      "[2500]\ttraining's auc: 0.999998\tvalid_1's auc: 0.911751\n",
      "[3000]\ttraining's auc: 1\tvalid_1's auc: 0.912051\n",
      "[3500]\ttraining's auc: 1\tvalid_1's auc: 0.912046\n",
      "[4000]\ttraining's auc: 1\tvalid_1's auc: 0.911978\n",
      "Early stopping, best iteration is:\n",
      "[3716]\ttraining's auc: 1\tvalid_1's auc: 0.912104\n",
      "  auc =  0.9121041062679359\n",
      "Fold 1\n"
     ]
    },
    {
     "name": "stderr",
     "output_type": "stream",
     "text": [
      "/home/jinpwa/anaconda3/lib/python3.6/site-packages/lightgbm/basic.py:1247: UserWarning: Using categorical_feature in Dataset.\n",
      "  warnings.warn('Using categorical_feature in Dataset.')\n"
     ]
    },
    {
     "name": "stdout",
     "output_type": "stream",
     "text": [
      "Training until validation scores don't improve for 500 rounds.\n",
      "[500]\ttraining's auc: 0.987111\tvalid_1's auc: 0.923574\n",
      "[1000]\ttraining's auc: 0.998311\tvalid_1's auc: 0.930428\n",
      "[1500]\ttraining's auc: 0.999806\tvalid_1's auc: 0.930217\n",
      "Early stopping, best iteration is:\n",
      "[1236]\ttraining's auc: 0.999379\tvalid_1's auc: 0.930485\n",
      "  auc =  0.930484545691811\n",
      "Fold 2\n"
     ]
    },
    {
     "name": "stderr",
     "output_type": "stream",
     "text": [
      "/home/jinpwa/anaconda3/lib/python3.6/site-packages/lightgbm/basic.py:1247: UserWarning: Using categorical_feature in Dataset.\n",
      "  warnings.warn('Using categorical_feature in Dataset.')\n"
     ]
    },
    {
     "name": "stdout",
     "output_type": "stream",
     "text": [
      "Training until validation scores don't improve for 500 rounds.\n",
      "[500]\ttraining's auc: 0.98647\tvalid_1's auc: 0.915819\n",
      "[1000]\ttraining's auc: 0.998136\tvalid_1's auc: 0.920405\n",
      "Early stopping, best iteration is:\n",
      "[937]\ttraining's auc: 0.997581\tvalid_1's auc: 0.920448\n",
      "  auc =  0.9204480667287193\n",
      "0.9210122395628222\n",
      "card_mv_hour_fq_ratio\n",
      "(138771, 337)\n",
      "Fold 0\n"
     ]
    },
    {
     "name": "stderr",
     "output_type": "stream",
     "text": [
      "/home/jinpwa/anaconda3/lib/python3.6/site-packages/lightgbm/basic.py:1247: UserWarning: Using categorical_feature in Dataset.\n",
      "  warnings.warn('Using categorical_feature in Dataset.')\n"
     ]
    },
    {
     "name": "stdout",
     "output_type": "stream",
     "text": [
      "Training until validation scores don't improve for 500 rounds.\n",
      "[500]\ttraining's auc: 0.986013\tvalid_1's auc: 0.901107\n",
      "[1000]\ttraining's auc: 0.998017\tvalid_1's auc: 0.910373\n",
      "[1500]\ttraining's auc: 0.999761\tvalid_1's auc: 0.911843\n",
      "[2000]\ttraining's auc: 0.999977\tvalid_1's auc: 0.912103\n",
      "Early stopping, best iteration is:\n",
      "[1842]\ttraining's auc: 0.99995\tvalid_1's auc: 0.912204\n",
      "  auc =  0.9122035716415529\n",
      "Fold 1\n"
     ]
    },
    {
     "name": "stderr",
     "output_type": "stream",
     "text": [
      "/home/jinpwa/anaconda3/lib/python3.6/site-packages/lightgbm/basic.py:1247: UserWarning: Using categorical_feature in Dataset.\n",
      "  warnings.warn('Using categorical_feature in Dataset.')\n"
     ]
    },
    {
     "name": "stdout",
     "output_type": "stream",
     "text": [
      "Training until validation scores don't improve for 500 rounds.\n",
      "[500]\ttraining's auc: 0.986908\tvalid_1's auc: 0.923775\n",
      "[1000]\ttraining's auc: 0.998276\tvalid_1's auc: 0.930779\n",
      "[1500]\ttraining's auc: 0.999811\tvalid_1's auc: 0.93068\n",
      "Early stopping, best iteration is:\n",
      "[1114]\ttraining's auc: 0.998942\tvalid_1's auc: 0.930845\n",
      "  auc =  0.9308452281356762\n",
      "Fold 2\n"
     ]
    },
    {
     "name": "stderr",
     "output_type": "stream",
     "text": [
      "/home/jinpwa/anaconda3/lib/python3.6/site-packages/lightgbm/basic.py:1247: UserWarning: Using categorical_feature in Dataset.\n",
      "  warnings.warn('Using categorical_feature in Dataset.')\n"
     ]
    },
    {
     "name": "stdout",
     "output_type": "stream",
     "text": [
      "Training until validation scores don't improve for 500 rounds.\n",
      "[500]\ttraining's auc: 0.986295\tvalid_1's auc: 0.915678\n",
      "[1000]\ttraining's auc: 0.998115\tvalid_1's auc: 0.920747\n",
      "Early stopping, best iteration is:\n",
      "[992]\ttraining's auc: 0.998052\tvalid_1's auc: 0.920821\n",
      "  auc =  0.9208206846479906\n",
      "0.9212898281417399\n",
      "card_hour_Amt_ratio\n",
      "(138771, 337)\n",
      "Fold 0\n"
     ]
    },
    {
     "name": "stderr",
     "output_type": "stream",
     "text": [
      "/home/jinpwa/anaconda3/lib/python3.6/site-packages/lightgbm/basic.py:1247: UserWarning: Using categorical_feature in Dataset.\n",
      "  warnings.warn('Using categorical_feature in Dataset.')\n"
     ]
    },
    {
     "name": "stdout",
     "output_type": "stream",
     "text": [
      "Training until validation scores don't improve for 500 rounds.\n",
      "[500]\ttraining's auc: 0.986132\tvalid_1's auc: 0.900609\n",
      "[1000]\ttraining's auc: 0.998075\tvalid_1's auc: 0.909768\n",
      "[1500]\ttraining's auc: 0.999785\tvalid_1's auc: 0.91093\n",
      "[2000]\ttraining's auc: 0.999983\tvalid_1's auc: 0.911326\n",
      "[2500]\ttraining's auc: 0.999999\tvalid_1's auc: 0.911715\n",
      "[3000]\ttraining's auc: 1\tvalid_1's auc: 0.911762\n",
      "[3500]\ttraining's auc: 1\tvalid_1's auc: 0.911847\n",
      "[4000]\ttraining's auc: 1\tvalid_1's auc: 0.911916\n",
      "Early stopping, best iteration is:\n",
      "[3573]\ttraining's auc: 1\tvalid_1's auc: 0.911897\n",
      "  auc =  0.9118966562670039\n",
      "Fold 1\n"
     ]
    },
    {
     "name": "stderr",
     "output_type": "stream",
     "text": [
      "/home/jinpwa/anaconda3/lib/python3.6/site-packages/lightgbm/basic.py:1247: UserWarning: Using categorical_feature in Dataset.\n",
      "  warnings.warn('Using categorical_feature in Dataset.')\n"
     ]
    },
    {
     "name": "stdout",
     "output_type": "stream",
     "text": [
      "Training until validation scores don't improve for 500 rounds.\n",
      "[500]\ttraining's auc: 0.987056\tvalid_1's auc: 0.92338\n",
      "[1000]\ttraining's auc: 0.998358\tvalid_1's auc: 0.929876\n",
      "[1500]\ttraining's auc: 0.999833\tvalid_1's auc: 0.930022\n",
      "Early stopping, best iteration is:\n",
      "[1218]\ttraining's auc: 0.999372\tvalid_1's auc: 0.930112\n",
      "  auc =  0.9301115667897668\n",
      "Fold 2\n"
     ]
    },
    {
     "name": "stderr",
     "output_type": "stream",
     "text": [
      "/home/jinpwa/anaconda3/lib/python3.6/site-packages/lightgbm/basic.py:1247: UserWarning: Using categorical_feature in Dataset.\n",
      "  warnings.warn('Using categorical_feature in Dataset.')\n"
     ]
    },
    {
     "name": "stdout",
     "output_type": "stream",
     "text": [
      "Training until validation scores don't improve for 500 rounds.\n",
      "[500]\ttraining's auc: 0.9864\tvalid_1's auc: 0.915273\n",
      "[1000]\ttraining's auc: 0.998183\tvalid_1's auc: 0.920314\n",
      "[1500]\ttraining's auc: 0.999827\tvalid_1's auc: 0.919958\n",
      "Early stopping, best iteration is:\n",
      "[1146]\ttraining's auc: 0.999046\tvalid_1's auc: 0.920403\n",
      "  auc =  0.9204031615015663\n",
      "0.920803794852779\n",
      "card_mv_day_fq\n",
      "(138771, 337)\n",
      "Fold 0\n"
     ]
    },
    {
     "name": "stderr",
     "output_type": "stream",
     "text": [
      "/home/jinpwa/anaconda3/lib/python3.6/site-packages/lightgbm/basic.py:1247: UserWarning: Using categorical_feature in Dataset.\n",
      "  warnings.warn('Using categorical_feature in Dataset.')\n"
     ]
    },
    {
     "name": "stdout",
     "output_type": "stream",
     "text": [
      "Training until validation scores don't improve for 500 rounds.\n",
      "[500]\ttraining's auc: 0.986034\tvalid_1's auc: 0.901123\n",
      "[1000]\ttraining's auc: 0.997924\tvalid_1's auc: 0.910123\n",
      "[1500]\ttraining's auc: 0.999735\tvalid_1's auc: 0.911568\n",
      "[2000]\ttraining's auc: 0.999974\tvalid_1's auc: 0.911908\n",
      "[2500]\ttraining's auc: 0.999998\tvalid_1's auc: 0.912082\n",
      "[3000]\ttraining's auc: 1\tvalid_1's auc: 0.912176\n",
      "[3500]\ttraining's auc: 1\tvalid_1's auc: 0.912263\n",
      "Early stopping, best iteration is:\n",
      "[3315]\ttraining's auc: 1\tvalid_1's auc: 0.912346\n",
      "  auc =  0.9123458966808781\n",
      "Fold 1\n"
     ]
    },
    {
     "name": "stderr",
     "output_type": "stream",
     "text": [
      "/home/jinpwa/anaconda3/lib/python3.6/site-packages/lightgbm/basic.py:1247: UserWarning: Using categorical_feature in Dataset.\n",
      "  warnings.warn('Using categorical_feature in Dataset.')\n"
     ]
    },
    {
     "name": "stdout",
     "output_type": "stream",
     "text": [
      "Training until validation scores don't improve for 500 rounds.\n",
      "[500]\ttraining's auc: 0.986893\tvalid_1's auc: 0.924394\n",
      "[1000]\ttraining's auc: 0.998239\tvalid_1's auc: 0.930873\n",
      "[1500]\ttraining's auc: 0.999799\tvalid_1's auc: 0.930797\n",
      "Early stopping, best iteration is:\n",
      "[1108]\ttraining's auc: 0.998876\tvalid_1's auc: 0.930953\n",
      "  auc =  0.9309525215646572\n",
      "Fold 2\n"
     ]
    },
    {
     "name": "stderr",
     "output_type": "stream",
     "text": [
      "/home/jinpwa/anaconda3/lib/python3.6/site-packages/lightgbm/basic.py:1247: UserWarning: Using categorical_feature in Dataset.\n",
      "  warnings.warn('Using categorical_feature in Dataset.')\n"
     ]
    },
    {
     "name": "stdout",
     "output_type": "stream",
     "text": [
      "Training until validation scores don't improve for 500 rounds.\n",
      "[500]\ttraining's auc: 0.986308\tvalid_1's auc: 0.915815\n",
      "[1000]\ttraining's auc: 0.998065\tvalid_1's auc: 0.921312\n",
      "Early stopping, best iteration is:\n",
      "[973]\ttraining's auc: 0.997841\tvalid_1's auc: 0.92136\n",
      "  auc =  0.9213602832583254\n",
      "0.921552900501287\n",
      "card_hour_Amt\n",
      "(138771, 337)\n",
      "Fold 0\n"
     ]
    },
    {
     "name": "stderr",
     "output_type": "stream",
     "text": [
      "/home/jinpwa/anaconda3/lib/python3.6/site-packages/lightgbm/basic.py:1247: UserWarning: Using categorical_feature in Dataset.\n",
      "  warnings.warn('Using categorical_feature in Dataset.')\n"
     ]
    },
    {
     "name": "stdout",
     "output_type": "stream",
     "text": [
      "Training until validation scores don't improve for 500 rounds.\n",
      "[500]\ttraining's auc: 0.986041\tvalid_1's auc: 0.900688\n",
      "[1000]\ttraining's auc: 0.998004\tvalid_1's auc: 0.909947\n",
      "[1500]\ttraining's auc: 0.999763\tvalid_1's auc: 0.911673\n",
      "[2000]\ttraining's auc: 0.99998\tvalid_1's auc: 0.911914\n",
      "[2500]\ttraining's auc: 0.999999\tvalid_1's auc: 0.912031\n",
      "Early stopping, best iteration is:\n",
      "[2392]\ttraining's auc: 0.999998\tvalid_1's auc: 0.912123\n",
      "  auc =  0.9121227457365354\n",
      "Fold 1\n"
     ]
    },
    {
     "name": "stderr",
     "output_type": "stream",
     "text": [
      "/home/jinpwa/anaconda3/lib/python3.6/site-packages/lightgbm/basic.py:1247: UserWarning: Using categorical_feature in Dataset.\n",
      "  warnings.warn('Using categorical_feature in Dataset.')\n"
     ]
    },
    {
     "name": "stdout",
     "output_type": "stream",
     "text": [
      "Training until validation scores don't improve for 500 rounds.\n",
      "[500]\ttraining's auc: 0.986887\tvalid_1's auc: 0.923916\n",
      "[1000]\ttraining's auc: 0.998316\tvalid_1's auc: 0.9309\n",
      "[1500]\ttraining's auc: 0.999822\tvalid_1's auc: 0.930641\n",
      "Early stopping, best iteration is:\n",
      "[1011]\ttraining's auc: 0.998395\tvalid_1's auc: 0.930946\n",
      "  auc =  0.9309463118532768\n",
      "Fold 2\n"
     ]
    },
    {
     "name": "stderr",
     "output_type": "stream",
     "text": [
      "/home/jinpwa/anaconda3/lib/python3.6/site-packages/lightgbm/basic.py:1247: UserWarning: Using categorical_feature in Dataset.\n",
      "  warnings.warn('Using categorical_feature in Dataset.')\n"
     ]
    },
    {
     "name": "stdout",
     "output_type": "stream",
     "text": [
      "Training until validation scores don't improve for 500 rounds.\n",
      "[500]\ttraining's auc: 0.986364\tvalid_1's auc: 0.915607\n",
      "[1000]\ttraining's auc: 0.99814\tvalid_1's auc: 0.920923\n",
      "[1500]\ttraining's auc: 0.999818\tvalid_1's auc: 0.920365\n",
      "Early stopping, best iteration is:\n",
      "[1007]\ttraining's auc: 0.998194\tvalid_1's auc: 0.920951\n",
      "  auc =  0.9209514442722335\n",
      "0.9213401672873485\n",
      "card_day_Amt_ratio\n",
      "(138771, 337)\n",
      "Fold 0\n"
     ]
    },
    {
     "name": "stderr",
     "output_type": "stream",
     "text": [
      "/home/jinpwa/anaconda3/lib/python3.6/site-packages/lightgbm/basic.py:1247: UserWarning: Using categorical_feature in Dataset.\n",
      "  warnings.warn('Using categorical_feature in Dataset.')\n"
     ]
    },
    {
     "name": "stdout",
     "output_type": "stream",
     "text": [
      "Training until validation scores don't improve for 500 rounds.\n",
      "[500]\ttraining's auc: 0.986131\tvalid_1's auc: 0.899886\n",
      "[1000]\ttraining's auc: 0.998071\tvalid_1's auc: 0.90923\n",
      "[1500]\ttraining's auc: 0.999784\tvalid_1's auc: 0.910234\n",
      "[2000]\ttraining's auc: 0.999984\tvalid_1's auc: 0.910408\n",
      "Early stopping, best iteration is:\n",
      "[1581]\ttraining's auc: 0.999853\tvalid_1's auc: 0.910464\n",
      "  auc =  0.9104639976544477\n",
      "Fold 1\n"
     ]
    },
    {
     "name": "stderr",
     "output_type": "stream",
     "text": [
      "/home/jinpwa/anaconda3/lib/python3.6/site-packages/lightgbm/basic.py:1247: UserWarning: Using categorical_feature in Dataset.\n",
      "  warnings.warn('Using categorical_feature in Dataset.')\n"
     ]
    },
    {
     "name": "stdout",
     "output_type": "stream",
     "text": [
      "Training until validation scores don't improve for 500 rounds.\n",
      "[500]\ttraining's auc: 0.987103\tvalid_1's auc: 0.92377\n",
      "[1000]\ttraining's auc: 0.998364\tvalid_1's auc: 0.930274\n",
      "[1500]\ttraining's auc: 0.999831\tvalid_1's auc: 0.930524\n",
      "Early stopping, best iteration is:\n",
      "[1403]\ttraining's auc: 0.999729\tvalid_1's auc: 0.930655\n",
      "  auc =  0.9306550190060547\n",
      "Fold 2\n"
     ]
    },
    {
     "name": "stderr",
     "output_type": "stream",
     "text": [
      "/home/jinpwa/anaconda3/lib/python3.6/site-packages/lightgbm/basic.py:1247: UserWarning: Using categorical_feature in Dataset.\n",
      "  warnings.warn('Using categorical_feature in Dataset.')\n"
     ]
    },
    {
     "name": "stdout",
     "output_type": "stream",
     "text": [
      "Training until validation scores don't improve for 500 rounds.\n",
      "[500]\ttraining's auc: 0.986424\tvalid_1's auc: 0.91571\n",
      "[1000]\ttraining's auc: 0.998191\tvalid_1's auc: 0.92061\n",
      "Early stopping, best iteration is:\n",
      "[896]\ttraining's auc: 0.997174\tvalid_1's auc: 0.920716\n",
      "  auc =  0.9207163644317304\n",
      "0.920611793697411\n",
      "card_mv_hour_fq\n",
      "(138771, 337)\n",
      "Fold 0\n"
     ]
    },
    {
     "name": "stderr",
     "output_type": "stream",
     "text": [
      "/home/jinpwa/anaconda3/lib/python3.6/site-packages/lightgbm/basic.py:1247: UserWarning: Using categorical_feature in Dataset.\n",
      "  warnings.warn('Using categorical_feature in Dataset.')\n"
     ]
    },
    {
     "name": "stdout",
     "output_type": "stream",
     "text": [
      "Training until validation scores don't improve for 500 rounds.\n",
      "[500]\ttraining's auc: 0.985909\tvalid_1's auc: 0.900941\n",
      "[1000]\ttraining's auc: 0.997879\tvalid_1's auc: 0.910224\n",
      "[1500]\ttraining's auc: 0.999721\tvalid_1's auc: 0.911763\n",
      "[2000]\ttraining's auc: 0.999971\tvalid_1's auc: 0.911937\n",
      "[2500]\ttraining's auc: 0.999998\tvalid_1's auc: 0.912016\n",
      "[3000]\ttraining's auc: 1\tvalid_1's auc: 0.912258\n",
      "[3500]\ttraining's auc: 1\tvalid_1's auc: 0.912381\n",
      "[4000]\ttraining's auc: 1\tvalid_1's auc: 0.912425\n",
      "[4500]\ttraining's auc: 1\tvalid_1's auc: 0.912487\n",
      "Early stopping, best iteration is:\n",
      "[4013]\ttraining's auc: 1\tvalid_1's auc: 0.912414\n",
      "  auc =  0.9124139848611627\n",
      "Fold 1\n"
     ]
    },
    {
     "name": "stderr",
     "output_type": "stream",
     "text": [
      "/home/jinpwa/anaconda3/lib/python3.6/site-packages/lightgbm/basic.py:1247: UserWarning: Using categorical_feature in Dataset.\n",
      "  warnings.warn('Using categorical_feature in Dataset.')\n"
     ]
    },
    {
     "name": "stdout",
     "output_type": "stream",
     "text": [
      "Training until validation scores don't improve for 500 rounds.\n",
      "[500]\ttraining's auc: 0.986727\tvalid_1's auc: 0.923832\n",
      "[1000]\ttraining's auc: 0.998193\tvalid_1's auc: 0.930643\n",
      "[1500]\ttraining's auc: 0.999789\tvalid_1's auc: 0.930649\n",
      "Early stopping, best iteration is:\n",
      "[1393]\ttraining's auc: 0.999655\tvalid_1's auc: 0.93077\n",
      "  auc =  0.930769857678402\n",
      "Fold 2\n"
     ]
    },
    {
     "name": "stderr",
     "output_type": "stream",
     "text": [
      "/home/jinpwa/anaconda3/lib/python3.6/site-packages/lightgbm/basic.py:1247: UserWarning: Using categorical_feature in Dataset.\n",
      "  warnings.warn('Using categorical_feature in Dataset.')\n"
     ]
    },
    {
     "name": "stdout",
     "output_type": "stream",
     "text": [
      "Training until validation scores don't improve for 500 rounds.\n",
      "[500]\ttraining's auc: 0.986218\tvalid_1's auc: 0.915864\n",
      "[1000]\ttraining's auc: 0.998021\tvalid_1's auc: 0.920912\n",
      "Early stopping, best iteration is:\n",
      "[995]\ttraining's auc: 0.997978\tvalid_1's auc: 0.920963\n",
      "  auc =  0.9209625422060498\n",
      "0.9213821282485382\n"
     ]
    }
   ],
   "source": [
    "best = 0.9213639958310471\n",
    "to_drop = {'card_addr_fq','card_mv_hour_fq','card_mv_hour_fq_ratio',\n",
    "           'card_hour_Amt','card_hour_Amt_ratio','card_mv_day_fq',\n",
    "          'card_mv_day_fq_ratio','card_day_Amt','card_day_Amt_ratio'}\n",
    "result = []\n",
    "for col in to_drop:\n",
    "    print(col)\n",
    "    to_drop_temp = list(to_drop - set([col]))\n",
    "    features_train_temp = features_train.drop(to_drop_temp,axis=1)\n",
    "    print(features_train_temp.shape)\n",
    "    categorical_temp = list(set(categorical_raw).intersection(features_train_temp.columns))\n",
    "    ave_auc = fold_train_selector(3,features_train_temp,labels_train,categorical_temp)\n",
    "    print(ave_auc)\n",
    "    result.append([col,ave_auc])\n",
    "        "
   ]
  },
  {
   "cell_type": "code",
   "execution_count": 401,
   "metadata": {},
   "outputs": [
    {
     "data": {
      "text/plain": [
       "[['card_mv_day_fq_ratio', 0.9211033717294103],\n",
       " ['card_day_Amt', 0.9213143917588373],\n",
       " ['card_addr_fq', 0.9210122395628222],\n",
       " ['card_mv_hour_fq_ratio', 0.9212898281417399],\n",
       " ['card_hour_Amt_ratio', 0.920803794852779],\n",
       " ['card_mv_day_fq', 0.921552900501287],\n",
       " ['card_hour_Amt', 0.9213401672873485],\n",
       " ['card_day_Amt_ratio', 0.920611793697411],\n",
       " ['card_mv_hour_fq', 0.9213821282485382]]"
      ]
     },
     "execution_count": 401,
     "metadata": {},
     "output_type": "execute_result"
    }
   ],
   "source": [
    "result\n",
    "best = 0.9213639958310471"
   ]
  },
  {
   "cell_type": "code",
   "execution_count": 389,
   "metadata": {},
   "outputs": [
    {
     "data": {
      "text/plain": [
       "[['card6_fraud_rate', 0.9214416558805145],\n",
       " ['card_TAmt_ratio', 0.9214050655534516],\n",
       " ['card_pdc_cnt', 0.9213649170829448],\n",
       " ['hour_Amt', 0.9218786982153215],\n",
       " ['R_email_fraud_rate', 0.921679151177818],\n",
       " ['card_hour_fq', 0.9216196951784377]]"
      ]
     },
     "execution_count": 389,
     "metadata": {},
     "output_type": "execute_result"
    }
   ],
   "source": [
    "result\n",
    "0.921645405116515"
   ]
  },
  {
   "cell_type": "code",
   "execution_count": 354,
   "metadata": {},
   "outputs": [
    {
     "data": {
      "text/plain": [
       "[['R_email_fraud_rate', 0.921574223298346],\n",
       " ['card4_fraud_rate', 0.921645405116515],\n",
       " ['card6_fraud_rate', 0.9215957937687596]]"
      ]
     },
     "execution_count": 354,
     "metadata": {},
     "output_type": "execute_result"
    }
   ],
   "source": [
    "result"
   ]
  }
 ],
 "metadata": {
  "kernelspec": {
   "display_name": "Python 3",
   "language": "python",
   "name": "python3"
  },
  "language_info": {
   "codemirror_mode": {
    "name": "ipython",
    "version": 3
   },
   "file_extension": ".py",
   "mimetype": "text/x-python",
   "name": "python",
   "nbconvert_exporter": "python",
   "pygments_lexer": "ipython3",
   "version": "3.6.5"
  }
 },
 "nbformat": 4,
 "nbformat_minor": 2
}
