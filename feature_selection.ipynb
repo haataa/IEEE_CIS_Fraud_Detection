{
 "cells": [
  {
   "cell_type": "code",
   "execution_count": null,
   "metadata": {},
   "outputs": [],
   "source": [
    "# import packages\n",
    "import numpy as np\n",
    "import pandas as pd\n",
    "import matplotlib.pyplot as plt\n",
    "import featuretools as ft\n",
    "import lightgbm as lgb\n",
    "import seaborn as sns\n",
    "from sklearn.model_selection import GridSearchCV\n",
    "from sklearn.model_selection import KFold\n",
    "from sklearn.metrics import roc_auc_score\n",
    "from random import sample \n",
    "\n",
    "%matplotlib inline\n",
    "RSEED = 50"
   ]
  },
  {
   "cell_type": "markdown",
   "metadata": {},
   "source": [
    "# Load Original Features"
   ]
  },
  {
   "cell_type": "code",
   "execution_count": 3,
   "metadata": {},
   "outputs": [],
   "source": [
    "feat_num = 469\n",
    "df_total = pd.read_csv('./data/features%s.csv'%(feat_num))"
   ]
  },
  {
   "cell_type": "code",
   "execution_count": 9,
   "metadata": {},
   "outputs": [
    {
     "data": {
      "text/plain": [
       "(590540, 469)"
      ]
     },
     "execution_count": 9,
     "metadata": {},
     "output_type": "execute_result"
    }
   ],
   "source": [
    "df_train = df_total[df_total['isFraud'].notnull()]\n",
    "df_train.shape"
   ]
  },
  {
   "cell_type": "markdown",
   "metadata": {},
   "source": [
    "# Sample Train Data"
   ]
  },
  {
   "cell_type": "code",
   "execution_count": 10,
   "metadata": {},
   "outputs": [
    {
     "data": {
      "text/plain": [
       "(100000, 469)"
      ]
     },
     "execution_count": 10,
     "metadata": {},
     "output_type": "execute_result"
    }
   ],
   "source": [
    "df_train_sample=df_train.sample(n=100000,random_state=RSEED)\n",
    "df_train_sample.shape"
   ]
  },
  {
   "cell_type": "markdown",
   "metadata": {},
   "source": [
    "# Prepare Data"
   ]
  },
  {
   "cell_type": "code",
   "execution_count": 11,
   "metadata": {},
   "outputs": [
    {
     "data": {
      "text/plain": [
       "(100000, 467)"
      ]
     },
     "execution_count": 11,
     "metadata": {},
     "output_type": "execute_result"
    }
   ],
   "source": [
    "labels_train = df_train_sample['isFraud']\n",
    "features_train = df_train_sample.drop(columns = ['isFraud', 'TransactionID'])\n",
    "features_train.shape"
   ]
  },
  {
   "cell_type": "code",
   "execution_count": 13,
   "metadata": {},
   "outputs": [],
   "source": [
    "categorical = ['ProductCD', 'card2', 'card3', 'card4', 'card5','card6',\n",
    "              'addr1','addr2','P_email','R_email','M1','M2','M3',\n",
    "              'M4','M5','M6','M7','M8','M9','DeviceType','DeviceInfo','dow','hour',\n",
    "              'Device_name','Device_version','screen_width','screen_height',\n",
    "               'P_email_suffix','R_email_suffix','id_30_OS','id_30_version']\n",
    "ids = [ 'id_%s'%(i) for i in range(12,39)]\n",
    "categorical = categorical + ids\n",
    "categorical = list(set(categorical).intersection(df_total.columns))"
   ]
  },
  {
   "cell_type": "markdown",
   "metadata": {},
   "source": [
    "# Select Features"
   ]
  },
  {
   "cell_type": "code",
   "execution_count": 14,
   "metadata": {},
   "outputs": [],
   "source": [
    "params = {'num_leaves': 491,\n",
    "          'min_child_weight': 0.03454472573214212,\n",
    "          'feature_fraction': 0.3797454081646243,\n",
    "          'bagging_fraction': 0.4181193142567742,\n",
    "          'min_data_in_leaf': 106,\n",
    "          'objective': 'binary',\n",
    "          'max_depth': -1,\n",
    "          'learning_rate': 0.006883242363721497,\n",
    "          \"boosting_type\": \"gbdt\",\n",
    "          \"bagging_seed\": 11,\n",
    "          \"metric\": 'auc',\n",
    "          \"verbosity\": -1,\n",
    "          'reg_alpha': 0.3899927210061127,\n",
    "          'reg_lambda': 0.6485237330340494,\n",
    "          'random_state': 47\n",
    "          #'is_unbalance':True\n",
    "          #'scale_pos_weight':9\n",
    "         }"
   ]
  },
  {
   "cell_type": "code",
   "execution_count": 22,
   "metadata": {},
   "outputs": [],
   "source": [
    "def train_selector(train_num,features_train,labels_train,categorical):\n",
    "    train_set = lgb.Dataset(features_train.iloc[0:train_num,:], label=labels_train.values[0:train_num],\n",
    "                       categorical_feature=categorical)\n",
    "    valid_set = lgb.Dataset(features_train.iloc[train_num:,:], label=labels_train.values[train_num:],\n",
    "                       categorical_feature=categorical)\n",
    "    valid_results = {}\n",
    "    model = lgb.train(params,train_set,num_boost_round = 10000, \n",
    "                   valid_sets = [train_set, valid_set],\n",
    "                    verbose_eval=500,\n",
    "                    early_stopping_rounds = 500,\n",
    "                    evals_result=valid_results)\n",
    "    return model,valid_results"
   ]
  },
  {
   "cell_type": "code",
   "execution_count": 23,
   "metadata": {},
   "outputs": [
    {
     "name": "stderr",
     "output_type": "stream",
     "text": [
      "/home/jinpwa/anaconda3/lib/python3.6/site-packages/lightgbm/basic.py:1205: UserWarning: Using categorical_feature in Dataset.\n",
      "  warnings.warn('Using categorical_feature in Dataset.')\n",
      "/home/jinpwa/anaconda3/lib/python3.6/site-packages/lightgbm/basic.py:762: UserWarning: categorical_feature in param dict is overridden.\n",
      "  warnings.warn('categorical_feature in param dict is overridden.')\n"
     ]
    },
    {
     "name": "stdout",
     "output_type": "stream",
     "text": [
      "Training until validation scores don't improve for 500 rounds.\n",
      "[500]\ttraining's auc: 0.99669\tvalid_1's auc: 0.918101\n",
      "[1000]\ttraining's auc: 0.999955\tvalid_1's auc: 0.925954\n",
      "[1500]\ttraining's auc: 1\tvalid_1's auc: 0.92709\n",
      "[2000]\ttraining's auc: 1\tvalid_1's auc: 0.926962\n",
      "Early stopping, best iteration is:\n",
      "[1623]\ttraining's auc: 1\tvalid_1's auc: 0.927194\n"
     ]
    }
   ],
   "source": [
    "model,valid_results = train_selector(train_num,features_train,labels_train,categorical)"
   ]
  },
  {
   "cell_type": "code",
   "execution_count": 15,
   "metadata": {},
   "outputs": [
    {
     "name": "stderr",
     "output_type": "stream",
     "text": [
      "/home/jinpwa/anaconda3/lib/python3.6/site-packages/lightgbm/basic.py:1205: UserWarning: Using categorical_feature in Dataset.\n",
      "  warnings.warn('Using categorical_feature in Dataset.')\n",
      "/home/jinpwa/anaconda3/lib/python3.6/site-packages/lightgbm/basic.py:762: UserWarning: categorical_feature in param dict is overridden.\n",
      "  warnings.warn('categorical_feature in param dict is overridden.')\n"
     ]
    },
    {
     "name": "stdout",
     "output_type": "stream",
     "text": [
      "Training until validation scores don't improve for 500 rounds.\n",
      "[500]\ttraining's auc: 0.996677\tvalid_1's auc: 0.918242\n",
      "[1000]\ttraining's auc: 0.999952\tvalid_1's auc: 0.924871\n",
      "[1500]\ttraining's auc: 1\tvalid_1's auc: 0.926299\n",
      "[2000]\ttraining's auc: 1\tvalid_1's auc: 0.926302\n",
      "Early stopping, best iteration is:\n",
      "[1628]\ttraining's auc: 1\tvalid_1's auc: 0.926277\n"
     ]
    }
   ],
   "source": [
    "train_num = 80000\n",
    "train_set = lgb.Dataset(features_train.iloc[0:train_num,:], label=labels_train.values[0:train_num],\n",
    "                       categorical_feature=categorical)\n",
    "valid_set = lgb.Dataset(features_train.iloc[train_num:,:], label=labels_train.values[train_num:],\n",
    "                       categorical_feature=categorical)\n",
    "valid_results = {}\n",
    "model = lgb.train(params,train_set,num_boost_round = 10000, \n",
    "                   valid_sets = [train_set, valid_set],\n",
    "                    verbose_eval=500,\n",
    "                    early_stopping_rounds = 500,\n",
    "                 evals_result=valid_results)"
   ]
  },
  {
   "cell_type": "code",
   "execution_count": null,
   "metadata": {},
   "outputs": [],
   "source": []
  },
  {
   "cell_type": "code",
   "execution_count": 16,
   "metadata": {},
   "outputs": [],
   "source": [
    "fi = pd.DataFrame({'feature': features_train.columns, \n",
    "                   'importance':model.feature_importance()})\n",
    "fi = fi.sort_values('importance', ascending = False)"
   ]
  },
  {
   "cell_type": "code",
   "execution_count": 18,
   "metadata": {},
   "outputs": [],
   "source": [
    "fi_important = fi[fi.importance>0]\n",
    "features_train = features_train[fi_important.feature]\n",
    "categorical = list(set(categorical).intersection(fi_important.feature))"
   ]
  },
  {
   "cell_type": "code",
   "execution_count": 19,
   "metadata": {},
   "outputs": [
    {
     "name": "stderr",
     "output_type": "stream",
     "text": [
      "/home/jinpwa/anaconda3/lib/python3.6/site-packages/lightgbm/basic.py:1205: UserWarning: Using categorical_feature in Dataset.\n",
      "  warnings.warn('Using categorical_feature in Dataset.')\n",
      "/home/jinpwa/anaconda3/lib/python3.6/site-packages/lightgbm/basic.py:762: UserWarning: categorical_feature in param dict is overridden.\n",
      "  warnings.warn('categorical_feature in param dict is overridden.')\n"
     ]
    },
    {
     "name": "stdout",
     "output_type": "stream",
     "text": [
      "Training until validation scores don't improve for 500 rounds.\n",
      "[500]\ttraining's auc: 0.99669\tvalid_1's auc: 0.918101\n",
      "[1000]\ttraining's auc: 0.999955\tvalid_1's auc: 0.925954\n",
      "[1500]\ttraining's auc: 1\tvalid_1's auc: 0.92709\n",
      "[2000]\ttraining's auc: 1\tvalid_1's auc: 0.926962\n",
      "Early stopping, best iteration is:\n",
      "[1623]\ttraining's auc: 1\tvalid_1's auc: 0.927194\n"
     ]
    }
   ],
   "source": [
    "train_num = 80000\n",
    "train_set = lgb.Dataset(features_train.iloc[0:train_num,:], label=labels_train.values[0:train_num],\n",
    "                       categorical_feature=categorical)\n",
    "valid_set = lgb.Dataset(features_train.iloc[train_num:,:], label=labels_train.values[train_num:],\n",
    "                       categorical_feature=categorical)\n",
    "valid_results = {}\n",
    "model = lgb.train(params,train_set,num_boost_round = 10000, \n",
    "                   valid_sets = [train_set, valid_set],\n",
    "                    verbose_eval=500,\n",
    "                    early_stopping_rounds = 500,\n",
    "                 evals_result=valid_results)"
   ]
  },
  {
   "cell_type": "code",
   "execution_count": 24,
   "metadata": {},
   "outputs": [
    {
     "data": {
      "text/plain": [
       "(100000, 444)"
      ]
     },
     "execution_count": 24,
     "metadata": {},
     "output_type": "execute_result"
    }
   ],
   "source": [
    "features_train.shape"
   ]
  },
  {
   "cell_type": "code",
   "execution_count": 28,
   "metadata": {},
   "outputs": [],
   "source": [
    "fi_unimportant = fi[fi.importance==0]"
   ]
  },
  {
   "cell_type": "code",
   "execution_count": 33,
   "metadata": {},
   "outputs": [
    {
     "data": {
      "text/plain": [
       "453    card1_count\n",
       "10           addr2\n",
       "167           V117\n",
       "168           V118\n",
       "169           V119\n",
       "170           V120\n",
       "172           V122\n",
       "414          id_25\n",
       "410          id_21\n",
       "415          id_26\n",
       "355           V305\n",
       "406          id_17\n",
       "77             V27\n",
       "78             V28\n",
       "138            V88\n",
       "139            V89\n",
       "403          id_14\n",
       "157           V107\n",
       "290           V240\n",
       "291           V241\n",
       "91             V41\n",
       "413          id_24\n",
       "118            V68\n",
       "Name: feature, dtype: object"
      ]
     },
     "execution_count": 33,
     "metadata": {},
     "output_type": "execute_result"
    }
   ],
   "source": [
    "fi_unimportant['feature']"
   ]
  }
 ],
 "metadata": {
  "kernelspec": {
   "display_name": "Python 3",
   "language": "python",
   "name": "python3"
  },
  "language_info": {
   "codemirror_mode": {
    "name": "ipython",
    "version": 3
   },
   "file_extension": ".py",
   "mimetype": "text/x-python",
   "name": "python",
   "nbconvert_exporter": "python",
   "pygments_lexer": "ipython3",
   "version": "3.6.5"
  }
 },
 "nbformat": 4,
 "nbformat_minor": 2
}
