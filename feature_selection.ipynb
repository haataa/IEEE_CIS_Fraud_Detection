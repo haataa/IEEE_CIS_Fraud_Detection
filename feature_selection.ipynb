{
 "cells": [
  {
   "cell_type": "code",
   "execution_count": 1,
   "metadata": {},
   "outputs": [],
   "source": [
    "# import packages\n",
    "import numpy as np\n",
    "import pandas as pd\n",
    "import matplotlib.pyplot as plt\n",
    "import featuretools as ft\n",
    "import lightgbm as lgb\n",
    "import seaborn as sns\n",
    "from sklearn.model_selection import GridSearchCV\n",
    "from sklearn.model_selection import KFold\n",
    "from sklearn.metrics import roc_auc_score\n",
    "from random import sample \n",
    "import pickle\n",
    "\n",
    "%matplotlib inline\n",
    "RSEED = 50"
   ]
  },
  {
   "cell_type": "markdown",
   "metadata": {},
   "source": [
    "# Load Original Features"
   ]
  },
  {
   "cell_type": "code",
   "execution_count": 2,
   "metadata": {},
   "outputs": [],
   "source": [
    "feat_num = 476\n",
    "df_total = pd.read_csv('./data/features%s.csv'%(feat_num))"
   ]
  },
  {
   "cell_type": "code",
   "execution_count": 3,
   "metadata": {},
   "outputs": [
    {
     "data": {
      "text/plain": [
       "(590540, 476)"
      ]
     },
     "execution_count": 3,
     "metadata": {},
     "output_type": "execute_result"
    }
   ],
   "source": [
    "df_train = df_total[df_total['isFraud'].notnull()]\n",
    "df_train.shape"
   ]
  },
  {
   "cell_type": "markdown",
   "metadata": {},
   "source": [
    "# Sample Train Data"
   ]
  },
  {
   "cell_type": "code",
   "execution_count": 4,
   "metadata": {},
   "outputs": [
    {
     "data": {
      "text/plain": [
       "(200000, 476)"
      ]
     },
     "execution_count": 4,
     "metadata": {},
     "output_type": "execute_result"
    }
   ],
   "source": [
    "df_train_sample=df_train.sample(n=200000,random_state=RSEED)\n",
    "df_train_sample.shape"
   ]
  },
  {
   "cell_type": "markdown",
   "metadata": {},
   "source": [
    "# Prepare Data"
   ]
  },
  {
   "cell_type": "code",
   "execution_count": 7,
   "metadata": {},
   "outputs": [
    {
     "data": {
      "text/plain": [
       "(200000, 474)"
      ]
     },
     "execution_count": 7,
     "metadata": {},
     "output_type": "execute_result"
    }
   ],
   "source": [
    "labels_train = df_train_sample['isFraud']\n",
    "features_train = df_train_sample.drop(columns = ['isFraud', 'TransactionID'])\n",
    "features_train.shape"
   ]
  },
  {
   "cell_type": "code",
   "execution_count": 30,
   "metadata": {},
   "outputs": [],
   "source": [
    "categorical_raw = ['ProductCD', 'card2', 'card3', 'card4', 'card5','card6',\n",
    "              'addr1','addr2','P_email','R_email','M1','M2','M3',\n",
    "              'M4','M5','M6','M7','M8','M9','DeviceType','DeviceInfo','dow','hour',\n",
    "              'Device_name','Device_version','screen_width','screen_height',\n",
    "               'P_email_suffix','R_email_suffix','id_30_OS','id_30_version'\n",
    "              ] \n",
    "#'is_card_freq_Device','is_wide','is_long','is_zero','is_win8_vista',\n",
    "#              'is_windows_otheros','is_card_freq_pdc','is_card_freq_addr1'\n",
    "ids = [ 'id_%s'%(i) for i in range(12,39)]\n",
    "categorical_raw = categorical_raw + ids"
   ]
  },
  {
   "cell_type": "code",
   "execution_count": 50,
   "metadata": {},
   "outputs": [],
   "source": [
    "#categorical = list(set(categorical_raw).intersection(features_train.columns))\n",
    "#features_train[categorical].nunique().sort_values(ascending=False)"
   ]
  },
  {
   "cell_type": "markdown",
   "metadata": {},
   "source": [
    "# Select Features"
   ]
  },
  {
   "cell_type": "code",
   "execution_count": 31,
   "metadata": {},
   "outputs": [],
   "source": [
    "params = {'num_leaves': 491,\n",
    "          'min_child_weight': 0.03454472573214212,\n",
    "          'feature_fraction': 0.3797454081646243,\n",
    "          'bagging_fraction': 0.4181193142567742,\n",
    "          'min_data_in_leaf': 106,\n",
    "          'objective': 'binary',\n",
    "          'max_depth': -1,\n",
    "          'learning_rate': 0.006883242363721497,\n",
    "          \"boosting_type\": \"gbdt\",\n",
    "          \"bagging_seed\": 11,\n",
    "          \"metric\": 'auc',\n",
    "          \"verbosity\": -1,\n",
    "          'reg_alpha': 0.3899927210061127,\n",
    "          'reg_lambda': 0.6485237330340494,\n",
    "          'random_state': 47,\n",
    "          #'is_unbalance':True\n",
    "          #'scale_pos_weight':9\n",
    "         }"
   ]
  },
  {
   "cell_type": "code",
   "execution_count": 12,
   "metadata": {},
   "outputs": [],
   "source": [
    "def train_selector(params,train_num,features_train,labels_train,categorical,verbose_eval=500):\n",
    "    train_set = lgb.Dataset(features_train.iloc[0:train_num,:], label=labels_train.values[0:train_num],\n",
    "                       categorical_feature=categorical)\n",
    "    valid_set = lgb.Dataset(features_train.iloc[train_num:,:], label=labels_train.values[train_num:],\n",
    "                       categorical_feature=categorical)\n",
    "    valid_results = {}\n",
    "    model = lgb.train(params,train_set,num_boost_round = 10000, \n",
    "                   valid_sets = [train_set, valid_set],\n",
    "                    verbose_eval= verbose_eval,\n",
    "                    early_stopping_rounds = 500,\n",
    "                    evals_result=valid_results)\n",
    "    return model,valid_results"
   ]
  },
  {
   "cell_type": "code",
   "execution_count": 13,
   "metadata": {},
   "outputs": [],
   "source": [
    "def select_by_importance(model,features_train,importance=0,num_keep=None):\n",
    "    fi = pd.DataFrame({'feature': features_train.columns, \n",
    "                   'importance':model.feature_importance()})\n",
    "    fi = fi.sort_values('importance', ascending = False)\n",
    "    if num_keep != None:\n",
    "        to_drop = fi.iloc[num_keep:,:].feature\n",
    "    else:\n",
    "        to_drop = fi[fi.importance <= importance].feature\n",
    "    return to_drop\n",
    "    "
   ]
  },
  {
   "cell_type": "code",
   "execution_count": 19,
   "metadata": {},
   "outputs": [],
   "source": [
    "def fold_train_selector(Nfold,features_train,labels_train,categorical):\n",
    "    splits = Nfold\n",
    "    ave_auc = 0\n",
    "    valid_results = {}\n",
    "    \n",
    "    folds = KFold(n_splits = splits,random_state=RSEED)\n",
    "    \n",
    "    for fold_num, (trn_idx, val_idx) in enumerate(folds.split(features_train.values, \n",
    "                                                          labels_train.values)):\n",
    "        print(\"Fold {}\".format(fold_num))\n",
    "        train_df, y_train_df = features_train.iloc[trn_idx], labels_train.iloc[trn_idx]\n",
    "        valid_df, y_valid_df = features_train.iloc[val_idx], labels_train.iloc[val_idx]\n",
    "    \n",
    "        trn_data = lgb.Dataset(train_df, label=y_train_df,categorical_feature=categorical)\n",
    "        val_data = lgb.Dataset(valid_df, label=y_valid_df,categorical_feature=categorical)\n",
    "    \n",
    "        \n",
    "        clf = lgb.train(params,\n",
    "                        trn_data,\n",
    "                        10000,\n",
    "                        valid_sets = [trn_data, val_data],\n",
    "                        verbose_eval=500,\n",
    "                        early_stopping_rounds=500,\n",
    "                       evals_result=valid_results)\n",
    "        \n",
    "\n",
    "        pred = clf.predict(valid_df)\n",
    "        auc_score = roc_auc_score(y_valid_df, pred)\n",
    "        ave_auc += auc_score / splits\n",
    "        print( \"  auc = \", auc_score )\n",
    "    return ave_auc"
   ]
  },
  {
   "cell_type": "code",
   "execution_count": 24,
   "metadata": {},
   "outputs": [],
   "source": [
    "def fold_select_feature(Nfold,features_train,labels_train,categorical,importance=0):\n",
    "    splits = Nfold\n",
    "    ave_auc = 0\n",
    "    valid_results = {}\n",
    "    \n",
    "    folds = KFold(n_splits = splits,random_state=RSEED)\n",
    "    \n",
    "    for fold_num, (trn_idx, val_idx) in enumerate(folds.split(features_train.values, \n",
    "                                                          labels_train.values)):\n",
    "        print(\"Fold {}\".format(fold_num))\n",
    "        train_df, y_train_df = features_train.iloc[trn_idx], labels_train.iloc[trn_idx]\n",
    "        valid_df, y_valid_df = features_train.iloc[val_idx], labels_train.iloc[val_idx]\n",
    "    \n",
    "        trn_data = lgb.Dataset(train_df, label=y_train_df,categorical_feature=categorical)\n",
    "        val_data = lgb.Dataset(valid_df, label=y_valid_df,categorical_feature=categorical)\n",
    "    \n",
    "        \n",
    "        clf = lgb.train(params,\n",
    "                        trn_data,\n",
    "                        10000,\n",
    "                        valid_sets = [trn_data, val_data],\n",
    "                        verbose_eval=500,\n",
    "                        early_stopping_rounds=500,\n",
    "                       evals_result=valid_results)\n",
    "        \n",
    "        drop_this_round = list(select_by_importance(clf,train_df,importance=importance))\n",
    "        print(drop_this_round)\n",
    "        \n",
    "        if fold_num == 0:\n",
    "            to_drop = drop_this_round\n",
    "        else:\n",
    "            to_drop = list(set(to_drop).intersection(drop_this_round))\n",
    "        print(to_drop)\n",
    "        \n",
    "        pred = clf.predict(valid_df)\n",
    "        auc_score = roc_auc_score(y_valid_df, pred)\n",
    "        ave_auc += auc_score / splits\n",
    "        print( \"  auc = \", auc_score )\n",
    "    \n",
    "    return ave_auc,to_drop\n",
    "    \n",
    "    "
   ]
  },
  {
   "cell_type": "markdown",
   "metadata": {},
   "source": [
    "## Train with all feature set"
   ]
  },
  {
   "cell_type": "code",
   "execution_count": 32,
   "metadata": {},
   "outputs": [
    {
     "name": "stdout",
     "output_type": "stream",
     "text": [
      "Fold 0\n"
     ]
    },
    {
     "name": "stderr",
     "output_type": "stream",
     "text": [
      "/home/jinpwa/anaconda3/lib/python3.6/site-packages/lightgbm/basic.py:1247: UserWarning: Using categorical_feature in Dataset.\n",
      "  warnings.warn('Using categorical_feature in Dataset.')\n"
     ]
    },
    {
     "name": "stdout",
     "output_type": "stream",
     "text": [
      "Training until validation scores don't improve for 500 rounds.\n",
      "[500]\ttraining's auc: 0.996735\tvalid_1's auc: 0.936195\n",
      "[1000]\ttraining's auc: 0.999952\tvalid_1's auc: 0.945468\n",
      "[1500]\ttraining's auc: 1\tvalid_1's auc: 0.947468\n",
      "[2000]\ttraining's auc: 1\tvalid_1's auc: 0.948225\n",
      "Early stopping, best iteration is:\n",
      "[1613]\ttraining's auc: 1\tvalid_1's auc: 0.947802\n",
      "['V241', 'addr2', 'V240', 'V107', 'V120', 'V27', 'V28', 'id_21', 'id_24', 'id_25', 'V89', 'V88', 'V121', 'V122', 'V305', 'V119', 'V68', 'is_win8_vista', 'is_windows_otheros', 'V118', 'id_14', 'V117', 'is_zero']\n",
      "['V241', 'addr2', 'V240', 'V107', 'V120', 'V27', 'V28', 'id_21', 'id_24', 'id_25', 'V89', 'V88', 'V121', 'V122', 'V305', 'V119', 'V68', 'is_win8_vista', 'is_windows_otheros', 'V118', 'id_14', 'V117', 'is_zero']\n",
      "  auc =  0.9478019931766029\n",
      "Fold 1\n"
     ]
    },
    {
     "name": "stderr",
     "output_type": "stream",
     "text": [
      "/home/jinpwa/anaconda3/lib/python3.6/site-packages/lightgbm/basic.py:1247: UserWarning: Using categorical_feature in Dataset.\n",
      "  warnings.warn('Using categorical_feature in Dataset.')\n"
     ]
    },
    {
     "name": "stdout",
     "output_type": "stream",
     "text": [
      "Training until validation scores don't improve for 500 rounds.\n",
      "[500]\ttraining's auc: 0.997171\tvalid_1's auc: 0.932232\n",
      "[1000]\ttraining's auc: 0.999962\tvalid_1's auc: 0.941812\n",
      "[1500]\ttraining's auc: 1\tvalid_1's auc: 0.943665\n",
      "[2000]\ttraining's auc: 1\tvalid_1's auc: 0.944044\n",
      "Early stopping, best iteration is:\n",
      "[1741]\ttraining's auc: 1\tvalid_1's auc: 0.943957\n",
      "['V121', 'V241', 'V89', 'V122', 'V118', 'V107', 'id_14', 'V68', 'V65', 'id_26', 'id_25', 'V113', 'id_24', 'is_win8_vista', 'is_windows_otheros', 'V305', 'id_21', 'V117', 'V108', 'V28', 'V27', 'V240', 'V119', 'V120', 'is_zero']\n",
      "['V118', 'V68', 'V27', 'id_25', 'id_21', 'V122', 'is_zero', 'V240', 'V117', 'V305', 'V89', 'V107', 'V121', 'V28', 'V119', 'V241', 'id_24', 'id_14', 'V120', 'is_windows_otheros', 'is_win8_vista']\n",
      "  auc =  0.9439573765892916\n",
      "Fold 2\n"
     ]
    },
    {
     "name": "stderr",
     "output_type": "stream",
     "text": [
      "/home/jinpwa/anaconda3/lib/python3.6/site-packages/lightgbm/basic.py:1247: UserWarning: Using categorical_feature in Dataset.\n",
      "  warnings.warn('Using categorical_feature in Dataset.')\n"
     ]
    },
    {
     "name": "stdout",
     "output_type": "stream",
     "text": [
      "Training until validation scores don't improve for 500 rounds.\n",
      "[500]\ttraining's auc: 0.996631\tvalid_1's auc: 0.934045\n",
      "[1000]\ttraining's auc: 0.999946\tvalid_1's auc: 0.942766\n",
      "[1500]\ttraining's auc: 1\tvalid_1's auc: 0.944855\n",
      "[2000]\ttraining's auc: 1\tvalid_1's auc: 0.945709\n",
      "Early stopping, best iteration is:\n",
      "[1663]\ttraining's auc: 1\tvalid_1's auc: 0.945147\n",
      "['V118', 'V27', 'is_windows_otheros', 'V240', 'V241', 'V305', 'V120', 'V119', 'V117', 'V107', 'id_14', 'V89', 'id_21', 'id_22', 'id_24', 'id_25', 'id_26', 'is_win8_vista', 'is_zero']\n",
      "['V305', 'V27', 'V119', 'id_21', 'id_25', 'V118', 'V107', 'V89', 'V241', 'id_24', 'is_zero', 'id_14', 'is_win8_vista', 'V240', 'V120', 'is_windows_otheros', 'V117']\n",
      "  auc =  0.9451471033536736\n"
     ]
    }
   ],
   "source": [
    "categorical = list(set(categorical_raw).intersection(features_train.columns))\n",
    "ave_auc,to_drop = fold_select_feature(3,features_train,labels_train,categorical,importance=0)"
   ]
  },
  {
   "cell_type": "code",
   "execution_count": 26,
   "metadata": {},
   "outputs": [
    {
     "data": {
      "text/plain": [
       "0.9457859715571262"
      ]
     },
     "execution_count": 26,
     "metadata": {},
     "output_type": "execute_result"
    }
   ],
   "source": [
    "ave_auc"
   ]
  },
  {
   "cell_type": "code",
   "execution_count": 27,
   "metadata": {},
   "outputs": [
    {
     "data": {
      "text/plain": [
       "['V305',\n",
       " 'V119',\n",
       " 'id_25',\n",
       " 'id_21',\n",
       " 'V118',\n",
       " 'V107',\n",
       " 'V89',\n",
       " 'V241',\n",
       " 'id_24',\n",
       " 'V117',\n",
       " 'id_14',\n",
       " 'is_zero',\n",
       " 'V240',\n",
       " 'V120',\n",
       " 'is_windows_otheros',\n",
       " 'is_win8_vista']"
      ]
     },
     "execution_count": 27,
     "metadata": {},
     "output_type": "execute_result"
    }
   ],
   "source": [
    "to_drop"
   ]
  },
  {
   "cell_type": "markdown",
   "metadata": {},
   "source": [
    "## Feature selection by Importance"
   ]
  },
  {
   "cell_type": "code",
   "execution_count": 15,
   "metadata": {},
   "outputs": [
    {
     "ename": "NameError",
     "evalue": "name 'model' is not defined",
     "output_type": "error",
     "traceback": [
      "\u001b[0;31m---------------------------------------------------------------------------\u001b[0m",
      "\u001b[0;31mNameError\u001b[0m                                 Traceback (most recent call last)",
      "\u001b[0;32m<ipython-input-15-cdcb4ef8eaeb>\u001b[0m in \u001b[0;36m<module>\u001b[0;34m()\u001b[0m\n\u001b[0;32m----> 1\u001b[0;31m \u001b[0mto_drop\u001b[0m \u001b[0;34m=\u001b[0m \u001b[0mlist\u001b[0m\u001b[0;34m(\u001b[0m\u001b[0mselect_by_importance\u001b[0m\u001b[0;34m(\u001b[0m\u001b[0mmodel\u001b[0m\u001b[0;34m,\u001b[0m\u001b[0mfeatures_train\u001b[0m\u001b[0;34m,\u001b[0m\u001b[0mimportance\u001b[0m\u001b[0;34m=\u001b[0m\u001b[0;36m0\u001b[0m\u001b[0;34m)\u001b[0m\u001b[0;34m)\u001b[0m\u001b[0;34m\u001b[0m\u001b[0m\n\u001b[0m",
      "\u001b[0;31mNameError\u001b[0m: name 'model' is not defined"
     ]
    }
   ],
   "source": [
    "#to_drop = list(select_by_importance(model,features_train,importance=0))"
   ]
  },
  {
   "cell_type": "code",
   "execution_count": 28,
   "metadata": {},
   "outputs": [
    {
     "name": "stdout",
     "output_type": "stream",
     "text": [
      "Fold 0\n"
     ]
    },
    {
     "name": "stderr",
     "output_type": "stream",
     "text": [
      "/home/jinpwa/anaconda3/lib/python3.6/site-packages/lightgbm/basic.py:1247: UserWarning: Using categorical_feature in Dataset.\n",
      "  warnings.warn('Using categorical_feature in Dataset.')\n"
     ]
    },
    {
     "name": "stdout",
     "output_type": "stream",
     "text": [
      "Training until validation scores don't improve for 500 rounds.\n",
      "[500]\ttraining's auc: 0.996587\tvalid_1's auc: 0.936155\n",
      "[1000]\ttraining's auc: 0.999949\tvalid_1's auc: 0.945761\n",
      "[1500]\ttraining's auc: 1\tvalid_1's auc: 0.947914\n",
      "[2000]\ttraining's auc: 1\tvalid_1's auc: 0.948657\n",
      "Early stopping, best iteration is:\n",
      "[1621]\ttraining's auc: 1\tvalid_1's auc: 0.94815\n",
      "  auc =  0.9481503217222406\n",
      "Fold 1\n"
     ]
    },
    {
     "name": "stderr",
     "output_type": "stream",
     "text": [
      "/home/jinpwa/anaconda3/lib/python3.6/site-packages/lightgbm/basic.py:1247: UserWarning: Using categorical_feature in Dataset.\n",
      "  warnings.warn('Using categorical_feature in Dataset.')\n"
     ]
    },
    {
     "name": "stdout",
     "output_type": "stream",
     "text": [
      "Training until validation scores don't improve for 500 rounds.\n",
      "[500]\ttraining's auc: 0.997138\tvalid_1's auc: 0.932873\n",
      "[1000]\ttraining's auc: 0.999963\tvalid_1's auc: 0.942249\n",
      "[1500]\ttraining's auc: 1\tvalid_1's auc: 0.944271\n",
      "[2000]\ttraining's auc: 1\tvalid_1's auc: 0.944686\n",
      "Early stopping, best iteration is:\n",
      "[1708]\ttraining's auc: 1\tvalid_1's auc: 0.944508\n",
      "  auc =  0.9445077717249518\n",
      "Fold 2\n"
     ]
    },
    {
     "name": "stderr",
     "output_type": "stream",
     "text": [
      "/home/jinpwa/anaconda3/lib/python3.6/site-packages/lightgbm/basic.py:1247: UserWarning: Using categorical_feature in Dataset.\n",
      "  warnings.warn('Using categorical_feature in Dataset.')\n"
     ]
    },
    {
     "name": "stdout",
     "output_type": "stream",
     "text": [
      "Training until validation scores don't improve for 500 rounds.\n",
      "[500]\ttraining's auc: 0.996583\tvalid_1's auc: 0.933441\n",
      "[1000]\ttraining's auc: 0.999947\tvalid_1's auc: 0.942028\n",
      "[1500]\ttraining's auc: 1\tvalid_1's auc: 0.944093\n",
      "[2000]\ttraining's auc: 1\tvalid_1's auc: 0.944725\n",
      "Early stopping, best iteration is:\n",
      "[1692]\ttraining's auc: 1\tvalid_1's auc: 0.944436\n",
      "  auc =  0.9444363573760468\n"
     ]
    }
   ],
   "source": [
    "features_train_temp = features_train.drop(to_drop,axis=1)\n",
    "categorical_temp = list(set(categorical_raw).intersection(features_train_temp.columns))\n",
    "ave_auc = fold_train_selector(3,features_train_temp,labels_train,categorical_temp)"
   ]
  },
  {
   "cell_type": "code",
   "execution_count": 29,
   "metadata": {},
   "outputs": [
    {
     "data": {
      "text/plain": [
       "0.9456981502744131"
      ]
     },
     "execution_count": 29,
     "metadata": {},
     "output_type": "execute_result"
    }
   ],
   "source": [
    "ave_auc"
   ]
  },
  {
   "cell_type": "code",
   "execution_count": 105,
   "metadata": {},
   "outputs": [],
   "source": [
    "with open('./data/feat476_rm_importance0.pickle', 'wb') as handle:\n",
    "    pickle.dump(to_drop, handle, protocol=pickle.HIGHEST_PROTOCOL)"
   ]
  },
  {
   "cell_type": "markdown",
   "metadata": {},
   "source": [
    "## Recursive Eliminate Features"
   ]
  },
  {
   "cell_type": "code",
   "execution_count": null,
   "metadata": {},
   "outputs": [
    {
     "name": "stdout",
     "output_type": "stream",
     "text": [
      "Device_name\n"
     ]
    },
    {
     "name": "stderr",
     "output_type": "stream",
     "text": [
      "/home/jinpwa/anaconda3/lib/python3.6/site-packages/lightgbm/basic.py:1247: UserWarning: Using categorical_feature in Dataset.\n",
      "  warnings.warn('Using categorical_feature in Dataset.')\n"
     ]
    },
    {
     "name": "stdout",
     "output_type": "stream",
     "text": [
      "Training until validation scores don't improve for 500 rounds.\n",
      "[2000]\ttraining's auc: 1\tvalid_1's auc: 0.953302\n",
      "Early stopping, best iteration is:\n",
      "[1729]\ttraining's auc: 1\tvalid_1's auc: 0.953183\n",
      "remove Device_name improve auc from 0.9531365218167643 to 0.9534075096476156 this feature is endanger\n",
      "id_26\n"
     ]
    },
    {
     "name": "stderr",
     "output_type": "stream",
     "text": [
      "/home/jinpwa/anaconda3/lib/python3.6/site-packages/lightgbm/basic.py:1247: UserWarning: Using categorical_feature in Dataset.\n",
      "  warnings.warn('Using categorical_feature in Dataset.')\n"
     ]
    },
    {
     "name": "stdout",
     "output_type": "stream",
     "text": [
      "Training until validation scores don't improve for 500 rounds.\n",
      "[2000]\ttraining's auc: 1\tvalid_1's auc: 0.952548\n",
      "Early stopping, best iteration is:\n",
      "[1722]\ttraining's auc: 1\tvalid_1's auc: 0.952363\n",
      "P_email\n"
     ]
    },
    {
     "name": "stderr",
     "output_type": "stream",
     "text": [
      "/home/jinpwa/anaconda3/lib/python3.6/site-packages/lightgbm/basic.py:1247: UserWarning: Using categorical_feature in Dataset.\n",
      "  warnings.warn('Using categorical_feature in Dataset.')\n"
     ]
    },
    {
     "name": "stdout",
     "output_type": "stream",
     "text": [
      "Training until validation scores don't improve for 500 rounds.\n",
      "[2000]\ttraining's auc: 1\tvalid_1's auc: 0.952819\n",
      "Early stopping, best iteration is:\n",
      "[1808]\ttraining's auc: 1\tvalid_1's auc: 0.952699\n",
      "P_email_suffix\n"
     ]
    },
    {
     "name": "stderr",
     "output_type": "stream",
     "text": [
      "/home/jinpwa/anaconda3/lib/python3.6/site-packages/lightgbm/basic.py:1247: UserWarning: Using categorical_feature in Dataset.\n",
      "  warnings.warn('Using categorical_feature in Dataset.')\n"
     ]
    },
    {
     "name": "stdout",
     "output_type": "stream",
     "text": [
      "Training until validation scores don't improve for 500 rounds.\n",
      "[2000]\ttraining's auc: 1\tvalid_1's auc: 0.952628\n",
      "Early stopping, best iteration is:\n",
      "[1765]\ttraining's auc: 1\tvalid_1's auc: 0.952487\n",
      "M9\n"
     ]
    },
    {
     "name": "stderr",
     "output_type": "stream",
     "text": [
      "/home/jinpwa/anaconda3/lib/python3.6/site-packages/lightgbm/basic.py:1247: UserWarning: Using categorical_feature in Dataset.\n",
      "  warnings.warn('Using categorical_feature in Dataset.')\n"
     ]
    },
    {
     "name": "stdout",
     "output_type": "stream",
     "text": [
      "Training until validation scores don't improve for 500 rounds.\n",
      "[2000]\ttraining's auc: 1\tvalid_1's auc: 0.953003\n",
      "Early stopping, best iteration is:\n",
      "[1734]\ttraining's auc: 1\tvalid_1's auc: 0.952798\n",
      "card5\n"
     ]
    },
    {
     "name": "stderr",
     "output_type": "stream",
     "text": [
      "/home/jinpwa/anaconda3/lib/python3.6/site-packages/lightgbm/basic.py:1247: UserWarning: Using categorical_feature in Dataset.\n",
      "  warnings.warn('Using categorical_feature in Dataset.')\n"
     ]
    },
    {
     "name": "stdout",
     "output_type": "stream",
     "text": [
      "Training until validation scores don't improve for 500 rounds.\n",
      "[2000]\ttraining's auc: 1\tvalid_1's auc: 0.952742\n",
      "Early stopping, best iteration is:\n",
      "[1735]\ttraining's auc: 1\tvalid_1's auc: 0.952533\n",
      "Device_version\n"
     ]
    },
    {
     "name": "stderr",
     "output_type": "stream",
     "text": [
      "/home/jinpwa/anaconda3/lib/python3.6/site-packages/lightgbm/basic.py:1247: UserWarning: Using categorical_feature in Dataset.\n",
      "  warnings.warn('Using categorical_feature in Dataset.')\n"
     ]
    },
    {
     "name": "stdout",
     "output_type": "stream",
     "text": [
      "Training until validation scores don't improve for 500 rounds.\n",
      "[2000]\ttraining's auc: 1\tvalid_1's auc: 0.952814\n",
      "Early stopping, best iteration is:\n",
      "[1821]\ttraining's auc: 1\tvalid_1's auc: 0.952676\n",
      "id_22\n"
     ]
    },
    {
     "name": "stderr",
     "output_type": "stream",
     "text": [
      "/home/jinpwa/anaconda3/lib/python3.6/site-packages/lightgbm/basic.py:1247: UserWarning: Using categorical_feature in Dataset.\n",
      "  warnings.warn('Using categorical_feature in Dataset.')\n"
     ]
    },
    {
     "name": "stdout",
     "output_type": "stream",
     "text": [
      "Training until validation scores don't improve for 500 rounds.\n",
      "[2000]\ttraining's auc: 1\tvalid_1's auc: 0.953038\n",
      "Early stopping, best iteration is:\n",
      "[1741]\ttraining's auc: 1\tvalid_1's auc: 0.95305\n",
      "M6\n"
     ]
    },
    {
     "name": "stderr",
     "output_type": "stream",
     "text": [
      "/home/jinpwa/anaconda3/lib/python3.6/site-packages/lightgbm/basic.py:1247: UserWarning: Using categorical_feature in Dataset.\n",
      "  warnings.warn('Using categorical_feature in Dataset.')\n"
     ]
    },
    {
     "name": "stdout",
     "output_type": "stream",
     "text": [
      "Training until validation scores don't improve for 500 rounds.\n",
      "[2000]\ttraining's auc: 1\tvalid_1's auc: 0.9523\n",
      "Early stopping, best iteration is:\n",
      "[1766]\ttraining's auc: 1\tvalid_1's auc: 0.952148\n",
      "is_zero\n"
     ]
    },
    {
     "name": "stderr",
     "output_type": "stream",
     "text": [
      "/home/jinpwa/anaconda3/lib/python3.6/site-packages/lightgbm/basic.py:1247: UserWarning: Using categorical_feature in Dataset.\n",
      "  warnings.warn('Using categorical_feature in Dataset.')\n"
     ]
    },
    {
     "name": "stdout",
     "output_type": "stream",
     "text": [
      "Training until validation scores don't improve for 500 rounds.\n",
      "[2000]\ttraining's auc: 1\tvalid_1's auc: 0.953066\n",
      "Early stopping, best iteration is:\n",
      "[1714]\ttraining's auc: 1\tvalid_1's auc: 0.95285\n",
      "id_16\n"
     ]
    },
    {
     "name": "stderr",
     "output_type": "stream",
     "text": [
      "/home/jinpwa/anaconda3/lib/python3.6/site-packages/lightgbm/basic.py:1247: UserWarning: Using categorical_feature in Dataset.\n",
      "  warnings.warn('Using categorical_feature in Dataset.')\n"
     ]
    },
    {
     "name": "stdout",
     "output_type": "stream",
     "text": [
      "Training until validation scores don't improve for 500 rounds.\n",
      "[2000]\ttraining's auc: 1\tvalid_1's auc: 0.952969\n",
      "Early stopping, best iteration is:\n",
      "[1783]\ttraining's auc: 1\tvalid_1's auc: 0.952908\n",
      "id_24\n"
     ]
    },
    {
     "name": "stderr",
     "output_type": "stream",
     "text": [
      "/home/jinpwa/anaconda3/lib/python3.6/site-packages/lightgbm/basic.py:1247: UserWarning: Using categorical_feature in Dataset.\n",
      "  warnings.warn('Using categorical_feature in Dataset.')\n"
     ]
    },
    {
     "name": "stdout",
     "output_type": "stream",
     "text": [
      "Training until validation scores don't improve for 500 rounds.\n",
      "[2000]\ttraining's auc: 1\tvalid_1's auc: 0.952548\n",
      "Early stopping, best iteration is:\n",
      "[1722]\ttraining's auc: 1\tvalid_1's auc: 0.952363\n",
      "id_30_OS\n"
     ]
    },
    {
     "name": "stderr",
     "output_type": "stream",
     "text": [
      "/home/jinpwa/anaconda3/lib/python3.6/site-packages/lightgbm/basic.py:1247: UserWarning: Using categorical_feature in Dataset.\n",
      "  warnings.warn('Using categorical_feature in Dataset.')\n"
     ]
    },
    {
     "name": "stdout",
     "output_type": "stream",
     "text": [
      "Training until validation scores don't improve for 500 rounds.\n",
      "[2000]\ttraining's auc: 1\tvalid_1's auc: 0.95285\n",
      "Early stopping, best iteration is:\n",
      "[1704]\ttraining's auc: 1\tvalid_1's auc: 0.952689\n",
      "id_23\n"
     ]
    },
    {
     "name": "stderr",
     "output_type": "stream",
     "text": [
      "/home/jinpwa/anaconda3/lib/python3.6/site-packages/lightgbm/basic.py:1247: UserWarning: Using categorical_feature in Dataset.\n",
      "  warnings.warn('Using categorical_feature in Dataset.')\n"
     ]
    },
    {
     "name": "stdout",
     "output_type": "stream",
     "text": [
      "Training until validation scores don't improve for 500 rounds.\n",
      "[2000]\ttraining's auc: 1\tvalid_1's auc: 0.952923\n",
      "Early stopping, best iteration is:\n",
      "[1737]\ttraining's auc: 1\tvalid_1's auc: 0.952674\n",
      "M4\n"
     ]
    },
    {
     "name": "stderr",
     "output_type": "stream",
     "text": [
      "/home/jinpwa/anaconda3/lib/python3.6/site-packages/lightgbm/basic.py:1247: UserWarning: Using categorical_feature in Dataset.\n",
      "  warnings.warn('Using categorical_feature in Dataset.')\n"
     ]
    },
    {
     "name": "stdout",
     "output_type": "stream",
     "text": [
      "Training until validation scores don't improve for 500 rounds.\n",
      "[2000]\ttraining's auc: 1\tvalid_1's auc: 0.952626\n",
      "Early stopping, best iteration is:\n",
      "[1716]\ttraining's auc: 1\tvalid_1's auc: 0.952453\n",
      "dow\n"
     ]
    },
    {
     "name": "stderr",
     "output_type": "stream",
     "text": [
      "/home/jinpwa/anaconda3/lib/python3.6/site-packages/lightgbm/basic.py:1247: UserWarning: Using categorical_feature in Dataset.\n",
      "  warnings.warn('Using categorical_feature in Dataset.')\n"
     ]
    },
    {
     "name": "stdout",
     "output_type": "stream",
     "text": [
      "Training until validation scores don't improve for 500 rounds.\n",
      "[2000]\ttraining's auc: 1\tvalid_1's auc: 0.953519\n",
      "Early stopping, best iteration is:\n",
      "[1720]\ttraining's auc: 1\tvalid_1's auc: 0.953327\n",
      "remove dow improve auc from 0.9534075096476156 to 0.9535437865440888 this feature is endanger\n",
      "R_email_suffix\n"
     ]
    },
    {
     "name": "stderr",
     "output_type": "stream",
     "text": [
      "/home/jinpwa/anaconda3/lib/python3.6/site-packages/lightgbm/basic.py:1247: UserWarning: Using categorical_feature in Dataset.\n",
      "  warnings.warn('Using categorical_feature in Dataset.')\n"
     ]
    },
    {
     "name": "stdout",
     "output_type": "stream",
     "text": [
      "Training until validation scores don't improve for 500 rounds.\n",
      "[2000]\ttraining's auc: 1\tvalid_1's auc: 0.952952\n",
      "Early stopping, best iteration is:\n",
      "[1740]\ttraining's auc: 1\tvalid_1's auc: 0.952781\n",
      "addr1\n"
     ]
    },
    {
     "name": "stderr",
     "output_type": "stream",
     "text": [
      "/home/jinpwa/anaconda3/lib/python3.6/site-packages/lightgbm/basic.py:1247: UserWarning: Using categorical_feature in Dataset.\n",
      "  warnings.warn('Using categorical_feature in Dataset.')\n"
     ]
    },
    {
     "name": "stdout",
     "output_type": "stream",
     "text": [
      "Training until validation scores don't improve for 500 rounds.\n",
      "[2000]\ttraining's auc: 1\tvalid_1's auc: 0.949491\n",
      "Early stopping, best iteration is:\n",
      "[1799]\ttraining's auc: 1\tvalid_1's auc: 0.949389\n",
      "id_37\n"
     ]
    },
    {
     "name": "stderr",
     "output_type": "stream",
     "text": [
      "/home/jinpwa/anaconda3/lib/python3.6/site-packages/lightgbm/basic.py:1247: UserWarning: Using categorical_feature in Dataset.\n",
      "  warnings.warn('Using categorical_feature in Dataset.')\n"
     ]
    },
    {
     "name": "stdout",
     "output_type": "stream",
     "text": [
      "Training until validation scores don't improve for 500 rounds.\n",
      "[2000]\ttraining's auc: 1\tvalid_1's auc: 0.952834\n",
      "Early stopping, best iteration is:\n",
      "[1756]\ttraining's auc: 1\tvalid_1's auc: 0.952819\n",
      "id_36\n"
     ]
    },
    {
     "name": "stderr",
     "output_type": "stream",
     "text": [
      "/home/jinpwa/anaconda3/lib/python3.6/site-packages/lightgbm/basic.py:1247: UserWarning: Using categorical_feature in Dataset.\n",
      "  warnings.warn('Using categorical_feature in Dataset.')\n"
     ]
    },
    {
     "name": "stdout",
     "output_type": "stream",
     "text": [
      "Training until validation scores don't improve for 500 rounds.\n",
      "[2000]\ttraining's auc: 1\tvalid_1's auc: 0.953034\n",
      "Early stopping, best iteration is:\n",
      "[1765]\ttraining's auc: 1\tvalid_1's auc: 0.952757\n",
      "is_card_freq_pdc\n"
     ]
    },
    {
     "name": "stderr",
     "output_type": "stream",
     "text": [
      "/home/jinpwa/anaconda3/lib/python3.6/site-packages/lightgbm/basic.py:1247: UserWarning: Using categorical_feature in Dataset.\n",
      "  warnings.warn('Using categorical_feature in Dataset.')\n"
     ]
    },
    {
     "name": "stdout",
     "output_type": "stream",
     "text": [
      "Training until validation scores don't improve for 500 rounds.\n",
      "[2000]\ttraining's auc: 1\tvalid_1's auc: 0.952795\n",
      "Early stopping, best iteration is:\n",
      "[1731]\ttraining's auc: 1\tvalid_1's auc: 0.952635\n",
      "M3\n"
     ]
    },
    {
     "name": "stderr",
     "output_type": "stream",
     "text": [
      "/home/jinpwa/anaconda3/lib/python3.6/site-packages/lightgbm/basic.py:1247: UserWarning: Using categorical_feature in Dataset.\n",
      "  warnings.warn('Using categorical_feature in Dataset.')\n"
     ]
    },
    {
     "name": "stdout",
     "output_type": "stream",
     "text": [
      "Training until validation scores don't improve for 500 rounds.\n",
      "[2000]\ttraining's auc: 1\tvalid_1's auc: 0.952631\n",
      "Early stopping, best iteration is:\n",
      "[1742]\ttraining's auc: 1\tvalid_1's auc: 0.952338\n",
      "id_34\n"
     ]
    },
    {
     "name": "stderr",
     "output_type": "stream",
     "text": [
      "/home/jinpwa/anaconda3/lib/python3.6/site-packages/lightgbm/basic.py:1247: UserWarning: Using categorical_feature in Dataset.\n",
      "  warnings.warn('Using categorical_feature in Dataset.')\n"
     ]
    },
    {
     "name": "stdout",
     "output_type": "stream",
     "text": [
      "Training until validation scores don't improve for 500 rounds.\n",
      "[2000]\ttraining's auc: 1\tvalid_1's auc: 0.952993\n",
      "Early stopping, best iteration is:\n",
      "[1705]\ttraining's auc: 1\tvalid_1's auc: 0.952857\n",
      "card2\n"
     ]
    },
    {
     "name": "stderr",
     "output_type": "stream",
     "text": [
      "/home/jinpwa/anaconda3/lib/python3.6/site-packages/lightgbm/basic.py:1247: UserWarning: Using categorical_feature in Dataset.\n",
      "  warnings.warn('Using categorical_feature in Dataset.')\n"
     ]
    },
    {
     "name": "stdout",
     "output_type": "stream",
     "text": [
      "Training until validation scores don't improve for 500 rounds.\n",
      "[2000]\ttraining's auc: 1\tvalid_1's auc: 0.951441\n",
      "Early stopping, best iteration is:\n",
      "[1843]\ttraining's auc: 1\tvalid_1's auc: 0.951285\n",
      "M5\n"
     ]
    },
    {
     "name": "stderr",
     "output_type": "stream",
     "text": [
      "/home/jinpwa/anaconda3/lib/python3.6/site-packages/lightgbm/basic.py:1247: UserWarning: Using categorical_feature in Dataset.\n",
      "  warnings.warn('Using categorical_feature in Dataset.')\n"
     ]
    },
    {
     "name": "stdout",
     "output_type": "stream",
     "text": [
      "Training until validation scores don't improve for 500 rounds.\n",
      "[2000]\ttraining's auc: 1\tvalid_1's auc: 0.952769\n",
      "Early stopping, best iteration is:\n",
      "[1757]\ttraining's auc: 1\tvalid_1's auc: 0.952626\n",
      "M2\n"
     ]
    },
    {
     "name": "stderr",
     "output_type": "stream",
     "text": [
      "/home/jinpwa/anaconda3/lib/python3.6/site-packages/lightgbm/basic.py:1247: UserWarning: Using categorical_feature in Dataset.\n",
      "  warnings.warn('Using categorical_feature in Dataset.')\n"
     ]
    },
    {
     "name": "stdout",
     "output_type": "stream",
     "text": [
      "Training until validation scores don't improve for 500 rounds.\n",
      "[2000]\ttraining's auc: 1\tvalid_1's auc: 0.952821\n",
      "Early stopping, best iteration is:\n",
      "[1826]\ttraining's auc: 1\tvalid_1's auc: 0.952705\n",
      "M8\n"
     ]
    },
    {
     "name": "stderr",
     "output_type": "stream",
     "text": [
      "/home/jinpwa/anaconda3/lib/python3.6/site-packages/lightgbm/basic.py:1247: UserWarning: Using categorical_feature in Dataset.\n",
      "  warnings.warn('Using categorical_feature in Dataset.')\n"
     ]
    },
    {
     "name": "stdout",
     "output_type": "stream",
     "text": [
      "Training until validation scores don't improve for 500 rounds.\n",
      "[2000]\ttraining's auc: 1\tvalid_1's auc: 0.953178\n",
      "Early stopping, best iteration is:\n",
      "[1741]\ttraining's auc: 1\tvalid_1's auc: 0.953064\n",
      "is_windows_otheros\n"
     ]
    },
    {
     "name": "stderr",
     "output_type": "stream",
     "text": [
      "/home/jinpwa/anaconda3/lib/python3.6/site-packages/lightgbm/basic.py:1247: UserWarning: Using categorical_feature in Dataset.\n",
      "  warnings.warn('Using categorical_feature in Dataset.')\n"
     ]
    },
    {
     "name": "stdout",
     "output_type": "stream",
     "text": [
      "Training until validation scores don't improve for 500 rounds.\n"
     ]
    }
   ],
   "source": [
    "best = 0.9531365218167643\n",
    "rm_col = ''\n",
    "for col in categorical:\n",
    "    print(col)\n",
    "    features_train_temp = features_train.drop(col,axis=1)\n",
    "    categorical_temp = list(set(categorical_raw).intersection(features_train_temp.columns))\n",
    "    model_temp,valid_results = train_selector(params,train_num,features_train_temp,labels_train,categorical_temp,verbose_eval=2000)\n",
    "    pfm = max(valid_results['valid_1']['auc'])\n",
    "    if pfm > best:\n",
    "        print('remove %s improve auc from %s to %s this feature is endanger'%(col,best,pfm))\n",
    "        best = pfm\n",
    "        rm_col = col\n",
    "        "
   ]
  },
  {
   "cell_type": "code",
   "execution_count": 64,
   "metadata": {},
   "outputs": [
    {
     "data": {
      "text/plain": [
       "'ProductCD'"
      ]
     },
     "execution_count": 64,
     "metadata": {},
     "output_type": "execute_result"
    }
   ],
   "source": [
    "rm_col"
   ]
  }
 ],
 "metadata": {
  "kernelspec": {
   "display_name": "Python 3",
   "language": "python",
   "name": "python3"
  },
  "language_info": {
   "codemirror_mode": {
    "name": "ipython",
    "version": 3
   },
   "file_extension": ".py",
   "mimetype": "text/x-python",
   "name": "python",
   "nbconvert_exporter": "python",
   "pygments_lexer": "ipython3",
   "version": "3.6.5"
  }
 },
 "nbformat": 4,
 "nbformat_minor": 2
}
