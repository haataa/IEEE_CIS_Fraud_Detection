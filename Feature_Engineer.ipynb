{
 "cells": [
  {
   "cell_type": "code",
   "execution_count": 438,
   "metadata": {},
   "outputs": [],
   "source": [
    "# import packages\n",
    "import numpy as np\n",
    "import pandas as pd\n",
    "import matplotlib.pyplot as plt\n",
    "import featuretools as ft\n",
    "import lightgbm as lgb\n",
    "%matplotlib inline\n",
    "import seaborn as sns\n",
    "import math\n",
    "\n",
    "RSEED = 50"
   ]
  },
  {
   "cell_type": "markdown",
   "metadata": {},
   "source": [
    "## Load Data"
   ]
  },
  {
   "cell_type": "code",
   "execution_count": 381,
   "metadata": {},
   "outputs": [],
   "source": [
    "# Load training data\n",
    "df_train_transac = pd.read_csv('./data/train_transaction.csv')\n",
    "df_train_identity = pd.read_csv('./data/train_identity.csv')\n",
    "df_train = pd.merge(df_train_transac,df_train_identity,on='TransactionID',how='left')"
   ]
  },
  {
   "cell_type": "code",
   "execution_count": 382,
   "metadata": {},
   "outputs": [],
   "source": [
    "# Load test data\n",
    "df_test_transac = pd.read_csv('./data/test_transaction.csv')\n",
    "df_test_identity = pd.read_csv('./data/test_identity.csv')\n",
    "df_test = pd.merge(df_test_transac,df_test_identity,on='TransactionID',how='left')"
   ]
  },
  {
   "cell_type": "code",
   "execution_count": 383,
   "metadata": {},
   "outputs": [],
   "source": [
    "# combine train and test\n",
    "df_total = df_train.append(df_test,sort=False)"
   ]
  },
  {
   "cell_type": "code",
   "execution_count": 384,
   "metadata": {},
   "outputs": [
    {
     "data": {
      "text/html": [
       "<div>\n",
       "<style scoped>\n",
       "    .dataframe tbody tr th:only-of-type {\n",
       "        vertical-align: middle;\n",
       "    }\n",
       "\n",
       "    .dataframe tbody tr th {\n",
       "        vertical-align: top;\n",
       "    }\n",
       "\n",
       "    .dataframe thead th {\n",
       "        text-align: right;\n",
       "    }\n",
       "</style>\n",
       "<table border=\"1\" class=\"dataframe\">\n",
       "  <thead>\n",
       "    <tr style=\"text-align: right;\">\n",
       "      <th></th>\n",
       "      <th>TransactionID</th>\n",
       "      <th>isFraud</th>\n",
       "      <th>TransactionDT</th>\n",
       "      <th>TransactionAmt</th>\n",
       "      <th>ProductCD</th>\n",
       "      <th>card1</th>\n",
       "      <th>card2</th>\n",
       "      <th>card3</th>\n",
       "      <th>card4</th>\n",
       "      <th>card5</th>\n",
       "      <th>...</th>\n",
       "      <th>id_31</th>\n",
       "      <th>id_32</th>\n",
       "      <th>id_33</th>\n",
       "      <th>id_34</th>\n",
       "      <th>id_35</th>\n",
       "      <th>id_36</th>\n",
       "      <th>id_37</th>\n",
       "      <th>id_38</th>\n",
       "      <th>DeviceType</th>\n",
       "      <th>DeviceInfo</th>\n",
       "    </tr>\n",
       "  </thead>\n",
       "  <tbody>\n",
       "    <tr>\n",
       "      <th>0</th>\n",
       "      <td>2987000</td>\n",
       "      <td>0.0</td>\n",
       "      <td>86400</td>\n",
       "      <td>68.5</td>\n",
       "      <td>W</td>\n",
       "      <td>13926</td>\n",
       "      <td>NaN</td>\n",
       "      <td>150.0</td>\n",
       "      <td>discover</td>\n",
       "      <td>142.0</td>\n",
       "      <td>...</td>\n",
       "      <td>NaN</td>\n",
       "      <td>NaN</td>\n",
       "      <td>NaN</td>\n",
       "      <td>NaN</td>\n",
       "      <td>NaN</td>\n",
       "      <td>NaN</td>\n",
       "      <td>NaN</td>\n",
       "      <td>NaN</td>\n",
       "      <td>NaN</td>\n",
       "      <td>NaN</td>\n",
       "    </tr>\n",
       "    <tr>\n",
       "      <th>1</th>\n",
       "      <td>2987001</td>\n",
       "      <td>0.0</td>\n",
       "      <td>86401</td>\n",
       "      <td>29.0</td>\n",
       "      <td>W</td>\n",
       "      <td>2755</td>\n",
       "      <td>404.0</td>\n",
       "      <td>150.0</td>\n",
       "      <td>mastercard</td>\n",
       "      <td>102.0</td>\n",
       "      <td>...</td>\n",
       "      <td>NaN</td>\n",
       "      <td>NaN</td>\n",
       "      <td>NaN</td>\n",
       "      <td>NaN</td>\n",
       "      <td>NaN</td>\n",
       "      <td>NaN</td>\n",
       "      <td>NaN</td>\n",
       "      <td>NaN</td>\n",
       "      <td>NaN</td>\n",
       "      <td>NaN</td>\n",
       "    </tr>\n",
       "    <tr>\n",
       "      <th>2</th>\n",
       "      <td>2987002</td>\n",
       "      <td>0.0</td>\n",
       "      <td>86469</td>\n",
       "      <td>59.0</td>\n",
       "      <td>W</td>\n",
       "      <td>4663</td>\n",
       "      <td>490.0</td>\n",
       "      <td>150.0</td>\n",
       "      <td>visa</td>\n",
       "      <td>166.0</td>\n",
       "      <td>...</td>\n",
       "      <td>NaN</td>\n",
       "      <td>NaN</td>\n",
       "      <td>NaN</td>\n",
       "      <td>NaN</td>\n",
       "      <td>NaN</td>\n",
       "      <td>NaN</td>\n",
       "      <td>NaN</td>\n",
       "      <td>NaN</td>\n",
       "      <td>NaN</td>\n",
       "      <td>NaN</td>\n",
       "    </tr>\n",
       "    <tr>\n",
       "      <th>3</th>\n",
       "      <td>2987003</td>\n",
       "      <td>0.0</td>\n",
       "      <td>86499</td>\n",
       "      <td>50.0</td>\n",
       "      <td>W</td>\n",
       "      <td>18132</td>\n",
       "      <td>567.0</td>\n",
       "      <td>150.0</td>\n",
       "      <td>mastercard</td>\n",
       "      <td>117.0</td>\n",
       "      <td>...</td>\n",
       "      <td>NaN</td>\n",
       "      <td>NaN</td>\n",
       "      <td>NaN</td>\n",
       "      <td>NaN</td>\n",
       "      <td>NaN</td>\n",
       "      <td>NaN</td>\n",
       "      <td>NaN</td>\n",
       "      <td>NaN</td>\n",
       "      <td>NaN</td>\n",
       "      <td>NaN</td>\n",
       "    </tr>\n",
       "    <tr>\n",
       "      <th>4</th>\n",
       "      <td>2987004</td>\n",
       "      <td>0.0</td>\n",
       "      <td>86506</td>\n",
       "      <td>50.0</td>\n",
       "      <td>H</td>\n",
       "      <td>4497</td>\n",
       "      <td>514.0</td>\n",
       "      <td>150.0</td>\n",
       "      <td>mastercard</td>\n",
       "      <td>102.0</td>\n",
       "      <td>...</td>\n",
       "      <td>samsung browser 6.2</td>\n",
       "      <td>32.0</td>\n",
       "      <td>2220x1080</td>\n",
       "      <td>match_status:2</td>\n",
       "      <td>T</td>\n",
       "      <td>F</td>\n",
       "      <td>T</td>\n",
       "      <td>T</td>\n",
       "      <td>mobile</td>\n",
       "      <td>SAMSUNG SM-G892A Build/NRD90M</td>\n",
       "    </tr>\n",
       "  </tbody>\n",
       "</table>\n",
       "<p>5 rows × 434 columns</p>\n",
       "</div>"
      ],
      "text/plain": [
       "   TransactionID  isFraud  TransactionDT  TransactionAmt ProductCD  card1  \\\n",
       "0        2987000      0.0          86400            68.5         W  13926   \n",
       "1        2987001      0.0          86401            29.0         W   2755   \n",
       "2        2987002      0.0          86469            59.0         W   4663   \n",
       "3        2987003      0.0          86499            50.0         W  18132   \n",
       "4        2987004      0.0          86506            50.0         H   4497   \n",
       "\n",
       "   card2  card3       card4  card5              ...                \\\n",
       "0    NaN  150.0    discover  142.0              ...                 \n",
       "1  404.0  150.0  mastercard  102.0              ...                 \n",
       "2  490.0  150.0        visa  166.0              ...                 \n",
       "3  567.0  150.0  mastercard  117.0              ...                 \n",
       "4  514.0  150.0  mastercard  102.0              ...                 \n",
       "\n",
       "                 id_31  id_32      id_33           id_34  id_35 id_36 id_37  \\\n",
       "0                  NaN    NaN        NaN             NaN    NaN   NaN   NaN   \n",
       "1                  NaN    NaN        NaN             NaN    NaN   NaN   NaN   \n",
       "2                  NaN    NaN        NaN             NaN    NaN   NaN   NaN   \n",
       "3                  NaN    NaN        NaN             NaN    NaN   NaN   NaN   \n",
       "4  samsung browser 6.2   32.0  2220x1080  match_status:2      T     F     T   \n",
       "\n",
       "   id_38  DeviceType                     DeviceInfo  \n",
       "0    NaN         NaN                            NaN  \n",
       "1    NaN         NaN                            NaN  \n",
       "2    NaN         NaN                            NaN  \n",
       "3    NaN         NaN                            NaN  \n",
       "4      T      mobile  SAMSUNG SM-G892A Build/NRD90M  \n",
       "\n",
       "[5 rows x 434 columns]"
      ]
     },
     "execution_count": 384,
     "metadata": {},
     "output_type": "execute_result"
    }
   ],
   "source": [
    "df_total.head()"
   ]
  },
  {
   "cell_type": "markdown",
   "metadata": {},
   "source": [
    "# Feature Engineer"
   ]
  },
  {
   "cell_type": "code",
   "execution_count": 243,
   "metadata": {},
   "outputs": [],
   "source": [
    "def clean_id31(df):\n",
    "    df['id_31'] = df['id_31'].str.replace(\"([0-9\\.])\", \"\")\n",
    "    df['id_31'][df['id_31'].str.contains('chrome', regex=False)==True] = 'chrome'\n",
    "    df['id_31'][df['id_31'].str.contains('Samsung', regex=False)==True] = 'Samsung'\n",
    "    df['id_31'][df['id_31'].str.contains('samsung', regex=False)==True] = 'Samsung'\n",
    "    df['id_31'][df['id_31'].str.contains('firefox', regex=False)==True] = 'firefox'\n",
    "    df['id_31'][df['id_31'].str.contains('safari', regex=False)==True] = 'safari'\n",
    "    df['id_31'][df['id_31'].str.contains('opera', regex=False)==True] = 'opera'\n",
    "    df['id_31'] = df['id_31'].str.replace(\" \", \"\")\n",
    "    return df"
   ]
  },
  {
   "cell_type": "code",
   "execution_count": 244,
   "metadata": {},
   "outputs": [],
   "source": [
    "def label_encoder(df, categorical_columns=None):\n",
    "    \"\"\"Encode categorical values as integers (0,1,2,3...) with pandas.factorize. \"\"\"\n",
    "    # if categorical_colunms are not given than treat object as categorical features\n",
    "    if not categorical_columns:\n",
    "        categorical_columns = [col for col in df.columns if df[col].dtype == 'object']\n",
    "    for col in categorical_columns:\n",
    "        df[col], uniques = pd.factorize(df[col])\n",
    "    return df, categorical_columns"
   ]
  },
  {
   "cell_type": "code",
   "execution_count": 245,
   "metadata": {},
   "outputs": [],
   "source": [
    "def make_day_feature(df, offset=0, tname='TransactionDT'):\n",
    "    \"\"\"\n",
    "    Creates a day of the week feature, encoded as 0-6. \n",
    "    \n",
    "    Parameters:\n",
    "    -----------\n",
    "    df : pd.DataFrame\n",
    "        df to manipulate.\n",
    "    offset : float (default=0)\n",
    "        offset (in days) to shift the start/end of a day.\n",
    "    tname : str\n",
    "        Name of the time column in df.\n",
    "    \"\"\"\n",
    "    # found a good offset is 0.58\n",
    "    days = df[tname] / (3600*24)        \n",
    "    encoded_days = np.floor(days-1+offset) % 7\n",
    "    return encoded_days"
   ]
  },
  {
   "cell_type": "code",
   "execution_count": 246,
   "metadata": {},
   "outputs": [],
   "source": [
    "def make_hour_feature(df, tname='TransactionDT'):\n",
    "    \"\"\"\n",
    "    Creates an hour of the day feature, encoded as 0-23. \n",
    "    \n",
    "    Parameters:\n",
    "    -----------\n",
    "    df : pd.DataFrame\n",
    "        df to manipulate.\n",
    "    tname : str\n",
    "        Name of the time column in df.\n",
    "    \"\"\"\n",
    "    hours = df[tname] / (3600)        \n",
    "    encoded_hours = np.floor(hours) % 24\n",
    "    return encoded_hours"
   ]
  },
  {
   "cell_type": "code",
   "execution_count": 247,
   "metadata": {},
   "outputs": [],
   "source": [
    "def make_pdc_amt_ratio(df):\n",
    "    df_product_aveAmt = df.groupby(['ProductCD'])['TransactionAmt'].agg(['mean'])\n",
    "    df_product_aveAmt.reset_index(inplace=True)\n",
    "    df_ratio = pd.merge(df[['TransactionID','ProductCD',\n",
    "                                             'TransactionAmt','isFraud']],\n",
    "                           df_product_aveAmt,on='ProductCD',how='left')\n",
    "    \n",
    "    return df_ratio['TransactionAmt']/df_ratio['mean']"
   ]
  },
  {
   "cell_type": "code",
   "execution_count": 248,
   "metadata": {},
   "outputs": [],
   "source": [
    "def make_card_id(df):\n",
    "    cards_cols= ['card1', 'card2', 'card3', 'card5']\n",
    "    for card in cards_cols: \n",
    "        if '1' in card: \n",
    "            df['card_id']= df[card].map(str)\n",
    "        else : \n",
    "            df['card_id']+= ' '+df[card].map(str)\n",
    "    return df['card_id']       "
   ]
  },
  {
   "cell_type": "code",
   "execution_count": 249,
   "metadata": {},
   "outputs": [],
   "source": [
    "def high_missing_cols(df,threshold):\n",
    "    \"\"\"return features with high missing rate\"\"\"\n",
    "    rm_cols = [col for col in df.columns \n",
    "               if df[col].isnull().mean() > threshold]\n",
    "    return rm_cols\n",
    "    "
   ]
  },
  {
   "cell_type": "code",
   "execution_count": 385,
   "metadata": {},
   "outputs": [],
   "source": [
    "# clean Pemail\n",
    "df_total['P_email'] = df_total['P_emaildomain'].str.split('.',expand=True)[0]"
   ]
  },
  {
   "cell_type": "code",
   "execution_count": 386,
   "metadata": {},
   "outputs": [],
   "source": [
    "us_emails = ['gmail', 'net', 'edu']"
   ]
  },
  {
   "cell_type": "code",
   "execution_count": 387,
   "metadata": {},
   "outputs": [],
   "source": [
    "df_total['P_email_suffix'] = df_total['P_emaildomain'].map(lambda x: str(x).split('.')[-1])\n",
    "df_total['P_email_suffix'] = df_total['P_email_suffix'].map(lambda x: x if str(x) not in us_emails else 'us')"
   ]
  },
  {
   "cell_type": "code",
   "execution_count": 388,
   "metadata": {},
   "outputs": [],
   "source": [
    "df_total.drop('P_emaildomain',axis=1,inplace = True)"
   ]
  },
  {
   "cell_type": "code",
   "execution_count": 389,
   "metadata": {},
   "outputs": [],
   "source": [
    "# clean R_emaildomain\n",
    "df_total['R_email'] = df_total['R_emaildomain'].str.split('.',expand=True)[0]"
   ]
  },
  {
   "cell_type": "code",
   "execution_count": 390,
   "metadata": {},
   "outputs": [],
   "source": [
    "df_total['R_email_suffix'] = df_total['R_emaildomain'].map(lambda x: str(x).split('.')[-1])\n",
    "df_total['R_email_suffix'] = df_total['R_email_suffix'].map(lambda x: x if str(x) not in us_emails else 'us')"
   ]
  },
  {
   "cell_type": "code",
   "execution_count": 391,
   "metadata": {},
   "outputs": [],
   "source": [
    "df_total.drop('R_emaildomain',axis=1,inplace = True)"
   ]
  },
  {
   "cell_type": "code",
   "execution_count": 392,
   "metadata": {},
   "outputs": [],
   "source": [
    "df_total['id_30_OS'] = df_total['id_30'].str.split(' ',expand=True)[0]"
   ]
  },
  {
   "cell_type": "code",
   "execution_count": 393,
   "metadata": {},
   "outputs": [],
   "source": [
    "df_total['id_30_version'] = df_total['id_30'].str.split(' ',expand=True)[1]"
   ]
  },
  {
   "cell_type": "code",
   "execution_count": 394,
   "metadata": {},
   "outputs": [],
   "source": [
    "df_total.drop('id_30',axis=1,inplace = True)"
   ]
  },
  {
   "cell_type": "code",
   "execution_count": 395,
   "metadata": {},
   "outputs": [],
   "source": [
    "df_total['dow'] = make_day_feature(df_total, offset=0.58)"
   ]
  },
  {
   "cell_type": "code",
   "execution_count": 396,
   "metadata": {},
   "outputs": [],
   "source": [
    "df_total['hour'] = make_hour_feature(df_total)"
   ]
  },
  {
   "cell_type": "code",
   "execution_count": 397,
   "metadata": {},
   "outputs": [],
   "source": [
    "df_total['pdc_amt_ratio'] = df_total['TransactionAmt']/df_total.groupby('ProductCD')['TransactionAmt'].transform('mean')"
   ]
  },
  {
   "cell_type": "code",
   "execution_count": 398,
   "metadata": {},
   "outputs": [],
   "source": [
    "df_total['pdc_amt_std_ratio'] = df_total['TransactionAmt']/df_total.groupby('ProductCD')['TransactionAmt'].transform('std')"
   ]
  },
  {
   "cell_type": "code",
   "execution_count": 399,
   "metadata": {},
   "outputs": [],
   "source": [
    "df_total['pdc_D1_ratio'] = df_total['D1']/df_total.groupby('ProductCD')['D1'].transform('mean')"
   ]
  },
  {
   "cell_type": "code",
   "execution_count": 400,
   "metadata": {},
   "outputs": [],
   "source": [
    "df_total['pdc_D2_ratio'] = df_total['D2']/df_total.groupby('ProductCD')['D2'].transform('mean')"
   ]
  },
  {
   "cell_type": "code",
   "execution_count": 483,
   "metadata": {},
   "outputs": [],
   "source": [
    "df_total['pdc_D3_ratio'] = df_total['D2']/df_total.groupby('ProductCD')['D3'].transform('mean')"
   ]
  },
  {
   "cell_type": "code",
   "execution_count": 401,
   "metadata": {},
   "outputs": [],
   "source": [
    "df_total['pdc_D1_std_ratio'] = df_total['D1']/df_total.groupby('ProductCD')['D1'].transform('std')"
   ]
  },
  {
   "cell_type": "code",
   "execution_count": 402,
   "metadata": {},
   "outputs": [],
   "source": [
    "df_total['pdc_D2_std_ratio'] = df_total['D2']/df_total.groupby('ProductCD')['D2'].transform('std')"
   ]
  },
  {
   "cell_type": "code",
   "execution_count": 482,
   "metadata": {},
   "outputs": [],
   "source": [
    "df_total['pdc_D3_std_ratio'] = df_total['D3']/df_total.groupby('ProductCD')['D3'].transform('std')"
   ]
  },
  {
   "cell_type": "code",
   "execution_count": 403,
   "metadata": {},
   "outputs": [],
   "source": [
    "df_total = clean_id31(df_total)"
   ]
  },
  {
   "cell_type": "code",
   "execution_count": 404,
   "metadata": {},
   "outputs": [],
   "source": [
    "df_total['card_id'] = make_card_id(df_total)"
   ]
  },
  {
   "cell_type": "code",
   "execution_count": 405,
   "metadata": {},
   "outputs": [],
   "source": [
    "df_total['card_TAmt_ratio'] = df_total['TransactionAmt']/df_total.groupby('card_id')['TransactionAmt'].transform('mean')"
   ]
  },
  {
   "cell_type": "code",
   "execution_count": 406,
   "metadata": {},
   "outputs": [],
   "source": [
    "df_total['TransactionAmt_to_std_card1'] = df_total['TransactionAmt'] / df_total.groupby(['card_id'])['TransactionAmt'].transform('std')"
   ]
  },
  {
   "cell_type": "code",
   "execution_count": 409,
   "metadata": {},
   "outputs": [],
   "source": [
    "df_total['card_freq_pdc'] = df_total.groupby('card_id')['ProductCD'].transform(lambda x:x.value_counts().index[0])"
   ]
  },
  {
   "cell_type": "code",
   "execution_count": 412,
   "metadata": {},
   "outputs": [],
   "source": [
    "df_total['is_card_freq_pdc'] = (df_total.ProductCD == df_total.card_freq_pdc)"
   ]
  },
  {
   "cell_type": "code",
   "execution_count": 476,
   "metadata": {},
   "outputs": [],
   "source": [
    "df_total['card_freq_addr1'] = df_total.groupby('card_id')['addr1'].transform(lambda x: x.value_counts(dropna=False).index[0])"
   ]
  },
  {
   "cell_type": "code",
   "execution_count": 478,
   "metadata": {},
   "outputs": [],
   "source": [
    "df_total['is_card_freq_addr1'] = (df_total.addr1 == df_total.card_freq_addr1)"
   ]
  },
  {
   "cell_type": "code",
   "execution_count": 494,
   "metadata": {},
   "outputs": [],
   "source": [
    "df_total['card1_count'] = df_total['card1'].map(df_total['card1'].value_counts(dropna=False)).head()"
   ]
  },
  {
   "cell_type": "code",
   "execution_count": 496,
   "metadata": {},
   "outputs": [],
   "source": [
    "df_total['card_id_02_mean'] = df_total['id_02'] / df_total.groupby(['card_id'])['id_02'].transform('mean')"
   ]
  },
  {
   "cell_type": "code",
   "execution_count": 497,
   "metadata": {},
   "outputs": [],
   "source": [
    "df_total['card_id_02_std'] = df_total['id_02'] / df_total.groupby(['card_id'])['id_02'].transform('std')"
   ]
  },
  {
   "cell_type": "code",
   "execution_count": 498,
   "metadata": {},
   "outputs": [],
   "source": [
    "df_total['card_D15_mean'] = df_total['D15'] / df_total.groupby(['card_id'])['D15'].transform('mean')"
   ]
  },
  {
   "cell_type": "code",
   "execution_count": 499,
   "metadata": {},
   "outputs": [],
   "source": [
    "df_total['card_D15_std'] = df_total['D15'] / df_total.groupby(['card_id'])['D15'].transform('std')"
   ]
  },
  {
   "cell_type": "code",
   "execution_count": 500,
   "metadata": {},
   "outputs": [],
   "source": [
    "df_total['card_D1_mean'] = df_total['D1'] / df_total.groupby(['card_id'])['D1'].transform('mean')"
   ]
  },
  {
   "cell_type": "code",
   "execution_count": 501,
   "metadata": {},
   "outputs": [],
   "source": [
    "df_total['card_D2_mean'] = df_total['D2'] / df_total.groupby(['card_id'])['D2'].transform('mean')"
   ]
  },
  {
   "cell_type": "code",
   "execution_count": 502,
   "metadata": {},
   "outputs": [],
   "source": [
    "df_total['card_D3_mean'] = df_total['D2'] / df_total.groupby(['card_id'])['D3'].transform('mean')"
   ]
  },
  {
   "cell_type": "code",
   "execution_count": 503,
   "metadata": {},
   "outputs": [],
   "source": [
    "df_total['card_D1_std'] = df_total['D1'] / df_total.groupby(['card_id'])['D1'].transform('std')"
   ]
  },
  {
   "cell_type": "code",
   "execution_count": 504,
   "metadata": {},
   "outputs": [],
   "source": [
    "df_total['card_D2_std'] = df_total['D2'] / df_total.groupby(['card_id'])['D2'].transform('std')"
   ]
  },
  {
   "cell_type": "code",
   "execution_count": 505,
   "metadata": {},
   "outputs": [],
   "source": [
    "df_total['card_D3_std'] = df_total['D3'] / df_total.groupby(['card_id'])['D3'].transform('std')"
   ]
  },
  {
   "cell_type": "code",
   "execution_count": 506,
   "metadata": {},
   "outputs": [],
   "source": [
    "df_total['addr1_D15_mean'] = df_total['D15'] / df_total.groupby(['addr1'])['D15'].transform('mean')"
   ]
  },
  {
   "cell_type": "code",
   "execution_count": 507,
   "metadata": {},
   "outputs": [],
   "source": [
    "df_total['addr1_D15_std'] = df_total['D15'] / df_total.groupby(['addr1'])['D15'].transform('std')"
   ]
  },
  {
   "cell_type": "code",
   "execution_count": 508,
   "metadata": {},
   "outputs": [],
   "source": [
    "# decimal part of the transaction amount\n",
    "df_total['TransactionAmt_decimal'] = ((df_total['TransactionAmt'] - df_total['TransactionAmt'].astype(int)) * 1000).astype(int)"
   ]
  },
  {
   "cell_type": "code",
   "execution_count": 509,
   "metadata": {},
   "outputs": [],
   "source": [
    "df_total['Device_name'] = df_total['DeviceInfo'].str.split('/', expand=True)[0]\n",
    "df_total['Device_version'] = df_total['DeviceInfo'].str.split('/', expand=True)[1]\n",
    "df_total.drop('DeviceInfo',axis=1,inplace = True)"
   ]
  },
  {
   "cell_type": "code",
   "execution_count": 510,
   "metadata": {},
   "outputs": [],
   "source": [
    "df_total.loc[df_total['Device_name'].str.contains('SM', na=False), 'Device_name']  = 'Samsung'\n",
    "df_total.loc[df_total['Device_name'].str.contains('SAMSUNG', na=False), 'Device_name']  = 'Samsung'\n",
    "df_total.loc[df_total['Device_name'].str.contains('GT-', na=False), 'Device_name']  = 'Samsung'\n",
    "df_total.loc[df_total['Device_name'].str.contains('Moto G', na=False), 'Device_name']  = 'Motorola'\n",
    "df_total.loc[df_total['Device_name'].str.contains('Moto', na=False), 'Device_name']  = 'Motorola'\n",
    "df_total.loc[df_total['Device_name'].str.contains('moto', na=False), 'Device_name']  = 'Motorola'\n",
    "df_total.loc[df_total['Device_name'].str.contains('LG-', na=False), 'Device_name']  = 'LG'\n",
    "df_total.loc[df_total['Device_name'].str.contains('rv:', na=False), 'Device_name']  = 'RV'\n",
    "df_total.loc[df_total['Device_name'].str.contains('HUAWEI', na=False), 'Device_name']  = 'Huawei'\n",
    "df_total.loc[df_total['Device_name'].str.contains('ALE-', na=False), 'Device_name']  = 'Huawei'\n",
    "df_total.loc[df_total['Device_name'].str.contains('-L', na=False), 'Device_name']  = 'Huawei'\n",
    "df_total.loc[df_total['Device_name'].str.contains('Blade', na=False), 'Device_name']  = 'ZTE'\n",
    "df_total.loc[df_total['Device_name'].str.contains('BLADE', na=False), 'Device_name']  = 'ZTE'\n",
    "df_total.loc[df_total['Device_name'].str.contains('XT', na=False), 'Device_name']  = 'Sony'\n",
    "df_total.loc[df_total.Device_name.isin(df_total.Device_name.value_counts()[df_total.Device_name.value_counts() < 200].index), 'Device_name'] = \"Others\""
   ]
  },
  {
   "cell_type": "code",
   "execution_count": 511,
   "metadata": {},
   "outputs": [],
   "source": [
    "df_total['card_freq_Device'] = df_total.groupby('card_id')['Device_name'].transform(lambda x: x.value_counts(dropna=False).index[0])"
   ]
  },
  {
   "cell_type": "code",
   "execution_count": 512,
   "metadata": {},
   "outputs": [],
   "source": [
    "df_total['is_card_freq_Device'] = (df_total.Device_name == df_total.card_freq_Device)"
   ]
  },
  {
   "cell_type": "code",
   "execution_count": 514,
   "metadata": {},
   "outputs": [],
   "source": [
    "df_total['screen_width'] = df_total['id_33'].str.split('x', expand=True)[0]\n",
    "df_total['screen_height'] = df_total['id_33'].str.split('x', expand=True)[1]\n",
    "df_total.drop('id_33',axis=1,inplace = True)"
   ]
  },
  {
   "cell_type": "code",
   "execution_count": 515,
   "metadata": {},
   "outputs": [],
   "source": [
    "# this feature lead to over fitting\n",
    "df_total.drop('card_id',axis=1,inplace=True)\n",
    "df_total.drop(['card_freq_Device','card_freq_pdc','card_freq_addr1'],axis=1,inplace=True)"
   ]
  },
  {
   "cell_type": "markdown",
   "metadata": {},
   "source": [
    "https://www.kaggle.com/davidcairuz/feature-engineering-lightgbm-corrected"
   ]
  },
  {
   "cell_type": "markdown",
   "metadata": {},
   "source": [
    "# Remove Features"
   ]
  },
  {
   "cell_type": "code",
   "execution_count": 126,
   "metadata": {},
   "outputs": [],
   "source": [
    "high_miss_cols = high_missing_cols(df_total,0.9)"
   ]
  },
  {
   "cell_type": "code",
   "execution_count": 127,
   "metadata": {},
   "outputs": [],
   "source": [
    "one_value_cols = [col for col in df_total.columns \n",
    "                  if df_total[col].nunique() <= 1]"
   ]
  },
  {
   "cell_type": "code",
   "execution_count": 128,
   "metadata": {},
   "outputs": [],
   "source": [
    "big_top_value_cols = [col for col in df_total.columns \n",
    "                      if df_total[col].value_counts(dropna=False, normalize=True).values[0] > 0.9]"
   ]
  },
  {
   "cell_type": "code",
   "execution_count": 129,
   "metadata": {},
   "outputs": [],
   "source": [
    "cols_to_drop = list(set(high_miss_cols + one_value_cols + big_top_value_cols))"
   ]
  },
  {
   "cell_type": "code",
   "execution_count": 130,
   "metadata": {},
   "outputs": [
    {
     "data": {
      "text/plain": [
       "71"
      ]
     },
     "execution_count": 130,
     "metadata": {},
     "output_type": "execute_result"
    }
   ],
   "source": [
    "len(cols_to_drop)"
   ]
  },
  {
   "cell_type": "code",
   "execution_count": 131,
   "metadata": {},
   "outputs": [],
   "source": [
    "df_total.drop(cols_to_drop, axis=1, inplace=True)"
   ]
  },
  {
   "cell_type": "markdown",
   "metadata": {},
   "source": [
    "# Encoder Categorical"
   ]
  },
  {
   "cell_type": "code",
   "execution_count": 516,
   "metadata": {},
   "outputs": [],
   "source": [
    "df_total_final,colname = label_encoder(df_total, categorical_columns=None)"
   ]
  },
  {
   "cell_type": "code",
   "execution_count": 517,
   "metadata": {},
   "outputs": [
    {
     "data": {
      "text/plain": [
       "(1097231, 469)"
      ]
     },
     "execution_count": 517,
     "metadata": {},
     "output_type": "execute_result"
    }
   ],
   "source": [
    "df_total_final.shape"
   ]
  },
  {
   "cell_type": "markdown",
   "metadata": {},
   "source": [
    "# Save Final Features"
   ]
  },
  {
   "cell_type": "code",
   "execution_count": 518,
   "metadata": {},
   "outputs": [],
   "source": [
    "df_total_final.to_csv('./data/features469.csv', index = False)"
   ]
  }
 ],
 "metadata": {
  "kernelspec": {
   "display_name": "Python 3",
   "language": "python",
   "name": "python3"
  },
  "language_info": {
   "codemirror_mode": {
    "name": "ipython",
    "version": 3
   },
   "file_extension": ".py",
   "mimetype": "text/x-python",
   "name": "python",
   "nbconvert_exporter": "python",
   "pygments_lexer": "ipython3",
   "version": "3.6.5"
  }
 },
 "nbformat": 4,
 "nbformat_minor": 2
}
