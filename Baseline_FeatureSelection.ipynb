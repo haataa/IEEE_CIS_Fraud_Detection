{
 "cells": [
  {
   "cell_type": "code",
   "execution_count": 64,
   "metadata": {},
   "outputs": [],
   "source": [
    "# import packages\n",
    "import numpy as np\n",
    "import pandas as pd\n",
    "import matplotlib.pyplot as plt\n",
    "import featuretools as ft\n",
    "import lightgbm as lgb\n",
    "import seaborn as sns\n",
    "from sklearn.feature_selection import RFE\n",
    "\n",
    "%matplotlib inline\n",
    "RSEED = 50"
   ]
  },
  {
   "cell_type": "markdown",
   "metadata": {},
   "source": [
    "## Load Original Features"
   ]
  },
  {
   "cell_type": "code",
   "execution_count": 65,
   "metadata": {},
   "outputs": [],
   "source": [
    "df_total = pd.read_csv('./data/baseline_features.csv')"
   ]
  },
  {
   "cell_type": "code",
   "execution_count": 66,
   "metadata": {},
   "outputs": [],
   "source": [
    "features_train = df_total[df_total['isFraud'].notnull()]\n",
    "features_test = df_total[df_total['isFraud'].isnull()]"
   ]
  },
  {
   "cell_type": "code",
   "execution_count": 67,
   "metadata": {},
   "outputs": [],
   "source": [
    "labels_train = features_train['isFraud']\n",
    "features_train = features_train.drop(columns = ['isFraud', 'TransactionID'])"
   ]
  },
  {
   "cell_type": "code",
   "execution_count": 68,
   "metadata": {},
   "outputs": [
    {
     "data": {
      "text/plain": [
       "(590540, 432)"
      ]
     },
     "execution_count": 68,
     "metadata": {},
     "output_type": "execute_result"
    }
   ],
   "source": [
    "features_train.shape"
   ]
  },
  {
   "cell_type": "markdown",
   "metadata": {},
   "source": [
    "# Prepare Model"
   ]
  },
  {
   "cell_type": "code",
   "execution_count": 79,
   "metadata": {},
   "outputs": [],
   "source": [
    "categorical = ['ProductCD', 'card1', 'card2', 'card3', 'card4', 'card5','card6',\n",
    "              'addr1','addr2','P_emaildomain','R_emaildomain','M1','M2','M3',\n",
    "              'M4','M5','M6','M7','M8','M9','DeviceType','DeviceInfo']\n",
    "ids = [ 'id_%s'%(i) for i in range(12,39)]\n",
    "categorical = categorical + ids"
   ]
  },
  {
   "cell_type": "code",
   "execution_count": 80,
   "metadata": {},
   "outputs": [],
   "source": [
    "# Create a  lgb training set\n",
    "train_set = lgb.Dataset(features_train, label = labels_train.values,\n",
    "                        categorical_feature=categorical)"
   ]
  },
  {
   "cell_type": "code",
   "execution_count": 81,
   "metadata": {},
   "outputs": [],
   "source": [
    "model = lgb.LGBMClassifier(scale_pos_weight=9)\n",
    "params = model.get_params()"
   ]
  },
  {
   "cell_type": "code",
   "execution_count": 82,
   "metadata": {},
   "outputs": [
    {
     "name": "stderr",
     "output_type": "stream",
     "text": [
      "/home/jinpwa/anaconda3/lib/python3.6/site-packages/lightgbm/engine.py:430: UserWarning: Found `n_estimators` in params. Will use it instead of argument\n",
      "  warnings.warn(\"Found `{}` in params. Will use it instead of argument\".format(alias))\n",
      "/home/jinpwa/anaconda3/lib/python3.6/site-packages/lightgbm/basic.py:1205: UserWarning: Using categorical_feature in Dataset.\n",
      "  warnings.warn('Using categorical_feature in Dataset.')\n",
      "/home/jinpwa/anaconda3/lib/python3.6/site-packages/lightgbm/basic.py:741: UserWarning: silent keyword has been found in `params` and will be ignored.\n",
      "Please use silent argument of the Dataset constructor to pass this parameter.\n",
      "  .format(key))\n"
     ]
    },
    {
     "name": "stdout",
     "output_type": "stream",
     "text": [
      "Cross Validation ROC AUC: 0.92753 with std: 0.00128.\n"
     ]
    }
   ],
   "source": [
    "cv_results = lgb.cv(params, train_set, num_boost_round = 10000, metrics = 'auc',\n",
    "                        early_stopping_rounds = 100, seed = RSEED, nfold = 5)\n",
    "print('Cross Validation ROC AUC: {:.5f} with std: {:.5f}.'.format(cv_results['auc-mean'][-1],\n",
    "                                                                               cv_results['auc-stdv'][-1]))\n"
   ]
  },
  {
   "cell_type": "code",
   "execution_count": 84,
   "metadata": {},
   "outputs": [
    {
     "data": {
      "text/plain": [
       "LGBMClassifier(boosting_type='gbdt', class_weight=None, colsample_bytree=1.0,\n",
       "               importance_type='split', learning_rate=0.1, max_depth=-1,\n",
       "               min_child_samples=20, min_child_weight=0.001, min_split_gain=0.0,\n",
       "               n_estimators=100, n_jobs=-1, num_leaves=31, objective=None,\n",
       "               random_state=50, reg_alpha=0.0, reg_lambda=0.0,\n",
       "               scale_pos_weight=9, silent=True, subsample=1.0,\n",
       "               subsample_for_bin=200000, subsample_freq=0)"
      ]
     },
     "execution_count": 84,
     "metadata": {},
     "output_type": "execute_result"
    }
   ],
   "source": [
    "model = lgb.LGBMClassifier(n_estimators = len(cv_results['auc-mean']), random_state=RSEED,scale_pos_weight=9)\n",
    "model.fit(features_train, labels_train.values)"
   ]
  },
  {
   "cell_type": "markdown",
   "metadata": {},
   "source": [
    "# Feature Selection"
   ]
  },
  {
   "cell_type": "code",
   "execution_count": 85,
   "metadata": {},
   "outputs": [],
   "source": [
    "fi = pd.DataFrame({'feature': features_train.columns, \n",
    "                   'importance': model.feature_importances_})\n",
    "fi = fi.sort_values('importance', ascending = False)"
   ]
  },
  {
   "cell_type": "code",
   "execution_count": 90,
   "metadata": {},
   "outputs": [],
   "source": [
    "feat_select = {}"
   ]
  },
  {
   "cell_type": "code",
   "execution_count": 92,
   "metadata": {},
   "outputs": [
    {
     "name": "stderr",
     "output_type": "stream",
     "text": [
      "/home/jinpwa/anaconda3/lib/python3.6/site-packages/lightgbm/engine.py:430: UserWarning: Found `n_estimators` in params. Will use it instead of argument\n",
      "  warnings.warn(\"Found `{}` in params. Will use it instead of argument\".format(alias))\n",
      "/home/jinpwa/anaconda3/lib/python3.6/site-packages/lightgbm/basic.py:1205: UserWarning: Using categorical_feature in Dataset.\n",
      "  warnings.warn('Using categorical_feature in Dataset.')\n",
      "/home/jinpwa/anaconda3/lib/python3.6/site-packages/lightgbm/basic.py:741: UserWarning: silent keyword has been found in `params` and will be ignored.\n",
      "Please use silent argument of the Dataset constructor to pass this parameter.\n",
      "  .format(key))\n"
     ]
    },
    {
     "name": "stdout",
     "output_type": "stream",
     "text": [
      "Feature Importance:1.0 Cross Validation ROC AUC: 0.92810 with std: 0.00075.\n"
     ]
    },
    {
     "name": "stderr",
     "output_type": "stream",
     "text": [
      "/home/jinpwa/anaconda3/lib/python3.6/site-packages/lightgbm/engine.py:430: UserWarning: Found `n_estimators` in params. Will use it instead of argument\n",
      "  warnings.warn(\"Found `{}` in params. Will use it instead of argument\".format(alias))\n",
      "/home/jinpwa/anaconda3/lib/python3.6/site-packages/lightgbm/basic.py:1205: UserWarning: Using categorical_feature in Dataset.\n",
      "  warnings.warn('Using categorical_feature in Dataset.')\n",
      "/home/jinpwa/anaconda3/lib/python3.6/site-packages/lightgbm/basic.py:741: UserWarning: silent keyword has been found in `params` and will be ignored.\n",
      "Please use silent argument of the Dataset constructor to pass this parameter.\n",
      "  .format(key))\n"
     ]
    },
    {
     "name": "stdout",
     "output_type": "stream",
     "text": [
      "Feature Importance:2.0 Cross Validation ROC AUC: 0.92900 with std: 0.00143.\n"
     ]
    },
    {
     "name": "stderr",
     "output_type": "stream",
     "text": [
      "/home/jinpwa/anaconda3/lib/python3.6/site-packages/lightgbm/engine.py:430: UserWarning: Found `n_estimators` in params. Will use it instead of argument\n",
      "  warnings.warn(\"Found `{}` in params. Will use it instead of argument\".format(alias))\n",
      "/home/jinpwa/anaconda3/lib/python3.6/site-packages/lightgbm/basic.py:1205: UserWarning: Using categorical_feature in Dataset.\n",
      "  warnings.warn('Using categorical_feature in Dataset.')\n",
      "/home/jinpwa/anaconda3/lib/python3.6/site-packages/lightgbm/basic.py:741: UserWarning: silent keyword has been found in `params` and will be ignored.\n",
      "Please use silent argument of the Dataset constructor to pass this parameter.\n",
      "  .format(key))\n"
     ]
    },
    {
     "name": "stdout",
     "output_type": "stream",
     "text": [
      "Feature Importance:3.0 Cross Validation ROC AUC: 0.92821 with std: 0.00100.\n"
     ]
    },
    {
     "name": "stderr",
     "output_type": "stream",
     "text": [
      "/home/jinpwa/anaconda3/lib/python3.6/site-packages/lightgbm/engine.py:430: UserWarning: Found `n_estimators` in params. Will use it instead of argument\n",
      "  warnings.warn(\"Found `{}` in params. Will use it instead of argument\".format(alias))\n",
      "/home/jinpwa/anaconda3/lib/python3.6/site-packages/lightgbm/basic.py:1205: UserWarning: Using categorical_feature in Dataset.\n",
      "  warnings.warn('Using categorical_feature in Dataset.')\n",
      "/home/jinpwa/anaconda3/lib/python3.6/site-packages/lightgbm/basic.py:741: UserWarning: silent keyword has been found in `params` and will be ignored.\n",
      "Please use silent argument of the Dataset constructor to pass this parameter.\n",
      "  .format(key))\n"
     ]
    },
    {
     "name": "stdout",
     "output_type": "stream",
     "text": [
      "Feature Importance:4.0 Cross Validation ROC AUC: 0.92842 with std: 0.00109.\n"
     ]
    },
    {
     "name": "stderr",
     "output_type": "stream",
     "text": [
      "/home/jinpwa/anaconda3/lib/python3.6/site-packages/lightgbm/engine.py:430: UserWarning: Found `n_estimators` in params. Will use it instead of argument\n",
      "  warnings.warn(\"Found `{}` in params. Will use it instead of argument\".format(alias))\n",
      "/home/jinpwa/anaconda3/lib/python3.6/site-packages/lightgbm/basic.py:1205: UserWarning: Using categorical_feature in Dataset.\n",
      "  warnings.warn('Using categorical_feature in Dataset.')\n",
      "/home/jinpwa/anaconda3/lib/python3.6/site-packages/lightgbm/basic.py:741: UserWarning: silent keyword has been found in `params` and will be ignored.\n",
      "Please use silent argument of the Dataset constructor to pass this parameter.\n",
      "  .format(key))\n"
     ]
    },
    {
     "name": "stdout",
     "output_type": "stream",
     "text": [
      "Feature Importance:5.0 Cross Validation ROC AUC: 0.92827 with std: 0.00117.\n"
     ]
    },
    {
     "name": "stderr",
     "output_type": "stream",
     "text": [
      "/home/jinpwa/anaconda3/lib/python3.6/site-packages/lightgbm/engine.py:430: UserWarning: Found `n_estimators` in params. Will use it instead of argument\n",
      "  warnings.warn(\"Found `{}` in params. Will use it instead of argument\".format(alias))\n",
      "/home/jinpwa/anaconda3/lib/python3.6/site-packages/lightgbm/basic.py:1205: UserWarning: Using categorical_feature in Dataset.\n",
      "  warnings.warn('Using categorical_feature in Dataset.')\n",
      "/home/jinpwa/anaconda3/lib/python3.6/site-packages/lightgbm/basic.py:741: UserWarning: silent keyword has been found in `params` and will be ignored.\n",
      "Please use silent argument of the Dataset constructor to pass this parameter.\n",
      "  .format(key))\n"
     ]
    },
    {
     "name": "stdout",
     "output_type": "stream",
     "text": [
      "Feature Importance:6.0 Cross Validation ROC AUC: 0.92920 with std: 0.00162.\n"
     ]
    },
    {
     "name": "stderr",
     "output_type": "stream",
     "text": [
      "/home/jinpwa/anaconda3/lib/python3.6/site-packages/lightgbm/engine.py:430: UserWarning: Found `n_estimators` in params. Will use it instead of argument\n",
      "  warnings.warn(\"Found `{}` in params. Will use it instead of argument\".format(alias))\n",
      "/home/jinpwa/anaconda3/lib/python3.6/site-packages/lightgbm/basic.py:1205: UserWarning: Using categorical_feature in Dataset.\n",
      "  warnings.warn('Using categorical_feature in Dataset.')\n",
      "/home/jinpwa/anaconda3/lib/python3.6/site-packages/lightgbm/basic.py:741: UserWarning: silent keyword has been found in `params` and will be ignored.\n",
      "Please use silent argument of the Dataset constructor to pass this parameter.\n",
      "  .format(key))\n"
     ]
    },
    {
     "name": "stdout",
     "output_type": "stream",
     "text": [
      "Feature Importance:7.0 Cross Validation ROC AUC: 0.92960 with std: 0.00208.\n"
     ]
    },
    {
     "name": "stderr",
     "output_type": "stream",
     "text": [
      "/home/jinpwa/anaconda3/lib/python3.6/site-packages/lightgbm/engine.py:430: UserWarning: Found `n_estimators` in params. Will use it instead of argument\n",
      "  warnings.warn(\"Found `{}` in params. Will use it instead of argument\".format(alias))\n",
      "/home/jinpwa/anaconda3/lib/python3.6/site-packages/lightgbm/basic.py:1205: UserWarning: Using categorical_feature in Dataset.\n",
      "  warnings.warn('Using categorical_feature in Dataset.')\n",
      "/home/jinpwa/anaconda3/lib/python3.6/site-packages/lightgbm/basic.py:741: UserWarning: silent keyword has been found in `params` and will be ignored.\n",
      "Please use silent argument of the Dataset constructor to pass this parameter.\n",
      "  .format(key))\n"
     ]
    },
    {
     "name": "stdout",
     "output_type": "stream",
     "text": [
      "Feature Importance:8.0 Cross Validation ROC AUC: 0.92928 with std: 0.00126.\n"
     ]
    },
    {
     "name": "stderr",
     "output_type": "stream",
     "text": [
      "/home/jinpwa/anaconda3/lib/python3.6/site-packages/lightgbm/engine.py:430: UserWarning: Found `n_estimators` in params. Will use it instead of argument\n",
      "  warnings.warn(\"Found `{}` in params. Will use it instead of argument\".format(alias))\n",
      "/home/jinpwa/anaconda3/lib/python3.6/site-packages/lightgbm/basic.py:1205: UserWarning: Using categorical_feature in Dataset.\n",
      "  warnings.warn('Using categorical_feature in Dataset.')\n",
      "/home/jinpwa/anaconda3/lib/python3.6/site-packages/lightgbm/basic.py:741: UserWarning: silent keyword has been found in `params` and will be ignored.\n",
      "Please use silent argument of the Dataset constructor to pass this parameter.\n",
      "  .format(key))\n"
     ]
    },
    {
     "name": "stdout",
     "output_type": "stream",
     "text": [
      "Feature Importance:9.0 Cross Validation ROC AUC: 0.92970 with std: 0.00124.\n"
     ]
    },
    {
     "name": "stderr",
     "output_type": "stream",
     "text": [
      "/home/jinpwa/anaconda3/lib/python3.6/site-packages/lightgbm/engine.py:430: UserWarning: Found `n_estimators` in params. Will use it instead of argument\n",
      "  warnings.warn(\"Found `{}` in params. Will use it instead of argument\".format(alias))\n",
      "/home/jinpwa/anaconda3/lib/python3.6/site-packages/lightgbm/basic.py:1205: UserWarning: Using categorical_feature in Dataset.\n",
      "  warnings.warn('Using categorical_feature in Dataset.')\n",
      "/home/jinpwa/anaconda3/lib/python3.6/site-packages/lightgbm/basic.py:741: UserWarning: silent keyword has been found in `params` and will be ignored.\n",
      "Please use silent argument of the Dataset constructor to pass this parameter.\n",
      "  .format(key))\n"
     ]
    },
    {
     "name": "stdout",
     "output_type": "stream",
     "text": [
      "Feature Importance:10.0 Cross Validation ROC AUC: 0.92995 with std: 0.00197.\n"
     ]
    }
   ],
   "source": [
    "for importance in range(1,11):\n",
    "    fi_unimportant = fi[fi['importance'] < importance]\n",
    "    features_train_new = features_train.drop(np.array(fi_unimportant['feature']), axis=1)\n",
    "    features_test_new = features_test.drop(np.array(fi_unimportant['feature']), axis=1)\n",
    "    categorical_new = list(np.setdiff1d(categorical,fi_unimportant['feature'].values))\n",
    "    train_set = lgb.Dataset(features_train_new, label = labels_train.values,\n",
    "                        categorical_feature = categorical_new)\n",
    "    model = lgb.LGBMClassifier(scale_pos_weight=9)\n",
    "    params = model.get_params()\n",
    "    cv_results = lgb.cv(params, train_set, num_boost_round = 10000, metrics = 'auc', \n",
    "                        early_stopping_rounds = 100, seed = RSEED, nfold = 5)\n",
    "    print('Feature Importance:{:.1f} Cross Validation ROC AUC: {:.5f} with std: {:.5f}.'.format(importance,cv_results['auc-mean'][-1],\n",
    "                                                                               cv_results['auc-stdv'][-1]))\n",
    "    feat_select.update( {importance : np.array(fi_unimportant['feature'])} )\n",
    "\n",
    "    "
   ]
  },
  {
   "cell_type": "code",
   "execution_count": 87,
   "metadata": {},
   "outputs": [
    {
     "data": {
      "text/plain": [
       "(590540, 68)"
      ]
     },
     "execution_count": 87,
     "metadata": {},
     "output_type": "execute_result"
    }
   ],
   "source": [
    "features_train_new.shape"
   ]
  },
  {
   "cell_type": "code",
   "execution_count": 93,
   "metadata": {},
   "outputs": [
    {
     "data": {
      "text/plain": [
       "{1: array(['id_23', 'V325', 'id_22', 'addr2', 'V3', 'id_24', 'V295', 'V41',\n",
       "        'id_16', 'V42', 'V1', 'id_27', 'id_28', 'D7', 'id_29', 'V298',\n",
       "        'M8', 'id_34', 'V288', 'id_35', 'V287', 'V286', 'id_36', 'V284',\n",
       "        'id_37', 'V40', 'id_12', 'V299', 'V300', 'V322', 'V328', 'V329',\n",
       "        'V331', 'V321', 'V334', 'V18', 'V21', 'V22', 'V336', 'V17', 'V16',\n",
       "        'V27', 'V15', 'V28', 'V14', 'V30', 'V9', 'V31', 'V32', 'id_11',\n",
       "        'V39', 'V305', 'V304', 'V303', 'V302', 'V301', 'V327', 'V107',\n",
       "        'V277', 'V98', 'V141', 'V142', 'V145', 'V147', 'V151', 'V93',\n",
       "        'V153', 'V154', 'V155', 'V89', 'V161', 'V88', 'V163', 'V168',\n",
       "        'V84', 'V173', 'V176', 'V177', 'V179', 'V80', 'V181', 'V138',\n",
       "        'V134', 'V186', 'V132', 'V110', 'V111', 'V112', 'V113', 'V114',\n",
       "        'V106', 'V116', 'V117', 'V118', 'V119', 'V120', 'V121', 'V122',\n",
       "        'V123', 'V124', 'V125', 'V105', 'V104', 'V103', 'V101', 'V100',\n",
       "        'M1', 'V190', 'V276', 'V239', 'V241', 'V242', 'V246', 'V247',\n",
       "        'V68', 'V249', 'V250', 'V252', 'V253', 'V254', 'V65', 'V260',\n",
       "        'V263', 'V59', 'V268', 'V269', 'V57', 'V272', 'V273', 'V274',\n",
       "        'V275', 'V240', 'V237', 'V191', 'V236', 'V192', 'V193', 'V195',\n",
       "        'V196', 'V197', 'V198', 'V199', 'V207', 'V210', 'V211', 'V212',\n",
       "        'V213', 'V214', 'V71', 'V219', 'V223', 'V228', 'V230', 'V233',\n",
       "        'V234', 'V235', 'V185'], dtype=object),\n",
       " 2: array(['V226', 'V204', 'V208', 'V265', 'V206', 'V58', 'V262', 'V46',\n",
       "        'V202', 'V37', 'V50', 'V73', 'V51', 'V306', 'V232', 'V23', 'V319',\n",
       "        'V225', 'V215', 'V63', 'V259', 'V43', 'V238', 'V218', 'V231',\n",
       "        'V221', 'V256', 'V229', 'V222', 'V244', 'V245', 'V324', 'V243',\n",
       "        'V95', 'V11', 'V194', 'V166', 'V167', 'V157', 'M7', 'V171', 'V92',\n",
       "        'V337', 'V148', 'V97', 'V178', 'id_15', 'V137', 'V333', 'id_26',\n",
       "        'V183', 'V184', 'V332', 'id_08', 'V188', 'id_38', 'DeviceType',\n",
       "        'V109', 'V280', 'V146', 'id_23', 'V325', 'id_22', 'addr2', 'V3',\n",
       "        'id_24', 'V295', 'V41', 'id_16', 'V42', 'V1', 'id_27', 'id_28',\n",
       "        'D7', 'id_29', 'V298', 'M8', 'id_34', 'V288', 'id_35', 'V287',\n",
       "        'V286', 'id_36', 'V284', 'id_37', 'V40', 'id_12', 'V299', 'V300',\n",
       "        'V322', 'V328', 'V329', 'V331', 'V321', 'V334', 'V18', 'V21',\n",
       "        'V22', 'V336', 'V17', 'V16', 'V27', 'V15', 'V28', 'V14', 'V30',\n",
       "        'V9', 'V31', 'V32', 'id_11', 'V39', 'V305', 'V304', 'V303', 'V302',\n",
       "        'V301', 'V327', 'V107', 'V277', 'V98', 'V141', 'V142', 'V145',\n",
       "        'V147', 'V151', 'V93', 'V153', 'V154', 'V155', 'V89', 'V161',\n",
       "        'V88', 'V163', 'V168', 'V84', 'V173', 'V176', 'V177', 'V179',\n",
       "        'V80', 'V181', 'V138', 'V134', 'V186', 'V132', 'V110', 'V111',\n",
       "        'V112', 'V113', 'V114', 'V106', 'V116', 'V117', 'V118', 'V119',\n",
       "        'V120', 'V121', 'V122', 'V123', 'V124', 'V125', 'V105', 'V104',\n",
       "        'V103', 'V101', 'V100', 'M1', 'V190', 'V276', 'V239', 'V241',\n",
       "        'V242', 'V246', 'V247', 'V68', 'V249', 'V250', 'V252', 'V253',\n",
       "        'V254', 'V65', 'V260', 'V263', 'V59', 'V268', 'V269', 'V57',\n",
       "        'V272', 'V273', 'V274', 'V275', 'V240', 'V237', 'V191', 'V236',\n",
       "        'V192', 'V193', 'V195', 'V196', 'V197', 'V198', 'V199', 'V207',\n",
       "        'V210', 'V211', 'V212', 'V213', 'V214', 'V71', 'V219', 'V223',\n",
       "        'V228', 'V230', 'V233', 'V234', 'V235', 'V185'], dtype=object),\n",
       " 3: array(['V86', 'V224', 'V158', 'V12', 'V339', 'V69', 'V10', 'V8', 'V326',\n",
       "        'V220', 'V279', 'V170', 'V25', 'V144', 'V216', 'V174', 'V209',\n",
       "        'V182', 'V205', 'V72', 'V79', 'V77', 'V330', 'V74', 'V323', 'V172',\n",
       "        'id_10', 'V96', 'V251', 'V278', 'V270', 'V290', 'V60', 'V44', 'V2',\n",
       "        'V257', 'V102', 'V255', 'V4', 'V5', 'V135', 'id_21', 'V6', 'V140',\n",
       "        'V7', 'V108', 'V226', 'V204', 'V208', 'V265', 'V206', 'V58',\n",
       "        'V262', 'V46', 'V202', 'V37', 'V50', 'V73', 'V51', 'V306', 'V232',\n",
       "        'V23', 'V319', 'V225', 'V215', 'V63', 'V259', 'V43', 'V238',\n",
       "        'V218', 'V231', 'V221', 'V256', 'V229', 'V222', 'V244', 'V245',\n",
       "        'V324', 'V243', 'V95', 'V11', 'V194', 'V166', 'V167', 'V157', 'M7',\n",
       "        'V171', 'V92', 'V337', 'V148', 'V97', 'V178', 'id_15', 'V137',\n",
       "        'V333', 'id_26', 'V183', 'V184', 'V332', 'id_08', 'V188', 'id_38',\n",
       "        'DeviceType', 'V109', 'V280', 'V146', 'id_23', 'V325', 'id_22',\n",
       "        'addr2', 'V3', 'id_24', 'V295', 'V41', 'id_16', 'V42', 'V1',\n",
       "        'id_27', 'id_28', 'D7', 'id_29', 'V298', 'M8', 'id_34', 'V288',\n",
       "        'id_35', 'V287', 'V286', 'id_36', 'V284', 'id_37', 'V40', 'id_12',\n",
       "        'V299', 'V300', 'V322', 'V328', 'V329', 'V331', 'V321', 'V334',\n",
       "        'V18', 'V21', 'V22', 'V336', 'V17', 'V16', 'V27', 'V15', 'V28',\n",
       "        'V14', 'V30', 'V9', 'V31', 'V32', 'id_11', 'V39', 'V305', 'V304',\n",
       "        'V303', 'V302', 'V301', 'V327', 'V107', 'V277', 'V98', 'V141',\n",
       "        'V142', 'V145', 'V147', 'V151', 'V93', 'V153', 'V154', 'V155',\n",
       "        'V89', 'V161', 'V88', 'V163', 'V168', 'V84', 'V173', 'V176',\n",
       "        'V177', 'V179', 'V80', 'V181', 'V138', 'V134', 'V186', 'V132',\n",
       "        'V110', 'V111', 'V112', 'V113', 'V114', 'V106', 'V116', 'V117',\n",
       "        'V118', 'V119', 'V120', 'V121', 'V122', 'V123', 'V124', 'V125',\n",
       "        'V105', 'V104', 'V103', 'V101', 'V100', 'M1', 'V190', 'V276',\n",
       "        'V239', 'V241', 'V242', 'V246', 'V247', 'V68', 'V249', 'V250',\n",
       "        'V252', 'V253', 'V254', 'V65', 'V260', 'V263', 'V59', 'V268',\n",
       "        'V269', 'V57', 'V272', 'V273', 'V274', 'V275', 'V240', 'V237',\n",
       "        'V191', 'V236', 'V192', 'V193', 'V195', 'V196', 'V197', 'V198',\n",
       "        'V199', 'V207', 'V210', 'V211', 'V212', 'V213', 'V214', 'V71',\n",
       "        'V219', 'V223', 'V228', 'V230', 'V233', 'V234', 'V235', 'V185'],\n",
       "       dtype=object),\n",
       " 4: array(['C4', 'V150', 'V264', 'V282', 'V130', 'V261', 'V133', 'C7', 'V292',\n",
       "        'V248', 'id_18', 'id_25', 'V309', 'V227', 'V159', 'V203', 'V200',\n",
       "        'V297', 'V175', 'V266', 'V308', 'V271', 'V164', 'V34', 'V99',\n",
       "        'V94', 'V52', 'V85', 'V47', 'D5', 'D9', 'V19', 'V90', 'V86',\n",
       "        'V224', 'V158', 'V12', 'V339', 'V69', 'V10', 'V8', 'V326', 'V220',\n",
       "        'V279', 'V170', 'V25', 'V144', 'V216', 'V174', 'V209', 'V182',\n",
       "        'V205', 'V72', 'V79', 'V77', 'V330', 'V74', 'V323', 'V172',\n",
       "        'id_10', 'V96', 'V251', 'V278', 'V270', 'V290', 'V60', 'V44', 'V2',\n",
       "        'V257', 'V102', 'V255', 'V4', 'V5', 'V135', 'id_21', 'V6', 'V140',\n",
       "        'V7', 'V108', 'V226', 'V204', 'V208', 'V265', 'V206', 'V58',\n",
       "        'V262', 'V46', 'V202', 'V37', 'V50', 'V73', 'V51', 'V306', 'V232',\n",
       "        'V23', 'V319', 'V225', 'V215', 'V63', 'V259', 'V43', 'V238',\n",
       "        'V218', 'V231', 'V221', 'V256', 'V229', 'V222', 'V244', 'V245',\n",
       "        'V324', 'V243', 'V95', 'V11', 'V194', 'V166', 'V167', 'V157', 'M7',\n",
       "        'V171', 'V92', 'V337', 'V148', 'V97', 'V178', 'id_15', 'V137',\n",
       "        'V333', 'id_26', 'V183', 'V184', 'V332', 'id_08', 'V188', 'id_38',\n",
       "        'DeviceType', 'V109', 'V280', 'V146', 'id_23', 'V325', 'id_22',\n",
       "        'addr2', 'V3', 'id_24', 'V295', 'V41', 'id_16', 'V42', 'V1',\n",
       "        'id_27', 'id_28', 'D7', 'id_29', 'V298', 'M8', 'id_34', 'V288',\n",
       "        'id_35', 'V287', 'V286', 'id_36', 'V284', 'id_37', 'V40', 'id_12',\n",
       "        'V299', 'V300', 'V322', 'V328', 'V329', 'V331', 'V321', 'V334',\n",
       "        'V18', 'V21', 'V22', 'V336', 'V17', 'V16', 'V27', 'V15', 'V28',\n",
       "        'V14', 'V30', 'V9', 'V31', 'V32', 'id_11', 'V39', 'V305', 'V304',\n",
       "        'V303', 'V302', 'V301', 'V327', 'V107', 'V277', 'V98', 'V141',\n",
       "        'V142', 'V145', 'V147', 'V151', 'V93', 'V153', 'V154', 'V155',\n",
       "        'V89', 'V161', 'V88', 'V163', 'V168', 'V84', 'V173', 'V176',\n",
       "        'V177', 'V179', 'V80', 'V181', 'V138', 'V134', 'V186', 'V132',\n",
       "        'V110', 'V111', 'V112', 'V113', 'V114', 'V106', 'V116', 'V117',\n",
       "        'V118', 'V119', 'V120', 'V121', 'V122', 'V123', 'V124', 'V125',\n",
       "        'V105', 'V104', 'V103', 'V101', 'V100', 'M1', 'V190', 'V276',\n",
       "        'V239', 'V241', 'V242', 'V246', 'V247', 'V68', 'V249', 'V250',\n",
       "        'V252', 'V253', 'V254', 'V65', 'V260', 'V263', 'V59', 'V268',\n",
       "        'V269', 'V57', 'V272', 'V273', 'V274', 'V275', 'V240', 'V237',\n",
       "        'V191', 'V236', 'V192', 'V193', 'V195', 'V196', 'V197', 'V198',\n",
       "        'V199', 'V207', 'V210', 'V211', 'V212', 'V213', 'V214', 'V71',\n",
       "        'V219', 'V223', 'V228', 'V230', 'V233', 'V234', 'V235', 'V185'],\n",
       "       dtype=object),\n",
       " 5: array(['V316', 'V160', 'V29', 'V335', 'M9', 'V33', 'V143', 'M2', 'V129',\n",
       "        'V128', 'V127', 'V311', 'V126', 'V115', 'V201', 'V294', 'V70',\n",
       "        'V66', 'C4', 'V150', 'V264', 'V282', 'V130', 'V261', 'V133', 'C7',\n",
       "        'V292', 'V248', 'id_18', 'id_25', 'V309', 'V227', 'V159', 'V203',\n",
       "        'V200', 'V297', 'V175', 'V266', 'V308', 'V271', 'V164', 'V34',\n",
       "        'V99', 'V94', 'V52', 'V85', 'V47', 'D5', 'D9', 'V19', 'V90', 'V86',\n",
       "        'V224', 'V158', 'V12', 'V339', 'V69', 'V10', 'V8', 'V326', 'V220',\n",
       "        'V279', 'V170', 'V25', 'V144', 'V216', 'V174', 'V209', 'V182',\n",
       "        'V205', 'V72', 'V79', 'V77', 'V330', 'V74', 'V323', 'V172',\n",
       "        'id_10', 'V96', 'V251', 'V278', 'V270', 'V290', 'V60', 'V44', 'V2',\n",
       "        'V257', 'V102', 'V255', 'V4', 'V5', 'V135', 'id_21', 'V6', 'V140',\n",
       "        'V7', 'V108', 'V226', 'V204', 'V208', 'V265', 'V206', 'V58',\n",
       "        'V262', 'V46', 'V202', 'V37', 'V50', 'V73', 'V51', 'V306', 'V232',\n",
       "        'V23', 'V319', 'V225', 'V215', 'V63', 'V259', 'V43', 'V238',\n",
       "        'V218', 'V231', 'V221', 'V256', 'V229', 'V222', 'V244', 'V245',\n",
       "        'V324', 'V243', 'V95', 'V11', 'V194', 'V166', 'V167', 'V157', 'M7',\n",
       "        'V171', 'V92', 'V337', 'V148', 'V97', 'V178', 'id_15', 'V137',\n",
       "        'V333', 'id_26', 'V183', 'V184', 'V332', 'id_08', 'V188', 'id_38',\n",
       "        'DeviceType', 'V109', 'V280', 'V146', 'id_23', 'V325', 'id_22',\n",
       "        'addr2', 'V3', 'id_24', 'V295', 'V41', 'id_16', 'V42', 'V1',\n",
       "        'id_27', 'id_28', 'D7', 'id_29', 'V298', 'M8', 'id_34', 'V288',\n",
       "        'id_35', 'V287', 'V286', 'id_36', 'V284', 'id_37', 'V40', 'id_12',\n",
       "        'V299', 'V300', 'V322', 'V328', 'V329', 'V331', 'V321', 'V334',\n",
       "        'V18', 'V21', 'V22', 'V336', 'V17', 'V16', 'V27', 'V15', 'V28',\n",
       "        'V14', 'V30', 'V9', 'V31', 'V32', 'id_11', 'V39', 'V305', 'V304',\n",
       "        'V303', 'V302', 'V301', 'V327', 'V107', 'V277', 'V98', 'V141',\n",
       "        'V142', 'V145', 'V147', 'V151', 'V93', 'V153', 'V154', 'V155',\n",
       "        'V89', 'V161', 'V88', 'V163', 'V168', 'V84', 'V173', 'V176',\n",
       "        'V177', 'V179', 'V80', 'V181', 'V138', 'V134', 'V186', 'V132',\n",
       "        'V110', 'V111', 'V112', 'V113', 'V114', 'V106', 'V116', 'V117',\n",
       "        'V118', 'V119', 'V120', 'V121', 'V122', 'V123', 'V124', 'V125',\n",
       "        'V105', 'V104', 'V103', 'V101', 'V100', 'M1', 'V190', 'V276',\n",
       "        'V239', 'V241', 'V242', 'V246', 'V247', 'V68', 'V249', 'V250',\n",
       "        'V252', 'V253', 'V254', 'V65', 'V260', 'V263', 'V59', 'V268',\n",
       "        'V269', 'V57', 'V272', 'V273', 'V274', 'V275', 'V240', 'V237',\n",
       "        'V191', 'V236', 'V192', 'V193', 'V195', 'V196', 'V197', 'V198',\n",
       "        'V199', 'V207', 'V210', 'V211', 'V212', 'V213', 'V214', 'V71',\n",
       "        'V219', 'V223', 'V228', 'V230', 'V233', 'V234', 'V235', 'V185'],\n",
       "       dtype=object),\n",
       " 6: array(['C10', 'V91', 'V267', 'V180', 'V136', 'V64', 'D14', 'V317', 'V318',\n",
       "        'V289', 'D12', 'id_32', 'V338', 'id_04', 'id_13', 'V316', 'V160',\n",
       "        'V29', 'V335', 'M9', 'V33', 'V143', 'M2', 'V129', 'V128', 'V127',\n",
       "        'V311', 'V126', 'V115', 'V201', 'V294', 'V70', 'V66', 'C4', 'V150',\n",
       "        'V264', 'V282', 'V130', 'V261', 'V133', 'C7', 'V292', 'V248',\n",
       "        'id_18', 'id_25', 'V309', 'V227', 'V159', 'V203', 'V200', 'V297',\n",
       "        'V175', 'V266', 'V308', 'V271', 'V164', 'V34', 'V99', 'V94', 'V52',\n",
       "        'V85', 'V47', 'D5', 'D9', 'V19', 'V90', 'V86', 'V224', 'V158',\n",
       "        'V12', 'V339', 'V69', 'V10', 'V8', 'V326', 'V220', 'V279', 'V170',\n",
       "        'V25', 'V144', 'V216', 'V174', 'V209', 'V182', 'V205', 'V72',\n",
       "        'V79', 'V77', 'V330', 'V74', 'V323', 'V172', 'id_10', 'V96',\n",
       "        'V251', 'V278', 'V270', 'V290', 'V60', 'V44', 'V2', 'V257', 'V102',\n",
       "        'V255', 'V4', 'V5', 'V135', 'id_21', 'V6', 'V140', 'V7', 'V108',\n",
       "        'V226', 'V204', 'V208', 'V265', 'V206', 'V58', 'V262', 'V46',\n",
       "        'V202', 'V37', 'V50', 'V73', 'V51', 'V306', 'V232', 'V23', 'V319',\n",
       "        'V225', 'V215', 'V63', 'V259', 'V43', 'V238', 'V218', 'V231',\n",
       "        'V221', 'V256', 'V229', 'V222', 'V244', 'V245', 'V324', 'V243',\n",
       "        'V95', 'V11', 'V194', 'V166', 'V167', 'V157', 'M7', 'V171', 'V92',\n",
       "        'V337', 'V148', 'V97', 'V178', 'id_15', 'V137', 'V333', 'id_26',\n",
       "        'V183', 'V184', 'V332', 'id_08', 'V188', 'id_38', 'DeviceType',\n",
       "        'V109', 'V280', 'V146', 'id_23', 'V325', 'id_22', 'addr2', 'V3',\n",
       "        'id_24', 'V295', 'V41', 'id_16', 'V42', 'V1', 'id_27', 'id_28',\n",
       "        'D7', 'id_29', 'V298', 'M8', 'id_34', 'V288', 'id_35', 'V287',\n",
       "        'V286', 'id_36', 'V284', 'id_37', 'V40', 'id_12', 'V299', 'V300',\n",
       "        'V322', 'V328', 'V329', 'V331', 'V321', 'V334', 'V18', 'V21',\n",
       "        'V22', 'V336', 'V17', 'V16', 'V27', 'V15', 'V28', 'V14', 'V30',\n",
       "        'V9', 'V31', 'V32', 'id_11', 'V39', 'V305', 'V304', 'V303', 'V302',\n",
       "        'V301', 'V327', 'V107', 'V277', 'V98', 'V141', 'V142', 'V145',\n",
       "        'V147', 'V151', 'V93', 'V153', 'V154', 'V155', 'V89', 'V161',\n",
       "        'V88', 'V163', 'V168', 'V84', 'V173', 'V176', 'V177', 'V179',\n",
       "        'V80', 'V181', 'V138', 'V134', 'V186', 'V132', 'V110', 'V111',\n",
       "        'V112', 'V113', 'V114', 'V106', 'V116', 'V117', 'V118', 'V119',\n",
       "        'V120', 'V121', 'V122', 'V123', 'V124', 'V125', 'V105', 'V104',\n",
       "        'V103', 'V101', 'V100', 'M1', 'V190', 'V276', 'V239', 'V241',\n",
       "        'V242', 'V246', 'V247', 'V68', 'V249', 'V250', 'V252', 'V253',\n",
       "        'V254', 'V65', 'V260', 'V263', 'V59', 'V268', 'V269', 'V57',\n",
       "        'V272', 'V273', 'V274', 'V275', 'V240', 'V237', 'V191', 'V236',\n",
       "        'V192', 'V193', 'V195', 'V196', 'V197', 'V198', 'V199', 'V207',\n",
       "        'V210', 'V211', 'V212', 'V213', 'V214', 'V71', 'V219', 'V223',\n",
       "        'V228', 'V230', 'V233', 'V234', 'V235', 'V185'], dtype=object),\n",
       " 7: array(['V187', 'V139', 'V283', 'id_07', 'V78', 'V291', 'dist2', 'V217',\n",
       "        'V320', 'V26', 'C10', 'V91', 'V267', 'V180', 'V136', 'V64', 'D14',\n",
       "        'V317', 'V318', 'V289', 'D12', 'id_32', 'V338', 'id_04', 'id_13',\n",
       "        'V316', 'V160', 'V29', 'V335', 'M9', 'V33', 'V143', 'M2', 'V129',\n",
       "        'V128', 'V127', 'V311', 'V126', 'V115', 'V201', 'V294', 'V70',\n",
       "        'V66', 'C4', 'V150', 'V264', 'V282', 'V130', 'V261', 'V133', 'C7',\n",
       "        'V292', 'V248', 'id_18', 'id_25', 'V309', 'V227', 'V159', 'V203',\n",
       "        'V200', 'V297', 'V175', 'V266', 'V308', 'V271', 'V164', 'V34',\n",
       "        'V99', 'V94', 'V52', 'V85', 'V47', 'D5', 'D9', 'V19', 'V90', 'V86',\n",
       "        'V224', 'V158', 'V12', 'V339', 'V69', 'V10', 'V8', 'V326', 'V220',\n",
       "        'V279', 'V170', 'V25', 'V144', 'V216', 'V174', 'V209', 'V182',\n",
       "        'V205', 'V72', 'V79', 'V77', 'V330', 'V74', 'V323', 'V172',\n",
       "        'id_10', 'V96', 'V251', 'V278', 'V270', 'V290', 'V60', 'V44', 'V2',\n",
       "        'V257', 'V102', 'V255', 'V4', 'V5', 'V135', 'id_21', 'V6', 'V140',\n",
       "        'V7', 'V108', 'V226', 'V204', 'V208', 'V265', 'V206', 'V58',\n",
       "        'V262', 'V46', 'V202', 'V37', 'V50', 'V73', 'V51', 'V306', 'V232',\n",
       "        'V23', 'V319', 'V225', 'V215', 'V63', 'V259', 'V43', 'V238',\n",
       "        'V218', 'V231', 'V221', 'V256', 'V229', 'V222', 'V244', 'V245',\n",
       "        'V324', 'V243', 'V95', 'V11', 'V194', 'V166', 'V167', 'V157', 'M7',\n",
       "        'V171', 'V92', 'V337', 'V148', 'V97', 'V178', 'id_15', 'V137',\n",
       "        'V333', 'id_26', 'V183', 'V184', 'V332', 'id_08', 'V188', 'id_38',\n",
       "        'DeviceType', 'V109', 'V280', 'V146', 'id_23', 'V325', 'id_22',\n",
       "        'addr2', 'V3', 'id_24', 'V295', 'V41', 'id_16', 'V42', 'V1',\n",
       "        'id_27', 'id_28', 'D7', 'id_29', 'V298', 'M8', 'id_34', 'V288',\n",
       "        'id_35', 'V287', 'V286', 'id_36', 'V284', 'id_37', 'V40', 'id_12',\n",
       "        'V299', 'V300', 'V322', 'V328', 'V329', 'V331', 'V321', 'V334',\n",
       "        'V18', 'V21', 'V22', 'V336', 'V17', 'V16', 'V27', 'V15', 'V28',\n",
       "        'V14', 'V30', 'V9', 'V31', 'V32', 'id_11', 'V39', 'V305', 'V304',\n",
       "        'V303', 'V302', 'V301', 'V327', 'V107', 'V277', 'V98', 'V141',\n",
       "        'V142', 'V145', 'V147', 'V151', 'V93', 'V153', 'V154', 'V155',\n",
       "        'V89', 'V161', 'V88', 'V163', 'V168', 'V84', 'V173', 'V176',\n",
       "        'V177', 'V179', 'V80', 'V181', 'V138', 'V134', 'V186', 'V132',\n",
       "        'V110', 'V111', 'V112', 'V113', 'V114', 'V106', 'V116', 'V117',\n",
       "        'V118', 'V119', 'V120', 'V121', 'V122', 'V123', 'V124', 'V125',\n",
       "        'V105', 'V104', 'V103', 'V101', 'V100', 'M1', 'V190', 'V276',\n",
       "        'V239', 'V241', 'V242', 'V246', 'V247', 'V68', 'V249', 'V250',\n",
       "        'V252', 'V253', 'V254', 'V65', 'V260', 'V263', 'V59', 'V268',\n",
       "        'V269', 'V57', 'V272', 'V273', 'V274', 'V275', 'V240', 'V237',\n",
       "        'V191', 'V236', 'V192', 'V193', 'V195', 'V196', 'V197', 'V198',\n",
       "        'V199', 'V207', 'V210', 'V211', 'V212', 'V213', 'V214', 'V71',\n",
       "        'V219', 'V223', 'V228', 'V230', 'V233', 'V234', 'V235', 'V185'],\n",
       "       dtype=object),\n",
       " 8: array(['V75', 'V49', 'V293', 'V67', 'V36', 'V35', 'V48', 'V24', 'id_33',\n",
       "        'V81', 'V149', 'V162', 'V13', 'V187', 'V139', 'V283', 'id_07',\n",
       "        'V78', 'V291', 'dist2', 'V217', 'V320', 'V26', 'C10', 'V91',\n",
       "        'V267', 'V180', 'V136', 'V64', 'D14', 'V317', 'V318', 'V289',\n",
       "        'D12', 'id_32', 'V338', 'id_04', 'id_13', 'V316', 'V160', 'V29',\n",
       "        'V335', 'M9', 'V33', 'V143', 'M2', 'V129', 'V128', 'V127', 'V311',\n",
       "        'V126', 'V115', 'V201', 'V294', 'V70', 'V66', 'C4', 'V150', 'V264',\n",
       "        'V282', 'V130', 'V261', 'V133', 'C7', 'V292', 'V248', 'id_18',\n",
       "        'id_25', 'V309', 'V227', 'V159', 'V203', 'V200', 'V297', 'V175',\n",
       "        'V266', 'V308', 'V271', 'V164', 'V34', 'V99', 'V94', 'V52', 'V85',\n",
       "        'V47', 'D5', 'D9', 'V19', 'V90', 'V86', 'V224', 'V158', 'V12',\n",
       "        'V339', 'V69', 'V10', 'V8', 'V326', 'V220', 'V279', 'V170', 'V25',\n",
       "        'V144', 'V216', 'V174', 'V209', 'V182', 'V205', 'V72', 'V79',\n",
       "        'V77', 'V330', 'V74', 'V323', 'V172', 'id_10', 'V96', 'V251',\n",
       "        'V278', 'V270', 'V290', 'V60', 'V44', 'V2', 'V257', 'V102', 'V255',\n",
       "        'V4', 'V5', 'V135', 'id_21', 'V6', 'V140', 'V7', 'V108', 'V226',\n",
       "        'V204', 'V208', 'V265', 'V206', 'V58', 'V262', 'V46', 'V202',\n",
       "        'V37', 'V50', 'V73', 'V51', 'V306', 'V232', 'V23', 'V319', 'V225',\n",
       "        'V215', 'V63', 'V259', 'V43', 'V238', 'V218', 'V231', 'V221',\n",
       "        'V256', 'V229', 'V222', 'V244', 'V245', 'V324', 'V243', 'V95',\n",
       "        'V11', 'V194', 'V166', 'V167', 'V157', 'M7', 'V171', 'V92', 'V337',\n",
       "        'V148', 'V97', 'V178', 'id_15', 'V137', 'V333', 'id_26', 'V183',\n",
       "        'V184', 'V332', 'id_08', 'V188', 'id_38', 'DeviceType', 'V109',\n",
       "        'V280', 'V146', 'id_23', 'V325', 'id_22', 'addr2', 'V3', 'id_24',\n",
       "        'V295', 'V41', 'id_16', 'V42', 'V1', 'id_27', 'id_28', 'D7',\n",
       "        'id_29', 'V298', 'M8', 'id_34', 'V288', 'id_35', 'V287', 'V286',\n",
       "        'id_36', 'V284', 'id_37', 'V40', 'id_12', 'V299', 'V300', 'V322',\n",
       "        'V328', 'V329', 'V331', 'V321', 'V334', 'V18', 'V21', 'V22',\n",
       "        'V336', 'V17', 'V16', 'V27', 'V15', 'V28', 'V14', 'V30', 'V9',\n",
       "        'V31', 'V32', 'id_11', 'V39', 'V305', 'V304', 'V303', 'V302',\n",
       "        'V301', 'V327', 'V107', 'V277', 'V98', 'V141', 'V142', 'V145',\n",
       "        'V147', 'V151', 'V93', 'V153', 'V154', 'V155', 'V89', 'V161',\n",
       "        'V88', 'V163', 'V168', 'V84', 'V173', 'V176', 'V177', 'V179',\n",
       "        'V80', 'V181', 'V138', 'V134', 'V186', 'V132', 'V110', 'V111',\n",
       "        'V112', 'V113', 'V114', 'V106', 'V116', 'V117', 'V118', 'V119',\n",
       "        'V120', 'V121', 'V122', 'V123', 'V124', 'V125', 'V105', 'V104',\n",
       "        'V103', 'V101', 'V100', 'M1', 'V190', 'V276', 'V239', 'V241',\n",
       "        'V242', 'V246', 'V247', 'V68', 'V249', 'V250', 'V252', 'V253',\n",
       "        'V254', 'V65', 'V260', 'V263', 'V59', 'V268', 'V269', 'V57',\n",
       "        'V272', 'V273', 'V274', 'V275', 'V240', 'V237', 'V191', 'V236',\n",
       "        'V192', 'V193', 'V195', 'V196', 'V197', 'V198', 'V199', 'V207',\n",
       "        'V210', 'V211', 'V212', 'V213', 'V214', 'V71', 'V219', 'V223',\n",
       "        'V228', 'V230', 'V233', 'V234', 'V235', 'V185'], dtype=object),\n",
       " 9: array(['V131', 'V53', 'id_06', 'V20', 'id_03', 'V75', 'V49', 'V293',\n",
       "        'V67', 'V36', 'V35', 'V48', 'V24', 'id_33', 'V81', 'V149', 'V162',\n",
       "        'V13', 'V187', 'V139', 'V283', 'id_07', 'V78', 'V291', 'dist2',\n",
       "        'V217', 'V320', 'V26', 'C10', 'V91', 'V267', 'V180', 'V136', 'V64',\n",
       "        'D14', 'V317', 'V318', 'V289', 'D12', 'id_32', 'V338', 'id_04',\n",
       "        'id_13', 'V316', 'V160', 'V29', 'V335', 'M9', 'V33', 'V143', 'M2',\n",
       "        'V129', 'V128', 'V127', 'V311', 'V126', 'V115', 'V201', 'V294',\n",
       "        'V70', 'V66', 'C4', 'V150', 'V264', 'V282', 'V130', 'V261', 'V133',\n",
       "        'C7', 'V292', 'V248', 'id_18', 'id_25', 'V309', 'V227', 'V159',\n",
       "        'V203', 'V200', 'V297', 'V175', 'V266', 'V308', 'V271', 'V164',\n",
       "        'V34', 'V99', 'V94', 'V52', 'V85', 'V47', 'D5', 'D9', 'V19', 'V90',\n",
       "        'V86', 'V224', 'V158', 'V12', 'V339', 'V69', 'V10', 'V8', 'V326',\n",
       "        'V220', 'V279', 'V170', 'V25', 'V144', 'V216', 'V174', 'V209',\n",
       "        'V182', 'V205', 'V72', 'V79', 'V77', 'V330', 'V74', 'V323', 'V172',\n",
       "        'id_10', 'V96', 'V251', 'V278', 'V270', 'V290', 'V60', 'V44', 'V2',\n",
       "        'V257', 'V102', 'V255', 'V4', 'V5', 'V135', 'id_21', 'V6', 'V140',\n",
       "        'V7', 'V108', 'V226', 'V204', 'V208', 'V265', 'V206', 'V58',\n",
       "        'V262', 'V46', 'V202', 'V37', 'V50', 'V73', 'V51', 'V306', 'V232',\n",
       "        'V23', 'V319', 'V225', 'V215', 'V63', 'V259', 'V43', 'V238',\n",
       "        'V218', 'V231', 'V221', 'V256', 'V229', 'V222', 'V244', 'V245',\n",
       "        'V324', 'V243', 'V95', 'V11', 'V194', 'V166', 'V167', 'V157', 'M7',\n",
       "        'V171', 'V92', 'V337', 'V148', 'V97', 'V178', 'id_15', 'V137',\n",
       "        'V333', 'id_26', 'V183', 'V184', 'V332', 'id_08', 'V188', 'id_38',\n",
       "        'DeviceType', 'V109', 'V280', 'V146', 'id_23', 'V325', 'id_22',\n",
       "        'addr2', 'V3', 'id_24', 'V295', 'V41', 'id_16', 'V42', 'V1',\n",
       "        'id_27', 'id_28', 'D7', 'id_29', 'V298', 'M8', 'id_34', 'V288',\n",
       "        'id_35', 'V287', 'V286', 'id_36', 'V284', 'id_37', 'V40', 'id_12',\n",
       "        'V299', 'V300', 'V322', 'V328', 'V329', 'V331', 'V321', 'V334',\n",
       "        'V18', 'V21', 'V22', 'V336', 'V17', 'V16', 'V27', 'V15', 'V28',\n",
       "        'V14', 'V30', 'V9', 'V31', 'V32', 'id_11', 'V39', 'V305', 'V304',\n",
       "        'V303', 'V302', 'V301', 'V327', 'V107', 'V277', 'V98', 'V141',\n",
       "        'V142', 'V145', 'V147', 'V151', 'V93', 'V153', 'V154', 'V155',\n",
       "        'V89', 'V161', 'V88', 'V163', 'V168', 'V84', 'V173', 'V176',\n",
       "        'V177', 'V179', 'V80', 'V181', 'V138', 'V134', 'V186', 'V132',\n",
       "        'V110', 'V111', 'V112', 'V113', 'V114', 'V106', 'V116', 'V117',\n",
       "        'V118', 'V119', 'V120', 'V121', 'V122', 'V123', 'V124', 'V125',\n",
       "        'V105', 'V104', 'V103', 'V101', 'V100', 'M1', 'V190', 'V276',\n",
       "        'V239', 'V241', 'V242', 'V246', 'V247', 'V68', 'V249', 'V250',\n",
       "        'V252', 'V253', 'V254', 'V65', 'V260', 'V263', 'V59', 'V268',\n",
       "        'V269', 'V57', 'V272', 'V273', 'V274', 'V275', 'V240', 'V237',\n",
       "        'V191', 'V236', 'V192', 'V193', 'V195', 'V196', 'V197', 'V198',\n",
       "        'V199', 'V207', 'V210', 'V211', 'V212', 'V213', 'V214', 'V71',\n",
       "        'V219', 'V223', 'V228', 'V230', 'V233', 'V234', 'V235', 'V185'],\n",
       "       dtype=object),\n",
       " 10: array(['V169', 'V152', 'V189', 'V312', 'V296', 'V82', 'V281', 'V131',\n",
       "        'V53', 'id_06', 'V20', 'id_03', 'V75', 'V49', 'V293', 'V67', 'V36',\n",
       "        'V35', 'V48', 'V24', 'id_33', 'V81', 'V149', 'V162', 'V13', 'V187',\n",
       "        'V139', 'V283', 'id_07', 'V78', 'V291', 'dist2', 'V217', 'V320',\n",
       "        'V26', 'C10', 'V91', 'V267', 'V180', 'V136', 'V64', 'D14', 'V317',\n",
       "        'V318', 'V289', 'D12', 'id_32', 'V338', 'id_04', 'id_13', 'V316',\n",
       "        'V160', 'V29', 'V335', 'M9', 'V33', 'V143', 'M2', 'V129', 'V128',\n",
       "        'V127', 'V311', 'V126', 'V115', 'V201', 'V294', 'V70', 'V66', 'C4',\n",
       "        'V150', 'V264', 'V282', 'V130', 'V261', 'V133', 'C7', 'V292',\n",
       "        'V248', 'id_18', 'id_25', 'V309', 'V227', 'V159', 'V203', 'V200',\n",
       "        'V297', 'V175', 'V266', 'V308', 'V271', 'V164', 'V34', 'V99',\n",
       "        'V94', 'V52', 'V85', 'V47', 'D5', 'D9', 'V19', 'V90', 'V86',\n",
       "        'V224', 'V158', 'V12', 'V339', 'V69', 'V10', 'V8', 'V326', 'V220',\n",
       "        'V279', 'V170', 'V25', 'V144', 'V216', 'V174', 'V209', 'V182',\n",
       "        'V205', 'V72', 'V79', 'V77', 'V330', 'V74', 'V323', 'V172',\n",
       "        'id_10', 'V96', 'V251', 'V278', 'V270', 'V290', 'V60', 'V44', 'V2',\n",
       "        'V257', 'V102', 'V255', 'V4', 'V5', 'V135', 'id_21', 'V6', 'V140',\n",
       "        'V7', 'V108', 'V226', 'V204', 'V208', 'V265', 'V206', 'V58',\n",
       "        'V262', 'V46', 'V202', 'V37', 'V50', 'V73', 'V51', 'V306', 'V232',\n",
       "        'V23', 'V319', 'V225', 'V215', 'V63', 'V259', 'V43', 'V238',\n",
       "        'V218', 'V231', 'V221', 'V256', 'V229', 'V222', 'V244', 'V245',\n",
       "        'V324', 'V243', 'V95', 'V11', 'V194', 'V166', 'V167', 'V157', 'M7',\n",
       "        'V171', 'V92', 'V337', 'V148', 'V97', 'V178', 'id_15', 'V137',\n",
       "        'V333', 'id_26', 'V183', 'V184', 'V332', 'id_08', 'V188', 'id_38',\n",
       "        'DeviceType', 'V109', 'V280', 'V146', 'id_23', 'V325', 'id_22',\n",
       "        'addr2', 'V3', 'id_24', 'V295', 'V41', 'id_16', 'V42', 'V1',\n",
       "        'id_27', 'id_28', 'D7', 'id_29', 'V298', 'M8', 'id_34', 'V288',\n",
       "        'id_35', 'V287', 'V286', 'id_36', 'V284', 'id_37', 'V40', 'id_12',\n",
       "        'V299', 'V300', 'V322', 'V328', 'V329', 'V331', 'V321', 'V334',\n",
       "        'V18', 'V21', 'V22', 'V336', 'V17', 'V16', 'V27', 'V15', 'V28',\n",
       "        'V14', 'V30', 'V9', 'V31', 'V32', 'id_11', 'V39', 'V305', 'V304',\n",
       "        'V303', 'V302', 'V301', 'V327', 'V107', 'V277', 'V98', 'V141',\n",
       "        'V142', 'V145', 'V147', 'V151', 'V93', 'V153', 'V154', 'V155',\n",
       "        'V89', 'V161', 'V88', 'V163', 'V168', 'V84', 'V173', 'V176',\n",
       "        'V177', 'V179', 'V80', 'V181', 'V138', 'V134', 'V186', 'V132',\n",
       "        'V110', 'V111', 'V112', 'V113', 'V114', 'V106', 'V116', 'V117',\n",
       "        'V118', 'V119', 'V120', 'V121', 'V122', 'V123', 'V124', 'V125',\n",
       "        'V105', 'V104', 'V103', 'V101', 'V100', 'M1', 'V190', 'V276',\n",
       "        'V239', 'V241', 'V242', 'V246', 'V247', 'V68', 'V249', 'V250',\n",
       "        'V252', 'V253', 'V254', 'V65', 'V260', 'V263', 'V59', 'V268',\n",
       "        'V269', 'V57', 'V272', 'V273', 'V274', 'V275', 'V240', 'V237',\n",
       "        'V191', 'V236', 'V192', 'V193', 'V195', 'V196', 'V197', 'V198',\n",
       "        'V199', 'V207', 'V210', 'V211', 'V212', 'V213', 'V214', 'V71',\n",
       "        'V219', 'V223', 'V228', 'V230', 'V233', 'V234', 'V235', 'V185'],\n",
       "       dtype=object)}"
      ]
     },
     "execution_count": 93,
     "metadata": {},
     "output_type": "execute_result"
    }
   ],
   "source": [
    "feat_select"
   ]
  },
  {
   "cell_type": "code",
   "execution_count": 88,
   "metadata": {},
   "outputs": [
    {
     "data": {
      "text/plain": [
       "LGBMClassifier(boosting_type='gbdt', class_weight=None, colsample_bytree=1.0,\n",
       "               importance_type='split', learning_rate=0.1, max_depth=-1,\n",
       "               min_child_samples=20, min_child_weight=0.001, min_split_gain=0.0,\n",
       "               n_estimators=100, n_jobs=-1, num_leaves=31, objective=None,\n",
       "               random_state=50, reg_alpha=0.0, reg_lambda=0.0,\n",
       "               scale_pos_weight=9, silent=True, subsample=1.0,\n",
       "               subsample_for_bin=200000, subsample_freq=0)"
      ]
     },
     "execution_count": 88,
     "metadata": {},
     "output_type": "execute_result"
    }
   ],
   "source": [
    "model = lgb.LGBMClassifier(n_estimators = len(cv_results['auc-mean']), random_state=RSEED,scale_pos_weight=9)\n",
    "model.fit(features_train_new, labels_train.values)"
   ]
  },
  {
   "cell_type": "code",
   "execution_count": 89,
   "metadata": {},
   "outputs": [],
   "source": [
    "id_test = features_test_new['TransactionID']\n",
    "# Make predictions on the testing data\n",
    "features_test_final = features_test_new.drop(columns = ['isFraud', 'TransactionID'])\n",
    "preds = model.predict_proba(features_test_final)[:, 1]\n",
    "submission = pd.DataFrame({'TransactionID': id_test, \n",
    "                                'isFraud': preds})\n",
    "submission.to_csv('./data/sub_baseline_fs.csv', index = False)"
   ]
  }
 ],
 "metadata": {
  "kernelspec": {
   "display_name": "Python 3",
   "language": "python",
   "name": "python3"
  },
  "language_info": {
   "codemirror_mode": {
    "name": "ipython",
    "version": 3
   },
   "file_extension": ".py",
   "mimetype": "text/x-python",
   "name": "python",
   "nbconvert_exporter": "python",
   "pygments_lexer": "ipython3",
   "version": "3.6.5"
  }
 },
 "nbformat": 4,
 "nbformat_minor": 2
}
