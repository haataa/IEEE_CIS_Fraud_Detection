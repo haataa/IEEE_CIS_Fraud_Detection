{
 "cells": [
  {
   "cell_type": "code",
   "execution_count": 3,
   "metadata": {},
   "outputs": [],
   "source": [
    "import numpy as np\n",
    "import pandas as pd\n",
    "import matplotlib.pyplot as plt\n",
    "import featuretools as ft\n",
    "import lightgbm as lgb\n",
    "import seaborn as sns\n",
    "from sklearn.model_selection import GridSearchCV\n",
    "from sklearn.model_selection import KFold\n",
    "from sklearn.metrics import roc_auc_score\n",
    "from random import sample \n",
    "import pickle\n",
    "import eli5\n",
    "from eli5.sklearn import PermutationImportance\n",
    "from lightgbm import LGBMClassifier\n",
    "from sklearn.preprocessing import Imputer\n",
    "from sklearn.preprocessing import StandardScaler\n",
    "from sklearn.decomposition import PCA\n",
    "import math\n",
    "\n",
    "%matplotlib inline\n",
    "RSEED = 50"
   ]
  },
  {
   "cell_type": "markdown",
   "metadata": {},
   "source": [
    "# Load Original Features"
   ]
  },
  {
   "cell_type": "code",
   "execution_count": 4,
   "metadata": {},
   "outputs": [],
   "source": [
    "feat_num = 439"
   ]
  },
  {
   "cell_type": "code",
   "execution_count": 5,
   "metadata": {},
   "outputs": [],
   "source": [
    "# 取出feature文件\n",
    "with open('./data/features%s_na.pickle'%(feat_num), 'rb') as handle:\n",
    "    df_total_raw = pickle.load(handle)"
   ]
  },
  {
   "cell_type": "code",
   "execution_count": 6,
   "metadata": {},
   "outputs": [],
   "source": [
    "# 取出要删掉的列\n",
    "with open('./data/feat%s_rm_pm_importance100.pickle'%(437), 'rb') as handle:\n",
    "    to_drop = pickle.load(handle)"
   ]
  },
  {
   "cell_type": "code",
   "execution_count": 7,
   "metadata": {},
   "outputs": [
    {
     "name": "stdout",
     "output_type": "stream",
     "text": [
      "(1097231, 339)\n"
     ]
    },
    {
     "data": {
      "text/html": [
       "<div>\n",
       "<style scoped>\n",
       "    .dataframe tbody tr th:only-of-type {\n",
       "        vertical-align: middle;\n",
       "    }\n",
       "\n",
       "    .dataframe tbody tr th {\n",
       "        vertical-align: top;\n",
       "    }\n",
       "\n",
       "    .dataframe thead th {\n",
       "        text-align: right;\n",
       "    }\n",
       "</style>\n",
       "<table border=\"1\" class=\"dataframe\">\n",
       "  <thead>\n",
       "    <tr style=\"text-align: right;\">\n",
       "      <th></th>\n",
       "      <th>TransactionID</th>\n",
       "      <th>isFraud</th>\n",
       "      <th>TransactionDT</th>\n",
       "      <th>TransactionAmt</th>\n",
       "      <th>ProductCD</th>\n",
       "      <th>card1</th>\n",
       "      <th>card2</th>\n",
       "      <th>card3</th>\n",
       "      <th>card4</th>\n",
       "      <th>card5</th>\n",
       "      <th>...</th>\n",
       "      <th>id_38</th>\n",
       "      <th>DeviceType</th>\n",
       "      <th>DeviceInfo</th>\n",
       "      <th>P_email</th>\n",
       "      <th>R_email</th>\n",
       "      <th>screen_width</th>\n",
       "      <th>pdc_amt_ratio</th>\n",
       "      <th>card1_fq_enc</th>\n",
       "      <th>addr1_fq_enc</th>\n",
       "      <th>card_mv_day_fq</th>\n",
       "    </tr>\n",
       "  </thead>\n",
       "  <tbody>\n",
       "    <tr>\n",
       "      <td>0</td>\n",
       "      <td>2987000</td>\n",
       "      <td>0.0</td>\n",
       "      <td>86400</td>\n",
       "      <td>68.5</td>\n",
       "      <td>0</td>\n",
       "      <td>13926</td>\n",
       "      <td>-999.0</td>\n",
       "      <td>150.0</td>\n",
       "      <td>0</td>\n",
       "      <td>142.0</td>\n",
       "      <td>...</td>\n",
       "      <td>0</td>\n",
       "      <td>0</td>\n",
       "      <td>0</td>\n",
       "      <td>0</td>\n",
       "      <td>0</td>\n",
       "      <td>0</td>\n",
       "      <td>0.445929</td>\n",
       "      <td>56</td>\n",
       "      <td>43035.0</td>\n",
       "      <td>1</td>\n",
       "    </tr>\n",
       "    <tr>\n",
       "      <td>1</td>\n",
       "      <td>2987001</td>\n",
       "      <td>0.0</td>\n",
       "      <td>86401</td>\n",
       "      <td>29.0</td>\n",
       "      <td>0</td>\n",
       "      <td>2755</td>\n",
       "      <td>404.0</td>\n",
       "      <td>150.0</td>\n",
       "      <td>1</td>\n",
       "      <td>102.0</td>\n",
       "      <td>...</td>\n",
       "      <td>0</td>\n",
       "      <td>0</td>\n",
       "      <td>0</td>\n",
       "      <td>1</td>\n",
       "      <td>0</td>\n",
       "      <td>0</td>\n",
       "      <td>0.188788</td>\n",
       "      <td>1338</td>\n",
       "      <td>76902.0</td>\n",
       "      <td>1</td>\n",
       "    </tr>\n",
       "    <tr>\n",
       "      <td>2</td>\n",
       "      <td>2987002</td>\n",
       "      <td>0.0</td>\n",
       "      <td>86469</td>\n",
       "      <td>59.0</td>\n",
       "      <td>0</td>\n",
       "      <td>4663</td>\n",
       "      <td>490.0</td>\n",
       "      <td>150.0</td>\n",
       "      <td>2</td>\n",
       "      <td>166.0</td>\n",
       "      <td>...</td>\n",
       "      <td>0</td>\n",
       "      <td>0</td>\n",
       "      <td>0</td>\n",
       "      <td>2</td>\n",
       "      <td>0</td>\n",
       "      <td>0</td>\n",
       "      <td>0.384085</td>\n",
       "      <td>1794</td>\n",
       "      <td>48387.0</td>\n",
       "      <td>1</td>\n",
       "    </tr>\n",
       "    <tr>\n",
       "      <td>3</td>\n",
       "      <td>2987003</td>\n",
       "      <td>0.0</td>\n",
       "      <td>86499</td>\n",
       "      <td>50.0</td>\n",
       "      <td>0</td>\n",
       "      <td>18132</td>\n",
       "      <td>567.0</td>\n",
       "      <td>150.0</td>\n",
       "      <td>1</td>\n",
       "      <td>117.0</td>\n",
       "      <td>...</td>\n",
       "      <td>0</td>\n",
       "      <td>0</td>\n",
       "      <td>0</td>\n",
       "      <td>3</td>\n",
       "      <td>0</td>\n",
       "      <td>0</td>\n",
       "      <td>0.325496</td>\n",
       "      <td>7635</td>\n",
       "      <td>17455.0</td>\n",
       "      <td>11</td>\n",
       "    </tr>\n",
       "    <tr>\n",
       "      <td>4</td>\n",
       "      <td>2987004</td>\n",
       "      <td>0.0</td>\n",
       "      <td>86506</td>\n",
       "      <td>50.0</td>\n",
       "      <td>1</td>\n",
       "      <td>4497</td>\n",
       "      <td>514.0</td>\n",
       "      <td>150.0</td>\n",
       "      <td>1</td>\n",
       "      <td>102.0</td>\n",
       "      <td>...</td>\n",
       "      <td>1</td>\n",
       "      <td>1</td>\n",
       "      <td>1</td>\n",
       "      <td>1</td>\n",
       "      <td>0</td>\n",
       "      <td>1</td>\n",
       "      <td>0.686003</td>\n",
       "      <td>30</td>\n",
       "      <td>7107.0</td>\n",
       "      <td>1</td>\n",
       "    </tr>\n",
       "  </tbody>\n",
       "</table>\n",
       "<p>5 rows × 339 columns</p>\n",
       "</div>"
      ],
      "text/plain": [
       "   TransactionID  isFraud  TransactionDT  TransactionAmt  ProductCD  card1  \\\n",
       "0        2987000      0.0          86400            68.5          0  13926   \n",
       "1        2987001      0.0          86401            29.0          0   2755   \n",
       "2        2987002      0.0          86469            59.0          0   4663   \n",
       "3        2987003      0.0          86499            50.0          0  18132   \n",
       "4        2987004      0.0          86506            50.0          1   4497   \n",
       "\n",
       "   card2  card3  card4  card5  ...  id_38  DeviceType  DeviceInfo  P_email  \\\n",
       "0 -999.0  150.0      0  142.0  ...      0           0           0        0   \n",
       "1  404.0  150.0      1  102.0  ...      0           0           0        1   \n",
       "2  490.0  150.0      2  166.0  ...      0           0           0        2   \n",
       "3  567.0  150.0      1  117.0  ...      0           0           0        3   \n",
       "4  514.0  150.0      1  102.0  ...      1           1           1        1   \n",
       "\n",
       "   R_email  screen_width  pdc_amt_ratio  card1_fq_enc  addr1_fq_enc  \\\n",
       "0        0             0       0.445929            56       43035.0   \n",
       "1        0             0       0.188788          1338       76902.0   \n",
       "2        0             0       0.384085          1794       48387.0   \n",
       "3        0             0       0.325496          7635       17455.0   \n",
       "4        0             1       0.686003            30        7107.0   \n",
       "\n",
       "   card_mv_day_fq  \n",
       "0               1  \n",
       "1               1  \n",
       "2               1  \n",
       "3              11  \n",
       "4               1  \n",
       "\n",
       "[5 rows x 339 columns]"
      ]
     },
     "execution_count": 7,
     "metadata": {},
     "output_type": "execute_result"
    }
   ],
   "source": [
    "# 删掉不用的feature\n",
    "df_total = df_total_raw.drop(list(to_drop),axis=1)\n",
    "print(df_total.shape)\n",
    "df_total.head()"
   ]
  },
  {
   "cell_type": "code",
   "execution_count": 8,
   "metadata": {},
   "outputs": [],
   "source": [
    "# 把train和test文件分开\n",
    "df_train = df_total[df_total['isFraud'].notnull()]\n",
    "features_test = df_total[df_total['isFraud'].isnull()]\n",
    "features_test_new = features_test.drop(columns = ['isFraud', 'TransactionID'])"
   ]
  },
  {
   "cell_type": "code",
   "execution_count": 9,
   "metadata": {},
   "outputs": [
    {
     "name": "stdout",
     "output_type": "stream",
     "text": [
      "(20663, 339) (569877, 339)\n"
     ]
    }
   ],
   "source": [
    "# 区分train文件中的正例和负例\n",
    "train_pos = df_train[df_train['isFraud']==1]\n",
    "train_neg = df_train[df_train['isFraud']==0]\n",
    "print(train_pos.shape,train_neg.shape)"
   ]
  },
  {
   "cell_type": "code",
   "execution_count": 10,
   "metadata": {},
   "outputs": [
    {
     "data": {
      "text/html": [
       "<div>\n",
       "<style scoped>\n",
       "    .dataframe tbody tr th:only-of-type {\n",
       "        vertical-align: middle;\n",
       "    }\n",
       "\n",
       "    .dataframe tbody tr th {\n",
       "        vertical-align: top;\n",
       "    }\n",
       "\n",
       "    .dataframe thead th {\n",
       "        text-align: right;\n",
       "    }\n",
       "</style>\n",
       "<table border=\"1\" class=\"dataframe\">\n",
       "  <thead>\n",
       "    <tr style=\"text-align: right;\">\n",
       "      <th></th>\n",
       "      <th>TransactionID</th>\n",
       "      <th>isFraud</th>\n",
       "      <th>TransactionDT</th>\n",
       "      <th>TransactionAmt</th>\n",
       "      <th>ProductCD</th>\n",
       "      <th>card1</th>\n",
       "      <th>card2</th>\n",
       "      <th>card3</th>\n",
       "      <th>card4</th>\n",
       "      <th>card5</th>\n",
       "      <th>...</th>\n",
       "      <th>id_38</th>\n",
       "      <th>DeviceType</th>\n",
       "      <th>DeviceInfo</th>\n",
       "      <th>P_email</th>\n",
       "      <th>R_email</th>\n",
       "      <th>screen_width</th>\n",
       "      <th>pdc_amt_ratio</th>\n",
       "      <th>card1_fq_enc</th>\n",
       "      <th>addr1_fq_enc</th>\n",
       "      <th>card_mv_day_fq</th>\n",
       "    </tr>\n",
       "  </thead>\n",
       "  <tbody>\n",
       "    <tr>\n",
       "      <td>563268</td>\n",
       "      <td>3550268</td>\n",
       "      <td>0.0</td>\n",
       "      <td>14927197</td>\n",
       "      <td>1724.95</td>\n",
       "      <td>0</td>\n",
       "      <td>7411</td>\n",
       "      <td>383.0</td>\n",
       "      <td>150.0</td>\n",
       "      <td>2</td>\n",
       "      <td>226.0</td>\n",
       "      <td>...</td>\n",
       "      <td>0</td>\n",
       "      <td>0</td>\n",
       "      <td>0</td>\n",
       "      <td>5</td>\n",
       "      <td>0</td>\n",
       "      <td>0</td>\n",
       "      <td>11.229283</td>\n",
       "      <td>412</td>\n",
       "      <td>11025.0</td>\n",
       "      <td>1</td>\n",
       "    </tr>\n",
       "    <tr>\n",
       "      <td>249972</td>\n",
       "      <td>3236972</td>\n",
       "      <td>0.0</td>\n",
       "      <td>5955077</td>\n",
       "      <td>57.95</td>\n",
       "      <td>0</td>\n",
       "      <td>3295</td>\n",
       "      <td>-999.0</td>\n",
       "      <td>150.0</td>\n",
       "      <td>2</td>\n",
       "      <td>166.0</td>\n",
       "      <td>...</td>\n",
       "      <td>0</td>\n",
       "      <td>0</td>\n",
       "      <td>0</td>\n",
       "      <td>3</td>\n",
       "      <td>0</td>\n",
       "      <td>0</td>\n",
       "      <td>0.377250</td>\n",
       "      <td>74</td>\n",
       "      <td>76902.0</td>\n",
       "      <td>1</td>\n",
       "    </tr>\n",
       "    <tr>\n",
       "      <td>49909</td>\n",
       "      <td>3036909</td>\n",
       "      <td>0.0</td>\n",
       "      <td>1188242</td>\n",
       "      <td>117.00</td>\n",
       "      <td>0</td>\n",
       "      <td>12345</td>\n",
       "      <td>310.0</td>\n",
       "      <td>150.0</td>\n",
       "      <td>1</td>\n",
       "      <td>224.0</td>\n",
       "      <td>...</td>\n",
       "      <td>0</td>\n",
       "      <td>0</td>\n",
       "      <td>0</td>\n",
       "      <td>3</td>\n",
       "      <td>0</td>\n",
       "      <td>0</td>\n",
       "      <td>0.761660</td>\n",
       "      <td>32</td>\n",
       "      <td>48387.0</td>\n",
       "      <td>1</td>\n",
       "    </tr>\n",
       "    <tr>\n",
       "      <td>456559</td>\n",
       "      <td>3443559</td>\n",
       "      <td>0.0</td>\n",
       "      <td>11667817</td>\n",
       "      <td>59.00</td>\n",
       "      <td>0</td>\n",
       "      <td>4436</td>\n",
       "      <td>174.0</td>\n",
       "      <td>150.0</td>\n",
       "      <td>2</td>\n",
       "      <td>183.0</td>\n",
       "      <td>...</td>\n",
       "      <td>0</td>\n",
       "      <td>0</td>\n",
       "      <td>0</td>\n",
       "      <td>18</td>\n",
       "      <td>0</td>\n",
       "      <td>0</td>\n",
       "      <td>0.384085</td>\n",
       "      <td>3622</td>\n",
       "      <td>28081.0</td>\n",
       "      <td>1</td>\n",
       "    </tr>\n",
       "    <tr>\n",
       "      <td>547691</td>\n",
       "      <td>3534691</td>\n",
       "      <td>0.0</td>\n",
       "      <td>14471858</td>\n",
       "      <td>49.00</td>\n",
       "      <td>0</td>\n",
       "      <td>3682</td>\n",
       "      <td>264.0</td>\n",
       "      <td>150.0</td>\n",
       "      <td>2</td>\n",
       "      <td>162.0</td>\n",
       "      <td>...</td>\n",
       "      <td>0</td>\n",
       "      <td>0</td>\n",
       "      <td>0</td>\n",
       "      <td>8</td>\n",
       "      <td>0</td>\n",
       "      <td>0</td>\n",
       "      <td>0.318986</td>\n",
       "      <td>2617</td>\n",
       "      <td>76902.0</td>\n",
       "      <td>1</td>\n",
       "    </tr>\n",
       "  </tbody>\n",
       "</table>\n",
       "<p>5 rows × 339 columns</p>\n",
       "</div>"
      ],
      "text/plain": [
       "        TransactionID  isFraud  TransactionDT  TransactionAmt  ProductCD  \\\n",
       "563268        3550268      0.0       14927197         1724.95          0   \n",
       "249972        3236972      0.0        5955077           57.95          0   \n",
       "49909         3036909      0.0        1188242          117.00          0   \n",
       "456559        3443559      0.0       11667817           59.00          0   \n",
       "547691        3534691      0.0       14471858           49.00          0   \n",
       "\n",
       "        card1  card2  card3  card4  card5  ...  id_38  DeviceType  DeviceInfo  \\\n",
       "563268   7411  383.0  150.0      2  226.0  ...      0           0           0   \n",
       "249972   3295 -999.0  150.0      2  166.0  ...      0           0           0   \n",
       "49909   12345  310.0  150.0      1  224.0  ...      0           0           0   \n",
       "456559   4436  174.0  150.0      2  183.0  ...      0           0           0   \n",
       "547691   3682  264.0  150.0      2  162.0  ...      0           0           0   \n",
       "\n",
       "        P_email  R_email  screen_width  pdc_amt_ratio  card1_fq_enc  \\\n",
       "563268        5        0             0      11.229283           412   \n",
       "249972        3        0             0       0.377250            74   \n",
       "49909         3        0             0       0.761660            32   \n",
       "456559       18        0             0       0.384085          3622   \n",
       "547691        8        0             0       0.318986          2617   \n",
       "\n",
       "        addr1_fq_enc  card_mv_day_fq  \n",
       "563268       11025.0               1  \n",
       "249972       76902.0               1  \n",
       "49909        48387.0               1  \n",
       "456559       28081.0               1  \n",
       "547691       76902.0               1  \n",
       "\n",
       "[5 rows x 339 columns]"
      ]
     },
     "execution_count": 10,
     "metadata": {},
     "output_type": "execute_result"
    }
   ],
   "source": [
    "train_neg_sfd = train_neg.sample(frac=1)\n",
    "train_neg_sfd.head()"
   ]
  },
  {
   "cell_type": "code",
   "execution_count": 11,
   "metadata": {},
   "outputs": [
    {
     "name": "stdout",
     "output_type": "stream",
     "text": [
      "113975\n"
     ]
    }
   ],
   "source": [
    "size = math.floor(train_neg.shape[0] * 0.2)\n",
    "print(size)"
   ]
  },
  {
   "cell_type": "markdown",
   "metadata": {},
   "source": [
    "# Prepare Model"
   ]
  },
  {
   "cell_type": "code",
   "execution_count": 12,
   "metadata": {},
   "outputs": [],
   "source": [
    "categorical = ['ProductCD', 'card2', 'card3', 'card4', 'card5','card6',\n",
    "              'addr1','addr2','P_email','R_email','M1','M2','M3',\n",
    "              'M4','M5','M6','M7','M8','M9','DeviceType','DeviceInfo','dow','hour',\n",
    "              'Device_name','Device_version','screen_width','screen_height',\n",
    "               'P_email_suffix','R_email_suffix','id_30_OS','id_30_version',\n",
    "              'is_card_freq_Device','is_wide','is_long','is_zero','is_win8_vista',\n",
    "              'is_windows_otheros','is_card_freq_pdc','is_card_freq_addr1'] \n",
    "ids = [ 'id_%s'%(i) for i in range(12,39)]\n",
    "categorical = categorical + ids\n",
    "categorical = list(set(categorical).intersection(df_total.columns))"
   ]
  },
  {
   "cell_type": "code",
   "execution_count": 13,
   "metadata": {},
   "outputs": [],
   "source": [
    "params = {'num_leaves': 491,\n",
    "          'min_child_weight': 0.03454472573214212,\n",
    "          'feature_fraction': 0.3797454081646243,\n",
    "          'bagging_fraction': 0.4181193142567742,\n",
    "          'min_data_in_leaf': 106,\n",
    "          'objective': 'binary',\n",
    "          'max_depth': -1,\n",
    "          'learning_rate': 0.006883242363721497,\n",
    "          \"boosting_type\":\"gbdt\",#'goss'\n",
    "          \"bagging_seed\": 11,\n",
    "          \"metric\": 'auc',\n",
    "          \"verbosity\": -1,\n",
    "          'reg_alpha': 0.3899927210061127,\n",
    "          'reg_lambda': 0.6485237330340494,\n",
    "          'random_state': 47\n",
    "          #'num_threads':10\n",
    "          #'device' :'gpu',\n",
    "          #'is_unbalance':True\n",
    "          #'scale_pos_weight':9\n",
    "         }"
   ]
  },
  {
   "cell_type": "markdown",
   "metadata": {},
   "source": [
    "# Train Model"
   ]
  },
  {
   "cell_type": "code",
   "execution_count": 14,
   "metadata": {},
   "outputs": [],
   "source": [
    "predictions = np.zeros(len(features_test_new))\n",
    "ave_auc = 0\n",
    "splits = 5"
   ]
  },
  {
   "cell_type": "code",
   "execution_count": 15,
   "metadata": {},
   "outputs": [
    {
     "name": "stdout",
     "output_type": "stream",
     "text": [
      "Fold 0\n",
      "Generate Train Data\n",
      "(134638, 337) (134638,) 107710\n",
      "Training Begin\n"
     ]
    },
    {
     "name": "stderr",
     "output_type": "stream",
     "text": [
      "/home/jinpwa/anaconda3/lib/python3.6/site-packages/lightgbm/basic.py:1247: UserWarning: Using categorical_feature in Dataset.\n",
      "  warnings.warn('Using categorical_feature in Dataset.')\n"
     ]
    },
    {
     "name": "stdout",
     "output_type": "stream",
     "text": [
      "Training until validation scores don't improve for 500 rounds.\n",
      "[500]\ttraining's auc: 0.984612\tvalid_1's auc: 0.920182\n",
      "[1000]\ttraining's auc: 0.997267\tvalid_1's auc: 0.928801\n",
      "[1500]\ttraining's auc: 0.999605\tvalid_1's auc: 0.930311\n",
      "[2000]\ttraining's auc: 0.999955\tvalid_1's auc: 0.930785\n",
      "[2500]\ttraining's auc: 0.999996\tvalid_1's auc: 0.931092\n",
      "[3000]\ttraining's auc: 1\tvalid_1's auc: 0.931186\n",
      "Early stopping, best iteration is:\n",
      "[2997]\ttraining's auc: 1\tvalid_1's auc: 0.931196\n",
      "Training Finish,Predicting\n",
      "Fold 1\n",
      "Generate Train Data\n",
      "(134638, 337) (134638,) 107710\n",
      "Training Begin\n"
     ]
    },
    {
     "name": "stderr",
     "output_type": "stream",
     "text": [
      "/home/jinpwa/anaconda3/lib/python3.6/site-packages/lightgbm/basic.py:1247: UserWarning: Using categorical_feature in Dataset.\n",
      "  warnings.warn('Using categorical_feature in Dataset.')\n"
     ]
    },
    {
     "name": "stdout",
     "output_type": "stream",
     "text": [
      "Training until validation scores don't improve for 500 rounds.\n",
      "[500]\ttraining's auc: 0.984498\tvalid_1's auc: 0.920498\n",
      "[1000]\ttraining's auc: 0.997225\tvalid_1's auc: 0.929236\n",
      "[1500]\ttraining's auc: 0.999594\tvalid_1's auc: 0.93115\n",
      "[2000]\ttraining's auc: 0.999955\tvalid_1's auc: 0.93207\n",
      "[2500]\ttraining's auc: 0.999996\tvalid_1's auc: 0.932596\n",
      "[3000]\ttraining's auc: 1\tvalid_1's auc: 0.932884\n",
      "[3500]\ttraining's auc: 1\tvalid_1's auc: 0.933058\n",
      "[4000]\ttraining's auc: 1\tvalid_1's auc: 0.933081\n",
      "Early stopping, best iteration is:\n",
      "[3899]\ttraining's auc: 1\tvalid_1's auc: 0.933082\n",
      "Training Finish,Predicting\n",
      "Fold 2\n",
      "Generate Train Data\n",
      "(134638, 337) (134638,) 107710\n",
      "Training Begin\n"
     ]
    },
    {
     "name": "stderr",
     "output_type": "stream",
     "text": [
      "/home/jinpwa/anaconda3/lib/python3.6/site-packages/lightgbm/basic.py:1247: UserWarning: Using categorical_feature in Dataset.\n",
      "  warnings.warn('Using categorical_feature in Dataset.')\n"
     ]
    },
    {
     "name": "stdout",
     "output_type": "stream",
     "text": [
      "Training until validation scores don't improve for 500 rounds.\n",
      "[500]\ttraining's auc: 0.984866\tvalid_1's auc: 0.920191\n",
      "[1000]\ttraining's auc: 0.99731\tvalid_1's auc: 0.929044\n",
      "[1500]\ttraining's auc: 0.999619\tvalid_1's auc: 0.930482\n",
      "[2000]\ttraining's auc: 0.999962\tvalid_1's auc: 0.931003\n",
      "[2500]\ttraining's auc: 0.999997\tvalid_1's auc: 0.931219\n",
      "[3000]\ttraining's auc: 1\tvalid_1's auc: 0.93129\n",
      "Early stopping, best iteration is:\n",
      "[2660]\ttraining's auc: 0.999999\tvalid_1's auc: 0.93135\n",
      "Training Finish,Predicting\n",
      "Fold 3\n",
      "Generate Train Data\n",
      "(134638, 337) (134638,) 107710\n",
      "Training Begin\n"
     ]
    },
    {
     "name": "stderr",
     "output_type": "stream",
     "text": [
      "/home/jinpwa/anaconda3/lib/python3.6/site-packages/lightgbm/basic.py:1247: UserWarning: Using categorical_feature in Dataset.\n",
      "  warnings.warn('Using categorical_feature in Dataset.')\n"
     ]
    },
    {
     "name": "stdout",
     "output_type": "stream",
     "text": [
      "Training until validation scores don't improve for 500 rounds.\n",
      "[500]\ttraining's auc: 0.984846\tvalid_1's auc: 0.920569\n",
      "[1000]\ttraining's auc: 0.997283\tvalid_1's auc: 0.928647\n",
      "[1500]\ttraining's auc: 0.999621\tvalid_1's auc: 0.93004\n",
      "[2000]\ttraining's auc: 0.999964\tvalid_1's auc: 0.930644\n",
      "[2500]\ttraining's auc: 0.999998\tvalid_1's auc: 0.930765\n",
      "[3000]\ttraining's auc: 1\tvalid_1's auc: 0.930859\n",
      "[3500]\ttraining's auc: 1\tvalid_1's auc: 0.930882\n",
      "Early stopping, best iteration is:\n",
      "[3386]\ttraining's auc: 1\tvalid_1's auc: 0.930916\n",
      "Training Finish,Predicting\n",
      "Fold 4\n",
      "Generate Train Data\n",
      "(134638, 337) (134638,) 107710\n",
      "Training Begin\n"
     ]
    },
    {
     "name": "stderr",
     "output_type": "stream",
     "text": [
      "/home/jinpwa/anaconda3/lib/python3.6/site-packages/lightgbm/basic.py:1247: UserWarning: Using categorical_feature in Dataset.\n",
      "  warnings.warn('Using categorical_feature in Dataset.')\n"
     ]
    },
    {
     "name": "stdout",
     "output_type": "stream",
     "text": [
      "Training until validation scores don't improve for 500 rounds.\n",
      "[500]\ttraining's auc: 0.984662\tvalid_1's auc: 0.919662\n",
      "[1000]\ttraining's auc: 0.997325\tvalid_1's auc: 0.929332\n",
      "[1500]\ttraining's auc: 0.999629\tvalid_1's auc: 0.930931\n",
      "[2000]\ttraining's auc: 0.999962\tvalid_1's auc: 0.931525\n",
      "[2500]\ttraining's auc: 0.999998\tvalid_1's auc: 0.931776\n",
      "[3000]\ttraining's auc: 1\tvalid_1's auc: 0.931984\n",
      "[3500]\ttraining's auc: 1\tvalid_1's auc: 0.931971\n",
      "Early stopping, best iteration is:\n",
      "[3305]\ttraining's auc: 1\tvalid_1's auc: 0.932029\n",
      "Training Finish,Predicting\n"
     ]
    }
   ],
   "source": [
    "for k in range(0,splits):\n",
    "    print(\"Fold {}\".format(k))\n",
    "    # 生成采样数据集\n",
    "    print('Generate Train Data')\n",
    "    train_neg_sample = train_neg_sfd.iloc[size*k:size*(k+1)]\n",
    "    df_train_sample = pd.concat([train_pos,train_neg_sample]).sort_index()\n",
    "    # 定义label和feature\n",
    "    labels_train = df_train_sample['isFraud']\n",
    "    features_train = df_train_sample.drop(columns = ['isFraud', 'TransactionID'])\n",
    "    valid_num = math.floor(features_train.shape[0]*0.8)\n",
    "    print(features_train.shape,labels_train.shape,valid_num)\n",
    "    \n",
    "    print('Training Begin')\n",
    "    # 训练数据\n",
    "    train_set = lgb.Dataset(features_train.iloc[0:valid_num,:], label=labels_train.values[0:valid_num],categorical_feature=categorical)#\n",
    "    valid_set = lgb.Dataset(features_train.iloc[valid_num:,:], label=labels_train.values[valid_num:],categorical_feature=categorical)#\n",
    "    valid_results = {}\n",
    "    model = lgb.train(params,train_set,num_boost_round = 10000, \n",
    "                  valid_sets = [train_set, valid_set],\n",
    "                  verbose_eval=500,\n",
    "                  early_stopping_rounds = 500,\n",
    "                  evals_result=valid_results)\n",
    "    print('Training Finish,Predicting')\n",
    "    pred = model.predict(features_train.iloc[valid_num:,:])\n",
    "    auc_score = roc_auc_score(labels_train.values[valid_num:], pred)\n",
    "    ave_auc += auc_score / splits\n",
    "    predictions += model.predict(features_test_new) / splits"
   ]
  },
  {
   "cell_type": "code",
   "execution_count": 16,
   "metadata": {},
   "outputs": [
    {
     "data": {
      "text/plain": [
       "0.9317145261950159"
      ]
     },
     "execution_count": 16,
     "metadata": {},
     "output_type": "execute_result"
    }
   ],
   "source": [
    "ave_auc"
   ]
  },
  {
   "cell_type": "code",
   "execution_count": 78,
   "metadata": {},
   "outputs": [
    {
     "data": {
      "text/plain": [
       "0.9314257983202661"
      ]
     },
     "execution_count": 78,
     "metadata": {},
     "output_type": "execute_result"
    }
   ],
   "source": [
    "# feat438\n",
    "ave_auc"
   ]
  },
  {
   "cell_type": "code",
   "execution_count": 64,
   "metadata": {},
   "outputs": [
    {
     "data": {
      "text/plain": [
       "0.9298575946302156"
      ]
     },
     "execution_count": 64,
     "metadata": {},
     "output_type": "execute_result"
    }
   ],
   "source": [
    "# feat439 drop transactionDT\n",
    "ave_auc"
   ]
  },
  {
   "cell_type": "code",
   "execution_count": 51,
   "metadata": {},
   "outputs": [
    {
     "data": {
      "text/plain": [
       "0.9315174059157163"
      ]
     },
     "execution_count": 51,
     "metadata": {},
     "output_type": "execute_result"
    }
   ],
   "source": [
    "# feat439 baseline\n",
    "ave_auc"
   ]
  },
  {
   "cell_type": "code",
   "execution_count": 58,
   "metadata": {},
   "outputs": [],
   "source": [
    "id_test = features_test['TransactionID']\n",
    "submission = pd.DataFrame({'TransactionID': id_test, \n",
    "                            'isFraud': predictions})\n",
    "submission.to_csv('./data/sub_feat%s_easyensemble.csv'%(feat_num), index = False)"
   ]
  }
 ],
 "metadata": {
  "kernelspec": {
   "display_name": "Python 3",
   "language": "python",
   "name": "python3"
  },
  "language_info": {
   "codemirror_mode": {
    "name": "ipython",
    "version": 3
   },
   "file_extension": ".py",
   "mimetype": "text/x-python",
   "name": "python",
   "nbconvert_exporter": "python",
   "pygments_lexer": "ipython3",
   "version": "3.6.5"
  }
 },
 "nbformat": 4,
 "nbformat_minor": 2
}
