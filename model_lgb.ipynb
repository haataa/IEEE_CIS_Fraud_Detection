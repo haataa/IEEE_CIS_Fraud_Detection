{
 "cells": [
  {
   "cell_type": "code",
   "execution_count": 1,
   "metadata": {},
   "outputs": [],
   "source": [
    "# import packages\n",
    "import numpy as np\n",
    "import pandas as pd\n",
    "import matplotlib.pyplot as plt\n",
    "import featuretools as ft\n",
    "import lightgbm as lgb\n",
    "from lightgbm import plot_tree\n",
    "from graphviz import Digraph\n",
    "import seaborn as sns\n",
    "from sklearn.model_selection import GridSearchCV\n",
    "from sklearn.model_selection import KFold\n",
    "from sklearn.metrics import roc_auc_score\n",
    "import time\n",
    "\n",
    "%matplotlib inline\n",
    "RSEED = 50"
   ]
  },
  {
   "cell_type": "markdown",
   "metadata": {},
   "source": [
    "# Load Original Features"
   ]
  },
  {
   "cell_type": "code",
   "execution_count": 2,
   "metadata": {},
   "outputs": [],
   "source": [
    "feat_num = 476"
   ]
  },
  {
   "cell_type": "code",
   "execution_count": 3,
   "metadata": {},
   "outputs": [],
   "source": [
    "df_total_raw = pd.read_csv('./data/features%s.csv'%(feat_num))"
   ]
  },
  {
   "cell_type": "code",
   "execution_count": 4,
   "metadata": {},
   "outputs": [],
   "source": [
    "#to_drop = ['card1_count','addr2','V117','V118','V120','V122','id_25','id_21','id_26',\n",
    "#           'V305','id_17','V27','V28','V88','V89','id_14','V107','V240','V241','V41','id_24','V68']\n",
    "to_drop = ['card1']"
   ]
  },
  {
   "cell_type": "code",
   "execution_count": 5,
   "metadata": {},
   "outputs": [],
   "source": [
    "#df_total = df_total_raw.drop(to_drop,axis=1)\n",
    "df_total = df_total_raw"
   ]
  },
  {
   "cell_type": "code",
   "execution_count": 6,
   "metadata": {},
   "outputs": [],
   "source": [
    "features_train = df_total[df_total['isFraud'].notnull()]\n",
    "features_test = df_total[df_total['isFraud'].isnull()]"
   ]
  },
  {
   "cell_type": "code",
   "execution_count": 7,
   "metadata": {},
   "outputs": [],
   "source": [
    "labels_train = features_train['isFraud']\n",
    "features_train = features_train.drop(columns = ['isFraud', 'TransactionID'])"
   ]
  },
  {
   "cell_type": "code",
   "execution_count": 8,
   "metadata": {},
   "outputs": [
    {
     "data": {
      "text/plain": [
       "(590540, 474)"
      ]
     },
     "execution_count": 8,
     "metadata": {},
     "output_type": "execute_result"
    }
   ],
   "source": [
    "features_train.shape"
   ]
  },
  {
   "cell_type": "markdown",
   "metadata": {},
   "source": [
    "# Prepare model"
   ]
  },
  {
   "cell_type": "code",
   "execution_count": 9,
   "metadata": {},
   "outputs": [],
   "source": [
    "categorical = ['ProductCD', 'card2', 'card3', 'card4', 'card5','card6',\n",
    "              'addr1','addr2','P_email','R_email','M1','M2','M3',\n",
    "              'M4','M5','M6','M7','M8','M9','DeviceType','DeviceInfo','dow','hour',\n",
    "              'Device_name','Device_version','screen_width','screen_height',\n",
    "               'P_email_suffix','R_email_suffix','id_30_OS','id_30_version',\n",
    "              'is_card_freq_Device','is_wide','is_long','is_zero','is_win8_vista',\n",
    "              'is_windows_otheros','is_card_freq_pdc','is_card_freq_addr1'] \n",
    "ids = [ 'id_%s'%(i) for i in range(12,39)]\n",
    "categorical = categorical + ids"
   ]
  },
  {
   "cell_type": "code",
   "execution_count": 10,
   "metadata": {},
   "outputs": [],
   "source": [
    "categorical = list(set(categorical).intersection(df_total.columns))"
   ]
  },
  {
   "cell_type": "code",
   "execution_count": 11,
   "metadata": {},
   "outputs": [],
   "source": [
    "features_test_new = features_test.drop(columns = ['isFraud', 'TransactionID'])"
   ]
  },
  {
   "cell_type": "code",
   "execution_count": 12,
   "metadata": {},
   "outputs": [],
   "source": [
    "params = {'num_leaves': 491,\n",
    "          'min_child_weight': 0.03454472573214212,\n",
    "          'feature_fraction': 0.3797454081646243,\n",
    "          'bagging_fraction': 0.4181193142567742,\n",
    "          'min_data_in_leaf': 106,\n",
    "          'objective': 'binary',\n",
    "          'max_depth': -1,\n",
    "          'learning_rate': 0.006883242363721497,\n",
    "          \"boosting_type\":\"gbdt\" ,#'goss'\n",
    "          \"bagging_seed\": 11,\n",
    "          \"metric\": 'auc',\n",
    "          \"verbosity\": -1,\n",
    "          'reg_alpha': 0.3899927210061127,\n",
    "          'reg_lambda': 0.6485237330340494,\n",
    "          'random_state': 47\n",
    "          #'device' :'gpu'\n",
    "          #'is_unbalance':True\n",
    "          #'scale_pos_weight':9\n",
    "         }"
   ]
  },
  {
   "cell_type": "markdown",
   "metadata": {},
   "source": [
    "# Feature Selection"
   ]
  },
  {
   "cell_type": "code",
   "execution_count": 13,
   "metadata": {},
   "outputs": [
    {
     "data": {
      "text/html": [
       "<div>\n",
       "<style scoped>\n",
       "    .dataframe tbody tr th:only-of-type {\n",
       "        vertical-align: middle;\n",
       "    }\n",
       "\n",
       "    .dataframe tbody tr th {\n",
       "        vertical-align: top;\n",
       "    }\n",
       "\n",
       "    .dataframe thead th {\n",
       "        text-align: right;\n",
       "    }\n",
       "</style>\n",
       "<table border=\"1\" class=\"dataframe\">\n",
       "  <thead>\n",
       "    <tr style=\"text-align: right;\">\n",
       "      <th></th>\n",
       "      <th>TransactionDT</th>\n",
       "      <th>TransactionAmt</th>\n",
       "      <th>ProductCD</th>\n",
       "      <th>card1</th>\n",
       "      <th>card2</th>\n",
       "      <th>card3</th>\n",
       "      <th>card4</th>\n",
       "      <th>card5</th>\n",
       "      <th>card6</th>\n",
       "      <th>addr1</th>\n",
       "      <th>...</th>\n",
       "      <th>addr1_D15_std</th>\n",
       "      <th>TransactionAmt_decimal</th>\n",
       "      <th>Device_name</th>\n",
       "      <th>Device_version</th>\n",
       "      <th>is_card_freq_Device</th>\n",
       "      <th>screen_width</th>\n",
       "      <th>screen_height</th>\n",
       "      <th>is_wide</th>\n",
       "      <th>is_long</th>\n",
       "      <th>is_zero</th>\n",
       "    </tr>\n",
       "  </thead>\n",
       "  <tbody>\n",
       "    <tr>\n",
       "      <th>0</th>\n",
       "      <td>86400</td>\n",
       "      <td>68.5</td>\n",
       "      <td>0</td>\n",
       "      <td>13926</td>\n",
       "      <td>NaN</td>\n",
       "      <td>150.0</td>\n",
       "      <td>0</td>\n",
       "      <td>142.0</td>\n",
       "      <td>0</td>\n",
       "      <td>315.0</td>\n",
       "      <td>...</td>\n",
       "      <td>0.000000</td>\n",
       "      <td>500</td>\n",
       "      <td>-1</td>\n",
       "      <td>-1</td>\n",
       "      <td>False</td>\n",
       "      <td>-1</td>\n",
       "      <td>-1</td>\n",
       "      <td>False</td>\n",
       "      <td>False</td>\n",
       "      <td>False</td>\n",
       "    </tr>\n",
       "    <tr>\n",
       "      <th>1</th>\n",
       "      <td>86401</td>\n",
       "      <td>29.0</td>\n",
       "      <td>0</td>\n",
       "      <td>2755</td>\n",
       "      <td>404.0</td>\n",
       "      <td>150.0</td>\n",
       "      <td>1</td>\n",
       "      <td>102.0</td>\n",
       "      <td>0</td>\n",
       "      <td>325.0</td>\n",
       "      <td>...</td>\n",
       "      <td>0.000000</td>\n",
       "      <td>0</td>\n",
       "      <td>-1</td>\n",
       "      <td>-1</td>\n",
       "      <td>False</td>\n",
       "      <td>-1</td>\n",
       "      <td>-1</td>\n",
       "      <td>False</td>\n",
       "      <td>False</td>\n",
       "      <td>False</td>\n",
       "    </tr>\n",
       "    <tr>\n",
       "      <th>2</th>\n",
       "      <td>86469</td>\n",
       "      <td>59.0</td>\n",
       "      <td>0</td>\n",
       "      <td>4663</td>\n",
       "      <td>490.0</td>\n",
       "      <td>150.0</td>\n",
       "      <td>2</td>\n",
       "      <td>166.0</td>\n",
       "      <td>1</td>\n",
       "      <td>330.0</td>\n",
       "      <td>...</td>\n",
       "      <td>1.251501</td>\n",
       "      <td>0</td>\n",
       "      <td>-1</td>\n",
       "      <td>-1</td>\n",
       "      <td>False</td>\n",
       "      <td>-1</td>\n",
       "      <td>-1</td>\n",
       "      <td>False</td>\n",
       "      <td>False</td>\n",
       "      <td>False</td>\n",
       "    </tr>\n",
       "    <tr>\n",
       "      <th>3</th>\n",
       "      <td>86499</td>\n",
       "      <td>50.0</td>\n",
       "      <td>0</td>\n",
       "      <td>18132</td>\n",
       "      <td>567.0</td>\n",
       "      <td>150.0</td>\n",
       "      <td>1</td>\n",
       "      <td>117.0</td>\n",
       "      <td>1</td>\n",
       "      <td>476.0</td>\n",
       "      <td>...</td>\n",
       "      <td>0.474049</td>\n",
       "      <td>0</td>\n",
       "      <td>-1</td>\n",
       "      <td>-1</td>\n",
       "      <td>False</td>\n",
       "      <td>-1</td>\n",
       "      <td>-1</td>\n",
       "      <td>False</td>\n",
       "      <td>False</td>\n",
       "      <td>False</td>\n",
       "    </tr>\n",
       "    <tr>\n",
       "      <th>4</th>\n",
       "      <td>86506</td>\n",
       "      <td>50.0</td>\n",
       "      <td>1</td>\n",
       "      <td>4497</td>\n",
       "      <td>514.0</td>\n",
       "      <td>150.0</td>\n",
       "      <td>1</td>\n",
       "      <td>102.0</td>\n",
       "      <td>0</td>\n",
       "      <td>420.0</td>\n",
       "      <td>...</td>\n",
       "      <td>NaN</td>\n",
       "      <td>0</td>\n",
       "      <td>0</td>\n",
       "      <td>0</td>\n",
       "      <td>False</td>\n",
       "      <td>0</td>\n",
       "      <td>0</td>\n",
       "      <td>True</td>\n",
       "      <td>False</td>\n",
       "      <td>False</td>\n",
       "    </tr>\n",
       "  </tbody>\n",
       "</table>\n",
       "<p>5 rows × 474 columns</p>\n",
       "</div>"
      ],
      "text/plain": [
       "   TransactionDT  TransactionAmt  ProductCD  card1  card2  card3  card4  \\\n",
       "0          86400            68.5          0  13926    NaN  150.0      0   \n",
       "1          86401            29.0          0   2755  404.0  150.0      1   \n",
       "2          86469            59.0          0   4663  490.0  150.0      2   \n",
       "3          86499            50.0          0  18132  567.0  150.0      1   \n",
       "4          86506            50.0          1   4497  514.0  150.0      1   \n",
       "\n",
       "   card5  card6  addr1   ...     addr1_D15_std  TransactionAmt_decimal  \\\n",
       "0  142.0      0  315.0   ...          0.000000                     500   \n",
       "1  102.0      0  325.0   ...          0.000000                       0   \n",
       "2  166.0      1  330.0   ...          1.251501                       0   \n",
       "3  117.0      1  476.0   ...          0.474049                       0   \n",
       "4  102.0      0  420.0   ...               NaN                       0   \n",
       "\n",
       "   Device_name  Device_version  is_card_freq_Device  screen_width  \\\n",
       "0           -1              -1                False            -1   \n",
       "1           -1              -1                False            -1   \n",
       "2           -1              -1                False            -1   \n",
       "3           -1              -1                False            -1   \n",
       "4            0               0                False             0   \n",
       "\n",
       "   screen_height  is_wide  is_long  is_zero  \n",
       "0             -1    False    False    False  \n",
       "1             -1    False    False    False  \n",
       "2             -1    False    False    False  \n",
       "3             -1    False    False    False  \n",
       "4              0     True    False    False  \n",
       "\n",
       "[5 rows x 474 columns]"
      ]
     },
     "execution_count": 13,
     "metadata": {},
     "output_type": "execute_result"
    }
   ],
   "source": [
    "features_train.head()"
   ]
  },
  {
   "cell_type": "code",
   "execution_count": 14,
   "metadata": {},
   "outputs": [
    {
     "name": "stderr",
     "output_type": "stream",
     "text": [
      "/home/jinpwa/anaconda3/lib/python3.6/site-packages/lightgbm/basic.py:1247: UserWarning: Using categorical_feature in Dataset.\n",
      "  warnings.warn('Using categorical_feature in Dataset.')\n"
     ]
    },
    {
     "name": "stdout",
     "output_type": "stream",
     "text": [
      "Training until validation scores don't improve for 500 rounds.\n",
      "[500]\ttraining's auc: 0.988396\tvalid_1's auc: 0.921296\n",
      "[1000]\ttraining's auc: 0.998621\tvalid_1's auc: 0.928628\n",
      "[1500]\ttraining's auc: 0.999886\tvalid_1's auc: 0.929131\n",
      "[2000]\ttraining's auc: 0.999995\tvalid_1's auc: 0.929639\n",
      "[2500]\ttraining's auc: 1\tvalid_1's auc: 0.929781\n",
      "[3000]\ttraining's auc: 1\tvalid_1's auc: 0.929778\n",
      "Early stopping, best iteration is:\n",
      "[2625]\ttraining's auc: 1\tvalid_1's auc: 0.929916\n",
      "986.9441103935242\n"
     ]
    }
   ],
   "source": [
    "start = time.time()\n",
    "train_set = lgb.Dataset(features_train.iloc[0:472432,:], label=labels_train.values[0:472432],categorical_feature=categorical)#\n",
    "valid_set = lgb.Dataset(features_train.iloc[472432:,:], label=labels_train.values[472432:],categorical_feature=categorical)#\n",
    "valid_results = {}\n",
    "model = lgb.train(params,train_set,num_boost_round = 10000, \n",
    "                  valid_sets = [train_set, valid_set],\n",
    "                  verbose_eval=500,\n",
    "                  early_stopping_rounds = 500,\n",
    "                  evals_result=valid_results)\n",
    "print(time.time()-start)"
   ]
  },
  {
   "cell_type": "code",
   "execution_count": 15,
   "metadata": {},
   "outputs": [
    {
     "data": {
      "text/plain": [
       "0.9299156785252384"
      ]
     },
     "execution_count": 15,
     "metadata": {},
     "output_type": "execute_result"
    }
   ],
   "source": [
    "max(valid_results['valid_1']['auc'])"
   ]
  },
  {
   "cell_type": "code",
   "execution_count": 16,
   "metadata": {},
   "outputs": [
    {
     "data": {
      "text/plain": [
       "<matplotlib.axes._subplots.AxesSubplot at 0x7f137f7c8080>"
      ]
     },
     "execution_count": 16,
     "metadata": {},
     "output_type": "execute_result"
    },
    {
     "data": {
      "image/png": "[encoded data removed]",
      "text/plain": [
       "<Figure size 864x720 with 1 Axes>"
      ]
     },
     "metadata": {},
     "output_type": "display_data"
    }
   ],
   "source": [
    "lgb.plot_importance(model, max_num_features=50,figsize=(12,10))"
   ]
  },
  {
   "cell_type": "code",
   "execution_count": 30,
   "metadata": {},
   "outputs": [
    {
     "data": {
      "text/plain": [
       "<matplotlib.axes._subplots.AxesSubplot at 0x7f1597128b38>"
      ]
     },
     "execution_count": 30,
     "metadata": {},
     "output_type": "execute_result"
    },
    {
     "data": {
      "image/png": "[encoded data removed]",
      "text/plain": [
       "<Figure size 432x288 with 1 Axes>"
      ]
     },
     "metadata": {},
     "output_type": "display_data"
    }
   ],
   "source": [
    "#lgb.plot_split_value_histogram(model, feature='dist1', bins='auto')\n",
    "lgb.plot_metric(valid_results, metric='auc')"
   ]
  },
  {
   "cell_type": "code",
   "execution_count": null,
   "metadata": {},
   "outputs": [],
   "source": [
    "lgb.plot_tree(model,tree_index=0, figsize=(107,105))"
   ]
  },
  {
   "cell_type": "code",
   "execution_count": 29,
   "metadata": {},
   "outputs": [
    {
     "data": {
      "text/plain": [
       "'Tree0.gv.pdf'"
      ]
     },
     "execution_count": 29,
     "metadata": {},
     "output_type": "execute_result"
    }
   ],
   "source": [
    "graph = lgb.create_tree_digraph(model, tree_index=0, name='Tree0')\n",
    "graph.render(view=True)"
   ]
  },
  {
   "cell_type": "markdown",
   "metadata": {},
   "source": [
    "# Train Model"
   ]
  },
  {
   "cell_type": "code",
   "execution_count": 58,
   "metadata": {},
   "outputs": [],
   "source": [
    "splits = 5\n",
    "folds = KFold(n_splits = splits,random_state=RSEED)\n",
    "predictions = np.zeros(len(features_test_new))\n",
    "ave_auc = 0"
   ]
  },
  {
   "cell_type": "code",
   "execution_count": 61,
   "metadata": {},
   "outputs": [
    {
     "name": "stdout",
     "output_type": "stream",
     "text": [
      "Fold 0\n"
     ]
    },
    {
     "name": "stderr",
     "output_type": "stream",
     "text": [
      "/home/jinpwa/anaconda3/lib/python3.6/site-packages/lightgbm/basic.py:1247: UserWarning: Using categorical_feature in Dataset.\n",
      "  warnings.warn('Using categorical_feature in Dataset.')\n"
     ]
    },
    {
     "name": "stdout",
     "output_type": "stream",
     "text": [
      "Training until validation scores don't improve for 500 rounds.\n",
      "[500]\ttraining's auc: 0.987298\tvalid_1's auc: 0.905503\n",
      "[1000]\ttraining's auc: 0.998262\tvalid_1's auc: 0.916847\n",
      "[1500]\ttraining's auc: 0.99983\tvalid_1's auc: 0.91948\n",
      "[2000]\ttraining's auc: 0.999992\tvalid_1's auc: 0.920937\n",
      "[2500]\ttraining's auc: 1\tvalid_1's auc: 0.921681\n",
      "[3000]\ttraining's auc: 1\tvalid_1's auc: 0.922074\n",
      "[3500]\ttraining's auc: 1\tvalid_1's auc: 0.922031\n",
      "Early stopping, best iteration is:\n",
      "[3088]\ttraining's auc: 1\tvalid_1's auc: 0.922166\n",
      "  auc =  0.9221663838867545\n",
      "Fold 1\n"
     ]
    },
    {
     "name": "stderr",
     "output_type": "stream",
     "text": [
      "/home/jinpwa/anaconda3/lib/python3.6/site-packages/lightgbm/basic.py:1247: UserWarning: Using categorical_feature in Dataset.\n",
      "  warnings.warn('Using categorical_feature in Dataset.')\n"
     ]
    },
    {
     "name": "stdout",
     "output_type": "stream",
     "text": [
      "Training until validation scores don't improve for 500 rounds.\n",
      "[500]\ttraining's auc: 0.988118\tvalid_1's auc: 0.929537\n",
      "[1000]\ttraining's auc: 0.998572\tvalid_1's auc: 0.936941\n",
      "[1500]\ttraining's auc: 0.999879\tvalid_1's auc: 0.93777\n",
      "[2000]\ttraining's auc: 0.999995\tvalid_1's auc: 0.937522\n",
      "Early stopping, best iteration is:\n",
      "[1515]\ttraining's auc: 0.99989\tvalid_1's auc: 0.937821\n",
      "  auc =  0.9378208546688446\n",
      "Fold 2\n"
     ]
    },
    {
     "name": "stderr",
     "output_type": "stream",
     "text": [
      "/home/jinpwa/anaconda3/lib/python3.6/site-packages/lightgbm/basic.py:1247: UserWarning: Using categorical_feature in Dataset.\n",
      "  warnings.warn('Using categorical_feature in Dataset.')\n"
     ]
    },
    {
     "name": "stdout",
     "output_type": "stream",
     "text": [
      "Training until validation scores don't improve for 500 rounds.\n",
      "[500]\ttraining's auc: 0.988913\tvalid_1's auc: 0.927569\n",
      "[1000]\ttraining's auc: 0.99862\tvalid_1's auc: 0.932705\n",
      "[1500]\ttraining's auc: 0.999888\tvalid_1's auc: 0.932683\n",
      "Early stopping, best iteration is:\n",
      "[1196]\ttraining's auc: 0.999446\tvalid_1's auc: 0.933002\n",
      "  auc =  0.933002178701498\n",
      "Fold 3\n"
     ]
    },
    {
     "name": "stderr",
     "output_type": "stream",
     "text": [
      "/home/jinpwa/anaconda3/lib/python3.6/site-packages/lightgbm/basic.py:1247: UserWarning: Using categorical_feature in Dataset.\n",
      "  warnings.warn('Using categorical_feature in Dataset.')\n"
     ]
    },
    {
     "name": "stdout",
     "output_type": "stream",
     "text": [
      "Training until validation scores don't improve for 500 rounds.\n",
      "[500]\ttraining's auc: 0.987942\tvalid_1's auc: 0.944379\n",
      "[1000]\ttraining's auc: 0.998576\tvalid_1's auc: 0.9519\n",
      "[1500]\ttraining's auc: 0.999885\tvalid_1's auc: 0.952777\n",
      "[2000]\ttraining's auc: 0.999995\tvalid_1's auc: 0.952864\n",
      "Early stopping, best iteration is:\n",
      "[1704]\ttraining's auc: 0.999966\tvalid_1's auc: 0.952866\n",
      "  auc =  0.9528660557852936\n",
      "Fold 4\n"
     ]
    },
    {
     "name": "stderr",
     "output_type": "stream",
     "text": [
      "/home/jinpwa/anaconda3/lib/python3.6/site-packages/lightgbm/basic.py:1247: UserWarning: Using categorical_feature in Dataset.\n",
      "  warnings.warn('Using categorical_feature in Dataset.')\n"
     ]
    },
    {
     "name": "stdout",
     "output_type": "stream",
     "text": [
      "Training until validation scores don't improve for 500 rounds.\n",
      "[500]\ttraining's auc: 0.988396\tvalid_1's auc: 0.921296\n",
      "[1000]\ttraining's auc: 0.998621\tvalid_1's auc: 0.928628\n",
      "[1500]\ttraining's auc: 0.999886\tvalid_1's auc: 0.929131\n",
      "[2000]\ttraining's auc: 0.999995\tvalid_1's auc: 0.929639\n",
      "[2500]\ttraining's auc: 1\tvalid_1's auc: 0.929781\n",
      "[3000]\ttraining's auc: 1\tvalid_1's auc: 0.929778\n",
      "Early stopping, best iteration is:\n",
      "[2625]\ttraining's auc: 1\tvalid_1's auc: 0.929916\n",
      "  auc =  0.9299156785252384\n"
     ]
    }
   ],
   "source": [
    "for fold_num, (trn_idx, val_idx) in enumerate(folds.split(features_train.values, \n",
    "                                                          labels_train.values)):\n",
    "    print(\"Fold {}\".format(fold_num))\n",
    "    train_df, y_train_df = features_train.iloc[trn_idx], labels_train.iloc[trn_idx]\n",
    "    valid_df, y_valid_df = features_train.iloc[val_idx], labels_train.iloc[val_idx]\n",
    "    \n",
    "    trn_data = lgb.Dataset(train_df, label=y_train_df,categorical_feature=categorical)\n",
    "    val_data = lgb.Dataset(valid_df, label=y_valid_df,categorical_feature=categorical)\n",
    "    \n",
    "    valid_results = {}\n",
    "    clf = lgb.train(params,\n",
    "                    trn_data,\n",
    "                    10000,\n",
    "                    valid_sets = [trn_data, val_data],\n",
    "                    verbose_eval=500,\n",
    "                    early_stopping_rounds=500,\n",
    "                   evals_result=valid_results)\n",
    "    \n",
    "    ave_auc += max(valid_results['valid_1']['auc']) / splits\n",
    "    pred = clf.predict(valid_df)\n",
    "    print( \"  auc = \", roc_auc_score(y_valid_df, pred) )\n",
    "    predictions += clf.predict(features_test_new) / splits"
   ]
  },
  {
   "cell_type": "code",
   "execution_count": 63,
   "metadata": {},
   "outputs": [
    {
     "data": {
      "text/plain": [
       "0.9351542306270515"
      ]
     },
     "execution_count": 63,
     "metadata": {},
     "output_type": "execute_result"
    }
   ],
   "source": [
    "ave_auc"
   ]
  },
  {
   "cell_type": "code",
   "execution_count": 32,
   "metadata": {},
   "outputs": [
    {
     "data": {
      "text/plain": [
       "0.9354672457640398"
      ]
     },
     "execution_count": 32,
     "metadata": {},
     "output_type": "execute_result"
    }
   ],
   "source": [
    "ave_auc"
   ]
  },
  {
   "cell_type": "code",
   "execution_count": null,
   "metadata": {},
   "outputs": [],
   "source": [
    "###### id_test = features_test['TransactionID']\n",
    "submission = pd.DataFrame({'TransactionID': id_test, \n",
    "                            'isFraud': predictions})\n",
    "submission.to_csv('./data/sub_feat%s_modelselect.csv'%(feat_num), index = False)"
   ]
  }
 ],
 "metadata": {
  "kernelspec": {
   "display_name": "Python 3",
   "language": "python",
   "name": "python3"
  },
  "language_info": {
   "codemirror_mode": {
    "name": "ipython",
    "version": 3
   },
   "file_extension": ".py",
   "mimetype": "text/x-python",
   "name": "python",
   "nbconvert_exporter": "python",
   "pygments_lexer": "ipython3",
   "version": "3.6.5"
  }
 },
 "nbformat": 4,
 "nbformat_minor": 2
}
