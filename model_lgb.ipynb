{
 "cells": [
  {
   "cell_type": "code",
   "execution_count": 26,
   "metadata": {},
   "outputs": [],
   "source": [
    "# import packages\n",
    "import numpy as np\n",
    "import pandas as pd\n",
    "import matplotlib.pyplot as plt\n",
    "import featuretools as ft\n",
    "import lightgbm as lgb\n",
    "from lightgbm import plot_tree\n",
    "from graphviz import Digraph\n",
    "import seaborn as sns\n",
    "from sklearn.model_selection import GridSearchCV\n",
    "from sklearn.model_selection import KFold,GroupKFold\n",
    "from sklearn.metrics import roc_auc_score\n",
    "import time\n",
    "import pickle\n",
    "\n",
    "%matplotlib inline"
   ]
  },
  {
   "cell_type": "markdown",
   "metadata": {},
   "source": [
    "# Load Original Features"
   ]
  },
  {
   "cell_type": "code",
   "execution_count": 2,
   "metadata": {},
   "outputs": [],
   "source": [
    "feat_num = 440"
   ]
  },
  {
   "cell_type": "code",
   "execution_count": 3,
   "metadata": {},
   "outputs": [],
   "source": [
    "#df_total_raw = pd.read_csv('./data/features%s.csv'%(feat_num))\n",
    "with open('./data/features%s.pickle'%(feat_num), 'rb') as handle:\n",
    "    df_total_raw = pickle.load(handle)"
   ]
  },
  {
   "cell_type": "code",
   "execution_count": 4,
   "metadata": {},
   "outputs": [],
   "source": [
    "#to_drop = ['TransactionDT']\n",
    "#to_drop = ['V'+str(i) for i in range(1,340)]\n",
    "with open('./data/feat%s_rm_pm_importance100.pickle'%(437), 'rb') as handle:\n",
    "    to_drop = pickle.load(handle)"
   ]
  },
  {
   "cell_type": "code",
   "execution_count": 5,
   "metadata": {},
   "outputs": [],
   "source": [
    "df_total = df_total_raw.drop(list(to_drop),axis=1)\n",
    "#df_total = df_total_raw"
   ]
  },
  {
   "cell_type": "code",
   "execution_count": 6,
   "metadata": {},
   "outputs": [],
   "source": [
    "features_train = df_total[df_total['isFraud'].notnull()]\n",
    "features_test = df_total[df_total['isFraud'].isnull()]"
   ]
  },
  {
   "cell_type": "code",
   "execution_count": 7,
   "metadata": {},
   "outputs": [],
   "source": [
    "labels_train = features_train['isFraud']\n",
    "features_train = features_train.drop(columns = ['isFraud', 'TransactionID'])"
   ]
  },
  {
   "cell_type": "code",
   "execution_count": 8,
   "metadata": {},
   "outputs": [
    {
     "data": {
      "text/plain": [
       "(590540, 338)"
      ]
     },
     "execution_count": 8,
     "metadata": {},
     "output_type": "execute_result"
    }
   ],
   "source": [
    "features_train.shape"
   ]
  },
  {
   "cell_type": "markdown",
   "metadata": {},
   "source": [
    "# Prepare model"
   ]
  },
  {
   "cell_type": "code",
   "execution_count": 9,
   "metadata": {},
   "outputs": [],
   "source": [
    "categorical = ['ProductCD', 'card2', 'card3', 'card4', 'card5','card6',\n",
    "              'addr1','addr2','P_email','R_email','M1','M2','M3',\n",
    "              'M4','M5','M6','M7','M8','M9','DeviceType','DeviceInfo','dow','hour',\n",
    "              'Device_name','Device_version','screen_width','screen_height',\n",
    "               'P_email_suffix','R_email_suffix','id_30_OS','id_30_version',\n",
    "              'is_card_freq_Device','is_wide','is_long','is_zero','is_win8_vista',\n",
    "              'is_windows_otheros','is_card_freq_pdc','is_card_freq_addr1'] \n",
    "ids = [ 'id_%s'%(i) for i in range(12,39)]\n",
    "categorical = categorical + ids"
   ]
  },
  {
   "cell_type": "code",
   "execution_count": 10,
   "metadata": {},
   "outputs": [],
   "source": [
    "categorical = list(set(categorical).intersection(df_total.columns))"
   ]
  },
  {
   "cell_type": "code",
   "execution_count": 11,
   "metadata": {},
   "outputs": [],
   "source": [
    "features_test_new = features_test.drop(columns = ['isFraud', 'TransactionID'])"
   ]
  },
  {
   "cell_type": "code",
   "execution_count": 22,
   "metadata": {},
   "outputs": [],
   "source": [
    "params = {'objective':'binary',\n",
    "          'boosting_type':'gbdt',\n",
    "          'metric':'auc',\n",
    "          'learning_rate':0.006,\n",
    "          'num_leaves': 2**8,\n",
    "          'max_depth':-1,\n",
    "          'colsample_bytree': 0.7,# feature_fraction\n",
    "          'subsample_freq':1,\n",
    "          'subsample':0.7,\n",
    "          'verbose':-1,\n",
    "          'seed': 42#47,\n",
    "                } "
   ]
  },
  {
   "cell_type": "code",
   "execution_count": 21,
   "metadata": {},
   "outputs": [],
   "source": [
    "params1 = {'objective': 'binary',# Core Parameters\n",
    "          \"boosting_type\":\"gbdt\",#'goss' # Core Parameters\n",
    "          \"metric\": 'auc',\n",
    "          'learning_rate': 0.006883242363721497,\n",
    "          'num_leaves': 491,# This is the main parameter to control the complexity of the tree model\n",
    "          'max_depth': -1,# You also can use max_depth to limit the tree depth explicitly.\n",
    "          'min_data_in_leaf': 106,# This is a very important parameter to prevent over-fitting in a leaf-wise tree. \n",
    "          'min_child_weight': 0.03454472573214212,\n",
    "          'feature_fraction': 0.3797454081646243,`a\n",
    "          'feature_fraction_seed':11,\n",
    "          'bagging_fraction': 0.4181193142567742,#randomly select part of data without resampling #control overfitting\n",
    "          \"bagging_seed\": 11,\n",
    "          \"verbosity\": -1,\n",
    "          'reg_alpha': 0.3899927210061127,#L1\n",
    "          'reg_lambda': 0.6485237330340494,#L2\n",
    "          'random_state': 47\n",
    "          #'num_threads':10\n",
    "          #'device' :'gpu',\n",
    "          #'is_unbalance':True\n",
    "          #'scale_pos_weight':9\n",
    "         }"
   ]
  },
  {
   "cell_type": "markdown",
   "metadata": {},
   "source": [
    "# Feature Selection"
   ]
  },
  {
   "cell_type": "code",
   "execution_count": 14,
   "metadata": {},
   "outputs": [
    {
     "data": {
      "text/html": [
       "<div>\n",
       "<style scoped>\n",
       "    .dataframe tbody tr th:only-of-type {\n",
       "        vertical-align: middle;\n",
       "    }\n",
       "\n",
       "    .dataframe tbody tr th {\n",
       "        vertical-align: top;\n",
       "    }\n",
       "\n",
       "    .dataframe thead th {\n",
       "        text-align: right;\n",
       "    }\n",
       "</style>\n",
       "<table border=\"1\" class=\"dataframe\">\n",
       "  <thead>\n",
       "    <tr style=\"text-align: right;\">\n",
       "      <th></th>\n",
       "      <th>TransactionDT</th>\n",
       "      <th>TransactionAmt</th>\n",
       "      <th>ProductCD</th>\n",
       "      <th>card1</th>\n",
       "      <th>card2</th>\n",
       "      <th>card3</th>\n",
       "      <th>card4</th>\n",
       "      <th>card5</th>\n",
       "      <th>card6</th>\n",
       "      <th>addr1</th>\n",
       "      <th>...</th>\n",
       "      <th>DeviceType</th>\n",
       "      <th>DeviceInfo</th>\n",
       "      <th>P_email</th>\n",
       "      <th>R_email</th>\n",
       "      <th>screen_width</th>\n",
       "      <th>pdc_amt_ratio</th>\n",
       "      <th>card1_fq_enc</th>\n",
       "      <th>addr1_fq_enc</th>\n",
       "      <th>card_mv_day_fq</th>\n",
       "      <th>card_DeviceType_fq</th>\n",
       "    </tr>\n",
       "  </thead>\n",
       "  <tbody>\n",
       "    <tr>\n",
       "      <td>590535</td>\n",
       "      <td>15811047</td>\n",
       "      <td>49.00</td>\n",
       "      <td>0</td>\n",
       "      <td>6550</td>\n",
       "      <td>NaN</td>\n",
       "      <td>150.0</td>\n",
       "      <td>2</td>\n",
       "      <td>226.0</td>\n",
       "      <td>1</td>\n",
       "      <td>272.0</td>\n",
       "      <td>...</td>\n",
       "      <td>-1</td>\n",
       "      <td>-1</td>\n",
       "      <td>-1</td>\n",
       "      <td>-1</td>\n",
       "      <td>-1</td>\n",
       "      <td>0.318986</td>\n",
       "      <td>2110</td>\n",
       "      <td>35929.0</td>\n",
       "      <td>1</td>\n",
       "      <td>NaN</td>\n",
       "    </tr>\n",
       "    <tr>\n",
       "      <td>590536</td>\n",
       "      <td>15811049</td>\n",
       "      <td>39.50</td>\n",
       "      <td>0</td>\n",
       "      <td>10444</td>\n",
       "      <td>225.0</td>\n",
       "      <td>150.0</td>\n",
       "      <td>1</td>\n",
       "      <td>224.0</td>\n",
       "      <td>1</td>\n",
       "      <td>204.0</td>\n",
       "      <td>...</td>\n",
       "      <td>-1</td>\n",
       "      <td>-1</td>\n",
       "      <td>0</td>\n",
       "      <td>-1</td>\n",
       "      <td>-1</td>\n",
       "      <td>0.257142</td>\n",
       "      <td>25</td>\n",
       "      <td>77069.0</td>\n",
       "      <td>1</td>\n",
       "      <td>NaN</td>\n",
       "    </tr>\n",
       "    <tr>\n",
       "      <td>590537</td>\n",
       "      <td>15811079</td>\n",
       "      <td>30.95</td>\n",
       "      <td>0</td>\n",
       "      <td>12037</td>\n",
       "      <td>595.0</td>\n",
       "      <td>150.0</td>\n",
       "      <td>1</td>\n",
       "      <td>224.0</td>\n",
       "      <td>1</td>\n",
       "      <td>231.0</td>\n",
       "      <td>...</td>\n",
       "      <td>-1</td>\n",
       "      <td>-1</td>\n",
       "      <td>0</td>\n",
       "      <td>-1</td>\n",
       "      <td>-1</td>\n",
       "      <td>0.201482</td>\n",
       "      <td>1373</td>\n",
       "      <td>13532.0</td>\n",
       "      <td>2</td>\n",
       "      <td>NaN</td>\n",
       "    </tr>\n",
       "    <tr>\n",
       "      <td>590538</td>\n",
       "      <td>15811088</td>\n",
       "      <td>117.00</td>\n",
       "      <td>0</td>\n",
       "      <td>7826</td>\n",
       "      <td>481.0</td>\n",
       "      <td>150.0</td>\n",
       "      <td>1</td>\n",
       "      <td>224.0</td>\n",
       "      <td>1</td>\n",
       "      <td>387.0</td>\n",
       "      <td>...</td>\n",
       "      <td>-1</td>\n",
       "      <td>-1</td>\n",
       "      <td>7</td>\n",
       "      <td>-1</td>\n",
       "      <td>-1</td>\n",
       "      <td>0.761660</td>\n",
       "      <td>5021</td>\n",
       "      <td>15737.0</td>\n",
       "      <td>2</td>\n",
       "      <td>NaN</td>\n",
       "    </tr>\n",
       "    <tr>\n",
       "      <td>590539</td>\n",
       "      <td>15811131</td>\n",
       "      <td>279.95</td>\n",
       "      <td>0</td>\n",
       "      <td>15066</td>\n",
       "      <td>170.0</td>\n",
       "      <td>150.0</td>\n",
       "      <td>1</td>\n",
       "      <td>102.0</td>\n",
       "      <td>0</td>\n",
       "      <td>299.0</td>\n",
       "      <td>...</td>\n",
       "      <td>-1</td>\n",
       "      <td>-1</td>\n",
       "      <td>0</td>\n",
       "      <td>-1</td>\n",
       "      <td>-1</td>\n",
       "      <td>1.822452</td>\n",
       "      <td>14606</td>\n",
       "      <td>85045.0</td>\n",
       "      <td>2</td>\n",
       "      <td>NaN</td>\n",
       "    </tr>\n",
       "  </tbody>\n",
       "</table>\n",
       "<p>5 rows × 338 columns</p>\n",
       "</div>"
      ],
      "text/plain": [
       "        TransactionDT  TransactionAmt  ProductCD  card1  card2  card3  card4  \\\n",
       "590535       15811047           49.00          0   6550    NaN  150.0      2   \n",
       "590536       15811049           39.50          0  10444  225.0  150.0      1   \n",
       "590537       15811079           30.95          0  12037  595.0  150.0      1   \n",
       "590538       15811088          117.00          0   7826  481.0  150.0      1   \n",
       "590539       15811131          279.95          0  15066  170.0  150.0      1   \n",
       "\n",
       "        card5  card6  addr1  ...  DeviceType  DeviceInfo  P_email  R_email  \\\n",
       "590535  226.0      1  272.0  ...          -1          -1       -1       -1   \n",
       "590536  224.0      1  204.0  ...          -1          -1        0       -1   \n",
       "590537  224.0      1  231.0  ...          -1          -1        0       -1   \n",
       "590538  224.0      1  387.0  ...          -1          -1        7       -1   \n",
       "590539  102.0      0  299.0  ...          -1          -1        0       -1   \n",
       "\n",
       "        screen_width  pdc_amt_ratio  card1_fq_enc  addr1_fq_enc  \\\n",
       "590535            -1       0.318986          2110       35929.0   \n",
       "590536            -1       0.257142            25       77069.0   \n",
       "590537            -1       0.201482          1373       13532.0   \n",
       "590538            -1       0.761660          5021       15737.0   \n",
       "590539            -1       1.822452         14606       85045.0   \n",
       "\n",
       "        card_mv_day_fq  card_DeviceType_fq  \n",
       "590535               1                 NaN  \n",
       "590536               1                 NaN  \n",
       "590537               2                 NaN  \n",
       "590538               2                 NaN  \n",
       "590539               2                 NaN  \n",
       "\n",
       "[5 rows x 338 columns]"
      ]
     },
     "execution_count": 14,
     "metadata": {},
     "output_type": "execute_result"
    }
   ],
   "source": [
    "features_train.tail()"
   ]
  },
  {
   "cell_type": "code",
   "execution_count": null,
   "metadata": {},
   "outputs": [],
   "source": [
    "start = time.time()\n",
    "train_set = lgb.Dataset(features_train.iloc[0:472432,:], label=labels_train.values[0:472432],categorical_feature=categorical)#\n",
    "valid_set = lgb.Dataset(features_train.iloc[472432:,:], label=labels_train.values[472432:],categorical_feature=categorical)#\n",
    "valid_results = {}\n",
    "model = lgb.train(params,train_set,num_boost_round = 10000, \n",
    "                  valid_sets = [train_set, valid_set],\n",
    "                  verbose_eval=500,\n",
    "                  early_stopping_rounds = 500,\n",
    "                  evals_result=valid_results)\n",
    "print(time.time()-start)"
   ]
  },
  {
   "cell_type": "code",
   "execution_count": null,
   "metadata": {},
   "outputs": [],
   "source": [
    "max(valid_results['valid_1']['auc'])"
   ]
  },
  {
   "cell_type": "code",
   "execution_count": null,
   "metadata": {},
   "outputs": [],
   "source": [
    "lgb.plot_importance(model, max_num_features=128,figsize=(20,15))\n",
    "#lgb.plot_split_value_histogram(model, feature='dist1', bins='auto')\n",
    "lgb.plot_metric(valid_results, metric='auc')"
   ]
  },
  {
   "cell_type": "code",
   "execution_count": null,
   "metadata": {},
   "outputs": [],
   "source": [
    "lgb.plot_tree(model,tree_index=0, figsize=(107,105))\n",
    "graph = lgb.create_tree_digraph(model, tree_index=0, name='Tree0')\n",
    "graph.render(view=True)"
   ]
  },
  {
   "cell_type": "markdown",
   "metadata": {},
   "source": [
    "# Train Model"
   ]
  },
  {
   "cell_type": "code",
   "execution_count": 15,
   "metadata": {},
   "outputs": [],
   "source": [
    "def fold_train_model(splits_num,features_train,labels_train,categorical):\n",
    "    splits = splits_num\n",
    "    folds = KFold(n_splits = splits,random_state=50)\n",
    "    predictions = np.zeros(len(features_test_new))\n",
    "    ave_auc = 0\n",
    "    \n",
    "    for fold_num, (trn_idx, val_idx) in enumerate(folds.split(features_train.values, \n",
    "                                                          labels_train.values)):\n",
    "        print(\"Fold {}\".format(fold_num))\n",
    "        train_df, y_train_df = features_train.iloc[trn_idx], labels_train.iloc[trn_idx]\n",
    "        valid_df, y_valid_df = features_train.iloc[val_idx], labels_train.iloc[val_idx]\n",
    "\n",
    "        trn_data = lgb.Dataset(train_df, label=y_train_df,categorical_feature=categorical)\n",
    "        val_data = lgb.Dataset(valid_df, label=y_valid_df,categorical_feature=categorical)\n",
    "\n",
    "        valid_results = {}\n",
    "        clf = lgb.train(params,\n",
    "                        trn_data,\n",
    "                        10000,\n",
    "                        valid_sets = [trn_data, val_data],\n",
    "                        verbose_eval=500,\n",
    "                        early_stopping_rounds=500,\n",
    "                       evals_result=valid_results)\n",
    "\n",
    "        pred = clf.predict(valid_df)\n",
    "        auc_score = roc_auc_score(y_valid_df, pred)\n",
    "        ave_auc += auc_score / splits\n",
    "        predictions += clf.predict(features_test_new) / splits\n",
    "    return ave_auc,predictions"
   ]
  },
  {
   "cell_type": "code",
   "execution_count": 24,
   "metadata": {},
   "outputs": [
    {
     "name": "stdout",
     "output_type": "stream",
     "text": [
      "Fold 0\n"
     ]
    },
    {
     "name": "stderr",
     "output_type": "stream",
     "text": [
      "/home/jinpwa/anaconda3/lib/python3.6/site-packages/lightgbm/basic.py:1247: UserWarning: Using categorical_feature in Dataset.\n",
      "  warnings.warn('Using categorical_feature in Dataset.')\n"
     ]
    },
    {
     "name": "stdout",
     "output_type": "stream",
     "text": [
      "Training until validation scores don't improve for 500 rounds.\n",
      "[500]\ttraining's auc: 0.983332\tvalid_1's auc: 0.917856\n",
      "[1000]\ttraining's auc: 0.996289\tvalid_1's auc: 0.928191\n",
      "[1500]\ttraining's auc: 0.999139\tvalid_1's auc: 0.929697\n",
      "[2000]\ttraining's auc: 0.999808\tvalid_1's auc: 0.929903\n",
      "[2500]\ttraining's auc: 0.999962\tvalid_1's auc: 0.929734\n",
      "Early stopping, best iteration is:\n",
      "[2033]\ttraining's auc: 0.999827\tvalid_1's auc: 0.930025\n",
      "Fold 1\n"
     ]
    },
    {
     "name": "stderr",
     "output_type": "stream",
     "text": [
      "/home/jinpwa/anaconda3/lib/python3.6/site-packages/lightgbm/basic.py:1247: UserWarning: Using categorical_feature in Dataset.\n",
      "  warnings.warn('Using categorical_feature in Dataset.')\n"
     ]
    },
    {
     "name": "stdout",
     "output_type": "stream",
     "text": [
      "Training until validation scores don't improve for 500 rounds.\n",
      "[500]\ttraining's auc: 0.983523\tvalid_1's auc: 0.923405\n",
      "[1000]\ttraining's auc: 0.99647\tvalid_1's auc: 0.933734\n",
      "[1500]\ttraining's auc: 0.999215\tvalid_1's auc: 0.937031\n",
      "[2000]\ttraining's auc: 0.999834\tvalid_1's auc: 0.938451\n",
      "[2500]\ttraining's auc: 0.999971\tvalid_1's auc: 0.939103\n",
      "[3000]\ttraining's auc: 0.999996\tvalid_1's auc: 0.939086\n",
      "Early stopping, best iteration is:\n",
      "[2719]\ttraining's auc: 0.999987\tvalid_1's auc: 0.939268\n",
      "Fold 2\n"
     ]
    },
    {
     "name": "stderr",
     "output_type": "stream",
     "text": [
      "/home/jinpwa/anaconda3/lib/python3.6/site-packages/lightgbm/basic.py:1247: UserWarning: Using categorical_feature in Dataset.\n",
      "  warnings.warn('Using categorical_feature in Dataset.')\n"
     ]
    },
    {
     "name": "stdout",
     "output_type": "stream",
     "text": [
      "Training until validation scores don't improve for 500 rounds.\n",
      "[500]\ttraining's auc: 0.984072\tvalid_1's auc: 0.934389\n",
      "[1000]\ttraining's auc: 0.996594\tvalid_1's auc: 0.94235\n",
      "[1500]\ttraining's auc: 0.999239\tvalid_1's auc: 0.945532\n",
      "[2000]\ttraining's auc: 0.999842\tvalid_1's auc: 0.946324\n",
      "[2500]\ttraining's auc: 0.999972\tvalid_1's auc: 0.946192\n",
      "Early stopping, best iteration is:\n",
      "[2016]\ttraining's auc: 0.999851\tvalid_1's auc: 0.94634\n",
      "Fold 3\n"
     ]
    },
    {
     "name": "stderr",
     "output_type": "stream",
     "text": [
      "/home/jinpwa/anaconda3/lib/python3.6/site-packages/lightgbm/basic.py:1247: UserWarning: Using categorical_feature in Dataset.\n",
      "  warnings.warn('Using categorical_feature in Dataset.')\n"
     ]
    },
    {
     "name": "stdout",
     "output_type": "stream",
     "text": [
      "Training until validation scores don't improve for 500 rounds.\n",
      "[500]\ttraining's auc: 0.984932\tvalid_1's auc: 0.929232\n",
      "[1000]\ttraining's auc: 0.997013\tvalid_1's auc: 0.934609\n",
      "[1500]\ttraining's auc: 0.999393\tvalid_1's auc: 0.934924\n",
      "Early stopping, best iteration is:\n",
      "[1302]\ttraining's auc: 0.998853\tvalid_1's auc: 0.935097\n",
      "Fold 4\n"
     ]
    },
    {
     "name": "stderr",
     "output_type": "stream",
     "text": [
      "/home/jinpwa/anaconda3/lib/python3.6/site-packages/lightgbm/basic.py:1247: UserWarning: Using categorical_feature in Dataset.\n",
      "  warnings.warn('Using categorical_feature in Dataset.')\n"
     ]
    },
    {
     "name": "stdout",
     "output_type": "stream",
     "text": [
      "Training until validation scores don't improve for 500 rounds.\n",
      "[500]\ttraining's auc: 0.983355\tvalid_1's auc: 0.936585\n",
      "[1000]\ttraining's auc: 0.99647\tvalid_1's auc: 0.947592\n",
      "[1500]\ttraining's auc: 0.999272\tvalid_1's auc: 0.949674\n",
      "[2000]\ttraining's auc: 0.999861\tvalid_1's auc: 0.950155\n",
      "[2500]\ttraining's auc: 0.999976\tvalid_1's auc: 0.950363\n",
      "[3000]\ttraining's auc: 0.999997\tvalid_1's auc: 0.950178\n",
      "Early stopping, best iteration is:\n",
      "[2618]\ttraining's auc: 0.999985\tvalid_1's auc: 0.950395\n",
      "Fold 5\n"
     ]
    },
    {
     "name": "stderr",
     "output_type": "stream",
     "text": [
      "/home/jinpwa/anaconda3/lib/python3.6/site-packages/lightgbm/basic.py:1247: UserWarning: Using categorical_feature in Dataset.\n",
      "  warnings.warn('Using categorical_feature in Dataset.')\n"
     ]
    },
    {
     "name": "stdout",
     "output_type": "stream",
     "text": [
      "Training until validation scores don't improve for 500 rounds.\n",
      "[500]\ttraining's auc: 0.984176\tvalid_1's auc: 0.922858\n",
      "[1000]\ttraining's auc: 0.996661\tvalid_1's auc: 0.93251\n",
      "[1500]\ttraining's auc: 0.999283\tvalid_1's auc: 0.934682\n",
      "[2000]\ttraining's auc: 0.999851\tvalid_1's auc: 0.935919\n",
      "[2500]\ttraining's auc: 0.999974\tvalid_1's auc: 0.936444\n",
      "[3000]\ttraining's auc: 0.999997\tvalid_1's auc: 0.936963\n",
      "[3500]\ttraining's auc: 1\tvalid_1's auc: 0.936925\n",
      "Early stopping, best iteration is:\n",
      "[3098]\ttraining's auc: 0.999998\tvalid_1's auc: 0.93703\n"
     ]
    }
   ],
   "source": [
    "ave_auc,predictions = fold_train_model(6,features_train,labels_train,categorical)"
   ]
  },
  {
   "cell_type": "code",
   "execution_count": 25,
   "metadata": {},
   "outputs": [
    {
     "data": {
      "text/plain": [
       "0.9396926157221407"
      ]
     },
     "execution_count": 25,
     "metadata": {},
     "output_type": "execute_result"
    }
   ],
   "source": [
    "# feat440 new param 6 fold\n",
    "ave_auc"
   ]
  },
  {
   "cell_type": "code",
   "execution_count": 17,
   "metadata": {},
   "outputs": [
    {
     "data": {
      "text/plain": [
       "0.9364543671827509"
      ]
     },
     "execution_count": 17,
     "metadata": {},
     "output_type": "execute_result"
    }
   ],
   "source": [
    "# feat440 new param 5 fold\n",
    "ave_auc"
   ]
  },
  {
   "cell_type": "code",
   "execution_count": 34,
   "metadata": {},
   "outputs": [
    {
     "data": {
      "text/plain": [
       "0.9383068452162177"
      ]
     },
     "execution_count": 34,
     "metadata": {},
     "output_type": "execute_result"
    }
   ],
   "source": [
    "# feat440 add card_DeviceType_fq\n",
    "ave_auc"
   ]
  },
  {
   "cell_type": "code",
   "execution_count": 18,
   "metadata": {},
   "outputs": [
    {
     "data": {
      "text/plain": [
       "0.9381576015559274"
      ]
     },
     "execution_count": 18,
     "metadata": {},
     "output_type": "execute_result"
    }
   ],
   "source": [
    "# feat439 na -999\n",
    "ave_auc"
   ]
  },
  {
   "cell_type": "code",
   "execution_count": 25,
   "metadata": {},
   "outputs": [
    {
     "data": {
      "text/plain": [
       "0.9368800258774106"
      ]
     },
     "execution_count": 25,
     "metadata": {},
     "output_type": "execute_result"
    }
   ],
   "source": [
    "# feat439 num of leave 300\n",
    "ave_auc"
   ]
  },
  {
   "cell_type": "code",
   "execution_count": 16,
   "metadata": {},
   "outputs": [
    {
     "data": {
      "text/plain": [
       "0.9378605282673502"
      ]
     },
     "execution_count": 16,
     "metadata": {},
     "output_type": "execute_result"
    }
   ],
   "source": [
    "# feat439 lr 0.005\n",
    "ave_auc"
   ]
  },
  {
   "cell_type": "code",
   "execution_count": 206,
   "metadata": {},
   "outputs": [
    {
     "data": {
      "text/plain": [
       "0.9423037793396379"
      ]
     },
     "execution_count": 206,
     "metadata": {},
     "output_type": "execute_result"
    }
   ],
   "source": [
    "#feat439 6 fold\n",
    "ave_auc"
   ]
  },
  {
   "cell_type": "code",
   "execution_count": 174,
   "metadata": {},
   "outputs": [
    {
     "data": {
      "text/plain": [
       "0.9381709259349416"
      ]
     },
     "execution_count": 174,
     "metadata": {},
     "output_type": "execute_result"
    }
   ],
   "source": [
    "# feat440 add id_31_fq_enc\n",
    "ave_auc"
   ]
  },
  {
   "cell_type": "code",
   "execution_count": 159,
   "metadata": {},
   "outputs": [
    {
     "data": {
      "text/plain": [
       "0.9380367451399003"
      ]
     },
     "execution_count": 159,
     "metadata": {},
     "output_type": "execute_result"
    }
   ],
   "source": [
    "# feat440 add id_30_fq_enc\n",
    "ave_auc"
   ]
  },
  {
   "cell_type": "code",
   "execution_count": 128,
   "metadata": {},
   "outputs": [
    {
     "data": {
      "text/plain": [
       "0.9380337132311257"
      ]
     },
     "execution_count": 128,
     "metadata": {},
     "output_type": "execute_result"
    }
   ],
   "source": [
    "# feat439 change device info\n",
    "ave_auc"
   ]
  },
  {
   "cell_type": "code",
   "execution_count": 112,
   "metadata": {},
   "outputs": [
    {
     "data": {
      "text/plain": [
       "0.9382558553226678"
      ]
     },
     "execution_count": 112,
     "metadata": {},
     "output_type": "execute_result"
    }
   ],
   "source": [
    "# feat439 add card_mv_day_fq\n",
    "ave_auc"
   ]
  },
  {
   "cell_type": "code",
   "execution_count": 97,
   "metadata": {},
   "outputs": [
    {
     "data": {
      "text/plain": [
       "0.9378070966039451"
      ]
     },
     "execution_count": 97,
     "metadata": {},
     "output_type": "execute_result"
    }
   ],
   "source": [
    "# feat441 drop card4_fraud_rate and pemail fraud rate\n",
    "ave_auc"
   ]
  },
  {
   "cell_type": "code",
   "execution_count": 73,
   "metadata": {},
   "outputs": [
    {
     "data": {
      "text/plain": [
       "0.9375985902362556"
      ]
     },
     "execution_count": 73,
     "metadata": {},
     "output_type": "execute_result"
    }
   ],
   "source": [
    "# feat441 drop feat437_rm_pm_importance100 drop hour amt and card4_fraud_rate\n",
    "ave_auc"
   ]
  },
  {
   "cell_type": "code",
   "execution_count": 61,
   "metadata": {},
   "outputs": [
    {
     "data": {
      "text/plain": [
       "0.9375681374967423"
      ]
     },
     "execution_count": 61,
     "metadata": {},
     "output_type": "execute_result"
    }
   ],
   "source": [
    "# feat441 drop feat437_rm_pm_importance100 drop hour amt\n",
    "ave_auc"
   ]
  },
  {
   "cell_type": "code",
   "execution_count": 46,
   "metadata": {},
   "outputs": [
    {
     "data": {
      "text/plain": [
       "0.9375681381106405"
      ]
     },
     "execution_count": 46,
     "metadata": {},
     "output_type": "execute_result"
    }
   ],
   "source": [
    "# feat441 drop feat437_rm_pm_importance100 \n",
    "ave_auc"
   ]
  },
  {
   "cell_type": "code",
   "execution_count": 17,
   "metadata": {},
   "outputs": [
    {
     "data": {
      "text/plain": [
       "0.9378057475398072"
      ]
     },
     "execution_count": 17,
     "metadata": {},
     "output_type": "execute_result"
    }
   ],
   "source": [
    "# feat438 add addr1 cnt drop feat437_rm_pm_importance100\n",
    "ave_auc"
   ]
  },
  {
   "cell_type": "code",
   "execution_count": 34,
   "metadata": {},
   "outputs": [
    {
     "data": {
      "text/plain": [
       "0.9372995256863785"
      ]
     },
     "execution_count": 34,
     "metadata": {},
     "output_type": "execute_result"
    }
   ],
   "source": [
    "# feat437 add card1 cnt drop feat437_rm_pm_importance100\n",
    "ave_auc"
   ]
  },
  {
   "cell_type": "code",
   "execution_count": 17,
   "metadata": {},
   "outputs": [
    {
     "data": {
      "text/plain": [
       "0.9347757078114228"
      ]
     },
     "execution_count": 17,
     "metadata": {},
     "output_type": "execute_result"
    }
   ],
   "source": [
    "# feat437 add card1 cnt drop transactionDT\n",
    "ave_auc"
   ]
  },
  {
   "cell_type": "code",
   "execution_count": 68,
   "metadata": {},
   "outputs": [
    {
     "data": {
      "text/plain": [
       "0.9371691266159269"
      ]
     },
     "execution_count": 68,
     "metadata": {},
     "output_type": "execute_result"
    }
   ],
   "source": [
    "# feat437 add card1 cnt\n",
    "ave_auc"
   ]
  },
  {
   "cell_type": "code",
   "execution_count": 33,
   "metadata": {},
   "outputs": [
    {
     "data": {
      "text/plain": [
       "0.9360835858343227"
      ]
     },
     "execution_count": 33,
     "metadata": {},
     "output_type": "execute_result"
    }
   ],
   "source": [
    "# feat436 add pdc amt ratio\n",
    "ave_auc"
   ]
  },
  {
   "cell_type": "code",
   "execution_count": 31,
   "metadata": {},
   "outputs": [
    {
     "data": {
      "text/plain": [
       "0.9320555176749314"
      ]
     },
     "execution_count": 31,
     "metadata": {},
     "output_type": "execute_result"
    }
   ],
   "source": [
    "# feat457 drop Vfeature\n",
    "ave_auc"
   ]
  },
  {
   "cell_type": "code",
   "execution_count": 16,
   "metadata": {},
   "outputs": [
    {
     "data": {
      "text/plain": [
       "0.9354828335082059"
      ]
     },
     "execution_count": 16,
     "metadata": {},
     "output_type": "execute_result"
    }
   ],
   "source": [
    "# feat 457 drop c8\n",
    "ave_auc"
   ]
  },
  {
   "cell_type": "code",
   "execution_count": 19,
   "metadata": {},
   "outputs": [
    {
     "data": {
      "text/plain": [
       "0.9352800271384787"
      ]
     },
     "execution_count": 19,
     "metadata": {},
     "output_type": "execute_result"
    }
   ],
   "source": [
    "# feat 457 all features\n",
    "ave_auc"
   ]
  },
  {
   "cell_type": "code",
   "execution_count": 18,
   "metadata": {},
   "outputs": [],
   "source": [
    "id_test = features_test['TransactionID']\n",
    "submission = pd.DataFrame({'TransactionID': id_test, \n",
    "                            'isFraud': predictions})\n",
    "submission.to_csv('./data/sub_feat%s_drop100_%s.csv'%(feat_num,'new_param'), index = False)\n",
    "#submission.to_csv('./data/sub_feat%s_drop100.csv'%(feat_num), index = False)\n"
   ]
  },
  {
   "cell_type": "markdown",
   "metadata": {},
   "source": [
    "# Recursive Test"
   ]
  },
  {
   "cell_type": "code",
   "execution_count": 53,
   "metadata": {},
   "outputs": [
    {
     "data": {
      "text/html": [
       "<div>\n",
       "<style scoped>\n",
       "    .dataframe tbody tr th:only-of-type {\n",
       "        vertical-align: middle;\n",
       "    }\n",
       "\n",
       "    .dataframe tbody tr th {\n",
       "        vertical-align: top;\n",
       "    }\n",
       "\n",
       "    .dataframe thead th {\n",
       "        text-align: right;\n",
       "    }\n",
       "</style>\n",
       "<table border=\"1\" class=\"dataframe\">\n",
       "  <thead>\n",
       "    <tr style=\"text-align: right;\">\n",
       "      <th></th>\n",
       "      <th>pdc_amt_ratio</th>\n",
       "      <th>card1_fq_enc</th>\n",
       "      <th>addr1_fq_enc</th>\n",
       "      <th>card_mv_day_fq</th>\n",
       "      <th>card_DeviceType_fq</th>\n",
       "      <th>pdc_hour_Amt_mean</th>\n",
       "      <th>pdc_hour_Amt_ratio</th>\n",
       "      <th>pdc_month_Amt_mean</th>\n",
       "      <th>pdc_month_Amt_ratio</th>\n",
       "      <th>card_id_30_fq</th>\n",
       "      <th>card_id_31_fq</th>\n",
       "      <th>pdc_addr_Amt_ratio</th>\n",
       "      <th>addr_Amt_ratio</th>\n",
       "      <th>dev_Amt_ratio</th>\n",
       "    </tr>\n",
       "  </thead>\n",
       "  <tbody>\n",
       "    <tr>\n",
       "      <td>0</td>\n",
       "      <td>0.445929</td>\n",
       "      <td>56</td>\n",
       "      <td>43035.0</td>\n",
       "      <td>1</td>\n",
       "      <td>NaN</td>\n",
       "      <td>248.961084</td>\n",
       "      <td>0.275143</td>\n",
       "      <td>151.395914</td>\n",
       "      <td>0.452456</td>\n",
       "      <td>NaN</td>\n",
       "      <td>NaN</td>\n",
       "      <td>0.499882</td>\n",
       "      <td>0.505295</td>\n",
       "      <td>NaN</td>\n",
       "    </tr>\n",
       "    <tr>\n",
       "      <td>1</td>\n",
       "      <td>0.188788</td>\n",
       "      <td>1338</td>\n",
       "      <td>76902.0</td>\n",
       "      <td>1</td>\n",
       "      <td>NaN</td>\n",
       "      <td>248.961084</td>\n",
       "      <td>0.116484</td>\n",
       "      <td>151.395914</td>\n",
       "      <td>0.191551</td>\n",
       "      <td>NaN</td>\n",
       "      <td>NaN</td>\n",
       "      <td>0.175652</td>\n",
       "      <td>0.182692</td>\n",
       "      <td>NaN</td>\n",
       "    </tr>\n",
       "    <tr>\n",
       "      <td>2</td>\n",
       "      <td>0.384085</td>\n",
       "      <td>1794</td>\n",
       "      <td>48387.0</td>\n",
       "      <td>1</td>\n",
       "      <td>NaN</td>\n",
       "      <td>248.961084</td>\n",
       "      <td>0.236985</td>\n",
       "      <td>151.395914</td>\n",
       "      <td>0.389707</td>\n",
       "      <td>NaN</td>\n",
       "      <td>NaN</td>\n",
       "      <td>0.393093</td>\n",
       "      <td>0.446788</td>\n",
       "      <td>NaN</td>\n",
       "    </tr>\n",
       "    <tr>\n",
       "      <td>3</td>\n",
       "      <td>0.325496</td>\n",
       "      <td>7635</td>\n",
       "      <td>17455.0</td>\n",
       "      <td>11</td>\n",
       "      <td>NaN</td>\n",
       "      <td>248.961084</td>\n",
       "      <td>0.200835</td>\n",
       "      <td>151.395914</td>\n",
       "      <td>0.330260</td>\n",
       "      <td>NaN</td>\n",
       "      <td>NaN</td>\n",
       "      <td>0.355220</td>\n",
       "      <td>0.363424</td>\n",
       "      <td>NaN</td>\n",
       "    </tr>\n",
       "    <tr>\n",
       "      <td>4</td>\n",
       "      <td>0.686003</td>\n",
       "      <td>30</td>\n",
       "      <td>7107.0</td>\n",
       "      <td>1</td>\n",
       "      <td>1.0</td>\n",
       "      <td>75.840000</td>\n",
       "      <td>0.659283</td>\n",
       "      <td>69.407541</td>\n",
       "      <td>0.720383</td>\n",
       "      <td>1.0</td>\n",
       "      <td>1.0</td>\n",
       "      <td>0.737484</td>\n",
       "      <td>0.299817</td>\n",
       "      <td>0.737964</td>\n",
       "    </tr>\n",
       "  </tbody>\n",
       "</table>\n",
       "</div>"
      ],
      "text/plain": [
       "   pdc_amt_ratio  card1_fq_enc  addr1_fq_enc  card_mv_day_fq  \\\n",
       "0       0.445929            56       43035.0               1   \n",
       "1       0.188788          1338       76902.0               1   \n",
       "2       0.384085          1794       48387.0               1   \n",
       "3       0.325496          7635       17455.0              11   \n",
       "4       0.686003            30        7107.0               1   \n",
       "\n",
       "   card_DeviceType_fq  pdc_hour_Amt_mean  pdc_hour_Amt_ratio  \\\n",
       "0                 NaN         248.961084            0.275143   \n",
       "1                 NaN         248.961084            0.116484   \n",
       "2                 NaN         248.961084            0.236985   \n",
       "3                 NaN         248.961084            0.200835   \n",
       "4                 1.0          75.840000            0.659283   \n",
       "\n",
       "   pdc_month_Amt_mean  pdc_month_Amt_ratio  card_id_30_fq  card_id_31_fq  \\\n",
       "0          151.395914             0.452456            NaN            NaN   \n",
       "1          151.395914             0.191551            NaN            NaN   \n",
       "2          151.395914             0.389707            NaN            NaN   \n",
       "3          151.395914             0.330260            NaN            NaN   \n",
       "4           69.407541             0.720383            1.0            1.0   \n",
       "\n",
       "   pdc_addr_Amt_ratio  addr_Amt_ratio  dev_Amt_ratio  \n",
       "0            0.499882        0.505295            NaN  \n",
       "1            0.175652        0.182692            NaN  \n",
       "2            0.393093        0.446788            NaN  \n",
       "3            0.355220        0.363424            NaN  \n",
       "4            0.737484        0.299817       0.737964  "
      ]
     },
     "execution_count": 53,
     "metadata": {},
     "output_type": "execute_result"
    }
   ],
   "source": [
    "features_train.iloc[:,-15:-1].head()"
   ]
  },
  {
   "cell_type": "code",
   "execution_count": 56,
   "metadata": {},
   "outputs": [
    {
     "name": "stdout",
     "output_type": "stream",
     "text": [
      "pdc_month_Amt_mean\n",
      "(590540, 339)\n",
      "Fold 0\n"
     ]
    },
    {
     "name": "stderr",
     "output_type": "stream",
     "text": [
      "/home/jinpwa/anaconda3/lib/python3.6/site-packages/lightgbm/basic.py:1247: UserWarning: Using categorical_feature in Dataset.\n",
      "  warnings.warn('Using categorical_feature in Dataset.')\n"
     ]
    },
    {
     "name": "stdout",
     "output_type": "stream",
     "text": [
      "Training until validation scores don't improve for 500 rounds.\n",
      "[500]\ttraining's auc: 0.986556\tvalid_1's auc: 0.911225\n",
      "[1000]\ttraining's auc: 0.997586\tvalid_1's auc: 0.922818\n",
      "[1500]\ttraining's auc: 0.999632\tvalid_1's auc: 0.925309\n",
      "[2000]\ttraining's auc: 0.999957\tvalid_1's auc: 0.925782\n",
      "[2500]\ttraining's auc: 0.999997\tvalid_1's auc: 0.926027\n",
      "[3000]\ttraining's auc: 1\tvalid_1's auc: 0.926112\n",
      "[3500]\ttraining's auc: 1\tvalid_1's auc: 0.92637\n",
      "[4000]\ttraining's auc: 1\tvalid_1's auc: 0.926608\n",
      "Early stopping, best iteration is:\n",
      "[3904]\ttraining's auc: 1\tvalid_1's auc: 0.926569\n",
      "Fold 1\n"
     ]
    },
    {
     "name": "stderr",
     "output_type": "stream",
     "text": [
      "/home/jinpwa/anaconda3/lib/python3.6/site-packages/lightgbm/basic.py:1247: UserWarning: Using categorical_feature in Dataset.\n",
      "  warnings.warn('Using categorical_feature in Dataset.')\n"
     ]
    },
    {
     "name": "stdout",
     "output_type": "stream",
     "text": [
      "Training until validation scores don't improve for 500 rounds.\n",
      "[500]\ttraining's auc: 0.987175\tvalid_1's auc: 0.932536\n",
      "[1000]\ttraining's auc: 0.99798\tvalid_1's auc: 0.940376\n",
      "[1500]\ttraining's auc: 0.999736\tvalid_1's auc: 0.940994\n",
      "Early stopping, best iteration is:\n",
      "[1439]\ttraining's auc: 0.999658\tvalid_1's auc: 0.941049\n",
      "Fold 2\n"
     ]
    },
    {
     "name": "stderr",
     "output_type": "stream",
     "text": [
      "/home/jinpwa/anaconda3/lib/python3.6/site-packages/lightgbm/basic.py:1247: UserWarning: Using categorical_feature in Dataset.\n",
      "  warnings.warn('Using categorical_feature in Dataset.')\n"
     ]
    },
    {
     "name": "stdout",
     "output_type": "stream",
     "text": [
      "Training until validation scores don't improve for 500 rounds.\n",
      "[500]\ttraining's auc: 0.987807\tvalid_1's auc: 0.931315\n",
      "[1000]\ttraining's auc: 0.998022\tvalid_1's auc: 0.937181\n",
      "[1500]\ttraining's auc: 0.999732\tvalid_1's auc: 0.93737\n",
      "Early stopping, best iteration is:\n",
      "[1327]\ttraining's auc: 0.999455\tvalid_1's auc: 0.937519\n",
      "Fold 3\n"
     ]
    },
    {
     "name": "stderr",
     "output_type": "stream",
     "text": [
      "/home/jinpwa/anaconda3/lib/python3.6/site-packages/lightgbm/basic.py:1247: UserWarning: Using categorical_feature in Dataset.\n",
      "  warnings.warn('Using categorical_feature in Dataset.')\n"
     ]
    },
    {
     "name": "stdout",
     "output_type": "stream",
     "text": [
      "Training until validation scores don't improve for 500 rounds.\n",
      "[500]\ttraining's auc: 0.987172\tvalid_1's auc: 0.947046\n",
      "[1000]\ttraining's auc: 0.997991\tvalid_1's auc: 0.954253\n",
      "[1500]\ttraining's auc: 0.999748\tvalid_1's auc: 0.954671\n",
      "Early stopping, best iteration is:\n",
      "[1265]\ttraining's auc: 0.999314\tvalid_1's auc: 0.954885\n",
      "Fold 4\n"
     ]
    },
    {
     "name": "stderr",
     "output_type": "stream",
     "text": [
      "/home/jinpwa/anaconda3/lib/python3.6/site-packages/lightgbm/basic.py:1247: UserWarning: Using categorical_feature in Dataset.\n",
      "  warnings.warn('Using categorical_feature in Dataset.')\n"
     ]
    },
    {
     "name": "stdout",
     "output_type": "stream",
     "text": [
      "Training until validation scores don't improve for 500 rounds.\n",
      "[500]\ttraining's auc: 0.987164\tvalid_1's auc: 0.923381\n",
      "[1000]\ttraining's auc: 0.997869\tvalid_1's auc: 0.93027\n",
      "[1500]\ttraining's auc: 0.999708\tvalid_1's auc: 0.930685\n",
      "[2000]\ttraining's auc: 0.999971\tvalid_1's auc: 0.930808\n",
      "[2500]\ttraining's auc: 0.999998\tvalid_1's auc: 0.930962\n",
      "[3000]\ttraining's auc: 1\tvalid_1's auc: 0.931062\n",
      "Early stopping, best iteration is:\n",
      "[2730]\ttraining's auc: 1\tvalid_1's auc: 0.931115\n",
      "0.9382275603025836\n",
      "pdc_month_Amt_ratio\n",
      "(590540, 339)\n",
      "Fold 0\n"
     ]
    },
    {
     "name": "stderr",
     "output_type": "stream",
     "text": [
      "/home/jinpwa/anaconda3/lib/python3.6/site-packages/lightgbm/basic.py:1247: UserWarning: Using categorical_feature in Dataset.\n",
      "  warnings.warn('Using categorical_feature in Dataset.')\n"
     ]
    },
    {
     "name": "stdout",
     "output_type": "stream",
     "text": [
      "Training until validation scores don't improve for 500 rounds.\n",
      "[500]\ttraining's auc: 0.986743\tvalid_1's auc: 0.911155\n",
      "[1000]\ttraining's auc: 0.997692\tvalid_1's auc: 0.921624\n",
      "[1500]\ttraining's auc: 0.999676\tvalid_1's auc: 0.924346\n",
      "[2000]\ttraining's auc: 0.999965\tvalid_1's auc: 0.925374\n",
      "[2500]\ttraining's auc: 0.999998\tvalid_1's auc: 0.925528\n",
      "[3000]\ttraining's auc: 1\tvalid_1's auc: 0.925876\n",
      "[3500]\ttraining's auc: 1\tvalid_1's auc: 0.925911\n",
      "[4000]\ttraining's auc: 1\tvalid_1's auc: 0.926168\n",
      "Early stopping, best iteration is:\n",
      "[3825]\ttraining's auc: 1\tvalid_1's auc: 0.926133\n",
      "Fold 1\n"
     ]
    },
    {
     "name": "stderr",
     "output_type": "stream",
     "text": [
      "/home/jinpwa/anaconda3/lib/python3.6/site-packages/lightgbm/basic.py:1247: UserWarning: Using categorical_feature in Dataset.\n",
      "  warnings.warn('Using categorical_feature in Dataset.')\n"
     ]
    },
    {
     "name": "stdout",
     "output_type": "stream",
     "text": [
      "Training until validation scores don't improve for 500 rounds.\n",
      "[500]\ttraining's auc: 0.98738\tvalid_1's auc: 0.931497\n",
      "[1000]\ttraining's auc: 0.998115\tvalid_1's auc: 0.938986\n",
      "[1500]\ttraining's auc: 0.999768\tvalid_1's auc: 0.939432\n",
      "Early stopping, best iteration is:\n",
      "[1330]\ttraining's auc: 0.999521\tvalid_1's auc: 0.939596\n",
      "Fold 2\n"
     ]
    },
    {
     "name": "stderr",
     "output_type": "stream",
     "text": [
      "/home/jinpwa/anaconda3/lib/python3.6/site-packages/lightgbm/basic.py:1247: UserWarning: Using categorical_feature in Dataset.\n",
      "  warnings.warn('Using categorical_feature in Dataset.')\n"
     ]
    },
    {
     "name": "stdout",
     "output_type": "stream",
     "text": [
      "Training until validation scores don't improve for 500 rounds.\n",
      "[500]\ttraining's auc: 0.988039\tvalid_1's auc: 0.931572\n",
      "[1000]\ttraining's auc: 0.998141\tvalid_1's auc: 0.937435\n",
      "[1500]\ttraining's auc: 0.999763\tvalid_1's auc: 0.93692\n",
      "Early stopping, best iteration is:\n",
      "[1028]\ttraining's auc: 0.998331\tvalid_1's auc: 0.937493\n",
      "Fold 3\n"
     ]
    },
    {
     "name": "stderr",
     "output_type": "stream",
     "text": [
      "/home/jinpwa/anaconda3/lib/python3.6/site-packages/lightgbm/basic.py:1247: UserWarning: Using categorical_feature in Dataset.\n",
      "  warnings.warn('Using categorical_feature in Dataset.')\n"
     ]
    },
    {
     "name": "stdout",
     "output_type": "stream",
     "text": [
      "Training until validation scores don't improve for 500 rounds.\n",
      "[500]\ttraining's auc: 0.987414\tvalid_1's auc: 0.947293\n",
      "[1000]\ttraining's auc: 0.998136\tvalid_1's auc: 0.954597\n",
      "[1500]\ttraining's auc: 0.999782\tvalid_1's auc: 0.954755\n",
      "Early stopping, best iteration is:\n",
      "[1261]\ttraining's auc: 0.999373\tvalid_1's auc: 0.95504\n",
      "Fold 4\n"
     ]
    },
    {
     "name": "stderr",
     "output_type": "stream",
     "text": [
      "/home/jinpwa/anaconda3/lib/python3.6/site-packages/lightgbm/basic.py:1247: UserWarning: Using categorical_feature in Dataset.\n",
      "  warnings.warn('Using categorical_feature in Dataset.')\n"
     ]
    },
    {
     "name": "stdout",
     "output_type": "stream",
     "text": [
      "Training until validation scores don't improve for 500 rounds.\n",
      "[500]\ttraining's auc: 0.987374\tvalid_1's auc: 0.924096\n",
      "[1000]\ttraining's auc: 0.997994\tvalid_1's auc: 0.930839\n",
      "[1500]\ttraining's auc: 0.999751\tvalid_1's auc: 0.931202\n",
      "[2000]\ttraining's auc: 0.999977\tvalid_1's auc: 0.930946\n",
      "Early stopping, best iteration is:\n",
      "[1608]\ttraining's auc: 0.999843\tvalid_1's auc: 0.931229\n",
      "0.9378983362927178\n",
      "pdc_addr_Amt_ratio\n",
      "(590540, 339)\n",
      "Fold 0\n"
     ]
    },
    {
     "name": "stderr",
     "output_type": "stream",
     "text": [
      "/home/jinpwa/anaconda3/lib/python3.6/site-packages/lightgbm/basic.py:1247: UserWarning: Using categorical_feature in Dataset.\n",
      "  warnings.warn('Using categorical_feature in Dataset.')\n"
     ]
    },
    {
     "name": "stdout",
     "output_type": "stream",
     "text": [
      "Training until validation scores don't improve for 500 rounds.\n",
      "[500]\ttraining's auc: 0.986715\tvalid_1's auc: 0.910902\n",
      "[1000]\ttraining's auc: 0.997716\tvalid_1's auc: 0.921759\n",
      "[1500]\ttraining's auc: 0.999666\tvalid_1's auc: 0.923917\n",
      "[2000]\ttraining's auc: 0.999962\tvalid_1's auc: 0.924733\n",
      "[2500]\ttraining's auc: 0.999997\tvalid_1's auc: 0.925481\n",
      "[3000]\ttraining's auc: 1\tvalid_1's auc: 0.925842\n",
      "[3500]\ttraining's auc: 1\tvalid_1's auc: 0.926214\n",
      "[4000]\ttraining's auc: 1\tvalid_1's auc: 0.926307\n",
      "Early stopping, best iteration is:\n",
      "[3888]\ttraining's auc: 1\tvalid_1's auc: 0.926276\n",
      "Fold 1\n"
     ]
    },
    {
     "name": "stderr",
     "output_type": "stream",
     "text": [
      "/home/jinpwa/anaconda3/lib/python3.6/site-packages/lightgbm/basic.py:1247: UserWarning: Using categorical_feature in Dataset.\n",
      "  warnings.warn('Using categorical_feature in Dataset.')\n"
     ]
    },
    {
     "name": "stdout",
     "output_type": "stream",
     "text": [
      "Training until validation scores don't improve for 500 rounds.\n",
      "[500]\ttraining's auc: 0.987442\tvalid_1's auc: 0.931389\n",
      "[1000]\ttraining's auc: 0.998112\tvalid_1's auc: 0.938515\n",
      "[1500]\ttraining's auc: 0.999766\tvalid_1's auc: 0.938777\n",
      "Early stopping, best iteration is:\n",
      "[1308]\ttraining's auc: 0.999469\tvalid_1's auc: 0.939011\n",
      "Fold 2\n"
     ]
    },
    {
     "name": "stderr",
     "output_type": "stream",
     "text": [
      "/home/jinpwa/anaconda3/lib/python3.6/site-packages/lightgbm/basic.py:1247: UserWarning: Using categorical_feature in Dataset.\n",
      "  warnings.warn('Using categorical_feature in Dataset.')\n"
     ]
    },
    {
     "name": "stdout",
     "output_type": "stream",
     "text": [
      "Training until validation scores don't improve for 500 rounds.\n",
      "[500]\ttraining's auc: 0.988103\tvalid_1's auc: 0.931611\n",
      "[1000]\ttraining's auc: 0.998141\tvalid_1's auc: 0.937449\n",
      "[1500]\ttraining's auc: 0.999757\tvalid_1's auc: 0.937449\n",
      "Early stopping, best iteration is:\n",
      "[1131]\ttraining's auc: 0.998876\tvalid_1's auc: 0.937637\n",
      "Fold 3\n"
     ]
    },
    {
     "name": "stderr",
     "output_type": "stream",
     "text": [
      "/home/jinpwa/anaconda3/lib/python3.6/site-packages/lightgbm/basic.py:1247: UserWarning: Using categorical_feature in Dataset.\n",
      "  warnings.warn('Using categorical_feature in Dataset.')\n"
     ]
    },
    {
     "name": "stdout",
     "output_type": "stream",
     "text": [
      "Training until validation scores don't improve for 500 rounds.\n",
      "[500]\ttraining's auc: 0.987381\tvalid_1's auc: 0.947506\n",
      "[1000]\ttraining's auc: 0.99812\tvalid_1's auc: 0.954502\n",
      "[1500]\ttraining's auc: 0.999774\tvalid_1's auc: 0.954822\n",
      "Early stopping, best iteration is:\n",
      "[1420]\ttraining's auc: 0.999681\tvalid_1's auc: 0.954966\n",
      "Fold 4\n"
     ]
    },
    {
     "name": "stderr",
     "output_type": "stream",
     "text": [
      "/home/jinpwa/anaconda3/lib/python3.6/site-packages/lightgbm/basic.py:1247: UserWarning: Using categorical_feature in Dataset.\n",
      "  warnings.warn('Using categorical_feature in Dataset.')\n"
     ]
    },
    {
     "name": "stdout",
     "output_type": "stream",
     "text": [
      "Training until validation scores don't improve for 500 rounds.\n",
      "[500]\ttraining's auc: 0.987385\tvalid_1's auc: 0.923626\n",
      "[1000]\ttraining's auc: 0.998003\tvalid_1's auc: 0.930645\n",
      "[1500]\ttraining's auc: 0.999746\tvalid_1's auc: 0.931245\n",
      "[2000]\ttraining's auc: 0.999976\tvalid_1's auc: 0.93134\n",
      "[2500]\ttraining's auc: 0.999999\tvalid_1's auc: 0.931502\n",
      "[3000]\ttraining's auc: 1\tvalid_1's auc: 0.931438\n",
      "Early stopping, best iteration is:\n",
      "[2612]\ttraining's auc: 0.999999\tvalid_1's auc: 0.931576\n",
      "0.9378931872468147\n",
      "addr_Amt_ratio\n",
      "(590540, 339)\n",
      "Fold 0\n"
     ]
    },
    {
     "name": "stderr",
     "output_type": "stream",
     "text": [
      "/home/jinpwa/anaconda3/lib/python3.6/site-packages/lightgbm/basic.py:1247: UserWarning: Using categorical_feature in Dataset.\n",
      "  warnings.warn('Using categorical_feature in Dataset.')\n"
     ]
    },
    {
     "name": "stdout",
     "output_type": "stream",
     "text": [
      "Training until validation scores don't improve for 500 rounds.\n",
      "[500]\ttraining's auc: 0.986793\tvalid_1's auc: 0.910565\n",
      "[1000]\ttraining's auc: 0.997702\tvalid_1's auc: 0.922389\n",
      "[1500]\ttraining's auc: 0.999669\tvalid_1's auc: 0.924595\n",
      "[2000]\ttraining's auc: 0.999962\tvalid_1's auc: 0.925192\n",
      "[2500]\ttraining's auc: 0.999997\tvalid_1's auc: 0.92574\n",
      "[3000]\ttraining's auc: 1\tvalid_1's auc: 0.926145\n",
      "[3500]\ttraining's auc: 1\tvalid_1's auc: 0.926205\n",
      "[4000]\ttraining's auc: 1\tvalid_1's auc: 0.926385\n",
      "Early stopping, best iteration is:\n",
      "[3930]\ttraining's auc: 1\tvalid_1's auc: 0.926402\n",
      "Fold 1\n"
     ]
    },
    {
     "name": "stderr",
     "output_type": "stream",
     "text": [
      "/home/jinpwa/anaconda3/lib/python3.6/site-packages/lightgbm/basic.py:1247: UserWarning: Using categorical_feature in Dataset.\n",
      "  warnings.warn('Using categorical_feature in Dataset.')\n"
     ]
    },
    {
     "name": "stdout",
     "output_type": "stream",
     "text": [
      "Training until validation scores don't improve for 500 rounds.\n",
      "[500]\ttraining's auc: 0.987376\tvalid_1's auc: 0.931649\n",
      "[1000]\ttraining's auc: 0.998111\tvalid_1's auc: 0.939517\n",
      "[1500]\ttraining's auc: 0.999766\tvalid_1's auc: 0.940091\n"
     ]
    },
    {
     "ename": "KeyboardInterrupt",
     "evalue": "",
     "output_type": "error",
     "traceback": [
      "\u001b[0;31m---------------------------------------------------------------------------\u001b[0m",
      "\u001b[0;31mKeyboardInterrupt\u001b[0m                         Traceback (most recent call last)",
      "\u001b[0;32m<ipython-input-56-8f0740e60385>\u001b[0m in \u001b[0;36m<module>\u001b[0;34m()\u001b[0m\n\u001b[1;32m     11\u001b[0m     \u001b[0mprint\u001b[0m\u001b[0;34m(\u001b[0m\u001b[0mfeatures_train_temp\u001b[0m\u001b[0;34m.\u001b[0m\u001b[0mshape\u001b[0m\u001b[0;34m)\u001b[0m\u001b[0;34m\u001b[0m\u001b[0m\n\u001b[1;32m     12\u001b[0m     \u001b[0mcategorical_temp\u001b[0m \u001b[0;34m=\u001b[0m \u001b[0mlist\u001b[0m\u001b[0;34m(\u001b[0m\u001b[0mset\u001b[0m\u001b[0;34m(\u001b[0m\u001b[0mcategorical\u001b[0m\u001b[0;34m)\u001b[0m\u001b[0;34m.\u001b[0m\u001b[0mintersection\u001b[0m\u001b[0;34m(\u001b[0m\u001b[0mfeatures_train_temp\u001b[0m\u001b[0;34m.\u001b[0m\u001b[0mcolumns\u001b[0m\u001b[0;34m)\u001b[0m\u001b[0;34m)\u001b[0m\u001b[0;34m\u001b[0m\u001b[0m\n\u001b[0;32m---> 13\u001b[0;31m     \u001b[0mave_auc\u001b[0m\u001b[0;34m,\u001b[0m\u001b[0mpredictions\u001b[0m \u001b[0;34m=\u001b[0m \u001b[0mfold_train_model\u001b[0m\u001b[0;34m(\u001b[0m\u001b[0;36m5\u001b[0m\u001b[0;34m,\u001b[0m\u001b[0mfeatures_train_temp\u001b[0m\u001b[0;34m,\u001b[0m\u001b[0mlabels_train\u001b[0m\u001b[0;34m,\u001b[0m\u001b[0mcategorical_temp\u001b[0m\u001b[0;34m)\u001b[0m\u001b[0;34m\u001b[0m\u001b[0m\n\u001b[0m\u001b[1;32m     14\u001b[0m     \u001b[0mprint\u001b[0m\u001b[0;34m(\u001b[0m\u001b[0mave_auc\u001b[0m\u001b[0;34m)\u001b[0m\u001b[0;34m\u001b[0m\u001b[0m\n\u001b[1;32m     15\u001b[0m     \u001b[0mid_test\u001b[0m \u001b[0;34m=\u001b[0m \u001b[0mfeatures_test\u001b[0m\u001b[0;34m[\u001b[0m\u001b[0;34m'TransactionID'\u001b[0m\u001b[0;34m]\u001b[0m\u001b[0;34m\u001b[0m\u001b[0m\n",
      "\u001b[0;32m<ipython-input-48-f2c51966c2a0>\u001b[0m in \u001b[0;36mfold_train_model\u001b[0;34m(splits_num, features_train, labels_train, categorical)\u001b[0m\n\u001b[1;32m     21\u001b[0m                         \u001b[0mverbose_eval\u001b[0m\u001b[0;34m=\u001b[0m\u001b[0;36m500\u001b[0m\u001b[0;34m,\u001b[0m\u001b[0;34m\u001b[0m\u001b[0m\n\u001b[1;32m     22\u001b[0m                         \u001b[0mearly_stopping_rounds\u001b[0m\u001b[0;34m=\u001b[0m\u001b[0;36m500\u001b[0m\u001b[0;34m,\u001b[0m\u001b[0;34m\u001b[0m\u001b[0m\n\u001b[0;32m---> 23\u001b[0;31m                        evals_result=valid_results)\n\u001b[0m\u001b[1;32m     24\u001b[0m \u001b[0;34m\u001b[0m\u001b[0m\n\u001b[1;32m     25\u001b[0m         \u001b[0mpred\u001b[0m \u001b[0;34m=\u001b[0m \u001b[0mclf\u001b[0m\u001b[0;34m.\u001b[0m\u001b[0mpredict\u001b[0m\u001b[0;34m(\u001b[0m\u001b[0mvalid_df\u001b[0m\u001b[0;34m)\u001b[0m\u001b[0;34m\u001b[0m\u001b[0m\n",
      "\u001b[0;32m~/anaconda3/lib/python3.6/site-packages/lightgbm/engine.py\u001b[0m in \u001b[0;36mtrain\u001b[0;34m(params, train_set, num_boost_round, valid_sets, valid_names, fobj, feval, init_model, feature_name, categorical_feature, early_stopping_rounds, evals_result, verbose_eval, learning_rates, keep_training_booster, callbacks)\u001b[0m\n\u001b[1;32m    254\u001b[0m             \u001b[0;32mif\u001b[0m \u001b[0mis_valid_contain_train\u001b[0m\u001b[0;34m:\u001b[0m\u001b[0;34m\u001b[0m\u001b[0m\n\u001b[1;32m    255\u001b[0m                 \u001b[0mevaluation_result_list\u001b[0m\u001b[0;34m.\u001b[0m\u001b[0mextend\u001b[0m\u001b[0;34m(\u001b[0m\u001b[0mbooster\u001b[0m\u001b[0;34m.\u001b[0m\u001b[0meval_train\u001b[0m\u001b[0;34m(\u001b[0m\u001b[0mfeval\u001b[0m\u001b[0;34m)\u001b[0m\u001b[0;34m)\u001b[0m\u001b[0;34m\u001b[0m\u001b[0m\n\u001b[0;32m--> 256\u001b[0;31m             \u001b[0mevaluation_result_list\u001b[0m\u001b[0;34m.\u001b[0m\u001b[0mextend\u001b[0m\u001b[0;34m(\u001b[0m\u001b[0mbooster\u001b[0m\u001b[0;34m.\u001b[0m\u001b[0meval_valid\u001b[0m\u001b[0;34m(\u001b[0m\u001b[0mfeval\u001b[0m\u001b[0;34m)\u001b[0m\u001b[0;34m)\u001b[0m\u001b[0;34m\u001b[0m\u001b[0m\n\u001b[0m\u001b[1;32m    257\u001b[0m         \u001b[0;32mtry\u001b[0m\u001b[0;34m:\u001b[0m\u001b[0;34m\u001b[0m\u001b[0m\n\u001b[1;32m    258\u001b[0m             \u001b[0;32mfor\u001b[0m \u001b[0mcb\u001b[0m \u001b[0;32min\u001b[0m \u001b[0mcallbacks_after_iter\u001b[0m\u001b[0;34m:\u001b[0m\u001b[0;34m\u001b[0m\u001b[0m\n",
      "\u001b[0;32m~/anaconda3/lib/python3.6/site-packages/lightgbm/basic.py\u001b[0m in \u001b[0;36meval_valid\u001b[0;34m(self, feval)\u001b[0m\n\u001b[1;32m   2136\u001b[0m             \u001b[0mList\u001b[0m \u001b[0;32mwith\u001b[0m \u001b[0mevaluation\u001b[0m \u001b[0mresults\u001b[0m\u001b[0;34m.\u001b[0m\u001b[0;34m\u001b[0m\u001b[0m\n\u001b[1;32m   2137\u001b[0m         \"\"\"\n\u001b[0;32m-> 2138\u001b[0;31m         return [item for i in range_(1, self.__num_dataset)\n\u001b[0m\u001b[1;32m   2139\u001b[0m                 for item in self.__inner_eval(self.name_valid_sets[i - 1], i, feval)]\n\u001b[1;32m   2140\u001b[0m \u001b[0;34m\u001b[0m\u001b[0m\n",
      "\u001b[0;32m~/anaconda3/lib/python3.6/site-packages/lightgbm/basic.py\u001b[0m in \u001b[0;36m<listcomp>\u001b[0;34m(.0)\u001b[0m\n\u001b[1;32m   2137\u001b[0m         \"\"\"\n\u001b[1;32m   2138\u001b[0m         return [item for i in range_(1, self.__num_dataset)\n\u001b[0;32m-> 2139\u001b[0;31m                 for item in self.__inner_eval(self.name_valid_sets[i - 1], i, feval)]\n\u001b[0m\u001b[1;32m   2140\u001b[0m \u001b[0;34m\u001b[0m\u001b[0m\n\u001b[1;32m   2141\u001b[0m     \u001b[0;32mdef\u001b[0m \u001b[0msave_model\u001b[0m\u001b[0;34m(\u001b[0m\u001b[0mself\u001b[0m\u001b[0;34m,\u001b[0m \u001b[0mfilename\u001b[0m\u001b[0;34m,\u001b[0m \u001b[0mnum_iteration\u001b[0m\u001b[0;34m=\u001b[0m\u001b[0;32mNone\u001b[0m\u001b[0;34m,\u001b[0m \u001b[0mstart_iteration\u001b[0m\u001b[0;34m=\u001b[0m\u001b[0;36m0\u001b[0m\u001b[0;34m)\u001b[0m\u001b[0;34m:\u001b[0m\u001b[0;34m\u001b[0m\u001b[0m\n",
      "\u001b[0;32m~/anaconda3/lib/python3.6/site-packages/lightgbm/basic.py\u001b[0m in \u001b[0;36m__inner_eval\u001b[0;34m(self, data_name, data_idx, feval)\u001b[0m\n\u001b[1;32m   2596\u001b[0m                 \u001b[0mctypes\u001b[0m\u001b[0;34m.\u001b[0m\u001b[0mc_int\u001b[0m\u001b[0;34m(\u001b[0m\u001b[0mdata_idx\u001b[0m\u001b[0;34m)\u001b[0m\u001b[0;34m,\u001b[0m\u001b[0;34m\u001b[0m\u001b[0m\n\u001b[1;32m   2597\u001b[0m                 \u001b[0mctypes\u001b[0m\u001b[0;34m.\u001b[0m\u001b[0mbyref\u001b[0m\u001b[0;34m(\u001b[0m\u001b[0mtmp_out_len\u001b[0m\u001b[0;34m)\u001b[0m\u001b[0;34m,\u001b[0m\u001b[0;34m\u001b[0m\u001b[0m\n\u001b[0;32m-> 2598\u001b[0;31m                 result.ctypes.data_as(ctypes.POINTER(ctypes.c_double))))\n\u001b[0m\u001b[1;32m   2599\u001b[0m             \u001b[0;32mif\u001b[0m \u001b[0mtmp_out_len\u001b[0m\u001b[0;34m.\u001b[0m\u001b[0mvalue\u001b[0m \u001b[0;34m!=\u001b[0m \u001b[0mself\u001b[0m\u001b[0;34m.\u001b[0m\u001b[0m__num_inner_eval\u001b[0m\u001b[0;34m:\u001b[0m\u001b[0;34m\u001b[0m\u001b[0m\n\u001b[1;32m   2600\u001b[0m                 \u001b[0;32mraise\u001b[0m \u001b[0mValueError\u001b[0m\u001b[0;34m(\u001b[0m\u001b[0;34m\"Wrong length of eval results\"\u001b[0m\u001b[0;34m)\u001b[0m\u001b[0;34m\u001b[0m\u001b[0m\n",
      "\u001b[0;31mKeyboardInterrupt\u001b[0m: "
     ]
    }
   ],
   "source": [
    "to_drop = {'pdc_hour_Amt_mean','pdc_hour_Amt_ratio','pdc_amt_ratio',\n",
    "          'pdc_month_Amt_mean','pdc_month_Amt_ratio','card_id_30_fq',\n",
    "          'card_id_31_fq','pdc_addr_Amt_ratio','addr_Amt_ratio','dev_Amt_ratio'}\n",
    "\n",
    "test = ['pdc_month_Amt_mean','pdc_month_Amt_ratio','pdc_addr_Amt_ratio','addr_Amt_ratio']\n",
    "result = []\n",
    "for col in test:\n",
    "    print(col)\n",
    "    to_drop_temp = list(to_drop - set([col]))\n",
    "    features_train_temp = features_train.drop(to_drop_temp,axis=1)\n",
    "    print(features_train_temp.shape)\n",
    "    categorical_temp = list(set(categorical).intersection(features_train_temp.columns))\n",
    "    ave_auc,predictions = fold_train_model(5,features_train_temp,labels_train,categorical_temp)\n",
    "    print(ave_auc)\n",
    "    id_test = features_test['TransactionID']\n",
    "    submission = pd.DataFrame({'TransactionID': id_test, \n",
    "                            'isFraud': predictions})\n",
    "    submission.to_csv('./data/sub_feat%s_drop100_%s_test.csv'%(feat_num,col), index = False)\n",
    "    result.append([col,ave_auc])"
   ]
  },
  {
   "cell_type": "code",
   "execution_count": 52,
   "metadata": {},
   "outputs": [
    {
     "data": {
      "text/plain": [
       "[['pdc_hour_Amt_mean', 0.9380002088591793],\n",
       " ['pdc_month_Amt_ratio', 0.9380738534486257],\n",
       " ['addr_Amt_ratio', 0.9381503901533759],\n",
       " ['pdc_hour_Amt_ratio', 0.9378806075783767],\n",
       " ['pdc_addr_Amt_ratio', 0.9381000559605122],\n",
       " ['dev_Amt_ratio', 0.9383520940351144],\n",
       " ['card_id_31_fq', 0.9380337093537161],\n",
       " ['card_id_30_fq', 0.9380861626171006],\n",
       " ['pdc_month_Amt_mean', 0.9384083713725051]]"
      ]
     },
     "execution_count": 52,
     "metadata": {},
     "output_type": "execute_result"
    }
   ],
   "source": [
    "result"
   ]
  },
  {
   "cell_type": "code",
   "execution_count": 17,
   "metadata": {},
   "outputs": [
    {
     "data": {
      "text/plain": [
       "[['card_DeviceInfo_fq', 0.938143843412518],\n",
       " ['card_DeviceType_fq', 0.9383068452162177],\n",
       " ['card_screen_width_fq', 0.9381135438426036]]"
      ]
     },
     "execution_count": 17,
     "metadata": {},
     "output_type": "execute_result"
    }
   ],
   "source": [
    "result"
   ]
  },
  {
   "cell_type": "code",
   "execution_count": 191,
   "metadata": {},
   "outputs": [
    {
     "data": {
      "text/plain": [
       "[['card5_Amt_ratio', 0.9378145865335745],\n",
       " ['DT_day_Amt_ratio', 0.9378640126104663],\n",
       " ['card4_Amt_ratio', 0.937709725015683],\n",
       " ['card2_Amt_ratio', 0.937458223863788],\n",
       " ['DT_month_Amt_ratio', 0.9377889434647904],\n",
       " ['card6_Amt_ratio', 0.937863676290689],\n",
       " ['DT_hour_Amt_ratio', 0.9377024436406989],\n",
       " ['card3_Amt_ratio', 0.9376937326146639],\n",
       " ['DT_year_Amt_ratio', 0.9379433974493159]]"
      ]
     },
     "execution_count": 191,
     "metadata": {},
     "output_type": "execute_result"
    }
   ],
   "source": [
    "#'DT_hour_Amt_ratio','DT_day_Amt_ratio','DT_month_Amt_ratio',\n",
    "#           'DT_year_Amt_ratio','card2_Amt_ratio',\n",
    "#          'card3_Amt_ratio','card4_Amt_ratio','card5_Amt_ratio','card6_Amt_ratio'\n",
    "result"
   ]
  }
 ],
 "metadata": {
  "kernelspec": {
   "display_name": "Python 3",
   "language": "python",
   "name": "python3"
  },
  "language_info": {
   "codemirror_mode": {
    "name": "ipython",
    "version": 3
   },
   "file_extension": ".py",
   "mimetype": "text/x-python",
   "name": "python",
   "nbconvert_exporter": "python",
   "pygments_lexer": "ipython3",
   "version": "3.6.5"
  }
 },
 "nbformat": 4,
 "nbformat_minor": 2
}
