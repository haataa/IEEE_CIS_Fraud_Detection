{
 "cells": [
  {
   "cell_type": "code",
   "execution_count": 1,
   "metadata": {},
   "outputs": [],
   "source": [
    "# import packages\n",
    "import numpy as np\n",
    "import pandas as pd\n",
    "import matplotlib.pyplot as plt\n",
    "import featuretools as ft\n",
    "import lightgbm as lgb\n",
    "from lightgbm import plot_tree\n",
    "from graphviz import Digraph\n",
    "import seaborn as sns\n",
    "from sklearn.model_selection import GridSearchCV\n",
    "from sklearn.model_selection import KFold\n",
    "from sklearn.metrics import roc_auc_score\n",
    "import time\n",
    "import pickle\n",
    "\n",
    "%matplotlib inline"
   ]
  },
  {
   "cell_type": "markdown",
   "metadata": {},
   "source": [
    "# Load Original Features"
   ]
  },
  {
   "cell_type": "code",
   "execution_count": 175,
   "metadata": {},
   "outputs": [],
   "source": [
    "feat_num = 449"
   ]
  },
  {
   "cell_type": "code",
   "execution_count": 176,
   "metadata": {},
   "outputs": [],
   "source": [
    "#df_total_raw = pd.read_csv('./data/features%s.csv'%(feat_num))\n",
    "with open('./data/features%s.pickle'%(feat_num), 'rb') as handle:\n",
    "    df_total_raw = pickle.load(handle)"
   ]
  },
  {
   "cell_type": "code",
   "execution_count": 177,
   "metadata": {},
   "outputs": [],
   "source": [
    "#to_drop = ['TransactionDT']\n",
    "#to_drop = ['V'+str(i) for i in range(1,340)]\n",
    "with open('./data/feat%s_rm_pm_importance100.pickle'%(437), 'rb') as handle:\n",
    "    to_drop = pickle.load(handle)"
   ]
  },
  {
   "cell_type": "code",
   "execution_count": 178,
   "metadata": {},
   "outputs": [],
   "source": [
    "df_total = df_total_raw.drop(list(to_drop),axis=1)\n",
    "#df_total = df_total_raw"
   ]
  },
  {
   "cell_type": "code",
   "execution_count": 179,
   "metadata": {},
   "outputs": [],
   "source": [
    "features_train = df_total[df_total['isFraud'].notnull()]\n",
    "features_test = df_total[df_total['isFraud'].isnull()]"
   ]
  },
  {
   "cell_type": "code",
   "execution_count": 180,
   "metadata": {},
   "outputs": [],
   "source": [
    "labels_train = features_train['isFraud']\n",
    "features_train = features_train.drop(columns = ['isFraud', 'TransactionID'])"
   ]
  },
  {
   "cell_type": "code",
   "execution_count": 181,
   "metadata": {},
   "outputs": [
    {
     "data": {
      "text/plain": [
       "(590540, 347)"
      ]
     },
     "execution_count": 181,
     "metadata": {},
     "output_type": "execute_result"
    }
   ],
   "source": [
    "features_train.shape"
   ]
  },
  {
   "cell_type": "markdown",
   "metadata": {},
   "source": [
    "# Prepare model"
   ]
  },
  {
   "cell_type": "code",
   "execution_count": 182,
   "metadata": {},
   "outputs": [],
   "source": [
    "categorical = ['ProductCD', 'card2', 'card3', 'card4', 'card5','card6',\n",
    "              'addr1','addr2','P_email','R_email','M1','M2','M3',\n",
    "              'M4','M5','M6','M7','M8','M9','DeviceType','DeviceInfo','dow','hour',\n",
    "              'Device_name','Device_version','screen_width','screen_height',\n",
    "               'P_email_suffix','R_email_suffix','id_30_OS','id_30_version',\n",
    "              'is_card_freq_Device','is_wide','is_long','is_zero','is_win8_vista',\n",
    "              'is_windows_otheros','is_card_freq_pdc','is_card_freq_addr1'] \n",
    "ids = [ 'id_%s'%(i) for i in range(12,39)]\n",
    "categorical = categorical + ids"
   ]
  },
  {
   "cell_type": "code",
   "execution_count": 183,
   "metadata": {},
   "outputs": [],
   "source": [
    "categorical = list(set(categorical).intersection(df_total.columns))"
   ]
  },
  {
   "cell_type": "code",
   "execution_count": 184,
   "metadata": {},
   "outputs": [],
   "source": [
    "features_test_new = features_test.drop(columns = ['isFraud', 'TransactionID'])"
   ]
  },
  {
   "cell_type": "code",
   "execution_count": 185,
   "metadata": {},
   "outputs": [],
   "source": [
    "params = {'num_leaves': 491,\n",
    "          'min_child_weight': 0.03454472573214212,\n",
    "          'feature_fraction': 0.3797454081646243,\n",
    "          'bagging_fraction': 0.4181193142567742,\n",
    "          'min_data_in_leaf': 106,\n",
    "          'objective': 'binary',\n",
    "          'max_depth': -1,\n",
    "          'learning_rate': 0.006883242363721497,\n",
    "          \"boosting_type\":\"gbdt\",#'goss'\n",
    "          \"bagging_seed\": 11,\n",
    "          \"metric\": 'auc',\n",
    "          \"verbosity\": -1,\n",
    "          'reg_alpha': 0.3899927210061127,\n",
    "          'reg_lambda': 0.6485237330340494,\n",
    "          'random_state': 47\n",
    "          #'num_threads':10\n",
    "          #'device' :'gpu',\n",
    "          #'is_unbalance':True\n",
    "          #'scale_pos_weight':9\n",
    "         }"
   ]
  },
  {
   "cell_type": "markdown",
   "metadata": {},
   "source": [
    "# Feature Selection"
   ]
  },
  {
   "cell_type": "code",
   "execution_count": 186,
   "metadata": {},
   "outputs": [
    {
     "data": {
      "text/html": [
       "<div>\n",
       "<style scoped>\n",
       "    .dataframe tbody tr th:only-of-type {\n",
       "        vertical-align: middle;\n",
       "    }\n",
       "\n",
       "    .dataframe tbody tr th {\n",
       "        vertical-align: top;\n",
       "    }\n",
       "\n",
       "    .dataframe thead th {\n",
       "        text-align: right;\n",
       "    }\n",
       "</style>\n",
       "<table border=\"1\" class=\"dataframe\">\n",
       "  <thead>\n",
       "    <tr style=\"text-align: right;\">\n",
       "      <th></th>\n",
       "      <th>TransactionDT</th>\n",
       "      <th>TransactionAmt</th>\n",
       "      <th>ProductCD</th>\n",
       "      <th>card1</th>\n",
       "      <th>card2</th>\n",
       "      <th>card3</th>\n",
       "      <th>card4</th>\n",
       "      <th>card5</th>\n",
       "      <th>card6</th>\n",
       "      <th>addr1</th>\n",
       "      <th>...</th>\n",
       "      <th>DT_hour_Amt_ratio</th>\n",
       "      <th>DT_day_Amt_ratio</th>\n",
       "      <th>DT_month_Amt_ratio</th>\n",
       "      <th>DT_year_Amt_ratio</th>\n",
       "      <th>card2_Amt_ratio</th>\n",
       "      <th>card3_Amt_ratio</th>\n",
       "      <th>card4_Amt_ratio</th>\n",
       "      <th>card5_Amt_ratio</th>\n",
       "      <th>card6_Amt_ratio</th>\n",
       "      <th>card1_Amt_ratio</th>\n",
       "    </tr>\n",
       "  </thead>\n",
       "  <tbody>\n",
       "    <tr>\n",
       "      <td>0</td>\n",
       "      <td>86400</td>\n",
       "      <td>68.5</td>\n",
       "      <td>0</td>\n",
       "      <td>13926</td>\n",
       "      <td>NaN</td>\n",
       "      <td>150.0</td>\n",
       "      <td>0</td>\n",
       "      <td>142.0</td>\n",
       "      <td>0</td>\n",
       "      <td>315.0</td>\n",
       "      <td>...</td>\n",
       "      <td>0.559894</td>\n",
       "      <td>0.497429</td>\n",
       "      <td>0.535480</td>\n",
       "      <td>0.535284</td>\n",
       "      <td>NaN</td>\n",
       "      <td>0.463924</td>\n",
       "      <td>0.286795</td>\n",
       "      <td>0.369798</td>\n",
       "      <td>0.353156</td>\n",
       "      <td>0.216382</td>\n",
       "    </tr>\n",
       "    <tr>\n",
       "      <td>1</td>\n",
       "      <td>86401</td>\n",
       "      <td>29.0</td>\n",
       "      <td>0</td>\n",
       "      <td>2755</td>\n",
       "      <td>404.0</td>\n",
       "      <td>150.0</td>\n",
       "      <td>1</td>\n",
       "      <td>102.0</td>\n",
       "      <td>0</td>\n",
       "      <td>325.0</td>\n",
       "      <td>...</td>\n",
       "      <td>0.237035</td>\n",
       "      <td>0.210590</td>\n",
       "      <td>0.226700</td>\n",
       "      <td>0.226617</td>\n",
       "      <td>0.127693</td>\n",
       "      <td>0.196406</td>\n",
       "      <td>0.219906</td>\n",
       "      <td>0.136282</td>\n",
       "      <td>0.149511</td>\n",
       "      <td>0.136116</td>\n",
       "    </tr>\n",
       "    <tr>\n",
       "      <td>2</td>\n",
       "      <td>86469</td>\n",
       "      <td>59.0</td>\n",
       "      <td>0</td>\n",
       "      <td>4663</td>\n",
       "      <td>490.0</td>\n",
       "      <td>150.0</td>\n",
       "      <td>2</td>\n",
       "      <td>166.0</td>\n",
       "      <td>1</td>\n",
       "      <td>330.0</td>\n",
       "      <td>...</td>\n",
       "      <td>0.482244</td>\n",
       "      <td>0.428442</td>\n",
       "      <td>0.461216</td>\n",
       "      <td>0.461048</td>\n",
       "      <td>0.433251</td>\n",
       "      <td>0.399584</td>\n",
       "      <td>0.440785</td>\n",
       "      <td>0.597317</td>\n",
       "      <td>0.509897</td>\n",
       "      <td>0.562564</td>\n",
       "    </tr>\n",
       "    <tr>\n",
       "      <td>3</td>\n",
       "      <td>86499</td>\n",
       "      <td>50.0</td>\n",
       "      <td>0</td>\n",
       "      <td>18132</td>\n",
       "      <td>567.0</td>\n",
       "      <td>150.0</td>\n",
       "      <td>1</td>\n",
       "      <td>117.0</td>\n",
       "      <td>1</td>\n",
       "      <td>476.0</td>\n",
       "      <td>...</td>\n",
       "      <td>0.408682</td>\n",
       "      <td>0.363087</td>\n",
       "      <td>0.390861</td>\n",
       "      <td>0.390719</td>\n",
       "      <td>0.374171</td>\n",
       "      <td>0.338631</td>\n",
       "      <td>0.379149</td>\n",
       "      <td>0.401963</td>\n",
       "      <td>0.432116</td>\n",
       "      <td>0.413364</td>\n",
       "    </tr>\n",
       "    <tr>\n",
       "      <td>4</td>\n",
       "      <td>86506</td>\n",
       "      <td>50.0</td>\n",
       "      <td>1</td>\n",
       "      <td>4497</td>\n",
       "      <td>514.0</td>\n",
       "      <td>150.0</td>\n",
       "      <td>1</td>\n",
       "      <td>102.0</td>\n",
       "      <td>0</td>\n",
       "      <td>420.0</td>\n",
       "      <td>...</td>\n",
       "      <td>0.408682</td>\n",
       "      <td>0.363087</td>\n",
       "      <td>0.390861</td>\n",
       "      <td>0.390719</td>\n",
       "      <td>0.223443</td>\n",
       "      <td>0.338631</td>\n",
       "      <td>0.379149</td>\n",
       "      <td>0.234969</td>\n",
       "      <td>0.257778</td>\n",
       "      <td>0.500943</td>\n",
       "    </tr>\n",
       "  </tbody>\n",
       "</table>\n",
       "<p>5 rows × 347 columns</p>\n",
       "</div>"
      ],
      "text/plain": [
       "   TransactionDT  TransactionAmt  ProductCD  card1  card2  card3  card4  \\\n",
       "0          86400            68.5          0  13926    NaN  150.0      0   \n",
       "1          86401            29.0          0   2755  404.0  150.0      1   \n",
       "2          86469            59.0          0   4663  490.0  150.0      2   \n",
       "3          86499            50.0          0  18132  567.0  150.0      1   \n",
       "4          86506            50.0          1   4497  514.0  150.0      1   \n",
       "\n",
       "   card5  card6  addr1  ...  DT_hour_Amt_ratio  DT_day_Amt_ratio  \\\n",
       "0  142.0      0  315.0  ...           0.559894          0.497429   \n",
       "1  102.0      0  325.0  ...           0.237035          0.210590   \n",
       "2  166.0      1  330.0  ...           0.482244          0.428442   \n",
       "3  117.0      1  476.0  ...           0.408682          0.363087   \n",
       "4  102.0      0  420.0  ...           0.408682          0.363087   \n",
       "\n",
       "   DT_month_Amt_ratio  DT_year_Amt_ratio  card2_Amt_ratio  card3_Amt_ratio  \\\n",
       "0            0.535480           0.535284              NaN         0.463924   \n",
       "1            0.226700           0.226617         0.127693         0.196406   \n",
       "2            0.461216           0.461048         0.433251         0.399584   \n",
       "3            0.390861           0.390719         0.374171         0.338631   \n",
       "4            0.390861           0.390719         0.223443         0.338631   \n",
       "\n",
       "   card4_Amt_ratio  card5_Amt_ratio  card6_Amt_ratio  card1_Amt_ratio  \n",
       "0         0.286795         0.369798         0.353156         0.216382  \n",
       "1         0.219906         0.136282         0.149511         0.136116  \n",
       "2         0.440785         0.597317         0.509897         0.562564  \n",
       "3         0.379149         0.401963         0.432116         0.413364  \n",
       "4         0.379149         0.234969         0.257778         0.500943  \n",
       "\n",
       "[5 rows x 347 columns]"
      ]
     },
     "execution_count": 186,
     "metadata": {},
     "output_type": "execute_result"
    }
   ],
   "source": [
    "features_train.head()"
   ]
  },
  {
   "cell_type": "code",
   "execution_count": null,
   "metadata": {},
   "outputs": [],
   "source": [
    "start = time.time()\n",
    "train_set = lgb.Dataset(features_train.iloc[0:472432,:], label=labels_train.values[0:472432],categorical_feature=categorical)#\n",
    "valid_set = lgb.Dataset(features_train.iloc[472432:,:], label=labels_train.values[472432:],categorical_feature=categorical)#\n",
    "valid_results = {}\n",
    "model = lgb.train(params,train_set,num_boost_round = 10000, \n",
    "                  valid_sets = [train_set, valid_set],\n",
    "                  verbose_eval=500,\n",
    "                  early_stopping_rounds = 500,\n",
    "                  evals_result=valid_results)\n",
    "print(time.time()-start)"
   ]
  },
  {
   "cell_type": "code",
   "execution_count": null,
   "metadata": {},
   "outputs": [],
   "source": [
    "max(valid_results['valid_1']['auc'])"
   ]
  },
  {
   "cell_type": "code",
   "execution_count": null,
   "metadata": {},
   "outputs": [],
   "source": [
    "lgb.plot_importance(model, max_num_features=128,figsize=(20,15))"
   ]
  },
  {
   "cell_type": "code",
   "execution_count": null,
   "metadata": {},
   "outputs": [],
   "source": [
    "#lgb.plot_split_value_histogram(model, feature='dist1', bins='auto')\n",
    "lgb.plot_metric(valid_results, metric='auc')"
   ]
  },
  {
   "cell_type": "code",
   "execution_count": null,
   "metadata": {},
   "outputs": [],
   "source": [
    "lgb.plot_tree(model,tree_index=0, figsize=(107,105))\n",
    "graph = lgb.create_tree_digraph(model, tree_index=0, name='Tree0')\n",
    "graph.render(view=True)"
   ]
  },
  {
   "cell_type": "markdown",
   "metadata": {},
   "source": [
    "# Train Model"
   ]
  },
  {
   "cell_type": "code",
   "execution_count": 188,
   "metadata": {},
   "outputs": [],
   "source": [
    "def fold_train_model(splits_num,features_train,labels_train,categorical):\n",
    "    splits = splits_num\n",
    "    folds = KFold(n_splits = splits,random_state=50)\n",
    "    predictions = np.zeros(len(features_test_new))\n",
    "    ave_auc = 0\n",
    "    \n",
    "    for fold_num, (trn_idx, val_idx) in enumerate(folds.split(features_train.values, \n",
    "                                                          labels_train.values)):\n",
    "        print(\"Fold {}\".format(fold_num))\n",
    "        train_df, y_train_df = features_train.iloc[trn_idx], labels_train.iloc[trn_idx]\n",
    "        valid_df, y_valid_df = features_train.iloc[val_idx], labels_train.iloc[val_idx]\n",
    "\n",
    "        trn_data = lgb.Dataset(train_df, label=y_train_df,categorical_feature=categorical)\n",
    "        val_data = lgb.Dataset(valid_df, label=y_valid_df,categorical_feature=categorical)\n",
    "\n",
    "        valid_results = {}\n",
    "        clf = lgb.train(params,\n",
    "                        trn_data,\n",
    "                        10000,\n",
    "                        valid_sets = [trn_data, val_data],\n",
    "                        verbose_eval=500,\n",
    "                        early_stopping_rounds=500,\n",
    "                       evals_result=valid_results)\n",
    "\n",
    "        pred = clf.predict(valid_df)\n",
    "        auc_score = roc_auc_score(y_valid_df, pred)\n",
    "        ave_auc += auc_score / splits\n",
    "        predictions += clf.predict(features_test_new) / splits\n",
    "    return ave_auc,predictions"
   ]
  },
  {
   "cell_type": "code",
   "execution_count": null,
   "metadata": {},
   "outputs": [],
   "source": [
    "ave_auc,predictions = fold_train_model(5,features_train,labels_train,categorical)"
   ]
  },
  {
   "cell_type": "code",
   "execution_count": 172,
   "metadata": {},
   "outputs": [],
   "source": [
    "splits = 5\n",
    "folds = KFold(n_splits = splits,random_state=50)\n",
    "predictions = np.zeros(len(features_test_new))\n",
    "ave_auc = 0"
   ]
  },
  {
   "cell_type": "code",
   "execution_count": null,
   "metadata": {},
   "outputs": [],
   "source": [
    "for fold_num, (trn_idx, val_idx) in enumerate(folds.split(features_train.values, \n",
    "                                                          labels_train.values)):\n",
    "    print(\"Fold {}\".format(fold_num))\n",
    "    train_df, y_train_df = features_train.iloc[trn_idx], labels_train.iloc[trn_idx]\n",
    "    valid_df, y_valid_df = features_train.iloc[val_idx], labels_train.iloc[val_idx]\n",
    "    \n",
    "    trn_data = lgb.Dataset(train_df, label=y_train_df,categorical_feature=categorical)\n",
    "    val_data = lgb.Dataset(valid_df, label=y_valid_df,categorical_feature=categorical)\n",
    "    \n",
    "    valid_results = {}\n",
    "    clf = lgb.train(params,\n",
    "                    trn_data,\n",
    "                    10000,\n",
    "                    valid_sets = [trn_data, val_data],\n",
    "                    verbose_eval=500,\n",
    "                    early_stopping_rounds=500,\n",
    "                   evals_result=valid_results)\n",
    "    \n",
    "    pred = clf.predict(valid_df)\n",
    "    auc_score = roc_auc_score(y_valid_df, pred)\n",
    "    ave_auc += auc_score / splits\n",
    "    predictions += clf.predict(features_test_new) / splits"
   ]
  },
  {
   "cell_type": "code",
   "execution_count": 174,
   "metadata": {},
   "outputs": [
    {
     "data": {
      "text/plain": [
       "0.9381709259349416"
      ]
     },
     "execution_count": 174,
     "metadata": {},
     "output_type": "execute_result"
    }
   ],
   "source": [
    "# feat440 add id_31_fq_enc\n",
    "ave_auc"
   ]
  },
  {
   "cell_type": "code",
   "execution_count": 159,
   "metadata": {},
   "outputs": [
    {
     "data": {
      "text/plain": [
       "0.9380367451399003"
      ]
     },
     "execution_count": 159,
     "metadata": {},
     "output_type": "execute_result"
    }
   ],
   "source": [
    "# feat440 add id_30_fq_enc\n",
    "ave_auc"
   ]
  },
  {
   "cell_type": "code",
   "execution_count": 128,
   "metadata": {},
   "outputs": [
    {
     "data": {
      "text/plain": [
       "0.9380337132311257"
      ]
     },
     "execution_count": 128,
     "metadata": {},
     "output_type": "execute_result"
    }
   ],
   "source": [
    "# feat439 change device info\n",
    "ave_auc"
   ]
  },
  {
   "cell_type": "code",
   "execution_count": 112,
   "metadata": {},
   "outputs": [
    {
     "data": {
      "text/plain": [
       "0.9382558553226678"
      ]
     },
     "execution_count": 112,
     "metadata": {},
     "output_type": "execute_result"
    }
   ],
   "source": [
    "# feat439 add card_mv_day_fq\n",
    "ave_auc"
   ]
  },
  {
   "cell_type": "code",
   "execution_count": 97,
   "metadata": {},
   "outputs": [
    {
     "data": {
      "text/plain": [
       "0.9378070966039451"
      ]
     },
     "execution_count": 97,
     "metadata": {},
     "output_type": "execute_result"
    }
   ],
   "source": [
    "# feat441 drop card4_fraud_rate and pemail fraud rate\n",
    "ave_auc"
   ]
  },
  {
   "cell_type": "code",
   "execution_count": 73,
   "metadata": {},
   "outputs": [
    {
     "data": {
      "text/plain": [
       "0.9375985902362556"
      ]
     },
     "execution_count": 73,
     "metadata": {},
     "output_type": "execute_result"
    }
   ],
   "source": [
    "# feat441 drop feat437_rm_pm_importance100 drop hour amt and card4_fraud_rate\n",
    "ave_auc"
   ]
  },
  {
   "cell_type": "code",
   "execution_count": 61,
   "metadata": {},
   "outputs": [
    {
     "data": {
      "text/plain": [
       "0.9375681374967423"
      ]
     },
     "execution_count": 61,
     "metadata": {},
     "output_type": "execute_result"
    }
   ],
   "source": [
    "# feat441 drop feat437_rm_pm_importance100 drop hour amt\n",
    "ave_auc"
   ]
  },
  {
   "cell_type": "code",
   "execution_count": 46,
   "metadata": {},
   "outputs": [
    {
     "data": {
      "text/plain": [
       "0.9375681381106405"
      ]
     },
     "execution_count": 46,
     "metadata": {},
     "output_type": "execute_result"
    }
   ],
   "source": [
    "# feat441 drop feat437_rm_pm_importance100 \n",
    "ave_auc"
   ]
  },
  {
   "cell_type": "code",
   "execution_count": 17,
   "metadata": {},
   "outputs": [
    {
     "data": {
      "text/plain": [
       "0.9378057475398072"
      ]
     },
     "execution_count": 17,
     "metadata": {},
     "output_type": "execute_result"
    }
   ],
   "source": [
    "# feat438 add addr1 cnt drop feat437_rm_pm_importance100\n",
    "ave_auc"
   ]
  },
  {
   "cell_type": "code",
   "execution_count": 34,
   "metadata": {},
   "outputs": [
    {
     "data": {
      "text/plain": [
       "0.9372995256863785"
      ]
     },
     "execution_count": 34,
     "metadata": {},
     "output_type": "execute_result"
    }
   ],
   "source": [
    "# feat437 add card1 cnt drop feat437_rm_pm_importance100\n",
    "ave_auc"
   ]
  },
  {
   "cell_type": "code",
   "execution_count": 17,
   "metadata": {},
   "outputs": [
    {
     "data": {
      "text/plain": [
       "0.9347757078114228"
      ]
     },
     "execution_count": 17,
     "metadata": {},
     "output_type": "execute_result"
    }
   ],
   "source": [
    "# feat437 add card1 cnt drop transactionDT\n",
    "ave_auc"
   ]
  },
  {
   "cell_type": "code",
   "execution_count": 68,
   "metadata": {},
   "outputs": [
    {
     "data": {
      "text/plain": [
       "0.9371691266159269"
      ]
     },
     "execution_count": 68,
     "metadata": {},
     "output_type": "execute_result"
    }
   ],
   "source": [
    "# feat437 add card1 cnt\n",
    "ave_auc"
   ]
  },
  {
   "cell_type": "code",
   "execution_count": 33,
   "metadata": {},
   "outputs": [
    {
     "data": {
      "text/plain": [
       "0.9360835858343227"
      ]
     },
     "execution_count": 33,
     "metadata": {},
     "output_type": "execute_result"
    }
   ],
   "source": [
    "# feat436 add pdc amt ratio\n",
    "ave_auc"
   ]
  },
  {
   "cell_type": "code",
   "execution_count": 31,
   "metadata": {},
   "outputs": [
    {
     "data": {
      "text/plain": [
       "0.9320555176749314"
      ]
     },
     "execution_count": 31,
     "metadata": {},
     "output_type": "execute_result"
    }
   ],
   "source": [
    "# feat457 drop Vfeature\n",
    "ave_auc"
   ]
  },
  {
   "cell_type": "code",
   "execution_count": 16,
   "metadata": {},
   "outputs": [
    {
     "data": {
      "text/plain": [
       "0.9354828335082059"
      ]
     },
     "execution_count": 16,
     "metadata": {},
     "output_type": "execute_result"
    }
   ],
   "source": [
    "# feat 457 drop c8\n",
    "ave_auc"
   ]
  },
  {
   "cell_type": "code",
   "execution_count": 19,
   "metadata": {},
   "outputs": [
    {
     "data": {
      "text/plain": [
       "0.9352800271384787"
      ]
     },
     "execution_count": 19,
     "metadata": {},
     "output_type": "execute_result"
    }
   ],
   "source": [
    "# feat 457 all features\n",
    "ave_auc"
   ]
  },
  {
   "cell_type": "code",
   "execution_count": 113,
   "metadata": {},
   "outputs": [],
   "source": [
    "id_test = features_test['TransactionID']\n",
    "submission = pd.DataFrame({'TransactionID': id_test, \n",
    "                            'isFraud': predictions})\n",
    "submission.to_csv('./data/sub_feat%s_drop100.csv'%(feat_num), index = False)\n"
   ]
  },
  {
   "cell_type": "markdown",
   "metadata": {},
   "source": [
    "# Recursive Test"
   ]
  },
  {
   "cell_type": "code",
   "execution_count": null,
   "metadata": {},
   "outputs": [
    {
     "name": "stdout",
     "output_type": "stream",
     "text": [
      "card5_Amt_ratio\n",
      "(590540, 339)\n",
      "Fold 0\n"
     ]
    },
    {
     "name": "stderr",
     "output_type": "stream",
     "text": [
      "/home/jinpwa/anaconda3/lib/python3.6/site-packages/lightgbm/basic.py:1247: UserWarning: Using categorical_feature in Dataset.\n",
      "  warnings.warn('Using categorical_feature in Dataset.')\n"
     ]
    },
    {
     "name": "stdout",
     "output_type": "stream",
     "text": [
      "Training until validation scores don't improve for 500 rounds.\n",
      "[500]\ttraining's auc: 0.986856\tvalid_1's auc: 0.909957\n",
      "[1000]\ttraining's auc: 0.997807\tvalid_1's auc: 0.920558\n",
      "[1500]\ttraining's auc: 0.9997\tvalid_1's auc: 0.923135\n"
     ]
    }
   ],
   "source": [
    "to_drop = {'DT_hour_Amt_ratio','DT_day_Amt_ratio','DT_month_Amt_ratio',\n",
    "           'DT_year_Amt_ratio','card2_Amt_ratio',\n",
    "          'card3_Amt_ratio','card4_Amt_ratio','card5_Amt_ratio','card6_Amt_ratio'}\n",
    "result = []\n",
    "for col in to_drop:\n",
    "    print(col)\n",
    "    to_drop_temp = list(to_drop - set([col]))\n",
    "    features_train_temp = features_train.drop(to_drop_temp,axis=1)\n",
    "    print(features_train_temp.shape)\n",
    "    categorical_temp = list(set(categorical).intersection(features_train_temp.columns))\n",
    "    ave_auc,predictions = fold_train_model(5,features_train_temp,labels_train,categorical_temp)\n",
    "    print(ave_auc)\n",
    "    result.append([col,ave_auc])"
   ]
  }
 ],
 "metadata": {
  "kernelspec": {
   "display_name": "Python 3",
   "language": "python",
   "name": "python3"
  },
  "language_info": {
   "codemirror_mode": {
    "name": "ipython",
    "version": 3
   },
   "file_extension": ".py",
   "mimetype": "text/x-python",
   "name": "python",
   "nbconvert_exporter": "python",
   "pygments_lexer": "ipython3",
   "version": "3.6.5"
  }
 },
 "nbformat": 4,
 "nbformat_minor": 2
}
