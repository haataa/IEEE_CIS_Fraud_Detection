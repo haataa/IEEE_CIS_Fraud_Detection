{
 "cells": [
  {
   "cell_type": "code",
   "execution_count": 1,
   "metadata": {},
   "outputs": [],
   "source": [
    "# import packages\n",
    "import numpy as np\n",
    "import pandas as pd\n",
    "import matplotlib.pyplot as plt\n",
    "import featuretools as ft\n",
    "import lightgbm as lgb\n",
    "from lightgbm import plot_tree\n",
    "from graphviz import Digraph\n",
    "import seaborn as sns\n",
    "from sklearn.model_selection import GridSearchCV\n",
    "from sklearn.model_selection import KFold\n",
    "from sklearn.metrics import roc_auc_score\n",
    "import time\n",
    "import pickle\n",
    "\n",
    "%matplotlib inline"
   ]
  },
  {
   "cell_type": "markdown",
   "metadata": {},
   "source": [
    "# Load Original Features"
   ]
  },
  {
   "cell_type": "code",
   "execution_count": 36,
   "metadata": {},
   "outputs": [],
   "source": [
    "feat_num = 450"
   ]
  },
  {
   "cell_type": "code",
   "execution_count": 37,
   "metadata": {},
   "outputs": [],
   "source": [
    "#df_total_raw = pd.read_csv('./data/features%s.csv'%(feat_num))\n",
    "with open('./data/features%s.pickle'%(feat_num), 'rb') as handle:\n",
    "    df_total_raw = pickle.load(handle)"
   ]
  },
  {
   "cell_type": "code",
   "execution_count": 38,
   "metadata": {},
   "outputs": [],
   "source": [
    "#to_drop = ['TransactionDT']\n",
    "#to_drop = ['V'+str(i) for i in range(1,340)]\n",
    "with open('./data/feat%s_rm_pm_importance100.pickle'%(437), 'rb') as handle:\n",
    "    to_drop = pickle.load(handle)"
   ]
  },
  {
   "cell_type": "code",
   "execution_count": 39,
   "metadata": {},
   "outputs": [],
   "source": [
    "df_total = df_total_raw.drop(list(to_drop),axis=1)\n",
    "#df_total = df_total_raw"
   ]
  },
  {
   "cell_type": "code",
   "execution_count": 40,
   "metadata": {},
   "outputs": [],
   "source": [
    "features_train = df_total[df_total['isFraud'].notnull()]\n",
    "features_test = df_total[df_total['isFraud'].isnull()]"
   ]
  },
  {
   "cell_type": "code",
   "execution_count": 41,
   "metadata": {},
   "outputs": [],
   "source": [
    "labels_train = features_train['isFraud']\n",
    "features_train = features_train.drop(columns = ['isFraud', 'TransactionID'])"
   ]
  },
  {
   "cell_type": "code",
   "execution_count": 42,
   "metadata": {},
   "outputs": [
    {
     "data": {
      "text/plain": [
       "(590540, 348)"
      ]
     },
     "execution_count": 42,
     "metadata": {},
     "output_type": "execute_result"
    }
   ],
   "source": [
    "features_train.shape"
   ]
  },
  {
   "cell_type": "markdown",
   "metadata": {},
   "source": [
    "# Prepare model"
   ]
  },
  {
   "cell_type": "code",
   "execution_count": 43,
   "metadata": {},
   "outputs": [],
   "source": [
    "categorical = ['ProductCD', 'card2', 'card3', 'card4', 'card5','card6',\n",
    "              'addr1','addr2','P_email','R_email','M1','M2','M3',\n",
    "              'M4','M5','M6','M7','M8','M9','DeviceType','DeviceInfo','dow','hour',\n",
    "              'Device_name','Device_version','screen_width','screen_height',\n",
    "               'P_email_suffix','R_email_suffix','id_30_OS','id_30_version',\n",
    "              'is_card_freq_Device','is_wide','is_long','is_zero','is_win8_vista',\n",
    "              'is_windows_otheros','is_card_freq_pdc','is_card_freq_addr1'] \n",
    "ids = [ 'id_%s'%(i) for i in range(12,39)]\n",
    "categorical = categorical + ids"
   ]
  },
  {
   "cell_type": "code",
   "execution_count": 44,
   "metadata": {},
   "outputs": [],
   "source": [
    "categorical = list(set(categorical).intersection(df_total.columns))"
   ]
  },
  {
   "cell_type": "code",
   "execution_count": 45,
   "metadata": {},
   "outputs": [],
   "source": [
    "features_test_new = features_test.drop(columns = ['isFraud', 'TransactionID'])"
   ]
  },
  {
   "cell_type": "code",
   "execution_count": 46,
   "metadata": {},
   "outputs": [],
   "source": [
    "params = {'num_leaves': 491,\n",
    "          'min_child_weight': 0.03454472573214212,\n",
    "          'feature_fraction': 0.3797454081646243,\n",
    "          'bagging_fraction': 0.4181193142567742,\n",
    "          'min_data_in_leaf': 106,\n",
    "          'objective': 'binary',\n",
    "          'max_depth': -1,\n",
    "          'learning_rate': 0.006883242363721497,\n",
    "          \"boosting_type\":\"gbdt\",#'goss'\n",
    "          \"bagging_seed\": 11,\n",
    "          \"metric\": 'auc',\n",
    "          \"verbosity\": -1,\n",
    "          'reg_alpha': 0.3899927210061127,\n",
    "          'reg_lambda': 0.6485237330340494,\n",
    "          'random_state': 47\n",
    "          #'num_threads':10\n",
    "          #'device' :'gpu',\n",
    "          #'is_unbalance':True\n",
    "          #'scale_pos_weight':9\n",
    "         }"
   ]
  },
  {
   "cell_type": "markdown",
   "metadata": {},
   "source": [
    "# Feature Selection"
   ]
  },
  {
   "cell_type": "code",
   "execution_count": 47,
   "metadata": {},
   "outputs": [
    {
     "data": {
      "text/html": [
       "<div>\n",
       "<style scoped>\n",
       "    .dataframe tbody tr th:only-of-type {\n",
       "        vertical-align: middle;\n",
       "    }\n",
       "\n",
       "    .dataframe tbody tr th {\n",
       "        vertical-align: top;\n",
       "    }\n",
       "\n",
       "    .dataframe thead th {\n",
       "        text-align: right;\n",
       "    }\n",
       "</style>\n",
       "<table border=\"1\" class=\"dataframe\">\n",
       "  <thead>\n",
       "    <tr style=\"text-align: right;\">\n",
       "      <th></th>\n",
       "      <th>TransactionDT</th>\n",
       "      <th>TransactionAmt</th>\n",
       "      <th>ProductCD</th>\n",
       "      <th>card1</th>\n",
       "      <th>card2</th>\n",
       "      <th>card3</th>\n",
       "      <th>card4</th>\n",
       "      <th>card5</th>\n",
       "      <th>card6</th>\n",
       "      <th>addr1</th>\n",
       "      <th>...</th>\n",
       "      <th>pdc_hour_Amt_mean</th>\n",
       "      <th>pdc_hour_Amt_ratio</th>\n",
       "      <th>pdc_month_Amt_mean</th>\n",
       "      <th>pdc_month_Amt_ratio</th>\n",
       "      <th>card_id_30_fq</th>\n",
       "      <th>card_id_31_fq</th>\n",
       "      <th>pdc_addr_Amt_ratio</th>\n",
       "      <th>addr_Amt_ratio</th>\n",
       "      <th>dev_Amt_ratio</th>\n",
       "      <th>pemail_Amt_ratio</th>\n",
       "    </tr>\n",
       "  </thead>\n",
       "  <tbody>\n",
       "    <tr>\n",
       "      <td>590535</td>\n",
       "      <td>15811047</td>\n",
       "      <td>49.00</td>\n",
       "      <td>0</td>\n",
       "      <td>6550</td>\n",
       "      <td>NaN</td>\n",
       "      <td>150.0</td>\n",
       "      <td>2</td>\n",
       "      <td>226.0</td>\n",
       "      <td>1</td>\n",
       "      <td>272.0</td>\n",
       "      <td>...</td>\n",
       "      <td>210.348027</td>\n",
       "      <td>0.232947</td>\n",
       "      <td>153.994609</td>\n",
       "      <td>0.318193</td>\n",
       "      <td>NaN</td>\n",
       "      <td>NaN</td>\n",
       "      <td>0.363135</td>\n",
       "      <td>0.371070</td>\n",
       "      <td>NaN</td>\n",
       "      <td>NaN</td>\n",
       "    </tr>\n",
       "    <tr>\n",
       "      <td>590536</td>\n",
       "      <td>15811049</td>\n",
       "      <td>39.50</td>\n",
       "      <td>0</td>\n",
       "      <td>10444</td>\n",
       "      <td>225.0</td>\n",
       "      <td>150.0</td>\n",
       "      <td>1</td>\n",
       "      <td>224.0</td>\n",
       "      <td>1</td>\n",
       "      <td>204.0</td>\n",
       "      <td>...</td>\n",
       "      <td>210.348027</td>\n",
       "      <td>0.187784</td>\n",
       "      <td>153.994609</td>\n",
       "      <td>0.256502</td>\n",
       "      <td>NaN</td>\n",
       "      <td>NaN</td>\n",
       "      <td>0.257036</td>\n",
       "      <td>0.259945</td>\n",
       "      <td>NaN</td>\n",
       "      <td>0.309567</td>\n",
       "    </tr>\n",
       "    <tr>\n",
       "      <td>590537</td>\n",
       "      <td>15811079</td>\n",
       "      <td>30.95</td>\n",
       "      <td>0</td>\n",
       "      <td>12037</td>\n",
       "      <td>595.0</td>\n",
       "      <td>150.0</td>\n",
       "      <td>1</td>\n",
       "      <td>224.0</td>\n",
       "      <td>1</td>\n",
       "      <td>231.0</td>\n",
       "      <td>...</td>\n",
       "      <td>210.348027</td>\n",
       "      <td>0.147137</td>\n",
       "      <td>153.994609</td>\n",
       "      <td>0.200981</td>\n",
       "      <td>NaN</td>\n",
       "      <td>NaN</td>\n",
       "      <td>0.216667</td>\n",
       "      <td>0.222367</td>\n",
       "      <td>NaN</td>\n",
       "      <td>0.242560</td>\n",
       "    </tr>\n",
       "    <tr>\n",
       "      <td>590538</td>\n",
       "      <td>15811088</td>\n",
       "      <td>117.00</td>\n",
       "      <td>0</td>\n",
       "      <td>7826</td>\n",
       "      <td>481.0</td>\n",
       "      <td>150.0</td>\n",
       "      <td>1</td>\n",
       "      <td>224.0</td>\n",
       "      <td>1</td>\n",
       "      <td>387.0</td>\n",
       "      <td>...</td>\n",
       "      <td>210.348027</td>\n",
       "      <td>0.556221</td>\n",
       "      <td>153.994609</td>\n",
       "      <td>0.759767</td>\n",
       "      <td>NaN</td>\n",
       "      <td>NaN</td>\n",
       "      <td>0.719928</td>\n",
       "      <td>0.726904</td>\n",
       "      <td>NaN</td>\n",
       "      <td>0.650385</td>\n",
       "    </tr>\n",
       "    <tr>\n",
       "      <td>590539</td>\n",
       "      <td>15811131</td>\n",
       "      <td>279.95</td>\n",
       "      <td>0</td>\n",
       "      <td>15066</td>\n",
       "      <td>170.0</td>\n",
       "      <td>150.0</td>\n",
       "      <td>1</td>\n",
       "      <td>102.0</td>\n",
       "      <td>0</td>\n",
       "      <td>299.0</td>\n",
       "      <td>...</td>\n",
       "      <td>210.348027</td>\n",
       "      <td>1.330890</td>\n",
       "      <td>153.994609</td>\n",
       "      <td>1.817921</td>\n",
       "      <td>NaN</td>\n",
       "      <td>NaN</td>\n",
       "      <td>1.404302</td>\n",
       "      <td>1.509610</td>\n",
       "      <td>NaN</td>\n",
       "      <td>2.194011</td>\n",
       "    </tr>\n",
       "  </tbody>\n",
       "</table>\n",
       "<p>5 rows × 348 columns</p>\n",
       "</div>"
      ],
      "text/plain": [
       "        TransactionDT  TransactionAmt  ProductCD  card1  card2  card3  card4  \\\n",
       "590535       15811047           49.00          0   6550    NaN  150.0      2   \n",
       "590536       15811049           39.50          0  10444  225.0  150.0      1   \n",
       "590537       15811079           30.95          0  12037  595.0  150.0      1   \n",
       "590538       15811088          117.00          0   7826  481.0  150.0      1   \n",
       "590539       15811131          279.95          0  15066  170.0  150.0      1   \n",
       "\n",
       "        card5  card6  addr1  ...  pdc_hour_Amt_mean  pdc_hour_Amt_ratio  \\\n",
       "590535  226.0      1  272.0  ...         210.348027            0.232947   \n",
       "590536  224.0      1  204.0  ...         210.348027            0.187784   \n",
       "590537  224.0      1  231.0  ...         210.348027            0.147137   \n",
       "590538  224.0      1  387.0  ...         210.348027            0.556221   \n",
       "590539  102.0      0  299.0  ...         210.348027            1.330890   \n",
       "\n",
       "        pdc_month_Amt_mean  pdc_month_Amt_ratio  card_id_30_fq  card_id_31_fq  \\\n",
       "590535          153.994609             0.318193            NaN            NaN   \n",
       "590536          153.994609             0.256502            NaN            NaN   \n",
       "590537          153.994609             0.200981            NaN            NaN   \n",
       "590538          153.994609             0.759767            NaN            NaN   \n",
       "590539          153.994609             1.817921            NaN            NaN   \n",
       "\n",
       "        pdc_addr_Amt_ratio  addr_Amt_ratio  dev_Amt_ratio  pemail_Amt_ratio  \n",
       "590535            0.363135        0.371070            NaN               NaN  \n",
       "590536            0.257036        0.259945            NaN          0.309567  \n",
       "590537            0.216667        0.222367            NaN          0.242560  \n",
       "590538            0.719928        0.726904            NaN          0.650385  \n",
       "590539            1.404302        1.509610            NaN          2.194011  \n",
       "\n",
       "[5 rows x 348 columns]"
      ]
     },
     "execution_count": 47,
     "metadata": {},
     "output_type": "execute_result"
    }
   ],
   "source": [
    "features_train.tail()"
   ]
  },
  {
   "cell_type": "code",
   "execution_count": null,
   "metadata": {},
   "outputs": [],
   "source": [
    "start = time.time()\n",
    "train_set = lgb.Dataset(features_train.iloc[0:472432,:], label=labels_train.values[0:472432],categorical_feature=categorical)#\n",
    "valid_set = lgb.Dataset(features_train.iloc[472432:,:], label=labels_train.values[472432:],categorical_feature=categorical)#\n",
    "valid_results = {}\n",
    "model = lgb.train(params,train_set,num_boost_round = 10000, \n",
    "                  valid_sets = [train_set, valid_set],\n",
    "                  verbose_eval=500,\n",
    "                  early_stopping_rounds = 500,\n",
    "                  evals_result=valid_results)\n",
    "print(time.time()-start)"
   ]
  },
  {
   "cell_type": "code",
   "execution_count": null,
   "metadata": {},
   "outputs": [],
   "source": [
    "max(valid_results['valid_1']['auc'])"
   ]
  },
  {
   "cell_type": "code",
   "execution_count": null,
   "metadata": {},
   "outputs": [],
   "source": [
    "lgb.plot_importance(model, max_num_features=128,figsize=(20,15))\n",
    "#lgb.plot_split_value_histogram(model, feature='dist1', bins='auto')\n",
    "lgb.plot_metric(valid_results, metric='auc')"
   ]
  },
  {
   "cell_type": "code",
   "execution_count": null,
   "metadata": {},
   "outputs": [],
   "source": [
    "lgb.plot_tree(model,tree_index=0, figsize=(107,105))\n",
    "graph = lgb.create_tree_digraph(model, tree_index=0, name='Tree0')\n",
    "graph.render(view=True)"
   ]
  },
  {
   "cell_type": "markdown",
   "metadata": {},
   "source": [
    "# Train Model"
   ]
  },
  {
   "cell_type": "code",
   "execution_count": 48,
   "metadata": {},
   "outputs": [],
   "source": [
    "def fold_train_model(splits_num,features_train,labels_train,categorical):\n",
    "    splits = splits_num\n",
    "    folds = KFold(n_splits = splits,random_state=50)\n",
    "    predictions = np.zeros(len(features_test_new))\n",
    "    ave_auc = 0\n",
    "    \n",
    "    for fold_num, (trn_idx, val_idx) in enumerate(folds.split(features_train.values, \n",
    "                                                          labels_train.values)):\n",
    "        print(\"Fold {}\".format(fold_num))\n",
    "        train_df, y_train_df = features_train.iloc[trn_idx], labels_train.iloc[trn_idx]\n",
    "        valid_df, y_valid_df = features_train.iloc[val_idx], labels_train.iloc[val_idx]\n",
    "\n",
    "        trn_data = lgb.Dataset(train_df, label=y_train_df,categorical_feature=categorical)\n",
    "        val_data = lgb.Dataset(valid_df, label=y_valid_df,categorical_feature=categorical)\n",
    "\n",
    "        valid_results = {}\n",
    "        clf = lgb.train(params,\n",
    "                        trn_data,\n",
    "                        10000,\n",
    "                        valid_sets = [trn_data, val_data],\n",
    "                        verbose_eval=500,\n",
    "                        early_stopping_rounds=500,\n",
    "                       evals_result=valid_results)\n",
    "\n",
    "        pred = clf.predict(valid_df)\n",
    "        auc_score = roc_auc_score(y_valid_df, pred)\n",
    "        ave_auc += auc_score / splits\n",
    "        predictions += clf.predict(features_test_new) / splits\n",
    "    return ave_auc,predictions"
   ]
  },
  {
   "cell_type": "code",
   "execution_count": 33,
   "metadata": {},
   "outputs": [
    {
     "name": "stdout",
     "output_type": "stream",
     "text": [
      "Fold 0\n"
     ]
    },
    {
     "name": "stderr",
     "output_type": "stream",
     "text": [
      "/home/jinpwa/anaconda3/lib/python3.6/site-packages/lightgbm/basic.py:1247: UserWarning: Using categorical_feature in Dataset.\n",
      "  warnings.warn('Using categorical_feature in Dataset.')\n"
     ]
    },
    {
     "name": "stdout",
     "output_type": "stream",
     "text": [
      "Training until validation scores don't improve for 500 rounds.\n",
      "[500]\ttraining's auc: 0.986534\tvalid_1's auc: 0.91054\n",
      "[1000]\ttraining's auc: 0.997422\tvalid_1's auc: 0.921\n",
      "[1500]\ttraining's auc: 0.999571\tvalid_1's auc: 0.923571\n",
      "[2000]\ttraining's auc: 0.999936\tvalid_1's auc: 0.924334\n",
      "[2500]\ttraining's auc: 0.999994\tvalid_1's auc: 0.924744\n",
      "[3000]\ttraining's auc: 1\tvalid_1's auc: 0.925414\n",
      "[3500]\ttraining's auc: 1\tvalid_1's auc: 0.925751\n",
      "[4000]\ttraining's auc: 1\tvalid_1's auc: 0.926001\n",
      "[4500]\ttraining's auc: 1\tvalid_1's auc: 0.926118\n",
      "Early stopping, best iteration is:\n",
      "[4152]\ttraining's auc: 1\tvalid_1's auc: 0.926084\n",
      "Fold 1\n"
     ]
    },
    {
     "name": "stderr",
     "output_type": "stream",
     "text": [
      "/home/jinpwa/anaconda3/lib/python3.6/site-packages/lightgbm/basic.py:1247: UserWarning: Using categorical_feature in Dataset.\n",
      "  warnings.warn('Using categorical_feature in Dataset.')\n"
     ]
    },
    {
     "name": "stdout",
     "output_type": "stream",
     "text": [
      "Training until validation scores don't improve for 500 rounds.\n",
      "[500]\ttraining's auc: 0.987091\tvalid_1's auc: 0.933222\n",
      "[1000]\ttraining's auc: 0.997844\tvalid_1's auc: 0.939879\n",
      "[1500]\ttraining's auc: 0.999686\tvalid_1's auc: 0.94048\n",
      "Early stopping, best iteration is:\n",
      "[1293]\ttraining's auc: 0.999293\tvalid_1's auc: 0.940705\n",
      "Fold 2\n"
     ]
    },
    {
     "name": "stderr",
     "output_type": "stream",
     "text": [
      "/home/jinpwa/anaconda3/lib/python3.6/site-packages/lightgbm/basic.py:1247: UserWarning: Using categorical_feature in Dataset.\n",
      "  warnings.warn('Using categorical_feature in Dataset.')\n"
     ]
    },
    {
     "name": "stdout",
     "output_type": "stream",
     "text": [
      "Training until validation scores don't improve for 500 rounds.\n",
      "[500]\ttraining's auc: 0.987743\tvalid_1's auc: 0.932237\n",
      "[1000]\ttraining's auc: 0.997947\tvalid_1's auc: 0.937358\n",
      "[1500]\ttraining's auc: 0.99969\tvalid_1's auc: 0.937055\n",
      "Early stopping, best iteration is:\n",
      "[1077]\ttraining's auc: 0.998453\tvalid_1's auc: 0.937481\n",
      "Fold 3\n"
     ]
    },
    {
     "name": "stderr",
     "output_type": "stream",
     "text": [
      "/home/jinpwa/anaconda3/lib/python3.6/site-packages/lightgbm/basic.py:1247: UserWarning: Using categorical_feature in Dataset.\n",
      "  warnings.warn('Using categorical_feature in Dataset.')\n"
     ]
    },
    {
     "name": "stdout",
     "output_type": "stream",
     "text": [
      "Training until validation scores don't improve for 500 rounds.\n",
      "[500]\ttraining's auc: 0.987017\tvalid_1's auc: 0.947599\n",
      "[1000]\ttraining's auc: 0.99788\tvalid_1's auc: 0.954633\n",
      "[1500]\ttraining's auc: 0.999709\tvalid_1's auc: 0.954929\n",
      "Early stopping, best iteration is:\n",
      "[1184]\ttraining's auc: 0.99895\tvalid_1's auc: 0.955058\n",
      "Fold 4\n"
     ]
    },
    {
     "name": "stderr",
     "output_type": "stream",
     "text": [
      "/home/jinpwa/anaconda3/lib/python3.6/site-packages/lightgbm/basic.py:1247: UserWarning: Using categorical_feature in Dataset.\n",
      "  warnings.warn('Using categorical_feature in Dataset.')\n"
     ]
    },
    {
     "name": "stdout",
     "output_type": "stream",
     "text": [
      "Training until validation scores don't improve for 500 rounds.\n",
      "[500]\ttraining's auc: 0.987207\tvalid_1's auc: 0.924143\n",
      "[1000]\ttraining's auc: 0.997826\tvalid_1's auc: 0.931628\n",
      "[1500]\ttraining's auc: 0.999676\tvalid_1's auc: 0.93208\n",
      "[2000]\ttraining's auc: 0.999964\tvalid_1's auc: 0.932085\n",
      "Early stopping, best iteration is:\n",
      "[1583]\ttraining's auc: 0.999771\tvalid_1's auc: 0.932207\n"
     ]
    }
   ],
   "source": [
    "ave_auc,predictions = fold_train_model(5,features_train,labels_train,categorical)"
   ]
  },
  {
   "cell_type": "code",
   "execution_count": 34,
   "metadata": {},
   "outputs": [
    {
     "data": {
      "text/plain": [
       "0.9383068452162177"
      ]
     },
     "execution_count": 34,
     "metadata": {},
     "output_type": "execute_result"
    }
   ],
   "source": [
    "# feat440 add card_DeviceType_fq\n",
    "ave_auc"
   ]
  },
  {
   "cell_type": "code",
   "execution_count": 18,
   "metadata": {},
   "outputs": [
    {
     "data": {
      "text/plain": [
       "0.9381576015559274"
      ]
     },
     "execution_count": 18,
     "metadata": {},
     "output_type": "execute_result"
    }
   ],
   "source": [
    "# feat439 na -999\n",
    "ave_auc"
   ]
  },
  {
   "cell_type": "code",
   "execution_count": 25,
   "metadata": {},
   "outputs": [
    {
     "data": {
      "text/plain": [
       "0.9368800258774106"
      ]
     },
     "execution_count": 25,
     "metadata": {},
     "output_type": "execute_result"
    }
   ],
   "source": [
    "# feat439 num of leave 300\n",
    "ave_auc"
   ]
  },
  {
   "cell_type": "code",
   "execution_count": 16,
   "metadata": {},
   "outputs": [
    {
     "data": {
      "text/plain": [
       "0.9378605282673502"
      ]
     },
     "execution_count": 16,
     "metadata": {},
     "output_type": "execute_result"
    }
   ],
   "source": [
    "# feat439 lr 0.005\n",
    "ave_auc"
   ]
  },
  {
   "cell_type": "code",
   "execution_count": 206,
   "metadata": {},
   "outputs": [
    {
     "data": {
      "text/plain": [
       "0.9423037793396379"
      ]
     },
     "execution_count": 206,
     "metadata": {},
     "output_type": "execute_result"
    }
   ],
   "source": [
    "#feat439 6 fold\n",
    "ave_auc"
   ]
  },
  {
   "cell_type": "code",
   "execution_count": 174,
   "metadata": {},
   "outputs": [
    {
     "data": {
      "text/plain": [
       "0.9381709259349416"
      ]
     },
     "execution_count": 174,
     "metadata": {},
     "output_type": "execute_result"
    }
   ],
   "source": [
    "# feat440 add id_31_fq_enc\n",
    "ave_auc"
   ]
  },
  {
   "cell_type": "code",
   "execution_count": 159,
   "metadata": {},
   "outputs": [
    {
     "data": {
      "text/plain": [
       "0.9380367451399003"
      ]
     },
     "execution_count": 159,
     "metadata": {},
     "output_type": "execute_result"
    }
   ],
   "source": [
    "# feat440 add id_30_fq_enc\n",
    "ave_auc"
   ]
  },
  {
   "cell_type": "code",
   "execution_count": 128,
   "metadata": {},
   "outputs": [
    {
     "data": {
      "text/plain": [
       "0.9380337132311257"
      ]
     },
     "execution_count": 128,
     "metadata": {},
     "output_type": "execute_result"
    }
   ],
   "source": [
    "# feat439 change device info\n",
    "ave_auc"
   ]
  },
  {
   "cell_type": "code",
   "execution_count": 112,
   "metadata": {},
   "outputs": [
    {
     "data": {
      "text/plain": [
       "0.9382558553226678"
      ]
     },
     "execution_count": 112,
     "metadata": {},
     "output_type": "execute_result"
    }
   ],
   "source": [
    "# feat439 add card_mv_day_fq\n",
    "ave_auc"
   ]
  },
  {
   "cell_type": "code",
   "execution_count": 97,
   "metadata": {},
   "outputs": [
    {
     "data": {
      "text/plain": [
       "0.9378070966039451"
      ]
     },
     "execution_count": 97,
     "metadata": {},
     "output_type": "execute_result"
    }
   ],
   "source": [
    "# feat441 drop card4_fraud_rate and pemail fraud rate\n",
    "ave_auc"
   ]
  },
  {
   "cell_type": "code",
   "execution_count": 73,
   "metadata": {},
   "outputs": [
    {
     "data": {
      "text/plain": [
       "0.9375985902362556"
      ]
     },
     "execution_count": 73,
     "metadata": {},
     "output_type": "execute_result"
    }
   ],
   "source": [
    "# feat441 drop feat437_rm_pm_importance100 drop hour amt and card4_fraud_rate\n",
    "ave_auc"
   ]
  },
  {
   "cell_type": "code",
   "execution_count": 61,
   "metadata": {},
   "outputs": [
    {
     "data": {
      "text/plain": [
       "0.9375681374967423"
      ]
     },
     "execution_count": 61,
     "metadata": {},
     "output_type": "execute_result"
    }
   ],
   "source": [
    "# feat441 drop feat437_rm_pm_importance100 drop hour amt\n",
    "ave_auc"
   ]
  },
  {
   "cell_type": "code",
   "execution_count": 46,
   "metadata": {},
   "outputs": [
    {
     "data": {
      "text/plain": [
       "0.9375681381106405"
      ]
     },
     "execution_count": 46,
     "metadata": {},
     "output_type": "execute_result"
    }
   ],
   "source": [
    "# feat441 drop feat437_rm_pm_importance100 \n",
    "ave_auc"
   ]
  },
  {
   "cell_type": "code",
   "execution_count": 17,
   "metadata": {},
   "outputs": [
    {
     "data": {
      "text/plain": [
       "0.9378057475398072"
      ]
     },
     "execution_count": 17,
     "metadata": {},
     "output_type": "execute_result"
    }
   ],
   "source": [
    "# feat438 add addr1 cnt drop feat437_rm_pm_importance100\n",
    "ave_auc"
   ]
  },
  {
   "cell_type": "code",
   "execution_count": 34,
   "metadata": {},
   "outputs": [
    {
     "data": {
      "text/plain": [
       "0.9372995256863785"
      ]
     },
     "execution_count": 34,
     "metadata": {},
     "output_type": "execute_result"
    }
   ],
   "source": [
    "# feat437 add card1 cnt drop feat437_rm_pm_importance100\n",
    "ave_auc"
   ]
  },
  {
   "cell_type": "code",
   "execution_count": 17,
   "metadata": {},
   "outputs": [
    {
     "data": {
      "text/plain": [
       "0.9347757078114228"
      ]
     },
     "execution_count": 17,
     "metadata": {},
     "output_type": "execute_result"
    }
   ],
   "source": [
    "# feat437 add card1 cnt drop transactionDT\n",
    "ave_auc"
   ]
  },
  {
   "cell_type": "code",
   "execution_count": 68,
   "metadata": {},
   "outputs": [
    {
     "data": {
      "text/plain": [
       "0.9371691266159269"
      ]
     },
     "execution_count": 68,
     "metadata": {},
     "output_type": "execute_result"
    }
   ],
   "source": [
    "# feat437 add card1 cnt\n",
    "ave_auc"
   ]
  },
  {
   "cell_type": "code",
   "execution_count": 33,
   "metadata": {},
   "outputs": [
    {
     "data": {
      "text/plain": [
       "0.9360835858343227"
      ]
     },
     "execution_count": 33,
     "metadata": {},
     "output_type": "execute_result"
    }
   ],
   "source": [
    "# feat436 add pdc amt ratio\n",
    "ave_auc"
   ]
  },
  {
   "cell_type": "code",
   "execution_count": 31,
   "metadata": {},
   "outputs": [
    {
     "data": {
      "text/plain": [
       "0.9320555176749314"
      ]
     },
     "execution_count": 31,
     "metadata": {},
     "output_type": "execute_result"
    }
   ],
   "source": [
    "# feat457 drop Vfeature\n",
    "ave_auc"
   ]
  },
  {
   "cell_type": "code",
   "execution_count": 16,
   "metadata": {},
   "outputs": [
    {
     "data": {
      "text/plain": [
       "0.9354828335082059"
      ]
     },
     "execution_count": 16,
     "metadata": {},
     "output_type": "execute_result"
    }
   ],
   "source": [
    "# feat 457 drop c8\n",
    "ave_auc"
   ]
  },
  {
   "cell_type": "code",
   "execution_count": 19,
   "metadata": {},
   "outputs": [
    {
     "data": {
      "text/plain": [
       "0.9352800271384787"
      ]
     },
     "execution_count": 19,
     "metadata": {},
     "output_type": "execute_result"
    }
   ],
   "source": [
    "# feat 457 all features\n",
    "ave_auc"
   ]
  },
  {
   "cell_type": "code",
   "execution_count": 35,
   "metadata": {},
   "outputs": [],
   "source": [
    "id_test = features_test['TransactionID']\n",
    "submission = pd.DataFrame({'TransactionID': id_test, \n",
    "                            'isFraud': predictions})\n",
    "submission.to_csv('./data/sub_feat%s_drop100_%s.csv'%(feat_num,'DeviceType_fq'), index = False)\n",
    "#submission.to_csv('./data/sub_feat%s_drop100.csv'%(feat_num), index = False)\n"
   ]
  },
  {
   "cell_type": "markdown",
   "metadata": {},
   "source": [
    "# Recursive Test"
   ]
  },
  {
   "cell_type": "code",
   "execution_count": 50,
   "metadata": {},
   "outputs": [
    {
     "data": {
      "text/html": [
       "<div>\n",
       "<style scoped>\n",
       "    .dataframe tbody tr th:only-of-type {\n",
       "        vertical-align: middle;\n",
       "    }\n",
       "\n",
       "    .dataframe tbody tr th {\n",
       "        vertical-align: top;\n",
       "    }\n",
       "\n",
       "    .dataframe thead th {\n",
       "        text-align: right;\n",
       "    }\n",
       "</style>\n",
       "<table border=\"1\" class=\"dataframe\">\n",
       "  <thead>\n",
       "    <tr style=\"text-align: right;\">\n",
       "      <th></th>\n",
       "      <th>card_DeviceType_fq</th>\n",
       "      <th>pdc_hour_Amt_mean</th>\n",
       "      <th>pdc_hour_Amt_ratio</th>\n",
       "      <th>pdc_month_Amt_mean</th>\n",
       "      <th>pdc_month_Amt_ratio</th>\n",
       "      <th>card_id_30_fq</th>\n",
       "      <th>card_id_31_fq</th>\n",
       "      <th>pdc_addr_Amt_ratio</th>\n",
       "      <th>addr_Amt_ratio</th>\n",
       "      <th>dev_Amt_ratio</th>\n",
       "    </tr>\n",
       "  </thead>\n",
       "  <tbody>\n",
       "    <tr>\n",
       "      <td>0</td>\n",
       "      <td>NaN</td>\n",
       "      <td>248.961084</td>\n",
       "      <td>0.275143</td>\n",
       "      <td>151.395914</td>\n",
       "      <td>0.452456</td>\n",
       "      <td>NaN</td>\n",
       "      <td>NaN</td>\n",
       "      <td>0.499882</td>\n",
       "      <td>0.505295</td>\n",
       "      <td>NaN</td>\n",
       "    </tr>\n",
       "    <tr>\n",
       "      <td>1</td>\n",
       "      <td>NaN</td>\n",
       "      <td>248.961084</td>\n",
       "      <td>0.116484</td>\n",
       "      <td>151.395914</td>\n",
       "      <td>0.191551</td>\n",
       "      <td>NaN</td>\n",
       "      <td>NaN</td>\n",
       "      <td>0.175652</td>\n",
       "      <td>0.182692</td>\n",
       "      <td>NaN</td>\n",
       "    </tr>\n",
       "    <tr>\n",
       "      <td>2</td>\n",
       "      <td>NaN</td>\n",
       "      <td>248.961084</td>\n",
       "      <td>0.236985</td>\n",
       "      <td>151.395914</td>\n",
       "      <td>0.389707</td>\n",
       "      <td>NaN</td>\n",
       "      <td>NaN</td>\n",
       "      <td>0.393093</td>\n",
       "      <td>0.446788</td>\n",
       "      <td>NaN</td>\n",
       "    </tr>\n",
       "    <tr>\n",
       "      <td>3</td>\n",
       "      <td>NaN</td>\n",
       "      <td>248.961084</td>\n",
       "      <td>0.200835</td>\n",
       "      <td>151.395914</td>\n",
       "      <td>0.330260</td>\n",
       "      <td>NaN</td>\n",
       "      <td>NaN</td>\n",
       "      <td>0.355220</td>\n",
       "      <td>0.363424</td>\n",
       "      <td>NaN</td>\n",
       "    </tr>\n",
       "    <tr>\n",
       "      <td>4</td>\n",
       "      <td>1.0</td>\n",
       "      <td>75.840000</td>\n",
       "      <td>0.659283</td>\n",
       "      <td>69.407541</td>\n",
       "      <td>0.720383</td>\n",
       "      <td>1.0</td>\n",
       "      <td>1.0</td>\n",
       "      <td>0.737484</td>\n",
       "      <td>0.299817</td>\n",
       "      <td>0.737964</td>\n",
       "    </tr>\n",
       "  </tbody>\n",
       "</table>\n",
       "</div>"
      ],
      "text/plain": [
       "   card_DeviceType_fq  pdc_hour_Amt_mean  pdc_hour_Amt_ratio  \\\n",
       "0                 NaN         248.961084            0.275143   \n",
       "1                 NaN         248.961084            0.116484   \n",
       "2                 NaN         248.961084            0.236985   \n",
       "3                 NaN         248.961084            0.200835   \n",
       "4                 1.0          75.840000            0.659283   \n",
       "\n",
       "   pdc_month_Amt_mean  pdc_month_Amt_ratio  card_id_30_fq  card_id_31_fq  \\\n",
       "0          151.395914             0.452456            NaN            NaN   \n",
       "1          151.395914             0.191551            NaN            NaN   \n",
       "2          151.395914             0.389707            NaN            NaN   \n",
       "3          151.395914             0.330260            NaN            NaN   \n",
       "4           69.407541             0.720383            1.0            1.0   \n",
       "\n",
       "   pdc_addr_Amt_ratio  addr_Amt_ratio  dev_Amt_ratio  \n",
       "0            0.499882        0.505295            NaN  \n",
       "1            0.175652        0.182692            NaN  \n",
       "2            0.393093        0.446788            NaN  \n",
       "3            0.355220        0.363424            NaN  \n",
       "4            0.737484        0.299817       0.737964  "
      ]
     },
     "execution_count": 50,
     "metadata": {},
     "output_type": "execute_result"
    }
   ],
   "source": [
    "features_train.iloc[:,-11:-1].head()"
   ]
  },
  {
   "cell_type": "code",
   "execution_count": null,
   "metadata": {},
   "outputs": [
    {
     "name": "stdout",
     "output_type": "stream",
     "text": [
      "pdc_hour_Amt_mean\n",
      "(590540, 340)\n",
      "Fold 0\n"
     ]
    },
    {
     "name": "stderr",
     "output_type": "stream",
     "text": [
      "/home/jinpwa/anaconda3/lib/python3.6/site-packages/lightgbm/basic.py:1247: UserWarning: Using categorical_feature in Dataset.\n",
      "  warnings.warn('Using categorical_feature in Dataset.')\n"
     ]
    },
    {
     "name": "stdout",
     "output_type": "stream",
     "text": [
      "Training until validation scores don't improve for 500 rounds.\n"
     ]
    }
   ],
   "source": [
    "to_drop = {'pdc_hour_Amt_mean','pdc_hour_Amt_ratio',\n",
    "          'pdc_month_Amt_mean','pdc_month_Amt_ratio','card_id_30_fq',\n",
    "          'card_id_31_fq','pdc_addr_Amt_ratio','addr_Amt_ratio','dev_Amt_ratio'}\n",
    "\n",
    "result = []\n",
    "for col in to_drop:\n",
    "    print(col)\n",
    "    to_drop_temp = list(to_drop - set([col]))\n",
    "    features_train_temp = features_train.drop(to_drop_temp,axis=1)\n",
    "    print(features_train_temp.shape)\n",
    "    categorical_temp = list(set(categorical).intersection(features_train_temp.columns))\n",
    "    ave_auc,predictions = fold_train_model(5,features_train_temp,labels_train,categorical_temp)\n",
    "    print(ave_auc)\n",
    "    id_test = features_test['TransactionID']\n",
    "    submission = pd.DataFrame({'TransactionID': id_test, \n",
    "                            'isFraud': predictions})\n",
    "    submission.to_csv('./data/sub_feat%s_drop100_%s.csv'%(feat_num,col), index = False)\n",
    "    result.append([col,ave_auc])"
   ]
  },
  {
   "cell_type": "code",
   "execution_count": 17,
   "metadata": {},
   "outputs": [
    {
     "data": {
      "text/plain": [
       "[['card_DeviceInfo_fq', 0.938143843412518],\n",
       " ['card_DeviceType_fq', 0.9383068452162177],\n",
       " ['card_screen_width_fq', 0.9381135438426036]]"
      ]
     },
     "execution_count": 17,
     "metadata": {},
     "output_type": "execute_result"
    }
   ],
   "source": [
    "result"
   ]
  },
  {
   "cell_type": "code",
   "execution_count": 191,
   "metadata": {},
   "outputs": [
    {
     "data": {
      "text/plain": [
       "[['card5_Amt_ratio', 0.9378145865335745],\n",
       " ['DT_day_Amt_ratio', 0.9378640126104663],\n",
       " ['card4_Amt_ratio', 0.937709725015683],\n",
       " ['card2_Amt_ratio', 0.937458223863788],\n",
       " ['DT_month_Amt_ratio', 0.9377889434647904],\n",
       " ['card6_Amt_ratio', 0.937863676290689],\n",
       " ['DT_hour_Amt_ratio', 0.9377024436406989],\n",
       " ['card3_Amt_ratio', 0.9376937326146639],\n",
       " ['DT_year_Amt_ratio', 0.9379433974493159]]"
      ]
     },
     "execution_count": 191,
     "metadata": {},
     "output_type": "execute_result"
    }
   ],
   "source": [
    "#'DT_hour_Amt_ratio','DT_day_Amt_ratio','DT_month_Amt_ratio',\n",
    "#           'DT_year_Amt_ratio','card2_Amt_ratio',\n",
    "#          'card3_Amt_ratio','card4_Amt_ratio','card5_Amt_ratio','card6_Amt_ratio'\n",
    "result"
   ]
  }
 ],
 "metadata": {
  "kernelspec": {
   "display_name": "Python 3",
   "language": "python",
   "name": "python3"
  },
  "language_info": {
   "codemirror_mode": {
    "name": "ipython",
    "version": 3
   },
   "file_extension": ".py",
   "mimetype": "text/x-python",
   "name": "python",
   "nbconvert_exporter": "python",
   "pygments_lexer": "ipython3",
   "version": "3.6.5"
  }
 },
 "nbformat": 4,
 "nbformat_minor": 2
}
