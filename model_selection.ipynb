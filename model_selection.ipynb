{
 "cells": [
  {
   "cell_type": "code",
   "execution_count": 45,
   "metadata": {},
   "outputs": [],
   "source": [
    "# import packages\n",
    "import numpy as np\n",
    "import pandas as pd\n",
    "import matplotlib.pyplot as plt\n",
    "import featuretools as ft\n",
    "import lightgbm as lgb\n",
    "import seaborn as sns\n",
    "from sklearn.model_selection import GridSearchCV\n",
    "from sklearn.model_selection import KFold\n",
    "from sklearn.metrics import roc_auc_score\n",
    "\n",
    "%matplotlib inline\n",
    "RSEED = 50"
   ]
  },
  {
   "cell_type": "markdown",
   "metadata": {},
   "source": [
    "# Load Original Features"
   ]
  },
  {
   "cell_type": "code",
   "execution_count": 66,
   "metadata": {},
   "outputs": [],
   "source": [
    "feat_num = 448"
   ]
  },
  {
   "cell_type": "code",
   "execution_count": 67,
   "metadata": {},
   "outputs": [],
   "source": [
    "df_total = pd.read_csv('./data/features%s.csv'%(feat_num))"
   ]
  },
  {
   "cell_type": "code",
   "execution_count": 68,
   "metadata": {},
   "outputs": [],
   "source": [
    "features_train = df_total[df_total['isFraud'].notnull()]\n",
    "features_test = df_total[df_total['isFraud'].isnull()]"
   ]
  },
  {
   "cell_type": "code",
   "execution_count": 69,
   "metadata": {},
   "outputs": [],
   "source": [
    "labels_train = features_train['isFraud']\n",
    "features_train = features_train.drop(columns = ['isFraud', 'TransactionID'])"
   ]
  },
  {
   "cell_type": "code",
   "execution_count": 70,
   "metadata": {},
   "outputs": [
    {
     "data": {
      "text/plain": [
       "(590540, 446)"
      ]
     },
     "execution_count": 70,
     "metadata": {},
     "output_type": "execute_result"
    }
   ],
   "source": [
    "features_train.shape"
   ]
  },
  {
   "cell_type": "markdown",
   "metadata": {},
   "source": [
    "# Prepare model"
   ]
  },
  {
   "cell_type": "code",
   "execution_count": 71,
   "metadata": {},
   "outputs": [],
   "source": [
    "categorical = ['ProductCD', 'card1', 'card2', 'card3', 'card4', 'card5','card6',\n",
    "              'addr1','addr2','P_emaildomain','R_emaildomain','M1','M2','M3',\n",
    "              'M4','M5','M6','M7','M8','M9','DeviceType','DeviceInfo','dow','hour',\n",
    "              'card_id']\n",
    "ids = [ 'id_%s'%(i) for i in range(12,39)]\n",
    "categorical = categorical + ids"
   ]
  },
  {
   "cell_type": "code",
   "execution_count": 72,
   "metadata": {},
   "outputs": [],
   "source": [
    "categorical = list(set(categorical).intersection(df_total.columns))"
   ]
  },
  {
   "cell_type": "code",
   "execution_count": 73,
   "metadata": {},
   "outputs": [],
   "source": [
    "features_test_new = features_test.drop(columns = ['isFraud', 'TransactionID'])"
   ]
  },
  {
   "cell_type": "code",
   "execution_count": 74,
   "metadata": {},
   "outputs": [],
   "source": [
    "params = {'num_leaves': 491,\n",
    "          'min_child_weight': 0.03454472573214212,\n",
    "          'feature_fraction': 0.3797454081646243,\n",
    "          'bagging_fraction': 0.4181193142567742,\n",
    "          'min_data_in_leaf': 106,\n",
    "          'objective': 'binary',\n",
    "          'max_depth': -1,\n",
    "          'learning_rate': 0.006883242363721497,\n",
    "          \"boosting_type\": \"gbdt\",\n",
    "          \"bagging_seed\": 11,\n",
    "          \"metric\": 'auc',\n",
    "          \"verbosity\": -1,\n",
    "          'reg_alpha': 0.3899927210061127,\n",
    "          'reg_lambda': 0.6485237330340494,\n",
    "          'random_state': 47\n",
    "         }"
   ]
  },
  {
   "cell_type": "markdown",
   "metadata": {},
   "source": [
    "# Feature Selection"
   ]
  },
  {
   "cell_type": "code",
   "execution_count": 32,
   "metadata": {},
   "outputs": [
    {
     "name": "stderr",
     "output_type": "stream",
     "text": [
      "/home/jinpwa/anaconda3/lib/python3.6/site-packages/lightgbm/basic.py:1205: UserWarning: Using categorical_feature in Dataset.\n",
      "  warnings.warn('Using categorical_feature in Dataset.')\n"
     ]
    },
    {
     "name": "stdout",
     "output_type": "stream",
     "text": [
      "Cross Validation ROC AUC: 0.97749 with std: 0.00186.\n"
     ]
    }
   ],
   "source": [
    "train_set = lgb.Dataset(features_train, label=labels_train.values,\n",
    "                       categorical_feature=categorical)\n",
    "cv_results = lgb.cv(params, train_set, num_boost_round = 10000, metrics = 'auc',\n",
    "                        early_stopping_rounds = 500, seed = RSEED, nfold = 5)\n",
    "print('Cross Validation ROC AUC: {:.5f} with std: {:.5f}.'.format(cv_results['auc-mean'][-1],\n",
    "                                                                               cv_results['auc-stdv'][-1]))\n"
   ]
  },
  {
   "cell_type": "code",
   "execution_count": 33,
   "metadata": {},
   "outputs": [],
   "source": [
    "model = lgb.LGBMClassifier(n_estimators = len(cv_results['auc-mean']), random_state=RSEED,scale_pos_weight=9)\n",
    "model.fit(features_train, labels_train.values)\n",
    "fi = pd.DataFrame({'feature': features_train.columns, \n",
    "                   'importance': model.feature_importances_})\n",
    "fi = fi.sort_values('importance', ascending = False)"
   ]
  },
  {
   "cell_type": "code",
   "execution_count": 34,
   "metadata": {},
   "outputs": [
    {
     "data": {
      "text/plain": [
       "Text(0.5,1,'LGB Features (avg over folds)')"
      ]
     },
     "execution_count": 34,
     "metadata": {},
     "output_type": "execute_result"
    },
    {
     "data": {
      "image/png": "[encoded data removed]",
      "text/plain": [
       "<Figure size 1080x720 with 1 Axes>"
      ]
     },
     "metadata": {},
     "output_type": "display_data"
    }
   ],
   "source": [
    "f, ax = plt.subplots(figsize=(15, 10))\n",
    "sns.barplot(x=\"importance\", y=\"feature\", data=fi.iloc[0:50,:])\n",
    "plt.title('LGB Features (avg over folds)')"
   ]
  },
  {
   "cell_type": "code",
   "execution_count": 75,
   "metadata": {},
   "outputs": [],
   "source": [
    "fi_important = fi.iloc[0:200,:]\n",
    "features_train = features_train[fi_important.feature]\n",
    "features_test_new = features_test[fi_important.feature]\n",
    "categorical = list(set(categorical).intersection(fi_important.feature))"
   ]
  },
  {
   "cell_type": "markdown",
   "metadata": {},
   "source": [
    "# Train Model"
   ]
  },
  {
   "cell_type": "code",
   "execution_count": 76,
   "metadata": {},
   "outputs": [],
   "source": [
    "splits = 5\n",
    "folds = KFold(n_splits = splits,random_state=RSEED)\n",
    "predictions = np.zeros(len(features_test_new))"
   ]
  },
  {
   "cell_type": "code",
   "execution_count": 77,
   "metadata": {},
   "outputs": [
    {
     "name": "stdout",
     "output_type": "stream",
     "text": [
      "Fold 0\n"
     ]
    },
    {
     "name": "stderr",
     "output_type": "stream",
     "text": [
      "/home/jinpwa/anaconda3/lib/python3.6/site-packages/lightgbm/basic.py:1205: UserWarning: Using categorical_feature in Dataset.\n",
      "  warnings.warn('Using categorical_feature in Dataset.')\n",
      "/home/jinpwa/anaconda3/lib/python3.6/site-packages/lightgbm/basic.py:762: UserWarning: categorical_feature in param dict is overridden.\n",
      "  warnings.warn('categorical_feature in param dict is overridden.')\n"
     ]
    },
    {
     "name": "stdout",
     "output_type": "stream",
     "text": [
      "Training until validation scores don't improve for 500 rounds.\n",
      "[500]\ttraining's auc: 0.991976\tvalid_1's auc: 0.899139\n",
      "[1000]\ttraining's auc: 0.999076\tvalid_1's auc: 0.907204\n",
      "[1500]\ttraining's auc: 0.999927\tvalid_1's auc: 0.910595\n",
      "[2000]\ttraining's auc: 0.999997\tvalid_1's auc: 0.913017\n",
      "[2500]\ttraining's auc: 1\tvalid_1's auc: 0.914405\n",
      "[3000]\ttraining's auc: 1\tvalid_1's auc: 0.915164\n",
      "[3500]\ttraining's auc: 1\tvalid_1's auc: 0.915616\n",
      "Early stopping, best iteration is:\n",
      "[3083]\ttraining's auc: 1\tvalid_1's auc: 0.915321\n",
      "  auc =  0.9153214837972691\n",
      "Fold 1\n"
     ]
    },
    {
     "name": "stderr",
     "output_type": "stream",
     "text": [
      "/home/jinpwa/anaconda3/lib/python3.6/site-packages/lightgbm/basic.py:1205: UserWarning: Using categorical_feature in Dataset.\n",
      "  warnings.warn('Using categorical_feature in Dataset.')\n",
      "/home/jinpwa/anaconda3/lib/python3.6/site-packages/lightgbm/basic.py:762: UserWarning: categorical_feature in param dict is overridden.\n",
      "  warnings.warn('categorical_feature in param dict is overridden.')\n"
     ]
    },
    {
     "name": "stdout",
     "output_type": "stream",
     "text": [
      "Training until validation scores don't improve for 500 rounds.\n",
      "[500]\ttraining's auc: 0.992667\tvalid_1's auc: 0.931808\n",
      "[1000]\ttraining's auc: 0.999282\tvalid_1's auc: 0.934038\n",
      "[1500]\ttraining's auc: 0.99996\tvalid_1's auc: 0.934106\n",
      "Early stopping, best iteration is:\n",
      "[1210]\ttraining's auc: 0.999768\tvalid_1's auc: 0.934391\n",
      "  auc =  0.9343912174787046\n",
      "Fold 2\n"
     ]
    },
    {
     "name": "stderr",
     "output_type": "stream",
     "text": [
      "/home/jinpwa/anaconda3/lib/python3.6/site-packages/lightgbm/basic.py:1205: UserWarning: Using categorical_feature in Dataset.\n",
      "  warnings.warn('Using categorical_feature in Dataset.')\n",
      "/home/jinpwa/anaconda3/lib/python3.6/site-packages/lightgbm/basic.py:762: UserWarning: categorical_feature in param dict is overridden.\n",
      "  warnings.warn('categorical_feature in param dict is overridden.')\n"
     ]
    },
    {
     "name": "stdout",
     "output_type": "stream",
     "text": [
      "Training until validation scores don't improve for 500 rounds.\n",
      "[500]\ttraining's auc: 0.99301\tvalid_1's auc: 0.92903\n",
      "[1000]\ttraining's auc: 0.99931\tvalid_1's auc: 0.930345\n",
      "Early stopping, best iteration is:\n",
      "[884]\ttraining's auc: 0.998781\tvalid_1's auc: 0.930538\n",
      "  auc =  0.9305377090420976\n",
      "Fold 3\n"
     ]
    },
    {
     "name": "stderr",
     "output_type": "stream",
     "text": [
      "/home/jinpwa/anaconda3/lib/python3.6/site-packages/lightgbm/basic.py:1205: UserWarning: Using categorical_feature in Dataset.\n",
      "  warnings.warn('Using categorical_feature in Dataset.')\n",
      "/home/jinpwa/anaconda3/lib/python3.6/site-packages/lightgbm/basic.py:762: UserWarning: categorical_feature in param dict is overridden.\n",
      "  warnings.warn('categorical_feature in param dict is overridden.')\n"
     ]
    },
    {
     "name": "stdout",
     "output_type": "stream",
     "text": [
      "Training until validation scores don't improve for 500 rounds.\n",
      "[500]\ttraining's auc: 0.992691\tvalid_1's auc: 0.945815\n",
      "[1000]\ttraining's auc: 0.999311\tvalid_1's auc: 0.948738\n",
      "[1500]\ttraining's auc: 0.999958\tvalid_1's auc: 0.949132\n",
      "[2000]\ttraining's auc: 0.999998\tvalid_1's auc: 0.949208\n",
      "[2500]\ttraining's auc: 1\tvalid_1's auc: 0.949121\n",
      "Early stopping, best iteration is:\n",
      "[2027]\ttraining's auc: 0.999999\tvalid_1's auc: 0.949245\n",
      "  auc =  0.9492453650122896\n",
      "Fold 4\n"
     ]
    },
    {
     "name": "stderr",
     "output_type": "stream",
     "text": [
      "/home/jinpwa/anaconda3/lib/python3.6/site-packages/lightgbm/basic.py:1205: UserWarning: Using categorical_feature in Dataset.\n",
      "  warnings.warn('Using categorical_feature in Dataset.')\n",
      "/home/jinpwa/anaconda3/lib/python3.6/site-packages/lightgbm/basic.py:762: UserWarning: categorical_feature in param dict is overridden.\n",
      "  warnings.warn('categorical_feature in param dict is overridden.')\n"
     ]
    },
    {
     "name": "stdout",
     "output_type": "stream",
     "text": [
      "Training until validation scores don't improve for 500 rounds.\n",
      "[500]\ttraining's auc: 0.992776\tvalid_1's auc: 0.920728\n",
      "[1000]\ttraining's auc: 0.999274\tvalid_1's auc: 0.924493\n",
      "[1500]\ttraining's auc: 0.999955\tvalid_1's auc: 0.925242\n",
      "[2000]\ttraining's auc: 0.999999\tvalid_1's auc: 0.92571\n",
      "[2500]\ttraining's auc: 1\tvalid_1's auc: 0.925677\n",
      "Early stopping, best iteration is:\n",
      "[2141]\ttraining's auc: 1\tvalid_1's auc: 0.925817\n",
      "  auc =  0.9258166553757261\n"
     ]
    }
   ],
   "source": [
    "for fold_num, (trn_idx, val_idx) in enumerate(folds.split(features_train.values, \n",
    "                                                          labels_train.values)):\n",
    "    print(\"Fold {}\".format(fold_num))\n",
    "    train_df, y_train_df = features_train.iloc[trn_idx], labels_train.iloc[trn_idx]\n",
    "    valid_df, y_valid_df = features_train.iloc[val_idx], labels_train.iloc[val_idx]\n",
    "    \n",
    "    trn_data = lgb.Dataset(train_df, label=y_train_df,categorical_feature=categorical)\n",
    "    val_data = lgb.Dataset(valid_df, label=y_valid_df,categorical_feature=categorical)\n",
    "    \n",
    "    clf = lgb.train(params,\n",
    "                    trn_data,\n",
    "                    10000,\n",
    "                    valid_sets = [trn_data, val_data],\n",
    "                    verbose_eval=500,\n",
    "                    early_stopping_rounds=500)\n",
    "\n",
    "    pred = clf.predict(valid_df)\n",
    "    print( \"  auc = \", roc_auc_score(y_valid_df, pred) )\n",
    "    predictions += clf.predict(features_test_new) / splits"
   ]
  },
  {
   "cell_type": "code",
   "execution_count": 78,
   "metadata": {},
   "outputs": [],
   "source": [
    "id_test = features_test['TransactionID']\n",
    "submission = pd.DataFrame({'TransactionID': id_test, \n",
    "                            'isFraud': predictions})\n",
    "submission.to_csv('./data/sub_feat%s_top200_modelselect.csv'%(feat_num), index = False)"
   ]
  }
 ],
 "metadata": {
  "kernelspec": {
   "display_name": "Python 3",
   "language": "python",
   "name": "python3"
  },
  "language_info": {
   "codemirror_mode": {
    "name": "ipython",
    "version": 3
   },
   "file_extension": ".py",
   "mimetype": "text/x-python",
   "name": "python",
   "nbconvert_exporter": "python",
   "pygments_lexer": "ipython3",
   "version": "3.6.5"
  }
 },
 "nbformat": 4,
 "nbformat_minor": 2
}
